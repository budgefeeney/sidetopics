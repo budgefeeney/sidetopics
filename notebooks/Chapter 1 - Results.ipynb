{
 "cells": [
  {
   "cell_type": "markdown",
   "metadata": {},
   "source": [
    "# Chapter 1 Results\n",
    "\n",
    "**Objective:** Basic illustrative statistics to demonstrate the background.\n",
    "\n",
    "**Method**: Using LDA/Gibbs, LDA/VB, LDA/CVB MoM/Gibbs and MoM/VB demonstrate how well topic models work. Using LDA/VB and HDP demonstrate how well HDP finds ideal topic amounts. Using LDA/VB and online LDA (just use the version [packaged with sklearn](https://scikit-learn.org/stable/modules/generated/sklearn.decomposition.LatentDirichletAllocation.html) demonstrate how online learning helps expedite learning on fast datasets. Using LDA and MoM on Reuters and 20News, use labels to demonstrate other evaluation metrics."
   ]
  },
  {
   "cell_type": "markdown",
   "metadata": {},
   "source": [
    "# Prelude"
   ]
  },
  {
   "cell_type": "markdown",
   "metadata": {},
   "source": [
    "## Imports"
   ]
  },
  {
   "cell_type": "code",
   "execution_count": null,
   "metadata": {},
   "outputs": [],
   "source": [
    "import numpy as np\n",
    "import numpy.random as rd\n",
    "import scipy as sp\n",
    "import scipy.stats as stats\n",
    "import pathlib\n",
    "import os\n",
    "import sys\n",
    "from IPython.display import display, Markdown"
   ]
  },
  {
   "cell_type": "code",
   "execution_count": null,
   "metadata": {},
   "outputs": [],
   "source": [
    "sys.path.append(str(pathlib.Path.cwd().parent))"
   ]
  },
  {
   "cell_type": "code",
   "execution_count": null,
   "metadata": {},
   "outputs": [],
   "source": [
    "from sidetopics.model.common import DataSet\n"
   ]
  },
  {
   "cell_type": "markdown",
   "metadata": {},
   "source": [
    "## Configuration"
   ]
  },
  {
   "cell_type": "code",
   "execution_count": null,
   "metadata": {},
   "outputs": [],
   "source": [
    "DATASET_DIR = pathlib.Path('/') / 'Volumes' / 'DatasetSSD'\n",
    "CLEAN_DATASET_DIR = DATASET_DIR / 'words-only'\n",
    "\n",
    "T20_NEWS_DIR = CLEAN_DATASET_DIR / '20news4'\n",
    "NIPS_DIR = CLEAN_DATASET_DIR / 'nips'\n",
    "REUTERS_DIR = CLEAN_DATASET_DIR / 'reuters'\n",
    "\n",
    "TRUMP_WEEKS_DIR = DATASET_DIR / 'TrumpDb'\n",
    "NUS_WIDE_DIR = DATASET_DIR / 'NusWide'\n",
    "\n",
    "CITHEP_DATASET_DIR = DATASET_DIR / 'Arxiv'\n",
    "ACL_DATASET_DIR = DATASET_DIR / 'ACL' / 'ACL.100.clean'"
   ]
  },
  {
   "cell_type": "code",
   "execution_count": null,
   "metadata": {},
   "outputs": [],
   "source": [
    "DTYPE = np.float32"
   ]
  },
  {
   "cell_type": "markdown",
   "metadata": {},
   "source": [
    "# DataSet Load"
   ]
  },
  {
   "cell_type": "code",
   "execution_count": null,
   "metadata": {},
   "outputs": [],
   "source": [
    "t20_news = DataSet.from_files(words_file=T20_NEWS_DIR / 'words.pkl')\n",
    "reuters = DataSet.from_files(words_file=REUTERS_DIR / 'words.pkl')\n",
    "acl = DataSet.from_files(words_file=ACL_DATASET_DIR / 'words.pkl')\n",
    "arxiv = DataSet.from_files(words_file=CITHEP_DATASET_DIR / 'words.pkl')\n",
    "nips = DataSet.from_files(words_file=NIPS_DIR / 'words.pkl')"
   ]
  },
  {
   "cell_type": "code",
   "execution_count": null,
   "metadata": {},
   "outputs": [],
   "source": [
    "t20_news.convert_to_dtype(DTYPE)\n",
    "reuters.convert_to_dtype(DTYPE)\n",
    "acl.convert_to_dtype(DTYPE)\n",
    "arxiv.convert_to_dtype(DTYPE)\n",
    "nips.convert_to_dtype(DTYPE)"
   ]
  },
  {
   "cell_type": "code",
   "execution_count": null,
   "metadata": {},
   "outputs": [],
   "source": [
    "display(Markdown(f\"\"\"\n",
    "\n",
    "| Dataset | Document Count | Total Words | Vocabulary Size |\n",
    "| ------- | -------------- | ----------- | --------------- |\n",
    "| 20-News | {t20_news.doc_count:,} | {int(t20_news.word_count):,} | {t20_news.words.shape[1]} |\n",
    "| Reuters | {reuters.doc_count:,} | {int(reuters.word_count):,} | {reuters.words.shape[1]} |\n",
    "| NIPS | {nips.doc_count:,} | {int(nips.word_count):,} | {nips.words.shape[1]} |\n",
    "| ACL | {acl.doc_count:,} | {int(acl.word_count):,} | {acl.words.shape[1]} |\n",
    "| Arxiv | {arxiv.doc_count:,} | {int(arxiv.word_count):,} | {arxiv.words.shape[1]} |\n",
    "\n",
    "\"\"\"))"
   ]
  },
  {
   "cell_type": "markdown",
   "metadata": {},
   "source": [
    "# Issue 1: MoM vs LDA"
   ]
  },
  {
   "cell_type": "code",
   "execution_count": null,
   "metadata": {},
   "outputs": [],
   "source": []
  }
 ],
 "metadata": {
  "kernelspec": {
   "display_name": "Python 3",
   "language": "python",
   "name": "python3"
  },
  "language_info": {
   "codemirror_mode": {
    "name": "ipython",
    "version": 3
   },
   "file_extension": ".py",
   "mimetype": "text/x-python",
   "name": "python",
   "nbconvert_exporter": "python",
   "pygments_lexer": "ipython3",
   "version": "3.7.3"
  }
 },
 "nbformat": 4,
 "nbformat_minor": 4
}
