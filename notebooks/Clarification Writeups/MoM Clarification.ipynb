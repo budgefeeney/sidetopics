{
 "cells": [
  {
   "cell_type": "markdown",
   "metadata": {},
   "source": [
    "# MoM/VB Bound\n",
    "\n",
    "This is just to double-check the bound on a Mixture of Multinomials"
   ]
  },
  {
   "cell_type": "markdown",
   "metadata": {},
   "source": [
    "The model is \n",
    "\n",
    "$$\\theta \\sim D(\\alpha)$$\n",
    "$$z_{dk} \\sim M({\\theta})$$\n",
    "$$w_{dt} \\sim M(\\phi_{z_{dk}})$$\n",
    "$$\\phi \\sim D(\\beta)$$"
   ]
  },
  {
   "cell_type": "markdown",
   "metadata": {},
   "source": [
    "So the bound is the\n",
    "\n",
    " 1. Expected (According to factored posterior) joint likelihood\n",
    " 2. Plus the entropy\n",
    " \n",
    "The log-joint distribution factors according to\n",
    "\n",
    "$$\n",
    "\\begin{align*}\n",
    "\\ln p(\\theta, Z, W, \\Phi) \n",
    " &= \\ln p(\\theta; \\alpha) \\\\\n",
    " &+ \\sum_k \\ln p(\\phi_k; \\beta) \\\\\n",
    " &+ \\sum_d \\sum_k \\ln p(z_{dk}|\\theta) \\\\\n",
    " &+ \\sum_d \\sum_n \\sum_k \\ln p(w_{dn} | \\phi_{z_{dk}}) \\\\\n",
    " &= \\ln \\Gamma (\\sum \\alpha_k) - \\sum_k \\ln \\Gamma(\\alpha_k) + \\sum_k (\\alpha_k - 1) \\ln \\theta_k \\\\\n",
    " & += \\sum_k \\left( \\ln \\Gamma (\\sum_v \\beta_v) - \\sum_v \\ln \\Gamma(\\beta_v) + \\sum_v (\\beta_v - 1) \\ln \\phi_v\\right) \\\\\n",
    " & += \\sum_d \\sum_k z_{dk} \\ln \\theta_k\\\\\n",
    " & += \\sum_d \\sum_n \\sum_k \\sum_v w_{dnv} \\ln \\phi_{z_{dn},v}\n",
    "\\end{align*}\n",
    "$$"
   ]
  },
  {
   "cell_type": "code",
   "execution_count": null,
   "metadata": {},
   "outputs": [],
   "source": []
  },
  {
   "cell_type": "code",
   "execution_count": null,
   "metadata": {},
   "outputs": [],
   "source": []
  },
  {
   "cell_type": "code",
   "execution_count": null,
   "metadata": {},
   "outputs": [],
   "source": []
  },
  {
   "cell_type": "markdown",
   "metadata": {},
   "source": [
    "## How to evaluate the marginal log likelhood?"
   ]
  },
  {
   "cell_type": "markdown",
   "metadata": {},
   "source": [
    "In the case of EM, it's easy, as there are very few _random variables_, even if there are many _parameters_. \n",
    "\n",
    "So \n",
    "\n",
    "$$\n",
    "\\begin{align*}\n",
    "p(x; \\phi) & = \\int_z p(x|z; \\phi)p(z) \\\\\n",
    " & = \\sum_z p(x|z; \\phi)p(z) & & \\text{z has low dim, so we can do this analytically} \\\\\n",
    " & = \\sum_k p(x; \\phi_k)\\pi_k\n",
    "\\end{align*}\n",
    "$$\n",
    "\n",
    "The core point here is that we can evaluate the posterior likelihood _exactly_ and so don't need to employ any approximations."
   ]
  },
  {
   "cell_type": "markdown",
   "metadata": {},
   "source": [
    "In MAP EM, we have a prior over $\\phi$, so this becomes\n",
    "$$\n",
    "\\begin{align*}\n",
    "p(x) & = \\int_\\phi p(x|\\phi)p(\\phi) \\\\\n",
    "     & \\approx \\int_\\phi p(x|\\phi*) p(\\phi) \\\\\n",
    "     & = p(x|\\phi*) \\\\\n",
    "     & = \\int_z p(x|z, \\phi*)p(z) \\\\\n",
    "     & = \\sum_z p(x|z, \\phi*)p(z) \\\\\n",
    "     & = \\sum_k p(x|\\phi_k*)\\pi_k\n",
    "\\end{align*}\n",
    "$$"
   ]
  },
  {
   "cell_type": "markdown",
   "metadata": {},
   "source": [
    "This is slightly approximated by virtue of using MAP, but we is otherwise broadly the same as using the exact method above."
   ]
  },
  {
   "cell_type": "markdown",
   "metadata": {},
   "source": [
    "<strong>It is good to mention, in the writeup, the fact that using the lower-bound instead of the log-likelihood will always understate the true likelihood, and so it poor for scoring. This is useful when discussing how to evaluate the likelihood of topic models</strong>"
   ]
  },
  {
   "cell_type": "markdown",
   "metadata": {},
   "source": [
    "When it comes to the variational model, it's a bit funnier:\n",
    "\n",
    "\\begin{align*}\n",
    "p(x) &= \\int_z \\int_\\phi p(x|z,\\phi)p(z)p(\\phi) \\\\\n",
    "     & = \\sum_z \\int_\\phi p(x|z, \\phi)p(z)p(\\phi) \\\\\n",
    "     & \\approx \\sum_z \\int_\\phi p(x|z, \\phi)p(z)q(\\phi) \\\\\n",
    "     & \\approx \\sum_k \\int_\\phi p(x|\\phi_j)q(\\phi)\n",
    "\\end{align*}\n",
    "\n",
    "And then exploit the factorization of the posterior to analytically evaluate the integral."
   ]
  },
  {
   "cell_type": "code",
   "execution_count": null,
   "metadata": {},
   "outputs": [],
   "source": []
  }
 ],
 "metadata": {
  "kernelspec": {
   "display_name": "Python 3",
   "language": "python",
   "name": "python3"
  },
  "language_info": {
   "codemirror_mode": {
    "name": "ipython",
    "version": 3
   },
   "file_extension": ".py",
   "mimetype": "text/x-python",
   "name": "python",
   "nbconvert_exporter": "python",
   "pygments_lexer": "ipython3",
   "version": "3.7.6"
  }
 },
 "nbformat": 4,
 "nbformat_minor": 4
}
