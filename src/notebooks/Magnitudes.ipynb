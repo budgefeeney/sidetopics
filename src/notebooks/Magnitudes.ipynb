{
 "metadata": {
  "name": ""
 },
 "nbformat": 3,
 "nbformat_minor": 0,
 "worksheets": [
  {
   "cells": [
    {
     "cell_type": "markdown",
     "metadata": {},
     "source": [
      "# Abstract\n",
      "The $K \\times F$ matrix $A$ is used to map observed features (in $\\mathbb{R}^F$) to topics. We model it as being dependent on a the $K \\times P$ matrix $Y$, such that the mean of the matrix-variate normal distribution of A is the dot product $YV$\n",
      "\n",
      "The update for $A$ depdends partly on $Y$, but also just directly on the topics. We examine the magnitude of $Y$ therefore, for a single topic count, for many values of $P$, and for both versions on the bounds. We use the output of the first cross-validation fold. \n",
      "\n",
      "We also look at the norm of the error $||A - YV||_F$"
     ]
    },
    {
     "cell_type": "markdown",
     "metadata": {},
     "source": [
      "# Prelude\n",
      "Here we loads all the imports and define all the necessary functions to execute this report"
     ]
    },
    {
     "cell_type": "markdown",
     "metadata": {},
     "source": [
      "## Configuration"
     ]
    },
    {
     "cell_type": "code",
     "collapsed": false,
     "input": [
      "import sys\n",
      "\n",
      "\n",
      "codePath = \"/Users/bryanfeeney/Workspace/sidetopics/src\"\n",
      "\n",
      "dataPathPrefix = \"/Users/bryanfeeney/Desktop/SmallerDB-NoCJK-AWMD/\"\n",
      "wordsPath = dataPathPrefix + \"words-noisy.pkl\"\n",
      "featsPath = dataPathPrefix + \"side-noisy.pkl\"\n",
      "authsPath = dataPathPrefix + \"words-by-author-all-in-one.pkl\"\n",
      "dictPath  = dataPathPrefix + \"dicts.py\"\n",
      "\n",
      "outputFilesDir = \"/Users/bryanfeeney/Desktop/tweets-out-72/out\"\n",
      "\n",
      "perpsPicklePath = \"/Users/bryanfeeney/Desktop/tweets-out-72/\"\n",
      "\n",
      "ExpectedFoldCount = 5 # what we asked for\n",
      "\n",
      "sys.path.append(codePath)\n",
      "\n",
      "dictPath = dataPathPrefix + \"dicts.py\"\n",
      "%run $dictPath\n"
     ],
     "language": "python",
     "metadata": {},
     "outputs": [
      {
       "output_type": "stream",
       "stream": "stderr",
       "text": [
        "ERROR: File `'/Users/bryanfeeney/Desktop/SmallerDB-NoCJK-AWMD/dicts.py'` not found.\n"
       ]
      }
     ],
     "prompt_number": 1
    },
    {
     "cell_type": "code",
     "collapsed": false,
     "input": [
      "bounds     = [ 'bouchard', 'bohning' ]\n",
      "topicCount = 25\n",
      "latentDims = [ 5, 10, 25, 50, 75, 100 ]"
     ],
     "language": "python",
     "metadata": {},
     "outputs": [],
     "prompt_number": 2
    },
    {
     "cell_type": "markdown",
     "metadata": {},
     "source": [
      "## Imports"
     ]
    },
    {
     "cell_type": "code",
     "collapsed": false,
     "input": [
      "import os\n",
      "import numpy as np\n",
      "import numpy.random as rd\n",
      "import scipy as sp\n",
      "import scipy.sparse as ssp\n",
      "import scipy.linalg as la\n",
      "import scipy.sparse.linalg as sla\n",
      "import matplotlib.pyplot as plt\n",
      "import matplotlib.cm as cm\n",
      "import pickle as pkl\n",
      "\n",
      "from math import log, pi, exp, ceil\n",
      "\n",
      "rd.seed(0xC0FFEE)\n",
      "\n",
      "%load_ext cythonmagic\n",
      "%matplotlib inline"
     ],
     "language": "python",
     "metadata": {},
     "outputs": [],
     "prompt_number": 3
    },
    {
     "cell_type": "code",
     "collapsed": false,
     "input": [
      "import model\n",
      "from util.sigmoid_utils import rowwise_softmax\n",
      "from model.ctm import \\\n",
      "    log_likelihood as ctm_bou_log_likelihood, \\\n",
      "    perplexity as ctm_bou_perplexity, \\\n",
      "    ModelState as CtmBouModelState, \\\n",
      "    QueryState as CtmBouQueryState\n",
      "from model.ctm_bohning import \\\n",
      "    log_likelihood as ctm_boh_log_likelihood, \\\n",
      "    perplexity as ctm_boh_perplexity, \\\n",
      "    ModelState as CtmBohModelState, \\\n",
      "    QueryState as CtmBohQueryState\n",
      "from model.stm_yv import \\\n",
      "    log_likelihood as stm_yv_bou_log_likelihood, \\\n",
      "    perplexity as stm_yv_bou_perplexity, \\\n",
      "    ModelState as StmYvBouModelState, \\\n",
      "    QueryState as StmYvBouQueryState\n",
      "from model.stm_yv_bohning import \\\n",
      "    log_likelihood as stm_yv_boh_log_likelihood, \\\n",
      "    perplexity as stm_yv_boh_perplexity, \\\n",
      "    ModelState as StmYvBohModelState, \\\n",
      "    QueryState as StmYvBohQueryState"
     ],
     "language": "python",
     "metadata": {},
     "outputs": [],
     "prompt_number": 4
    },
    {
     "cell_type": "code",
     "collapsed": false,
     "input": [
      "ExpectedFoldCount = 5\n",
      "DefaultDataType   = np.float32"
     ],
     "language": "python",
     "metadata": {},
     "outputs": [],
     "prompt_number": 5
    },
    {
     "cell_type": "markdown",
     "metadata": {},
     "source": [
      "## Useful functions"
     ]
    },
    {
     "cell_type": "code",
     "collapsed": false,
     "input": [
      "from re import match\n",
      "\n",
      "CtmAlgorName   = 'ctm'\n",
      "StmYvAlgorName = 'stm_yv'\n",
      "\n",
      "CtmOutFileNameFormat = r\"ctm_%s_k_%d_fold_\\d_\\d{8}_\\d{4}.pkl\"\n",
      "StmOutFileNameFormat = r\"stm_yv_%s_k_%d_p_%d_fold_\\d_\\d{8}_\\d{4}.pkl\"\n",
      "\n",
      "def load_folds (outPath, algorName, bound, topicCount, max_folds=ExpectedFoldCount, latentSize=None):\n",
      "    '''\n",
      "    Loads all cross-validated folds from the given path for the given\n",
      "    configuration of the given algorithm. We just return all completed\n",
      "    folds. So if the first, second and fourth folds executed, we'll\n",
      "    return three folds.\n",
      "    '''\n",
      "    fnameRegex = \\\n",
      "        CtmOutFileNameFormat % (bound, topicCount) \\\n",
      "        if algorName == CtmAlgorName \\\n",
      "        else StmOutFileNameFormat % (bound, topicCount, latentSize)\n",
      "    \n",
      "    fnames = [fname for fname in os.listdir(outPath) if match(fnameRegex, fname)]\n",
      "    fnames.sort()\n",
      "    \n",
      "    orders      = []\n",
      "    boundItrs   = []\n",
      "    boundVals   = []\n",
      "    model       = []\n",
      "    trainTopics = []\n",
      "    queryTopics = []\n",
      "    \n",
      "    for fname in fnames:\n",
      "        outputFile = outputFilesDir + os.path.sep + fname\n",
      "        with open(outputFile, \"rb\") as f:\n",
      "            try:\n",
      "                (o, i, v, m, t, q) = pkl.load(f)\n",
      "                orders.append(o)\n",
      "                boundItrs.append(i)\n",
      "                boundVals.append(v)\n",
      "                model.append(m)\n",
      "                trainTopics.append(t)\n",
      "                queryTopics.append(q)\n",
      "            except EOFError:\n",
      "                print(\"Experiment was terminated whilst writing output to \" + outputFile)\n",
      "        if len(model) == max_folds:\n",
      "            break\n",
      "    \n",
      "    return \\\n",
      "        orders, \\\n",
      "        boundItrs, \\\n",
      "        boundVals, \\\n",
      "        model, \\\n",
      "        trainTopics, \\\n",
      "        queryTopics\n",
      "    "
     ],
     "language": "python",
     "metadata": {},
     "outputs": [],
     "prompt_number": 6
    },
    {
     "cell_type": "markdown",
     "metadata": {},
     "source": [
      "# Magnitudes of the Latent Map"
     ]
    },
    {
     "cell_type": "markdown",
     "metadata": {},
     "source": [
      "##\u00a0Load the Dataset"
     ]
    },
    {
     "cell_type": "code",
     "collapsed": false,
     "input": [
      "with open(wordsPath, 'rb') as f:\n",
      "    W = pkl.load(f)\n",
      "    if W.dtype != DefaultDataType:\n",
      "        W = W.astype(DefaultDataType)\n",
      "with open(featsPath, 'rb') as f:\n",
      "    X = pkl.load(f)\n",
      "    if (X.dtype != DefaultDataType):\n",
      "        X = X.astype(DefaultDataType)\n",
      "        \n",
      "def reorder_dataset(W, X, order):\n",
      "    if order.dtype != np.int32:\n",
      "        order = order.astype(np.int32)\n",
      "    \n",
      "    W_ro = W[order,:]\n",
      "    X_ro = X[order,:]\n",
      "    \n",
      "    return W_ro,X_ro"
     ],
     "language": "python",
     "metadata": {},
     "outputs": [],
     "prompt_number": 19
    },
    {
     "cell_type": "code",
     "collapsed": false,
     "input": [
      "D,T = W.shape\n",
      "_,F = X.shape\n",
      "\n",
      "print (\"Individual Tweet Dataset\\n=======================\")\n",
      "print (\"Document Count: %d\\nVocab Size %d\\nFeature Count: %d\\n\" % (D,T,F))\n",
      "print (\"Active user count: %d\\n\" % len(userLabels))"
     ],
     "language": "python",
     "metadata": {},
     "outputs": [
      {
       "output_type": "stream",
       "stream": "stdout",
       "text": [
        "Individual Tweet Dataset\n",
        "=======================\n",
        "Document Count: 585268\n",
        "Vocab Size 82698\n",
        "Feature Count: 432\n",
        "\n",
        "Active user count: 316\n",
        "\n"
       ]
      }
     ],
     "prompt_number": 20
    },
    {
     "cell_type": "markdown",
     "metadata": {},
     "source": [
      "Slots allocated to different feature-classes"
     ]
    },
    {
     "cell_type": "code",
     "collapsed": false,
     "input": [
      "feats"
     ],
     "language": "python",
     "metadata": {},
     "outputs": [
      {
       "metadata": {},
       "output_type": "pyout",
       "prompt_number": 21,
       "text": [
        "{'author': 0, 'day_of_week': 398, 'month_of_year': 427, 'week_of_year': 405}"
       ]
      }
     ],
     "prompt_number": "*"
    },
    {
     "cell_type": "code",
     "collapsed": false,
     "input": [
      "P = len(latentDims)\n",
      "K = len(topicCounts)\n",
      "\n",
      "perps  = { \\\n",
      "    'train' : { \\\n",
      "        'bouchard' : { \\\n",
      "            1 : np.zeros((P,K)), \\\n",
      "            3 : np.zeros((P,K)), \\\n",
      "            5 : np.zeros((P,K))\n",
      "        }, \\\n",
      "        'bohning' : { \\\n",
      "            1 : np.zeros((P,K)), \\\n",
      "            3 : np.zeros((P,K)), \\\n",
      "            5 : np.zeros((P,K)) \\\n",
      "        } \\\n",
      "    }, \\\n",
      "    'query' : { \\\n",
      "        'bouchard' : { \\\n",
      "            1 : np.zeros((P,K)), \\\n",
      "            3 : np.zeros((P,K)), \\\n",
      "            5 : np.zeros((P,K))\n",
      "        }, \\\n",
      "        'bohning' : { \\\n",
      "            1 : np.zeros((P,K)), \\\n",
      "            3 : np.zeros((P,K)), \\\n",
      "            5 : np.zeros((P,K)) \\\n",
      "        } \\\n",
      "    }, \\\n",
      "}\n",
      "      \n",
      "for bound in bounds:\n",
      "    log_likely = stm_yv_boh_log_likelihood\n",
      "    #    if bound == 'bouchard' \\\n",
      "    #    else stm_yv_boh_log_likelihood\n",
      "    \n",
      "    for k_id in range(K):\n",
      "        k = topicCounts[k_id]\n",
      "        for p_id in range(P):\n",
      "            p = latentDims[p_id]\n",
      "            orders, _, _, model, trainTopics, queryTopics = \\\n",
      "                load_folds (outputFilesDir, StmYvAlgorName, bound, k, p)\n",
      "        \n",
      "            if len(orders) == 0:\n",
      "                continue\n",
      "        \n",
      "            W_ro, X_ro = reorder_dataset (W, X, orders[0]) # same across all folds  \n",
      "            tlikelies     = []\n",
      "            tword_counts  = []\n",
      "            \n",
      "            qlikelies     = []\n",
      "            qword_counts  = []\n",
      "        \n",
      "            foldSize  = ceil(D / ExpectedFoldCount)\n",
      "            querySize = foldSize\n",
      "            trainSize = D - querySize\n",
      "        \n",
      "            for fold in range(len(model)):\n",
      "                start = fold * foldSize\n",
      "                end   = start + trainSize\n",
      "                \n",
      "                trainSet = np.arange(start,end) % D\n",
      "                querySet = np.arange(end, end + querySize) % D\n",
      "    \n",
      "                W_train, W_query = W_ro[trainSet,:], W_ro[querySet,:]\n",
      "                # X_train, X_query = X_ro[trainSet,:], X_ro[querySet,:]\n",
      "                \n",
      "                #sys.stdout.write(\"Train Likely: Bound = %s K = %d, P = %d, Fold = %d\\n\" % (bound, k, p, fold))\n",
      "                #sys.stdout.write(\"\\tW_train.D = %d, W_train.sum() = %.0f, trainTopics.means.D = %d\\n\" % (W_train.shape[0], W_train.data.sum(), trainTopics[fold].means.shape[0]))\n",
      "                #sys.stdout.write(\"\\tLog Likely = %f\\n\" % (log_likely(W_train, model[fold], trainTopics[fold])))\n",
      "                #sys.stdout.flush()\n",
      "                tlikelies.append(log_likely(W_train, model[fold], trainTopics[fold]))\n",
      "                tword_counts.append (W_train.data.sum())\n",
      "                \n",
      "                #sys.stdout.write(\"Query Likely: Bound = %s K = %d, P = %d, Fold = %d\\n\" % (bound, k, p, fold))\n",
      "                #sys.stdout.write(\"\\tW_qury.D = %d, W_query.sum() = %.0f, trainTopics.means.D = %d\\n\" % (W_query.shape[0], W_query.data.sum(), queryTopics[fold].means.shape[0]))\n",
      "                #sys.stdout.write(\"\\tLog Likely = %f\\n\" % (log_likely(W_query, model[fold], queryTopics[fold])))\n",
      "                #sys.stdout.flush()\n",
      "                qlikelies.append(log_likely(W_query, model[fold], queryTopics[fold]))\n",
      "                qword_counts.append (W_query.data.sum())\n",
      "        \n",
      "            if len(qlikelies) >= 0:\n",
      "                perps['query'][bound][1][p_id, k_id] = perplexity (qlikelies[0], qword_counts[0])\n",
      "            if len(qlikelies) >= 3:\n",
      "                perps['query'][bound][3][p_id, k_id] = perplexity (sum(qlikelies[:3]), sum(qword_counts[:3]))\n",
      "            if len(qlikelies) >= 5:\n",
      "                perps['query'][bound][5][p_id, k_id] = perplexity (sum(qlikelies), sum(qword_counts))\n",
      "            if len(tlikelies) >= 0:\n",
      "                perps['train'][bound][1][p_id, k_id] = perplexity (tlikelies[0], tword_counts[0])\n",
      "            if len(tlikelies) >= 3:\n",
      "                perps['train'][bound][3][p_id, k_id] = perplexity (sum(tlikelies[:3]), sum(tword_counts[:3]))\n",
      "            if len(tlikelies) >= 5:\n",
      "                perps['train'][bound][5][p_id, k_id] = perplexity (sum(tlikelies), sum(tword_counts))\n",
      "        \n",
      "        "
     ],
     "language": "python",
     "metadata": {},
     "outputs": [],
     "prompt_number": "*"
    },
    {
     "cell_type": "code",
     "collapsed": false,
     "input": [
      "with open (perpsPicklePath + os.path.sep + 'stm-perps.pkl', 'wb') as f:\n",
      "    pkl.dump(perps, f)"
     ],
     "language": "python",
     "metadata": {},
     "outputs": [],
     "prompt_number": "*"
    },
    {
     "cell_type": "markdown",
     "metadata": {},
     "source": [
      "## Query Results"
     ]
    },
    {
     "cell_type": "code",
     "collapsed": false,
     "input": [
      "vmin=500\n",
      "vmax=3000\n",
      "\n",
      "fig, ax = plt.subplots(2, 3, figsize=(11,7))\n",
      "\n",
      "im = ax[0,0].imshow(perps['query']['bouchard'][1], interpolation=\"none\", vmin=vmin, vmax=vmax)\n",
      "\n",
      "ax[0,0].set_title(\"Query Fold 1\")\n",
      "ax[0,0].set_ylabel(\"Bouchard\\nLatent Dim\")\n",
      "ax[0,0].get_xaxis().set_ticklabels([0] + topicCounts)\n",
      "ax[0,0].get_yaxis().set_ticklabels([0] + latentDims)\n",
      "\n",
      "\n",
      "im = ax[0,1].imshow(perps['query']['bouchard'][3], interpolation=\"none\", vmin=vmin, vmax=vmax)\n",
      "\n",
      "ax[0,1].set_title(\"Query Folds 1-3\")\n",
      "ax[0,1].get_xaxis().set_ticklabels([0] + topicCounts)\n",
      "ax[0,1].get_yaxis().set_ticklabels([0] + latentDims)\n",
      "\n",
      "\n",
      "im = ax[0,2].imshow(perps['query']['bouchard'][5], interpolation=\"none\", vmin=vmin, vmax=vmax)\n",
      "\n",
      "ax[0,2].set_title(\"Query Folds 1-5\")\n",
      "ax[0,2].get_xaxis().set_ticklabels([0] + topicCounts)\n",
      "ax[0,2].get_yaxis().set_ticklabels([0] + latentDims)\n",
      "\n",
      "\n",
      "im = ax[1,0].imshow(perps['query']['bohning'][1], interpolation=\"none\", vmin=vmin, vmax=vmax)\n",
      "\n",
      "ax[1,0].set_ylabel(\"Bohning\\nLatent Dim\")\n",
      "ax[1,0].set_xlabel('Topic Counts')\n",
      "ax[1,0].get_xaxis().set_ticklabels([0] + topicCounts)\n",
      "ax[1,0].get_yaxis().set_ticklabels([0] + latentDims)\n",
      "\n",
      "\n",
      "im = ax[1,1].imshow(perps['query']['bohning'][3], interpolation=\"none\", vmin=vmin, vmax=vmax)\n",
      "\n",
      "ax[1,1].set_xlabel('Topic Counts')\n",
      "ax[1,1].get_xaxis().set_ticklabels([0] + topicCounts)\n",
      "ax[1,1].get_yaxis().set_ticklabels([0] + latentDims)\n",
      "\n",
      "\n",
      "im = ax[1,2].imshow(perps['query']['bohning'][5], interpolation=\"none\", vmin=vmin, vmax=vmax)\n",
      "\n",
      "ax[1,2].set_xlabel('Topic Counts')\n",
      "ax[1,2].get_xaxis().set_ticklabels([0] + topicCounts)\n",
      "ax[1,2].get_yaxis().set_ticklabels([0] + latentDims)\n",
      "\n",
      "fig.subplots_adjust(right=0.8)\n",
      "cbar_ax = fig.add_axes([0.85, 0.15, 0.05, 0.7])\n",
      "fig.colorbar(im, cax=cbar_ax)"
     ],
     "language": "python",
     "metadata": {},
     "outputs": [],
     "prompt_number": "*"
    },
    {
     "cell_type": "markdown",
     "metadata": {},
     "source": [
      "The actual perplexity values for the five fold Bouchard output on query data"
     ]
    },
    {
     "cell_type": "code",
     "collapsed": false,
     "input": [
      "def printFoldResults(perpsDict, run, bound, foldCount):\n",
      "    perpsMat = perpsDict[run][bound][foldCount].astype(np.int32)\n",
      "    rowCount, colCount = perpsMat.shape\n",
      "    for row in range(rowCount):\n",
      "        print (\"  \".join(\"%5d\" % perpsMat[row,col] for col in range(colCount)))\n",
      "\n",
      "printFoldResults(perps, 'query', 'bouchard', 5)"
     ],
     "language": "python",
     "metadata": {},
     "outputs": [],
     "prompt_number": "*"
    },
    {
     "cell_type": "markdown",
     "metadata": {},
     "source": [
      "The actual perplexity values for the five fold Bohning output on query data"
     ]
    },
    {
     "cell_type": "code",
     "collapsed": false,
     "input": [
      "printFoldResults(perps, 'query', 'bohning', 5)"
     ],
     "language": "python",
     "metadata": {},
     "outputs": [],
     "prompt_number": "*"
    },
    {
     "cell_type": "code",
     "collapsed": false,
     "input": [
      "vmin=500\n",
      "vmax=3000\n",
      "fig, ax = plt.subplots(2, 3, figsize=(11,7))\n",
      "\n",
      "im = ax[0,0].imshow(perps['train']['bouchard'][1], interpolation=\"none\", vmin=vmin, vmax=vmax)\n",
      "\n",
      "ax[0,0].set_title(\"Train Fold 1\")\n",
      "ax[0,0].set_ylabel(\"Bouchard\\nLatent Dim\")\n",
      "ax[0,0].get_xaxis().set_ticklabels([0] + topicCounts)\n",
      "ax[0,0].get_yaxis().set_ticklabels([0] + latentDims)\n",
      "\n",
      "\n",
      "im = ax[0,1].imshow(perps['train']['bouchard'][3], interpolation=\"none\", vmin=vmin, vmax=vmax)\n",
      "\n",
      "ax[0,1].set_title(\"Train Folds 1-3\")\n",
      "ax[0,1].get_xaxis().set_ticklabels([0] + topicCounts)\n",
      "ax[0,1].get_yaxis().set_ticklabels([0] + latentDims)\n",
      "\n",
      "\n",
      "im = ax[0,2].imshow(perps['train']['bouchard'][5], interpolation=\"none\", vmin=vmin, vmax=vmax)\n",
      "\n",
      "ax[0,2].set_title(\"Train Folds 1-5\")\n",
      "ax[0,2].get_xaxis().set_ticklabels([0] + topicCounts)\n",
      "ax[0,2].get_yaxis().set_ticklabels([0] + latentDims)\n",
      "\n",
      "\n",
      "im = ax[1,0].imshow(perps['train']['bohning'][1], interpolation=\"none\", vmin=vmin, vmax=vmax)\n",
      "\n",
      "ax[1,0].set_ylabel(\"Bohning\\nLatent Dim\")\n",
      "ax[1,0].set_xlabel('Topic Counts')\n",
      "ax[1,0].get_xaxis().set_ticklabels([0] + topicCounts)\n",
      "ax[1,0].get_yaxis().set_ticklabels([0] + latentDims)\n",
      "\n",
      "\n",
      "im = ax[1,1].imshow(perps['train']['bohning'][3], interpolation=\"none\", vmin=vmin, vmax=vmax)\n",
      "\n",
      "ax[1,1].set_xlabel('Topic Counts')\n",
      "ax[1,1].get_xaxis().set_ticklabels([0] + topicCounts)\n",
      "ax[1,1].get_yaxis().set_ticklabels([0] + latentDims)\n",
      "\n",
      "\n",
      "im = ax[1,2].imshow(perps['train']['bohning'][5], interpolation=\"none\", vmin=vmin, vmax=vmax)\n",
      "\n",
      "ax[1,2].set_xlabel('Topic Counts')\n",
      "ax[1,2].get_xaxis().set_ticklabels([0] + topicCounts)\n",
      "ax[1,2].get_yaxis().set_ticklabels([0] + latentDims)\n",
      "\n",
      "fig.subplots_adjust(right=0.8)\n",
      "cbar_ax = fig.add_axes([0.85, 0.15, 0.05, 0.7])\n",
      "fig.colorbar(im, cax=cbar_ax)"
     ],
     "language": "python",
     "metadata": {},
     "outputs": [],
     "prompt_number": "*"
    },
    {
     "cell_type": "markdown",
     "metadata": {},
     "source": [
      "The actual perplexity values for the three fold Bouchard output on train data"
     ]
    },
    {
     "cell_type": "code",
     "collapsed": false,
     "input": [
      "printFoldResults(perps, 'train', 'bouchard', 3)"
     ],
     "language": "python",
     "metadata": {},
     "outputs": [],
     "prompt_number": "*"
    },
    {
     "cell_type": "markdown",
     "metadata": {},
     "source": [
      "The actual perplexity values for the three fold Bohning output on train data"
     ]
    },
    {
     "cell_type": "code",
     "collapsed": false,
     "input": [
      "printFoldResults(perps, 'train', 'bohning', 3)"
     ],
     "language": "python",
     "metadata": {},
     "outputs": [],
     "prompt_number": "*"
    },
    {
     "cell_type": "code",
     "collapsed": false,
     "input": [],
     "language": "python",
     "metadata": {},
     "outputs": [],
     "prompt_number": "*"
    }
   ],
   "metadata": {}
  }
 ]
}