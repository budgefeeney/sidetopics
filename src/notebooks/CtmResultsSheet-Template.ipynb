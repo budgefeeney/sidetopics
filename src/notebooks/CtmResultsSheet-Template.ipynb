{
 "metadata": {
  "name": ""
 },
 "nbformat": 3,
 "nbformat_minor": 0,
 "worksheets": [
  {
   "cells": [
    {
     "cell_type": "markdown",
     "metadata": {},
     "source": [
      "# Results from a Single CTM Run with the $bound Bound\n",
      "This describes the topic means, covariances, and perplexity of a single model run. The configuration of the model is given further below, after it has been loaded."
     ]
    },
    {
     "cell_type": "markdown",
     "metadata": {},
     "source": [
      "# Prelude"
     ]
    },
    {
     "cell_type": "markdown",
     "metadata": {},
     "source": [
      "##\u00a0Configuration"
     ]
    },
    {
     "cell_type": "code",
     "collapsed": false,
     "input": [
      "import sys\n",
      "\n",
      "\n",
      "codePath = $codePath\n",
      "\n",
      "dataPathPrefix = \"/Users/bryanfeeney/Desktop/Tweets600/\"\n",
      "wordsPath = dataPathPrefix + \"words-noisy.pkl\"\n",
      "featsPath = dataPathPrefix + \"side-noisy.pkl\"\n",
      "authsPath = dataPathPrefix + \"words-by-author-all-in-one.pkl\"\n",
      "dictPath  = dataPathPrefix + \"dicts.py\"\n",
      "\n",
      "outputPathPrefix = $outFilesPrefix\n",
      "outputFiles = [ $outputFiles ]\n",
      "\n",
      "ExpectedFoldCount = 5        # What was asked for\n",
      "FoldCount = len(outputFiles) # What had been completed when timer ran out\n",
      "reconstructSparse=False\n",
      "\n",
      "sys.path.append(codePath)\n",
      "%run $$dictPath\n"
     ],
     "language": "python",
     "metadata": {},
     "outputs": [],
     "prompt_number": 3
    },
    {
     "cell_type": "markdown",
     "metadata": {},
     "source": [
      "## Imports"
     ]
    },
    {
     "cell_type": "code",
     "collapsed": false,
     "input": [
      "import numpy as np\n",
      "import numpy.random as rd\n",
      "import scipy as sp\n",
      "import scipy.sparse as ssp\n",
      "import scipy.linalg as la\n",
      "import scipy.sparse.linalg as sla\n",
      "import matplotlib.pyplot as plt\n",
      "import matplotlib.cm as cm\n",
      "import pickle as pkl\n",
      "\n",
      "from math import log, pi, exp, ceil\n",
      "\n",
      "rd.seed(0xC0FFEE)\n",
      "\n",
      "%load_ext cythonmagic\n",
      "%matplotlib inline"
     ],
     "language": "python",
     "metadata": {},
     "outputs": [],
     "prompt_number": 4
    },
    {
     "cell_type": "code",
     "collapsed": false,
     "input": [
      "import model\n",
      "from util.sigmoid_utils import rowwise_softmax\n",
      "from model.$implName import log_likelihood, perplexity, ModelState, QueryState"
     ],
     "language": "python",
     "metadata": {},
     "outputs": [],
     "prompt_number": 5
    },
    {
     "cell_type": "markdown",
     "metadata": {},
     "source": [
      "## Useful functions\n",
      "The main body of this is a function (```sparseScalarQuotientOfSafeLnDot()```) used to calculate the log-likelihood efficiently. It's written in Cython for performance reasons, hence the typing."
     ]
    },
    {
     "cell_type": "code",
     "collapsed": false,
     "input": [
      "from IPython.display import HTML\n",
      "from IPython.display import Latex\n",
      "from IPython.display import Image"
     ],
     "language": "python",
     "metadata": {},
     "outputs": [],
     "prompt_number": 6
    },
    {
     "cell_type": "code",
     "collapsed": false,
     "input": [
      "def normalize_rows_ip(matrix):\n",
      "    '''\n",
      "    Normalizes the rows of the matrix in-place, ovewriting\n",
      "    the previous values\n",
      "    '''\n",
      "    row_sums  = matrix.sum(axis=1)\n",
      "    matrix   /= row_sums[:, np.newaxis]\n",
      "    return matrix\n",
      "\n"
     ],
     "language": "python",
     "metadata": {},
     "outputs": [],
     "prompt_number": 7
    },
    {
     "cell_type": "code",
     "collapsed": false,
     "input": [
      "%%cython\n",
      "\n",
      "cimport cython\n",
      "import numpy as np\n",
      "cimport numpy as np\n",
      "from libc.math cimport log\n",
      "from libc.float cimport FLT_MIN, DBL_MIN\n",
      "\n",
      "@cython.boundscheck(False)\n",
      "@cython.wraparound(False)\n",
      "@cython.cdivision(True)\n",
      "def sparseScalarProductOfSafeLnDot_f8(double[:] A_data, int[:] A_indices, int[:] A_ptr, double[:,:] B, double[:,:] C, double[:] out_data):\n",
      "    '''\n",
      "    Returns A * np.log(np.dot(B, C)), however it does so keeping in \n",
      "    mind the sparsity of A, calculate values only when required.\n",
      "    Moreover if any product of the dot is zero, it's replaced with\n",
      "    the minimum non-zero value allowed by the datatype, to avoid NaNs\n",
      "     \n",
      "    Params\n",
      "    A_data    - the values buffer of the sparse CSR matrix A\n",
      "    A_indices - the indices buffer of the sparse CSR matrix A\n",
      "    A_ptr     - the index pointer buffer of the sparse CSR matrix A\n",
      "    B         - a dense matrix\n",
      "    C         - a dense matrix\n",
      "    out_data  - the values buffer into which the result will be placed.\n",
      "    \n",
      "    Returns\n",
      "    out_data, though note that this is the same parameter passed in and overwitten.\n",
      "    '''\n",
      "    cdef:\n",
      "        int rowCount = len(A_ptr) - 1 \n",
      "        int elemCount = 0, e = 0\n",
      "        int row = 0, col = 0, i = 0\n",
      "        double dotProd = 0.0\n",
      "        double logOfMin = log (DBL_MIN)\n",
      "    \n",
      "    with nogil:\n",
      "        while row < rowCount:\n",
      "            elemCount = A_ptr[row+1] - A_ptr[row]\n",
      "            e = 0\n",
      "            while e < elemCount:\n",
      "                col         = A_indices[i]\n",
      "                dotProd     = dotProduct_f8(row,col,B,C)\n",
      "                out_data[i] = A_data[i] * log(dotProd) if dotProd > DBL_MIN else logOfMin\n",
      "                i += 1\n",
      "                e += 1\n",
      "            row += 1\n",
      "    \n",
      "    return out_data\n",
      "\n",
      "@cython.boundscheck(False)\n",
      "@cython.wraparound(False)\n",
      "@cython.cdivision(True)\n",
      "def sparseScalarProductOfSafeLnDot_f4(float[:] A_data, int[:] A_indices, int[:] A_ptr, float[:,:] B, float[:,:] C, float[:] out_data):\n",
      "    '''\n",
      "    Returns A * np.log(np.dot(B, C)), however it does so keeping in \n",
      "    mind the sparsity of A, calculate values only when required.\n",
      "    Moreover if any product of the dot is zero, it's replaced with\n",
      "    the minimum non-zero value allowed by the datatype, to avoid NaNs\n",
      "     \n",
      "    Params\n",
      "    A_data    - the values buffer of the sparse CSR matrix A\n",
      "    A_indices - the indices buffer of the sparse CSR matrix A\n",
      "    A_ptr     - the index pointer buffer of the sparse CSR matrix A\n",
      "    B         - a dense matrix\n",
      "    C         - a dense matrix\n",
      "    out_data  - the values buffer into which the result will be placed.\n",
      "    \n",
      "    Returns\n",
      "    out_data, though note that this is the same parameter passed in and overwitten.\n",
      "    '''\n",
      "    cdef:\n",
      "        int rowCount = len(A_ptr) - 1 \n",
      "        int elemCount = 0, e = 0\n",
      "        int row = 0, col = 0, i = 0\n",
      "        float dotProd = 0.0\n",
      "        float logOfMin = log (FLT_MIN)\n",
      "    \n",
      "    with nogil:\n",
      "        while row < rowCount:\n",
      "            elemCount = A_ptr[row+1] - A_ptr[row]\n",
      "            e = 0\n",
      "            while e < elemCount:\n",
      "                col         = A_indices[i]\n",
      "                dotProd     = dotProduct_f4(row,col,B,C)\n",
      "                out_data[i] = A_data[i] * log(dotProd) if dotProd > FLT_MIN else logOfMin\n",
      "                i += 1\n",
      "                e += 1\n",
      "            row += 1\n",
      "    \n",
      "    return out_data\n",
      "\n",
      "@cython.boundscheck(False)\n",
      "@cython.wraparound(False)\n",
      "@cython.cdivision(True)\n",
      "cdef double dotProduct_f8 (int r, int c, double[:,:] B, double[:,:] C) nogil:\n",
      "    '''\n",
      "    The dot product of the r-th row of B and the c-th column of C.\n",
      "    Done directly with a for-loop, no BLAS, SSE or anything. Still\n",
      "    pretty fast though - just as quick as a numpy dot\n",
      "    '''\n",
      "\n",
      "    cdef double result = 0\n",
      "    cdef int innerDim = B.shape[1]\n",
      "    \n",
      "    cdef int i = 0\n",
      "    while i < innerDim:\n",
      "        result += B[r,i] * C[i,c]\n",
      "        i += 1\n",
      "\n",
      "    return result\n",
      "\n",
      "\n",
      "@cython.boundscheck(False)\n",
      "@cython.wraparound(False)\n",
      "@cython.cdivision(True)\n",
      "cdef float dotProduct_f4 (int r, int c, float[:,:] B, float[:,:] C) nogil:\n",
      "    '''\n",
      "    The dot product of the r-th row of B and the c-th column of C.\n",
      "    Done directly with a for-loop, no BLAS, SSE or anything. Still\n",
      "    pretty fast though - just as quick as a numpy dot\n",
      "    '''\n",
      "    cdef float result = 0\n",
      "    cdef int innerDim = B.shape[1]\n",
      "    \n",
      "    cdef int i = 0\n",
      "    while i < innerDim:\n",
      "        result += B[r,i] * C[i,c]\n",
      "        i += 1\n",
      "\n",
      "    return result"
     ],
     "language": "python",
     "metadata": {},
     "outputs": [],
     "prompt_number": 8
    },
    {
     "cell_type": "code",
     "collapsed": false,
     "input": [
      "def sparseScalarProductOfSafeLnDot (A, B, C, out=None):\n",
      "    '''\n",
      "    Returns A * np.log(np.dot(B, C)), however it does so keeping in\n",
      "    mind the sparsity of A, calculating values only where required.\n",
      "    Moreover if any product of the dot is zero, it's replaced with\n",
      "    the minimum non-zero value allowed by the datatype, to avoid NaNs\n",
      "     \n",
      "    Params\n",
      "    A         - a sparse CSR matrix\n",
      "    B         - a dense matrix\n",
      "    C         - a dense matrix\n",
      "    out       - if specified, must be a sparse CSR matrix with identical\n",
      "                non-zero pattern to A (i.e. same indices and indptr)\n",
      "    \n",
      "    Returns\n",
      "    out_data, though note that this is the same parameter passed in and overwitten.\n",
      "    '''\n",
      "    if out is None:\n",
      "        out = A.copy()\n",
      "    if A.dtype == np.float64:\n",
      "        sparseScalarProductOfSafeLnDot_f8(A.data, A.indices, A.indptr, B, C, out.data)\n",
      "    elif A.dtype == np.float32:\n",
      "        sparseScalarProductOfSafeLnDot_f4(A.data, A.indices, A.indptr, B, C, out.data)\n",
      "    \n",
      "    return out\n"
     ],
     "language": "python",
     "metadata": {},
     "outputs": [],
     "prompt_number": 9
    },
    {
     "cell_type": "markdown",
     "metadata": {},
     "source": [
      "# Model Results"
     ]
    },
    {
     "cell_type": "markdown",
     "metadata": {},
     "source": [
      "## Load the Model"
     ]
    },
    {
     "cell_type": "code",
     "collapsed": false,
     "input": [
      "orders      = []\n",
      "boundItrs   = []\n",
      "boundVals   = []\n",
      "model       = []\n",
      "trainTopics = []\n",
      "queryTopics = []\n",
      "\n",
      "for outputFile in outputFiles:\n",
      "    with open(outputFile, \"rb\") as f:\n",
      "        try:\n",
      "            (o, i, v, m, t, q) = pkl.load(f)\n",
      "            orders.append(o)\n",
      "            boundItrs.append(i)\n",
      "            boundVals.append(v)\n",
      "            model.append(m)\n",
      "            trainTopics.append(t)\n",
      "            queryTopics.append(q)\n",
      "        except EOFError:\n",
      "            print("Experiment was terminated whilst writing output to " + outputFile)\n"
     ],
     "language": "python",
     "metadata": {},
     "outputs": [],
     "prompt_number": 10
    },
    {
     "cell_type": "markdown",
     "metadata": {},
     "source": [
      "Determine if the model executed successfully. We expect to have __five__ completed folds, with associated model configurations."
     ]
    },
    {
     "cell_type": "code",
     "collapsed": false,
     "input": [
      "successfulQueryCount = 0\n",
      "for queryTopic in queryTopics:\n",
      "    if queryTopic is not None:\n",
      "        successfulQueryCount += 1"
     ],
     "language": "python",
     "metadata": {},
     "outputs": [],
     "prompt_number": 11
    },
    {
     "cell_type": "code",
     "collapsed": false,
     "input": [
      "\n",
      "if successfulQueryCount < FoldCount:\n",
      "    h = HTML(\"<h1><font color='red'>Training Run Failed to Complete</font></h1>\")\n",
      "else:\n",
      "    h = HTML(\"<font color='green'>Training Completed Successfully</font>\")\n",
      "h"
     ],
     "language": "python",
     "metadata": {},
     "outputs": [
      {
       "html": [
        "<font color='green'>Training Completed Successfully</font>"
       ],
       "metadata": {},
       "output_type": "pyout",
       "prompt_number": 12,
       "text": [
        "<IPython.core.display.HTML at 0x1109fd310>"
       ]
      }
     ],
     "prompt_number": 12
    },
    {
     "cell_type": "code",
     "collapsed": false,
     "input": [
      "# It makes no sense to continue if we don't have many queries\n",
      "if successfulQueryCount < FoldCount:\n",
      "    exit(-1)"
     ],
     "language": "python",
     "metadata": {},
     "outputs": [],
     "prompt_number": 13
    },
    {
     "cell_type": "markdown",
     "metadata": {},
     "source": [
      "## Model Configuration"
     ]
    },
    {
     "cell_type": "code",
     "collapsed": false,
     "input": [
      "print (\"Model Name:      %18s\" % model[0].name)\n",
      "print (\"Topic Count:     %18d\" % model[0].K)"
     ],
     "language": "python",
     "metadata": {},
     "outputs": [
      {
       "output_type": "stream",
       "stream": "stdout",
       "text": [
        "Model Name:             ctm/bohning\n",
        "Topic Count:                      5\n"
       ]
      }
     ],
     "prompt_number": 14
    },
    {
     "cell_type": "markdown",
     "metadata": {},
     "source": [
      "### Evolution of the Variational Bound During Training\n",
      "I'm still not sure why there's a dip in the first few iterations. The updates which cause a dip are the vocabularly and the posterior means. Note the extremely large number of iterations, in the past with, e.g. LDA, CTM/Bouchard, I've only ever needed a few hundred iterations before things levelled off."
     ]
    },
    {
     "cell_type": "code",
     "collapsed": false,
     "input": [
      "colCount = 2\n",
      "rowCount = int(ceil (FoldCount / colCount))\n",
      "\n",
      "fig, ax = plt.subplots(rowCount, colCount, figsize=(11,9))\n",
      "for fold in range(FoldCount):\n",
      "    row = fold // colCount\n",
      "    col = fold % colCount\n",
      "    \n",
      "    ax[row,col].plot(boundItrs[fold], boundVals[fold])\n",
      "    ax[row,col].set_title(\"Fold-\" + str(fold))\n",
      "fig.suptitle(\"Variational Bound\")\n"
     ],
     "language": "python",
     "metadata": {},
     "outputs": [
      {
       "metadata": {},
       "output_type": "pyout",
       "prompt_number": 15,
       "text": [
        "<matplotlib.text.Text at 0x111373dd0>"
       ]
      },
      {
       "metadata": {},
       "output_type": "display_data",
       "png": "iVBORw0KGgoAAAANSUhEUgAAApcAAAJGCAYAAAAODq4bAAAABHNCSVQICAgIfAhkiAAAAAlwSFlz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\nERERkcv8HzLWREnLEOClAAAAAElFTkSuQmCC\n",
       "text": [
        "<matplotlib.figure.Figure at 0x10c4aecd0>"
       ]
      }
     ],
     "prompt_number": 15
    },
    {
     "cell_type": "markdown",
     "metadata": {},
     "source": [
      "##\u00a0Load the Data"
     ]
    },
    {
     "cell_type": "code",
     "collapsed": false,
     "input": [
      "# We assume the order is always the same (order refers to the order the data\n",
      "# was presented to the cross-val train and test algorithm: we shuffle the \n",
      "# data before creating the cross-validated slices)\n",
      "order = orders[0].astype(np.int32)\n",
      "with open(authsPath, 'rb') as f:\n",
      "    (userLabels, dic, W)  = pkl.load(f)\n",
      "W = W[order,:].astype(model[0].dtype)\n",
      "userLabels = [userLabels[o] for o in order]\n",
      "X = None"
     ],
     "language": "python",
     "metadata": {},
     "outputs": [],
     "prompt_number": 49
    },
    {
     "cell_type": "code",
     "collapsed": false,
     "input": [
      "D,T = W.shape\n",
      "F = 0 if X is None else X.shape[1]\n",
      "\n",
      "D,T = W.shape\n",
      "F = 0 if X is None else X.shape[1]\n",
      "\n",
      "print (\"Document Count: %d\\nVocab Size %d\\nFeatures: %d\" % (D,T,F))"
     ],
     "language": "python",
     "metadata": {},
     "outputs": [
      {
       "output_type": "stream",
       "stream": "stdout",
       "text": [
        "Document Count: 316\n",
        "Vocab Size 82698\n",
        "Features: 0\n"
       ]
      }
     ],
     "prompt_number": 51
    },
    {
     "cell_type": "markdown",
     "metadata": {},
     "source": [
      "## Output of the Model on the Data"
     ]
    },
    {
     "cell_type": "markdown",
     "metadata": {},
     "source": [
      "### Log Likelihood and Perplexity"
     ]
    },
    {
     "cell_type": "code",
     "collapsed": false,
     "input": [
      "from run.main import splitInput"
     ],
     "language": "python",
     "metadata": {},
     "outputs": [],
     "prompt_number": 52
    },
    {
     "cell_type": "code",
     "collapsed": false,
     "input": [
      "foldSize  = ceil(D / ExpectedFoldCount)\n",
      "querySize = foldSize\n",
      "trainSize = D - querySize\n",
      "        \n",
      "print (\"Fold ID   %15s  %10s\" % ('Log Likelihood', 'Perplexity'))\n",
      "for fold in range(FoldCount):\n",
      "    start = fold * foldSize\n",
      "    end   = start + trainSize\n",
      "    \n",
      "    trainSet = np.arange(start,end) % D\n",
      "    querySet = np.arange(end, end + querySize) % D\n",
      "    \n",
      "    W_train, W_query = W[trainSet,:], W[querySet,:]\n",
      "    W_query_train, W_query_eval = splitInput(X, W_query)\n",
      "    \n",
      "    userLabelsTrain = [userLabels[row] for row in trainSet]\n",
      "    userLabelsQuery = [userLabels[row] for row in querySet]\n",
      "    \n",
      "    logLikely = np.sum( \\\n",
      "        sparseScalarProductOfSafeLnDot(\\\n",
      "            W_query_eval, \\\n",
      "            rowwise_softmax(queryTopics[fold].means), \\\n",
      "            model[fold].vocab \\\n",
      "        ).data \\\n",
      "    )\n",
      "    \n",
      "    perplexity = np.exp(-logLikely / np.sum(W_query_eval.data))\n",
      "    print (\"Fold %2d   %15.3f  %10.2f\" % (fold, logLikely, perplexity))"
     ],
     "language": "python",
     "metadata": {},
     "outputs": [
      {
       "output_type": "stream",
       "stream": "stdout",
       "text": [
        "Fold ID    Log Likelihood  Perplexity\n",
        "Fold  0      -4046654.250     4885.48\n",
        "Fold  1      -4908111.000     4310.48"
       ]
      },
      {
       "output_type": "stream",
       "stream": "stdout",
       "text": [
        "\n",
        "Fold  2      -5273680.000     7236.96\n",
        "Fold  3      -5840521.500     5423.58"
       ]
      },
      {
       "output_type": "stream",
       "stream": "stdout",
       "text": [
        "\n",
        "Fold  4      -4538678.500     6054.86\n"
       ]
      }
     ],
     "prompt_number": 53
    },
    {
     "cell_type": "markdown",
     "metadata": {},
     "source": [
      "##\u00a0Topics for Fold-4\n",
      "Print the top words for each topic. How many words is specified by the ```topWordCount``` variable. For simplicity we only consider the final fold here."
     ]
    },
    {
     "cell_type": "code",
     "collapsed": false,
     "input": [
      "topWordCount=30\n",
      "fold = 4\n",
      "W_fold = W_train"
     ],
     "language": "python",
     "metadata": {},
     "outputs": [],
     "prompt_number": 54
    },
    {
     "cell_type": "code",
     "collapsed": false,
     "input": [
      "# Based on corpus-wide term distribution\n",
      "counts = W_fold.sum(axis = 0)\n",
      "freq = counts / counts.sum()\n",
      "freq = np.squeeze(np.asarray(freq))\n",
      "freq += 1E-35 if counts.dtype == np.float32 else 1E-300\n",
      "\n",
      "denom = (1 + freq)"
     ],
     "language": "python",
     "metadata": {},
     "outputs": [],
     "prompt_number": 55
    },
    {
     "cell_type": "code",
     "collapsed": false,
     "input": [
      "#scale = 1\n",
      "scale = np.reciprocal(denom)"
     ],
     "language": "python",
     "metadata": {},
     "outputs": [],
     "prompt_number": 56
    },
    {
     "cell_type": "code",
     "collapsed": false,
     "input": [
      "def topWordInds (wordDict, vocab, count=10):\n",
      "    return vocab.argsort()[-count:][::-1]\n",
      "\n",
      "kTopWordsIdf = [topWordInds(dic, model[fold].vocab[k,:] * scale, count=topWordCount) \\\n",
      "                for k in range(model[fold].K)]"
     ],
     "language": "python",
     "metadata": {},
     "outputs": [],
     "prompt_number": 57
    },
    {
     "cell_type": "code",
     "collapsed": false,
     "input": [
      "for k in range(model[fold].K):\n",
      "    print (\"\\n\\nTopic \" + str(k) + \"\\n================================\")\n",
      "    for c in range(topWordCount):\n",
      "        print (\"%-30s %05.4f\" % (dic[kTopWordsIdf[k][c]], model[fold].vocab[k][kTopWordsIdf[k][c]]))"
     ],
     "language": "python",
     "metadata": {},
     "outputs": [
      {
       "output_type": "stream",
       "stream": "stdout",
       "text": [
        "\n",
        "\n",
        "Topic 0\n",
        "================================\n",
        "you                            0.0160\n",
        "so                             0.0092\n",
        "just                           0.0091\n",
        "have                           0.0089\n",
        "he                             0.0085\n",
        "like                           0.0081\n",
        "my                             0.0080\n",
        "it                             0.0074\n",
        "me                             0.0070\n",
        "i'm                            0.0068\n",
        "she                            0.0062\n",
        "what                           0.0060\n",
        ":)                             0.0059\n",
        "go                             0.0055\n",
        "all                            0.0055\n",
        "get                            0.0054\n",
        "do                             0.0053\n",
        "think                          0.0048\n",
        "don't                          0.0048\n",
        "about                          0.0047\n",
        "ha                             0.0047\n",
        "on                             0.0045\n",
        "her                            0.0044\n",
        "up                             0.0043\n",
        "out                            0.0042\n",
        "good                           0.0041\n",
        "know                           0.0040\n",
        "now                            0.0039\n",
        "time                           0.0039\n",
        "see                            0.0039\n",
        "\n",
        "\n",
        "Topic 1\n",
        "================================\n",
        "set                            0.0148\n",
        "match                          0.0084\n",
        "win                            0.0083\n",
        "plai                           0.0073\n",
        "he                             0.0073\n",
        "break                          0.0066\n",
        "from                           0.0065\n",
        "ha                             0.0064\n",
        "up                             0.0061\n",
        "first                          0.0061\n",
        "hi                             0.0056\n",
        "get                            0.0056\n",
        "#usopen                        0.0054\n",
        "her                            0.0051\n",
        "final                          0.0051\n",
        "serena                         0.0050\n",
        "serv                           0.0050\n",
        "now                            0.0049\n",
        "game                           0.0049\n",
        "open                           0.0048\n",
        "out                            0.0048\n",
        "#wimbledon                     0.0047\n",
        "point                          0.0046\n",
        "have                           0.0046\n",
        "nadal                          0.0043\n",
        "she                            0.0043\n",
        "#rg13                          0.0042\n",
        "just                           0.0040\n",
        "seed                           0.0039\n",
        "vs                             0.0039\n",
        "\n",
        "\n",
        "Topic 2\n",
        "================================\n",
        "you                            0.0245\n",
        "have                           0.0082\n",
        "thank                          0.0080\n",
        "we                             0.0079\n",
        "my                             0.0077\n",
        "your                           0.0076\n",
        "so                             0.0062\n",
        "out                            0.0061\n",
        "from                           0.0057\n",
        "all                            0.0055\n",
        "it                             0.0055\n",
        "get                            0.0053\n",
        "our                            0.0051\n",
        "us                             0.0051\n",
        "just                           0.0050\n",
        "what                           0.0050\n",
        "do                             0.0050\n",
        "go                             0.0050\n",
        "love                           0.0050\n",
        "new                            0.0048\n",
        "up                             0.0047\n",
        "good                           0.0047\n",
        "me                             0.0047\n",
        "on                             0.0046\n",
        "like                           0.0044\n",
        "dai                            0.0043\n",
        "now                            0.0042\n",
        "look                           0.0041\n",
        "great                          0.0041\n",
        "about                          0.0040\n",
        "\n",
        "\n",
        "Topic 3\n",
        "================================\n",
        "obama                          0.0073\n",
        "new                            0.0070\n",
        "from                           0.0052\n",
        "game                           0.0045\n",
        "vs                             0.0040\n",
        "sai                            0.0037\n",
        "et                             0.0036\n",
        "stat                           0.0035\n",
        "us                             0.0035\n",
        "about                          0.0035\n",
        "sheet                          0.0034\n",
        "out                            0.0034\n",
        "b-r                            0.0032\n",
        "gop                            0.0032\n",
        "more                           0.0031\n",
        "bill                           0.0028\n",
        "year                           0.0027\n",
        "report                         0.0027\n",
        "state                          0.0027\n",
        "over                           0.0027\n",
        "senat                          0.0027\n",
        "up                             0.0027\n",
        "hous                           0.0026\n",
        "how                            0.0025\n",
        "after                          0.0025\n",
        "via                            0.0024\n",
        "market                         0.0024\n",
        "bank                           0.0024\n",
        "women                          0.0023\n",
        "get                            0.0023\n",
        "\n",
        "\n",
        "Topic 4\n",
        "================================\n",
        "you                            0.0325\n",
        "have                           0.0138\n",
        "sorri                          0.0088\n",
        "my                             0.0085\n",
        "can                            0.0079\n",
        "we                             0.0079\n",
        "your                           0.0077\n",
        "so                             0.0076\n",
        "thank                          0.0073\n",
        "what                           0.0068\n",
        "just                           0.0068\n",
        "hi                             0.0066\n",
        "do                             0.0066\n",
        "me                             0.0064\n",
        "about                          0.0064\n",
        "it                             0.0062\n",
        "like                           0.0062\n",
        "get                            0.0055\n",
        "i'm                            0.0051\n",
        "olli                           0.0050\n",
        "all                            0.0049\n",
        "good                           0.0049\n",
        "know                           0.0048\n",
        "on                             0.0047\n",
        "train                          0.0045\n",
        "servic                         0.0043\n",
        "us                             0.0043\n",
        "time                           0.0042\n",
        "think                          0.0041\n",
        "ha                             0.0041\n"
       ]
      }
     ],
     "prompt_number": 58
    },
    {
     "cell_type": "markdown",
     "metadata": {},
     "source": [
      "## Topic Assignments in Fold-4\n",
      "\n"
     ]
    },
    {
     "cell_type": "code",
     "collapsed": false,
     "input": [
      "dist = rowwise_softmax(trainTopics[fold].means)\n",
      "distMean = dist.mean(axis=0)\n",
      "\n",
      "queryDist = rowwise_softmax(queryTopics[fold].means)\n",
      "queryDistMean = queryDist.mean(axis=0)\n",
      "\n",
      "priorMean  = np.exp(model[fold].topicMean)\n",
      "priorMean /= priorMean.sum()"
     ],
     "language": "python",
     "metadata": {},
     "outputs": [],
     "prompt_number": 59
    },
    {
     "cell_type": "markdown",
     "metadata": {},
     "source": [
      "### Means"
     ]
    },
    {
     "cell_type": "code",
     "collapsed": false,
     "input": [
      "fig, ax = plt.subplots(figsize=(10,3))\n",
      "\n",
      "im = plt.imshow(priorMean.reshape(1, len(priorMean)), interpolation=\"none\")\n",
      "\n",
      "cb = fig.colorbar(im, ax=ax)\n",
      "ax.set_title(\"Prior Mean\")"
     ],
     "language": "python",
     "metadata": {},
     "outputs": [
      {
       "metadata": {},
       "output_type": "pyout",
       "prompt_number": 60,
       "text": [
        "<matplotlib.text.Text at 0x11391fc50>"
       ]
      },
      {
       "metadata": {},
       "output_type": "display_data",
       "png": "iVBORw0KGgoAAAANSUhEUgAAAiQAAAC2CAYAAADpwpYRAAAABHNCSVQICAgIfAhkiAAAAAlwSFlz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\n",
       "text": [
        "<matplotlib.figure.Figure at 0x11143de90>"
       ]
      }
     ],
     "prompt_number": 60
    },
    {
     "cell_type": "code",
     "collapsed": false,
     "input": [
      "# As integer percentages for readability\n",
      "(priorMean * 100).astype(np.int32)"
     ],
     "language": "python",
     "metadata": {},
     "outputs": [
      {
       "metadata": {},
       "output_type": "pyout",
       "prompt_number": 61,
       "text": [
        "array([12,  4, 55, 10, 16], dtype=int32)"
       ]
      }
     ],
     "prompt_number": 61
    },
    {
     "cell_type": "code",
     "collapsed": false,
     "input": [
      "fig, ax = plt.subplots(figsize=(10,3))\n",
      "\n",
      "im = plt.imshow(distMean.reshape((1, len(distMean))), interpolation=\"none\")\n",
      "\n",
      "cb = fig.colorbar(im, ax=ax)\n",
      "ax.set_title(\"Mean of Posterior Means (Training)\")"
     ],
     "language": "python",
     "metadata": {},
     "outputs": [
      {
       "metadata": {},
       "output_type": "pyout",
       "prompt_number": 62,
       "text": [
        "<matplotlib.text.Text at 0x11394b110>"
       ]
      },
      {
       "metadata": {},
       "output_type": "display_data",
       "png": "iVBORw0KGgoAAAANSUhEUgAAAiQAAAC/CAYAAADOzcfZAAAABHNCSVQICAgIfAhkiAAAAAlwSFlz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\nREREomNCQkRERKL7/5NvzLvfJ6AJAAAAAElFTkSuQmCC\n",
       "text": [
        "<matplotlib.figure.Figure at 0x111aaafd0>"
       ]
      }
     ],
     "prompt_number": 62
    },
    {
     "cell_type": "code",
     "collapsed": false,
     "input": [
      "# As integer percentages for readability\n",
      "(distMean * 100).astype(np.int32)"
     ],
     "language": "python",
     "metadata": {},
     "outputs": [
      {
       "metadata": {},
       "output_type": "pyout",
       "prompt_number": 63,
       "text": [
        "array([17,  7, 40, 18, 15], dtype=int32)"
       ]
      }
     ],
     "prompt_number": 63
    },
    {
     "cell_type": "code",
     "collapsed": false,
     "input": [
      "fig, ax = plt.subplots(figsize=(10,3))\n",
      "\n",
      "im = plt.imshow(queryDistMean.reshape((1, len(distMean))), interpolation=\"none\")\n",
      "\n",
      "cb = fig.colorbar(im, ax=ax)\n",
      "ax.set_title(\"Mean of Posterior Means (Query)\")"
     ],
     "language": "python",
     "metadata": {},
     "outputs": [
      {
       "metadata": {},
       "output_type": "pyout",
       "prompt_number": 64,
       "text": [
        "<matplotlib.text.Text at 0x112032090>"
       ]
      },
      {
       "metadata": {},
       "output_type": "display_data",
       "png": "iVBORw0KGgoAAAANSUhEUgAAAiQAAAC1CAYAAABvVuS/AAAABHNCSVQICAgIfAhkiAAAAAlwSFlz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\nCgAAAABJRU5ErkJggg==\n",
       "text": [
        "<matplotlib.figure.Figure at 0x11143dc50>"
       ]
      }
     ],
     "prompt_number": 64
    },
    {
     "cell_type": "code",
     "collapsed": false,
     "input": [
      "# As integer percentages for readability\n",
      "(queryDistMean * 100).astype(np.int32)"
     ],
     "language": "python",
     "metadata": {},
     "outputs": [
      {
       "metadata": {},
       "output_type": "pyout",
       "prompt_number": 65,
       "text": [
        "array([20,  5, 39, 17, 17], dtype=int32)"
       ]
      }
     ],
     "prompt_number": 65
    },
    {
     "cell_type": "markdown",
     "metadata": {},
     "source": [
      "### Covariance"
     ]
    },
    {
     "cell_type": "code",
     "collapsed": false,
     "input": [
      "fig, ax = plt.subplots(figsize=(11,9))\n",
      "\n",
      "im = plt.imshow(model[fold].sigT, interpolation=\"none\")\n",
      "\n",
      "cb = fig.colorbar(im, ax=ax)\n",
      "ax.set_title(\"Covariance Matrix\")"
     ],
     "language": "python",
     "metadata": {},
     "outputs": [
      {
       "metadata": {},
       "output_type": "pyout",
       "prompt_number": 66,
       "text": [
        "<matplotlib.text.Text at 0x111f70a50>"
       ]
      },
      {
       "metadata": {},
       "output_type": "display_data",
       "png": "iVBORw0KGgoAAAANSUhEUgAAAlUAAAIWCAYAAAB+ynhwAAAABHNCSVQICAgIfAhkiAAAAAlwSFlz\nAAALEgAACxIB0t1+/AAAIABJREFUeJzt3X90FfWd//HXBLIajA1BJJEkGCRUcvnhjWIjGCWRw/Ij\ngqxQCwpESCmHhbZoPUdtUQGVFX8eEN3qqQsigtaza4mKYQEJFBAj8mu78BWoIiFBaoSAaWCT3Mz3\nDzA1kJCBO59Mknk+zrnncHMnM++RlrzOa2Y+sWzbtgUAAICwRHg9AAAAQGtAqAIAAHABoQoAAMAF\nhCoAAAAXEKoAAABcQKgCAABwAaEKaCWmTp2qJ554wusxPNOrVy9t2LDB6zEA+BihCgjTsmXL1Ldv\nX11++eXq3Lmzhg0bpk2bNjX5HP/+7/+umTNnNvlxG7J48WJFRETo/vvvr/P1FStWKCIiQhMnTnS0\nn3vvvVePPPJIo9v95S9/0a233npRswKAGwhVQBief/553XfffZo5c6b+9re/qaioSNOmTVNeXl6T\nzlFTU9Okx3PCsix169ZN77zzjkKhUO3XX3/9df34xz+WZVmuHKe6utqV/QBAuAhVwEU6fvy4Hnvs\nMb388ssaOXKkoqKi1KZNG2VnZ2vevHmSpP/7v//TjBkzlJCQoISEBN13332qrKyUJKWmpuqDDz6o\n3V91dbWuvPJK7dixQ5L005/+VFdddZXat2+vAQMGaPfu3bXb3nvvvZo6daqGDRum6OhorVu3rk6j\nc+zYMd1+++3q1KmTOnTooOHDh6u4uLj2+zMzM/Xoo48qIyNDP/rRjzR48GB9++23tZ9v3LhR/fv3\nV2xsrLp06aLXX3+99nweeOABXX311YqPj9fUqVN16tSpBv8bxcfHq3fv3lq1apUk6ejRo/r44481\nYsQI/fCXOTR0rq+++qqWLVump59+WpdffrnuuOMOSVJycrKefvpp9enTR5dffrlCoZCSk5P10Ucf\nSZKGDRumBx54oHb/Y8aMUW5urrO/WAC4SIQq4CJ9/PHHOnXqlP7lX/6lwW2efPJJFRYWaufOndq5\nc6cKCwtr73u6++67tXz58tptV61apU6dOikYDEqSsrOztX//fn3zzTe6/vrrdc8999TZ9/Lly/XI\nI4+ovLxcGRkZsiyrtv2xbVu5ubk6ePCgDh48qKioKE2fPv2c71+8eLH+9re/qbKyUs8++6wk6auv\nvtKwYcP061//WqWlpdqxY0ftTA899JD279+vnTt3av/+/SouLtacOXPqPffvQ9P48eO1ZMkSSdJb\nb72lO+64Q5dcckmdbRs611/84he655579OCDD+q7777TihUrar/nrbfe0ocffqiysjK1adOmTvO1\naNEivfHGG1q3bp3efPNNbd26VQsWLGjw7wkAXGEDuChLly614+Pjz7tNt27d7A8//LD2/apVq+zk\n5GTbtm1737599uWXX26fPHnStm3bvvvuu+3HH3+83v0cO3bMtizLPnHihG3btp2Tk2Pn5OTU2ebe\ne++1Z86cWe/3b9++3Y6Nja19n5mZaT/55JO1719++WV7yJAhtm3b9ty5c+0777zznH3U1NTYl112\nmf3Xv/619mubN2+2u3btWu8xFy1aZGdkZNgnT5604+Li7OPHj9s33XSTvXnzZnvmzJn2vffe6+hc\n6zuv5ORke9GiRed8be3atbXv//M//9NOTEy0O3bsaG/atKneYwGAm2iqgIt0xRVXqLS09Lz3M5WU\nlOjqq6+ufd+lSxeVlJRIklJSUpSamqq8vDxVVFTovffe09133y1JCoVCeuihh5SSkqKYmBh17dpV\nklRaWirp9P1KSUlJDR63oqJCU6ZMUXJysmJiYjRgwAAdP368ziW3+Pj42j9HRUWpvLxcklRUVKRr\nrrnmnH1+8803qqio0A033KDY2FjFxsZq6NChtTM15NJLL1V2drYef/xxHT16VP369aszR2Pn2pDz\nnb8k3X777QqFQurRo4f69+9/3m0BwA2EKuAi9evXT5dcconefffdBrfp3LmzDhw4UPv+4MGD6ty5\nc+37sWPHavny5VqxYoUCgUBtmFm2bJny8vK0du1aHT9+XF9++aUk1Qkj9fn+Ethzzz2nvXv3qrCw\nUMePH9f69etl23aj3y+dDn5//etfz/l6x44dFRUVpd27d+vYsWM6duyYysrKdOLEiUb3OWHCBD3/\n/PMaN27cOZ81dq4N3dDe2I3uv/vd7xQIBHT48GG99dZbjc4IAOEiVAEXKSYmRnPmzNG0adO0YsUK\nVVRUqKqqSh9++KEefPBBSadD0xNPPKHS0lKVlpZqzpw5Gj9+fO0+xowZo1WrVun3v/99nXumysvL\ndckll6hDhw76+9//rt/+9rd1jl1fOPphaCovL1dUVJRiYmJ09OhRzZ49u97t63P33XdrzZo1eued\nd1RdXa1vv/1WO3fuVEREhCZPnqwZM2bom2++kSQVFxfrv//7vxv9bzVgwACtWbNGv/zlL8/5rLFz\njYuL0xdffNHoMX5ow4YNWrx4sd544w0tXrxYv/zlL2sbQgAwhVAFhOH+++/X888/ryeeeEKdOnVS\nly5d9PLLL9fevD5z5kz17dtXffr0UZ8+fdS3b986a0nFx8erf//++vjjj/Wzn/2s9usTJkzQ1Vdf\nrYSEBPXq1Uv9+vWr08z88Kb0+r42Y8YMnTx5Uh07dlT//v01dOjQerev73u7dOmilStX6rnnntMV\nV1yhtLQ07dq1S5I0b948paSk6KabblJMTIwGDRqkvXv31vvf5uwZs7Ky1L59+3M+a+xcc3NztXv3\nbsXGxurOO+8879+HJJ04cUI5OTl66aWXdNVVVykjI0O5ubmaNGlSo98LwH1RZ/7/bvLVoUMHr09T\nkmTZTq4HAAAAXATLsjTL8DFmqfHbI5oCTRUAAIAL2no9AAAAaN38EjZoqgAAAFzgl/AIAAA8Eun1\nAE0k7FA1IHC1Nuw56MYsAADAkAEDBqigoMDrMVq1sEPVhj0HVXOXO79t3kuz/mJrVq+Wex4d3yzy\negRXVMx5Tu0e/Y3XY4TlaORir0dwwVpJA70eIkzVXg/ggnWSsrweIjy3P+b1BOH7fJZ07SyvpwiL\n/V7jC+aa5JfLYtxTBQAA4AK/hEcAAOAR7qnymcxOXk8ASYoc0M/rESBJ6ur1AJAkJXs9ACTpikyv\nJ2jx/BI2uPx3Rmanlns/VWsSOaC/1yNAknSN1wNAEuG2meiY6fUEaCH8Eh4BAIBH/HL5j6YKAADA\nBTRVAADAKL+EDZoqAAAAF/glPAIAAI9wTxUAAAAco6kCAABG+SVs0FQBAAC4wC/hEQAAeIR7qgAA\nAOAYTRUAADCKpgoAAACO0VQBAACj/BI2aKoAAABc4JfwCAAAPMI9VQAAAHCMpgoAABjll7BBUwUA\nAOACQhUAADAq0vDrbKdOnVJ6erqCwaACgYAefvjheucqKChQWlqaevXqpczMzLDP0y+NHAAA8IlL\nL71U69atU7t27VRdXa2MjAxt3LhRGRkZtduUlZVp2rRpWrVqlRITE1VaWhr2cQlVAADAKC/CRrt2\n7SRJlZWVCoVC6tChQ53Ply1bplGjRikxMVGS1LFjx7CPyeU/AADQ6tTU1CgYDCouLk5ZWVkKBAJ1\nPt+3b5+OHj2qrKws9e3bV2+88UbYx6SpAgAARrm9TtVWSZ81sk1ERIR27Nih48ePa/DgwSooKKhz\n31RVVZW2bdumtWvXqqKiQv369dNNN92k7t27X/RchCoAANCi9D3z+t6r59k2JiZG2dnZ2rp1a51Q\nlZSUpI4dOyoqKkpRUVG69dZbtXPnzrBCFZf/AACAUW0Nv85WWlqqsrIySdLJkye1evVqpaWl1dnm\njjvu0MaNGxUKhVRRUaFPPvnknEuEF3OeAAAArcbhw4eVk5Ojmpoa1dTUaPz48Ro4cKBeeeUVSdKU\nKVPUo0cPDRkyRH369FFERIQmT54cdqiybNu2w9qBZanmLiusIRC+jm8WeT0CzjgaudjrESBJqvZ6\nAEjS7Y95PQEk2e+d/nkd5o/8i2JZlnYbPkZA8uTczsblPwAAABdw+Q8AABjll7BBUwUAAOACv4RH\nAADgEbfXqWquaKoAAABcQFMFAACMoqkCAACAYzRVAADAKL+EDZoqAAAAF/glPAIAAI9Emk4bzeQX\nKNBUAQAAuKDRUJWfn68ePXqoe/fumjdvXlPMBAAAWpG2bc2+movzhqpQKKTp06crPz9fu3fv1vLl\ny7Vnz56mmg0AAKDFOG++KywsVEpKipKTkyVJY8aM0YoVK5SamtoUswEAgFYgso3XEzSN8zZVxcXF\nSkpKqn2fmJio4uJi40MBAAC0NOdtqizLaqo5AABAK9Wc7nsy6bynmZCQoKKiotr3RUVFSkxMPGe7\nWX+xa/+c2UnK7EQYAwDAU6UF0rcFkqRZs7wcxD8s27bthj6srq7Wtddeq7Vr16pz5876yU9+ouXL\nl9e5p8qyLNXcRYjyWsc3ixrfCE3iaORir0eApGazcI3f3f6Y1xNAkv3e6Z/X5/mRb4xlWbKvMHyM\nb+XJuZ3tvE1V27ZttXDhQg0ePFihUEi5ubncpA4AAFCPRq9yDh06VEOHDm2KWQAAQGvE038AAABw\nyif34wMAAM/4JG345DQBAIBnfJI2uPwHAADgAp9kRwAA4BmfpA2aKgAAABf4JDsCAADPsKQCAAAA\nnKKpAgAAZvkkbdBUAQAAuMAn2REAAHjGJ2mDpgoAAMAFPsmOAADAMzz9BwAAAKdoqgAAgFk+SRs0\nVQAAAC7wSXYEAACe8UnaoKkCAABwgU+yIwAA8AxP/wEAAMApmioAAGCWT9IGTRUAAIALfJIdAQCA\nZ3ySNmiqAAAAXOCT7AgAADzjk7RBUwUAAFqVU6dOKT09XcFgUIFAQA8//HC92/3qV79S9+7ddd11\n12n79u1hH9cn2REAAHimidepuvTSS7Vu3Tq1a9dO1dXVysjI0MaNG5WRkVG7zcqVK7V//37t27dP\nn3zyiaZOnaotW7aEdVyaKgAA0Oq0a9dOklRZWalQKKQOHTrU+TwvL085OTmSpPT0dJWVlenIkSNh\nHZNQBQAAzGpr+FWPmpoaBYNBxcXFKSsrS4FAoM7nxcXFSkpKqn2fmJioQ4cOhXWahCoAANDqRERE\naMeOHTp06JA2bNiggoKCc7axbbvOe8uywjom91QBAACzXE4bBd+cfjkRExOj7Oxsbd26VZmZmbVf\nT0hIUFFRUe37Q4cOKSEhIay5aKoAAECLknmlNCvwj9fZSktLVVZWJkk6efKkVq9erbS0tDrbjBgx\nQkuWLJEkbdmyRe3bt1dcXFxYc9FUAQAAs5r46b/Dhw8rJydHNTU1qqmp0fjx4zVw4EC98sorkqQp\nU6Zo2LBhWrlypVJSUnTZZZdp0aJFYR/Xss++oHihO7As1dwV3jVIhK/jm0WNb4QmcTRysdcjQJJU\n7fUAkKTbH/N6Akiy3zv98zrMH/kXxbIs2T81fIx3zr0/ygs0VQAAwCyfpA3uqQIAAHCBT7IjAADw\njE/SBk0VAACAC3ySHQEAgGea+Ok/r9BUAQAAuICmCgAAmOWTtEFTBQAA4AKfZEcAAOAZn6QNmioA\nAAAX+CQ7AgAAz/gkbbhymp3e/MqN3SAM37zWxesRcEYbbfZ6BEhS+594PQEk6f1PvJ4AkqR0rwfw\nBZ9kRwAA4BnWqQIAAIBTNFUAAMAsn6QNmioAAAAX+CQ7AgAAz/gkbdBUAQAAuMAn2REAAHjGJ0//\nEaoAAIBZPkkbXP4DAABwgU+yIwAA8IxP0gZNFQAAgAt8kh0BAIBnfJI2aKoAAABc4JPsCAAAPOOT\nJRVoqgAAAFxAUwUAAMzySdqgqQIAAHCBT7IjAADwjE/SBk0VAACAC3ySHQEAgGd4+g8AAABO0VQB\nAACzfJI2aKoAAABc4JPsCAAAPOOTtEFTBQAA4AKfZEcAAOAZnv4DAACAUzRVAADALJ+kDZoqAAAA\nF/gkOwIAAM/4JG3QVAEAALjAJ9kRAAB4xidpg6YKAADABT7JjgAAwDOsUwUAANDyFBUVKSsrSz17\n9lSvXr20YMGCBrf99NNP1bZtW/3Xf/1X2MelqQIAAGY1cdqIjIzUCy+8oGAwqPLyct1www0aNGiQ\nUlNT62wXCoX04IMPasiQIbJtO+zj0lQBAIBWJT4+XsFgUJIUHR2t1NRUlZSUnLPdiy++qNGjR+vK\nK6905bg0VQAAwCwP08aBAwe0fft2paen1/l6cXGxVqxYoY8++kiffvqpLMsK+1g0VQAAoFUqLy/X\n6NGjNX/+fEVHR9f5bMaMGXrqqadkWZZs23bl8h9NFQAAMMvlp/8KdkoFu86/TVVVlUaNGqVx48Zp\n5MiR53z+2WefacyYMZKk0tJSffjhh4qMjNSIESMuei5CFQAAaFEyrzv9+t7spXU/t21bubm5CgQC\nmjFjRr37+OKLL2r/PHHiRA0fPjysQCURqgAAgGlNnDY2bdqkpUuXqk+fPkpLS5MkzZ07VwcPHpQk\nTZkyxchxCVUAAKBVycjIUE1NjePtFy1a5MpxCVUAAMAsn6SNRp/+mzRpkuLi4tS7d++mmAcAAKBF\najRUTZw4Ufn5+U0xCwAAaI3aGH41E42GqltuuUWxsbFNMQsAAECL5ZOrnAAAwDM+SRuunObf5zxf\n++fIAf30TwP6ubFbAABw0T6TtE2SNGvWh96O4hOuhKrLHr3fjd0AAADX3HDmJc2ala7Zs2d7N4pP\nmip+9x8AAIALGg1VY8eOVf/+/bV3714lJSW5tkAWAADwibaGX81Eo6MsX768KeYAAABo0ZpRvgMA\nAK1SM1pLyiTuqQIAAHABTRUAADDLJ2mDpgoAAMAFPsmOAADAMz5JGzRVAAAALvBJdgQAAJ7xydN/\nhCoAAGCWT9IGl/8AAABc4JPsCAAAPOOTtEFTBQAA4AKfZEcAAOAZn6QNmioAAAAX+CQ7AgAAr9g+\nWVKBpgoAAMAFNFUAAMCokE/SBk0VAACAC3ySHQEAgFdoqgAAAOCYT7IjAADwSnUb0x1OjeH9O0NT\nBQAA4AKaKgAAYFSorem4UWl4/87QVAEAALiApgoAABgVauOPJdVpqgAAAFxAUwUAAIwKiaYKAAAA\nDtFUAQAAo6ppqgAAAOAUTRUAADAq5JO4QVMFAADgAn9ERwAA4Bme/gMAAIBjNFUAAMAomioAAAA4\nRlMFAACMoqkCAABogSZNmqS4uDj17t273s9LS0s1ZMgQBYNB9erVS4sXL3bluIQqAABgVLXaGH2d\nbeLEicrPz29wnoULFyotLU07duxQQUGBfvOb36i6ujrs8yRUAQCAVuWWW25RbGxsg59fddVVOnHi\nhCTpxIkTuuKKK9S2bfh3RHFPFQAAMKq5rag+efJk3XbbbercubO+++47/fGPf3RlvzRVAADAV+bO\nnatgMKiSkhLt2LFD06ZN03fffRf2fptXdAQAAK2O20//fVpQoa0FFRf9/Zs3b9bvfvc7SVK3bt3U\ntWtXff755+rbt29YcxGqAABAi3JjZjvdmNmu9v3vZx+9oO/v0aOH1qxZo5tvvllHjhzR559/rmuu\nuSbsuQhVAADAqKZep2rs2LFav369SktLlZSUpNmzZ6uqqkqSNGXKFP32t7/VxIkTdd1116mmpkZP\nP/20OnToEPZxLdu27bB2YFmS9WTYgyA8lrK8HgFnPGLf7PUIkDTHWuH1CJCkBcO9ngCS7Omnf16H\n+SP/oliWpW12qtFjXG/t8eTczkZTBQAAjKpvLanWiKf/AAAAXEBTBQAAjGpu61SZQlMFAADgAn9E\nRwAA4JmmfvrPKzRVAAAALqCpAgAARtFUAQAAwDGaKgAAYBRNFQAAAByjqQIAAEaxojoAAAAco6kC\nAABG+WVFdX+cJQAA8Aw3qgMAAMAxmioAAGAUTRUAAAAco6kCAABGsaQCAAAAHKOpAgAARvllSQWa\nKgAAABf4IzoCAADP8PQfAAAAHKOpAgAARtFUAQAAwDGaKgAAYBTrVAEAAMAxmioAAGAU61QBAADA\nMX9ERwAA4Bme/gMAAIBjNFUAAMAomioAAAA4RlMFAACMoqkCAACAYzRVAADAKFZUBwAAgGM0VQAA\nwChWVAcAAIBj/oiOAADAMzz9BwAAAMdoqgAAgFE0VQAAAHCMpgoAABjFOlVnFBUVKSsrSz179lSv\nXr20YMGCppgLAACgRWm0qYqMjNQLL7ygYDCo8vJy3XDDDRo0aJBSU1ObYj4AANDCsU7VGfHx8QoG\ng5Kk6OhopaamqqSkxPhgAAAAF2PSpEmKi4tT79696/38zTff1HXXXac+ffro5ptv1q5du1w57gXd\nqH7gwAFt375d6enprhwcAAC0fiG1Mfo628SJE5Wfn9/gPNdcc402bNigXbt26ZFHHtEvfvELV87T\ncR9XXl6u0aNHa/78+YqOjq77ob32B2+6StY1rgwHAAAu0r6C0y9Js0o9naTJ3XLLLTpw4ECDn/fr\n16/2z+np6Tp06JArx3UUqqqqqjRq1CiNGzdOI0eOPHcDa6ArwwAAAJd0zzz9kjRrujR79mzPRmnO\n61S99tprGjZsmCv7ajRU2bat3NxcBQIBzZgxw5WDAgAAXKyvCg7oq4Kvwt7PunXr9B//8R/atGmT\nC1M5CFWbNm3S0qVL1adPH6WlpUmS/u3f/k1DhgxxZQAAANC6ud1UJWZ2U2Jmt9r3G2dvuOB97Nq1\nS5MnT1Z+fr5iY2NdmavRUJWRkaGamhpXDgYAAOC1gwcP6s4779TSpUuVkpLi2n79sXAEAADwTFOv\nqD527FitX79epaWlSkpK0uzZs1VVVSVJmjJliubMmaNjx45p6tSpkk6vyVlYWBj2cQlVAACgVVm+\nfPl5P//DH/6gP/zhD64fl1AFAACMYkV1AAAAOOaP6AgAADzTnNepchNNFQAAgAtoqgAAgFE0VQAA\nAHCMpgoAABjV1OtUeYWmCgAAwAU0VQAAwCi/rFPlj7MEAACe4UZ1AAAAOEZTBQAAjKKpAgAAgGM0\nVQAAwCiaKgAAADhGUwUAAIxi8U8AAAA4RlMFAACM8svinzRVAAAALvBHdAQAAJ7h6T8AAAA4RlMF\nAACMoqkCAACAYzRVAADAKNapAgAAgGM0VQAAwCjWqQIAAIBj/oiOAADAMzz9BwAAAMdoqgAAgFE0\nVQAAAHCMpgoAABjFOlUAAABwjKYKAAAYxTpVAAAAcMwf0REAAHiGp/8AAADgGE0VAAAwiqYKAAAA\njtFUAQAAo2iqAAAA4BhNFQAAMMovK6q7E6rsKld2g4tnt7/J6xFwxuNl73o9AiR9YI/0egRIyv4q\n5PUIQJOhqQIAAEaxojoAAAAc80d0BAAAnuHpPwAAgBYqPz9fPXr0UPfu3TVv3rx6tykoKFBaWpp6\n9eqlzMzMsI9JUwUAAIxq6qYqFApp+vTpWrNmjRISEnTjjTdqxIgRSk1Nrd2mrKxM06ZN06pVq5SY\nmKjS0tKwj0tTBQAAWpXCwkKlpKQoOTlZkZGRGjNmjFasWFFnm2XLlmnUqFFKTEyUJHXs2DHs4xKq\nAACAUdVqY/R1tuLiYiUlJdW+T0xMVHFxcZ1t9u3bp6NHjyorK0t9+/bVG2+8EfZ5cvkPAAC0KKcK\nCnWqoLDBzy3LanQfVVVV2rZtm9auXauKigr169dPN910k7p3737RcxGqAACAUW6vUxWZ2V+Rmf1r\n3x+f/VKdzxMSElRUVFT7vqioqPYy3/eSkpLUsWNHRUVFKSoqSrfeeqt27twZVqji8h8AAGhV+vbt\nq3379unAgQOqrKzU22+/rREjRtTZ5o477tDGjRsVCoVUUVGhTz75RIFAIKzj0lQBAACjmvrpv7Zt\n22rhwoUaPHiwQqGQcnNzlZqaqldeeUWSNGXKFPXo0UNDhgxRnz59FBERocmTJ4cdqizbtu2wdmBZ\nkmaFNQRc0P5RryfAGVZZntcjQNL7utPrESAp+wF+919zYD9z+ud1mD/yL4plWbrK/sLoMQ5b13hy\nbmejqQIAAEaxojoAAAAco6kCAABGhWpoqgAAAOAQTRUAADCqutofTRWhCgAAGBWq9kfc4PIfAACA\nC/wRHQEAgGdCPrn8R1MFAADgApoqAABgFE0VAAAAHKOpAgAARlVX0VQBAADAIZoqAABgVE3IH3GD\npgoAAMAF/oiOAADAOzz9BwAAAKdoqgAAgFk0VQAAAHCKpgoAAJhVbXk9QZOgqQIAAHABTRUAADCr\n2usBmgZNFQAAgAtoqgAAgFk0VQAAAHCKpgoAAJhFUwUAAACnaKoAAIBZVV4P0DRoqgAAAFxAUwUA\nAMwKeT1A06CpAgAAcAFNFQAAMIun/047deqU0tPTFQwGFQgE9PDDDzfFXAAAAC1Ko03VpZdeqnXr\n1qldu3aqrq5WRkaGNm7cqIyMjKaYDwAAtHQ0Vf/Qrl07SVJlZaVCoZA6dOhgdCgAAICWxlGoqqmp\nUTAYVFxcnLKyshQIBEzPBQAAWotqw69mwtGN6hEREdqxY4eOHz+uwYMHq6CgQJmZmT/YYt0P/pws\nqauLIwIAgAt2sEAqKpAkzZrl5SD+cUFP/8XExCg7O1tbt249K1RluTsVAAAIT5fM0y+dDlWzZ8/2\nbpZm1CaZ1Ojlv9LSUpWVlUmSTp48qdWrVystLc34YAAAAC1Jo03V4cOHlZOTo5qaGtXU1Gj8+PEa\nOHBgU8wGAABaA580VY2Gqt69e2vbtm1NMQsAAECLxYrqAADALJ80VfzuPwAAABfQVAEAALOqvB6g\nadBUAQAAuIBQBQAAzAoZftUjPz9fPXr0UPfu3TVv3rx6t/nVr36l7t2767rrrtP27dvDPk1CFQAA\naFVCoZCmT5+u/Px87d69W8uXL9eePXvqbLNy5Urt379f+/bt06uvvqqpU6eGfVxCFQAAMKuJf/df\nYWGhUlJSlJycrMjISI0ZM0YrVqyos01eXp5ycnIkSenp6SorK9ORI0fCOk1CFQAAaFWKi4uVlJRU\n+z4xMVGHAK9mAAAMhklEQVTFxcWNbnPo0KGwjsvTfwAAwKwmXqfKsixH29m2fVHf1xBCFQAAaFn+\nX4H0eUGDHyckJKioqKj2fVFRkRITE8+7zaFDh5SQkBDWWFz+AwAAZrl9D1VKppQ96x+vs/Tt21f7\n9u3TgQMHVFlZqbffflsjRoyos82IESO0ZMkSSdKWLVvUvn17xcXFhXWaNFUAAKBVadu2rRYuXKjB\ngwcrFAopNzdXqampeuWVVyRJU6ZM0bBhw7Ry5UqlpKTosssu06JFi8I+rmWffUHxQndgWZJmhT0I\nwtT+Ua8nwBlWWZ7XI0DS+7rT6xEgKfuBBhYRQpOynzn98zrMH/kXxbIs6SXDx53mzbmdjct/AAAA\nLuDyHwAAMKuJn/7zCqEKAACY5ZNQxeU/AAAAF9BUAQAAs6q8HqBp0FQBAAC4gKYKAACY5ZOVNWiq\nAAAAXEBTBQAAzOLpPwAAADhFUwUAAMyiqQIAAIBTNFUAAMAsmioAAAA4RVMFAADMYkV1AAAAOEVT\nBQAAzGJFdQAAADhFUwUAAMzi6T8AAAA4RVMFAADMoqkCAACAUzRVAADALNapAgAAgFM0VQAAwCzW\nqQIAAIBTNFUAAMAsnv4DAACAUzRVAADALJoqAAAAOEVTBQAAzPLJOlXuhKrsR13ZDcKwstDrCXCG\n/eIdXo8AScO/8sm/4s3c9qev9XoESJI+93oAX6CpAgAAZrFOFQAAAJyiqQIAAGbx9B8AAACcoqkC\nAABm0VQBAADAKZoqAABglk9WOKGpAgAAcAFNFQAAMIt1qgAAAOAUTRUAADCLp/8AAADgFE0VAAAw\ni6YKAAAAThGqAACAWVWGXxfg6NGjGjRokH784x/rn//5n1VWVlbvdmVlZRo9erRSU1MVCAS0ZcuW\nRvdNqAIAAL7x1FNPadCgQdq7d68GDhyop556qt7tfv3rX2vYsGHas2ePdu3apdTU1Eb3TagCAABm\nhQy/LkBeXp5ycnIkSTk5OfrTn/50zjbHjx/Xn//8Z02aNEmS1LZtW8XExDS6b0IVAADwjSNHjigu\nLk6SFBcXpyNHjpyzzZdffqkrr7xSEydO1PXXX6/JkyeroqKi0X0TqgAAgFnVhl9nGTRokHr37n3O\nKy8vr852lmXJsqxzx62u1rZt2/Sv//qv2rZtmy677LIGLxP+EEsqAACAlqW8QPp7QYMfr169usHP\n4uLi9PXXXys+Pl6HDx9Wp06dztkmMTFRiYmJuvHGGyVJo0ePdhSqaKoAAIBZbjdTl2ZKV8z6x+sC\njBgxQq+//rok6fXXX9fIkSPP2SY+Pl5JSUnau3evJGnNmjXq2bNno/umqQIAAGZd4LIHJj300EO6\n66679Nprryk5OVl//OMfJUklJSWaPHmyPvjgA0nSiy++qHvuuUeVlZXq1q2bFi1a1Oi+Ldu27XCG\nsyxLyq4JZxdww8pCryfA9xakez0BJEV8xb9LzcFnTzf+GDrMC1qfy7Ishfkj/6JYliWlGD7ufm/O\n7Ww0VQAAwKwLXPagpeKeKgAAABfQVAEAALP4hcoAAABwiqYKAACYRVMFAAAAp2iqAACAWc1onSqT\naKoAAABcQFMFAADMYp0qAAAAOEVTBQAAzOLpPwAAADhFUwUAAMyiqQIAAIBTNFUAAMAs1qkCAACA\nUzRVAADALNapAgAAgFM0VQAAwCzb6wGaBk0VAACACwhVAAAALnAUqkKhkNLS0jR8+HDT8wAAALRI\njkLV/PnzFQgEZFmW6XkAAABapEZD1aFDh7Ry5Ur9/Oc/l2375E4zAACAC9RoqLrvvvv0zDPPKCKC\n268AAAAact6k9P7776tTp05KS0ujpQIAADiP865TtXnzZuXl5WnlypU6deqUTpw4oQkTJmjJkiV1\nN9w76x9/viLz9AsAAHhma0GFthZUSJLirVneDuOTX/5n2Q4rqPXr1+vZZ5/Ve++9V3cHliVl1xgZ\nDhdgZaHXE+B7C9K9ngCSIr7i36Xm4LOnU70eAZKC1ueyLMuTq06nH3KrNHyUf2oWV9QuaEV1nv4D\nAAAXrtrrAZqE41A1YMAADRgwwOQsAAAALRa/+w8AABjmj3uqWCcBAADABTRVAADAMH/cU0VTBQAA\n4AKaKgAAYBj3VAEAAMAhmioAAGAYTRUAAAAcoqkCAACG8fQfAAAAHKKpAgAAhnFPFQAAAByiqQIA\nAIZxTxUAAAAcoqkCAACGcU8VAAAAHCJUAQAAw6oNv5x755131LNnT7Vp00bbtm2rd5uioiJlZWWp\nZ8+e6tWrlxYsWOBo34QqAADgG71799a7776rW2+9tcFtIiMj9cILL+h///d/tWXLFr300kvas2dP\no/vmnioAAGBY87mnqkePHo1uEx8fr/j4eElSdHS0UlNTVVJSotTU1PN+H6EKAAAY1nKXVDhw4IC2\nb9+u9PT0RrclVAEAgFZl0KBB+vrrr8/5+ty5czV8+HDH+ykvL9fo0aM1f/58RUdHN7o9oQoAABjm\n9uW/HWde9Vu9enXYR6iqqtKoUaM0btw4jRw50tH3EKoAAEALEzzz+t7rF7UX27Yb/Hpubq4CgYBm\nzJjheH88/QcAAAxrPksqvPvuu0pKStKWLVuUnZ2toUOHSpJKSkqUnZ0tSdq0aZOWLl2qdevWKS0t\nTWlpacrPz29035bdUExzyLIsKbsmnF3ADSsLvZ4A31vQ+M2MMC/iK/5dag4+e/r8T0uhaQStz2VZ\nVoPNjEmWZUkK/3Lc+Q3y5NzOxuU/AABgWPNZUsEkLv8BAAC4gKYKAAAY1nLXqboQNFUAAAAuoKkC\nAACGcU8VAAAAHKKpAgAAhtFUAQAAwCGaKgAAYBhP/wEAAMAhmioAAGAY91QBAADAIZoqAABgGPdU\nAQAAwCGaKgAAYBj3VAEAAMAhQtX3vi3wegJIkv2Z1xNAkvYVeD0BJNkHC7weAZK2FlR4PUIrUG34\n1TwQqr5HqGomtnk9ACRCVTNhF633egSIUAXnuKcKAAAY5o97qlwJVdd3c2Mv3ir5Rurcks/j+nZe\nT+CKkpJIde7cws/lSq8HCF9JO6lzCz+PiOZzReCiFf9ISkjweorwRKmn1yOEra32KEqpXo+BFsCy\nbdsOZweZmZlav56KGgCA5mzAgAEqKCho8uNaliVpnuGjPKgw44wrwm6qvPgLAgAAaG64pwoAABjm\nj3uqePoPAADABb4PVfn5+erRo4e6d++uefNMX/NFQyZNmqS4uDj17t3b61F8raioSFlZWerZs6d6\n9eqlBQsWeD2SL506dUrp6ekKBoMKBAJ6+OGHvR7J10KhkNLS0jR8+HCvR2nB/LFOVdg3qrdkoVBI\n1157rdasWaOEhATdeOONWr58uVJTecqjqf35z39WdHS0JkyYoP/5n//xehzf+vrrr/X1118rGAyq\nvLxcN9xwg/70pz/x/wkPVFRUqF27dqqurlZGRoaeffZZZWRkeD2WLz3//PP67LPP9N133ykvL8/r\ncVqc0zeqmxUbG6ujR48aP05jfN1UFRYWKiUlRcnJyYqMjNSYMWO0YsUKr8fypVtuuUWxsbFej+F7\n8fHxCgaDkqTo6GilpqaqpKTE46n8qV2700uLVFZWKhQKqUOHDh5P5E+HDh3SypUr9fOf/7xZPF3W\nEtm2bfzVHAKV5PNQVVxcrKSkpNr3iYmJKi4u9nAioPk4cOCAtm/frvT0dK9H8aWamhoFg0HFxcUp\nKytLgUDA65F86b777tMzzzyjiAhf/7iEQ77+X0lTVJJAS1ReXq7Ro0dr/vz5io6O9nocX4qIiNCO\nHTt06NAhbdiwgeVrPPD++++rU6dOSktLo6WCI74OVQkJCSoqKqp9X1RUpMTERA8nArxXVVWlUaNG\nady4cRo5cqTX4/heTEyMsrOztXXrVq9H8Z3NmzcrLy9PXbt21dixY/XRRx9pwoQJXo+FZszXoapv\n377at2+fDhw4oMrKSr399tsaMWKE12MBnrFtW7m5uQoEApoxY4bX4/hWaWmpysrKJEknT57U6tWr\nlZaW5vFU/jN37lwVFRXpyy+/1FtvvaXbbrtNS5Ys8XosNGO+DlVt27bVwoULNXjwYAUCAf3sZz/j\nKSePjB07Vv3799fevXuVlJSkRYsWeT2SL23atElLly7VunXrlJaWprS0NOXn53s9lu8cPnxYt912\nm4LBoNLT0zV8+HANHDjQ67F8j1tG0BhfL6kAAADgFl83VQAAAG4hVAEAALiAUAUAAOACQhUAAIAL\nCFUAAAAuIFQBAAC4gFAFAADgAkIVAACAC/4/MyWyP5ZDDi8AAAAASUVORK5CYII=\n",
       "text": [
        "<matplotlib.figure.Figure at 0x11141b910>"
       ]
      }
     ],
     "prompt_number": 66
    },
    {
     "cell_type": "markdown",
     "metadata": {},
     "source": [
      "### Mapping Tweeters to Topics"
     ]
    },
    {
     "cell_type": "code",
     "collapsed": false,
     "input": [
      "fig, ax = plt.subplots(figsize=(20, 40))\n",
      "\n",
      "im = plt.imshow(dist, interpolation=\"none\")\n",
      "\n",
      "cb = fig.colorbar(im, ax=ax)\n",
      "ax.set_title(\"Means Matrix (Author-Topic Model)\")"
     ],
     "language": "python",
     "metadata": {},
     "outputs": [
      {
       "metadata": {},
       "output_type": "pyout",
       "prompt_number": 67,
       "text": [
        "<matplotlib.text.Text at 0x10eb18a90>"
       ]
      },
      {
       "metadata": {},
       "output_type": "display_data",
       "png": "iVBORw0KGgoAAAANSUhEUgAAAUUAAAjjCAYAAAAhqUh9AAAABHNCSVQICAgIfAhkiAAAAAlwSFlz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\nkAhFgEQoAiT/P1XVtFsLldSWAAAAAElFTkSuQmCC\n",
       "text": [
        "<matplotlib.figure.Figure at 0x11392cdd0>"
       ]
      }
     ],
     "prompt_number": 67
    },
    {
     "cell_type": "markdown",
     "metadata": {},
     "source": [
      "### Some examples of particular users in the Training set\n",
      "These are presented as integer percentages for readability. Depending on the train/query split, some may not be available.\n",
      "\n",
      "American Civil Liberties Union"
     ]
    },
    {
     "cell_type": "code",
     "collapsed": false,
     "input": [
      "def printUserDist(userName):\n",
      "    if userName in userLabelsTrain:\n",
      "        print(userName + \" from Train: \" + str((dist[userLabelsTrain.index(userName)] * 100).astype(np.int32)))\n",
      "    else:\n",
      "        print(userName + \" from Query: \" + str((dist[userLabelsQuery.index(userName)] * 100).astype(np.int32)))\n",
      "        \n",
      "printUserDist('ACLU')"
     ],
     "language": "python",
     "metadata": {},
     "outputs": [
      {
       "output_type": "stream",
       "stream": "stdout",
       "text": [
        "ACLU from Query: [ 0  0 99  0  0]\n"
       ]
      }
     ],
     "prompt_number": 68
    },
    {
     "cell_type": "markdown",
     "metadata": {},
     "source": [
      "ESPN Tennis"
     ]
    },
    {
     "cell_type": "code",
     "collapsed": false,
     "input": [
      "printUserDist('ESPNTennis')"
     ],
     "language": "python",
     "metadata": {},
     "outputs": [
      {
       "output_type": "stream",
       "stream": "stdout",
       "text": [
        "ESPNTennis from Train: [ 0 99  0  0  0]\n"
       ]
      }
     ],
     "prompt_number": 69
    },
    {
     "cell_type": "markdown",
     "metadata": {},
     "source": [
      "GrandPrixDiary"
     ]
    },
    {
     "cell_type": "code",
     "collapsed": false,
     "input": [
      "printUserDist('GrandPrixDiary')"
     ],
     "language": "python",
     "metadata": {},
     "outputs": [
      {
       "output_type": "stream",
       "stream": "stdout",
       "text": [
        "GrandPrixDiary from Train: [61  0 30  1  5]\n"
       ]
      }
     ],
     "prompt_number": 70
    },
    {
     "cell_type": "markdown",
     "metadata": {},
     "source": [
      "BBCGoodFoodShow"
     ]
    },
    {
     "cell_type": "code",
     "collapsed": false,
     "input": [
      "printUserDist('BBCGoodFoodShow')"
     ],
     "language": "python",
     "metadata": {},
     "outputs": [
      {
       "output_type": "stream",
       "stream": "stdout",
       "text": [
        "BBCGoodFoodShow from Train: [ 0  0 98  0  0]\n"
       ]
      }
     ],
     "prompt_number": 71
    },
    {
     "cell_type": "markdown",
     "metadata": {},
     "source": [
      "BrianIsBeering"
     ]
    },
    {
     "cell_type": "code",
     "collapsed": false,
     "input": [
      "printUserDist('BrianIsBeering')"
     ],
     "language": "python",
     "metadata": {},
     "outputs": [
      {
       "output_type": "stream",
       "stream": "stdout",
       "text": [
        "BrianIsBeering from Train: [19  0 67  1 10]\n"
       ]
      }
     ],
     "prompt_number": 72
    },
    {
     "cell_type": "markdown",
     "metadata": {},
     "source": [
      "### Matching Topics to Tweeters (Train Set Only)"
     ]
    },
    {
     "cell_type": "code",
     "collapsed": false,
     "input": [
      "def printTopTweeters(topicId, count=10):\n",
      "    topicUserDist = dist[:,topicId]\n",
      "    topUsers = topicUserDist.argsort()[-count:][::-1]\n",
      "    print(\"\\n\".join(userLabelsTrain[uid] for uid in topUsers))\n",
      "    \n",
      "for topic in range(model[fold].K):\n",
      "    print (\"\\nTopic %3d\\n==========================\" % topic)\n",
      "    printTopTweeters(topic)"
     ],
     "language": "python",
     "metadata": {},
     "outputs": [
      {
       "output_type": "stream",
       "stream": "stdout",
       "text": [
        "\n",
        "Topic   0\n",
        "==========================\n",
        "OfficialMinis\n",
        "MallerMarcelo\n",
        "FakeDelRosario\n",
        "FakeTomita\n",
        "EJVISO\n",
        "Jonirja\n",
        "JLR78\n",
        "FakeFernando\n",
        "LeTenisse\n",
        "MungoNGus\n",
        "\n",
        "Topic   1\n",
        "==========================\n",
        "ESPNTennis\n",
        "GBtennis\n",
        "Adamdbain\n",
        "BenRothenberg\n",
        "Tennis_Belgium\n",
        "SI_BTBaseline\n",
        "ByJoeFleming\n",
        "49ers\n",
        "RoadtoRG\n",
        "ChrisSkelton87\n",
        "\n",
        "Topic   2\n",
        "==========================\n",
        "Food52\n",
        "GinGarden\n",
        "FoodTravelCo\n",
        "AtlasBrewing\n",
        "BeerUnion\n",
        "BlueBellHalkyn\n",
        "FiremansBrew\n",
        "RollingStones\n",
        "4pawsbrewing\n",
        "BertinetKitchen\n",
        "\n",
        "Topic   3\n",
        "==========================\n",
        "Benzinga\n",
        "baseball_ref\n",
        "Bank_of_Japan_e\n",
        "CraryAP\n",
        "AlexAkesson\n",
        "247WallSt\n",
        "GovMarkDayton\n",
        "GOPChoice\n",
        "HuffPostPol\n",
        "BigJournalism\n",
        "\n",
        "Topic   4\n",
        "==========================\n",
        "FGW\n",
        "comex\n",
        "drbarnard\n",
        "gte\n",
        "FilmCritHULK\n",
        "danielpunkass\n",
        "chartier\n",
        "caseyliss\n",
        "drdrang\n",
        "gregminton\n"
       ]
      }
     ],
     "prompt_number": 73
    }
   ],
   "metadata": {}
  }
 ]
}