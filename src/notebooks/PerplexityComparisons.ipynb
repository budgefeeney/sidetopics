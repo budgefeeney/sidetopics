{
 "metadata": {
  "name": ""
 },
 "nbformat": 3,
 "nbformat_minor": 0,
 "worksheets": [
  {
   "cells": [
    {
     "cell_type": "markdown",
     "metadata": {},
     "source": [
      "# Abstract\n",
      "This document looks at how different choices of model and different choices of parameterisation can affect the perplexity of held-out data. The dataset is described in the DatasetTests PDF: it consists of approximately 580,000 tweets from over 350 users using a vocabulary of 82,000 words to come up with a corpus of roughly 5.5m words total.\n",
      "\n",
      "The setup is each configuration of each algorithm was run through a 5-fold cross-validation, with perplexity on the held out data as the metric. How perplexity was calculated depends on the model.\n",
      "\n",
      "For the correlated topic-models (CTM) the input was structured as an author-topic model, so there was one document with each user containing all their tweets. The result is a correlated author topic-model of tweets, which acts as a baseline. To calculate perplexity on the held out data, half the words in each document were used to determine the topic distribution, the the log-likelihood was evaluated over the other half of the words using those inferred topics.\n",
      "\n",
      "For the STM-YV topic-model, the input were the 580K tweets, each with associated features, the features being the author ID, the week ID and the month ID. As the topics are a function of the _features_, and not the words, there was no need to split the words of the tweets into two subsets to evaluate the likelihood: all the words were used for the evaluation.\n",
      "\n",
      "There are two bounds used throughout, the Bouchard bound and the Bohning bound. Both are quadratic bounds."
     ]
    },
    {
     "cell_type": "markdown",
     "metadata": {},
     "source": [
      "# Prelude\n",
      "Here we loads all the imports and define all the necessary functions to execute this report"
     ]
    },
    {
     "cell_type": "markdown",
     "metadata": {},
     "source": [
      "## Configuration"
     ]
    },
    {
     "cell_type": "code",
     "collapsed": false,
     "input": [
      "import sys\n",
      "\n",
      "\n",
      "codePath = \"/Users/bryanfeeney/Workspace/sidetopics/src\"\n",
      "\n",
      "dataPathPrefix = \"/Users/bryanfeeney/Desktop/SmallerDB-NoCJK-AWMD/\"\n",
      "wordsPath = dataPathPrefix + \"words-noisy.pkl\"\n",
      "featsPath = dataPathPrefix + \"side-noisy.pkl\"\n",
      "authsPath = dataPathPrefix + \"words-by-author-all-in-one.pkl\"\n",
      "dictPath  = dataPathPrefix + \"dicts.py\"\n",
      "\n",
      "outputFilesDir = \"/Users/bryanfeeney/Desktop/tweets-dow/out\"\n",
      "\n",
      "perpsPicklePath = \"/Users/bryanfeeney/Desktop/tweets-dow/\"\n",
      "\n",
      "ExpectedFoldCount = 5 # what we asked for\n",
      "\n",
      "sys.path.append(codePath)\n",
      "\n",
      "dictPath = dataPathPrefix + \"dicts.py\"\n",
      "%run $dictPath\n"
     ],
     "language": "python",
     "metadata": {},
     "outputs": [],
     "prompt_number": 1
    },
    {
     "cell_type": "code",
     "collapsed": false,
     "input": [
      "bounds      = [ 'bouchard', 'bohning' ]\n",
      "topicCounts = [ 5, 10, 25, 50, 100, 150, 250 ]\n",
      "latentDims  = [ 5, 10, 25, 50, 75, 100       ]"
     ],
     "language": "python",
     "metadata": {},
     "outputs": [],
     "prompt_number": 2
    },
    {
     "cell_type": "markdown",
     "metadata": {},
     "source": [
      "## Imports"
     ]
    },
    {
     "cell_type": "code",
     "collapsed": false,
     "input": [
      "import os\n",
      "import numpy as np\n",
      "import numpy.random as rd\n",
      "import scipy as sp\n",
      "import scipy.sparse as ssp\n",
      "import scipy.linalg as la\n",
      "import scipy.sparse.linalg as sla\n",
      "import matplotlib.pyplot as plt\n",
      "import matplotlib.cm as cm\n",
      "import pickle as pkl\n",
      "\n",
      "from math import log, pi, exp, ceil\n",
      "\n",
      "rd.seed(0xC0FFEE)\n",
      "\n",
      "%load_ext cythonmagic\n",
      "%matplotlib inline"
     ],
     "language": "python",
     "metadata": {},
     "outputs": [],
     "prompt_number": 3
    },
    {
     "cell_type": "code",
     "collapsed": false,
     "input": [
      "import model\n",
      "from util.sigmoid_utils import rowwise_softmax\n",
      "from model.ctm import \\\n",
      "    log_likelihood as ctm_bou_log_likelihood, \\\n",
      "    perplexity as ctm_bou_perplexity, \\\n",
      "    ModelState as CtmBouModelState, \\\n",
      "    QueryState as CtmBouQueryState\n",
      "from model.ctm_bohning import \\\n",
      "    log_likelihood as ctm_boh_log_likelihood, \\\n",
      "    perplexity as ctm_boh_perplexity, \\\n",
      "    ModelState as CtmBohModelState, \\\n",
      "    QueryState as CtmBohQueryState\n",
      "from model.stm_yv import \\\n",
      "    log_likelihood as stm_yv_bou_log_likelihood, \\\n",
      "    perplexity as stm_yv_bou_perplexity, \\\n",
      "    ModelState as StmYvBouModelState, \\\n",
      "    QueryState as StmYvBouQueryState\n",
      "from model.stm_yv_bohning import \\\n",
      "    log_likelihood as stm_yv_boh_log_likelihood, \\\n",
      "    perplexity as stm_yv_boh_perplexity, \\\n",
      "    ModelState as StmYvBohModelState, \\\n",
      "    QueryState as StmYvBohQueryState"
     ],
     "language": "python",
     "metadata": {},
     "outputs": [],
     "prompt_number": 4
    },
    {
     "cell_type": "code",
     "collapsed": false,
     "input": [
      "ExpectedFoldCount = 5\n",
      "DefaultDataType   = np.float32"
     ],
     "language": "python",
     "metadata": {},
     "outputs": [],
     "prompt_number": 5
    },
    {
     "cell_type": "markdown",
     "metadata": {},
     "source": [
      "## Useful functions"
     ]
    },
    {
     "cell_type": "code",
     "collapsed": false,
     "input": [
      "from re import match\n",
      "\n",
      "CtmAlgorName   = 'ctm'\n",
      "StmYvAlgorName = 'stm_yv'\n",
      "\n",
      "CtmOutFileNameFormat = r\"ctm_%s_k_%d_fold_\\d_\\d{8}_\\d{4}.pkl\"\n",
      "StmOutFileNameFormat = r\"stm_yv_%s_k_%d_p_%d_fold_\\d_\\d{8}_\\d{4}.pkl\"\n",
      "\n",
      "def load_folds (outPath, algorName, bound, topicCount, latentSize=None):\n",
      "    '''\n",
      "    Loads all cross-validated folds from the given path for the given\n",
      "    configuration of the given algorithm. We just return all completed\n",
      "    folds. So if the first, second and fourth folds executed, we'll\n",
      "    return three folds.\n",
      "    '''\n",
      "    fnameRegex = \\\n",
      "        CtmOutFileNameFormat % (bound, topicCount) \\\n",
      "        if algorName == CtmAlgorName \\\n",
      "        else StmOutFileNameFormat % (bound, topicCount, latentSize)\n",
      "    \n",
      "    fnames = [fname for fname in os.listdir(outPath) if match(fnameRegex, fname)]\n",
      "    fnames.sort()\n",
      "    \n",
      "    orders      = []\n",
      "    boundItrs   = []\n",
      "    boundVals   = []\n",
      "    model       = []\n",
      "    trainTopics = []\n",
      "    queryTopics = []\n",
      "    \n",
      "    for fname in fnames:\n",
      "        outputFile = outputFilesDir + os.path.sep + fname\n",
      "        with open(outputFile, \"rb\") as f:\n",
      "            try:\n",
      "                (o, i, v, m, t, q) = pkl.load(f)\n",
      "                orders.append(o)\n",
      "                boundItrs.append(i)\n",
      "                boundVals.append(v)\n",
      "                model.append(m)\n",
      "                trainTopics.append(t)\n",
      "                queryTopics.append(q)\n",
      "            except EOFError:\n",
      "                print(\"Experiment was terminated whilst writing output to \" + outputFile)\n",
      "    \n",
      "    return \\\n",
      "        orders, \\\n",
      "        boundItrs, \\\n",
      "        boundVals, \\\n",
      "        model, \\\n",
      "        trainTopics, \\\n",
      "        queryTopics\n",
      "    "
     ],
     "language": "python",
     "metadata": {},
     "outputs": [],
     "prompt_number": 6
    },
    {
     "cell_type": "markdown",
     "metadata": {},
     "source": [
      "# CTM Results"
     ]
    },
    {
     "cell_type": "markdown",
     "metadata": {},
     "source": [
      "## Load the Dataset"
     ]
    },
    {
     "cell_type": "code",
     "collapsed": false,
     "input": [
      "with open(authsPath, 'rb') as f:\n",
      "    (userLabels, dic, W_auth)  = pkl.load(f)\n",
      "    W_auth = W_auth.astype(DefaultDataType)\n",
      "\n",
      "def reorder_dataset_author(W_auth, userLabels, order):\n",
      "    if order.dtype != np.int32:\n",
      "        order = order.astype(np.int32)\n",
      "    \n",
      "    W_auth_ro = W_auth[order,:]\n",
      "    userLabelsRo = [userLabels[o] for o in order]\n",
      "    \n",
      "    return W_auth_ro, userLabelsRo"
     ],
     "language": "python",
     "metadata": {},
     "outputs": [],
     "prompt_number": 7
    },
    {
     "cell_type": "code",
     "collapsed": false,
     "input": [
      "D_auth,T = W_auth.shape\n",
      "X = None\n",
      "\n",
      "print (\"Author-Document dataset\\n=======================\")\n",
      "print (\"Document Count: %d\\nVocab Size %d\\n\" % (D_auth,T))\n",
      "print (\"Active user count: %d\\n\" % len(userLabels))"
     ],
     "language": "python",
     "metadata": {},
     "outputs": [
      {
       "output_type": "stream",
       "stream": "stdout",
       "text": [
        "Author-Document dataset\n",
        "=======================\n",
        "Document Count: 316\n",
        "Vocab Size 82698\n",
        "\n",
        "Active user count: 316\n",
        "\n"
       ]
      }
     ],
     "prompt_number": 8
    },
    {
     "cell_type": "markdown",
     "metadata": {},
     "source": [
      "## Bouchard and Bohning Bounds\n",
      "\n",
      "We plot the perlexity of query data for the first fold only; for the first three folds; and finally for all five folds. Then we do likewise for the training data. There is a significant divergence between the two and so we use one single scale for the three plots of query-set perplexity, and another scale for the three plots of train-set perplexity.\n",
      "\n",
      "In the CTM author-topic model, when evaluating query-set likelihood, we take the query words and split them into two sets: one is used to estimate the topic assignments, the other is uses with those topic assignments to evaluate the log-likelihood. For the training examples, the same, single, set of words is used for both tasks.\n",
      "\n",
      "Where insufficent folds exist, we just set perplexity to zero.\n",
      "\n",
      "For multiple folds we sum the log-likelihoods (following from the exchangeabiliy of tokens and documents), and then apply the perplexity transformation in the usual way."
     ]
    },
    {
     "cell_type": "code",
     "collapsed": false,
     "input": [
      "from run.main import splitInput\n",
      "\n",
      "def perplexity (log_likelihood, word_count):\n",
      "    return np.exp (-log_likelihood / word_count)\n",
      "\n",
      "# Perplexites for query and training set\n",
      "qperps1 = np.zeros((2, len(topicCounts)))\n",
      "qperps3 = qperps1.copy()\n",
      "qperps5 = qperps1.copy()\n",
      "\n",
      "tperps1 = qperps1.copy()\n",
      "tperps3 = qperps1.copy()\n",
      "tperps5 = qperps1.copy()\n",
      "      \n",
      "for b_id in range(len(bounds)):\n",
      "    bound = bounds[b_id]\n",
      "    log_likely = ctm_bou_log_likelihood \\\n",
      "        if bound == 'bouchard' \\\n",
      "        else ctm_boh_log_likelihood\n",
      "    \n",
      "    for k_id in range(len(topicCounts)):\n",
      "        k = topicCounts[k_id]\n",
      "        orders, _, _, model, trainTopics, queryTopics = \\\n",
      "            load_folds (outputFilesDir, CtmAlgorName, bound, k)\n",
      "        \n",
      "        if len(orders) == 0:\n",
      "            continue\n",
      "        \n",
      "        # Assume the order is always the same, this should be the case \n",
      "        tlikelies     = []\n",
      "        tword_counts  = []\n",
      "        \n",
      "        qlikelies     = []\n",
      "        qword_counts  = []\n",
      "        \n",
      "        foldSize  = ceil(D_auth / ExpectedFoldCount)\n",
      "        querySize = foldSize\n",
      "        trainSize = D_auth - querySize\n",
      "        \n",
      "        for fold in range(len(model)):\n",
      "            W_auth_ro, _ = reorder_dataset_author (W_auth, userLabels, orders[fold])  \n",
      "            \n",
      "            start = fold * foldSize\n",
      "            end   = start + trainSize\n",
      "    \n",
      "            trainSet = np.arange(start,end) % D_auth\n",
      "            querySet = np.arange(end, end + querySize) % D_auth\n",
      "        \n",
      "            # Note we're not using the re-ordered version here. Re-ordering gives\n",
      "            # dramatically worse results, which is strange - either the results are\n",
      "            # genuinely bad, or there's a bug somehwere\n",
      "            W_train, W_query = W_auth_ro[trainSet,:], W_auth_ro[querySet,:]\n",
      "            W_query_train, W_query_eval = splitInput(X, W_query)\n",
      "            \n",
      "            tlikelies.append(log_likely(W_train, model[fold], trainTopics[fold]))\n",
      "            tword_counts.append (W_train.data.sum())\n",
      "            \n",
      "            qlikelies.append(log_likely(W_query_eval, model[fold], queryTopics[fold]))\n",
      "            qword_counts.append (W_query_eval.data.sum())\n",
      "        \n",
      "        if len(qlikelies) >= 0:\n",
      "            qperps1[b_id, k_id] = perplexity (qlikelies[0], qword_counts[0])\n",
      "        if len(qlikelies) >= 3:\n",
      "            qperps3[b_id, k_id] = perplexity (sum(qlikelies[:3]), sum(qword_counts[:3]))\n",
      "        if len(qlikelies) >= 5:\n",
      "            qperps5[b_id, k_id] = perplexity (sum(qlikelies), sum(qword_counts))\n",
      "        if len(tlikelies) >= 0:\n",
      "            tperps1[b_id, k_id] = perplexity (tlikelies[0], tword_counts[0])\n",
      "        if len(tlikelies) >= 3:\n",
      "            tperps3[b_id, k_id] = perplexity (sum(tlikelies[:3]), sum(tword_counts[:3]))\n",
      "        if len(tlikelies) >= 5:\n",
      "            tperps5[b_id, k_id] = perplexity (sum(tlikelies), sum(tword_counts))\n",
      "        "
     ],
     "language": "python",
     "metadata": {},
     "outputs": [],
     "prompt_number": 9
    },
    {
     "cell_type": "code",
     "collapsed": false,
     "input": [
      "with open (perpsPicklePath + os.path.sep + 'ctm-perps.pkl', 'wb') as f:\n",
      "    pkl.dump((qperps1, qperps3, qperps5, tperps1, tperps3, tperps5), f)"
     ],
     "language": "python",
     "metadata": {},
     "outputs": [],
     "prompt_number": 10
    },
    {
     "cell_type": "markdown",
     "metadata": {},
     "source": [
      "### Query Perplexity"
     ]
    },
    {
     "cell_type": "code",
     "collapsed": false,
     "input": [
      "fig, ax = plt.subplots(3, 1, figsize=(10,10))\n",
      "\n",
      "im = ax[0].imshow(qperps1, interpolation=\"none\", vmin=0, vmax=7500)\n",
      "\n",
      "ax[0].set_title(\"Perplexity Measured on First Query Fold\")\n",
      "ax[0].set_ylabel('Bound')\n",
      "ax[0].set_xlabel('Topic Counts')\n",
      "ax[0].get_xaxis().set_ticklabels([0] + topicCounts)\n",
      "ax[0].get_yaxis().set_ticklabels(['', bounds[0], '', bounds[1]])\n",
      "\n",
      "im = ax[1].imshow(qperps3, interpolation=\"none\", vmin=0, vmax=7500)\n",
      "\n",
      "ax[1].set_title(\"Perplexity Measured on First Three Query Folds\")\n",
      "ax[1].set_ylabel('Bound')\n",
      "ax[1].set_xlabel('Topic Counts')\n",
      "ax[1].get_xaxis().set_ticklabels([0] + topicCounts)\n",
      "ax[1].get_yaxis().set_ticklabels(['', bounds[0], '', bounds[1]])\n",
      "\n",
      "im = ax[2].imshow(qperps3, interpolation=\"none\", vmin=0, vmax=7500)\n",
      "\n",
      "ax[2].set_title(\"Perplexity Measured on First Five Query Folds\")\n",
      "ax[2].set_ylabel('Bound')\n",
      "ax[2].set_xlabel('Topic Counts')\n",
      "ax[2].get_xaxis().set_ticklabels([0] + topicCounts)\n",
      "ax[2].get_yaxis().set_ticklabels(['', bounds[0], '', bounds[1]])\n",
      "\n",
      "\n",
      "fig.subplots_adjust(right=0.8)\n",
      "cbar_ax = fig.add_axes([0.85, 0.15, 0.05, 0.7])\n",
      "fig.colorbar(im, cax=cbar_ax)"
     ],
     "language": "python",
     "metadata": {},
     "outputs": [
      {
       "metadata": {},
       "output_type": "pyout",
       "prompt_number": 11,
       "text": [
        "<matplotlib.colorbar.Colorbar at 0x10d923490>"
       ]
      },
      {
       "metadata": {},
       "output_type": "display_data",
       "png": "[encoded data removed]",
       "text": [
        "<matplotlib.figure.Figure at 0x111755790>"
       ]
      }
     ],
     "prompt_number": 11
    },
    {
     "cell_type": "markdown",
     "metadata": {},
     "source": [
      "The actual perplexity values"
     ]
    },
    {
     "cell_type": "code",
     "collapsed": false,
     "input": [
      "qperps1.astype(np.int32)"
     ],
     "language": "python",
     "metadata": {},
     "outputs": [
      {
       "metadata": {},
       "output_type": "pyout",
       "prompt_number": 12,
       "text": [
        "array([[6027, 6064, 6873, 7222, 6823, 6257, 6555],\n",
        "       [5359, 3697, 5172, 3892, 8966, 6856, 5237]], dtype=int32)"
       ]
      }
     ],
     "prompt_number": 12
    },
    {
     "cell_type": "code",
     "collapsed": false,
     "input": [
      "qperps3.astype(np.int32)"
     ],
     "language": "python",
     "metadata": {},
     "outputs": [
      {
       "metadata": {},
       "output_type": "pyout",
       "prompt_number": 13,
       "text": [
        "array([[5377, 7211, 6180, 6771, 6504, 9130, 6250],\n",
        "       [5682, 4863, 5816, 5492, 7006, 7307, 6785]], dtype=int32)"
       ]
      }
     ],
     "prompt_number": 13
    },
    {
     "cell_type": "code",
     "collapsed": false,
     "input": [
      "qperps5.astype(np.int32)"
     ],
     "language": "python",
     "metadata": {},
     "outputs": [
      {
       "metadata": {},
       "output_type": "pyout",
       "prompt_number": 14,
       "text": [
        "array([[6452, 6355, 6267, 7254, 7398, 7289, 6853],\n",
        "       [5607, 5458, 5187, 5408, 6799, 6896, 6725]], dtype=int32)"
       ]
      }
     ],
     "prompt_number": 14
    },
    {
     "cell_type": "markdown",
     "metadata": {},
     "source": [
      "## Train Perplexty\n",
      "Note this is on a different scale to the query perplexity, as the values are so very different"
     ]
    },
    {
     "cell_type": "code",
     "collapsed": false,
     "input": [
      "fig, ax = plt.subplots(3, 1, figsize=(10,10))\n",
      "\n",
      "im = ax[0].imshow(tperps1, interpolation=\"none\", vmin=1000, vmax=3500)\n",
      "\n",
      "ax[0].set_title(\"Perplexity Measured on First Train Fold\")\n",
      "ax[0].set_ylabel('Bound')\n",
      "ax[0].set_xlabel('Topic Counts')\n",
      "ax[0].get_xaxis().set_ticklabels([0] + topicCounts)\n",
      "ax[0].get_yaxis().set_ticklabels(['', bounds[0], '', bounds[1]])\n",
      "\n",
      "im = ax[1].imshow(tperps3, interpolation=\"none\", vmin=1000, vmax=3500)\n",
      "\n",
      "ax[1].set_title(\"Perplexity Measured on First Train Query Folds\")\n",
      "ax[1].set_ylabel('Bound')\n",
      "ax[1].set_xlabel('Topic Counts')\n",
      "ax[1].get_xaxis().set_ticklabels([0] + topicCounts)\n",
      "ax[1].get_yaxis().set_ticklabels(['', bounds[0], '', bounds[1]])\n",
      "\n",
      "im = ax[2].imshow(tperps3, interpolation=\"none\", vmin=1000, vmax=3500)\n",
      "\n",
      "ax[2].set_title(\"Perplexity Measured on First Five Train Folds\")\n",
      "ax[2].set_ylabel('Bound')\n",
      "ax[2].set_xlabel('Topic Counts')\n",
      "ax[2].get_xaxis().set_ticklabels([0] + topicCounts)\n",
      "ax[2].get_yaxis().set_ticklabels(['', bounds[0], '', bounds[1]])\n",
      "\n",
      "\n",
      "fig.subplots_adjust(right=0.8)\n",
      "cbar_ax = fig.add_axes([0.85, 0.15, 0.05, 0.7])\n",
      "fig.colorbar(im, cax=cbar_ax)"
     ],
     "language": "python",
     "metadata": {},
     "outputs": [
      {
       "metadata": {},
       "output_type": "pyout",
       "prompt_number": 15,
       "text": [
        "<matplotlib.colorbar.Colorbar at 0x10e452e90>"
       ]
      },
      {
       "metadata": {},
       "output_type": "display_data",
       "png": "[encoded data removed]",
       "text": [
        "<matplotlib.figure.Figure at 0x1119a1790>"
       ]
      }
     ],
     "prompt_number": 15
    },
    {
     "cell_type": "markdown",
     "metadata": {},
     "source": [
      "The actual perplexity values"
     ]
    },
    {
     "cell_type": "code",
     "collapsed": false,
     "input": [
      "tperps1.astype(np.int32)"
     ],
     "language": "python",
     "metadata": {},
     "outputs": [
      {
       "metadata": {},
       "output_type": "pyout",
       "prompt_number": 16,
       "text": [
        "array([[2471, 1982, 1756, 1649, 1494, 2225, 2977],\n",
        "       [2097, 1912, 1576, 1668, 2945, 2967, 3049]], dtype=int32)"
       ]
      }
     ],
     "prompt_number": 16
    },
    {
     "cell_type": "code",
     "collapsed": false,
     "input": [
      "tperps3.astype(np.int32)"
     ],
     "language": "python",
     "metadata": {},
     "outputs": [
      {
       "metadata": {},
       "output_type": "pyout",
       "prompt_number": 17,
       "text": [
        "array([[2395, 1940, 1689, 1690, 1871, 2402, 2972],\n",
        "       [2124, 1871, 1596, 1990, 2952, 2937, 3004]], dtype=int32)"
       ]
      }
     ],
     "prompt_number": 17
    },
    {
     "cell_type": "code",
     "collapsed": false,
     "input": [
      "tperps5.astype(np.int32)"
     ],
     "language": "python",
     "metadata": {},
     "outputs": [
      {
       "metadata": {},
       "output_type": "pyout",
       "prompt_number": 18,
       "text": [
        "array([[2328, 1938, 1692, 1660, 1719, 2411, 2956],\n",
        "       [2119, 1832, 1600, 1844, 2961, 2960, 2961]], dtype=int32)"
       ]
      }
     ],
     "prompt_number": 18
    },
    {
     "cell_type": "markdown",
     "metadata": {},
     "source": [
      "# STM Results\n",
      "\n",
      "We plot the perlexity of query data for the first fold only; for the first three folds; and finally for all five folds. Then we do likewise for the training data. There is a significant divergence between the two and so we use one single scale for the three plots of query-set perplexity, and another scale for the three plots of train-set perplexity.\n",
      "\n",
      "We don't need to do the document splitting trick as for CTM as the topics are predicted from the features, not the words, so it's valid to use all the words to evaluate the likelihood.\n",
      "\n",
      "As before we we set perplexity to zero where no results exist, and for multiple folds we sum the likelihoods.\n"
     ]
    },
    {
     "cell_type": "markdown",
     "metadata": {},
     "source": [
      "##\u00a0Load the Dataset"
     ]
    },
    {
     "cell_type": "code",
     "collapsed": false,
     "input": [
      "with open(wordsPath, 'rb') as f:\n",
      "    W = pkl.load(f)\n",
      "    if W.dtype != DefaultDataType:\n",
      "        W = W.astype(DefaultDataType)\n",
      "with open(featsPath, 'rb') as f:\n",
      "    X = pkl.load(f)\n",
      "    if (X.dtype != DefaultDataType):\n",
      "        X = X.astype(DefaultDataType)\n",
      "        \n",
      "def reorder_dataset(W, X, order):\n",
      "    if order.dtype != np.int32:\n",
      "        order = order.astype(np.int32)\n",
      "    \n",
      "    W_ro = W[order,:]\n",
      "    X_ro = X[order,:]\n",
      "    \n",
      "    return W_ro,X_ro"
     ],
     "language": "python",
     "metadata": {},
     "outputs": [],
     "prompt_number": 19
    },
    {
     "cell_type": "code",
     "collapsed": false,
     "input": [
      "D,T = W.shape\n",
      "_,F = X.shape\n",
      "\n",
      "print (\"Individual Tweet Dataset\\n=======================\")\n",
      "print (\"Document Count: %d\\nVocab Size %d\\nFeature Count: %d\\n\" % (D,T,F))\n",
      "print (\"Active user count: %d\\n\" % len(userLabels))"
     ],
     "language": "python",
     "metadata": {},
     "outputs": [
      {
       "output_type": "stream",
       "stream": "stdout",
       "text": [
        "Individual Tweet Dataset\n",
        "=======================\n",
        "Document Count: 585268\n",
        "Vocab Size 82698\n",
        "Feature Count: 432\n",
        "\n",
        "Active user count: 316\n",
        "\n"
       ]
      }
     ],
     "prompt_number": 20
    },
    {
     "cell_type": "markdown",
     "metadata": {},
     "source": [
      "Slots allocated to different feature-classes"
     ]
    },
    {
     "cell_type": "code",
     "collapsed": false,
     "input": [
      "feats"
     ],
     "language": "python",
     "metadata": {},
     "outputs": [
      {
       "metadata": {},
       "output_type": "pyout",
       "prompt_number": 21,
       "text": [
        "{'author': 0, 'day_of_week': 398, 'month_of_year': 427, 'week_of_year': 405}"
       ]
      }
     ],
     "prompt_number": 21
    },
    {
     "cell_type": "code",
     "collapsed": false,
     "input": [
      "P = len(latentDims)\n",
      "K = len(topicCounts)\n",
      "\n",
      "perps  = { \\\n",
      "    'train' : { \\\n",
      "        'bouchard' : { \\\n",
      "            1 : np.zeros((P,K)), \\\n",
      "            3 : np.zeros((P,K)), \\\n",
      "            5 : np.zeros((P,K))\n",
      "        }, \\\n",
      "        'bohning' : { \\\n",
      "            1 : np.zeros((P,K)), \\\n",
      "            3 : np.zeros((P,K)), \\\n",
      "            5 : np.zeros((P,K)) \\\n",
      "        } \\\n",
      "    }, \\\n",
      "    'query' : { \\\n",
      "        'bouchard' : { \\\n",
      "            1 : np.zeros((P,K)), \\\n",
      "            3 : np.zeros((P,K)), \\\n",
      "            5 : np.zeros((P,K))\n",
      "        }, \\\n",
      "        'bohning' : { \\\n",
      "            1 : np.zeros((P,K)), \\\n",
      "            3 : np.zeros((P,K)), \\\n",
      "            5 : np.zeros((P,K)) \\\n",
      "        } \\\n",
      "    }, \\\n",
      "}\n",
      "      \n",
      "for bound in bounds:\n",
      "    log_likely = stm_yv_boh_log_likelihood\n",
      "    #    if bound == 'bouchard' \\\n",
      "    #    else stm_yv_boh_log_likelihood\n",
      "    \n",
      "    for k_id in range(K):\n",
      "        k = topicCounts[k_id]\n",
      "        for p_id in range(P):\n",
      "            p = latentDims[p_id]\n",
      "            orders, _, _, model, trainTopics, queryTopics = \\\n",
      "                load_folds (outputFilesDir, StmYvAlgorName, bound, k, p)\n",
      "        \n",
      "            if len(orders) == 0:\n",
      "                continue\n",
      "        \n",
      "            W_ro, X_ro = reorder_dataset (W, X, orders[0]) # same across all folds  \n",
      "            tlikelies     = []\n",
      "            tword_counts  = []\n",
      "            \n",
      "            qlikelies     = []\n",
      "            qword_counts  = []\n",
      "        \n",
      "            foldSize  = ceil(D / ExpectedFoldCount)\n",
      "            querySize = foldSize\n",
      "            trainSize = D - querySize\n",
      "        \n",
      "            for fold in range(len(model)):\n",
      "                start = fold * foldSize\n",
      "                end   = start + trainSize\n",
      "                \n",
      "                trainSet = np.arange(start,end) % D\n",
      "                querySet = np.arange(end, end + querySize) % D\n",
      "    \n",
      "                W_train, W_query = W_ro[trainSet,:], W_ro[querySet,:]\n",
      "                # X_train, X_query = X_ro[trainSet,:], X_ro[querySet,:]\n",
      "                \n",
      "                #sys.stdout.write(\"Train Likely: Bound = %s K = %d, P = %d, Fold = %d\\n\" % (bound, k, p, fold))\n",
      "                #sys.stdout.write(\"\\tW_train.D = %d, W_train.sum() = %.0f, trainTopics.means.D = %d\\n\" % (W_train.shape[0], W_train.data.sum(), trainTopics[fold].means.shape[0]))\n",
      "                #sys.stdout.write(\"\\tLog Likely = %f\\n\" % (log_likely(W_train, model[fold], trainTopics[fold])))\n",
      "                #sys.stdout.flush()\n",
      "                tlikelies.append(log_likely(W_train, model[fold], trainTopics[fold]))\n",
      "                tword_counts.append (W_train.data.sum())\n",
      "                \n",
      "                #sys.stdout.write(\"Query Likely: Bound = %s K = %d, P = %d, Fold = %d\\n\" % (bound, k, p, fold))\n",
      "                #sys.stdout.write(\"\\tW_qury.D = %d, W_query.sum() = %.0f, trainTopics.means.D = %d\\n\" % (W_query.shape[0], W_query.data.sum(), queryTopics[fold].means.shape[0]))\n",
      "                #sys.stdout.write(\"\\tLog Likely = %f\\n\" % (log_likely(W_query, model[fold], queryTopics[fold])))\n",
      "                #sys.stdout.flush()\n",
      "                qlikelies.append(log_likely(W_query, model[fold], queryTopics[fold]))\n",
      "                qword_counts.append (W_query.data.sum())\n",
      "        \n",
      "            if len(qlikelies) >= 0:\n",
      "                perps['query'][bound][1][p_id, k_id] = perplexity (qlikelies[0], qword_counts[0])\n",
      "            if len(qlikelies) >= 3:\n",
      "                perps['query'][bound][3][p_id, k_id] = perplexity (sum(qlikelies[:3]), sum(qword_counts[:3]))\n",
      "            if len(qlikelies) >= 5:\n",
      "                perps['query'][bound][5][p_id, k_id] = perplexity (sum(qlikelies), sum(qword_counts))\n",
      "            if len(tlikelies) >= 0:\n",
      "                perps['train'][bound][1][p_id, k_id] = perplexity (tlikelies[0], tword_counts[0])\n",
      "            if len(tlikelies) >= 3:\n",
      "                perps['train'][bound][3][p_id, k_id] = perplexity (sum(tlikelies[:3]), sum(tword_counts[:3]))\n",
      "            if len(tlikelies) >= 5:\n",
      "                perps['train'][bound][5][p_id, k_id] = perplexity (sum(tlikelies), sum(tword_counts))\n",
      "        \n",
      "        "
     ],
     "language": "python",
     "metadata": {},
     "outputs": [],
     "prompt_number": 22
    },
    {
     "cell_type": "code",
     "collapsed": false,
     "input": [
      "with open (perpsPicklePath + os.path.sep + 'stm-perps.pkl', 'wb') as f:\n",
      "    pkl.dump(perps, f)"
     ],
     "language": "python",
     "metadata": {},
     "outputs": [],
     "prompt_number": 23
    },
    {
     "cell_type": "markdown",
     "metadata": {},
     "source": [
      "## Query Results"
     ]
    },
    {
     "cell_type": "code",
     "collapsed": false,
     "input": [
      "vmin=500\n",
      "vmax=3000\n",
      "\n",
      "fig, ax = plt.subplots(2, 3, figsize=(11,7))\n",
      "\n",
      "im = ax[0,0].imshow(perps['query']['bouchard'][1], interpolation=\"none\", vmin=vmin, vmax=vmax)\n",
      "\n",
      "ax[0,0].set_title(\"Query Fold 1\")\n",
      "ax[0,0].set_ylabel(\"Bouchard\\nLatent Dim\")\n",
      "ax[0,0].get_xaxis().set_ticklabels([0] + topicCounts)\n",
      "ax[0,0].get_yaxis().set_ticklabels([0] + latentDims)\n",
      "\n",
      "\n",
      "im = ax[0,1].imshow(perps['query']['bouchard'][3], interpolation=\"none\", vmin=vmin, vmax=vmax)\n",
      "\n",
      "ax[0,1].set_title(\"Query Folds 1-3\")\n",
      "ax[0,1].get_xaxis().set_ticklabels([0] + topicCounts)\n",
      "ax[0,1].get_yaxis().set_ticklabels([0] + latentDims)\n",
      "\n",
      "\n",
      "im = ax[0,2].imshow(perps['query']['bouchard'][5], interpolation=\"none\", vmin=vmin, vmax=vmax)\n",
      "\n",
      "ax[0,2].set_title(\"Query Folds 1-5\")\n",
      "ax[0,2].get_xaxis().set_ticklabels([0] + topicCounts)\n",
      "ax[0,2].get_yaxis().set_ticklabels([0] + latentDims)\n",
      "\n",
      "\n",
      "im = ax[1,0].imshow(perps['query']['bohning'][1], interpolation=\"none\", vmin=vmin, vmax=vmax)\n",
      "\n",
      "ax[1,0].set_ylabel(\"Bohning\\nLatent Dim\")\n",
      "ax[1,0].set_xlabel('Topic Counts')\n",
      "ax[1,0].get_xaxis().set_ticklabels([0] + topicCounts)\n",
      "ax[1,0].get_yaxis().set_ticklabels([0] + latentDims)\n",
      "\n",
      "\n",
      "im = ax[1,1].imshow(perps['query']['bohning'][3], interpolation=\"none\", vmin=vmin, vmax=vmax)\n",
      "\n",
      "ax[1,1].set_xlabel('Topic Counts')\n",
      "ax[1,1].get_xaxis().set_ticklabels([0] + topicCounts)\n",
      "ax[1,1].get_yaxis().set_ticklabels([0] + latentDims)\n",
      "\n",
      "\n",
      "im = ax[1,2].imshow(perps['query']['bohning'][5], interpolation=\"none\", vmin=vmin, vmax=vmax)\n",
      "\n",
      "ax[1,2].set_xlabel('Topic Counts')\n",
      "ax[1,2].get_xaxis().set_ticklabels([0] + topicCounts)\n",
      "ax[1,2].get_yaxis().set_ticklabels([0] + latentDims)\n",
      "\n",
      "fig.subplots_adjust(right=0.8)\n",
      "cbar_ax = fig.add_axes([0.85, 0.15, 0.05, 0.7])\n",
      "fig.colorbar(im, cax=cbar_ax)"
     ],
     "language": "python",
     "metadata": {},
     "outputs": [
      {
       "metadata": {},
       "output_type": "pyout",
       "prompt_number": 24,
       "text": [
        "<matplotlib.colorbar.Colorbar at 0x10c801e90>"
       ]
      },
      {
       "metadata": {},
       "output_type": "display_data",
       "png": "[encoded data removed]",
       "text": [
        "<matplotlib.figure.Figure at 0x10c770ad0>"
       ]
      }
     ],
     "prompt_number": 24
    },
    {
     "cell_type": "markdown",
     "metadata": {},
     "source": [
      "The actual perplexity values for the five fold Bouchard output on query data"
     ]
    },
    {
     "cell_type": "code",
     "collapsed": false,
     "input": [
      "def printFoldResults(perpsDict, run, bound, foldCount):\n",
      "    perpsMat = perpsDict[run][bound][foldCount].astype(np.int32)\n",
      "    rowCount, colCount = perpsMat.shape\n",
      "    for row in range(rowCount):\n",
      "        print (\"  \".join(\"%5d\" % perpsMat[row,col] for col in range(colCount)))\n",
      "\n",
      "printFoldResults(perps, 'query', 'bouchard', 5)"
     ],
     "language": "python",
     "metadata": {},
     "outputs": [
      {
       "output_type": "stream",
       "stream": "stdout",
       "text": [
        " 2746   2530   2207   2087   1924   1884      0\n",
        " 2765   2554   2252   2074   1921   1867      0\n",
        " 2748   2541   2277   2141   1971   1877      0\n",
        " 2774   2593   2343   2150      0      0      0\n",
        " 2750   2622   2293      0      0      0      0\n",
        " 2749   2550   2365      0      0      0      0\n"
       ]
      }
     ],
     "prompt_number": 25
    },
    {
     "cell_type": "markdown",
     "metadata": {},
     "source": [
      "The actual perplexity values for the five fold Bohning output on query data"
     ]
    },
    {
     "cell_type": "code",
     "collapsed": false,
     "input": [
      "printFoldResults(perps, 'query', 'bohning', 5)"
     ],
     "language": "python",
     "metadata": {},
     "outputs": [
      {
       "output_type": "stream",
       "stream": "stdout",
       "text": [
        " 2303   2120   1935   1871   1826   1791      0\n",
        " 2304   2082   1928   1869   1830   1789      0\n",
        " 2310   2129   1950   1870   1826   1797      0\n",
        " 2327   2137   1975   1884   1824   1798      0\n",
        " 2414   2089   1956   1852   1823   1794      0\n",
        " 2369   2109   1927   1882   1824   1799      0\n"
       ]
      }
     ],
     "prompt_number": 26
    },
    {
     "cell_type": "code",
     "collapsed": false,
     "input": [
      "vmin=500\n",
      "vmax=3000\n",
      "fig, ax = plt.subplots(2, 3, figsize=(11,7))\n",
      "\n",
      "im = ax[0,0].imshow(perps['train']['bouchard'][1], interpolation=\"none\", vmin=vmin, vmax=vmax)\n",
      "\n",
      "ax[0,0].set_title(\"Train Fold 1\")\n",
      "ax[0,0].set_ylabel(\"Bouchard\\nLatent Dim\")\n",
      "ax[0,0].get_xaxis().set_ticklabels([0] + topicCounts)\n",
      "ax[0,0].get_yaxis().set_ticklabels([0] + latentDims)\n",
      "\n",
      "\n",
      "im = ax[0,1].imshow(perps['train']['bouchard'][3], interpolation=\"none\", vmin=vmin, vmax=vmax)\n",
      "\n",
      "ax[0,1].set_title(\"Train Folds 1-3\")\n",
      "ax[0,1].get_xaxis().set_ticklabels([0] + topicCounts)\n",
      "ax[0,1].get_yaxis().set_ticklabels([0] + latentDims)\n",
      "\n",
      "\n",
      "im = ax[0,2].imshow(perps['train']['bouchard'][5], interpolation=\"none\", vmin=vmin, vmax=vmax)\n",
      "\n",
      "ax[0,2].set_title(\"Train Folds 1-5\")\n",
      "ax[0,2].get_xaxis().set_ticklabels([0] + topicCounts)\n",
      "ax[0,2].get_yaxis().set_ticklabels([0] + latentDims)\n",
      "\n",
      "\n",
      "im = ax[1,0].imshow(perps['train']['bohning'][1], interpolation=\"none\", vmin=vmin, vmax=vmax)\n",
      "\n",
      "ax[1,0].set_ylabel(\"Bohning\\nLatent Dim\")\n",
      "ax[1,0].set_xlabel('Topic Counts')\n",
      "ax[1,0].get_xaxis().set_ticklabels([0] + topicCounts)\n",
      "ax[1,0].get_yaxis().set_ticklabels([0] + latentDims)\n",
      "\n",
      "\n",
      "im = ax[1,1].imshow(perps['train']['bohning'][3], interpolation=\"none\", vmin=vmin, vmax=vmax)\n",
      "\n",
      "ax[1,1].set_xlabel('Topic Counts')\n",
      "ax[1,1].get_xaxis().set_ticklabels([0] + topicCounts)\n",
      "ax[1,1].get_yaxis().set_ticklabels([0] + latentDims)\n",
      "\n",
      "\n",
      "im = ax[1,2].imshow(perps['train']['bohning'][5], interpolation=\"none\", vmin=vmin, vmax=vmax)\n",
      "\n",
      "ax[1,2].set_xlabel('Topic Counts')\n",
      "ax[1,2].get_xaxis().set_ticklabels([0] + topicCounts)\n",
      "ax[1,2].get_yaxis().set_ticklabels([0] + latentDims)\n",
      "\n",
      "fig.subplots_adjust(right=0.8)\n",
      "cbar_ax = fig.add_axes([0.85, 0.15, 0.05, 0.7])\n",
      "fig.colorbar(im, cax=cbar_ax)"
     ],
     "language": "python",
     "metadata": {},
     "outputs": [
      {
       "metadata": {},
       "output_type": "pyout",
       "prompt_number": 27,
       "text": [
        "<matplotlib.colorbar.Colorbar at 0x1123515d0>"
       ]
      },
      {
       "metadata": {},
       "output_type": "display_data",
       "png": "[encoded data removed]",
       "text": [
        "<matplotlib.figure.Figure at 0x10c21de10>"
       ]
      }
     ],
     "prompt_number": 27
    },
    {
     "cell_type": "markdown",
     "metadata": {},
     "source": [
      "The actual perplexity values for the three fold Bouchard output on train data"
     ]
    },
    {
     "cell_type": "code",
     "collapsed": false,
     "input": [
      "printFoldResults(perps, 'train', 'bouchard', 3)"
     ],
     "language": "python",
     "metadata": {},
     "outputs": [
      {
       "output_type": "stream",
       "stream": "stdout",
       "text": [
        " 2264   2017   1693   1575   1439   1421      0\n",
        " 2280   2023   1699   1536   1411   1391      0\n",
        " 2304   2004   1681   1555   1427   1370      0\n",
        " 2287   2028   1699   1493      0      0      0\n",
        " 2250   2035   1668      0      0      0      0\n",
        " 2265   1987   1700      0      0      0      0\n"
       ]
      }
     ],
     "prompt_number": 28
    },
    {
     "cell_type": "markdown",
     "metadata": {},
     "source": [
      "The actual perplexity values for the three fold Bohning output on train data"
     ]
    },
    {
     "cell_type": "code",
     "collapsed": false,
     "input": [
      "printFoldResults(perps, 'train', 'bohning', 3)"
     ],
     "language": "python",
     "metadata": {},
     "outputs": [
      {
       "output_type": "stream",
       "stream": "stdout",
       "text": [
        " 1903   1624   1264   1051    900    832      0\n",
        " 1900   1595   1257   1039    896    829      0\n",
        " 1905   1627   1276   1048    900    831      0\n",
        " 1920   1643   1291   1051    896    831      0\n",
        " 1988   1601   1267   1042    899    832      0\n",
        " 1952   1619   1258   1047    896    835      0\n"
       ]
      }
     ],
     "prompt_number": 29
    },
    {
     "cell_type": "code",
     "collapsed": false,
     "input": [],
     "language": "python",
     "metadata": {},
     "outputs": [],
     "prompt_number": 29
    }
   ],
   "metadata": {}
  }
 ]
}