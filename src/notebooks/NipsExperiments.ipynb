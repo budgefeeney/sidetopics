{
 "metadata": {
  "name": ""
 },
 "nbformat": 3,
 "nbformat_minor": 0,
 "worksheets": [
  {
   "cells": [
    {
     "cell_type": "heading",
     "level": 1,
     "metadata": {},
     "source": [
      "Configuration"
     ]
    },
    {
     "cell_type": "code",
     "collapsed": false,
     "input": [
      "import sys\n",
      "\n",
      "path = \"/Users/bryanfeeney/Desktop/NIPS/\"\n",
      "codePath = \"/Users/bryanfeeney/Workspace/sidetopics/src\"\n",
      "\n",
      "sys.path.append(codePath)\n",
      "wordsDict = path + \"dicts.py\"\n",
      "featsDict = path + \"feats.py\"\n",
      "\n",
      "\n",
      "%run $wordsDict\n",
      "%run $featsDict"
     ],
     "language": "python",
     "metadata": {},
     "outputs": [],
     "prompt_number": 1
    },
    {
     "cell_type": "heading",
     "level": 1,
     "metadata": {},
     "source": [
      "Prelude"
     ]
    },
    {
     "cell_type": "code",
     "collapsed": false,
     "input": [
      "import numpy as np\n",
      "import numpy.random as rd\n",
      "import scipy as sp\n",
      "import scipy.linalg as la\n",
      "import scipy.sparse as ssp\n",
      "import scipy.stats as st\n",
      "import scipy.sparse.linalg as sla\n",
      "import pickle as pkl\n",
      "import matplotlib.pyplot as plt\n",
      "import os\n",
      "%matplotlib inline\n",
      "\n",
      "import pickle as pkl\n",
      "import bottleneck"
     ],
     "language": "python",
     "metadata": {},
     "outputs": [],
     "prompt_number": 2
    },
    {
     "cell_type": "code",
     "collapsed": false,
     "input": [
      "DTYPE=np.float32"
     ],
     "language": "python",
     "metadata": {},
     "outputs": [],
     "prompt_number": 3
    },
    {
     "cell_type": "heading",
     "level": 2,
     "metadata": {},
     "source": [
      "Load Datasets"
     ]
    },
    {
     "cell_type": "markdown",
     "metadata": {},
     "source": [
      "First we load in the features. For each class of eature we have two matrices: one generated from a dictionary including all possible values, and one generated from a dictionary including only those features that occurred in four or more documents"
     ]
    },
    {
     "cell_type": "code",
     "collapsed": false,
     "input": [
      "def loadMats (name):\n",
      "    with open (path + name + '.pkl', 'rb') as f:\n",
      "        mat = pkl.load(f).astype(DTYPE)\n",
      "    with open (path + name + '4.pkl', 'rb') as f:\n",
      "        mat4 = pkl.load(f).astype(DTYPE)\n",
      "        \n",
      "    print (name + \" : \" + str(mat.shape) + \", \" + name + \"-4 : \" + str(mat4.shape))\n",
      "    return mat, mat4\n",
      "\n",
      "cats, cats4 = loadMats('cats')\n",
      "refs, refs4 = loadMats('refs')\n",
      "aths, aths4 = loadMats('authors')\n"
     ],
     "language": "python",
     "metadata": {},
     "outputs": [
      {
       "output_type": "stream",
       "stream": "stdout",
       "text": [
        "cats : (1740, 4787), cats-4 : (1740, 414)\n",
        "refs : (1740, 9972), refs-4 : (1740, 609)\n",
        "authors : (1740, 2477), authors-4 : (1740, 158)\n"
       ]
      }
     ],
     "prompt_number": 4
    },
    {
     "cell_type": "markdown",
     "metadata": {},
     "source": [
      "Next we load the actual words, this is actually fixed at words which occur in four documents or greater only."
     ]
    },
    {
     "cell_type": "code",
     "collapsed": false,
     "input": [
      "with open (path + 'words.pkl', 'rb') as f:\n",
      "    words = pkl.load(f)\n",
      "    \n",
      "print (\"words : \" + str(words.shape))\n",
      "\n",
      "words = words.astype(DTYPE)"
     ],
     "language": "python",
     "metadata": {},
     "outputs": [
      {
       "output_type": "stream",
       "stream": "stdout",
       "text": [
        "words : (1740, 12503)\n"
       ]
      }
     ],
     "prompt_number": 5
    },
    {
     "cell_type": "heading",
     "level": 1,
     "metadata": {},
     "source": [
      "Basic Statistics"
     ]
    },
    {
     "cell_type": "heading",
     "level": 3,
     "metadata": {},
     "source": [
      "Document Lengths"
     ]
    },
    {
     "cell_type": "code",
     "collapsed": false,
     "input": [
      "docLens = np.squeeze (np.asarray(words.sum(axis=1)))\n",
      "\n",
      "plt.hist(docLens, bins=50)[2]"
     ],
     "language": "python",
     "metadata": {},
     "outputs": [
      {
       "metadata": {},
       "output_type": "pyout",
       "prompt_number": 6,
       "text": [
        "<a list of 50 Patch objects>"
       ]
      },
      {
       "metadata": {},
       "output_type": "display_data",
       "png": "[encoded data removed]",
       "text": [
        "<matplotlib.figure.Figure at 0x112631150>"
       ]
      }
     ],
     "prompt_number": 6
    },
    {
     "cell_type": "markdown",
     "metadata": {},
     "source": [
      "Means and Standard Deviation"
     ]
    },
    {
     "cell_type": "code",
     "collapsed": false,
     "input": [
      "docLens.mean(), docLens.std()"
     ],
     "language": "python",
     "metadata": {},
     "outputs": [
      {
       "metadata": {},
       "output_type": "pyout",
       "prompt_number": 7,
       "text": [
        "(1544.4281, 350.52725)"
       ]
      }
     ],
     "prompt_number": 7
    },
    {
     "cell_type": "heading",
     "level": 3,
     "metadata": {},
     "source": [
      "Author Counts"
     ]
    },
    {
     "cell_type": "code",
     "collapsed": false,
     "input": [
      "authorCounts = np.squeeze(np.asarray(aths.sum(axis=1)))\n",
      "plt.hist(authorCounts, bins=authorCounts.max() - 1)[2]"
     ],
     "language": "python",
     "metadata": {},
     "outputs": [
      {
       "metadata": {},
       "output_type": "pyout",
       "prompt_number": 8,
       "text": [
        "<a list of 9 Patch objects>"
       ]
      },
      {
       "metadata": {},
       "output_type": "display_data",
       "png": "[encoded data removed]",
       "text": [
        "<matplotlib.figure.Figure at 0x11383e790>"
       ]
      }
     ],
     "prompt_number": 8
    },
    {
     "cell_type": "code",
     "collapsed": false,
     "input": [
      "st.itemfreq(authorCounts)"
     ],
     "language": "python",
     "metadata": {},
     "outputs": [
      {
       "metadata": {},
       "output_type": "pyout",
       "prompt_number": 9,
       "text": [
        "array([[   1.,  413.],\n",
        "       [   2.,  744.],\n",
        "       [   3.,  372.],\n",
        "       [   4.,  138.],\n",
        "       [   5.,   38.],\n",
        "       [   6.,   23.],\n",
        "       [   7.,    7.],\n",
        "       [   8.,    1.],\n",
        "       [   9.,    3.],\n",
        "       [  10.,    1.]])"
       ]
      }
     ],
     "prompt_number": 9
    },
    {
     "cell_type": "markdown",
     "metadata": {},
     "source": [
      "Now we consider how many authors each paper would contain if we only used the dictionary of authors that occurred in at least 4 papers"
     ]
    },
    {
     "cell_type": "code",
     "collapsed": false,
     "input": [
      "author4Counts = np.squeeze(np.asarray(aths4.sum(axis=1)))\n",
      "\n",
      "plt.hist(author4Counts.copy(), 6)[2]"
     ],
     "language": "python",
     "metadata": {},
     "outputs": [
      {
       "metadata": {},
       "output_type": "pyout",
       "prompt_number": 10,
       "text": [
        "<a list of 6 Patch objects>"
       ]
      },
      {
       "metadata": {},
       "output_type": "display_data",
       "png": "[encoded data removed]",
       "text": [
        "<matplotlib.figure.Figure at 0x113950550>"
       ]
      }
     ],
     "prompt_number": 10
    },
    {
     "cell_type": "code",
     "collapsed": false,
     "input": [
      "st.itemfreq(author4Counts)"
     ],
     "language": "python",
     "metadata": {},
     "outputs": [
      {
       "metadata": {},
       "output_type": "pyout",
       "prompt_number": 11,
       "text": [
        "array([[   0.,  953.],\n",
        "       [   1.,  596.],\n",
        "       [   2.,  156.],\n",
        "       [   3.,   28.],\n",
        "       [   4.,    6.],\n",
        "       [   5.,    1.]])"
       ]
      }
     ],
     "prompt_number": 11
    },
    {
     "cell_type": "markdown",
     "metadata": {},
     "source": [
      "Using this restricted dictionary, how many papers have no authors at all"
     ]
    },
    {
     "cell_type": "code",
     "collapsed": false,
     "input": [
      "emptyPapers = np.where(author4Counts == 0)[0]\n",
      "len(emptyPapers)"
     ],
     "language": "python",
     "metadata": {},
     "outputs": [
      {
       "metadata": {},
       "output_type": "pyout",
       "prompt_number": 12,
       "text": [
        "953"
       ]
      }
     ],
     "prompt_number": 12
    },
    {
     "cell_type": "markdown",
     "metadata": {},
     "source": [
      "<font color='red'>__This is a  more than half the total dataset__</font>"
     ]
    },
    {
     "cell_type": "heading",
     "level": 3,
     "metadata": {},
     "source": [
      "Reference Counts"
     ]
    },
    {
     "cell_type": "code",
     "collapsed": false,
     "input": [
      "refCounts = np.squeeze(np.asarray(refs.sum(axis=1)))\n",
      "plt.hist(refCounts, bins=40)[2]"
     ],
     "language": "python",
     "metadata": {},
     "outputs": [
      {
       "metadata": {},
       "output_type": "pyout",
       "prompt_number": 13,
       "text": [
        "<a list of 40 Patch objects>"
       ]
      },
      {
       "metadata": {},
       "output_type": "display_data",
       "png": "[encoded data removed]",
       "text": [
        "<matplotlib.figure.Figure at 0x113a2ef50>"
       ]
      }
     ],
     "prompt_number": 13
    },
    {
     "cell_type": "markdown",
     "metadata": {},
     "source": [
      "Min, Median, Max, Average, Std"
     ]
    },
    {
     "cell_type": "code",
     "collapsed": false,
     "input": [
      "refCounts.min(), np.median(refCounts), refCounts.max(), refCounts.mean(), refCounts.std()"
     ],
     "language": "python",
     "metadata": {},
     "outputs": [
      {
       "metadata": {},
       "output_type": "pyout",
       "prompt_number": 14,
       "text": [
        "(0.0, 8.5, 41.0, 8.9839077, 4.4712124)"
       ]
      }
     ],
     "prompt_number": 14
    },
    {
     "cell_type": "markdown",
     "metadata": {},
     "source": [
      "How many papers have zero references?"
     ]
    },
    {
     "cell_type": "code",
     "collapsed": false,
     "input": [
      "zeroRefPapers = np.where(refCounts == 0)[0]\n",
      "len(zeroRefPapers)"
     ],
     "language": "python",
     "metadata": {},
     "outputs": [
      {
       "metadata": {},
       "output_type": "pyout",
       "prompt_number": 15,
       "text": [
        "19"
       ]
      }
     ],
     "prompt_number": 15
    },
    {
     "cell_type": "markdown",
     "metadata": {},
     "source": [
      "Now we consider how many references each individual paper contains if we used the dictionary which only allowed references which occurred in at least four papers (note the change in scale)"
     ]
    },
    {
     "cell_type": "code",
     "collapsed": false,
     "input": [
      "ref4Counts = np.squeeze(np.asarray(refs4.sum(axis=1)))\n",
      "plt.hist(ref4Counts, bins=20)[2]"
     ],
     "language": "python",
     "metadata": {},
     "outputs": [
      {
       "metadata": {},
       "output_type": "pyout",
       "prompt_number": 16,
       "text": [
        "<a list of 20 Patch objects>"
       ]
      },
      {
       "metadata": {},
       "output_type": "display_data",
       "png": "[encoded data removed]",
       "text": [
        "<matplotlib.figure.Figure at 0x113b6f950>"
       ]
      }
     ],
     "prompt_number": 16
    },
    {
     "cell_type": "markdown",
     "metadata": {},
     "source": [
      "Min, Median, Max, Average, Std"
     ]
    },
    {
     "cell_type": "code",
     "collapsed": false,
     "input": [
      "ref4Counts.min(), np.median(ref4Counts), ref4Counts.max(), ref4Counts.mean(), ref4Counts.std()"
     ],
     "language": "python",
     "metadata": {},
     "outputs": [
      {
       "metadata": {},
       "output_type": "pyout",
       "prompt_number": 17,
       "text": [
        "(0.0, 2.0, 15.0, 2.5442529, 2.2251961)"
       ]
      }
     ],
     "prompt_number": 17
    },
    {
     "cell_type": "markdown",
     "metadata": {},
     "source": [
      "With this restricted subset of references, how many papers have __zero__ references, __one__ reference, __two__ references, __three__ references and __four or more__ references"
     ]
    },
    {
     "cell_type": "code",
     "collapsed": false,
     "input": [
      "st.itemfreq(ref4Counts)"
     ],
     "language": "python",
     "metadata": {},
     "outputs": [
      {
       "metadata": {},
       "output_type": "pyout",
       "prompt_number": 18,
       "text": [
        "array([[  0.00000000e+00,   1.90000000e+01],\n",
        "       [  1.59970551e-39,   2.76000000e+02],\n",
        "       [  1.00000000e+00,   3.66000000e+02],\n",
        "       [  2.00000000e+00,   3.54000000e+02],\n",
        "       [  3.00000000e+00,   2.67000000e+02],\n",
        "       [  4.00000000e+00,   1.63000000e+02],\n",
        "       [  5.00000000e+00,   1.11000000e+02],\n",
        "       [  6.00000000e+00,   7.60000000e+01],\n",
        "       [  7.00000000e+00,   4.50000000e+01],\n",
        "       [  8.00000000e+00,   3.00000000e+01],\n",
        "       [  9.00000000e+00,   1.50000000e+01],\n",
        "       [  1.00000000e+01,   9.00000000e+00],\n",
        "       [  1.10000000e+01,   4.00000000e+00],\n",
        "       [  1.20000000e+01,   2.00000000e+00],\n",
        "       [  1.30000000e+01,   2.00000000e+00],\n",
        "       [  1.50000000e+01,   1.00000000e+00]])"
       ]
      }
     ],
     "prompt_number": 18
    },
    {
     "cell_type": "code",
     "collapsed": false,
     "input": [
      "zeroRef4Papers = np.where(ref4Counts == 0)[0]\n",
      "singleRef4Papers = np.where(ref4Counts == 1)[0]\n",
      "doubleRef4Papers = np.where(ref4Counts == 2)[0]\n",
      "tripleRef4Papers = np.where(ref4Counts == 3)[0]\n",
      "manyRef4Papers   = np.where(ref4Counts > 3)[0]\n",
      "\n",
      "print (\"Four or more %d\" % len(manyRef4Papers))"
     ],
     "language": "python",
     "metadata": {},
     "outputs": [
      {
       "output_type": "stream",
       "stream": "stdout",
       "text": [
        "Four or more 458\n"
       ]
      }
     ],
     "prompt_number": 19
    },
    {
     "cell_type": "heading",
     "level": 3,
     "metadata": {},
     "source": [
      "Category Counts"
     ]
    },
    {
     "cell_type": "markdown",
     "metadata": {},
     "source": [
      "Each paper is assigned one of a number of categories, presenting a multi-label classification problem. We probably won't use these as features (as it would be trivial to cluster given this information) but present them here anyway"
     ]
    },
    {
     "cell_type": "code",
     "collapsed": false,
     "input": [
      "catCounts = np.squeeze(np.asarray(cats.sum(axis=1)))\n",
      "plt.hist(catCounts, bins = catCounts.max() - 1)[2]"
     ],
     "language": "python",
     "metadata": {},
     "outputs": [
      {
       "metadata": {},
       "output_type": "pyout",
       "prompt_number": 20,
       "text": [
        "<a list of 17 Patch objects>"
       ]
      },
      {
       "metadata": {},
       "output_type": "display_data",
       "png": "[encoded data removed]",
       "text": [
        "<matplotlib.figure.Figure at 0x113b6f4d0>"
       ]
      }
     ],
     "prompt_number": 20
    },
    {
     "cell_type": "markdown",
     "metadata": {},
     "source": [
      "Min, Median, Max, Average, Std"
     ]
    },
    {
     "cell_type": "code",
     "collapsed": false,
     "input": [
      "catCounts.min(), np.median(catCounts), catCounts.max(), catCounts.mean(), catCounts.std()"
     ],
     "language": "python",
     "metadata": {},
     "outputs": [
      {
       "metadata": {},
       "output_type": "pyout",
       "prompt_number": 21,
       "text": [
        "(0.0, 6.0, 18.0, 5.3477011, 2.7768495)"
       ]
      }
     ],
     "prompt_number": 21
    },
    {
     "cell_type": "markdown",
     "metadata": {},
     "source": [
      "The labelling of the plot above is a bit confusing, but there are indeed quite a few unlabelled examples. The total count is"
     ]
    },
    {
     "cell_type": "code",
     "collapsed": false,
     "input": [
      "zeroCatPapers = np.where(catCounts == 0)[0]\n",
      "len(zeroCatPapers)"
     ],
     "language": "python",
     "metadata": {},
     "outputs": [
      {
       "metadata": {},
       "output_type": "pyout",
       "prompt_number": 22,
       "text": [
        "246"
       ]
      }
     ],
     "prompt_number": 22
    },
    {
     "cell_type": "heading",
     "level": 2,
     "metadata": {},
     "source": [
      "Minimum Valid Dataset"
     ]
    },
    {
     "cell_type": "markdown",
     "metadata": {},
     "source": [
      "We consider a dataset with at least one author and at least one reference, both generated from dictionaries of authors and references that occur in at least 4 separate papers. Thus our feature matrix $X$ is the matrix of author IDs and reference IDs, and our document matrix $W$ is just the words are examined previously. We also consider variants where $X$ is just authors, ann one where $X$ is just references."
     ]
    },
    {
     "cell_type": "code",
     "collapsed": false,
     "input": [
      "nonZeroAuthor4Papers = np.where(author4Counts > 0)[0].astype(np.int32)\n",
      "nonZeroRef4Papers    = np.where(ref4Counts > 0)[0].astype(np.int32)\n",
      "\n",
      "subset = np.intersect1d(nonZeroAuthor4Papers, nonZeroRef4Papers).astype(np.int32)"
     ],
     "language": "python",
     "metadata": {},
     "outputs": [],
     "prompt_number": 32
    },
    {
     "cell_type": "code",
     "collapsed": false,
     "input": [
      "X_ar = ssp.hstack((aths4[subset,:], refs4[subset,:]))\n",
      "W_ar = words[subset,:]\n",
      "\n",
      "print (\"A/R-Feature set shape is %s\" % str(X_ar.shape))"
     ],
     "language": "python",
     "metadata": {},
     "outputs": [],
     "prompt_number": "*"
    },
    {
     "cell_type": "code",
     "collapsed": false,
     "input": [
      "#subset = nonZeroAuthor4Papers\n",
      "\n",
      "#X_a = ssp.hstack((aths4[subset,:], refs4[subset,:]))\n",
      "#W_a = words[subset,:]\n",
      "\n",
      "#print (\"A-Feature set shape is %s\" % str(X_a.shape))"
     ],
     "language": "python",
     "metadata": {},
     "outputs": [],
     "prompt_number": 25
    },
    {
     "cell_type": "code",
     "collapsed": false,
     "input": [
      "#subset = nonZeroAuthor4Papers\n",
      "\n",
      "#X_r = ssp.hstack((aths4[subset,:], refs4[subset,:]))\n",
      "#W_r = words[subset,:]\n",
      "\n",
      "#print (\"R-Feature set shape is %s\" % str(X_a.shape))"
     ],
     "language": "python",
     "metadata": {},
     "outputs": [],
     "prompt_number": 26
    },
    {
     "cell_type": "code",
     "collapsed": false,
     "input": [],
     "language": "python",
     "metadata": {},
     "outputs": [],
     "prompt_number": 34
    },
    {
     "cell_type": "code",
     "collapsed": false,
     "input": [],
     "language": "python",
     "metadata": {},
     "outputs": []
    }
   ],
   "metadata": {}
  }
 ]
}