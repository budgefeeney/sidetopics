{
 "metadata": {
  "name": ""
 },
 "nbformat": 3,
 "nbformat_minor": 0,
 "worksheets": [
  {
   "cells": [
    {
     "cell_type": "markdown",
     "metadata": {},
     "source": [
      "# Results from a Single STM Run with the $bound Bound\n",
      "This describes the topic means, covariances, and perplexity of a single model run. The configuration of the model is given further below, after it has been loaded."
     ]
    },
    {
     "cell_type": "markdown",
     "metadata": {},
     "source": [
      "# Prelude"
     ]
    },
    {
     "cell_type": "markdown",
     "metadata": {},
     "source": [
      "##\u00a0Configuration"
     ]
    },
    {
     "cell_type": "code",
     "collapsed": false,
     "input": [
      "import sys\n",
      "\n",
      "\n",
      "codePath = $codePath\n",
      "\n",
      "dataPathPrefix = \"/Users/bryanfeeney/Desktop/Tweets600/\"\n",
      "wordsPath = dataPathPrefix + \"words-noisy.pkl\"\n",
      "featsPath = dataPathPrefix + \"side-noisy.pkl\"\n",
      "authsPath = dataPathPrefix + \"words-by-author-all-in-one.pkl\"\n",
      "dictPath  = dataPathPrefix + \"dicts.py\"\n",
      "\n",
      "outputPathPrefix = $outFilesPrefix\n",
      "outputFiles = [ $outputFiles ]\n",
      "\n",
      "FoldCount = len(outputFiles)\n",
      "reconstructSparse=False\n",
      "\n",
      "sys.path.append(codePath)\n",
      "%run $$dictPath\n"
     ],
     "language": "python",
     "metadata": {},
     "outputs": [],
     "prompt_number": 265
    },
    {
     "cell_type": "markdown",
     "metadata": {},
     "source": [
      "## Imports"
     ]
    },
    {
     "cell_type": "code",
     "collapsed": false,
     "input": [
      "import numpy as np\n",
      "import numpy.random as rd\n",
      "import scipy as sp\n",
      "import scipy.sparse as ssp\n",
      "import scipy.linalg as la\n",
      "import scipy.sparse.linalg as sla\n",
      "import matplotlib.pyplot as plt\n",
      "import matplotlib.cm as cm\n",
      "import pickle as pkl\n",
      "\n",
      "from math import log, pi, exp, ceil\n",
      "\n",
      "rd.seed(0xC0FFEE)\n",
      "\n",
      "%load_ext cythonmagic\n",
      "%matplotlib inline"
     ],
     "language": "python",
     "metadata": {},
     "outputs": [
      {
       "output_type": "stream",
       "stream": "stdout",
       "text": [
        "The cythonmagic extension is already loaded. To reload it, use:\n",
        "  %reload_ext cythonmagic\n"
       ]
      }
     ],
     "prompt_number": 266
    },
    {
     "cell_type": "code",
     "collapsed": false,
     "input": [
      "import model\n",
      "from util.sigmoid_utils import rowwise_softmax\n",
      "from model.$implName import log_likelihood, perplexity, ModelState, QueryState"
     ],
     "language": "python",
     "metadata": {},
     "outputs": [],
     "prompt_number": 267
    },
    {
     "cell_type": "markdown",
     "metadata": {},
     "source": [
      "## Useful functions\n",
      "The main body of this is a function (```sparseScalarQuotientOfSafeLnDot()```) used to calculate the log-likelihood efficiently. It's written in Cython for performance reasons, hence the typing."
     ]
    },
    {
     "cell_type": "code",
     "collapsed": false,
     "input": [
      "from IPython.display import HTML\n",
      "from IPython.display import Latex\n",
      "from IPython.display import Image"
     ],
     "language": "python",
     "metadata": {},
     "outputs": [],
     "prompt_number": 268
    },
    {
     "cell_type": "code",
     "collapsed": false,
     "input": [
      "def normalize_rows_ip(matrix):\n",
      "    '''\n",
      "    Normalizes the rows of the matrix in-place, ovewriting\n",
      "    the previous values\n",
      "    '''\n",
      "    row_sums  = matrix.sum(axis=1)\n",
      "    matrix   /= row_sums[:, np.newaxis]\n",
      "    return matrix\n",
      "\n"
     ],
     "language": "python",
     "metadata": {},
     "outputs": [],
     "prompt_number": 269
    },
    {
     "cell_type": "code",
     "collapsed": false,
     "input": [
      "%%cython\n",
      "\n",
      "cimport cython\n",
      "import numpy as np\n",
      "cimport numpy as np\n",
      "from libc.math cimport log\n",
      "from libc.float cimport FLT_MIN, DBL_MIN\n",
      "\n",
      "@cython.boundscheck(False)\n",
      "@cython.wraparound(False)\n",
      "@cython.cdivision(True)\n",
      "def sparseScalarProductOfSafeLnDot_f8(double[:] A_data, int[:] A_indices, int[:] A_ptr, double[:,:] B, double[:,:] C, double[:] out_data):\n",
      "    '''\n",
      "    Returns A * np.log(np.dot(B, C)), however it does so keeping in \n",
      "    mind the sparsity of A, calculate values only when required.\n",
      "    Moreover if any product of the dot is zero, it's replaced with\n",
      "    the minimum non-zero value allowed by the datatype, to avoid NaNs\n",
      "     \n",
      "    Params\n",
      "    A_data    - the values buffer of the sparse CSR matrix A\n",
      "    A_indices - the indices buffer of the sparse CSR matrix A\n",
      "    A_ptr     - the index pointer buffer of the sparse CSR matrix A\n",
      "    B         - a dense matrix\n",
      "    C         - a dense matrix\n",
      "    out_data  - the values buffer into which the result will be placed.\n",
      "    \n",
      "    Returns\n",
      "    out_data, though note that this is the same parameter passed in and overwitten.\n",
      "    '''\n",
      "    cdef:\n",
      "        int rowCount = len(A_ptr) - 1 \n",
      "        int elemCount = 0, e = 0\n",
      "        int row = 0, col = 0, i = 0\n",
      "        double dotProd = 0.0\n",
      "        double logOfMin = log (DBL_MIN)\n",
      "    \n",
      "    with nogil:\n",
      "        while row < rowCount:\n",
      "            elemCount = A_ptr[row+1] - A_ptr[row]\n",
      "            e = 0\n",
      "            while e < elemCount:\n",
      "                col         = A_indices[i]\n",
      "                dotProd     = dotProduct_f8(row,col,B,C)\n",
      "                out_data[i] = A_data[i] * log(dotProd) if dotProd > DBL_MIN else logOfMin\n",
      "                i += 1\n",
      "                e += 1\n",
      "            row += 1\n",
      "    \n",
      "    return out_data\n",
      "\n",
      "@cython.boundscheck(False)\n",
      "@cython.wraparound(False)\n",
      "@cython.cdivision(True)\n",
      "def sparseScalarProductOfSafeLnDot_f4(float[:] A_data, int[:] A_indices, int[:] A_ptr, float[:,:] B, float[:,:] C, float[:] out_data):\n",
      "    '''\n",
      "    Returns A * np.log(np.dot(B, C)), however it does so keeping in \n",
      "    mind the sparsity of A, calculate values only when required.\n",
      "    Moreover if any product of the dot is zero, it's replaced with\n",
      "    the minimum non-zero value allowed by the datatype, to avoid NaNs\n",
      "     \n",
      "    Params\n",
      "    A_data    - the values buffer of the sparse CSR matrix A\n",
      "    A_indices - the indices buffer of the sparse CSR matrix A\n",
      "    A_ptr     - the index pointer buffer of the sparse CSR matrix A\n",
      "    B         - a dense matrix\n",
      "    C         - a dense matrix\n",
      "    out_data  - the values buffer into which the result will be placed.\n",
      "    \n",
      "    Returns\n",
      "    out_data, though note that this is the same parameter passed in and overwitten.\n",
      "    '''\n",
      "    cdef:\n",
      "        int rowCount = len(A_ptr) - 1 \n",
      "        int elemCount = 0, e = 0\n",
      "        int row = 0, col = 0, i = 0\n",
      "        float dotProd = 0.0\n",
      "        float logOfMin = log (FLT_MIN)\n",
      "    \n",
      "    with nogil:\n",
      "        while row < rowCount:\n",
      "            elemCount = A_ptr[row+1] - A_ptr[row]\n",
      "            e = 0\n",
      "            while e < elemCount:\n",
      "                col         = A_indices[i]\n",
      "                dotProd     = dotProduct_f4(row,col,B,C)\n",
      "                out_data[i] = A_data[i] * log(dotProd) if dotProd > FLT_MIN else logOfMin\n",
      "                i += 1\n",
      "                e += 1\n",
      "            row += 1\n",
      "    \n",
      "    return out_data\n",
      "\n",
      "@cython.boundscheck(False)\n",
      "@cython.wraparound(False)\n",
      "@cython.cdivision(True)\n",
      "cdef double dotProduct_f8 (int r, int c, double[:,:] B, double[:,:] C) nogil:\n",
      "    '''\n",
      "    The dot product of the r-th row of B and the c-th column of C.\n",
      "    Done directly with a for-loop, no BLAS, SSE or anything. Still\n",
      "    pretty fast though - just as quick as a numpy dot\n",
      "    '''\n",
      "\n",
      "    cdef double result = 0\n",
      "    cdef int innerDim = B.shape[1]\n",
      "    \n",
      "    cdef int i = 0\n",
      "    while i < innerDim:\n",
      "        result += B[r,i] * C[i,c]\n",
      "        i += 1\n",
      "\n",
      "    return result\n",
      "\n",
      "\n",
      "@cython.boundscheck(False)\n",
      "@cython.wraparound(False)\n",
      "@cython.cdivision(True)\n",
      "cdef float dotProduct_f4 (int r, int c, float[:,:] B, float[:,:] C) nogil:\n",
      "    '''\n",
      "    The dot product of the r-th row of B and the c-th column of C.\n",
      "    Done directly with a for-loop, no BLAS, SSE or anything. Still\n",
      "    pretty fast though - just as quick as a numpy dot\n",
      "    '''\n",
      "    cdef float result = 0\n",
      "    cdef int innerDim = B.shape[1]\n",
      "    \n",
      "    cdef int i = 0\n",
      "    while i < innerDim:\n",
      "        result += B[r,i] * C[i,c]\n",
      "        i += 1\n",
      "\n",
      "    return result"
     ],
     "language": "python",
     "metadata": {},
     "outputs": [],
     "prompt_number": 270
    },
    {
     "cell_type": "code",
     "collapsed": false,
     "input": [
      "def sparseScalarProductOfSafeLnDot (A, B, C, out=None):\n",
      "    '''\n",
      "    Returns A * np.log(np.dot(B, C)), however it does so keeping in\n",
      "    mind the sparsity of A, calculating values only where required.\n",
      "    Moreover if any product of the dot is zero, it's replaced with\n",
      "    the minimum non-zero value allowed by the datatype, to avoid NaNs\n",
      "     \n",
      "    Params\n",
      "    A         - a sparse CSR matrix\n",
      "    B         - a dense matrix\n",
      "    C         - a dense matrix\n",
      "    out       - if specified, must be a sparse CSR matrix with identical\n",
      "                non-zero pattern to A (i.e. same indices and indptr)\n",
      "    \n",
      "    Returns\n",
      "    out_data, though note that this is the same parameter passed in and overwitten.\n",
      "    '''\n",
      "    if out is None:\n",
      "        out = A.copy()\n",
      "    if A.dtype == np.float64:\n",
      "        sparseScalarProductOfSafeLnDot_f8(A.data, A.indices, A.indptr, B, C, out.data)\n",
      "    elif A.dtype == np.float32:\n",
      "        sparseScalarProductOfSafeLnDot_f4(A.data, A.indices, A.indptr, B, C, out.data)\n",
      "    \n",
      "    return out\n"
     ],
     "language": "python",
     "metadata": {},
     "outputs": [],
     "prompt_number": 271
    },
    {
     "cell_type": "markdown",
     "metadata": {},
     "source": [
      "# Model Results"
     ]
    },
    {
     "cell_type": "markdown",
     "metadata": {},
     "source": [
      "## Load the Model"
     ]
    },
    {
     "cell_type": "code",
     "collapsed": false,
     "input": [
      "orders      = []\n",
      "boundItrs   = []\n",
      "boundVals   = []\n",
      "model       = []\n",
      "trainTopics = []\n",
      "queryTopics = []\n",
      "\n",
      "for outputFile in outputFiles:\n",
      "    with open(outputFile, \"rb\") as f:\n",
      "        (o, i, v, m, t, q) = pkl.load(f)\n",
      "        orders.append(o)\n",
      "        boundItrs.append(i)\n",
      "        boundVals.append(v)\n",
      "        model.append(m)\n",
      "        trainTopics.append(t)\n",
      "        queryTopics.append(q)\n"
     ],
     "language": "python",
     "metadata": {},
     "outputs": [],
     "prompt_number": 272
    },
    {
     "cell_type": "markdown",
     "metadata": {},
     "source": [
      "Determine if the model executed successfully. We expect to have __five__ completed folds, with associated model configurations."
     ]
    },
    {
     "cell_type": "code",
     "collapsed": false,
     "input": [
      "successfulQueryCount = 0\n",
      "for queryTopic in queryTopics:\n",
      "    if queryTopic is not None:\n",
      "        successfulQueryCount += 1"
     ],
     "language": "python",
     "metadata": {},
     "outputs": [],
     "prompt_number": 273
    },
    {
     "cell_type": "code",
     "collapsed": false,
     "input": [
      "\n",
      "if successfulQueryCount < FoldCount:\n",
      "    h = HTML(\"<h1><font color='red'>Training Run Failed to Complete</font></h1>\")\n",
      "else:\n",
      "    h = HTML(\"<font color='green'>Training Completed Successfully</font>\")\n",
      "h"
     ],
     "language": "python",
     "metadata": {},
     "outputs": [
      {
       "html": [
        "<font color='green'>Training Completed Successfully</font>"
       ],
       "metadata": {},
       "output_type": "pyout",
       "prompt_number": 274,
       "text": [
        "<IPython.core.display.HTML at 0x1271baf10>"
       ]
      }
     ],
     "prompt_number": 274
    },
    {
     "cell_type": "code",
     "collapsed": false,
     "input": [
      "# It makes no sense to continue if we don't have many queries\n",
      "if successfulQueryCount < FoldCount:\n",
      "    exit(-1)"
     ],
     "language": "python",
     "metadata": {},
     "outputs": [],
     "prompt_number": 275
    },
    {
     "cell_type": "markdown",
     "metadata": {},
     "source": [
      "## Model Configuration"
     ]
    },
    {
     "cell_type": "code",
     "collapsed": false,
     "input": [
      "print (\"Model Name:      %18s\" % model[0].name)\n",
      "print (\"Topic Count:     %18d\" % model[0].K)\n",
      "print (\"Latent Features: %18d\" % model[0].P)\n"
     ],
     "language": "python",
     "metadata": {},
     "outputs": [
      {
       "output_type": "stream",
       "stream": "stdout",
       "text": [
        "Model Name:         stm-yv/bouchard\n",
        "Topic Count:                      5\n",
        "Latent Features:                 10\n"
       ]
      }
     ],
     "prompt_number": 304
    },
    {
     "cell_type": "markdown",
     "metadata": {},
     "source": [
      "### Evolution of the Variational Bound During Training\n"
     ]
    },
    {
     "cell_type": "code",
     "collapsed": false,
     "input": [
      "colCount = 2\n",
      "rowCount = int(ceil (FoldCount / colCount))\n",
      "\n",
      "fig, ax = plt.subplots(rowCount, colCount, figsize=(11,9))\n",
      "for fold in range(FoldCount):\n",
      "    row = fold // colCount\n",
      "    col = fold % colCount\n",
      "    \n",
      "    ax[row,col].plot(boundItrs[0], boundVals[0])\n",
      "    ax[row,col].set_title(\"Fold-\" + str(fold))\n",
      "fig.suptitle(\"Variational Bound\")\n"
     ],
     "language": "python",
     "metadata": {},
     "outputs": [
      {
       "metadata": {},
       "output_type": "pyout",
       "prompt_number": 279,
       "text": [
        "<matplotlib.text.Text at 0x1252f9590>"
       ]
      },
      {
       "metadata": {},
       "output_type": "display_data",
       "png": "[encoded data removed]",
       "text": [
        "<matplotlib.figure.Figure at 0x126d64d90>"
       ]
      }
     ],
     "prompt_number": 279
    },
    {
     "cell_type": "markdown",
     "metadata": {},
     "source": [
      "##\u00a0Load the Data"
     ]
    },
    {
     "cell_type": "code",
     "collapsed": false,
     "input": [
      "# We assume the order is always the same (order refers to the order the data\n",
      "# was presented to the cross-val train and test algorithm: we shuffle the \n",
      "# data before creating the cross-validated slices)\n",
      "order = orders[0]\n",
      "with open(wordsPath, 'rb') as f:\n",
      "    W = pkl.load(f)\n",
      "    W = W[order,:].astype(model[0].dtype)\n",
      "with open(featsPath, 'rb') as f:\n",
      "    X = pkl.load(f)\n",
      "    X = X[order,:].astype(model[0].dtype)"
     ],
     "language": "python",
     "metadata": {},
     "outputs": [],
     "prompt_number": 280
    },
    {
     "cell_type": "code",
     "collapsed": false,
     "input": [
      "# Features are ordered as author, then week of year, then month of year\n",
      "uidMatrix = X[:,0:feats['week_of_year']].todense()\n",
      "uids = np.squeeze(np.asarray(np.argmax(uidMatrix, axis=1)))\n",
      "userLabels = [users[uid] for uid in uids]"
     ],
     "language": "python",
     "metadata": {},
     "outputs": [],
     "prompt_number": 281
    },
    {
     "cell_type": "code",
     "collapsed": false,
     "input": [
      "import itertools\n",
      "dic = list(itertools.chain.from_iterable(words))\n",
      "len(dic)"
     ],
     "language": "python",
     "metadata": {},
     "outputs": [
      {
       "metadata": {},
       "output_type": "pyout",
       "prompt_number": 282,
       "text": [
        "82699"
       ]
      }
     ],
     "prompt_number": 282
    },
    {
     "cell_type": "code",
     "collapsed": false,
     "input": [
      "D,T = W.shape\n",
      "F = 0 if X is None else X.shape[1]\n",
      "\n",
      "print (\"Document Count: %d\\nVocab Size %d\\nFeatures: %d\" % (D,T,F))"
     ],
     "language": "python",
     "metadata": {},
     "outputs": [
      {
       "output_type": "stream",
       "stream": "stdout",
       "text": [
        "Document Count: 585268\n",
        "Vocab Size 82698\n",
        "Features: 425\n"
       ]
      }
     ],
     "prompt_number": 283
    },
    {
     "cell_type": "markdown",
     "metadata": {},
     "source": [
      "## Output of the Model on the Data"
     ]
    },
    {
     "cell_type": "markdown",
     "metadata": {},
     "source": [
      "### Log Likelihood and Perplexity\n",
      "With normal topic models the words form each document need to be split into estimation (of topic distribution) and evaluation (of likelihood) sets so we don't re-use the same document.\n",
      "\n",
      "In our model we don't use the words to predict topics, we use the features, so we don't need to split the topics. This is fortunate as it would be very hard to do so for a simple tweet."
     ]
    },
    {
     "cell_type": "code",
     "collapsed": false,
     "input": [
      "foldSize  = ceil(D / FoldCount)\n",
      "querySize = foldSize\n",
      "trainSize = D - querySize\n",
      "        \n",
      "print (\"Fold ID   %15s  %10s\" % ('Log Likelihood', 'Perplexity'))\n",
      "for fold in range(FoldCount):\n",
      "    start = fold * foldSize\n",
      "    end   = start + trainSize\n",
      "    \n",
      "    trainSet = np.arange(start,end) % D\n",
      "    querySet = np.arange(end, end + querySize) % D\n",
      "    \n",
      "    W_train, W_query = W[trainSet,:], W[querySet,:]\n",
      "    X_train, X_query = X[trainSet,:], X[querySet,:]\n",
      "    \n",
      "    userLabelsTrain = [userLabels[row] for row in trainSet]\n",
      "    userLabelsQuery = [userLabels[row] for row in querySet]\n",
      "    \n",
      "    logLikely = np.sum( \\\n",
      "        sparseScalarProductOfSafeLnDot(\\\n",
      "            W_query, \\\n",
      "            rowwise_softmax(queryTopics[fold].means), \\\n",
      "            model[fold].vocab \\\n",
      "        ).data \\\n",
      "    )\n",
      "    \n",
      "    perplexity = np.exp(-logLikely / np.sum(W_query.data))\n",
      "    print (\"Fold %2d   %15.3f  %10.2f\" % (fold, logLikely, perplexity))"
     ],
     "language": "python",
     "metadata": {},
     "outputs": [
      {
       "output_type": "stream",
       "stream": "stdout",
       "text": [
        "Fold ID    Log Likelihood  Perplexity\n",
        "Fold  0      -9019158.000     2833.69"
       ]
      },
      {
       "output_type": "stream",
       "stream": "stdout",
       "text": [
        "\n",
        "Fold  1      -9019900.000     2827.81"
       ]
      },
      {
       "output_type": "stream",
       "stream": "stdout",
       "text": [
        "\n",
        "Fold  2      -9009465.000     2835.20"
       ]
      },
      {
       "output_type": "stream",
       "stream": "stdout",
       "text": [
        "\n",
        "Fold  3      -9021131.000     2833.86"
       ]
      },
      {
       "output_type": "stream",
       "stream": "stdout",
       "text": [
        "\n",
        "Fold  4      -9015841.000     2856.38"
       ]
      },
      {
       "output_type": "stream",
       "stream": "stdout",
       "text": [
        "\n"
       ]
      }
     ],
     "prompt_number": 305
    },
    {
     "cell_type": "markdown",
     "metadata": {},
     "source": [
      "##\u00a0Topics for Fold-4\n",
      "Print the top words for each topic. How many words is specified by the ```topWordCount``` variable. For simplicity we only consider the final fold here."
     ]
    },
    {
     "cell_type": "code",
     "collapsed": false,
     "input": [
      "topWordCount=30\n",
      "fold = 4\n",
      "W_fold = W_train"
     ],
     "language": "python",
     "metadata": {},
     "outputs": [],
     "prompt_number": 285
    },
    {
     "cell_type": "code",
     "collapsed": false,
     "input": [
      "# Based on corpus-wide term distribution\n",
      "counts = W_fold.sum(axis = 0)\n",
      "freq = counts / counts.sum()\n",
      "freq = np.squeeze(np.asarray(freq))\n",
      "freq += 1E-35 if counts.dtype == np.float32 else 1E-300\n",
      "\n",
      "denom = (1 + freq)"
     ],
     "language": "python",
     "metadata": {},
     "outputs": [],
     "prompt_number": 286
    },
    {
     "cell_type": "code",
     "collapsed": false,
     "input": [
      "#scale = 1\n",
      "scale = np.reciprocal(denom)"
     ],
     "language": "python",
     "metadata": {},
     "outputs": [],
     "prompt_number": 287
    },
    {
     "cell_type": "code",
     "collapsed": false,
     "input": [
      "def topWordInds (wordDict, vocab, count=10):\n",
      "    return vocab.argsort()[-count:][::-1]\n",
      "\n",
      "kTopWordsIdf = [topWordInds(dic, model[fold].vocab[k,:] * scale, count=topWordCount) \\\n",
      "                for k in range(model[fold].K)]"
     ],
     "language": "python",
     "metadata": {},
     "outputs": [],
     "prompt_number": 288
    },
    {
     "cell_type": "code",
     "collapsed": false,
     "input": [
      "for k in range(model[fold].K):\n",
      "    print (\"\\n\\nTopic \" + str(k) + \"\\n================================\")\n",
      "    for c in range(topWordCount):\n",
      "        print (\"%-30s %05.4f\" % (dic[kTopWordsIdf[k][c]], model[fold].vocab[k][kTopWordsIdf[k][c]]))"
     ],
     "language": "python",
     "metadata": {},
     "outputs": [
      {
       "output_type": "stream",
       "stream": "stdout",
       "text": [
        "\n",
        "\n",
        "Topic 0\n",
        "================================\n",
        "you                            0.0192\n",
        "have                           0.0068\n",
        "your                           0.0067\n",
        "we                             0.0065\n",
        "via                            0.0063\n",
        "from                           0.0057\n",
        "us                             0.0052\n",
        "my                             0.0052\n",
        "new                            0.0052\n",
        "thank                          0.0051\n",
        "beer                           0.0051\n",
        "our                            0.0051\n",
        "out                            0.0049\n",
        "what                           0.0049\n",
        "so                             0.0048\n",
        "it                             0.0048\n",
        "all                            0.0044\n",
        "get                            0.0043\n",
        "just                           0.0043\n",
        "love                           0.0041\n",
        "like                           0.0041\n",
        "about                          0.0040\n",
        "do                             0.0039\n",
        "up                             0.0039\n",
        "good                           0.0038\n",
        "dai                            0.0037\n",
        "on                             0.0037\n",
        "great                          0.0037\n",
        "look                           0.0036\n",
        "time                           0.0033\n",
        "\n",
        "\n",
        "Topic 1\n",
        "================================\n",
        "you                            0.0187\n",
        "thank                          0.0081\n",
        "we                             0.0076\n",
        "your                           0.0063\n",
        "out                            0.0062\n",
        "have                           0.0062\n",
        "from                           0.0059\n",
        "us                             0.0055\n",
        "my                             0.0052\n",
        "so                             0.0052\n",
        "about                          0.0050\n",
        "new                            0.0050\n",
        "get                            0.0049\n",
        "what                           0.0048\n",
        "now                            0.0045\n",
        "all                            0.0045\n",
        "our                            0.0045\n",
        "it                             0.0044\n",
        "just                           0.0043\n",
        "see                            0.0041\n",
        "like                           0.0039\n",
        "more                           0.0039\n",
        "up                             0.0039\n",
        "can                            0.0037\n",
        "film                           0.0037\n",
        "do                             0.0036\n",
        "me                             0.0034\n",
        "go                             0.0034\n",
        "on                             0.0033\n",
        "how                            0.0032\n",
        "\n",
        "\n",
        "Topic 2\n",
        "================================\n",
        "set                            0.0072\n",
        "from                           0.0058\n",
        "he                             0.0052\n",
        "you                            0.0050\n",
        "up                             0.0049\n",
        "ha                             0.0048\n",
        "win                            0.0046\n",
        "have                           0.0046\n",
        "game                           0.0044\n",
        "get                            0.0044\n",
        "match                          0.0041\n",
        "out                            0.0040\n",
        "hi                             0.0040\n",
        "plai                           0.0040\n",
        "first                          0.0038\n",
        "now                            0.0038\n",
        "vs                             0.0037\n",
        "new                            0.0036\n",
        "just                           0.0036\n",
        "break                          0.0035\n",
        "over                           0.0034\n",
        "it                             0.0034\n",
        "all                            0.0033\n",
        "her                            0.0032\n",
        "about                          0.0031\n",
        "she                            0.0030\n",
        "what                           0.0030\n",
        "year                           0.0029\n",
        "on                             0.0029\n",
        "time                           0.0029\n",
        "\n",
        "\n",
        "Topic 3\n",
        "================================\n",
        "de                             0.0267\n",
        "la                             0.0163\n",
        "en                             0.0150\n",
        "el                             0.0122\n",
        "que                            0.0119\n",
        "set                            0.0079\n",
        "you                            0.0079\n",
        "por                            0.0077\n",
        "lo                             0.0075\n",
        "do                             0.0069\n",
        "para                           0.0065\n",
        "se                             0.0052\n",
        "nadal                          0.0050\n",
        "#usopen                        0.0050\n",
        "un                             0.0048\n",
        "es                             0.0045\n",
        "con                            0.0042\n",
        "contra                         0.0041\n",
        "us                             0.0040\n",
        "have                           0.0039\n",
        "#f1                            0.0037\n",
        "del                            0.0036\n",
        "we                             0.0036\n",
        "em                             0.0035\n",
        "he                             0.0035\n",
        "na                             0.0034\n",
        "#gp2                           0.0033\n",
        "si                             0.0030\n",
        "djokov                         0.0030\n",
        "me                             0.0030\n",
        "\n",
        "\n",
        "Topic 4\n",
        "================================\n",
        "you                            0.0224\n",
        "have                           0.0102\n",
        "my                             0.0089\n",
        "so                             0.0081\n",
        "just                           0.0078\n",
        "me                             0.0066\n",
        "it                             0.0066\n",
        "like                           0.0066\n",
        "i'm                            0.0060\n",
        "do                             0.0058\n",
        "what                           0.0058\n",
        "get                            0.0056\n",
        "all                            0.0055\n",
        "he                             0.0055\n",
        "your                           0.0049\n",
        "about                          0.0049\n",
        "we                             0.0049\n",
        "on                             0.0048\n",
        "can                            0.0048\n",
        "go                             0.0048\n",
        ":)                             0.0046\n",
        "good                           0.0046\n",
        "up                             0.0046\n",
        "thank                          0.0046\n",
        "out                            0.0043\n",
        "think                          0.0043\n",
        "ha                             0.0042\n",
        "from                           0.0042\n",
        "know                           0.0041\n",
        "now                            0.0040\n"
       ]
      }
     ],
     "prompt_number": 289
    },
    {
     "cell_type": "markdown",
     "metadata": {},
     "source": [
      "## Topic Assignments in Fold-4\n",
      "\n"
     ]
    },
    {
     "cell_type": "code",
     "collapsed": false,
     "input": [
      "dist = rowwise_softmax(trainTopics[fold].means)\n",
      "distMean = dist.mean(axis=0)\n",
      "\n",
      "queryDist = rowwise_softmax(queryTopics[fold].means)\n",
      "queryDistMean = queryDist.mean(axis=0)"
     ],
     "language": "python",
     "metadata": {},
     "outputs": [],
     "prompt_number": 290
    },
    {
     "cell_type": "markdown",
     "metadata": {},
     "source": [
      "### Means"
     ]
    },
    {
     "cell_type": "code",
     "collapsed": false,
     "input": [
      "fig, ax = plt.subplots(figsize=(10,3))\n",
      "\n",
      "im = plt.imshow(distMean.reshape((1, len(distMean))), interpolation=\"none\")\n",
      "\n",
      "cb = fig.colorbar(im, ax=ax)\n",
      "ax.set_title(\"Mean of Posterior Means (Training)\")"
     ],
     "language": "python",
     "metadata": {},
     "outputs": [
      {
       "metadata": {},
       "output_type": "pyout",
       "prompt_number": 291,
       "text": [
        "<matplotlib.text.Text at 0x1a777fc50>"
       ]
      },
      {
       "metadata": {},
       "output_type": "display_data",
       "png": "[encoded data removed]",
       "text": [
        "<matplotlib.figure.Figure at 0x1a77701d0>"
       ]
      }
     ],
     "prompt_number": 291
    },
    {
     "cell_type": "code",
     "collapsed": false,
     "input": [
      "# As integer percentages for readability\n",
      "(distMean * 100).astype(np.int32)"
     ],
     "language": "python",
     "metadata": {},
     "outputs": [
      {
       "metadata": {},
       "output_type": "pyout",
       "prompt_number": 292,
       "text": [
        "array([17,  7, 20,  3, 51], dtype=int32)"
       ]
      }
     ],
     "prompt_number": 292
    },
    {
     "cell_type": "code",
     "collapsed": false,
     "input": [
      "fig, ax = plt.subplots(figsize=(10,3))\n",
      "\n",
      "im = plt.imshow(queryDistMean.reshape((1, len(distMean))), interpolation=\"none\")\n",
      "\n",
      "cb = fig.colorbar(im, ax=ax)\n",
      "ax.set_title(\"Mean of Posterior Means (Query)\")"
     ],
     "language": "python",
     "metadata": {},
     "outputs": [
      {
       "metadata": {},
       "output_type": "pyout",
       "prompt_number": 293,
       "text": [
        "<matplotlib.text.Text at 0x1a78ad190>"
       ]
      },
      {
       "metadata": {},
       "output_type": "display_data",
       "png": "[encoded data removed]",
       "text": [
        "<matplotlib.figure.Figure at 0x1a777ca10>"
       ]
      }
     ],
     "prompt_number": 293
    },
    {
     "cell_type": "code",
     "collapsed": false,
     "input": [
      "# As integer percentages for readability\n",
      "(queryDistMean * 100).astype(np.int32)"
     ],
     "language": "python",
     "metadata": {},
     "outputs": [
      {
       "metadata": {},
       "output_type": "pyout",
       "prompt_number": 294,
       "text": [
        "array([17,  7, 20,  3, 51], dtype=int32)"
       ]
      }
     ],
     "prompt_number": 294
    },
    {
     "cell_type": "markdown",
     "metadata": {},
     "source": [
      "### Covariance"
     ]
    },
    {
     "cell_type": "code",
     "collapsed": false,
     "input": [
      "fig, ax = plt.subplots(figsize=(11,9))\n",
      "\n",
      "im = plt.imshow(model[fold].sigT, interpolation=\"none\")\n",
      "\n",
      "cb = fig.colorbar(im, ax=ax)\n",
      "ax.set_title(\"Covariance Matrix\")"
     ],
     "language": "python",
     "metadata": {},
     "outputs": [
      {
       "metadata": {},
       "output_type": "pyout",
       "prompt_number": 295,
       "text": [
        "<matplotlib.text.Text at 0x1a79b1850>"
       ]
      },
      {
       "metadata": {},
       "output_type": "display_data",
       "png": "[encoded data removed]",
       "text": [
        "<matplotlib.figure.Figure at 0x1a7745b10>"
       ]
      }
     ],
     "prompt_number": 295
    },
    {
     "cell_type": "markdown",
     "metadata": {},
     "source": [
      "### Mapping Tweeters to Topics\n",
      "Here we consider the topic distributions in the _training set_ for a handful of users with distinctive content."
     ]
    },
    {
     "cell_type": "code",
     "collapsed": false,
     "input": [
      "def distAndPlot(userName, plotOffset, plotCount):\n",
      "    '''\n",
      "    Return the mean of the posterior topic assignments for each of the\n",
      "    users tweets, and a plot showing the assignments in a subset of their\n",
      "    tweets specified by the plotOffset and plotCount parameters\n",
      "    '''\n",
      "    rows = [r for r in range(W_train.shape[0]) if userLabelsTrain[r] == userName]\n",
      "    userDist = dist[rows,:]\n",
      "    userDistMean = userDist.mean(axis=0)\n",
      "    \n",
      "    start = min(plotOffset, userDist.shape[0])\n",
      "    end   = min(plotOffset + plotCount, userDist.shape[0])\n",
      "    \n",
      "    # Plot the topic dist for each tweet.\n",
      "    mn_fig, mn_ax = plt.subplots(figsize=(10,10))\n",
      "\n",
      "    im = plt.imshow(userDist[start:end,:], interpolation=\"none\")\n",
      "\n",
      "    cb = fig.colorbar(im, ax=mn_ax)\n",
      "    mn_ax.set_title(userName + \" Means Matrix (Train)\")\n",
      "    \n",
      "    # Plot the covariance across all tweets\n",
      "    \n",
      "    userCov = np.cov(userDist.T)\n",
      "\n",
      "    cv_fig, cv_ax = plt.subplots(figsize=(4,4))\n",
      "\n",
      "    im = plt.imshow(userCov, interpolation=\"none\")\n",
      "\n",
      "    cb = fig.colorbar(im, ax=cv_ax)\n",
      "    cv_ax.set_title(\"Covariance Matrix for \" + userName)\n",
      "    \n",
      "    return userDistMean"
     ],
     "language": "python",
     "metadata": {},
     "outputs": [],
     "prompt_number": 296
    },
    {
     "cell_type": "markdown",
     "metadata": {},
     "source": [
      "American Civil Liberties Union"
     ]
    },
    {
     "cell_type": "code",
     "collapsed": false,
     "input": [
      "userDist = distAndPlot('ACLU', 0, 100)\n",
      "print (\"Mean of \" + 'ACLU' + \" Posterior Means is \" + str((userDist * 100).astype(np.int32)))"
     ],
     "language": "python",
     "metadata": {},
     "outputs": [
      {
       "output_type": "stream",
       "stream": "stdout",
       "text": [
        "Mean of ACLU Posterior Means is [ 0 99  0  0  0]\n"
       ]
      },
      {
       "metadata": {},
       "output_type": "display_data",
       "png": "[encoded data removed]",
       "text": [
        "<matplotlib.figure.Figure at 0x1a79a6310>"
       ]
      },
      {
       "metadata": {},
       "output_type": "display_data",
       "png": "[encoded data removed]",
       "text": [
        "<matplotlib.figure.Figure at 0x1246b7b90>"
       ]
      }
     ],
     "prompt_number": 297
    },
    {
     "cell_type": "markdown",
     "metadata": {},
     "source": [
      "ESPN Tennis"
     ]
    },
    {
     "cell_type": "code",
     "collapsed": false,
     "input": [
      "userDist = distAndPlot('ESPNTennis', 0, 100)\n",
      "print (\"Mean of \" + 'ESPNTennis' + \" Posterior Means is \" + str((userDist * 100).astype(np.int32)))"
     ],
     "language": "python",
     "metadata": {},
     "outputs": [
      {
       "output_type": "stream",
       "stream": "stdout",
       "text": [
        "Mean of ESPNTennis Posterior Means is [ 0  0 99  0  0]\n"
       ]
      },
      {
       "metadata": {},
       "output_type": "display_data",
       "png": "[encoded data removed]",
       "text": [
        "<matplotlib.figure.Figure at 0x124ee3e50>"
       ]
      },
      {
       "metadata": {},
       "output_type": "display_data",
       "png": "[encoded data removed]",
       "text": [
        "<matplotlib.figure.Figure at 0x124efeb50>"
       ]
      }
     ],
     "prompt_number": 298
    },
    {
     "cell_type": "markdown",
     "metadata": {},
     "source": [
      "GrandPrixDiary"
     ]
    },
    {
     "cell_type": "code",
     "collapsed": false,
     "input": [
      "userDist = distAndPlot('GrandPrixDiary', 0, 100)\n",
      "print (\"Mean of \" + 'GrandPrixDiary' + \" Posterior Means is \" + str((userDist * 100).astype(np.int32)))"
     ],
     "language": "python",
     "metadata": {},
     "outputs": [
      {
       "output_type": "stream",
       "stream": "stdout",
       "text": [
        "Mean of GrandPrixDiary Posterior Means is [ 0  0  0  0 99]\n"
       ]
      },
      {
       "metadata": {},
       "output_type": "display_data",
       "png": "[encoded data removed]",
       "text": [
        "<matplotlib.figure.Figure at 0x1a781a3d0>"
       ]
      },
      {
       "metadata": {},
       "output_type": "display_data",
       "png": "[encoded data removed]",
       "text": [
        "<matplotlib.figure.Figure at 0x1246ade90>"
       ]
      }
     ],
     "prompt_number": 299
    },
    {
     "cell_type": "markdown",
     "metadata": {},
     "source": [
      "BBCGoodFoodShow"
     ]
    },
    {
     "cell_type": "code",
     "collapsed": false,
     "input": [
      "userDist = distAndPlot('BBCGoodFoodShow', 0, 100)\n",
      "print (\"Mean of \" + 'BBCGoodFoodShow' + \" Posterior Means is \" + str((userDist * 100).astype(np.int32)))"
     ],
     "language": "python",
     "metadata": {},
     "outputs": [
      {
       "output_type": "stream",
       "stream": "stdout",
       "text": [
        "Mean of BBCGoodFoodShow Posterior Means is [99  0  0  0  0]\n"
       ]
      },
      {
       "metadata": {},
       "output_type": "display_data",
       "png": "[encoded data removed]",
       "text": [
        "<matplotlib.figure.Figure at 0x1a774d7d0>"
       ]
      },
      {
       "metadata": {},
       "output_type": "display_data",
       "png": "[encoded data removed]",
       "text": [
        "<matplotlib.figure.Figure at 0x1a77fb610>"
       ]
      }
     ],
     "prompt_number": 300
    },
    {
     "cell_type": "markdown",
     "metadata": {},
     "source": [
      "BrianIsBeering"
     ]
    },
    {
     "cell_type": "code",
     "collapsed": false,
     "input": [
      "userDist = distAndPlot('BrianIsBeering', 0, 100)\n",
      "print (\"Mean of \" + 'BrianIsBeering' + \" Posterior Means is \" + str((userDist * 100).astype(np.int32)))"
     ],
     "language": "python",
     "metadata": {},
     "outputs": [
      {
       "output_type": "stream",
       "stream": "stdout",
       "text": [
        "Mean of BrianIsBeering Posterior Means is [99  0  0  0  0]\n"
       ]
      },
      {
       "metadata": {},
       "output_type": "display_data",
       "png": "[encoded data removed]",
       "text": [
        "<matplotlib.figure.Figure at 0x1a77c03d0>"
       ]
      },
      {
       "metadata": {},
       "output_type": "display_data",
       "png": "[encoded data removed]",
       "text": [
        "<matplotlib.figure.Figure at 0x1246f8bd0>"
       ]
      }
     ],
     "prompt_number": 301
    },
    {
     "cell_type": "markdown",
     "metadata": {},
     "source": [
      "### Matching Topics to Tweeters (Train Set Only)"
     ]
    },
    {
     "cell_type": "code",
     "collapsed": false,
     "input": [
      "def sum_by_group(values, groups):\n",
      "    order = np.argsort(groups)\n",
      "    groups = groups[order]\n",
      "    values = values[order,:]\n",
      "    \n",
      "    values.cumsum(out=values, axis=0)\n",
      "    \n",
      "    index = np.ones(len(groups), 'bool')\n",
      "    index[:-1] = groups[1:] != groups[:-1]\n",
      "    \n",
      "    values = values[index]\n",
      "    groups = groups[index]\n",
      "    \n",
      "    values[1:] = values[1:] - values[:-1]\n",
      "    return values, groups"
     ],
     "language": "python",
     "metadata": {},
     "outputs": [],
     "prompt_number": 302
    },
    {
     "cell_type": "code",
     "collapsed": false,
     "input": [
      "X_train = X_train.todense()\n",
      "tweetAuthorIds = np.argmax(X_train[:,0:len(users) - 1], axis=1)\n",
      "tweetAuthorIds = np.squeeze (np.asarray (tweetAuthorIds))"
     ],
     "language": "python",
     "metadata": {},
     "outputs": [],
     "prompt_number": 307
    },
    {
     "cell_type": "code",
     "collapsed": false,
     "input": [
      "distsSum, orderedAuthorIds = sum_by_group(dist, tweetAuthorIds)"
     ],
     "language": "python",
     "metadata": {},
     "outputs": [],
     "prompt_number": 308
    },
    {
     "cell_type": "code",
     "collapsed": false,
     "input": [
      "def printTopTweeters(topicId, count=10):\n",
      "    topicUserDist = distsSum[:,topicId]\n",
      "    topUsers = topicUserDist.argsort()[-count:][::-1]\n",
      "    print(\"\\n\".join(users[orderedAuthorIds[uid]] for uid in topUsers))\n",
      "    \n",
      "for topic in range(model[fold].K):\n",
      "    print (\"\\nTopic %3d\\n==========================\" % topic)\n",
      "    printTopTweeters(topic, count=20)"
     ],
     "language": "python",
     "metadata": {},
     "outputs": [
      {
       "output_type": "stream",
       "stream": "stdout",
       "text": [
        "\n",
        "Topic   0\n",
        "==========================\n",
        "ASE\n",
        "Food52\n",
        "AndrewKirell\n",
        "Foodandthefab\n",
        "Finelychopped\n",
        "FoodTravelCo\n",
        "Jalopnik\n",
        "FelicitySpector\n",
        "GoSeeWrite\n",
        "Beergenie\n",
        "Beer_Disciples\n",
        "Bix_Barton_SW6\n",
        "Chocoralie\n",
        "AHMalcolm\n",
        "EatingAsia\n",
        "AdamSerwer\n",
        "BertinetKitchen\n",
        "DailyBeerNews\n",
        "Eater\n",
        "CaptGreybeard\n",
        "\n",
        "Topic   1\n",
        "==========================\n",
        "DirtyWars\n",
        "LewisFranck\n",
        "DjFlowe\n",
        "JessicaValenti\n",
        "chartier\n",
        "RollingStones\n",
        "EvelynRusli\n",
        "AliceLinahan\n",
        "GP3_Official\n",
        "NARAL\n",
        "GARSIDEK\n",
        "AbiePB\n",
        "Beyerstein\n",
        "ACLU\n",
        "99forever\n",
        "ForbesWoman\n",
        "LatinoUSA\n",
        "RubenBolling\n",
        "3_News\n",
        "DrNancyNBCNEWS\n",
        "\n",
        "Topic   2\n",
        "==========================\n",
        "HuffPostPol\n",
        "TheBoiledEgg\n",
        "Benzinga\n",
        "BenRothenberg\n",
        "RD_Tennistalk\n",
        "GBtennis\n",
        "ChrisSkelton87\n",
        "NYTSports\n",
        "SI_BTBaseline\n",
        "ByJoeFleming\n",
        "SavannahsTennis\n",
        "ESPNTennis\n",
        "FeinsandNYDN\n",
        "baseball_ref\n",
        "247WallSt\n",
        "Ratazana\n",
        "AlbertoNardelli\n",
        "AaronBlakeWP\n",
        "Adamdbain\n",
        "AcrossTheCurve\n",
        "\n",
        "Topic   3\n",
        "==========================\n",
        "BreakPointBR\n",
        "OfficialMinis\n",
        "EliGP\n",
        "Claudia05SV\n",
        "Rossana_Capo\n",
        "MallerMarcelo\n",
        "GP2_Official\n",
        "LeTenisse\n",
        "Pep_Guti\n",
        "AdvocatesTweets\n",
        "MendezVega\n",
        "KofiAnnan\n",
        "IpasOrg\n",
        "MauriceHamilton\n",
        "RoadtoRG\n",
        "APStylebook\n",
        "FakeTomita\n",
        "GOPChoice\n",
        "Aalliende\n",
        "FriendsofUNFPA\n",
        "\n",
        "Topic   4\n",
        "==========================\n",
        "FGW\n",
        "JayJarrahi\n",
        "Nic_Leigh\n",
        "MungoNGus\n",
        "Gary_Bainbridge\n",
        "Ataraxis00\n",
        "FortyDeuceTwits\n",
        "A_Gallivant\n",
        "StephintheUS\n",
        "4AllSurfaces\n",
        "FoodUrchin\n",
        "JLR78\n",
        "CityJohn\n",
        "MindTheRacket\n",
        "Jonirja\n",
        "MaxGraham\n",
        "DoktorG\n",
        "IamLewis4fake\n",
        "TheGrandSlams\n",
        "FilmCritHULK\n"
       ]
      }
     ],
     "prompt_number": 309
    },
    {
     "cell_type": "markdown",
     "metadata": {},
     "source": [
      "##\u00a0Feature Covariance Structure"
     ]
    },
    {
     "cell_type": "markdown",
     "metadata": {},
     "source": [
      "### Observable Feature Covariance"
     ]
    },
    {
     "cell_type": "code",
     "collapsed": false,
     "input": [
      "fig, ax = plt.subplots(figsize=(11,9))\n",
      "\n",
      "im = plt.imshow(model[fold].R_A, interpolation=\"none\")\n",
      "\n",
      "cb = fig.colorbar(im, ax=ax)\n",
      "ax.set_title(\"Observed Feature Covariance\")"
     ],
     "language": "python",
     "metadata": {},
     "outputs": [
      {
       "metadata": {},
       "output_type": "pyout",
       "prompt_number": 310,
       "text": [
        "<matplotlib.text.Text at 0x124e59750>"
       ]
      },
      {
       "metadata": {},
       "output_type": "display_data",
       "png": "[encoded data removed]",
       "text": [
        "<matplotlib.figure.Figure at 0x124e9d590>"
       ]
      }
     ],
     "prompt_number": 310
    },
    {
     "cell_type": "markdown",
     "metadata": {},
     "source": [
      "###\u00a0Latent Feature Covariance"
     ]
    },
    {
     "cell_type": "code",
     "collapsed": false,
     "input": [
      "fig, ax = plt.subplots(figsize=(11,9))\n",
      "\n",
      "im = plt.imshow(model[fold].R_Y, interpolation=\"none\")\n",
      "\n",
      "cb = fig.colorbar(im, ax=ax)\n",
      "ax.set_title(\"Latent Feature Covariance\")"
     ],
     "language": "python",
     "metadata": {},
     "outputs": [
      {
       "metadata": {},
       "output_type": "pyout",
       "prompt_number": 311,
       "text": [
        "<matplotlib.text.Text at 0x124f2e7d0>"
       ]
      },
      {
       "metadata": {},
       "output_type": "display_data",
       "png": "[encoded data removed]",
       "text": [
        "<matplotlib.figure.Figure at 0x124f557d0>"
       ]
      }
     ],
     "prompt_number": 311
    },
    {
     "cell_type": "markdown",
     "metadata": {},
     "source": [
      "### Mapping from the Latent Space to the Observed Space"
     ]
    },
    {
     "cell_type": "markdown",
     "metadata": {},
     "source": [
      "The features that are available are"
     ]
    },
    {
     "cell_type": "code",
     "collapsed": false,
     "input": [
      "feats"
     ],
     "language": "python",
     "metadata": {},
     "outputs": [
      {
       "metadata": {},
       "output_type": "pyout",
       "prompt_number": 312,
       "text": [
        "{'author': 0, 'month_of_year': 420, 'week_of_year': 398}"
       ]
      }
     ],
     "prompt_number": 312
    },
    {
     "cell_type": "markdown",
     "metadata": {},
     "source": [
      "Next we look at how features are weighted in the $$FxP$$ projection matrix $$V$$. We print out the labels of those \"weights\" that are 1.64 times the standard deviation above or below the mean. Recall our weights are several author IDs, 5 months, and 22 weeks."
     ]
    },
    {
     "cell_type": "code",
     "collapsed": false,
     "input": [
      "numWeeks = feats['month_of_year'] - feats['week_of_year']\n",
      "numMonths = X.shape[1] - feats['month_of_year']\n",
      "numUserSlots = feats['author']  # not all were take as some users had no tweets or no valid tweets"
     ],
     "language": "python",
     "metadata": {},
     "outputs": [],
     "prompt_number": 313
    },
    {
     "cell_type": "code",
     "collapsed": false,
     "input": [
      "feature_labels = [\"\"] * X.shape[1]\n",
      "feature_labels[0:len(users)] = users\n",
      "\n",
      "for w in range(numWeeks):\n",
      "    feature_labels[feats['week_of_year'] + w] = \"Week \" + str(w)\n",
      "    \n",
      "for m in range(numMonths):\n",
      "    feature_labels[feats['month_of_year'] + m] = \"Month \" + str(m)"
     ],
     "language": "python",
     "metadata": {},
     "outputs": [],
     "prompt_number": 314
    },
    {
     "cell_type": "code",
     "collapsed": false,
     "input": [
      "mn = model[fold].V.mean()\n",
      "sd = model[fold].V.std()\n",
      "for p in range(model[fold].P):\n",
      "    vp = model[fold].V[p,:]\n",
      "    #mn = vp.mean()\n",
      "    #sd = vp.std()\n",
      "    \n",
      "    upr = mn + 1.64 * sd\n",
      "    lwr = mn - 1.64 * sd\n",
      "    \n",
      "    print (\"\\n\\nLatent Space \" + str(p))\n",
      "    print (\"\\n\".join(\"+%-15s %5.3f\" % (feature_labels[f], vp[f]) for f in np.where(vp > upr)[0] if len(feature_labels[f]) > 0))\n",
      "    print (\"\\n\".join(\"-%-15s %5.3f\" % (feature_labels[f], vp[f]) for f in np.where(vp < lwr)[0] if len(feature_labels[f]) > 0))"
     ],
     "language": "python",
     "metadata": {},
     "outputs": [
      {
       "output_type": "stream",
       "stream": "stdout",
       "text": [
        "\n",
        "\n",
        "Latent Space 0\n",
        "\n",
        "\n",
        "\n",
        "\n",
        "Latent Space 1\n",
        "+ACLU            23.146\n",
        "+AnnRichardsPlay 22.582\n",
        "+Beyerstein      22.371\n",
        "+CecileRichards  22.666\n",
        "+ChrisCQuinn     23.170\n",
        "+ChrisCoons      21.712\n",
        "+ChrisMurphyCT   23.220\n",
        "+ConnieSchultz   22.491\n",
        "+DrNancyNBCNEWS  24.043\n",
        "+ErinMcPike      22.639\n",
        "+ForbesWoman     20.942\n",
        "+Guttmacher      23.312\n",
        "+HealthCareGov   22.691\n",
        "+JessicaValenti  22.408\n",
        "+LatinoUSA       22.178\n",
        "+Latinos4PP      22.513\n",
        "+MaryKayHenry    22.688\n",
        "+MoreMag         22.068\n",
        "+NARAL           23.029\n",
        "+AlexAkesson     21.668\n",
        "+AmazonKDP       22.365\n",
        "+EvelynRusli     21.927\n",
        "+DirtyWars       23.051\n",
        "+RollingStones   22.419\n",
        "+Bierschenke     22.511\n",
        "+3_News          23.272\n",
        "+AbiePB          22.495\n",
        "+ABeckr          21.319\n",
        "+AlAKleine       21.483\n",
        "+American_Bridge 22.950\n",
        "+AnneBell        22.438\n",
        "+ArunRath        22.684\n",
        "+4SaferInternet  22.246\n",
        "+AliceLinahan    23.018\n",
        "+99forever       22.253\n",
        "+GARSIDEK        20.842\n",
        "+GP3_Official    22.483\n",
        "+LewisFranck     22.315\n",
        "+DjFlowe         21.875\n",
        "+RubenBolling    22.103\n",
        "+aza             19.761\n",
        "+chartier        21.860\n",
        "\n",
        "\n",
        "\n",
        "Latent Space 2\n",
        "+HollandTaylor   12.760\n",
        "+FGW             13.178\n",
        "+Bosleypatch     12.732\n",
        "+FleurDeGuerre   12.942\n",
        "+JayJarrahi      12.998\n",
        "+askvirginia     12.996\n",
        "-CraryAP         -14.241\n",
        "-DemGovs         -13.080\n",
        "-GovMarkDayton   -13.481\n",
        "-HuffPostPol     -13.174\n",
        "-247WallSt       -12.927\n",
        "-5_min_macro     -13.409\n",
        "-ABWashBureau    -12.564\n",
        "-A_F             -12.230\n",
        "-AcrossTheCurve  -12.231\n",
        "-AndyHarless     -13.607\n",
        "-AndyLangenkamp  -14.040\n",
        "-AnnalynKurtz    -13.367\n",
        "-AristidesHatzis -13.361\n",
        "-BChappatta      -13.739\n",
        "-BDAmerica       -12.886\n",
        "-BIConline       -13.193\n",
        "-Bank_of_Japan_e -12.978\n",
        "-Benzinga        -13.422\n",
        "-BergenCapital   -13.341\n",
        "-BigJournalism   -13.022\n",
        "-BlackRaven999   -12.641\n",
        "-CorkEveningEcho -13.342\n",
        "-AlbertoNardelli -13.454\n",
        "-AlexSchriver    -12.861\n",
        "-AmbShapiro      -13.063\n",
        "-BenRothenberg   -13.960\n",
        "-AAF             -13.423\n",
        "-AFPhq           -13.495\n",
        "-AaronBlakeWP    -13.182\n",
        "-AlexConant      -13.512\n",
        "-5livetennis     -13.394\n",
        "-Adamdbain       -13.211\n",
        "-ByJoeFleming    -12.473\n",
        "-ChrisSkelton87  -13.031\n",
        "-ESPNTennis      -13.566\n",
        "-GBtennis        -14.218\n",
        "-Kamakshi_Tandon -13.008\n",
        "-NYTSports       -12.984\n",
        "-NailaJeanMeyers -12.832\n",
        "-RD_Tennistalk   -12.607\n",
        "-Ratazana        -12.666\n",
        "-ReemAbulleil    -13.758\n",
        "-SI_BTBaseline   -13.952\n",
        "-SavannahsTennis -12.526\n",
        "-Tennis_Belgium  -13.100\n",
        "-Tennisfan24     -12.471\n",
        "-TheBigLead      -13.356\n",
        "-FeinsandNYDN    -13.292\n",
        "-baseball_ref    -13.655\n",
        "\n",
        "\n",
        "Latent Space 3\n",
        "+DailyBeerNews   12.804\n",
        "+DadBoner        13.067\n",
        "-ACLU            -18.654\n",
        "-AnnRichardsPlay -18.123\n",
        "-Beyerstein      -17.985\n",
        "-CecileRichards  -18.270\n",
        "-ChrisCQuinn     -18.561\n",
        "-ChrisCoons      -17.191\n",
        "-ChrisMurphyCT   -18.561\n",
        "-ConnieSchultz   -17.999\n",
        "-DrNancyNBCNEWS  -19.304\n",
        "-ErinMcPike      -18.198\n",
        "-ForbesWoman     -16.847\n",
        "-Guttmacher      -18.827\n",
        "-HealthCareGov   -18.399\n",
        "-JessicaValenti  -18.169\n",
        "-LatinoUSA       -17.695\n",
        "-Latinos4PP      -18.251\n",
        "-MaryKayHenry    -18.435\n",
        "-MoreMag         -17.788\n",
        "-NARAL           -18.607\n",
        "-AlexAkesson     -17.523\n",
        "-AmazonKDP       -17.576\n",
        "-EvelynRusli     -17.790\n",
        "-DirtyWars       -18.530\n",
        "-RollingStones   -18.034\n",
        "-Bierschenke     -17.884\n",
        "-3_News          -18.707\n",
        "-AbiePB          -17.773\n",
        "-ABeckr          -17.168\n",
        "-AlAKleine       -17.492\n",
        "-American_Bridge -18.495\n",
        "-AnneBell        -17.780\n",
        "-ArunRath        -18.259\n",
        "-4SaferInternet  -17.982\n",
        "-AliceLinahan    -18.570\n",
        "-99forever       -18.105\n",
        "-GARSIDEK        -17.092\n",
        "-GP3_Official    -18.169\n",
        "-LewisFranck     -17.917\n",
        "-DjFlowe         -17.799\n",
        "-RubenBolling    -18.031\n",
        "-aza             -15.471\n",
        "-chartier        -17.618\n",
        "\n",
        "\n",
        "Latent Space 4\n",
        "+GBtennis        12.936\n",
        "\n",
        "\n",
        "\n",
        "Latent Space 5\n",
        "\n",
        "\n",
        "\n",
        "\n",
        "Latent Space 6\n",
        "+AdvocatesTweets 24.312\n",
        "+BabatundeUNFPA  23.349\n",
        "+FriendsofUNFPA  24.268\n",
        "+GOPChoice       24.244\n",
        "+IpasOrg         24.528\n",
        "+KofiAnnan       24.863\n",
        "+APStylebook     23.774\n",
        "+Aalliende       24.955\n",
        "+Claudia05SV     23.617\n",
        "+EJVISO          23.731\n",
        "+EliGP           22.193\n",
        "+FakeTomita      22.429\n",
        "+GP2_Official    21.231\n",
        "+MauriceHamilton 24.556\n",
        "+OfficialMinis   25.304\n",
        "+BreakPointBR    25.419\n",
        "+LeTenisse       25.751\n",
        "+MallerMarcelo   25.491\n",
        "+MendezVega      26.284\n",
        "+Pep_Guti        25.984\n",
        "+RoadtoRG        24.631\n",
        "+Rossana_Capo    23.826\n",
        "\n",
        "\n",
        "\n",
        "Latent Space 7\n",
        "+CLPPtweets      14.293\n",
        "+ElizabethBanks  13.035\n",
        "+MHarrisPerry    14.307\n",
        "+benschott       13.363\n",
        "+5280Magazine    14.855\n",
        "+3RiversBrewery  14.024\n",
        "+4pawsbrewing    13.846\n",
        "+AGonzalezAquino 13.630\n",
        "+AbbeyStMartin   13.660\n",
        "+AlmanacBeer     13.943\n",
        "+AnarchyBrewCo   13.949\n",
        "+AnchorBrewing   14.470\n",
        "+ArgusBrewery    14.321\n",
        "+ArranBrewery    13.940\n",
        "+AtlasBrewing    14.419\n",
        "+BHB_brews       13.600\n",
        "+BeerAdvocate    14.547\n",
        "+BeerAndSoulBlog 14.378\n",
        "+BeerBods        13.677\n",
        "+BeerUnion       13.934\n",
        "+Beer_Disciples  14.757\n",
        "+Beer_Goddess    13.722\n",
        "+BeersIveKnown   13.663\n",
        "+Beertographer   13.190\n",
        "+BlueBellHalkyn  14.753\n",
        "+BluffersGuide   14.775\n",
        "+BreckBrew       14.426\n",
        "+BrewEngland     13.768\n",
        "+Brewery85       14.359\n",
        "+BrianIsBeering  13.098\n",
        "+BullCityBurger  15.108\n",
        "+ButcombeBrewery 14.970\n",
        "+CraftingANation 13.982\n",
        "+CromartyBrewing 12.870\n",
        "+DFDband         13.125\n",
        "+DailyBeerNews   15.573\n",
        "+Dryhopchicago   13.249\n",
        "+DueSouthBrewing 14.695\n",
        "+DukesJoint      14.531\n",
        "+EHobbz          13.537\n",
        "+EasyTigerATX    14.303\n",
        "+FallCreekWines  14.574\n",
        "+FiremansBrew    14.502\n",
        "+FirestoneWalker 13.689\n",
        "+ForumBooks      13.721\n",
        "+FullCircleBrews 15.087\n",
        "+GarrisonBrewing 14.812\n",
        "+Goats_Udder     13.867\n",
        "+Gordon_Biersch  14.421\n",
        "+Amanda_Statham  14.643\n",
        "+Arganic_UK      14.158\n",
        "+Ayngelina       14.191\n",
        "+BBCGoodFoodShow 14.429\n",
        "+Beergenie       13.298\n",
        "+BertinetKitchen 13.650\n",
        "+BristolBites    12.937\n",
        "+BritAsparagus   13.774\n",
        "+BriteUK         14.777\n",
        "+BurtsChips      13.793\n",
        "+CaptGreybeard   14.370\n",
        "+CartmelSticky   14.468\n",
        "+CharlesYap      13.831\n",
        "+Chocoralie      13.995\n",
        "+CraneTV         14.572\n",
        "+CrumbsMag       14.638\n",
        "+DFergPR         13.210\n",
        "+EastVillageLDN  14.544\n",
        "+Eater           14.371\n",
        "+EatingAsia      14.404\n",
        "+FelicitySpector 13.985\n",
        "+Finelychopped   13.372\n",
        "+Food52          14.154\n",
        "+FoodTravelCo    13.600\n",
        "+Foodandthefab   14.364\n",
        "+GinGarden       14.255\n",
        "+GingerPigLtd    14.104\n",
        "+GoSeeWrite      14.097\n",
        "+GuildFoodWriter 14.143\n",
        "+49ers           14.105\n",
        "+ASE             14.685\n",
        "+AdamSerwer      13.802\n",
        "+AlanFisher      14.719\n",
        "+AlyWeisman      14.055\n",
        "+AmberLyon       13.958\n",
        "+Amber__McDonald 14.315\n",
        "+AndrewKirell    14.030\n",
        "+AFinnie         13.625\n",
        "+AHMalcolm       14.988\n",
        "+AaronMcCready   13.991\n",
        "+AlanJSanders    14.199\n",
        "+AliBrown        13.227\n",
        "+AllenWest       14.696\n",
        "+AmericasRight   13.632\n",
        "+AndrewCMcCarthy 13.818\n",
        "+Bix_Barton_SW6  14.075\n",
        "+Jalopnik        13.801\n",
        "+DadBoner        15.048\n",
        "+DavidWondrich   13.565\n",
        "+JasonNark       13.122\n",
        "+JimGaffigan     13.716\n",
        "-AskDrRuth       -15.363\n",
        "-HollandTaylor   -15.898\n",
        "-HadleyFreeman   -15.945\n",
        "-Blackhorse      -15.364\n",
        "-Tim_Stevens     -15.346\n",
        "-gte             -16.006\n",
        "-FilmCritHULK    -16.171\n",
        "-Gary_Bainbridge -15.187\n",
        "-BubOhioBeer     -15.420\n",
        "-ConistonBrewCo  -14.141\n",
        "-FGW             -17.029\n",
        "-AmyDavies       -15.851\n",
        "-Bea_John        -14.492\n",
        "-Bosleypatch     -15.657\n",
        "-CityJohn        -14.961\n",
        "-CriticalCouple  -14.551\n",
        "-DineHard        -15.360\n",
        "-DoktorG         -14.809\n",
        "-DominiqueAnsel  -14.952\n",
        "-FleurDeGuerre   -16.058\n",
        "-FoodUrchin      -15.422\n",
        "-GizziErskine    -14.603\n",
        "-Henriettagraham -13.932\n",
        "-Alancumming     -15.174\n",
        "-AlexKoppelman   -15.228\n",
        "-AshleyJudd      -15.699\n",
        "-CeceliaJP       -13.470\n",
        "-FortyDeuceTwits -16.175\n",
        "-Aarongorn       -15.647\n",
        "-AmandaCookWSB   -15.325\n",
        "-Dinalli         -14.693\n",
        "-Drivin4Pleasure -15.165\n",
        "-EmBuxton        -14.750\n",
        "-FakeDelRosario  -14.265\n",
        "-FakeFernando    -14.990\n",
        "-FakeMedicalCar  -14.682\n",
        "-GrandPrixDiary  -15.916\n",
        "-IamLewis4fake   -15.028\n",
        "-JacquesDebris   -13.947\n",
        "-Just_AP         -14.892\n",
        "-LeighOGorman    -15.164\n",
        "-LordHumphreys   -14.207\n",
        "-MaxGraham       -14.999\n",
        "-Mikeconway26    -14.246\n",
        "-PippaMann       -15.850\n",
        "-RacingLight     -15.519\n",
        "-RyanEversley    -15.369\n",
        "-4AllSurfaces    -15.420\n",
        "-A_Gallivant     -15.750\n",
        "-Ataraxis00      -16.226\n",
        "-BadToss         -15.546\n",
        "-EleVenbyVenus   -15.220\n",
        "-FitLen          -15.716\n",
        "-G2H_95          -16.874\n",
        "-JLR78           -14.991\n",
        "-JamesLaRosa     -15.825\n",
        "-JayJarrahi      -17.204\n",
        "-Jonirja         -15.779\n",
        "-MindTheRacket   -16.692\n",
        "-MungoNGus       -15.845\n",
        "-Nic_Leigh       -16.177\n",
        "-RomiCvitkovic   -16.759\n",
        "-StephintheUS    -15.989\n",
        "-TennisCoconut   -16.002\n",
        "-TheGrandSlams   -15.840\n",
        "-TheShiftyShadow -16.269\n",
        "-AlisonAgosti    -14.975\n",
        "-BenRiceM        -15.149\n",
        "-BodyofBreen     -15.588\n",
        "-Clarko          -15.467\n",
        "-EamonLeonard    -14.288\n",
        "-Heilemann       -15.050\n",
        "-KeithOlbermann  -15.661\n",
        "-MacSparky       -14.591\n",
        "-MikeWho         -14.251\n",
        "-PolarBearFarm   -14.514\n",
        "-SweatingCommas  -15.390\n",
        "-TheProdigalFool -15.113\n",
        "-andybudd        -15.548\n",
        "-antichrista     -15.370\n",
        "-askvirginia     -16.412\n",
        "-billba          -13.905\n",
        "-caseyliss       -15.197\n",
        "-cbarrett        -14.869\n",
        "-cjse            -14.127\n",
        "-comex           -15.365\n",
        "-ctp             -15.198\n",
        "-danielpunkass   -15.515\n",
        "-dansdata        -14.922\n",
        "-davedelong      -14.738\n",
        "-dermdaly        -14.960\n",
        "-dlpasco         -14.993\n",
        "-dozba           -14.427\n",
        "-drbarnard       -16.023\n",
        "-drdrang         -15.037\n",
        "-dwiskus         -13.854\n",
        "-fchimero        -14.458\n",
        "-gregminton      -14.753\n",
        "-halfliterate    -14.833\n",
        "\n",
        "\n",
        "Latent Space 8\n",
        "+ACLU            15.209\n",
        "+AnnRichardsPlay 15.468\n",
        "+Beyerstein      15.305\n",
        "+CecileRichards  15.289\n",
        "+ChrisCQuinn     15.226\n",
        "+ChrisCoons      13.899\n",
        "+ChrisMurphyCT   15.168\n",
        "+ConnieSchultz   15.024\n",
        "+DrNancyNBCNEWS  16.191\n",
        "+ErinMcPike      15.199\n",
        "+ForbesWoman     13.816\n",
        "+Guttmacher      15.558\n",
        "+HealthCareGov   15.367\n",
        "+JessicaValenti  15.660\n",
        "+LatinoUSA       14.709\n",
        "+Latinos4PP      15.239\n",
        "+MaryKayHenry    15.356\n",
        "+MoreMag         15.253\n",
        "+NARAL           15.396\n",
        "+AlexAkesson     14.188\n",
        "+AmazonKDP       14.913\n",
        "+EvelynRusli     15.365\n",
        "+DirtyWars       15.732\n",
        "+RollingStones   15.226\n",
        "+Bierschenke     15.393\n",
        "+3_News          15.909\n",
        "+AbiePB          15.519\n",
        "+ABeckr          15.275\n",
        "+AlAKleine       14.668\n",
        "+American_Bridge 14.935\n",
        "+AnneBell        14.980\n",
        "+ArunRath        15.431\n",
        "+4SaferInternet  14.104\n",
        "+AliceLinahan    15.440\n",
        "+99forever       16.047\n",
        "+GARSIDEK        14.323\n",
        "+GP3_Official    15.499\n",
        "+LewisFranck     15.297\n",
        "+DjFlowe         14.852\n",
        "+RubenBolling    15.490\n",
        "+aza             13.752\n",
        "+chartier        15.623\n",
        "-CraryAP         -14.706\n",
        "-DemGovs         -13.410\n",
        "-GovMarkDayton   -13.921\n",
        "-HuffPostPol     -13.424\n",
        "-247WallSt       -13.331\n",
        "-5_min_macro     -14.277\n",
        "-ABWashBureau    -13.058\n",
        "-A_F             -12.884\n",
        "-AcrossTheCurve  -12.853\n",
        "-AndyHarless     -14.471\n",
        "-AndyLangenkamp  -14.905\n",
        "-AnnalynKurtz    -13.965\n",
        "-AristidesHatzis -14.036\n",
        "-BChappatta      -14.492\n",
        "-BDAmerica       -13.100\n",
        "-BIConline       -13.309\n",
        "-Bank_of_Japan_e -12.910\n",
        "-Benzinga        -13.964\n",
        "-BergenCapital   -14.031\n",
        "-BigJournalism   -13.230\n",
        "-BlackRaven999   -13.865\n",
        "-CorkEveningEcho -13.842\n",
        "-AlbertoNardelli -13.990\n",
        "-AlexSchriver    -13.265\n",
        "-AmbShapiro      -13.789\n",
        "-BenRothenberg   -14.830\n",
        "-AAF             -14.110\n",
        "-AFPhq           -13.567\n",
        "-AaronBlakeWP    -13.652\n",
        "-AlexConant      -14.049\n",
        "-5livetennis     -13.927\n",
        "-Adamdbain       -13.403\n",
        "-ByJoeFleming    -12.777\n",
        "-ChrisSkelton87  -13.504\n",
        "-ESPNTennis      -14.197\n",
        "-GBtennis        -15.199\n",
        "-Kamakshi_Tandon -13.648\n",
        "-NYTSports       -13.078\n",
        "-NailaJeanMeyers -13.528\n",
        "-RD_Tennistalk   -12.753\n",
        "-Ratazana        -13.064\n",
        "-ReemAbulleil    -14.242\n",
        "-SI_BTBaseline   -14.632\n",
        "-SavannahsTennis -12.949\n",
        "-Tennis_Belgium  -13.715\n",
        "-Tennisfan24     -12.911\n",
        "-TheBigLead      -13.968\n",
        "-TheBoiledEgg    -12.418\n",
        "-FeinsandNYDN    -13.954\n",
        "-baseball_ref    -14.101\n",
        "\n",
        "\n",
        "Latent Space 9\n",
        "\n",
        "-ACLU            -14.903\n",
        "-AnnRichardsPlay -14.856\n",
        "-Beyerstein      -14.649\n",
        "-CecileRichards  -14.870\n",
        "-ChrisCQuinn     -14.871\n",
        "-ChrisCoons      -13.597\n",
        "-ChrisMurphyCT   -14.743\n",
        "-ConnieSchultz   -14.479\n",
        "-DrNancyNBCNEWS  -15.779\n",
        "-ErinMcPike      -14.485\n",
        "-ForbesWoman     -13.525\n",
        "-Guttmacher      -15.343\n",
        "-HealthCareGov   -14.912\n",
        "-JessicaValenti  -14.923\n",
        "-LatinoUSA       -14.454\n",
        "-Latinos4PP      -15.074\n",
        "-MaryKayHenry    -14.933\n",
        "-MoreMag         -14.664\n",
        "-NARAL           -15.028\n",
        "-AlexAkesson     -13.931\n",
        "-AmazonKDP       -14.491\n",
        "-EvelynRusli     -14.560\n",
        "-DirtyWars       -15.227\n",
        "-RollingStones   -14.791\n",
        "-Bierschenke     -14.810\n",
        "-3_News          -15.309\n",
        "-AbiePB          -14.540\n",
        "-ABeckr          -14.007\n",
        "-AlAKleine       -13.770\n",
        "-American_Bridge -14.577\n",
        "-AnneBell        -14.478\n",
        "-ArunRath        -14.861\n",
        "-4SaferInternet  -13.865\n",
        "-AliceLinahan    -15.027\n",
        "-99forever       -14.892\n",
        "-GARSIDEK        -13.312\n",
        "-GP3_Official    -15.110\n",
        "-LewisFranck     -14.610\n",
        "-DjFlowe         -14.307\n",
        "-RubenBolling    -14.671\n",
        "-aza             -12.891\n",
        "-chartier        -14.687\n"
       ]
      }
     ],
     "prompt_number": 315
    },
    {
     "cell_type": "code",
     "collapsed": false,
     "input": [],
     "language": "python",
     "metadata": {},
     "outputs": [],
     "prompt_number": 315
    },
    {
     "cell_type": "code",
     "collapsed": false,
     "input": [],
     "language": "python",
     "metadata": {},
     "outputs": []
    }
   ],
   "metadata": {}
  }
 ]
}