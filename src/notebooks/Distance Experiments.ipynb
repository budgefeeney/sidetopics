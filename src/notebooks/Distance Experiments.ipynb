{
 "metadata": {
  "name": "",
  "signature": "sha256:29095f2be156fbf5408232e2789c9bd6b7bc04da4a1eece8afcbcbf21744e269"
 },
 "nbformat": 3,
 "nbformat_minor": 0,
 "worksheets": [
  {
   "cells": [
    {
     "cell_type": "heading",
     "level": 1,
     "metadata": {},
     "source": [
      "Prelude"
     ]
    },
    {
     "cell_type": "heading",
     "level": 2,
     "metadata": {},
     "source": [
      "Imports"
     ]
    },
    {
     "cell_type": "code",
     "collapsed": false,
     "input": [
      "import numpy as np\n",
      "import numpy.random as rd\n",
      "import scipy as sp\n",
      "import scipy.linalg as la\n",
      "import scipy.sparse as ssp\n",
      "import scipy.sparse.linalg as sla\n",
      "import pickle as pkl\n",
      "import matplotlib.pyplot as plt\n",
      "import os\n",
      "%matplotlib inline\n",
      "\n",
      "import pickle as pkl\n",
      "import bottleneck\n"
     ],
     "language": "python",
     "metadata": {},
     "outputs": [],
     "prompt_number": 1
    },
    {
     "cell_type": "heading",
     "level": 1,
     "metadata": {},
     "source": [
      "Experiments"
     ]
    },
    {
     "cell_type": "heading",
     "level": 2,
     "metadata": {},
     "source": [
      "Norms and Missing Data"
     ]
    },
    {
     "cell_type": "code",
     "collapsed": false,
     "input": [
      "OneThird = 1.0/3.0\n",
      "T = 3\n",
      "\n",
      "c = np.array([OneThird, OneThird, OneThird])\n",
      "x = np.asarray([3, 0, 0])\n",
      "y = np.asarray([1, 1, 1])"
     ],
     "language": "python",
     "metadata": {},
     "outputs": [],
     "prompt_number": 23
    },
    {
     "cell_type": "code",
     "collapsed": false,
     "input": [
      "md1 = la.norm(x - c, 1)\n",
      "md2 = la.norm(y - c, 1)\n",
      "\n",
      "(md1, md2, md1/md2)"
     ],
     "language": "python",
     "metadata": {},
     "outputs": [
      {
       "metadata": {},
       "output_type": "pyout",
       "prompt_number": 30,
       "text": [
        "(3.3333333333333335, 2.0, 1.6666666666666667)"
       ]
      }
     ],
     "prompt_number": 30
    },
    {
     "cell_type": "code",
     "collapsed": false,
     "input": [
      "ed1 = la.norm(x - c, 2)\n",
      "ed2 = la.norm(y - c, 2)\n",
      "\n",
      "(ed1, ed2, ed1/ed2)"
     ],
     "language": "python",
     "metadata": {},
     "outputs": [
      {
       "metadata": {},
       "output_type": "pyout",
       "prompt_number": 31,
       "text": [
        "(2.70801280154532, 1.1547005383792517, 2.3452078799117144)"
       ]
      }
     ],
     "prompt_number": 31
    },
    {
     "cell_type": "code",
     "collapsed": false,
     "input": [
      "cd1 = c.T.dot(x) / (la.norm(c, 2) * la.norm(x, 2))\n",
      "cd2 = c.T.dot(y) / (la.norm(c, 2) * la.norm(y, 2))\n",
      "\n",
      "(cd1, cd2, cd1/cd2)"
     ],
     "language": "python",
     "metadata": {},
     "outputs": [
      {
       "metadata": {},
       "output_type": "pyout",
       "prompt_number": 32,
       "text": [
        "(0.57735026918962584, 1.0000000000000002, 0.57735026918962573)"
       ]
      }
     ],
     "prompt_number": 32
    },
    {
     "cell_type": "code",
     "collapsed": false,
     "input": [
      "from math import acos\n",
      "\n",
      "print (\"%15s %7s %7s\" % (\"Distance\", \"{3,0,0}\", \"{1,1,1}\"))\n",
      "print (\"%15s %7.3f %7.3f\" % (\"Manhattan\", md1, md2))\n",
      "print (\"%15s %7.3f %7.3f\" % (\"Euclidean\", ed1, ed2))\n",
      "print (\"%15s %7.3f %7.3f\" % (\"Cosine\", acos(cd1), acos(1)))"
     ],
     "language": "python",
     "metadata": {},
     "outputs": [
      {
       "output_type": "stream",
       "stream": "stdout",
       "text": [
        "       Distance {3,0,0} {1,1,1}\n",
        "      Manhattan   3.333   2.000\n",
        "      Euclidean   2.708   1.155\n",
        "         Cosine   0.955   0.000\n"
       ]
      }
     ],
     "prompt_number": 37
    },
    {
     "cell_type": "code",
     "collapsed": false,
     "input": [
      "from math import degrees\n",
      "\n",
      "degrees(acos(cd1))"
     ],
     "language": "python",
     "metadata": {},
     "outputs": [
      {
       "metadata": {},
       "output_type": "pyout",
       "prompt_number": 38,
       "text": [
        "54.735610317245346"
       ]
      }
     ],
     "prompt_number": 38
    },
    {
     "cell_type": "code",
     "collapsed": false,
     "input": [],
     "language": "python",
     "metadata": {},
     "outputs": []
    }
   ],
   "metadata": {}
  }
 ]
}