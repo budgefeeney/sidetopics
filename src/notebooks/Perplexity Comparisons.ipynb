{
 "metadata": {
  "name": ""
 },
 "nbformat": 3,
 "nbformat_minor": 0,
 "worksheets": [
  {
   "cells": [
    {
     "cell_type": "markdown",
     "metadata": {},
     "source": [
      "# Abstract\n",
      "This document looks at how different choices of model and different choices of parameterisation can affect the perplexity of held-out data. The dataset is described in the DatasetTests PDF: it consists of approximately 580,000 tweets from over 350 users using a vocabulary of 82,000 words to come up with a corpus of roughly 5.5m words total.\n",
      "\n",
      "The setup is each configuration of each algorithm was run through a 5-fold cross-validation, with perplexity on the held out data as the metric. How perplexity was calculated depends on the model.\n",
      "\n",
      "For the correlated topic-models (CTM) the input was structured as an author-topic model, so there was one document with each user containing all their tweets. The result is a correlated author topic-model of tweets, which acts as a baseline. To calculate perplexity on the held out data, half the words in each document were used to determine the topic distribution, the the log-likelihood was evaluated over the other half of the words using those inferred topics.\n",
      "\n",
      "For the STM-YV topic-model, the input were the 580K tweets, each with associated features, the features being the author ID, the week ID and the month ID. As the topics are a function of the _features_, and not the words, there was no need to split the words of the tweets into two subsets to evaluate the likelihood: all the words were used for the evaluation.\n",
      "\n",
      "There are two bounds used throughout, the Bouchard bound and the Bohning bound. Both are quadratic bounds."
     ]
    },
    {
     "cell_type": "markdown",
     "metadata": {},
     "source": [
      "# CTM Results"
     ]
    },
    {
     "cell_type": "markdown",
     "metadata": {},
     "source": [
      "## Bouchard Bounded"
     ]
    },
    {
     "cell_type": "code",
     "collapsed": false,
     "input": [],
     "language": "python",
     "metadata": {},
     "outputs": []
    }
   ],
   "metadata": {}
  }
 ]
}