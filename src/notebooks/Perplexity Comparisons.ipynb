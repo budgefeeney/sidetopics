{
 "metadata": {
  "name": ""
 },
 "nbformat": 3,
 "nbformat_minor": 0,
 "worksheets": [
  {
   "cells": [
    {
     "cell_type": "markdown",
     "metadata": {},
     "source": [
      "# Abstract\n",
      "This document looks at how different choices of model and different choices of parameterisation can affect the perplexity of held-out data. The dataset is described in the DatasetTests PDF: it consists of approximately 580,000 tweets from over 350 users using a vocabulary of 82,000 words to come up with a corpus of roughly 5.5m words total.\n",
      "\n",
      "The setup is each configuration of each algorithm was run through a 5-fold cross-validation, with perplexity on the held out data as the metric. How perplexity was calculated depends on the model.\n",
      "\n",
      "For the correlated topic-models (CTM) the input was structured as an author-topic model, so there was one document with each user containing all their tweets. The result is a correlated author topic-model of tweets, which acts as a baseline. To calculate perplexity on the held out data, half the words in each document were used to determine the topic distribution, the the log-likelihood was evaluated over the other half of the words using those inferred topics.\n",
      "\n",
      "For the STM-YV topic-model, the input were the 580K tweets, each with associated features, the features being the author ID, the week ID and the month ID. As the topics are a function of the _features_, and not the words, there was no need to split the words of the tweets into two subsets to evaluate the likelihood: all the words were used for the evaluation.\n",
      "\n",
      "There are two bounds used throughout, the Bouchard bound and the Bohning bound. Both are quadratic bounds."
     ]
    },
    {
     "cell_type": "markdown",
     "metadata": {},
     "source": [
      "# Prelude\n",
      "Here we loads all the imports and define all the necessary functions to execute this report"
     ]
    },
    {
     "cell_type": "markdown",
     "metadata": {},
     "source": [
      "## Configuration"
     ]
    },
    {
     "cell_type": "code",
     "collapsed": false,
     "input": [
      "import sys\n",
      "\n",
      "\n",
      "codePath = \"/Users/bryanfeeney/Workspace/sidetopics/src\"\n",
      "\n",
      "dataPathPrefix = \"/Users/bryanfeeney/Desktop/Tweets600/\"\n",
      "wordsPath = dataPathPrefix + \"words-noisy.pkl\"\n",
      "featsPath = dataPathPrefix + \"side-noisy.pkl\"\n",
      "authsPath = dataPathPrefix + \"words-by-author-all-in-one.pkl\"\n",
      "dictPath  = dataPathPrefix + \"dicts.py\"\n",
      "\n",
      "outputFilesDir = \"/Users/bryanfeeney/Desktop/tweets-out/out\"\n",
      "\n",
      "perpsPicklePath = \"/Users/bryanfeeney/Desktop/tweets-out/\"\n",
      "\n",
      "ExpectedFoldCount = 5 # what we asked for\n",
      "\n",
      "sys.path.append(codePath)\n",
      "\n",
      "dictPath = dataPathPrefix + \"dicts.py\"\n",
      "%run $dictPath\n"
     ],
     "language": "python",
     "metadata": {},
     "outputs": [],
     "prompt_number": 27
    },
    {
     "cell_type": "code",
     "collapsed": false,
     "input": [
      "bounds      = [ 'bouchard', 'bohning' ]\n",
      "topicCounts = [ 5, 10, 25, 50, 100, 150, 250 ]\n",
      "latentDims  = [ 5, 10, 25, 50, 75, 100       ]"
     ],
     "language": "python",
     "metadata": {},
     "outputs": [],
     "prompt_number": 2
    },
    {
     "cell_type": "markdown",
     "metadata": {},
     "source": [
      "## Imports"
     ]
    },
    {
     "cell_type": "code",
     "collapsed": false,
     "input": [
      "import os\n",
      "import numpy as np\n",
      "import numpy.random as rd\n",
      "import scipy as sp\n",
      "import scipy.sparse as ssp\n",
      "import scipy.linalg as la\n",
      "import scipy.sparse.linalg as sla\n",
      "import matplotlib.pyplot as plt\n",
      "import matplotlib.cm as cm\n",
      "import pickle as pkl\n",
      "\n",
      "from math import log, pi, exp, ceil\n",
      "\n",
      "rd.seed(0xC0FFEE)\n",
      "\n",
      "%load_ext cythonmagic\n",
      "%matplotlib inline"
     ],
     "language": "python",
     "metadata": {},
     "outputs": [],
     "prompt_number": 3
    },
    {
     "cell_type": "code",
     "collapsed": false,
     "input": [
      "import model\n",
      "from util.sigmoid_utils import rowwise_softmax\n",
      "from model.ctm import \\\n",
      "    log_likelihood as ctm_bou_log_likelihood, \\\n",
      "    perplexity as ctm_bou_perplexity, \\\n",
      "    ModelState as CtmBouModelState, \\\n",
      "    QueryState as CtmBouQueryState\n",
      "from model.ctm_bohning import \\\n",
      "    log_likelihood as ctm_boh_log_likelihood, \\\n",
      "    perplexity as ctm_boh_perplexity, \\\n",
      "    ModelState as CtmBohModelState, \\\n",
      "    QueryState as CtmBohQueryState\n",
      "from model.stm_yv import \\\n",
      "    log_likelihood as stm_yv_bou_log_likelihood, \\\n",
      "    perplexity as stm_yv_bou_perplexity, \\\n",
      "    ModelState as StmYvBouModelState, \\\n",
      "    QueryState as StmYvBouQueryState\n",
      "from model.stm_yv_bohning import \\\n",
      "    log_likelihood as stm_yv_boh_log_likelihood, \\\n",
      "    perplexity as stm_yv_boh_perplexity, \\\n",
      "    ModelState as StmYvBohModelState, \\\n",
      "    QueryState as StmYvBohQueryState"
     ],
     "language": "python",
     "metadata": {},
     "outputs": [],
     "prompt_number": 4
    },
    {
     "cell_type": "code",
     "collapsed": false,
     "input": [
      "ExpectedFoldCount = 5\n",
      "DefaultDataType   = np.float32"
     ],
     "language": "python",
     "metadata": {},
     "outputs": [],
     "prompt_number": 5
    },
    {
     "cell_type": "markdown",
     "metadata": {},
     "source": [
      "## Useful functions"
     ]
    },
    {
     "cell_type": "code",
     "collapsed": false,
     "input": [
      "from re import match\n",
      "\n",
      "CtmAlgorName   = 'ctm'\n",
      "StmYvAlgorName = 'stm_yv'\n",
      "\n",
      "CtmOutFileNameFormat = r\"ctm_%s_k_%d_fold_\\d_\\d{8}_\\d{4}.pkl\"\n",
      "StmOutFileNameFormat = r\"stm_yv_%s_k_%d_p_%d_fold_\\d_\\d{8}_\\d{4}.pkl\"\n",
      "\n",
      "def load_folds (outPath, algorName, bound, topicCount, latentSize=None):\n",
      "    '''\n",
      "    Loads all cross-validated folds from the given path for the given\n",
      "    configuration of the given algorithm. We just return all completed\n",
      "    folds. So if the first, second and fourth folds executed, we'll\n",
      "    return three folds.\n",
      "    '''\n",
      "    fnameRegex = \\\n",
      "        CtmOutFileNameFormat % (bound, topicCount) \\\n",
      "        if algorName == CtmAlgorName \\\n",
      "        else StmOutFileNameFormat % (bound, topicCount, latentSize)\n",
      "    \n",
      "    fnames = [fname for fname in os.listdir(outPath) if match(fnameRegex, fname)]\n",
      "    fnames.sort()\n",
      "    \n",
      "    orders      = []\n",
      "    boundItrs   = []\n",
      "    boundVals   = []\n",
      "    model       = []\n",
      "    trainTopics = []\n",
      "    queryTopics = []\n",
      "    \n",
      "    for fname in fnames:\n",
      "        outputFile = outputFilesDir + os.path.sep + fname\n",
      "        with open(outputFile, \"rb\") as f:\n",
      "            try:\n",
      "                (o, i, v, m, t, q) = pkl.load(f)\n",
      "                orders.append(o)\n",
      "                boundItrs.append(i)\n",
      "                boundVals.append(v)\n",
      "                model.append(m)\n",
      "                trainTopics.append(t)\n",
      "                queryTopics.append(q)\n",
      "            except EOFError:\n",
      "                print(\"Experiment was terminated whilst writing output to \" + outputFile)\n",
      "    \n",
      "    return \\\n",
      "        orders, \\\n",
      "        boundItrs, \\\n",
      "        boundVals, \\\n",
      "        model, \\\n",
      "        trainTopics, \\\n",
      "        queryTopics\n",
      "    "
     ],
     "language": "python",
     "metadata": {},
     "outputs": [],
     "prompt_number": 6
    },
    {
     "cell_type": "markdown",
     "metadata": {},
     "source": [
      "# CTM Results"
     ]
    },
    {
     "cell_type": "markdown",
     "metadata": {},
     "source": [
      "## Load the Dataset"
     ]
    },
    {
     "cell_type": "code",
     "collapsed": false,
     "input": [
      "with open(authsPath, 'rb') as f:\n",
      "    (userLabels, dic, W_auth)  = pkl.load(f)\n",
      "    W_auth = W_auth.astype(DefaultDataType)\n",
      "\n",
      "def reorder_dataset_author(W_auth, userLabels, order):\n",
      "    if order.dtype != np.int32:\n",
      "        order = order.astype(np.int32)\n",
      "    \n",
      "    W_auth_ro = W_auth[order,:]\n",
      "    userLabelsRo = [userLabels[o] for o in order]\n",
      "    \n",
      "    return W_auth_ro, userLabelsRo"
     ],
     "language": "python",
     "metadata": {},
     "outputs": [],
     "prompt_number": 7
    },
    {
     "cell_type": "code",
     "collapsed": false,
     "input": [
      "D_auth,T = W_auth.shape\n",
      "X = None\n",
      "\n",
      "print (\"Author-Document dataset\\n=======================\")\n",
      "print (\"Document Count: %d\\nVocab Size %d\\n\" % (D_auth,T))\n",
      "print (\"Active user count: %d\\n\" % len(userLabels))"
     ],
     "language": "python",
     "metadata": {},
     "outputs": [
      {
       "output_type": "stream",
       "stream": "stdout",
       "text": [
        "Author-Document dataset\n",
        "=======================\n",
        "Document Count: 316\n",
        "Vocab Size 82698\n",
        "\n",
        "Active user count: 316\n",
        "\n"
       ]
      }
     ],
     "prompt_number": 8
    },
    {
     "cell_type": "markdown",
     "metadata": {},
     "source": [
      "## Bouchard and Bohning Bounds\n",
      "\n",
      "We plot the perlexity of query data for the first fold only; for the first three folds; and finally for all five folds. Then we do likewise for the training data. There is a significant divergence between the two and so we use one single scale for the three plots of query-set perplexity, and another scale for the three plots of train-set perplexity.\n",
      "\n",
      "In the CTM author-topic model, when evaluating query-set likelihood, we take the query words and split them into two sets: one is used to estimate the topic assignments, the other is uses with those topic assignments to evaluate the log-likelihood. For the training examples, the same, single, set of words is used for both tasks.\n",
      "\n",
      "Where insufficent folds exist, we just set perplexity to zero.\n",
      "\n",
      "For multiple folds we sum the log-likelihoods (following from the exchangeabiliy of tokens and documents), and then apply the perplexity transformation in the usual way."
     ]
    },
    {
     "cell_type": "code",
     "collapsed": false,
     "input": [
      "from run.main import splitInput\n",
      "\n",
      "def perplexity (log_likelihood, word_count):\n",
      "    return np.exp (-log_likelihood / word_count)\n",
      "\n",
      "# Perplexites for query and training set\n",
      "qperps1 = np.zeros((2, len(topicCounts)))\n",
      "qperps3 = qperps1.copy()\n",
      "qperps5 = qperps1.copy()\n",
      "\n",
      "tperps1 = qperps1.copy()\n",
      "tperps3 = qperps1.copy()\n",
      "tperps5 = qperps1.copy()\n",
      "      \n",
      "for b_id in range(len(bounds)):\n",
      "    bound = bounds[b_id]\n",
      "    log_likely = ctm_bou_log_likelihood \\\n",
      "        if bound == 'bouchard' \\\n",
      "        else ctm_boh_log_likelihood\n",
      "    \n",
      "    for k_id in range(len(topicCounts)):\n",
      "        k = topicCounts[k_id]\n",
      "        orders, _, _, model, trainTopics, queryTopics = \\\n",
      "            load_folds (outputFilesDir, CtmAlgorName, bound, k)\n",
      "        \n",
      "        if len(orders) == 0:\n",
      "            continue\n",
      "        \n",
      "        # Assume the order is always the same, this should be the case \n",
      "        tlikelies     = []\n",
      "        tword_counts  = []\n",
      "        \n",
      "        qlikelies     = []\n",
      "        qword_counts  = []\n",
      "        \n",
      "        foldSize  = ceil(D_auth / ExpectedFoldCount)\n",
      "        querySize = foldSize\n",
      "        trainSize = D_auth - querySize\n",
      "        \n",
      "        for fold in range(len(model)):\n",
      "            W_auth_ro, _ = reorder_dataset_author (W_auth, userLabels, orders[fold])  \n",
      "            \n",
      "            start = fold * foldSize\n",
      "            end   = start + trainSize\n",
      "    \n",
      "            trainSet = np.arange(start,end) % D_auth\n",
      "            querySet = np.arange(end, end + querySize) % D_auth\n",
      "        \n",
      "            # Note we're not using the re-ordered version here. Re-ordering gives\n",
      "            # dramatically worse results, which is strange - either the results are\n",
      "            # genuinely bad, or there's a bug somehwere\n",
      "            W_train, W_query = W_auth_ro[trainSet,:], W_auth_ro[querySet,:]\n",
      "            W_query_train, W_query_eval = splitInput(X, W_query)\n",
      "            \n",
      "            tlikelies.append(log_likely(W_train, model[fold], trainTopics[fold]))\n",
      "            tword_counts.append (W_train.data.sum())\n",
      "            \n",
      "            qlikelies.append(log_likely(W_query_eval, model[fold], queryTopics[fold]))\n",
      "            qword_counts.append (W_query_eval.data.sum())\n",
      "        \n",
      "        if len(qlikelies) >= 0:\n",
      "            qperps1[b_id, k_id] = perplexity (qlikelies[0], qword_counts[0])\n",
      "        if len(qlikelies) >= 3:\n",
      "            qperps3[b_id, k_id] = perplexity (sum(qlikelies[:3]), sum(qword_counts[:3]))\n",
      "        if len(qlikelies) >= 5:\n",
      "            qperps5[b_id, k_id] = perplexity (sum(qlikelies), sum(qword_counts))\n",
      "        if len(tlikelies) >= 0:\n",
      "            tperps1[b_id, k_id] = perplexity (tlikelies[0], tword_counts[0])\n",
      "        if len(tlikelies) >= 3:\n",
      "            tperps3[b_id, k_id] = perplexity (sum(tlikelies[:3]), sum(tword_counts[:3]))\n",
      "        if len(tlikelies) >= 5:\n",
      "            tperps5[b_id, k_id] = perplexity (sum(tlikelies), sum(tword_counts))\n",
      "        "
     ],
     "language": "python",
     "metadata": {},
     "outputs": [],
     "prompt_number": 9
    },
    {
     "cell_type": "code",
     "collapsed": false,
     "input": [
      "with open (perpsPicklePath + os.path.sep + 'ctm-perps.pkl', 'wb') as f:\n",
      "    pkl.dump((qperps1, qperps3, qperps5, tperps1, tperps3, tperps5), f)"
     ],
     "language": "python",
     "metadata": {},
     "outputs": [],
     "prompt_number": 29
    },
    {
     "cell_type": "markdown",
     "metadata": {},
     "source": [
      "### First Fold (Query)"
     ]
    },
    {
     "cell_type": "code",
     "collapsed": false,
     "input": [
      "fig, ax = plt.subplots(figsize=(10,3))\n",
      "\n",
      "im = ax.imshow(qperps1, interpolation=\"none\", vmin=0, vmax=7500)\n",
      "\n",
      "cb = fig.colorbar(im, ax=ax)\n",
      "ax.set_title(\"Perplexity Measured on First Query Fold\")\n",
      "ax.set_ylabel('Bound')\n",
      "ax.set_xlabel('Topic Counts')\n",
      "ax.get_xaxis().set_ticklabels([0] + topicCounts)\n",
      "ax.get_yaxis().set_ticklabels(['', bounds[0], '', bounds[1]])"
     ],
     "language": "python",
     "metadata": {},
     "outputs": [
      {
       "metadata": {},
       "output_type": "pyout",
       "prompt_number": 10,
       "text": [
        "[<matplotlib.text.Text at 0x10344c7d0>,\n",
        " <matplotlib.text.Text at 0x107559550>,\n",
        " <matplotlib.text.Text at 0x1034c2d50>,\n",
        " <matplotlib.text.Text at 0x1034c3510>]"
       ]
      },
      {
       "metadata": {},
       "output_type": "display_data",
       "png": "[encoded data removed]",
       "text": [
        "<matplotlib.figure.Figure at 0x106a32250>"
       ]
      }
     ],
     "prompt_number": 10
    },
    {
     "cell_type": "markdown",
     "metadata": {},
     "source": [
      "The actual perplexity values"
     ]
    },
    {
     "cell_type": "code",
     "collapsed": false,
     "input": [
      "qperps1.astype(np.int32)"
     ],
     "language": "python",
     "metadata": {},
     "outputs": [
      {
       "metadata": {},
       "output_type": "pyout",
       "prompt_number": 11,
       "text": [
        "array([[ 5028, 14203,  5563,  7102,  6332,  7456,     0],\n",
        "       [ 4885,  6890,  7304,  4050, 11002,  4580,     0]], dtype=int32)"
       ]
      }
     ],
     "prompt_number": 11
    },
    {
     "cell_type": "markdown",
     "metadata": {},
     "source": [
      "### First Three Folds (Query)"
     ]
    },
    {
     "cell_type": "code",
     "collapsed": false,
     "input": [
      "fig, ax = plt.subplots(figsize=(10,3))\n",
      "\n",
      "im = ax.imshow(qperps3, interpolation=\"none\", vmin=0, vmax=7500)\n",
      "\n",
      "cb = fig.colorbar(im, ax=ax)\n",
      "ax.set_title(\"Perplexity Measured on Three Query Folds\")\n",
      "ax.set_ylabel('Bound')\n",
      "ax.set_xlabel('Topic Counts')\n",
      "ax.get_xaxis().set_ticklabels([0] + topicCounts)\n",
      "ax.get_yaxis().set_ticklabels(['', bounds[0], '', bounds[1]])"
     ],
     "language": "python",
     "metadata": {},
     "outputs": [
      {
       "metadata": {},
       "output_type": "pyout",
       "prompt_number": 12,
       "text": [
        "[<matplotlib.text.Text at 0x107559b50>,\n",
        " <matplotlib.text.Text at 0x10343c8d0>,\n",
        " <matplotlib.text.Text at 0x104639590>,\n",
        " <matplotlib.text.Text at 0x104639d10>]"
       ]
      },
      {
       "metadata": {},
       "output_type": "display_data",
       "png": "[encoded data removed]",
       "text": [
        "<matplotlib.figure.Figure at 0x1034b8a90>"
       ]
      }
     ],
     "prompt_number": 12
    },
    {
     "cell_type": "markdown",
     "metadata": {},
     "source": [
      "The actual perplexity values"
     ]
    },
    {
     "cell_type": "code",
     "collapsed": false,
     "input": [
      "qperps3.astype(np.int32)"
     ],
     "language": "python",
     "metadata": {},
     "outputs": [
      {
       "metadata": {},
       "output_type": "pyout",
       "prompt_number": 13,
       "text": [
        "array([[5268, 8382, 5832, 7678, 6510, 9361,    0],\n",
        "       [5380, 5336, 5789, 6225, 8576, 7428,    0]], dtype=int32)"
       ]
      }
     ],
     "prompt_number": 13
    },
    {
     "cell_type": "markdown",
     "metadata": {},
     "source": [
      "### First Five Folds (Query)"
     ]
    },
    {
     "cell_type": "code",
     "collapsed": false,
     "input": [
      "fig, ax = plt.subplots(figsize=(10,3))\n",
      "\n",
      "im = ax.imshow(qperps5, interpolation=\"none\", vmin=0, vmax=7500)\n",
      "\n",
      "cb = fig.colorbar(im, ax=ax)\n",
      "ax.set_title(\"Perplexity Measured on First Five Query Folds\")\n",
      "ax.set_ylabel('Bound')\n",
      "ax.set_xlabel('Topic Counts')\n",
      "ax.get_xaxis().set_ticklabels([0] + topicCounts)\n",
      "ax.get_yaxis().set_ticklabels(['', bounds[0], '', bounds[1]])"
     ],
     "language": "python",
     "metadata": {},
     "outputs": [
      {
       "metadata": {},
       "output_type": "pyout",
       "prompt_number": 14,
       "text": [
        "[<matplotlib.text.Text at 0x1046c1fd0>,\n",
        " <matplotlib.text.Text at 0x1046454d0>,\n",
        " <matplotlib.text.Text at 0x104725850>,\n",
        " <matplotlib.text.Text at 0x104725fd0>]"
       ]
      },
      {
       "metadata": {},
       "output_type": "display_data",
       "png": "[encoded data removed]",
       "text": [
        "<matplotlib.figure.Figure at 0x104634790>"
       ]
      }
     ],
     "prompt_number": 14
    },
    {
     "cell_type": "markdown",
     "metadata": {},
     "source": [
      "The actual perplexity values"
     ]
    },
    {
     "cell_type": "code",
     "collapsed": false,
     "input": [
      "qperps5.astype(np.int32)"
     ],
     "language": "python",
     "metadata": {},
     "outputs": [
      {
       "metadata": {},
       "output_type": "pyout",
       "prompt_number": 15,
       "text": [
        "array([[6939, 6425, 6028,    0, 7462,    0,    0],\n",
        "       [5507, 5217, 5310, 5477, 6783, 6848,    0]], dtype=int32)"
       ]
      }
     ],
     "prompt_number": 15
    },
    {
     "cell_type": "markdown",
     "metadata": {},
     "source": [
      "### First Fold (Train)"
     ]
    },
    {
     "cell_type": "code",
     "collapsed": false,
     "input": [
      "fig, ax = plt.subplots(figsize=(10,3))\n",
      "\n",
      "im = ax.imshow(tperps1, interpolation=\"none\", vmin=1000, vmax=3500)\n",
      "\n",
      "cb = fig.colorbar(im, ax=ax)\n",
      "ax.set_title(\"Perplexity Measured on First Train Fold\")\n",
      "ax.set_ylabel('Bound')\n",
      "ax.set_xlabel('Topic Counts')\n",
      "ax.get_xaxis().set_ticklabels([0] + topicCounts)\n",
      "ax.get_yaxis().set_ticklabels(['', bounds[0], '', bounds[1]])"
     ],
     "language": "python",
     "metadata": {},
     "outputs": [
      {
       "metadata": {},
       "output_type": "pyout",
       "prompt_number": 16,
       "text": [
        "[<matplotlib.text.Text at 0x1047b0fd0>,\n",
        " <matplotlib.text.Text at 0x104731210>,\n",
        " <matplotlib.text.Text at 0x1050f5c50>,\n",
        " <matplotlib.text.Text at 0x1050f2410>]"
       ]
      },
      {
       "metadata": {},
       "output_type": "display_data",
       "png": "[encoded data removed]",
       "text": [
        "<matplotlib.figure.Figure at 0x10471ff10>"
       ]
      }
     ],
     "prompt_number": 16
    },
    {
     "cell_type": "markdown",
     "metadata": {},
     "source": [
      "The actual perplexity values"
     ]
    },
    {
     "cell_type": "code",
     "collapsed": false,
     "input": [
      "tperps1.astype(np.int32)"
     ],
     "language": "python",
     "metadata": {},
     "outputs": [
      {
       "metadata": {},
       "output_type": "pyout",
       "prompt_number": 17,
       "text": [
        "array([[2333, 1875, 1618, 1791, 2942, 1659,    0],\n",
        "       [2136, 1845, 1653, 1584, 2837, 3146,    0]], dtype=int32)"
       ]
      }
     ],
     "prompt_number": 17
    },
    {
     "cell_type": "markdown",
     "metadata": {},
     "source": [
      "### First Three Folds (Train)"
     ]
    },
    {
     "cell_type": "code",
     "collapsed": false,
     "input": [
      "fig, ax = plt.subplots(figsize=(10,3))\n",
      "\n",
      "im = ax.imshow(tperps3, interpolation=\"none\", vmin=1000, vmax=3500)\n",
      "\n",
      "cb = fig.colorbar(im, ax=ax)\n",
      "ax.set_title(\"Perplexity Measured on First Three Train Folds\")\n",
      "ax.set_ylabel('Bound')\n",
      "ax.set_xlabel('Topic Counts')\n",
      "ax.get_xaxis().set_ticklabels([0] + topicCounts)\n",
      "ax.get_yaxis().set_ticklabels(['', bounds[0], '', bounds[1]])"
     ],
     "language": "python",
     "metadata": {},
     "outputs": [
      {
       "metadata": {},
       "output_type": "pyout",
       "prompt_number": 18,
       "text": [
        "[<matplotlib.text.Text at 0x1051814d0>,\n",
        " <matplotlib.text.Text at 0x104636890>,\n",
        " <matplotlib.text.Text at 0x1051e7250>,\n",
        " <matplotlib.text.Text at 0x1051e79d0>]"
       ]
      },
      {
       "metadata": {},
       "output_type": "display_data",
       "png": "[encoded data removed]",
       "text": [
        "<matplotlib.figure.Figure at 0x1047b0d10>"
       ]
      }
     ],
     "prompt_number": 18
    },
    {
     "cell_type": "markdown",
     "metadata": {},
     "source": [
      "The actual perplexity values"
     ]
    },
    {
     "cell_type": "code",
     "collapsed": false,
     "input": [
      "tperps3.astype(np.int32)"
     ],
     "language": "python",
     "metadata": {},
     "outputs": [
      {
       "metadata": {},
       "output_type": "pyout",
       "prompt_number": 19,
       "text": [
        "array([[2363, 1914, 1670, 1684, 1852, 1920,    0],\n",
        "       [2129, 1850, 1607, 1598, 2926, 2980,    0]], dtype=int32)"
       ]
      }
     ],
     "prompt_number": 19
    },
    {
     "cell_type": "markdown",
     "metadata": {},
     "source": [
      "### First Five Folds (Train)"
     ]
    },
    {
     "cell_type": "code",
     "collapsed": false,
     "input": [
      "fig, ax = plt.subplots(figsize=(10,3))\n",
      "\n",
      "im = ax.imshow(tperps5, interpolation=\"none\", vmin=1000, vmax=3500)\n",
      "\n",
      "cb = fig.colorbar(im, ax=ax)\n",
      "ax.set_title(\"Perplexity Measured on First Five Train Folds\")\n",
      "ax.set_ylabel('Bound')\n",
      "ax.set_xlabel('Topic Counts')\n",
      "ax.get_xaxis().set_ticklabels([0] + topicCounts)\n",
      "ax.get_yaxis().set_ticklabels(['', bounds[0], '', bounds[1]])"
     ],
     "language": "python",
     "metadata": {},
     "outputs": [
      {
       "metadata": {},
       "output_type": "pyout",
       "prompt_number": 20,
       "text": [
        "[<matplotlib.text.Text at 0x105448710>,\n",
        " <matplotlib.text.Text at 0x1051f1310>,\n",
        " <matplotlib.text.Text at 0x1054b0790>,\n",
        " <matplotlib.text.Text at 0x1054b0f10>]"
       ]
      },
      {
       "metadata": {},
       "output_type": "display_data",
       "png": "[encoded data removed]",
       "text": [
        "<matplotlib.figure.Figure at 0x1051e7d90>"
       ]
      }
     ],
     "prompt_number": 20
    },
    {
     "cell_type": "markdown",
     "metadata": {},
     "source": [
      "The actual perplexity values"
     ]
    },
    {
     "cell_type": "code",
     "collapsed": false,
     "input": [
      "tperps5.astype(np.int32)"
     ],
     "language": "python",
     "metadata": {},
     "outputs": [
      {
       "metadata": {},
       "output_type": "pyout",
       "prompt_number": 21,
       "text": [
        "array([[2327, 1957, 1667,    0, 1746,    0,    0],\n",
        "       [2115, 1829, 1591, 1804, 2965, 2962,    0]], dtype=int32)"
       ]
      }
     ],
     "prompt_number": 21
    },
    {
     "cell_type": "markdown",
     "metadata": {},
     "source": [
      "# STM Results\n",
      "\n",
      "We plot the perlexity of query data for the first fold only; for the first three folds; and finally for all five folds. Then we do likewise for the training data. There is a significant divergence between the two and so we use one single scale for the three plots of query-set perplexity, and another scale for the three plots of train-set perplexity.\n",
      "\n",
      "We don't need to do the document splitting trick as for CTM as the topics are predicted from the features, not the words, so it's valid to use all the words to evaluate the likelihood.\n",
      "\n",
      "As before we we set perplexity to zero where no results exist, and for multiple folds we sum the likelihoods.\n"
     ]
    },
    {
     "cell_type": "markdown",
     "metadata": {},
     "source": [
      "##\u00a0Load the Dataset"
     ]
    },
    {
     "cell_type": "code",
     "collapsed": false,
     "input": [
      "with open(wordsPath, 'rb') as f:\n",
      "    W = pkl.load(f)\n",
      "    if W.dtype != DefaultDataType:\n",
      "        W = W.astype(DefaultDataType)\n",
      "with open(featsPath, 'rb') as f:\n",
      "    X = pkl.load(f)\n",
      "    if (X.dtype != DefaultDataType):\n",
      "        X = X.astype(DefaultDataType)\n",
      "        \n",
      "def reorder_dataset(W, X, order):\n",
      "    if order.dtype != np.int32:\n",
      "        order = order.astype(np.int32)\n",
      "    \n",
      "    W_ro = W[order,:]\n",
      "    X_ro = X[order,:]\n",
      "    \n",
      "    return W,X"
     ],
     "language": "python",
     "metadata": {},
     "outputs": [],
     "prompt_number": 22
    },
    {
     "cell_type": "code",
     "collapsed": false,
     "input": [
      "D,T = W.shape\n",
      "_,F = X.shape\n",
      "\n",
      "print (\"Individual Tweet Dataset\\n=======================\")\n",
      "print (\"Document Count: %d\\nVocab Size %d\\nFeature Count: %d\\n\" % (D,T,F))\n",
      "print (\"Active user count: %d\\n\" % len(userLabels))"
     ],
     "language": "python",
     "metadata": {},
     "outputs": [
      {
       "output_type": "stream",
       "stream": "stdout",
       "text": [
        "Individual Tweet Dataset\n",
        "=======================\n",
        "Document Count: 585268\n",
        "Vocab Size 82698\n",
        "Feature Count: 425\n",
        "\n",
        "Active user count: 316\n",
        "\n"
       ]
      }
     ],
     "prompt_number": 23
    },
    {
     "cell_type": "markdown",
     "metadata": {},
     "source": [
      "Slots allocated to different feature-classes"
     ]
    },
    {
     "cell_type": "code",
     "collapsed": false,
     "input": [
      "feats"
     ],
     "language": "python",
     "metadata": {},
     "outputs": [
      {
       "metadata": {},
       "output_type": "pyout",
       "prompt_number": 24,
       "text": [
        "{'author': 0, 'month_of_year': 420, 'week_of_year': 398}"
       ]
      }
     ],
     "prompt_number": 24
    },
    {
     "cell_type": "code",
     "collapsed": false,
     "input": [
      "P = len(latentDims)\n",
      "K = len(topicCounts)\n",
      "\n",
      "perps  = { \\\n",
      "    'train' : { \\\n",
      "        'bouchard' : { \\\n",
      "            1 : np.zeros((P,K)), \\\n",
      "            3 : np.zeros((P,K)), \\\n",
      "            5 : np.zeros((P,K))\n",
      "        }, \\\n",
      "        'bohning' : { \\\n",
      "            1 : np.zeros((P,K)), \\\n",
      "            3 : np.zeros((P,K)), \\\n",
      "            5 : np.zeros((P,K)) \\\n",
      "        } \\\n",
      "    }, \\\n",
      "    'query' : { \\\n",
      "        'bouchard' : { \\\n",
      "            1 : np.zeros((P,K)), \\\n",
      "            3 : np.zeros((P,K)), \\\n",
      "            5 : np.zeros((P,K))\n",
      "        }, \\\n",
      "        'bohning' : { \\\n",
      "            1 : np.zeros((P,K)), \\\n",
      "            3 : np.zeros((P,K)), \\\n",
      "            5 : np.zeros((P,K)) \\\n",
      "        } \\\n",
      "    }, \\\n",
      "}\n",
      "      \n",
      "for bound in bounds:\n",
      "    log_likely = stm_yv_bou_log_likelihood \\\n",
      "        if bound == 'bouchard' \\\n",
      "        else stm_yv_boh_log_likelihood\n",
      "    \n",
      "    for k_id in range(K):\n",
      "        k = topicCounts[k_id]\n",
      "        for p_id in range(P):\n",
      "            p = latentDims[p_id]\n",
      "            orders, _, _, model, trainTopics, queryTopics = \\\n",
      "                load_folds (outputFilesDir, StmYvAlgorName, bound, k, p)\n",
      "        \n",
      "            if len(orders) == 0:\n",
      "                continue\n",
      "        \n",
      "            # Assume the order is always the same, this should be the case\n",
      "            W_ro, X_ro = reorder_dataset (W, X, orders[0]) # same across all folds  \n",
      "            tlikelies     = []\n",
      "            tword_counts  = []\n",
      "            \n",
      "            qlikelies     = []\n",
      "            qword_counts  = []\n",
      "        \n",
      "            foldSize  = ceil(D / ExpectedFoldCount)\n",
      "            querySize = foldSize\n",
      "            trainSize = D - querySize\n",
      "        \n",
      "            for fold in range(len(model)):\n",
      "                start = fold * foldSize\n",
      "                end   = start + trainSize\n",
      "                \n",
      "                trainSet = np.arange(start,end) % D\n",
      "                querySet = np.arange(end, end + querySize) % D\n",
      "    \n",
      "                W_train, W_query = W_ro[trainSet,:], W_ro[querySet,:]\n",
      "                # X_train, X_query = X_ro[trainSet,:], X_ro[querySet,:]\n",
      "                \n",
      "                #sys.stdout.write(\"Train Likely: Bound = %s K = %d, P = %d, Fold = %d\\n\" % (bound, k, p, fold))\n",
      "                #sys.stdout.write(\"\\tW_train.D = %d, W_train.sum() = %.0f, trainTopics.means.D = %d\\n\" % (W_train.shape[0], W_train.data.sum(), trainTopics[fold].means.shape[0]))\n",
      "                #sys.stdout.write(\"\\tLog Likely = %f\\n\" % (log_likely(W_train, model[fold], trainTopics[fold])))\n",
      "                #sys.stdout.flush()\n",
      "                tlikelies.append(log_likely(W_train, model[fold], trainTopics[fold]))\n",
      "                tword_counts.append (W_train.data.sum())\n",
      "                \n",
      "                #sys.stdout.write(\"Query Likely: Bound = %s K = %d, P = %d, Fold = %d\\n\" % (bound, k, p, fold))\n",
      "                #sys.stdout.write(\"\\tW_qury.D = %d, W_query.sum() = %.0f, trainTopics.means.D = %d\\n\" % (W_query.shape[0], W_query.data.sum(), queryTopics[fold].means.shape[0]))\n",
      "                #sys.stdout.write(\"\\tLog Likely = %f\\n\" % (log_likely(W_query, model[fold], queryTopics[fold])))\n",
      "                #sys.stdout.flush()\n",
      "                qlikelies.append(log_likely(W_query, model[fold], queryTopics[fold]))\n",
      "                qword_counts.append (W_query.data.sum())\n",
      "        \n",
      "            if len(qlikelies) >= 0:\n",
      "                perps['query'][bound][1][p_id, k_id] = perplexity (qlikelies[0], qword_counts[0])\n",
      "            if len(qlikelies) >= 3:\n",
      "                perps['query'][bound][3][p_id, k_id] = perplexity (sum(qlikelies[:3]), sum(qword_counts[:3]))\n",
      "            if len(qlikelies) >= 5:\n",
      "                perps['query'][bound][5][p_id, k_id] = perplexity (sum(qlikelies), sum(qword_counts))\n",
      "            if len(tlikelies) >= 0:\n",
      "                perps['train'][bound][1][p_id, k_id] = perplexity (tlikelies[0], tword_counts[0])\n",
      "            if len(tlikelies) >= 3:\n",
      "                perps['train'][bound][3][p_id, k_id] = perplexity (sum(tlikelies[:3]), sum(tword_counts[:3]))\n",
      "            if len(tlikelies) >= 5:\n",
      "                perps['train'][bound][5][p_id, k_id] = perplexity (sum(tlikelies), sum(tword_counts))\n",
      "        \n",
      "        "
     ],
     "language": "python",
     "metadata": {},
     "outputs": [
      {
       "output_type": "stream",
       "stream": "stdout",
       "text": [
        "Experiment was terminated whilst writing output to /Users/bryanfeeney/Desktop/tweets-out/out/stm_yv_bouchard_k_50_p_75_fold_0_20140225_0030.pkl\n",
        "Experiment was terminated whilst writing output to /Users/bryanfeeney/Desktop/tweets-out/out/stm_yv_bouchard_k_50_p_100_fold_0_20140225_0009.pkl"
       ]
      },
      {
       "output_type": "stream",
       "stream": "stdout",
       "text": [
        "\n",
        "Experiment was terminated whilst writing output to /Users/bryanfeeney/Desktop/tweets-out/out/stm_yv_bouchard_k_100_p_50_fold_0_20140225_0232.pkl"
       ]
      },
      {
       "output_type": "stream",
       "stream": "stdout",
       "text": [
        "\n",
        "Experiment was terminated whilst writing output to /Users/bryanfeeney/Desktop/tweets-out/out/stm_yv_bouchard_k_100_p_75_fold_0_20140225_0308.pkl"
       ]
      },
      {
       "output_type": "stream",
       "stream": "stdout",
       "text": [
        "\n",
        "Experiment was terminated whilst writing output to /Users/bryanfeeney/Desktop/tweets-out/out/stm_yv_bouchard_k_100_p_100_fold_0_20140225_0307.pkl\n",
        "Experiment was terminated whilst writing output to /Users/bryanfeeney/Desktop/tweets-out/out/stm_yv_bouchard_k_150_p_50_fold_0_20140225_0547.pkl"
       ]
      },
      {
       "output_type": "stream",
       "stream": "stdout",
       "text": [
        "\n",
        "Experiment was terminated whilst writing output to /Users/bryanfeeney/Desktop/tweets-out/out/stm_yv_bouchard_k_150_p_75_fold_0_20140225_0617.pkl"
       ]
      },
      {
       "output_type": "stream",
       "stream": "stdout",
       "text": [
        "\n",
        "Experiment was terminated whilst writing output to /Users/bryanfeeney/Desktop/tweets-out/out/stm_yv_bouchard_k_150_p_100_fold_0_20140225_0613.pkl\n"
       ]
      }
     ],
     "prompt_number": 25
    },
    {
     "cell_type": "code",
     "collapsed": false,
     "input": [
      "with open (perpsPicklePath + os.path.sep + 'stm-perps.pkl', 'wb') as f:\n",
      "    pkl.dump(perps, f)"
     ],
     "language": "python",
     "metadata": {},
     "outputs": [],
     "prompt_number": 28
    },
    {
     "cell_type": "markdown",
     "metadata": {},
     "source": [
      "## Query Results"
     ]
    },
    {
     "cell_type": "code",
     "collapsed": false,
     "input": [
      "fig, ax = plt.subplots(2, 3, figsize=(12,12))\n",
      "\n",
      "im = ax[0,0].imshow(perps['query']['bouchard'][1], interpolation=\"none\")\n",
      "\n",
      "ax[0,0].set_title(\"Query Fold 1\")\n",
      "ax[0,0].set_ylabel(\"Bouchard\\nLatent Dim\")\n",
      "ax[0,0].get_xaxis().set_ticklabels([0] + topicCounts)\n",
      "ax[0,0].get_yaxis().set_ticklabels([0] + latentDims)\n",
      "\n",
      "\n",
      "im = ax[0,1].imshow(perps['query']['bouchard'][3], interpolation=\"none\")\n",
      "\n",
      "ax[0,1].set_title(\"Query Folds 1-3\")\n",
      "ax[0,1].get_xaxis().set_ticklabels([0] + topicCounts)\n",
      "ax[0,1].get_yaxis().set_ticklabels([0] + latentDims)\n",
      "\n",
      "\n",
      "im = ax[0,2].imshow(perps['query']['bouchard'][5], interpolation=\"none\")\n",
      "\n",
      "ax[0,2].set_title(\"Query Folds 1-5\")\n",
      "ax[0,2].get_xaxis().set_ticklabels([0] + topicCounts)\n",
      "ax[0,2].get_yaxis().set_ticklabels([0] + latentDims)\n",
      "\n",
      "\n",
      "im = ax[1,0].imshow(perps['query']['bohning'][1], interpolation=\"none\")\n",
      "\n",
      "ax[1,0].set_ylabel(\"Bohning\\nLatent Dim\")\n",
      "ax[1,0].set_xlabel('Topic Counts')\n",
      "ax[1,0].get_xaxis().set_ticklabels([0] + topicCounts)\n",
      "ax[1,0].get_yaxis().set_ticklabels([0] + latentDims)\n",
      "\n",
      "\n",
      "im = ax[0,1].imshow(perps['query']['bohning'][3], interpolation=\"none\")\n",
      "\n",
      "ax[1,1].set_xlabel('Topic Counts')\n",
      "ax[1,1].get_xaxis().set_ticklabels([0] + topicCounts)\n",
      "ax[1,1].get_yaxis().set_ticklabels([0] + latentDims)\n",
      "\n",
      "\n",
      "im = ax[0,2].imshow(perps['query']['bohning'][5], interpolation=\"none\")\n",
      "\n",
      "ax[1,2].set_xlabel('Topic Counts')\n",
      "ax[1,2].get_xaxis().set_ticklabels([0] + topicCounts)\n",
      "ax[1,2].get_yaxis().set_ticklabels([0] + latentDims)\n",
      "\n",
      "fig.subplots_adjust(right=0.8)\n",
      "cbar_ax = fig.add_axes([0.85, 0.15, 0.05, 0.7])\n",
      "fig.colorbar(im, cax=cbar_ax)"
     ],
     "language": "python",
     "metadata": {},
     "outputs": [
      {
       "metadata": {},
       "output_type": "pyout",
       "prompt_number": 67,
       "text": [
        "<matplotlib.colorbar.Colorbar at 0x10d72a7d0>"
       ]
      },
      {
       "metadata": {},
       "output_type": "display_data",
       "png": "[encoded data removed]",
       "text": [
        "<matplotlib.figure.Figure at 0x10d25d210>"
       ]
      }
     ],
     "prompt_number": 67
    },
    {
     "cell_type": "code",
     "collapsed": false,
     "input": [
      "fig, ax = plt.subplots(2, 3, figsize=(12,12))\n",
      "\n",
      "im = ax[0,0].imshow(perps['train']['bouchard'][1], interpolation=\"none\")\n",
      "\n",
      "ax[0,0].set_title(\"Train Fold 1\")\n",
      "ax[0,0].set_ylabel(\"Bouchard\\nLatent Dim\")\n",
      "ax[0,0].get_xaxis().set_ticklabels([0] + topicCounts)\n",
      "ax[0,0].get_yaxis().set_ticklabels([0] + latentDims)\n",
      "\n",
      "\n",
      "im = ax[0,1].imshow(perps['train']['bouchard'][3], interpolation=\"none\")\n",
      "\n",
      "ax[0,1].set_title(\"Train Folds 1-3\")\n",
      "ax[0,1].get_xaxis().set_ticklabels([0] + topicCounts)\n",
      "ax[0,1].get_yaxis().set_ticklabels([0] + latentDims)\n",
      "\n",
      "\n",
      "im = ax[0,2].imshow(perps['train']['bouchard'][5], interpolation=\"none\")\n",
      "\n",
      "ax[0,2].set_title(\"Train Folds 1-5\")\n",
      "ax[0,2].get_xaxis().set_ticklabels([0] + topicCounts)\n",
      "ax[0,2].get_yaxis().set_ticklabels([0] + latentDims)\n",
      "\n",
      "\n",
      "im = ax[1,0].imshow(perps['train']['bohning'][1], interpolation=\"none\")\n",
      "\n",
      "ax[1,0].set_ylabel(\"Bohning\\nLatent Dim\")\n",
      "ax[1,0].set_xlabel('Topic Counts')\n",
      "ax[1,0].get_xaxis().set_ticklabels([0] + topicCounts)\n",
      "ax[1,0].get_yaxis().set_ticklabels([0] + latentDims)\n",
      "\n",
      "\n",
      "im = ax[0,1].imshow(perps['train']['bohning'][3], interpolation=\"none\")\n",
      "\n",
      "ax[1,1].set_xlabel('Topic Counts')\n",
      "ax[1,1].get_xaxis().set_ticklabels([0] + topicCounts)\n",
      "ax[1,1].get_yaxis().set_ticklabels([0] + latentDims)\n",
      "\n",
      "\n",
      "im = ax[0,2].imshow(perps['train']['bohning'][5], interpolation=\"none\")\n",
      "\n",
      "ax[1,2].set_xlabel('Topic Counts')\n",
      "ax[1,2].get_xaxis().set_ticklabels([0] + topicCounts)\n",
      "ax[1,2].get_yaxis().set_ticklabels([0] + latentDims)\n",
      "\n",
      "\n",
      "fig.subplots_adjust(right=0.8)\n",
      "cbar_ax = fig.add_axes([0.85, 0.15, 0.05, 0.7])\n",
      "fig.colorbar(im, cax=cbar_ax)"
     ],
     "language": "python",
     "metadata": {},
     "outputs": [
      {
       "metadata": {},
       "output_type": "pyout",
       "prompt_number": 68,
       "text": [
        "<matplotlib.colorbar.Colorbar at 0x10ed52510>"
       ]
      },
      {
       "metadata": {},
       "output_type": "display_data",
       "png": "[encoded data removed]",
       "text": [
        "<matplotlib.figure.Figure at 0x10d745050>"
       ]
      }
     ],
     "prompt_number": 68
    },
    {
     "cell_type": "code",
     "collapsed": false,
     "input": [
      "perps"
     ],
     "language": "python",
     "metadata": {},
     "outputs": [
      {
       "metadata": {},
       "output_type": "pyout",
       "prompt_number": 69,
       "text": [
        "{'query': {'bohning': {1: array([[ 3990.90698242,  4109.96533203,  4074.63793945,  3943.85864258,\n",
        "            0.        ,     0.        ,     0.        ],\n",
        "       [ 4126.33447266,  4189.07324219,  4104.38378906,  4052.94287109,\n",
        "            0.        ,     0.        ,     0.        ],\n",
        "       [ 4010.20043945,  4232.57958984,  4099.84570312,     0.        ,\n",
        "            0.        ,     0.        ,     0.        ],\n",
        "       [ 4012.75219727,  4153.87792969,  4019.76538086,     0.        ,\n",
        "            0.        ,     0.        ,     0.        ],\n",
        "       [ 4011.63110352,  4179.73535156,  4070.33862305,     0.        ,\n",
        "            0.        ,     0.        ,     0.        ],\n",
        "       [ 3921.87963867,  4113.14111328,  4067.87060547,     0.        ,\n",
        "            0.        ,     0.        ,     0.        ]]),\n",
        "   3: array([[ 4422.58406395,  4509.27493634,  4537.55540468,  4533.67305131,\n",
        "            0.        ,     0.        ,     0.        ],\n",
        "       [ 4453.83375871,  4530.93662772,  4573.65983934,  4597.82783826,\n",
        "            0.        ,     0.        ,     0.        ],\n",
        "       [ 4479.51171843,  4617.7087253 ,  4483.63172127,     0.        ,\n",
        "            0.        ,     0.        ,     0.        ],\n",
        "       [ 4441.10748686,  4507.45001087,  4546.76870101,     0.        ,\n",
        "            0.        ,     0.        ,     0.        ],\n",
        "       [ 4469.01227195,  4556.71622158,  4468.10720049,     0.        ,\n",
        "            0.        ,     0.        ,     0.        ],\n",
        "       [ 4405.59209917,  4546.25756269,  4521.08706932,     0.        ,\n",
        "            0.        ,     0.        ,     0.        ]]),\n",
        "   5: array([[ 4275.48451129,  4324.43387478,  4342.24653136,  4356.82067309,\n",
        "            0.        ,     0.        ,     0.        ],\n",
        "       [ 4296.94923168,  4419.8616438 ,  4362.45830152,  4383.11196105,\n",
        "            0.        ,     0.        ,     0.        ],\n",
        "       [ 4276.56281322,  4406.92971558,  4318.8918439 ,     0.        ,\n",
        "            0.        ,     0.        ,     0.        ],\n",
        "       [ 4252.87737164,  4406.82402554,  4366.25336788,     0.        ,\n",
        "            0.        ,     0.        ,     0.        ],\n",
        "       [ 4294.40243987,  4401.38907061,  4361.24143922,     0.        ,\n",
        "            0.        ,     0.        ,     0.        ],\n",
        "       [ 4244.20675526,  4375.28056256,  4356.70389222,     0.        ,\n",
        "            0.        ,     0.        ,     0.        ]])},\n",
        "  'bouchard': {1: array([[  1.17269805e+33,   2.04210351e+35,   2.90692533e+36,\n",
        "          4.51113622e+36,   8.34238008e+36,   8.96578656e+36,\n",
        "          0.00000000e+00],\n",
        "       [  7.52974244e+32,   2.89348182e+35,   2.30004094e+36,\n",
        "          2.69039540e+36,   7.68770636e+36,   8.92068545e+36,\n",
        "          0.00000000e+00],\n",
        "       [  4.16138372e+33,   4.13202914e+35,   2.54818687e+36,\n",
        "          6.13258873e+36,   8.15024861e+36,   9.20659771e+36,\n",
        "          0.00000000e+00],\n",
        "       [  2.26512059e+32,   3.05041875e+35,   2.56686015e+36,\n",
        "          5.64995042e+36,   0.00000000e+00,   0.00000000e+00,\n",
        "          0.00000000e+00],\n",
        "       [  1.39798928e+33,   3.73736554e+35,   2.36106088e+36,\n",
        "          0.00000000e+00,   0.00000000e+00,   0.00000000e+00,\n",
        "          0.00000000e+00],\n",
        "       [  1.27696896e+33,   1.35879904e+35,   2.37397571e+36,\n",
        "          0.00000000e+00,   0.00000000e+00,   0.00000000e+00,\n",
        "          0.00000000e+00]]),\n",
        "   3: array([[  4.60094408e+33,   4.04420403e+35,   3.22072448e+36,\n",
        "          6.38113269e+36,   8.97693488e+36,   1.01153517e+37,\n",
        "          0.00000000e+00],\n",
        "       [  6.84281844e+32,   6.11975646e+35,   3.28781559e+36,\n",
        "          5.15331201e+36,   8.99271186e+36,   1.01859717e+37,\n",
        "          0.00000000e+00],\n",
        "       [  5.25375754e+33,   6.20596233e+35,   4.12146719e+36,\n",
        "          7.60662901e+36,   9.57071769e+36,   0.00000000e+00,\n",
        "          0.00000000e+00],\n",
        "       [  3.44504959e+32,   3.88579790e+35,   4.01438474e+36,\n",
        "          7.56929257e+36,   0.00000000e+00,   0.00000000e+00,\n",
        "          0.00000000e+00],\n",
        "       [  3.43460308e+33,   3.39296124e+35,   3.86429330e+36,\n",
        "          0.00000000e+00,   0.00000000e+00,   0.00000000e+00,\n",
        "          0.00000000e+00],\n",
        "       [  2.43390683e+33,   2.64698892e+35,   6.08995004e+35,\n",
        "          0.00000000e+00,   0.00000000e+00,   0.00000000e+00,\n",
        "          0.00000000e+00]]),\n",
        "   5: array([[  2.43684152e+33,   3.05182603e+35,   2.73699309e+36,\n",
        "          5.20235511e+36,   0.00000000e+00,   0.00000000e+00,\n",
        "          0.00000000e+00],\n",
        "       [  6.62483703e+32,   3.24181084e+35,   2.64263636e+36,\n",
        "          3.79300368e+36,   0.00000000e+00,   0.00000000e+00,\n",
        "          0.00000000e+00],\n",
        "       [  2.95986616e+33,   4.12383830e+35,   3.08910764e+36,\n",
        "          6.18273465e+36,   0.00000000e+00,   0.00000000e+00,\n",
        "          0.00000000e+00],\n",
        "       [  3.42804221e+32,   2.80106851e+35,   2.96122933e+36,\n",
        "          5.99843370e+36,   0.00000000e+00,   0.00000000e+00,\n",
        "          0.00000000e+00],\n",
        "       [  1.96756022e+33,   2.86160048e+35,   2.84220310e+36,\n",
        "          0.00000000e+00,   0.00000000e+00,   0.00000000e+00,\n",
        "          0.00000000e+00],\n",
        "       [  1.68015513e+33,   1.97793716e+35,   8.71007655e+35,\n",
        "          0.00000000e+00,   0.00000000e+00,   0.00000000e+00,\n",
        "          0.00000000e+00]])}},\n",
        " 'train': {'bohning': {1: array([[ 4619.0546875 ,  4785.77832031,  4944.97607422,  4821.89257812,\n",
        "            0.        ,     0.        ,     0.        ],\n",
        "       [ 4611.14550781,  4915.91259766,  4938.64160156,  4844.69970703,\n",
        "            0.        ,     0.        ,     0.        ],\n",
        "       [ 4628.85742188,  4865.37304688,  4925.32128906,     0.        ,\n",
        "            0.        ,     0.        ,     0.        ],\n",
        "       [ 4594.02294922,  4950.42089844,  4884.80224609,     0.        ,\n",
        "            0.        ,     0.        ,     0.        ],\n",
        "       [ 4653.16064453,  4908.48291016,  4977.08642578,     0.        ,\n",
        "            0.        ,     0.        ,     0.        ],\n",
        "       [ 4573.08447266,  4845.44335938,  4892.82617188,     0.        ,\n",
        "            0.        ,     0.        ,     0.        ]]),\n",
        "   3: array([[ 4475.12860711,  4644.28708696,  4772.62323896,  4656.42933218,\n",
        "            0.        ,     0.        ,     0.        ],\n",
        "       [ 4543.07891764,  4798.86002642,  4734.9296659 ,  4738.52061896,\n",
        "            0.        ,     0.        ,     0.        ],\n",
        "       [ 4503.64006693,  4755.76224893,  4740.09416668,     0.        ,\n",
        "            0.        ,     0.        ,     0.        ],\n",
        "       [ 4495.08288853,  4799.77982468,  4671.91533144,     0.        ,\n",
        "            0.        ,     0.        ,     0.        ],\n",
        "       [ 4523.63796335,  4777.32343589,  4770.65861603,     0.        ,\n",
        "            0.        ,     0.        ,     0.        ],\n",
        "       [ 4472.13433391,  4723.24151836,  4749.83455064,     0.        ,\n",
        "            0.        ,     0.        ,     0.        ]]),\n",
        "   5: array([[ 4540.00549876,  4723.09829545,  4831.26085469,  4721.74752545,\n",
        "            0.        ,     0.        ,     0.        ],\n",
        "       [ 4572.64472334,  4818.86863057,  4811.59738434,  4762.7557972 ,\n",
        "            0.        ,     0.        ,     0.        ],\n",
        "       [ 4549.95919395,  4803.5382423 ,  4779.16948918,     0.        ,\n",
        "            0.        ,     0.        ,     0.        ],\n",
        "       [ 4541.86650223,  4829.81186483,  4732.1180381 ,     0.        ,\n",
        "            0.        ,     0.        ,     0.        ],\n",
        "       [ 4567.25974743,  4796.02116928,  4825.68449983,     0.        ,\n",
        "            0.        ,     0.        ,     0.        ],\n",
        "       [ 4528.15592071,  4770.01884554,  4799.46887699,     0.        ,\n",
        "            0.        ,     0.        ,     0.        ]])},\n",
        "  'bouchard': {1: array([[  3.84156431e+32,   6.53118843e+34,   1.06328021e+36,\n",
        "          2.16032587e+36,   3.40593789e+36,   4.22971271e+36,\n",
        "          0.00000000e+00],\n",
        "       [  1.14606081e+32,   1.01569989e+35,   1.04487257e+36,\n",
        "          1.37992911e+36,   3.64204225e+36,   4.24341760e+36,\n",
        "          0.00000000e+00],\n",
        "       [  3.93023486e+32,   1.14366486e+35,   1.26060698e+36,\n",
        "          2.66022817e+36,   3.89353336e+36,   4.44357012e+36,\n",
        "          0.00000000e+00],\n",
        "       [  2.84818208e+31,   7.09738556e+34,   1.17349189e+36,\n",
        "          2.74590867e+36,   0.00000000e+00,   0.00000000e+00,\n",
        "          0.00000000e+00],\n",
        "       [  2.39186012e+32,   7.37425977e+34,   1.11828539e+36,\n",
        "          0.00000000e+00,   0.00000000e+00,   0.00000000e+00,\n",
        "          0.00000000e+00],\n",
        "       [  2.14965116e+32,   5.08649508e+34,   9.31351849e+35,\n",
        "          0.00000000e+00,   0.00000000e+00,   0.00000000e+00,\n",
        "          0.00000000e+00]]),\n",
        "   3: array([[  2.99281532e+32,   4.52095238e+34,   9.41315580e+35,\n",
        "          1.95966272e+36,   3.35515141e+36,   4.11536920e+36,\n",
        "          0.00000000e+00],\n",
        "       [  9.10316415e+31,   8.25397172e+34,   9.54676719e+35,\n",
        "          1.45118032e+36,   3.52003866e+36,   4.12600528e+36,\n",
        "          0.00000000e+00],\n",
        "       [  3.79461806e+32,   1.08588250e+35,   1.26169222e+36,\n",
        "          2.40946482e+36,   3.71722009e+36,   0.00000000e+00,\n",
        "          0.00000000e+00],\n",
        "       [  3.18720349e+31,   6.58419439e+34,   1.07544513e+36,\n",
        "          2.51878449e+36,   0.00000000e+00,   0.00000000e+00,\n",
        "          0.00000000e+00],\n",
        "       [  1.95044696e+32,   7.05196005e+34,   8.53121423e+35,\n",
        "          0.00000000e+00,   0.00000000e+00,   0.00000000e+00,\n",
        "          0.00000000e+00],\n",
        "       [  1.61361852e+32,   4.33433700e+34,   8.47587026e+34,\n",
        "          0.00000000e+00,   0.00000000e+00,   0.00000000e+00,\n",
        "          0.00000000e+00]]),\n",
        "   5: array([[  3.60414183e+32,   5.56033549e+34,   9.66113678e+35,\n",
        "          2.02350438e+36,   0.00000000e+00,   0.00000000e+00,\n",
        "          0.00000000e+00],\n",
        "       [  8.31982122e+31,   8.80056161e+34,   9.81975151e+35,\n",
        "          1.57177569e+36,   0.00000000e+00,   0.00000000e+00,\n",
        "          0.00000000e+00],\n",
        "       [  4.42925854e+32,   1.16290931e+35,   1.28052577e+36,\n",
        "          2.53798894e+36,   0.00000000e+00,   0.00000000e+00,\n",
        "          0.00000000e+00],\n",
        "       [  3.01980675e+31,   7.26387163e+34,   1.14267704e+36,\n",
        "          2.58472076e+36,   0.00000000e+00,   0.00000000e+00,\n",
        "          0.00000000e+00],\n",
        "       [  2.33573702e+32,   7.15661009e+34,   9.51972508e+35,\n",
        "          0.00000000e+00,   0.00000000e+00,   0.00000000e+00,\n",
        "          0.00000000e+00],\n",
        "       [  1.84289326e+32,   4.58927482e+34,   2.35623539e+35,\n",
        "          0.00000000e+00,   0.00000000e+00,   0.00000000e+00,\n",
        "          0.00000000e+00]])}}}"
       ]
      }
     ],
     "prompt_number": 69
    },
    {
     "cell_type": "code",
     "collapsed": false,
     "input": [
      "fig, ax = plt.subplots(figsize=(10,3))\n",
      "\n",
      "im = ax.imshow(perps['train']['bohning'][1], interpolation=\"none\")\n",
      "\n",
      "cb = fig.colorbar(im, ax=ax)\n",
      "ax.set_title(\"Perplexity Measured on First Five Train Folds\")\n",
      "ax.set_ylabel('Bound')\n",
      "ax.set_xlabel('Topic Counts')\n",
      "ax.get_xaxis().set_ticklabels([0] + topicCounts)\n",
      "ax.get_yaxis().set_ticklabels(['', bounds[0], '', bounds[1]])"
     ],
     "language": "python",
     "metadata": {},
     "outputs": [
      {
       "metadata": {},
       "output_type": "pyout",
       "prompt_number": 72,
       "text": [
        "[<matplotlib.text.Text at 0x10f19b390>,\n",
        " <matplotlib.text.Text at 0x10f194950>,\n",
        " <matplotlib.text.Text at 0x10f279a90>,\n",
        " <matplotlib.text.Text at 0x10f275250>]"
       ]
      },
      {
       "metadata": {},
       "output_type": "display_data",
       "png": "[encoded data removed]",
       "text": [
        "<matplotlib.figure.Figure at 0x10f091990>"
       ]
      }
     ],
     "prompt_number": 72
    },
    {
     "cell_type": "code",
     "collapsed": false,
     "input": [],
     "language": "python",
     "metadata": {},
     "outputs": []
    }
   ],
   "metadata": {}
  }
 ]
}