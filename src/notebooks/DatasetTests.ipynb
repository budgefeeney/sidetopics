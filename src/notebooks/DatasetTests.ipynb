{
 "metadata": {
  "name": ""
 },
 "nbformat": 3,
 "nbformat_minor": 0,
 "worksheets": [
  {
   "cells": [
    {
     "cell_type": "markdown",
     "metadata": {},
     "source": [
      "# Configuration"
     ]
    },
    {
     "cell_type": "code",
     "collapsed": false,
     "input": [
      "import sys\n",
      "\n",
      "path = \"/Users/bryanfeeney/Desktop/tweets-600\"\n",
      "codePath = \"/Users/bryanfeeney/Workspace/sidetopics/src\"\n",
      "reconstructSparse=False\n",
      "\n",
      "sys.path.append(codePath)\n",
      "%run /Users/bryanfeeney/Desktop/SmallerDB-NoCJK-WithFeats-Fixed/dicts.py"
     ],
     "language": "python",
     "metadata": {},
     "outputs": [],
     "prompt_number": 1
    },
    {
     "cell_type": "markdown",
     "metadata": {},
     "source": [
      "# Prelude"
     ]
    },
    {
     "cell_type": "code",
     "collapsed": false,
     "input": [
      "import numpy as np\n",
      "import numpy.random as rd\n",
      "import scipy as sp\n",
      "import scipy.linalg as la\n",
      "import scipy.sparse as ssp\n",
      "import scipy.sparse.linalg as sla\n",
      "import pickle as pkl\n",
      "import matplotlib.pyplot as plt\n",
      "import os\n",
      "%matplotlib inline\n",
      "\n",
      "import pickle as pkl\n",
      "import bottleneck\n",
      "\n"
     ],
     "language": "python",
     "metadata": {},
     "outputs": [],
     "prompt_number": 2
    },
    {
     "cell_type": "markdown",
     "metadata": {},
     "source": [
      "# Basic Data Analysis\n",
      "## Load the data\n",
      "Optionally we may reconstruct the sparse matrices from the individual dense numpy objects. These are then dumped back to disk, overwriting the old ones."
     ]
    },
    {
     "cell_type": "code",
     "collapsed": false,
     "input": [
      "if reconstructSparse:\n",
      "    W_data = np.load(path + \"/words-data.npy\")\n",
      "    W_ind  = np.load(path + \"/words-indices.npy\")\n",
      "    W_ptr  = np.load(path + \"/words-indptr.npy\")\n",
      "\n",
      "    X_data = np.load(path + \"/side-data.npy\")\n",
      "    X_ind  = np.load(path + \"/side-indices.npy\")\n",
      "    X_ptr  = np.load(path + \"/side-indptr.npy\")\n",
      "\n",
      "    W = ssp.csr_matrix((W_data, W_ind, W_ptr))\n",
      "    X = ssp.csr_matrix((X_data, X_ind, X_ptr))\n",
      "\n",
      "    with open(path + \"/words.pkl\", 'wb') as f:\n",
      "        pkl.dump(ssp.csr_matrix((W_data, W_ind, W_ptr)), f)\n",
      "\n",
      "    with open(path + \"/side.pkl\", 'wb') as f:\n",
      "        pkl.dump(ssp.csr_matrix((X_data, X_ind, X_ptr)), f)\n",
      "\n",
      "    (W.shape, X.shape)"
     ],
     "language": "python",
     "metadata": {},
     "outputs": [],
     "prompt_number": 3
    },
    {
     "cell_type": "code",
     "collapsed": false,
     "input": [
      "with open(path + \"/words.pkl\", 'rb') as f:\n",
      "    W = pkl.load(f)\n",
      "with open(path + \"/side.pkl\", 'rb') as f:\n",
      "    X = pkl.load(f)"
     ],
     "language": "python",
     "metadata": {},
     "outputs": [],
     "prompt_number": 4
    },
    {
     "cell_type": "markdown",
     "metadata": {},
     "source": [
      "##\u00a0Document Count and Length\n",
      "Document, feature and term counts. Total word-count. Distribution over document lengths."
     ]
    },
    {
     "cell_type": "code",
     "collapsed": false,
     "input": [
      "(D,T) = W.shape\n",
      "(D_check,F) = X.shape\n",
      "\n",
      "\n",
      "(D, D_check == D, T, F)"
     ],
     "language": "python",
     "metadata": {},
     "outputs": [
      {
       "metadata": {},
       "output_type": "pyout",
       "prompt_number": 5,
       "text": [
        "(587440, True, 82698, 425)"
       ]
      }
     ],
     "prompt_number": 5
    },
    {
     "cell_type": "code",
     "collapsed": false,
     "input": [
      "np.sum(W.data)"
     ],
     "language": "python",
     "metadata": {},
     "outputs": [
      {
       "metadata": {},
       "output_type": "pyout",
       "prompt_number": 6,
       "text": [
        "5692455"
       ]
      }
     ],
     "prompt_number": 6
    },
    {
     "cell_type": "code",
     "collapsed": false,
     "input": [
      "docLen = np.squeeze(np.asarray (W.sum(axis=1)))\n",
      "np.where(docLen < 1)"
     ],
     "language": "python",
     "metadata": {},
     "outputs": [
      {
       "metadata": {},
       "output_type": "pyout",
       "prompt_number": 7,
       "text": [
        "(array([], dtype=int64),)"
       ]
      }
     ],
     "prompt_number": 7
    },
    {
     "cell_type": "code",
     "collapsed": false,
     "input": [
      "fig, ax = plt.subplots()\n",
      "counts, bins, patches = ax.hist(docLen, bins=40, range=(0,40))\n",
      "ax.set_xlabel(\"Token Count\")\n",
      "ax.set_ylabel(\"Tweet Count\")\n",
      "pass"
     ],
     "language": "python",
     "metadata": {},
     "outputs": [
      {
       "metadata": {},
       "output_type": "display_data",
       "png": "[encoded data removed]",
       "text": [
        "<matplotlib.figure.Figure at 0x11619bc50>"
       ]
      }
     ],
     "prompt_number": 8
    },
    {
     "cell_type": "markdown",
     "metadata": {},
     "source": [
      "Note that tweets containing fewer than four tokens were not admitted to the dataset when preprocessing, which is why this graph starts at 4 and not 0 or 1"
     ]
    },
    {
     "cell_type": "markdown",
     "metadata": {},
     "source": [
      "## Word-Counts and Dictionary Sizes\n",
      "Total dictionary size, and dictionary size per token type"
     ]
    },
    {
     "cell_type": "code",
     "collapsed": false,
     "input": [
      "import itertools\n",
      "d = list(itertools.chain.from_iterable(words))\n",
      "len(d)"
     ],
     "language": "python",
     "metadata": {},
     "outputs": [
      {
       "metadata": {},
       "output_type": "pyout",
       "prompt_number": 9,
       "text": [
        "82699"
       ]
      }
     ],
     "prompt_number": 9
    },
    {
     "cell_type": "code",
     "collapsed": false,
     "input": [
      "dictNames = ['Addressee', 'URL', 'Text', 'Stock', 'Emoticon', 'Hashtag']\n",
      "dicts     = [ wordsUsername, wordsUrl, wordsToken, wordsStock, wordsEmoticon, wordsHashtag, ]\n",
      "dictLens  = dict (zip(dictNames, [len(w) for w in dicts]))\n",
      "dictLens"
     ],
     "language": "python",
     "metadata": {},
     "outputs": [
      {
       "metadata": {},
       "output_type": "pyout",
       "prompt_number": 10,
       "text": [
        "{'Addressee': 2899,\n",
        " 'Emoticon': 593,\n",
        " 'Hashtag': 13347,\n",
        " 'Stock': 454,\n",
        " 'Text': 63421,\n",
        " 'URL': 1985}"
       ]
      }
     ],
     "prompt_number": 10
    },
    {
     "cell_type": "markdown",
     "metadata": {},
     "source": [
      "For convenience later define the start and end of each token type, so we can slice the word matrix and just do inference, on for example, hashtags."
     ]
    },
    {
     "cell_type": "code",
     "collapsed": false,
     "input": [
      "dictStarts = dict()\n",
      "acc = 0\n",
      "for k in dictNames:\n",
      "    dictStarts[k] = acc\n",
      "    acc += dictLens[k]\n",
      "dictStarts\n",
      "    "
     ],
     "language": "python",
     "metadata": {},
     "outputs": [
      {
       "metadata": {},
       "output_type": "pyout",
       "prompt_number": 11,
       "text": [
        "{'Addressee': 0,\n",
        " 'Emoticon': 68759,\n",
        " 'Hashtag': 69352,\n",
        " 'Stock': 68305,\n",
        " 'Text': 4884,\n",
        " 'URL': 2899}"
       ]
      }
     ],
     "prompt_number": 11
    },
    {
     "cell_type": "code",
     "collapsed": false,
     "input": [
      "dictEnds = dict()\n",
      "for i in range(len(dictNames) - 1):\n",
      "    dictEnds[dictNames[i]] = dictStarts[dictNames[i + 1]]\n",
      "dictEnds[dictNames[-1]] = len(d)\n",
      "dictEnds"
     ],
     "language": "python",
     "metadata": {},
     "outputs": [
      {
       "metadata": {},
       "output_type": "pyout",
       "prompt_number": 12,
       "text": [
        "{'Addressee': 2899,\n",
        " 'Emoticon': 69352,\n",
        " 'Hashtag': 82699,\n",
        " 'Stock': 68759,\n",
        " 'Text': 68305,\n",
        " 'URL': 4884}"
       ]
      }
     ],
     "prompt_number": 12
    },
    {
     "cell_type": "markdown",
     "metadata": {},
     "source": [
      "###\u00a0Sanity check"
     ]
    },
    {
     "cell_type": "markdown",
     "metadata": {},
     "source": [
      "Just to verify that the words have been adequately extracted, we recreate a tweet from its vector representation using the dictionary. We already know that the first row in the document-term matrix $W$ corresponds to the first tweet from the ACLU account, which reads:\n",
      "\n",
      "> Sen. Lautenberg was a champion for religious liberty, women's rights & reproductive freedom. We will miss his voice & passion."
     ]
    },
    {
     "cell_type": "code",
     "collapsed": false,
     "input": [
      "[d[i] for i in W.indices[0:W.indptr[1]]]"
     ],
     "language": "python",
     "metadata": {},
     "outputs": [
      {
       "metadata": {},
       "output_type": "pyout",
       "prompt_number": 13,
       "text": [
        "['sen',\n",
        " 'passion',\n",
        " 'liberti',\n",
        " 'we',\n",
        " 'hi',\n",
        " 'women',\n",
        " 'voic',\n",
        " 'reproduct',\n",
        " 'champion',\n",
        " 'right',\n",
        " 'religi',\n",
        " 'miss',\n",
        " 'lautenberg',\n",
        " 'freedom']"
       ]
      }
     ],
     "prompt_number": 13
    },
    {
     "cell_type": "markdown",
     "metadata": {},
     "source": [
      "###\u00a0Minimum and Maximum Count of Each Class of Token"
     ]
    },
    {
     "cell_type": "code",
     "collapsed": false,
     "input": [
      "totalCount = np.squeeze(np.asarray (W.astype(np.int32).sum(axis=0)))\n",
      "\n",
      "totalCounts = dict()\n",
      "endExcl = 0\n",
      "for i in range(len(dicts)):\n",
      "    name = dictNames[i]\n",
      "    startIncl  = endExcl\n",
      "    endExcl   += len(dicts[i])\n",
      "    totalCounts[name] = totalCount[startIncl:endExcl]"
     ],
     "language": "python",
     "metadata": {},
     "outputs": [],
     "prompt_number": 14
    },
    {
     "cell_type": "code",
     "collapsed": false,
     "input": [
      "for k,v in totalCounts.items():\n",
      "    dict_k = dicts[dictNames.index(k)]\n",
      "    print (\"Min(%s): count = %d, token = %s\" % (k , v.min() if len(v) > 0 else -1, dict_k[v.argmin()] if len(v) > 0 else \"\"))"
     ],
     "language": "python",
     "metadata": {},
     "outputs": [
      {
       "output_type": "stream",
       "stream": "stdout",
       "text": [
        "Min(Hashtag): count = 0, token = #dfmchat\n",
        "Min(Addressee): count = 0, token = @biondino\n",
        "Min(URL): count = 0, token = http://www.youtube.com/watch?v=nYu6hfmVZk8\n",
        "Min(Stock): count = 0, token = $nq\n",
        "Min(Emoticon): count = 0, token = \u00a7\n",
        "Min(Text): count = 0, token = 3\n"
       ]
      }
     ],
     "prompt_number": 15
    },
    {
     "cell_type": "code",
     "collapsed": false,
     "input": [
      "for k,v in totalCounts.items():\n",
      "    dict_k = dicts[dictNames.index(k)]\n",
      "    print (\"Max(%s): count = %d, token = %s\" % (k , v.max() if len(v) > 0 else -1, dict_k[v.argmax()] if len(v) > 0 else \"\"))"
     ],
     "language": "python",
     "metadata": {},
     "outputs": [
      {
       "output_type": "stream",
       "stream": "stdout",
       "text": [
        "Max(Hashtag): count = 3734, token = #usopen\n",
        "Max(Addressee): count = 1716, token = @tumcarayol\n",
        "Max(URL): count = 459, token = http://dirtywars.org\n",
        "Max(Stock): count = 561, token = $aapl\n",
        "Max(Emoticon): count = 17361, token = :)\n",
        "Max(Text): count = 99240, token = you\n"
       ]
      }
     ],
     "prompt_number": 16
    },
    {
     "cell_type": "markdown",
     "metadata": {},
     "source": [
      "Note that the emoticon is actually a supplemental unicode character, which Python here has failed to display correctly."
     ]
    },
    {
     "cell_type": "markdown",
     "metadata": {},
     "source": [
      "### Graph of Token Frequency\n",
      "The following graph is slightly confusing - it counts how many words occur how many times, with occurrence count on the Y axis and unique word count on the X axis"
     ]
    },
    {
     "cell_type": "code",
     "collapsed": false,
     "input": [
      "figRows = len([l for l in dictLens.values() if l > 0])\n",
      "print (str(figRows))\n",
      "figCols = 1\n",
      "figIdPrefix = \"%d%d\" % (figRows, figCols)\n",
      "\n",
      "plt.figure(1, figsize=(8,12), dpi=100)\n",
      "for i in range(len(dictNames)):\n",
      "    if dictLens[dictNames[i]] == 0:\n",
      "        continue\n",
      "    plt.subplot(figIdPrefix + str(i))\n",
      "    name = dictNames[i]\n",
      "    plt.hist (totalCounts[name], bins=min(len(totalCounts[name]), 100))[2]\n",
      "    plt.title(name)\n",
      "\n",
      "plt.show()\n"
     ],
     "language": "python",
     "metadata": {},
     "outputs": [
      {
       "output_type": "stream",
       "stream": "stdout",
       "text": [
        "6\n"
       ]
      },
      {
       "metadata": {},
       "output_type": "display_data",
       "png": "[encoded data removed]",
       "text": [
        "<matplotlib.figure.Figure at 0x1161fe1d0>"
       ]
      }
     ],
     "prompt_number": 17
    },
    {
     "cell_type": "markdown",
     "metadata": {},
     "source": [
      "# Features\n"
     ]
    },
    {
     "cell_type": "code",
     "collapsed": false,
     "input": [
      "feats"
     ],
     "language": "python",
     "metadata": {},
     "outputs": [
      {
       "metadata": {},
       "output_type": "pyout",
       "prompt_number": 18,
       "text": [
        "{'author': 0, 'month_of_year': 420, 'week_of_year': 398}"
       ]
      }
     ],
     "prompt_number": 18
    },
    {
     "cell_type": "code",
     "collapsed": false,
     "input": [
      "len(users)"
     ],
     "language": "python",
     "metadata": {},
     "outputs": [
      {
       "metadata": {},
       "output_type": "pyout",
       "prompt_number": 19,
       "text": [
        "363"
       ]
      }
     ],
     "prompt_number": 19
    },
    {
     "cell_type": "code",
     "collapsed": false,
     "input": [
      "X_U = X[:,0:len(users)]\n",
      "X_W = X[:,feats['week_of_year']:feats['month_of_year']]\n",
      "X_M = X[:,feats['month_of_year']:X.shape[1]]"
     ],
     "language": "python",
     "metadata": {},
     "outputs": [],
     "prompt_number": 20
    },
    {
     "cell_type": "markdown",
     "metadata": {},
     "source": [
      "### Users\n",
      "We look at tweet rates per user. We also remove \"quiet\" users who've posted very few (less than 100) tweets. We examine the users who've posted very many tweets to ensure they're not bots."
     ]
    },
    {
     "cell_type": "code",
     "collapsed": false,
     "input": [
      "tweetCountsPerUser = np.squeeze(np.asarray (X_U.astype(np.int32).sum(axis=0)))"
     ],
     "language": "python",
     "metadata": {},
     "outputs": [],
     "prompt_number": 21
    },
    {
     "cell_type": "code",
     "collapsed": false,
     "input": [
      "tweetCountsPerUser.min(), tweetCountsPerUser.max()"
     ],
     "language": "python",
     "metadata": {},
     "outputs": [
      {
       "metadata": {},
       "output_type": "pyout",
       "prompt_number": 22,
       "text": [
        "(1, 20761)"
       ]
      }
     ],
     "prompt_number": 22
    },
    {
     "cell_type": "code",
     "collapsed": false,
     "input": [
      "quietUsers = np.where(tweetCountsPerUser < 100)[0]\n",
      "for qu in quietUsers:\n",
      "    print (users[qu])"
     ],
     "language": "python",
     "metadata": {},
     "outputs": [
      {
       "output_type": "stream",
       "stream": "stdout",
       "text": [
        "BobHerbert\n",
        "CarolynBMaloney\n",
        "DCAbortionFund\n",
        "FAPPA\n",
        "FamilyCircle\n",
        "FrankLautenberg\n",
        "HeyPP\n",
        "HiltonHollis\n",
        "Lizchadderdon\n",
        "MaxKaminCross\n",
        "NV_Advocates\n",
        "10yearBonds\n",
        "ATryphonides\n",
        "AkronsBobert\n",
        "Alan_Duerden\n",
        "AlphaVN\n",
        "AmbassadorRoos\n",
        "Ananicolaci\n",
        "AnastasiadesCY\n",
        "AndreaHotter\n",
        "Annika_Reuters\n",
        "AztecOptions\n",
        "BGIPfund\n",
        "BLNCruzer\n",
        "BUphamT\n",
        "BeingRegulated\n",
        "BigBlueTent\n",
        "BirchCreekCap\n",
        "2lovebeer\n",
        "Greatbigrobot\n",
        "ACLINews\n",
        "ActuallyJZ\n",
        "AlexisGelber\n",
        "AnitaSpadaro\n",
        "AskAkbar\n",
        "AdairsvilleRob\n",
        "AlexSkatell\n",
        "AmandaJoFreel\n",
        "AmbJohnBolton\n",
        "AmberMarchand\n",
        "AmeliaChasse\n",
        "AmericanXRoads\n",
        "Anderson33\n",
        "AustinGrandPrix\n",
        "Fake_Maldonado\n",
        "MP4_28Evil\n",
        "AAMIClassic\n"
       ]
      }
     ],
     "prompt_number": 23
    },
    {
     "cell_type": "code",
     "collapsed": false,
     "input": [
      "tweetCountsPerUser.mean(), tweetCountsPerUser.std()"
     ],
     "language": "python",
     "metadata": {},
     "outputs": [
      {
       "metadata": {},
       "output_type": "pyout",
       "prompt_number": 24,
       "text": [
        "(1618.2920110192838, 2609.9631891300423)"
       ]
      }
     ],
     "prompt_number": 24
    },
    {
     "cell_type": "code",
     "collapsed": false,
     "input": [
      "[np.percentile(tweetCountsPerUser, q) for q in [25, 50, 75]]"
     ],
     "language": "python",
     "metadata": {},
     "outputs": [
      {
       "metadata": {},
       "output_type": "pyout",
       "prompt_number": 25,
       "text": [
        "[209.0, 664.0, 1858.0]"
       ]
      }
     ],
     "prompt_number": 25
    },
    {
     "cell_type": "code",
     "collapsed": false,
     "input": [
      "lt = np.log(tweetCountsPerUser)\n",
      "np.exp(lt.mean()), np.exp(lt.std())"
     ],
     "language": "python",
     "metadata": {},
     "outputs": [
      {
       "metadata": {},
       "output_type": "pyout",
       "prompt_number": 26,
       "text": [
        "(584.40329442549671, 5.0947268713703897)"
       ]
      }
     ],
     "prompt_number": 26
    },
    {
     "cell_type": "code",
     "collapsed": false,
     "input": [
      "plt.hist(tweetCountsPerUser, bins=50, range=(0,5000))[2]\n",
      "plt.title(\"Tweet Counts per User\")\n",
      "plt.xlabel(\"Number of Tweets\")\n",
      "plt.ylabel(\"Number of Users\")"
     ],
     "language": "python",
     "metadata": {},
     "outputs": [
      {
       "metadata": {},
       "output_type": "pyout",
       "prompt_number": 27,
       "text": [
        "<matplotlib.text.Text at 0x1162a8590>"
       ]
      },
      {
       "metadata": {},
       "output_type": "display_data",
       "png": "[encoded data removed]",
       "text": [
        "<matplotlib.figure.Figure at 0x11620a5d0>"
       ]
      }
     ],
     "prompt_number": 27
    },
    {
     "cell_type": "code",
     "collapsed": false,
     "input": [
      "noisyUsers = np.where(tweetCountsPerUser > 5000)[0]\n",
      "for nu in noisyUsers:\n",
      "    print (users[nu])"
     ],
     "language": "python",
     "metadata": {},
     "outputs": [
      {
       "output_type": "stream",
       "stream": "stdout",
       "text": [
        "HuffPostPol\n",
        "Benzinga\n",
        "DirtyWars\n",
        "Gary_Bainbridge\n",
        "FGW\n",
        "CityJohn\n",
        "DoktorG\n",
        "FoodUrchin\n",
        "ASE\n",
        "BenRothenberg\n",
        "FortyDeuceTwits\n",
        "IamLewis4fake\n",
        "MaxGraham\n",
        "4AllSurfaces\n",
        "A_Gallivant\n",
        "Ataraxis00\n",
        "ChrisSkelton87\n",
        "GBtennis\n",
        "JLR78\n",
        "JayJarrahi\n",
        "Jonirja\n",
        "MindTheRacket\n",
        "MungoNGus\n",
        "Nic_Leigh\n",
        "RD_Tennistalk\n",
        "StephintheUS\n",
        "TheBoiledEgg\n",
        "TheGrandSlams\n"
       ]
      }
     ],
     "prompt_number": 28
    },
    {
     "cell_type": "markdown",
     "metadata": {},
     "source": [
      "All of these actually look legitimate - some are extremely prolific users (e.g. IamLewise4fake) some are businesses (HuffPostPol and Benzinga)"
     ]
    },
    {
     "cell_type": "markdown",
     "metadata": {},
     "source": [
      "So we next remove the quiet users (as inference can't reliably be performed on users with so few tweets)"
     ]
    },
    {
     "cell_type": "code",
     "collapsed": false,
     "input": [
      "quietUser = quietUsers[0]\n",
      "quietFilter = (X[:,quietUser] == 1).todense()\n",
      "for quietUser in quietUsers:\n",
      "    quietFilter |= (X[:,quietUser] == 1).todense()\n",
      "\n",
      "noisyFilter = ~quietFilter\n",
      "noisyFilter = np.squeeze(np.asarray(noisyFilter))\n",
      "\n",
      "X_noisy = X[noisyFilter,:]\n",
      "W_noisy = W[noisyFilter,:]\n",
      "\n",
      "print (\"Stripped {:n} rows\".format(X.shape[0] - X_noisy.shape[0]))\n"
     ],
     "language": "python",
     "metadata": {},
     "outputs": [
      {
       "output_type": "stream",
       "stream": "stdout",
       "text": [
        "Stripped 2172 rows\n"
       ]
      }
     ],
     "prompt_number": 29
    },
    {
     "cell_type": "code",
     "collapsed": false,
     "input": [
      "X = X_noisy\n",
      "W = W_noisy\n",
      "\n",
      "X_U = X[:,0:len(users)]\n",
      "X_W = X[:,feats['week_of_year']:feats['month_of_year']]\n",
      "X_M = X[:,feats['month_of_year']:X.shape[1]]\n",
      "\n",
      "D = W.shape[0]"
     ],
     "language": "python",
     "metadata": {},
     "outputs": [],
     "prompt_number": 55
    },
    {
     "cell_type": "code",
     "collapsed": false,
     "input": [
      "with open(path + \"/words-noisy.pkl\", 'wb') as f:\n",
      "    pkl.dump(W, f)\n",
      "with open(path + \"/side-noisy.pkl\", 'wb') as f:\n",
      "    pkl.dump(X, f)"
     ],
     "language": "python",
     "metadata": {},
     "outputs": [],
     "prompt_number": 56
    },
    {
     "cell_type": "code",
     "collapsed": false,
     "input": [
      "y_u = np.squeeze (np.asarray(np.argmax(X_U.todense(), axis=1)))\n",
      "len(y_u) == D"
     ],
     "language": "python",
     "metadata": {},
     "outputs": [
      {
       "metadata": {},
       "output_type": "pyout",
       "prompt_number": 57,
       "text": [
        "True"
       ]
      }
     ],
     "prompt_number": 57
    },
    {
     "cell_type": "markdown",
     "metadata": {},
     "source": [
      "###\u00a0Weeks"
     ]
    },
    {
     "cell_type": "code",
     "collapsed": false,
     "input": [
      "tweetCountsPerWeek = np.squeeze(np.asarray (X_W.astype(np.int32).sum(axis=0)))"
     ],
     "language": "python",
     "metadata": {},
     "outputs": [],
     "prompt_number": 58
    },
    {
     "cell_type": "code",
     "collapsed": false,
     "input": [
      "tweetCountsPerWeek.min(), tweetCountsPerWeek.max()"
     ],
     "language": "python",
     "metadata": {},
     "outputs": [
      {
       "metadata": {},
       "output_type": "pyout",
       "prompt_number": 59,
       "text": [
        "(13518, 31024)"
       ]
      }
     ],
     "prompt_number": 59
    },
    {
     "cell_type": "code",
     "collapsed": false,
     "input": [
      "tweetCountsPerWeek.mean(), tweetCountsPerWeek.std()"
     ],
     "language": "python",
     "metadata": {},
     "outputs": [
      {
       "metadata": {},
       "output_type": "pyout",
       "prompt_number": 60,
       "text": [
        "(26603.090909090908, 3941.4006729160142)"
       ]
      }
     ],
     "prompt_number": 60
    },
    {
     "cell_type": "code",
     "collapsed": false,
     "input": [
      "[np.percentile(tweetCountsPerWeek, q) for q in [25, 50, 75]]"
     ],
     "language": "python",
     "metadata": {},
     "outputs": [
      {
       "metadata": {},
       "output_type": "pyout",
       "prompt_number": 61,
       "text": [
        "[24055.0, 27201.5, 30000.25]"
       ]
      }
     ],
     "prompt_number": 61
    },
    {
     "cell_type": "code",
     "collapsed": false,
     "input": [
      "lt = np.log(tweetCountsPerWeek)\n",
      "np.exp(lt.mean()), np.exp(lt.std())"
     ],
     "language": "python",
     "metadata": {},
     "outputs": [
      {
       "metadata": {},
       "output_type": "pyout",
       "prompt_number": 62,
       "text": [
        "(26239.554588084782, 1.1933000598411712)"
       ]
      }
     ],
     "prompt_number": 62
    },
    {
     "cell_type": "code",
     "collapsed": false,
     "input": [
      "plt.plot(np.arange(0, len(tweetCountsPerWeek)), tweetCountsPerWeek, 'bo')\n",
      "plt.title(\"Tweet Counts per Week\")\n",
      "plt.ylabel(\"Number of Tweets\")\n",
      "plt.xlabel(\"Week\")\n",
      "plt.ylim(0, tweetCountsPerWeek.max()* 1.10)"
     ],
     "language": "python",
     "metadata": {},
     "outputs": [
      {
       "metadata": {},
       "output_type": "pyout",
       "prompt_number": 63,
       "text": [
        "(0, 34126.400000000001)"
       ]
      },
      {
       "metadata": {},
       "output_type": "display_data",
       "png": "[encoded data removed]",
       "text": [
        "<matplotlib.figure.Figure at 0x11efff290>"
       ]
      }
     ],
     "prompt_number": 63
    },
    {
     "cell_type": "code",
     "collapsed": false,
     "input": [
      "y_w = np.squeeze (np.asarray(np.argmax(X_W.todense(), axis=1)))\n",
      "len(y_w) == D"
     ],
     "language": "python",
     "metadata": {},
     "outputs": [
      {
       "metadata": {},
       "output_type": "pyout",
       "prompt_number": 64,
       "text": [
        "True"
       ]
      }
     ],
     "prompt_number": 64
    },
    {
     "cell_type": "markdown",
     "metadata": {},
     "source": [
      "###\u00a0Months"
     ]
    },
    {
     "cell_type": "code",
     "collapsed": false,
     "input": [
      "months = ['May', 'June', 'July', 'August', 'September', 'October']\n",
      "tweetCountsPerMonth = np.squeeze(np.asarray (X_M.astype(np.int32).sum(axis=0)))"
     ],
     "language": "python",
     "metadata": {},
     "outputs": [],
     "prompt_number": 65
    },
    {
     "cell_type": "code",
     "collapsed": false,
     "input": [
      "X_M"
     ],
     "language": "python",
     "metadata": {},
     "outputs": [
      {
       "metadata": {},
       "output_type": "pyout",
       "prompt_number": 66,
       "text": [
        "<585268x5 sparse matrix of type '<class 'numpy.int16'>'\n",
        "\twith 585268 stored elements in Compressed Sparse Row format>"
       ]
      }
     ],
     "prompt_number": 66
    },
    {
     "cell_type": "code",
     "collapsed": false,
     "input": [
      "tweetCountsPerMonth.min(), tweetCountsPerMonth.max()"
     ],
     "language": "python",
     "metadata": {},
     "outputs": [
      {
       "metadata": {},
       "output_type": "pyout",
       "prompt_number": 67,
       "text": [
        "(103853, 123703)"
       ]
      }
     ],
     "prompt_number": 67
    },
    {
     "cell_type": "code",
     "collapsed": false,
     "input": [
      "tweetCountsPerMonth.mean(), tweetCountsPerMonth.std()"
     ],
     "language": "python",
     "metadata": {},
     "outputs": [
      {
       "metadata": {},
       "output_type": "pyout",
       "prompt_number": 68,
       "text": [
        "(117053.60000000001, 7129.5101262288699)"
       ]
      }
     ],
     "prompt_number": 68
    },
    {
     "cell_type": "code",
     "collapsed": false,
     "input": [
      "[np.percentile(tweetCountsPerMonth, q) for q in [25, 50, 75]]"
     ],
     "language": "python",
     "metadata": {},
     "outputs": [
      {
       "metadata": {},
       "output_type": "pyout",
       "prompt_number": 69,
       "text": [
        "[115960.0, 119254.0, 122498.0]"
       ]
      }
     ],
     "prompt_number": 69
    },
    {
     "cell_type": "code",
     "collapsed": false,
     "input": [
      "lt = np.log(tweetCountsPerMonth)\n",
      "np.exp(lt.mean()), np.exp(lt.std())"
     ],
     "language": "python",
     "metadata": {},
     "outputs": [
      {
       "metadata": {},
       "output_type": "pyout",
       "prompt_number": 70,
       "text": [
        "(116826.64036713734, 1.0650406308968645)"
       ]
      }
     ],
     "prompt_number": 70
    },
    {
     "cell_type": "code",
     "collapsed": false,
     "input": [
      "x = np.arange(0, len(tweetCountsPerMonth))\n",
      "plt.plot(x, tweetCountsPerMonth, 'bo')\n",
      "plt.title(\"Tweet Counts per Month\")\n",
      "plt.ylabel(\"Number of Tweets\")\n",
      "plt.xticks(x, months)\n",
      "plt.ylim(0, tweetCountsPerMonth.max()* 1.10)"
     ],
     "language": "python",
     "metadata": {},
     "outputs": [
      {
       "metadata": {},
       "output_type": "pyout",
       "prompt_number": 71,
       "text": [
        "(0, 136073.30000000002)"
       ]
      },
      {
       "metadata": {},
       "output_type": "display_data",
       "png": "[encoded data removed]",
       "text": [
        "<matplotlib.figure.Figure at 0x11f264610>"
       ]
      }
     ],
     "prompt_number": 71
    },
    {
     "cell_type": "code",
     "collapsed": false,
     "input": [
      "\n",
      "y_m = np.squeeze (np.asarray(np.argmax(X_M.todense(), axis=1)))\n",
      "len(y_m) == D"
     ],
     "language": "python",
     "metadata": {},
     "outputs": [
      {
       "metadata": {},
       "output_type": "pyout",
       "prompt_number": 72,
       "text": [
        "True"
       ]
      }
     ],
     "prompt_number": 72
    },
    {
     "cell_type": "markdown",
     "metadata": {},
     "source": [
      "# Create the All in One Dataset to Help Testing\n",
      "Bundle the (cleaned) words, features and dictionary into a single pickled blob."
     ]
    },
    {
     "cell_type": "code",
     "collapsed": false,
     "input": [
      "if not os.path.exists(path + \"/all-in-one.pkl\"):\n",
      "    with open (path + \"/all-in-one.pkl\", \"wb\") as f:\n",
      "        pkl.dump ((W,X,d), f)"
     ],
     "language": "python",
     "metadata": {},
     "outputs": [],
     "prompt_number": 73
    },
    {
     "cell_type": "markdown",
     "metadata": {},
     "source": [
      "# Word and Feature Correlations"
     ]
    },
    {
     "cell_type": "code",
     "collapsed": false,
     "input": [
      "#from sklearn import svm, datasets\n",
      "from sklearn.linear_model import LogisticRegression\n",
      "from sklearn.metrics import roc_curve, auc\n",
      "from sklearn.cross_validation import StratifiedKFold\n",
      "\n",
      "from sklearn import cross_validation"
     ],
     "language": "python",
     "metadata": {},
     "outputs": [],
     "prompt_number": 74
    },
    {
     "cell_type": "code",
     "collapsed": false,
     "input": [
      "def cross_val_and_print_accuracy(classifier, inputs, outputs, n_folds=3):\n",
      "    '''\n",
      "    For binary and multi-class classifiers, does an n_fold \n",
      "    cross-validation and print out the accuracy of the classifer\n",
      "    and the accuracy of random\n",
      "    '''\n",
      "    skf = StratifiedKFold(outputs, n_folds=3)\n",
      "    scores = cross_validation.cross_val_score(classifier, inputs, outputs, cv=skf)\n",
      "    print(\"Classifier Accuracy: %0.2f (+/- %0.2f)\" % (scores.mean(), scores.std() * 2))\n",
      "    print(\"Random     Accuracy: %0.2f\" % (1.0 / (1 + np.max(outputs))))\n",
      "\n",
      "def cross_val_and_plot_roc(classifier, inputs, outputs, n_folds=3):\n",
      "    '''\n",
      "    For binary classifiers only, does an n_fold cross-validation\n",
      "    using the given instance of a classifier on the the inputs and\n",
      "    outputs and then plots the ROC curve and a line for a random\n",
      "    classifier.\n",
      "    '''\n",
      "    cv = StratifiedKFold(outputs, n_folds=n_folds)\n",
      "    \n",
      "    mean_tpr = 0.0\n",
      "    mean_fpr = np.linspace(0, 1, 100)\n",
      "    all_tpr = []\n",
      "    \n",
      "    for i, (train, test) in enumerate(cv):\n",
      "        probas_ = classifier.fit(inputs[train], outputs[train]).predict_proba(inputs[test])\n",
      "        \n",
      "        # Compute ROC curve and area the curve\n",
      "        fpr, tpr, thresholds = roc_curve(outputs[test], probas_[:, 1])\n",
      "        mean_tpr += interp(mean_fpr, fpr, tpr)\n",
      "        mean_tpr[0] = 0.0\n",
      "        roc_auc = auc(fpr, tpr)\n",
      "        \n",
      "        pl.plot(fpr, tpr, lw=1, label='ROC fold %d (area = %0.2f)' % (i, roc_auc))\n",
      "\n",
      "    pl.plot([0, 1], [0, 1], '--', color=(0.6, 0.6, 0.6), label='Luck')\n",
      "\n",
      "    mean_tpr /= len(cv)\n",
      "    mean_tpr[-1] = 1.0\n",
      "    mean_auc = auc(mean_fpr, mean_tpr)\n",
      "    pl.plot(mean_fpr, mean_tpr, 'k--',\n",
      "        label='Mean ROC (area = %0.2f)' % mean_auc, lw=2)\n",
      "\n",
      "    pl.xlim([-0.05, 1.05])\n",
      "    pl.ylim([-0.05, 1.05])\n",
      "    pl.xlabel('False Positive Rate')\n",
      "    pl.ylabel('True Positive Rate')\n",
      "    pl.title('Receiver operating characteristic example')\n",
      "    pl.legend(loc=\"lower right\")\n",
      "    pl.show()\n"
     ],
     "language": "python",
     "metadata": {},
     "outputs": [],
     "prompt_number": 75
    },
    {
     "cell_type": "markdown",
     "metadata": {},
     "source": [
      "## Predicting User from Tweets"
     ]
    },
    {
     "cell_type": "code",
     "collapsed": false,
     "input": [
      "reg = LogisticRegression()"
     ],
     "language": "python",
     "metadata": {},
     "outputs": [],
     "prompt_number": 76
    },
    {
     "cell_type": "code",
     "collapsed": false,
     "input": [
      "reg.fit (W.astype(np.float64), y_u)"
     ],
     "language": "python",
     "metadata": {},
     "outputs": [
      {
       "metadata": {},
       "output_type": "pyout",
       "prompt_number": 77,
       "text": [
        "LogisticRegression(C=1.0, class_weight=None, dual=False, fit_intercept=True,\n",
        "          intercept_scaling=1, penalty='l2', random_state=None, tol=0.0001)"
       ]
      }
     ],
     "prompt_number": 77
    },
    {
     "cell_type": "code",
     "collapsed": false,
     "input": [
      "for u in range(len(users)):\n",
      "    words = [d[i] for i in np.where(reg.coef_[u] > 2.5)[0]]\n",
      "    name  = users[u]\n",
      "    print (\"%s : %s\" % (name, str(words)))"
     ],
     "language": "python",
     "metadata": {},
     "outputs": [
      {
       "output_type": "stream",
       "stream": "stdout",
       "text": [
        "ACLU : ['@aclu', \"gov't\", 'aclu', 'innoc', '#sxsw', '#closegitmo', '#humanrights', '#discrimination', '#civilliberties', '#fbi', '#nsa', '#surveillance', '#equalpay', '#marijuana', '#privacy', '#drone', '#police', '#torture', '#deathpenalty', '#standwithncwomen', '#solitaryconfinement', '#fem2', '#doma', '#immigration', '#freespeech']\n",
        "AdvocatesTweets : ['@rhrealitycheck', 'millenni', 'icymi', '#lgbtq', '#beatriz', '#nn13', '#hiv', '#sexed', '#1in3', '#trans', '#ur2013']\n",
        "AnnRichardsPlay : ['ann', 'holland', 'taylor', '#annplay']\n",
        "AskDrRuth : ['sex', 'romant', 'orgasm', 'jamaica', 'bwai', 'wknd', 'peni']\n",
        "BabatundeUNFPA : ['#mdg5', '#mdg456live', '#endfgm', '#wd2013', '#icpd']\n",
        "Beyerstein : ['@yeselson', '@amandamarcotte', '@sophiaphotos', '@ppppolls', '@dsquareddigest', '@brokeymcpoverty', '@jamiekilstein', '@hugoschwyzer', '@sarahljaffe', '@drjanechi', 'hbc', 'sidnei', 'hillman', 'waffl', 'snowden', 'headshot', 'hummingbird', '#confessyourunpopularopinion', '#benghaziinfourwords', '#robford', '#paulasbestdishes', '#txlege', '#txleg']\n",
        "BobHerbert : ['@youtube', '#amc2013', '#reprojustice']\n",
        "CLPPtweets : ['@hollandtaylor', '#sb5', '#standwithtxwomen']\n",
        "CarolynBMaloney : ['nyc', 'nyer']\n",
        "CecileRichards : ['sequest', '#netde']\n",
        "ChrisCQuinn : ['ct', 'hangout', 'hartford', 'pancak', 'afghanistan', '#redsox']\n",
        "ChrisCoons : ['dealer', 'plain', 'ohio', 'cleveland', '#standwithwendy']\n",
        "ChrisMurphyCT : ['@ap', 'ap', '#gaymarriage', '#adoption', '#catholic', '#marijuana', '#children', '#women', '#abortion', '#sexualassault', '#religion', '#lgbt']\n",
        "ConnieSchultz : ['gov', 'dga', \"o'mallei\", 'corbett', 'republican', 'suppress', 'sequest', '#vagov']\n",
        "CraryAP : ['@morning_joe', '@nbcnightlynews', '@nbcnews', '@todayshow', 'fda', 'genom', 'terrif', 'medicin', '#dreamday', '#fortunempw']\n",
        "DCAbortionFund : ['thx', '#got', '#catchingfire', '#photobomb']\n",
        "DemGovs : ['@theleadcnn', '@hillaryclinton', 'cnn', '#cnn', '#moore']\n",
        "DrNancyNBCNEWS : ['divorc', 'entrepreneur', 'mentor', 'career', 'startup', 'women', 'leadership', 'negoti', 'lean', '#redefinepower']\n",
        "ElizabethBanks : ['unfpa', '#endchildmarriage', '#usa4women', '#familyplanning']\n",
        "ErinMcPike : ['rmc', '#antichoice', '#gop', '#healthcare', '#women', '#birthcontrol', '#contraception', '#abortion', '#prochoice', '#republican']\n",
        "FAPPA : ['minnesota', '#bettermn', '#mnleg', '#mdayton']\n",
        "FamilyCircle : ['fact', 'contracept', '#contraception', '#reprohealth', '#abortion', '#wd2013']\n",
        "ForbesWoman : ['http://healthcare.gov', 'marketplac', 'enrol', 'health']\n",
        "FrankLautenberg : ['@angryblacklady', '@meadowgirl', '@reignofapril', '@marthaplimpton', '@rachelsklar', '@lawrence', '@emilylhauser', '@katiecouric', '@cecilerichards', '@drjanechi', 'xo', '2.5', 'ann', 'yow', 'xox', 'tnx', 'matine', \"b'wai\", 'jeremiah', 'swell', 'cice', 'damb', 'nite', 'lawd', 'theatr', '#ann']\n",
        "FriendsofUNFPA : ['@dceiver', '@petesouza', '@samsteinhp', '@radleybalko', '@ryangrim', '@huffpostbiz', 'markei', 'jfk', 'jon', 'key', 'kkk', 'pentagon', 'pot', 'nra', 'ted', 'lewinski', 'maher', 'biden', 'congresswoman', 'atheist', 'gitmo', 'schumer', '3d-print', 'allegi', 'sequestration', 'gohmert', 'sequestr', 'arpaio', 'westboro', 'bachmann', 'suprem', 'eliot', '1913', 'reunit', 'barnei', 'signatur', 'wrongli', 'sanford', 'sotomayor', 'congressman', 'clinton', 'snowden', 'politician', 'marijuana', 'anti-obamacar', 'obama', 'chenei', 'bradlei', 'longform', 'guantanamo', 'dirtiest', 'kennedi', 'colbert', 'homeless', 'kermit', 'stamp', 'reassign', 'jay-z', 'newtown', 'veteran', 'koch', 'palin', 'lgbt', 'issa', 'huffpost', 'manning', 'weed', 'reportedli', 'anti-obama', 'lindsei', 'climat', 'lawmak', 'anti-gai', 'pastafarian', 'creationist', 'burglar', 'crist', 'elizabeth', 'secess', 'door-to-door', 'boehner', '#longreads', '#thirdmetric', '#navyyardshooting', '#prop8']\n",
        "GOPChoice : ['ipa', 'beatriz', 'unfpa', 'abort', 'aborto', '#wearedc', '#standwithdcwomen', '#hr1797', '#wdlive', '#sept28', '#rpcvchat', '#wd2013']\n",
        "GovMarkDayton : ['@yeselson', '@bencjacobs', '@morninggloria', '@sarahrodeo', '@angryblacklady', '@deblasionyc', '@jesseberney', '@rgay', '@irincarmon', '@chrislhayes', '@jamilsmith', '@zerlinamaxwell', '@lisamcintire', '@thenation', '@redlightvoices', '@tressiemcphd', '@thelindywest', '@buzzfeedandrew', '@esquiremag', '@jamiekilstein', '@annaholmes', '@arimelber', '@jbouie', '@katiepavlich', '@mattyglesias', '@mychalsmith', '@cschweitz', '@raniakhalek', '@silviakillings', '@shani_o', '@thegarance', '@thecut', '@daniparadis', '@joshtpm', '@prisonculture', '@drjanechi', '@laurenarankin', '@dylanmatt', '@anildash', 'xo', 'h/t', 'org', 'excerpt', 'misogynist', 'vacat', 'gchat', 'abstin', 'mansplain', 'femin', 'underworld', 'opt-out', 'pro-choic', 'anti-choic', 'feminist', 'toddler', 'patriarchi', 'cunt', 'nola', 'layla', 'hysterectomi', 'slutbag', 'potti', 'sexism', 'horrifi', '#fbrape']\n",
        "Guttmacher : ['dialogu', 'annan', '#democracy', '#kofiannanlive', '#youth']\n",
        "HealthCareGov : ['@washingtonpost', '@nytimes', '@npr', 'npr', 'brazilian', 'indigen', 'guacamol', 'mexican', 'hispan', 'undocu', 'latin', 'latino', 'latina', '#dream9', '#latism13', '#latino', '#latinospbs']\n",
        "HeyPP : ['#getcovered', '#aca', '#celebratenvrd', '#health', '#latinos', '#latina']\n",
        "HiltonHollis : ['@thenation', '@thereidreport', '@mhpshow', '@thereval', '@upwithsteve', '@maddow', 'nc', 'orlean', 'hubbi', 'hip-hop', 'potu', 'tulan', '#nola', '#maddow', '#nerdland', '#whodat', '#scandal', '#msnbc']\n",
        "HollandTaylor : ['mt', 'mem', 'member', 'worker', 'seiu', '#1u', '#aca', '#cir', '#fastfood', '#timeisnow', '#829strike', '#fairshot', '#mow2013']\n",
        "HuffPostPol : ['inspir', '#longreads']\n",
        "IpasOrg : ['@robinmarty', '@jessicavalenti', '@kencuccinelli', '@ilyseh', '@chucktodd', '@thinkprogress', 'cpc', 'sba', 'thx', 'abstinence-onli', 'contest', '#antichoice', '#reprorights', '#hb2', '#hr1797', '#standwithtxwomen', '#birthcontrol', '#gosnell', '#obamacareinthreewords', '#menforchoice', '#prochoice', '#standwithwendy', '#masen']\n",
        "JessicaValenti : ['@jonronson', '@ccriadoperez', '@salihughes', '@deborahjaneorr', '@dorianlynskey', '@judeinlondon', '@janinegibson', '@victoriapeckham', '@topshop', '@mitchbenn', '@adamwagner1', '@britishvogue', '@daaronovitch', '@indiaknight', '@camillalong', '@allyfogg', '@guardian', '@bbcnewsnight', '@caitlinmoran', '@kilburntowers', '@jonathanhaynes', '@helenlewis', '@stephenathome', '@archiebland', '@emilybell', '@sarahmillican75', '@hadleyfreeman', '@michaelhogan', '@commentisfree', '@robdelaney', '@louisemensch', '@holland_tom', '@tomchivers', '@mobute', '@everydaysexism', 'aww', 'shd', 'guardian', 'paragraph', 'guardian.co.uk', 'doubtless', 'arthur', 'dispirit', 'eloqu', 'literari', 'pulitz', 'edinburgh', 'latitud', 'chuf', 'henson', 'gaultier', 'sittenfeld', 'criticis', 'foyl', 'hadlei', 'tush', 'thong', 'koala', 'curti', 'backstreet']\n",
        "KofiAnnan : ['@thesimonevans', '@ledbetreuters', 'thx', 'absurdli', 'splendid']\n",
        "LatinoUSA : ['@yahoofinance', '@marketwatch', 'ub', 'boe', 'ipo', 'pmi', 'frack', 'foreclosur', 'pandora', 'gasolin', 'recess', 'analyst', 'pennei', 'buyout', 'dell', 'bell', 'djia', 'earn', 'jobless', 'inventori', 'stock', 'intel', 'treasuri', 'crude', 'dreamlin']\n",
        "Latinos4PP : ['msft']\n",
        "Lizchadderdon : ['@youtube', '31', 'denver', 'sponsor', 'colorado', '5280', 'boulder', 'vail', 'rave', 'bronco', '#co', '#denver', '#domesticviolence', '#colorado']\n",
        "MHarrisPerry : ['@pawelmorski', '@katie_martin_fx', '@barnejek', '@dsquareddigest', '@timmyconspiracy', 'bbg', 'jgb', 'ctd', 'ecb', 'mkt', 'zar', 'macro', 'chart']\n",
        "MaryKayHenry : ['@huffpostbooks', '@morningmoneyben', '@mattzeitlin', '@larrysabato', '@joe_hill', '@samknight1', '@obsoletedogma', '@tpcarney', '@rortybomb', '@ezraklein', '@alexisgoldstein', '@tonyfratto', '@danielstrauss4', '@m_c_klein', '@moorehn', '@mattyglesias', '@bcappelbaum', 'jpm', 'gse', 'occ', 'lew', 'hensarl', 'cordrai', 'banker', 'dimon', 'cfpb', 'bank', 'bair', 'fdic', 'fhfa', 'nook', 'bernank', 'warren', 'dodd-frank', '#regulatory13']"
       ]
      },
      {
       "output_type": "stream",
       "stream": "stdout",
       "text": [
        "\n",
        "MaxKaminCross : ['ap', 'mt', 'tip', 'stylebook', 'style', '#apstylechat']\n",
        "MoreMag : ['@jowyang', '$aapl', '$spy']\n",
        "NARAL : ['solut', '#fb']\n",
        "NV_Advocates : ['@lefthash', '@boes_', '@tradingpoints', '@davidschawel', '@nictrades', '@cnbc', '@raven_trader11', '@youtube', '@fadetrader', '@cr3dit', '@groditi', '@jeliasof', '@volatilitysmile', '@mark_dow', '@hooper_quant', '@marketplunger', '@thestalwart', '@jackhbarnes', '@bondskew', '@bondsandnotes', '@exantefactor', '@chigrl', '@kanyewest', '@ivanthek', '@bloombergnews', 'zb', 'metra', 'gap', 'cme', 'madigan', 'twatter', 'curv', 'spooz', 'dime', 'jay-z', 'trade', 'spoo', 'peep']\n",
        "HadleyFreeman : ['fund', 'hedg']\n",
        "benschott : ['kdp', 'reader', 'write', 'ebook', 'author', 'writer', '#quote', '#bea13', '#indiepub']\n",
        "10yearBonds : ['@justinwolfers', '@davidschawel', '@interfluidity', '@mileskimball', '@modeledbehavior', '@rortybomb', '@fullcarry', '@mattyglesias', '@noahpinion', 'asset', 'equilibrium', 'keynesian', 'krugman']\n",
        "247WallSt : ['@minefornothing', '@jmackin2', '@riotta', 'ft', 'b/c', 'geopolit', 'betw', 'voor', '#eu', '#g8', '#europe', '#china', '#fed', '#abe', '#eurozone', '#eurocrisis', '#yellen', '#assad', '#sequester', '#japan', '#merkel', '#berlusconi']\n",
        "4Tanguay : ['@cnnmoney', 'cpi', 'paulson', 'bernanke', 'esther', 'bernank', 'dudlei', 'volcker', '#jacksonhole']\n",
        "5280Magazine : ['imf', 'wsj', 'lyric', 'music', 'european', 'greec', 'greek']\n",
        "5_min_macro : ['@cate_long', '@munilass', '#muni', '#muniland', '#detroit', '#illinois']\n",
        "ABWashBureau : ['bab', 'sec', 'tax', 'fiduciari', 'detroit', 'issuer', 'bond', 'muni', 'msrb', 'municip', 'volcker']\n",
        "APStylebook : ['manag', 'affluent', 'banker', 'invest', 'millenni', 'retir', 'referr', 'mutual', 'advisor', 'bank', 'wealth', 'annuiti', 'client', '#advisors']\n",
        "ATryphonides : ['apr', 'statist', 'figur', 'averag', 'index', 'japan', 'paper', 'monetari']\n",
        "A_F : ['bz', 'q2', 'acquir', 'etf', 'cfo', 'primer', 'brent', 'barron', 'eisman', 'downgrad', 'meister', 'eurozon', 'euro', 'neutral', 'webinar', 'initi', 'benzinga', 'slideshow', 'upgrad', 'trader', 'announc', '$f', '$ba', '$fb', '$gm', '$pg', '$msft', '$nflx', '$lulu', '$orcl', '$dish', '$dell', '$csco', '$goog', '$grpn', '$aapl', '$bbry', '$amzn', '$jcp', '$hlf', '$gld', '$fed', '$dal', '$dis', '$cbs', '$mcd', '$nok', '$sne', '$spy', '$xhb', '$wfc', '$znga', '$yhoo', '$vvus', '$sbux', '$tsla', '#detroit']\n",
        "Aalliende : ['@keithmccullough', '@zerohedge', 'qtr', 'usdjpi', '$s', '$shld']\n",
        "AcrossTheCurve : ['ail', 'cnn', 'media', 'nbc', 'npr', 'nyt', 'zimmerman', 'huffington', 'greenwald', 'carnei', 'al-jazeera', 'jazeera', 'msnbc', 'benghazi', 'drudg', 'schieffer', 'breitbart', 'politico', 'journalist', 'weiner', 'newspap', 'wapo', 'attkisson', 'pier']\n",
        "AkronsBobert : ['@nictrades', '@jdportes', '@frances_coppola']\n",
        "Alan_Duerden : ['@the_analyst', '@stacyherbert', '@thestalwart', '@jkendrick']\n",
        "AlexAkesson : ['@om', '@kevinroose', '@mikeisaac', '@johnpaczkowski', '@alex', '@jennydeluxe', '@carney', '@nickbilton', '@carlquintanilla', '@jonathanwald', '@wsj', '@owenthomas', '@alexia', '@samir', '@dickc', '@samfbiddle', '@joshconstine', '@benedictevans', '@pkafka', '@moorehn', '@hunterwalk', '@techmeme', '@fmanjoo', '@danprimack', '@jyarow', '@mattlynley', '@refinery29', '@ryanlawler', '@karaswisher', 'fb', 'rt', 'dik', 'wsj', 'zynga', 'hyperloop', 'qwiki', 'donor', 'mattrick', 'buzzfe', 'bezo', 'kara', 'ustream', 'pincu', 'walt', 'tetri', 'yahoo', 'sticker', 'prob', 'ping', 'zuck', '#tcdisrupt', '#d11']\n",
        "AlphaVN : ['@tomwarren', '@markgurman', '@blam', '@cnet', '@reckless', '@tcarmody', '@parislemon', '@kickstarter', '@laura_june', 'e3', 'ax', 'albani', 'hah', 'engadget', 'proudli', 'wahei', 'liveblog', 'sadli', 'cnet', 'commiser', 'lavabit', 'rift', 'pooch', '#throughglass']\n",
        "AmazonKDP : ['@caseyliss', '@glennf', '@reneritchie', '@dmoren', '@danielpunkass', '@fromedome', '@reckless', '@gruber', '@schwa', '@counternotions', '@panzer', '@mike_ftw', '@mantia', '@verge', '@mrgan', '@asymco', 'ib', 'ru', 'bah', 'nerdi', 'terrif', 'napkin', 'shill', 'debug', 'amen', 'jerk', 'high-fiv', 'prism', 'perl', 'zing']\n",
        "AmbassadorRoos : ['@jeremyscahill', '@ali_gharib', '@attackerman', '@democracynow', '@citizenradio', '@onekade', '@dirtywars', '@caulkthewagon', '@ase', '@jamiekilstein', '@amnesty', 'http://dirtywars.org/contact', 'http://www.dirtywars.org', 'http://dirtywars.org', 'vod', 'tix', 'pakistan', 'satellit', 'berkelei', '30pm', 'scahil', 'dirti', 'theater', 'spread', 'film', 'word-of-mouth', 'thor', 'shay', 'yemen', 'livestream', 'showtim', 'jeremyscahill', '#dirtywars', '#s13', '#dronewars']\n",
        "Ananicolaci : ['@rollingstones', 'dvd', 'setlist', 'harmonica', 'monkei', 'strut', 'stone', 'mick', '#stoneshydepark', '#therollingstones', '#stones50', '#stonesglasto']\n",
        "AnastasiadesCY : ['@realjohngreen', '@labuzamovies', '@emilynussbaum', '@poniewozik', '@thelindywest', '@zhandlen', '@bdgrabinski', '@scotteweinberg', '@kumailn', '@devincf', '@edgarwright', 'problemat', 'psychologi', 're-watch', 'gandolfini', 'function', 'cinemat', 'filmmak', 'caveat', 'essai', 'workin', 'atcha', 'movi', 'gmail.com', 'hulk', 'tact', 'coher', 'themat']\n",
        "AndreaHotter : ['@jamiesont', '@chiller', '@mattleys', '@deborahjaneorr', '@stuarthoughton', '@princessmissdee', '@simonnricketts', '@kerihw', '@themichaelmoran', '@jnraeside', '@ianmartin', '@loveandgarbage', '@johnb78', '@thesimonevans', '@sturdyalex', '@gary_bainbridge', '@fionalaird', '@brokenbottleboy', '@katebielby', '@simonblackwell', '@rhodri', '@thecatsdaughter', '@bang2write', '@petepaphides', '@ellardent', '@lfbarfe', '@donna_gallers', '@sharongooner', '@blonde_m', '@benedictfarse', '@eatmyhalo', '@juliansimpson1', '@fiatpanda', '@shequeen', '@sarahpinborough', '@mjowen174', '@mooseallain', '@twitflup', '@alexadwilson', 'bu', 'jl', 'ita', 'huw', 'eno', 'nyx', 'auto-correct', 'liverpool', 'post-war', 'bouch', 'hatton', 'somebodi', 'somebody', 'column', 'shedload', 'dawkin', 'learnt', 'daredevil', 'paulin', 'elliott', 'tipperari', 'buse', 'aberdeen', 'mcgann', 'susan', 'iren', 'gita', 'titu', 'pimp', 'plug', 'warnock', 'kindl', 'sedari', 'audioboo', 'televis', '#thevoice', '#scd', '#xfactor', '#thewrightway', '#badstripclubnames', '#guardiancoffee', '#theapprentice', '#bbc4', '#bbc2', '#bbc1']\n",
        "AndyHarless : ['facebook', '00pm', 'half-pric', 'river', 'farmington', 'southwest', 'cajun', 'vanc', 'taproom', 'pizzeria']\n",
        "AndyLangenkamp : ['fawn', 'edgewat', 'brindl']\n",
        "AnnalynKurtz : ['ma', 'toronto', 'enjoi', 'domino', 'flavour', 'drink', 'transit', '#photo']\n",
        "Annika_Reuters : ['bbc', 'cnn', 'npr', 'wsj', 'dilbert', 'linkedin', 'washingtonpost', 'arstechnica', 'huffingtonpost', 'reuter', 'gizmodo', 'nytim', 'latim', 'foto', 'forb', 'wire', 'boingbo', '#chicago', '#twitter', '#nfl', '#mlb', '#music', '#beer']\n",
        "AristidesHatzis : ['sour']\n",
        "AztecOptions : ['ay', 'anarchi', 'canni']\n",
        "BChappatta : ['fritz', 'anchor', 'cheer', 'greet', '#sf', '#americascup', '#anchorsteam', '#raiseyouranchor', '#summer', '#sanfrancisco']\n",
        "BDAmerica : ['argu', '#chicago', '#cheers', '#ccbw', '#beer']\n",
        "BGIPfund : ['arran']\n",
        "BIConline : ['ben', 'bowl', 'dipa', 'stein', 'atla', 'apricot', 'homebrew', 'trivia', '#ccbw']\n",
        "BLNCruzer : ['yr', 'coc', 'beavi', 'mudhonei', 'shanti', 'zeke']\n",
        "BUphamT : ['ba', 'mainten', '$9.99', 'cheer', ';-)', '#boston', '#oktoberfest', '#california', '#portland', '#maine', '#craftbeer', '#acbf']\n",
        "Bank_of_Japan_e : ['@s_c_', '@bomani_jones', 'ca', 'jai', 'bavarian', 'rapper', \"y'all\", 'craftsman', 'vers', 'hip-hop', 'oakland', 'hella']\n",
        "BeingRegulated : ['ta', 'board', 'matt', 'postcod', '#beerbods']\n",
        "Benzinga : ['ny', 'rochest', '#ny', '#local', '#nyc', '#homebrew', '#craftbeer']\n",
        "BergenCapital : ['lifestyl', 'beerdiscipl', '\u25b8', '#beer', '#craftbeer']"
       ]
      },
      {
       "output_type": "stream",
       "stream": "stdout",
       "text": [
        "\n",
        "BigBlueTent : ['portland', 'station', 'belmont', \"o'clock\"]\n",
        "BigJournalism : ['@natedawg27', 'ay', 'bow', 'fab', 'whiski', 'edinburgh', 'belfast', 'rateb', 'lambic', 'bristl', '#ebbc13', '#jura50tt', '#beer']\n",
        "BirchCreekCap : ['saison', 'denver', 'scotch', 'yeast', 'gallon', 'barleywin']\n",
        "BlackRaven999 : ['welcom', 'germani', ':-)', '#championsleague']\n",
        "Blackhorse : ['ed', 'googl', 'booz', 'blue', 'graham']\n",
        "EvelynRusli : ['bluff', 'bluffer', 'bluf', 'guid', 'quiz', '#quiz', '#win']\n",
        "Tim_Stevens : ['denver', 'breckenridg', 'colorado', '23rd', 'hootenanni', 'cape', '#denver']\n",
        "gte : ['@brewdog', 'yea', 'camden', 'hardcor', 'deviant', 'manchest', 'missu', 'portug', 'brewdog', 'manc', 'wrestl', 'oskar']\n",
        "DirtyWars : ['b', 'pj', 'tavern', '#somerville']\n",
        "RollingStones : ['dm', 'buddi', 'yeast', '#scbeer', '#hunt4b85']\n",
        "FilmCritHULK : ['nhc', 'fart', '#homebrew']\n",
        "Gary_Bainbridge : ['bc', '161', 'cbu', 'pup', 'osu', 'ginger', 'dalton', 'cantillon', 'bradi', 'puppi', 'volleybal', 'amelia', 'buckey', 'untappd', 'makeout', 'crossfit', 'siberian', 'columbu', 'bengal', 'dane', 'bdai', 'ecard', 'jacki', 'josi', 'jealousi', 'cunti', 'crate', 'kickbal', '#bengals']\n",
        "2lovebeer : ['octoberfest', 'cece', 'durham', 'custom']\n",
        "3RiversBrewery : ['pub', 'owl', 'w/e', 'breed', 'ashton', 'butcomb', 'boul', 'epic', 'haka', 'grei', 'pint', 'bitter', ';p']\n",
        "4pawsbrewing : ['bri', 'yea', 'yai', 'freda', 'bluebird', 'gina', 'coniston', ':-)', ':-(', ':-d', ';-d', ';-)', '#perfect']\n",
        "AGonzalezAquino : ['premier', 'screen', '#atx', '#stl', '#craftbeer']\n",
        "AbbeyStMartin : ['aka', 'ill', 'emm', 'man', 'wee', 'rocker', 'chappi', 'cheer', 'rogu']\n",
        "AlmanacBeer : ['vid', 'pedal', 'song', '#daylightfordeadeyes', '#canadaday', '#toronto']\n",
        "AnarchyBrewCo : ['th', 'l.a', 'via', 'salari', 'teaser', 'colorado', 'review', 'hiatu']\n",
        "AnchorBrewing : ['dug', 'sir', 'brant', 'growler', 'hell', 'brewer']\n",
        "ArgusBrewery : ['due', 'florida', 'south', 'categori']\n",
        "ArranBrewery : ['@melissacole', 'rib', 'hannah', 'beaver', 'duke', 'meat', 'waiter', '\u2764', '#meat', '#yum']\n",
        "AtlasBrewing : ['@nytimes', '@mattyglesias', 'penros', 'geneva']\n",
        "BHB_brews : ['cc', 'rec', 'resto', 'okra', 'austin', 'pop-up']\n",
        "BeerAdvocate : ['jo', 'tj', 'paddington', '1/2', '2/2', 'fee', 'fgw', 'eli', 'dan', 'reg', 'log', 'max', 'heather', 'pullman', 'conductor', 'complaint', 'apologi', 'journei', 'overnight', 'somerset', '0700', 'carriag', 'firstgroup.com', 'disrupt', 'swindon', 'compens', 'parkwai', 'arran', 'delai', 'electrif', 'passeng', 'fare', 'railcard', 'staff', 'timet', 'lewi', 'john', 'jess', 'train', 'uncomfort', 'tara', 'toni', 'rout', 'olli', 'paul', 'servic', 'georgi']\n",
        "BeerAndSoulBlog : ['chardonnai', 'stomp', 'wine', 'texa', 'pinterest']\n",
        "BeerBods : ['@untappd', 'blond', 'brunett', 'fireman', 'redhead', 'extinguish', 'distributor', 'firefight', 'cheer', '#bbq', '#cheers', '#instagram']\n",
        "BeerUnion : ['fw', 'merkin', 'distribut', 'muahaha', 'finder', '#fwibf']\n",
        "Beer_Disciples : ['pop', 'gorgeou', 'bookshop', 'bedtim', 'chuf', '#inferno']\n",
        "Beer_Goddess : ['8pm', '2000', 'derbi', 'fresno', 'circu']\n",
        "BeersIveKnown : ['ns', 'nb', 'tk', 'retail', 'garrison', 'ragin', 'deet', 'cajun', 'halifax', 'cheer', 'ohhh', ';-)', '#nscraftbeer']\n",
        "Beertographer : ['ca', 'oc', 'metal', 'glenn', 'southpaw', 'grim', 'disneyland', '#sd', '#sdcc', '#fwibf', '#sandiego', '#boozebooks', '#realtalk', '#metal', '#follow', '#craftbeer']\n",
        "Bierschenke : ['locat', '$2.50', 'biersch']\n",
        "BlueBellHalkyn : ['4g', 'prepai', 'robbi', 'ireland', 'dugout', '#3benchguy', '#supportworks']\n",
        "BluffersGuide : ['@ccriadoperez', '@allancavanagh', '@nadiakamil', '@ireland', '@moansar', '@anniewestdotcom', '@caitlinmoran', 'shd', 'atheist', 'precis', 'comedi', 'belfast', 'ireland', 'comedian', 'irish', 'seanad', 'dublin', '#vinb', '#bbcsml', '#todaypk', '#10oclocklive', '#newsnight', '#eurovision']\n",
        "BreckBrew : ['pix', 'guidebook', 'bubbli', 'ahhh', 'cosmo', 'porn', 'hotel', 'honeymoon', 'vegetarian', '#panama', '#luxvox', '#jamaica']\n",
        "BrewDogBarDean : ['@markgsparrow', '1d', 'hamster', 'gta', 'dammit', 'ukulel', 'panason', 'howard', 'cardiff', 'thankyou', 'flamingo', 'nephew', 'guitar', 'donat', 'bath', 'bute', 'abba', 'lolz', 'howi', 'photoshoot', 'chord', 'hotti']\n",
        "BrewEngland : ['@felicityspector', '@asmakhancooks', '@gizzierskine', 'eek', 'matcha', 'nigerian', 'anti-ag', 'take-awai', 'moroccan', 'argan', 'morocco', 'marrakech', '#marrakech', '#morocco', '#iodac', '#fbc5']\n",
        "Brewery85 : ['ecuadorian', 'via', 'galapago', 'ecuador', 'eurovis', 'casa', 'maui', 'girona', 'cuenca', '#bloghouse', '#feelmorealive', '#incostabrava']\n",
        "BrianIsBeering : ['scotland', 'appli', 'stage', 'tesco', 'michel', 'bursari', '#saturdaykitchen', '#masterchef', '#bbcgfs', '#recipeoftheday', '#thechefsprotege', '#celebmasterchef', '#celebritymasterchef', '#gbbo']\n",
        "BubOhioBeer : ['@mashable', '@miconm', 'nh', 'sweeti', 'ascot', 'grandma', 'shall', 'digit', 'anonym', 'dulwich', 'blub', 'vile', 'weep', 'ohmygod']"
       ]
      },
      {
       "output_type": "stream",
       "stream": "stdout",
       "text": [
        "\n",
        "BullCityBurger : ['@damian_barr', '@natedawg27', 'ala', 'lunchtim', 'whirl', 'glasswar', 'pleasur', 'beer', 'splendid', '#europeday', '#bgcomp', '#gbbf']\n",
        "ButcombeBrewery : ['@dandoherty_', '@brokenbottleboy', '@razzbingo', '@hollowlegs', '@marinaoloughlin', '@donalde', 'mangal', 'normandi', 'ruddi', 'thankyou', 'glasto', 'iberico', 'tavern', 'innit', 'mate', 'peckham', 'opera', 'treacl']\n",
        "ConistonBrewCo : ['@foodurchin', '@scandilicious', '@bertinetkitchen', '@realbread', '@brockhallfarm', '@baxcooka', 'bon', 'ill', 'rum', 'madam', 'addict', 'provenc', 'diner', 'pastri', 'dough', 'crumpet', 'demo', 'bonn', 'bath', 'bake', 'tonit', 'prune', 'prob', 'crust', 'bertinet', '#bread', '#realbread', '#breadchat', '#pastry', '#gbbo', '#bath']\n",
        "CraftingANation : ['b4', 'iv', 'yr', 'marlow', 'marrow', 'cld', 'sow', 'ooo', 'veg', 'dahlia', 'geocach', 'gilli', 'supper', 'fleec', 'carpark', 'rhino', 'compost', 'savag', 'swarm', 'henlei', 'mite', 'peoni', 'landi', 'william', 'shed', 'grower', '#localfood', '#britishveg']\n",
        "CromartyBrewing : ['@hayles', 'mmm', 'bavarian', 'brava', 'directori', 'emili', 'balconi', 'kitten', 'bristol', 'cider', 'quiz', ';)', '#afc', '#belowtheline']\n",
        "DFDband : ['@revrichardcoles', '@sundaybrunchc4', 'asparagu', 'spear', 'galleri']\n",
        "DailyBeerNews : ['@socialmedia2day', 'c/o', 'workshop', 'brite', 'event', '0800', 'attende', 'eventbrit', '#eventprofs', '#smwldn']\n",
        "Dryhopchicago : ['sid', 'fryer', 'gamma', 'roddi', 'felix', 'stockist', 'caption', 'hurrah', 'richard', 'burt', 'guin', \"we'd\", 'soni', 'crisp', '#backtoschool', '#gbbo', '#didyouknow']\n",
        "DueSouthBrewing : ['@suttonnick', '@fleetstreetfox', 'pix', 'quest', 'venic', 'britannia', 'carniv', 'abseil', 'kamloop', 'legoland', 'concordia', 'norwegian', 'princess', 'etna', 'cabin', 'mirror', 'svalbard', 'ship', 'pisa', 'cruis', '#royalascot', '#bowie', '#norwegianbreakaway', '#apprentice', '#granddesigns', '#dragonsden', '#cruise', '#eagles', '#bafta', '#skyf1', '#educatingyorkshire', '#uclfinal', '#theapprentice', '#hignfy', '#eurovision2013', '#royalprincess', '#bbc4']\n",
        "DukesJoint : ['hq', 'pud', 'van', 'wkend', 'meringu', '#christmas', '#cartmel']\n",
        "EHobbz : ['@anntran_', '@mrsoaroundworld', 'bangkok', 'isabel', 'renov', 'sonia', 'layov', 'haze', 'singapor', ':-)', ';-)', '#lp', '#sghaze', '#skywire', '#dctraveltweetup', '#travel', '#traveltuesday', '#frifotos']\n",
        "EasyTigerATX : ['tu', 'week-end', 'merci', 'xxx', 'shoreditch', 'bordeaux', 'stylish', 'espresso', 'selfridg', 'southbank', 'embroid', 'tate', 'kickbox', 'turin', 'pop-up', 'trafalgar', '#nantes', '#shoreditch', '#christmas', '#london', '#art', '#car', '#seaside', '#champagne', '#berlin', '#smile', '#cocktail', '#brighton', '#restaurant', '#paris', '#foodie', '#turin', '#newtradition', '#love', '#afternoontea', '#book']\n",
        "FGW : ['@princessofvp', '@karmel80', '@pandamoanimum', '@hermanoprimero', '@obotheclown', '@jonathanhaynes', '@iamamro', '@medtek', '@razzbingo', '@karohemd', '@scotteweinberg', '@bengoldacre', '@ukhomeoffice', 'croydon', 'proceed', 'bah', 'gah', 'tit', 'matei', 'bollock', 'tosser', 'clapham', 'wimpi', 'bradford', 'balham', 'putnei', 'bellend', 'sisko', 'bastard', 'battersea', 'imax', 'wank', 'wanker']\n",
        "FallCreekWines : ['heineken', 'ireland', 'cork', 'echo', 'munster', 'lion', 'gardai', '#corkecho']\n",
        "FiremansBrew : ['design', 'playlist', 'creativ', 'exhibit', '#ldf13', '#design', '#pfw', '#nyc', '#lcm', '#lfw', '#fny13', '#venicebiennale', '#artbasel']\n",
        "FirestoneWalker : ['@dandoherty_', '@felicityspector', '@frontlinechef', '@hermanoprimero', '@cityjohn', '@12x75', '@thepubgeek', '@karohemd', '@waiyeehong', 'epl', 'edl', 'barclai', 'admittedli', 'nikon', 'flickr', 'gherkin', 'padstow', 'ledburi', 'berner', 'bedtim', 'dino', 'moon', 'nutter', 'grit', 'natwest', 'poker', 'auction', 'tripod']\n",
        "ForumBooks : ['@soilassociation', 'snaffl', 'foodi', 'supper', 'reckon', 'hungri', 'tuck', 'crumb', '#supperclub', '#bristol', '#competition', '#gfwawards', '#recipe']\n",
        "FullCircleBrews : ['@mashable', '@rickygervais', '@beathhigh', '@mcmoop', '@mailonline', '@caitlinmoran', '@piersmorgan', '@sundaybrunchc4', 'rectifi', 'scarecrow', 'mate', 'ikea', 'elleri', 'psfk', 'meantim', 'walken', '#motd', '#championsleague', '#thevoiceuk', '#drwho']\n",
        "GarrisonBrewing : ['@kavey', '@theribman', '@kerb_', '@ginandting', '@vinosity', '@marinaoloughlin', '@wilkes888', '@joshspero', 'er', 'c/o', 'rah', 'lea', 'banburi', 'astair', 'bleak', 'lucia', 'premiership', 'harrod', 'daylight', 'fuckwit', '15am', 'easyjet', 'sipsmith', 'innuendo', 'southcliff', 'mackerel', 'finchlei', 'majorca', 'koya', 'palli', 'funnili', 'hing', 'jardin', 'northern', 'overr', '#pacificrim']\n",
        "Goats_Udder : ['@fakedansavage', '@cmdr_hadfield', '@bbcr4today', '@mistressmatisse', '@bmagnanti', '@mitchbenn', '@stavvers', '@herring1967', '@itsjustahobby', '@doctorchristian', '@schrokit', '@ajhmurray', '@amandapalmer', '@lecanardnoir', '@laurenlaverne', '@robinince', '@tiernandouieb', '@maggie_mcneill', '@drlangtry_girl', '@pennyred', '@tkingdoll', 'ci', '5km', 'lucif', 'glitter', 'anchovi', 'carnag', 'highburi', '10km', 'edinburgh', 'spangl', 'ghastli', 'abel', 'fitbit', 'alic', 'biolog', 'quaf', ':-(', '#bbcqt', '#luther']\n",
        "Gordon_Biersch : ['@bourdain', '@questlove', 'hm', '8am', 'cronut', 'visit', 'bakeri', 'scalper', 'souffl', 'chef', 'nope', 'jenn', 'somedai', 'taiwanes', 'pre-ord', \"s'more\", '#cronut']\n",
        "3_News : ['london', 'stratford', 'bakeri', 'newham', 'ceremoni', 'east', 'villag', 'henri', 'pinterest', '#hackney', '#london', '#weekend']\n",
        "AbiePB : ['amy', 'ferran', 'culinari', 'cronut', 'barbecu', 'bourdain', 'gordon', 'mcdonald', 'listag', 'ramen', 'cookbook', 'chef', 'deen', 'eater', 'restaurateur', 'noma', 'paula', 'restaur', 'yelp']\n",
        "Amanda_Statham : ['fr', 'wk', 'bec', 'ist', 'h/t', 'sth', 'turkei', 'turkey', 'delish', 'georg', 'malaysia', 'thailand', 'turkish', 'taipei', 'taiwan', 'resto', 'malaysian', 'penang', 'wknd', 'istanbul', 'pple', 'cuisin', '#booze', '#photography', '#streetfood', '#istanbul']\n",
        "AmyDavies : ['@faerietalefoody', '@tweat_up', '@sabrinaghayour', '@miss_jordi', '@scandilicious', '@ginandcrumpets', '@thanecooks', '@chrispople', '@channel4news', '@eatlikeagirl', '@feelgd_foodbk', 'quark', 'lunchbreak', 'teetot', 'fabul', 'newsroom', 'ravioli', 'brum', 'mirabel', 'cheesecak', 'luiz', 'fortnum', 'browni', '#woolwich', '#c4news', '#greattasteawards']\n",
        "Arganic_UK : ['@finelychopped', '@hermanoprimero', '@bourdain', '@sathnam', '@asmakhancooks', '@eatlikeagirl', 'pl', 'tk', 'alu', 'aah', 'bombai', 'indigo', 'kolkata', 'kashmiri', 'ramzan', 'spaghetti', 'bangalor', 'bandra', 'macaron', 'delhi', 'bengal', 'mumbai', 'dada', 'bong', 'basa', 'biryani', 'parsi', 'ling', 'idli', 'fort', 'gung', 'calcutta', 'gurgaon', 'yeti', 'bengali', 'dadar', 'hindi', '#tvpchat', '#finelychoppedwalk']\n",
        "Ayngelina : ['@hayleycampbelly', '@mckelvie', 'coverup', 'edwardian', 'hotdog', 'tattoo', 'fleur', 'myspac', 'diari', 'vintag', 'catchup', '\u1f499', '#goodwoodrevival', '#lastfm']\n",
        "BBCGoodFoodShow : ['@wholefoods', '@instagram', 'provis', 'eggplant', 'cantaloup', 'hotlin', 'recip', 'scout', 'pesto', 'clara', 'tofu', 'jell-o', 'food52', \"s'more\", '#dinnertonight', '#meatlessmonday', '#diy', '#recipeoftheday', '#jbfa', '#genius']\n",
        "Bea_John : ['@pinterest', '@independent', '@waiyeehong', 'http://www.thefoodtravelcompany.com/diary.asp', 'xx', 'xxx', 'sicili', 'schnapp', 'cornwal', 'cumbria', 'contd', 'truffl', '#ff', '#florence', '#sweden', '#somerset', '#onthemenu', '#cornwall', '#cumbria', '#eggaward', '#cheese', '#fbc5', '#eggs', '#cookbook']\n",
        "Beergenie : ['@foodstories', '@gbchefs', '@r_mccormack', '@catlilycooks', '@timhayward', '@cityjohn', '@ginandting', '@misswhiplash', '@ginandcrumpets', '@gi_nav', '@vinosity', '@hollowlegs', '@shedlikesfood', '@hrwright', '@eatlikeagirl', '@metrouk', '@lukemackaycooks', '@donalde', '@goodshoeday', '@essexeating', '@52betty', '@meemalee', '@gizzierskine', '@edible_exp', '@jteramsden', '@waiyeehong', '@eatlovenoodles', 'fu', 'elderflow', 'aha', 'faf', 'meeja', 'turbot', 'brentwood', 'hereford', 'artichok', 'halloumi', 'essex', 'allot', 'rounder', 'elderberri', 'shite', 'shizz', 'devon', 'crumpet', 'seasick', 'feck', 'fack', 'fark', 'aldi', 'moro', 'lanki', 'iggi', 'gorn', 'tena', 'twin', 'quid', 'poxi', 'yoof', '#eatscandi', '#foodtube']\n",
        "Ben_Mulock : ['@vineapp', '@chrisbrogan', 'j', 'tw', 'sm', 'sa', 'gal', 'pep', 'yip', 'uhm', 'judgei', 'saigon', 'soonest', 'vietnam', 'cambodia', 'salon', 'kindli', 'cape', 'aaah', 'addi', 'lass', 'jozi', 'vine', 'durban', ';-p', ';-)', '\u1f609', '\u1f618', '\u1f633', '\u1f497', '#vine', '#capetown', '#travel', '#southafrica', '#lovecapetown', '#mymauritius', '#favthings', '#seetheworld', '#vietnam', '#food', '#howto', '#loop', '#vineapp', '#istanbul']\n",
        "BertinetKitchen : ['@12x75', 'gin', 'botan', 'hoorai', 'courtyard', 'infus', 'oooo', '#worldginday', '#gin']\n",
        "Bosleypatch : ['@misswhiplash', '@wilkes888', 'phwoar', 'rosett', 'borough', 'yorkshir', '25th', 'tamworth', 'tremend', 'butcheri', 'butcher', 'hacknei', 'gees', 'goos', '#cuts']\n",
        "BristolBites : ['@adammhyman', '@tweat_up', '@gracedent', '@frontlinechef', '@sophwilkinson', '@caitlinmoran', '@thomasblythe', '@thepubgeek', '@streetfeastldn', '@gizzierskine', 'xx', 'bub', 'pal', 'xxx', 'xxxxxx', 'ronni', 'ibiza', 'sista', 'kimchi', 'xxxxx', 'kitti', 'xxxx', ':-(', '\u1f498', '#ibiza']\n",
        "BritAsparagus : ['@newyorker', '@grist', '@flavorwire', '@mrsoaroundworld', '@antderosa', '@skift', '@dailydot', '@verge', 'ht', 'arkansa', 'yea', 'throne', 'ummmm', 'metric', 'storytel', 'ummmmm', 'ecuador', 'hostel', 'ahhhh', 'ahhhhh', 'berlin', 'bleh', 'kudo', 'lima', 'cigar', 'tbex', \"ya'll\", 'peru', 'girona', '\u25b6', '#longreads', '#tbex', '#bloghouse', '#archives', '#feelmorealive', '#luxvox', '#incostabrava', '#coloursofperu']\n",
        "BriteUK : ['shortlist', 'award', 'nomin', '#gfwawards']\n",
        "BurtsChips : ['@dandoherty_', '@adammhyman', '@cityjohn', '@brockhallfarm', 'xx', 'pug', 'cornwal', 'mykono', 'studio', 'easel', 'hehe', 'greec', 'ritz', 'cheltenham', 'paint', '\u1f609', '\u1f618']\n",
        "CaptGreybeard : ['mm', 'qb', 'kap', 'minicamp', 'touchdown', 'roman', '49er', 'candlestick', 'patton', 'harbaugh', 'gore', 'sack', 'kickoff', 'kaepernick', '#sfvssea', '#49ers', '#kickoff2013', '#camp49', '#nfltop100']\n",
        "CartmelSticky : ['@adamslisa', '@maureenjohnson', '@mkramer', '@elongreen', 'cancer']\n",
        "CharlesYap : ['@mehdirhasan', '@ali_gharib', '@rezaaslan', '@daliaezzat_', '@jaredbkeller', '@ariannahuff', '@acarvin', '@ajam', '@ajstream', '@hahellyer', '@huffpostlive', '@lsarsour', '@sarahcarr', '@elbaradei', '@ajamstream', '@ggreenwald', '@tomgara', '@huffingtonpost', '@zeynep', '@mmhastings', '@sladehv', '@emilylhauser', '@jilliancyork', '@nowthisnews', '@huffpostworld', '@drbassemyoussef', '@shadihamid', '@huffpostmedia', '@upwithsteve', '@sultanalqassemi', '@huffpostgay', '@huffpostpol', 'ht', 'crowdsourc', 'ahm', 'ish', 'sur', 'inshallah', 'physicist', 'huffington', 'turkey', 'friedman', 'shukran', 'palestinian', 'amman', 'farea', 'aspen', 'assaf', 'beirut', 'understat', 'baba', 'egypt', 'arab', 'mama', 'odai', 'kurd', 'arab-american', 'sisi', 'scaf', 'dictatori', 'lebanon', '\u266b', '#turkey', '#veterans', '#scaf', '#amtrak', '#israel', '#drones', '#michaelhastings', '#santorini', '#bangladesh', '#justsayin', '#twitter', '#kuwait', '#gay', '#trayvonmartin', '#cnn', '#wef', '#nyt', '#nsa', '#facebook', '#mlk', '#snowden', '#palestine', '#lebanon', '#tahrir', '#weiner', '#northkorea', '#marijuana', '#sweden', '#afghanistan', '#indonesia', '#franklinproject', '#saudi', '#syria', '#frontlinepbs', '#obama', '#zimmerman', '#jordan', '#occupygezi', '#brazil', '#egypt', '#aljazeera', '#russia', '#newzealand', '#rollingstone', '#guantanamo', '#morsi', '#gaza', '#google', '#yemen', '#iraq', '#iran', '#worldbrief', '#helenthomas', '#qatar']\n",
        "Chocoralie : ['@benjysarlin', '@brianbeutler', '@nickbaumann', '@emokidsloveme', '@bmaz', '@chrislhayes', '@emptywheel', '@jimmysky', '@adamweinstein', '@max_fisher', '@kdrum', '@aelkus', '@allthingshls', '@jbouie', '@bobcesca_go', '@geedee215', '@shani_o', '@kevinnr', '@jayrosen_nyu', '@motherjones', '@aseitzwald', '@msnbc', '@dcbigjohn', '@jeffreygoldberg', 'vra', 'frisk', 'mharrisperry', 'amash', 'scalia', 'wyden', 'finn', 'butler', 'comei', 'thoma', 'jewish']\n",
        "CityJohn : ['@justinwolfers', '@wyshynski', '@mattyglesias', 'damnit', 'coas']"
       ]
      },
      {
       "output_type": "stream",
       "stream": "stdout",
       "text": [
        "\n",
        "CorkEveningEcho : ['@united', '@damian_barr', 'dc', 'castro', 'jazeera', 'fisher', 'alan', 'bangladesh', '#5things', '#aje', '#oklahoma']\n",
        "CraneTV : ['@citibikenyc', 'cum', 'broadwai', 'macbeth', 'fals', 'honei']\n",
        "CriticalCouple : ['@pawelmorski', '@jonworth', '@nomfup', '@minefornothing', '@barnejek', '@lorcanrk', '@timmontgomerie', '@riotta', '@michaelhewson', 'u21', 'y/y', 'verdict', 'merkel', 'higuain', 'visualis', 'milan', 'rajoi', 'italy', 'itali', 'berlusconi', 'bulletin', 'lazio', 'juve', 'pirlo', 'klose', 'balotelli', '#greece', '#btw13', '#china', '#italy', '#portugal']\n",
        "CrumbsMag : ['@atotalmonet', '@alecmacgillis', '@elongreen', '@heminator', 'raven', 'blasio', 'drudg']\n",
        "DFergPR : ['@logandobson', 'cc', 'h/t', 'alabama', 'mobil', 'millenni', 'colbert', 'politico', 'buzzfe', 'auburn', '#alpolitics', '#al01']\n",
        "DineHard : ['@sai', '@jimmykimmel', 'kany', '#vmas', '#fwclassic', '#emmys']\n",
        "DoktorG : ['israel', 'secretari']\n",
        "DominiqueAnsel : ['@mollycrabapple', '@dellcam', '@nicolepowers', '@joerogan', 'psychedel', 'shroom', 'journalist', 'hacker', '#gitmo', '#nsafiles', '#syria']\n",
        "EastVillageLDN : ['@poynter', 'tampa', '#tedxpoynter', '#florida', '#twitterrevolution', '#tampa']\n",
        "Eater : ['@kencuccinelli', 'lonegan', 'akin', 'cuccinelli', '#vagovdebate']\n",
        "EatingAsia : ['@reason', '@swin24', '@garrettquinn', '@ag_conservative', '@jason_howerton', '@chris_moody', '@jamespoulos', '@toddkincannon', '@benshapiro', '@richardgrenell', '@noahcrothman', '@bennyjohnson', '@mediaite', '@redsteeze', '@becketadams', '@ewerickson', '@dorseyshaw', '@philipaklein', '@hunterschwarz', '@dmataconis', '@normative', 'ol', 'haz', 'megyn', 'wfb', 'malkin', 'bluth', 'uhhhh', 'goofi', 'friggin', 'kristol', 'hate-watch', 'cavuto', 'mockeri', 'librul', 'trollish', 'mesothelioma', 'nanni', 'bashir', 'overwrought', 'stossel', 'erickson', 'geraldo', 'concern-trol', 'mediait', 'neocon', 'conchord', 'gatsbi', 'breitbart', 'dyson', 'dylan', 'twitchi', 'beck', 'bruh', 'starn', 'anti-semit', 'koch', 'palin', 'kany', 'lulz', 'kilmead', 'hehe', 'gta5', 'greta', 'uhhh', 'libertarian', 'shep', 'partisan', 'watter', 'kendrick', 'pitchfork', '#vmas', '#war', '#snl', '#yeezus']\n",
        "FelicitySpector : ['@newshour', 'pb', 'newshour', '#newshourchats']\n",
        "Finelychopped : ['@frontlinepbs', '@kgosztola', '@carwinb', 'likewis', '#gitmo', '#manning']\n",
        "FleurDeGuerre : ['ky', 'bluegrass', 'haiku', 'creek', '#divergent']\n",
        "Food52 : ['@fortydeucetwits', '@tennisreporters', '237', 'no1', 'nyt', 'y.o', 'flyer', '100m', 'suburb', 'eurovis', 'gmail.com', 'azerbaijan', 'kastl', '#vmas', '#rg13', '#cincytennis', '#wimbledon', '#usopen', '#citiopen', '#eurovision', '#daviscup', '#halle']\n",
        "FoodTravelCo : ['@tammy', '@fishbowldc']\n",
        "FoodUrchin : ['@runofplay', '@4allsurfaces', '@tennisreporters', 'ix', 'b/c', 'uswnt', 'syd', 'leroux', 'golli', 'frickin', 'name-check', 'robbo', 'f-bomb', 'hannib', 'relearn', 'weirdli', 'carolin', 'tremend', \"y'all\", 'directtv', 'applebe', 'tenenbaum', 'sitch', 'errybodi', 'brum', 'socal', 'bojangl', 'jamie', 'augh', 'nwsl', 'lulz', 'carli', 'tobin', 'pippa', 'gosl', 'corgi', 'poot', 'thorn', 'hoodi', 'zomg', 'hermion', '#wtalive', '#haters', '#golf', '#baon']\n",
        "Foodandthefab : ['dca', 'scam', '#identitytheft', '#hackers', '#facebook', '#piracy', '#drugs', '#malware', '#online', '#internet', '#bitcoin', '#cybercrime']\n",
        "GinGarden : ['aca', 'regulatori', 'eakinom', 'regul', 'medicar', 'dish', 'thoma', 'daili', '#immigration']\n",
        "GingerPigLtd : ['@sentedcruz', 'afp', 'org', '#askobamahousing', '#makedclisten', '#stopcommoncore', '#dream13', '#farmbill', '#obamacare']\n",
        "GizziErskine : ['@sbisson', 'pc', 'amc', 'cupertino', 'salon', 'envi', '#oitnb', '#winchat']\n",
        "GoSeeWrite : ['@ahmalcolm', 'http://latimes.com', 'ty', 'pal', 'fallon', 'obamacare', 'bookmark', 'obama', 'clydesdal', 'andrew', 'screw', 'letterman', 'amer', 'leno', 'impt', 'conan', 'usatodai', '#tcot', '#nasa', '#cspan']\n",
        "Greatbigrobot : ['@mattklewis', '@aaronblakewp', '@ktumulty', '@chris_moody', '@ppppolls', '@daveweigel', '@johnekdahl', '@thefix', '@rickklein', 'fix', 'rnc', 'pac', 'booker', 'lerner', 'priebu', 'transcript', 're-tweet', 'aaron', 'spitzer', 'e-mail', 'filner', 'cruz', 'christi', 'weiner', 'grime', 'manchin', 'kerri', '#kysen']\n",
        "GuildFoodWriter : ['@talkmaster', '@ewerickson', '@katiepavlich', 'aaron', 'atlanta', '#tcot']\n",
        "Henriettagraham : []\n",
        "49ers : ['@talkmaster', '@ewerickson', '@jonahnro', '#tcot', '#tlot']\n",
        "ABeckr : ['@marcorubio', '@foxnews', 'mt', 'border', 'rubio', 'marcorubio']\n",
        "ACLINews : ['@thesmartchic', '@2morrowknight', 'biz', 'entrepreneur', 'cynthia', 'scottsdal', 'cheval', 'elev', 'twin', 'takeawai', '#biztip']\n",
        "ASE : ['@tedcruz', '@youtube', '@breitbartnews', '@catholiclisa', 'cscope', 'orphan', 'empow', 'confer', 'common', 'rigor', 'benson', 'core', 'educ', 'strau', 'texa', 'texan', 'prai', 'ratliff', '#txed', '#cscope', '#stopcommoncore', '#stand4life', '#txlege', '#commoncore', '#noamnesty', '#stopcscope']\n",
        "ActuallyJZ : ['@foxnews', '@barackobama', '@gretawire', 'potu']\n",
        "AdamSerwer : ['#wsbtv']\n",
        "AlAKleine : ['@freddoso', '@toddkincannon', '@jimmiebjr', '#skywire', '#sharknado', '#chs', '#sc1', '#nameobamasnewwar']\n",
        "AlanFisher : ['@nro', '@seanhannity', '@sentedcruz', '@hughhewitt', '@pjmedia_com', 'pal', 'moder', 'islam', 'jihad', 'hick', '#zimmerman', '#egypt', '#benghazi']\n",
        "Alancumming : ['@charlie_whiting', 'maddi', 'leaf', 'racetrack', '#leafs', '#indysaopaulo', '#detroitgp', '#nascar', '#indy500orbust', '#firestone550', '#indycar', '#indyfest', '#2into']\n",
        "AlbertoNardelli : ['@buzzfeeduk', '@fleetstreetfox', '@thepoke', '@bbctms', 'apa', 'throne', 'hadfield', 'boater', 'bratwurst', 'huzzah', 'wi-fi', 'tweetcast', 'cockwombl', 'murica', 'kingston', 'feck', \"this'll\", '#got', '#ashes', '#pisces', '#hampshire', '#cricket', '#nietzsche', '#ct13']\n",
        "AlexKoppelman : ['@charlie_whiting', 'cu', 'ce', 'nu', 'pe', 'sa', 'asa', 'cum', 'sau', 'seb', 'wtf', 'ugh', 'simona', 'beliv', 'lizzi', \"c'mon\", 'ohhhh', 'sebastian', 'deci', 'asta', 'kaka', 'jorg', '#vamos', '#whoa', '#germangp', '#rg13', '#mufc', '#motogp', '#wow', '#ugh', '#belgiangp', '#cincinnati', '#vamosrafa', '#moscow2013', '#couperogers', '#moto2', '#monza', '#bcn2013', '#hungariangp', '#monacogp', '#cmon']\n",
        "AlexSchriver : ['@garylineker', '@macchinaclub', 'iv', 'gym', 'tbh', 'pet', 'mag', 'yup', 'ydt', 'sunderland', 'defo', 'damm', 'mclaren', 'merc', 'leed', 'toon', '#f1chat']\n",
        "AlexisGelber : ['@marketmetv', '@drivin4pleasure', 'http://drivingforpleasure.co.uk', 'gro', 'nik', 'matei', 'shell', 'elan', 'mate', '#mercedes', '#lotus', '#ferrari', '#motogp', '#amg', '#ftype', '#senna']\n",
        "AlyWeisman : ['venezuela', 'gracia', 'viso']\n",
        "AmbShapiro : ['edd', 'dtm', 'pitlan', 'raikkonen', 'criticis', 'wtcc']"
       ]
      },
      {
       "output_type": "stream",
       "stream": "stdout",
       "text": [
        "\n",
        "AmberLyon : ['@bbcbreaking', '@mrnradio', '@just_ap', '@fiawec', '@willbuxton', '@british_airways', '@silverstoneuk', '#8', 'hun', 'brookland', 'tweep', ':-d', ';-d', '#motogp', '#fia', '#wsr', '#24lm', '#grandam', '#elms']\n",
        "Amber__McDonald : ['@fakevivian', '@fakefernando', 'awh', 'pedro', '#f1', '#eurovision2013']\n",
        "American_Bridge : ['@maxgraham', '@fakevivian', '@iamlewis4fake', 'seb', 'samurai', 'strictli', 'raquel', 'sweepstak', 'eyebrow', 'tamara', 'nando', 'sangria', 'felip', 'goodwood', 'chican', 'sheffield', 'paella', 'eurovis', 'lewi', 'vivi', 'chloe', 'prat', 'gunna', 'kamui', 'dasha', ';(', ';p', '#twittersilence', '#bottas', '#monaco', '#bbcf1', '#pointless', '#eurovision', '#f1films']\n",
        "AndrewKirell : ['@iamlewis4fake', '@charlie_whiting', '@lotus_f1team', '@silverstoneuk', 'sl', 'doc', 'shhhhh', 'aswel', 'ohhhhh', 'errr', 'alot', 'immens', 'errrrrrr', 'stow', 'hmmmm', 'headlight', 'ahhhhhh', '#f1', '#singapore', '#silverstone', '#steak']\n",
        "AnitaSpadaro : ['@fakefernando', '#f1', '#spa', '#alonso', '#canadiangp', '#monacogp', '#spanishgp']\n",
        "AnneBell : ['@robertlusetich', '@legsidelizzy', 'kp', 'westwood', 'bowler', 'merion', 'menorca', 'fergi', 'england', 'wentworth', 'tdai', 'oval', 'poult', 'zaha', '#mcfc', '#mufc', '#afc', '#cfc']\n",
        "ArunRath : ['gmt', '12.00', 'tweep', ':-)', ':-d', '#gp2']\n",
        "AshleyJudd : ['13.30', 'nurburgr', 'hehe', '#nospainnogain', '#gp3', '#monzamash', '#alleyesonus']\n",
        "AskAkbar : ['@chitrachandhok', '@karunchandhok', '@charlie_whiting', '@lotus_f1team', 'ger', 'steward', '\u00a335', '\u00a320,000', 'sauber', '\u00a325,000', 'tamara', 'goodwood', 'raffl', 'shunt', 'cycl', 'bild', 'jenson', 'twenti', 'a-level', \"o'clock\", 'prize', 'prix', 'cotswold', 'tweep', 'damon', '#bottas', '#skyf1', '#lm24']\n",
        "BenRothenberg : ['@youtube', '@fakevivian', '@telegraph', '@fakefernando', 'ff', 'jb', 'cal', 'rbr', 'soz', 'tbf', 'pdr', 'wdc', 'vex', 'tho', 'lewlew', 'boosh', 'frickin', 'wouldnt', 'havent', 'woohoo', 'tweetdeck', 'wasnt', 'didnt', 'dont', 'aint', 'checo', 'hadnt', 'werent', 'wtaf', 'jeeper', 'terri', 'couldnt', 'pmsl', 'tudor', ':-)', ':-(', ';-)', '#justsaying', '#bless', '#queens', '#corrie', '#topgear', '#tdf', '#lfc', '#england', '#facup', '#testgate', '#bbcf1', '#justwondering', '#f1films', '#lm24', '#chattyman', '#btcc']\n",
        "CeceliaJP : ['@nascaronfox', '@theorangecone', 'debri', 'caution', '#nascar']\n",
        "FortyDeuceTwits : ['vw', 'bmw', 'car', 'gmc', 'suv', 'ten', 'mitsubishi', 'mazda', 'horsepow', 'motorcycl', 'corvett', 'motorsport', 'delorean', 'cadillac', 'automot', 'jalopnik', 'detroit', 'volvo', 'mustang', 'viper', 'turismo', 'acura', 'datsun', 'wagon', 'volkswagen', 'porsch', 'bugatti', 'nissan', 'sedan', 'drift', 'traffic', 'subaru', 'fisker', 'fiat', 'hit-and-run', 'pontiac', 'jaguar', 'chevi', 'jeep', 'ford', 'tesla', 'supercar', 'saab', 'lamborghini', 'kinja', 'ferrari', 'diesel', 'burnout', 'truck', 'maserati']\n",
        "4SaferInternet : ['@mrnradio', 'kn', 'iv', 'im', 'gahhh', 'roomi', 'dreamland', 'sporti', 'charlott', 'arca', 'mimosa', 'iowa', 'phuck', 'kiddo', 'dafuq', 'broski', '\u1f60A', '\u1f60F', '\u1f62B', '\u1f623', '#lefturn', '#kneast', '#grandam', '#thebachelorette']\n",
        "AAF : ['@macchinaclub', '@willbuxton', '@charlie_whiting', 'f3', 'ay', 'shindig', 'gp3', 'wrc', 'wec', 'autosport', 'meanwhil', 'honest', 'acropoli', 'chap', 'anyhoo', 'nowt', 'lark', 'hahaa', \"y'know\", 'simpson', 'hawthorn', '#pikespeak', '#indy500orbust', '#dtm', '#wrc', '#wec', '#fiaf3', '#fiaerc', '#24lm', '#spa24h', '#6hsp', '#williams', '#wrclive']\n",
        "AFPhq : ['@kylebusch', '@jimmiejohnson', '@joeylogano', '@penskeracing', '@nascarcasm', '@dustinlong', '@theorangecone', '@txmotorspeedway', '@siriusxmnascar', '@jeffgordonweb', '@keselowski', '@cltmotorspdwy', '@charlie_whiting', '@ppistone', '2c', 'indy500', 'smh', 'tnt', 'wrecker', 'sanction', 'post-rac', 'frikkin', 'kanaan', 'ambros', 'enviou', 'amico', 'arlen', 'brickyard', 'kenseth', 'hubbi', 'checker', 'gobsmack', 'rhetor', 'sulia', 'kendra', 'five-tim', 'kurt', 'foyt', 'otoh', 'pocono', '#nascar', '#irony', '#repost', '#kidding']\n",
        "AFinnie : ['pamplona', 'frankfurt', 'munich', 'picasso', 'timmi', 'mega', 'jeal', 'dublin', '#mazdaroute3']\n",
        "AHMalcolm : ['brawn', '#f1']\n",
        "AaronBlakeWP : ['@politicsofamy', '@maxgraham', '@united', '@realdonaldtrump', '@mrozatheist', '@chrissyteigen', '33', 'dd', 'dj', 'rt', '333', 'gig', 'ddd', 'def', 'tomorrowland', 'looool', 'ottawa', 'promot', 'loool', 'hahahahah', 'beatport', 'supris', 'remix', 'djing', 'tracklist', 'hahahah', 'ableton', 'bali', 'diff', 'soundcloud', 'amsterdam', 'perth', 'lool', 'hahah', 'tranc', 'wack', 'hahaaa', 'promo', 'rebrand', 'loooool', '#cyclesradio']\n",
        "AaronMcCready : ['@indycar', 'buddi', 'mega', 'mate']\n",
        "Aarongorn : ['http://www.losminidrivers.com/p/minitv-online.html', 'gp', 'minidriv', 'pirelli', 'piloto', 'trabajar', 'chapter', '27th', 'motogp', 'pitstop', 'helmet', 'mini', 'comic', 'rush', 'minibik']\n",
        "AdairsvilleRob : ['@nascarcasm', '@racermag', '@ims', '@nbcsn', '@indycar', 'ev', 'wld', 'thankyou', 'hannah', 'dunk', 'pippa', 'gage', 'fontana', ';)', ':)', '\u263a', '\u1f601', '\u1f60A', '#justsayin', '#doh', '#tweetup', '#behindthescenes', '#indycar', '#indy500', '#rushmovie', '#beatcancer', '#indylights', '#thankyou', '#whatturn4', '#gpob', '#indy', '#teamcyclopsgear']\n",
        "AlanJSanders : ['@jearle', 'muslim', '#britishgp', '#eurovision2013', '#dambusters70', '#monacogp']\n",
        "AlexConant : ['@ryaneversley', '@jeff_gluck', '@nascarcasm', '@just_ap', '@rollingstone', 'dp', 'atl', 'gtc', 'naa', 'mma', 'ufc', 'thx', 'bahahaha', 'leman', 'daytona', 'amigo', 'badass', 'grandpa', 'jiujitsu', 'broseph', 'luge', 'lalli', 'vine', 'grand-am', 'civic', 'conti', 'hombr', 'hinch', '#respect', '#thefuture', '#nailedit']\n",
        "AlexSkatell : ['@fortydeucetwits', '@unseededlooming', '@hurley_llc', '@nadalnews', '@thesixthset', '@chrisskelton87', 'barti', 'rod', 'pam', 'ohh', 'marta', 'foward', 'sneaker', 'espn3', 'disapoint', 'intrest', 'gymnast', 'benito', 'apparatu', 'bart', 'stako', 'kyla', 'mckayla', 'jmac', 'haber', 'gool', 'pova', 'thier', '#narrative']\n",
        "AliBrown : ['@neilharmantimes', '@bbc5live', 'lta', 'robson', 'egghead', 'programm', 'terrif', 'wowsa', 'commentari']\n",
        "AliceLinahan : ['@max_fisher', '@huffingtonpost', '@pbs', '@janie5jones', '@slate', '@scandalabc', '@mzemek', '@tennisinsideout', '@breakpointsaved', '@michaelskolnik', '@edgeofsports', 'jt', 'usu', 'fanfic', 'chatter', 'fedfan', 'rafol', 'bodo', 'berd', 'duan', 'unpleas', 'frenchi', 'wimbli', \"ya'll\", 'tussl', '#venusvs']\n",
        "AllenWest : ['jp', 'rd', 'marinko', 'mitchel', 'berni', 'whittington', 'toowoomba', 'hanescu', 'duckworth', 'kyrgio', 'feenei', 'istomin', 'mate', 'cairn', 'groth', 'qual', '#nkrising', '#washington', '#protour', '#frenchopen', '#toronto', '#cairns', '#futures', '#tokyo', '#bangkok']\n",
        "AmandaCookWSB : ['@mindtheracket', '@tjc05', '@nadalnews', '@byjoefleming', 'h', 'po', 'jz', 'alrighti', 'bjk', 'heh', 'fer', 'stanisla', 'shriver', 'omgosh', 'watchespn', 'jerzi', 'woot', 'ohhh', 'grisha', 'alright', '#noshame']\n",
        "AmandaJoFreel : ['@scoobschris', '@robinhosking', '@a_gallivant', '@andy_murray', '@mungongus', '@embuddy', '@isis1122', '8yo', 'osu', 'slovak', 'stakh', 'muzz', 'ncaa', 'illinoi', '#illini']\n",
        "AmbJohnBolton : ['1\u00ba', 'em', 'um', 'com', 'rio', 'torcida', 'tem', 'quadra', 'agora', 'contra', 'jogar', 'salva', 'duplo', 'bola', 'erro', 'jogo', 'soar', 'para', 'match-point', 'venceu']\n",
        "AmberMarchand : ['@caropaquin80', '@ataraxis00', '@djokernole', '@usatoday', 'ap', 'afp', 'hah', 'gty', 'lolol', 'golli', 'getti', 'apiec', 'usat', 'usta', 'tiger', 'dandi']\n",
        "AmeliaChasse : ['@romicvitkovic', '@darrenrovell', '@4allsurfaces', '@neilharmantimes', '@thesixthset', '@rd_tennistalk', '@rolandgarros', 'pac', 'usc', 'preview', 'ahaha', 'rewind', 'non-major', 'oregon', 'kane']\n",
        "AmericanXRoads : ['@mls', 'fc', 'pk', 'nj', 'fwd', 'vanna', 'hawaii', 'chester', 'philli', 'brasil', 'philadelphia', 'soccer', 'kauai', '#mayday', '#np', '#phillies', '#justsaying', '#hawaii', '#uswnt', '#usmnt', '#nwsl', '#clfinal', '#philly', '#justsayin', '#kauai', '#epl', '#ucl', '#snf', '#smh', '#nba', '#nfl', '#nhl', '#mls', '#80s', '#followback', '#fightnight', '#flyers', '#eagles', '#throwbackthursday', '#usoc100', '#confedcup', '#mayweather', '#ravens', '#canmnt', '#goldcup', '#worldcup', '#mlsallstar', '#doop', '#doac', '#bplonnbc', '#jets']\n",
        "AmericasRight : ['@andy_murray', '@wimbledon', 'advanc', 'espnw', 'espn2', 'espn3', 'bryant', 'garber', '\u1f609', '#espntennis', '#manicmonday', '#mensfinal', '#espnwimbledon', '#rafanole35']\n",
        "Anderson33 : ['@serenawilliams', '@robinroberts', '@jonirja', 'veggi', 'booth', 'cardio', 'floral', '11th', 'protein', 'humm', 'eleven', 'plank', '#fashion', '#fitness', '#tennis', '#flashbackfriday', '#nutrition']\n",
        "AndrewCMcCarthy : ['@babblingbrat', '@jlr78', '@a_gallivant', 'bc', 'ur', 'yh', 'hah', 'ikr', 'ppl', 'edberg', 'gator', 'gotcha', 'altho', 'delpo', 'awww', 'lmao', 'tamil', 'extrem', 'ummm', 'riiiiiight', '#dexter', '#rafa', '#tdf', '#preakness', '#sleepyhollow', '#twitterrevolution', '#citiopen', '#gators', '#federer', '#espys', '#nbafinals', '#delpo']\n",
        "99forever : ['@hotdog6969', '@sammyb01', '@jayjarrahi', 'tie-break', 'mirka', 'gymnast', 'pella', 'nose', 'andujar', '#thevoiceuk', '#hahahaase', '#eurovision2013']\n",
        "AustinGrandPrix : ['@neilharmantimes', 'gb', 'ch', 'r1', 'wr', '10k', '25k', 'balli', 'bst', 'itf', 'hev', 'evo', 'fqr', 'ctd', 'qr2', 'qr1', 'oop', 'oli', 'lta', 'wim', 'forum', 'bet365', 'jonni', 'rubber', \"d'oh\", 'brit', 'kyle', 'joko', 'piti', ':-)', ';-)']\n",
        "Bix_Barton_SW6 : ['@caropaquin80', '@lenadunham', '@fitlen', '@stephintheus', '@flo_mikey', '@a_gallivant', '@tennisfanmark', 'idk', 'crissi', 'ooohhh', 'geesh', 'evergreen', 'tweetcast', 'bosnian', 'applebee', 'franni', 'bela', 'eleventi', 'catfish', 'shin', 'homeland', 'heheh', '\u2661', '#arias', '#darkgirls']\n",
        "Claudia05SV : ['@vh1', 'jelena', 'cupcak', '#hitthefloor']\n",
        "Dinalli : ['@babblingbrat', '@scoobschris', '@michalgradziel', '@winorloseiwin', '@racingpost', '@hotdog6969', '@ayshaqureshi', '@aaronh02056', '@t_achaar', '@scwta', '@fluffssays', 'mariah', 'fs', 'gs', 'wm', 'sb', 'yt', 'venezuela', 'barca', '365', 'ftr', 'tbf', 'psg', 'ncr', 'pre-match', 'unwel', 'luisa', 'lotta', 'urszula', 'zlatan', 'ekaterina', 'michaela', 'gabriel', 'elina', '14/1', 'tipster', 'natali', 'ledecki', '10/11', '10min', 'bookmak', 'nalbandian', 'falconi', 'dhoni', 'rothenberg', 'ladbrok', 'richardson', 'pacino', 'fede', 'overrul', 'acca', 'jenkin', 'lumb', 'castl', 'iirc', 'jmdp', 'fume', 'elisha', 'trader', 'coria', 'cowan', 'in-plai', 'atletico', 'cadantu', 'off-shor', '#giants', '#brutal']\n",
        "Drivin4Pleasure : ['@scoobschris', '@_harry91', '@tumcarayol', '@ovafanboy', '@sammyb01', '@ajdesasha', '@kirivechkin', '@embuddy', 'boleyn', 'martha', '111', 'mezzo', 'bby', 'sob', 'lbh', 'vip', 'fanbas', 'chantel', 'footwork', 'undevelop', 'misha', 'denis', 'christin', 'concubin', 'athletic', 'agil', 'flop', 'gurl', 'slut']\n",
        "EJVISO : ['journal', 'usopen']"
       ]
      },
      {
       "output_type": "stream",
       "stream": "stdout",
       "text": [
        "\n",
        "EliGP : ['md', '10k', 'arg', 'pau']\n",
        "EmBuxton : ['viejo', 'river', 'juega', 'dijo']\n",
        "FakeDelRosario : ['enhorabuena', 'jeje']\n",
        "FakeFernando : ['@ataraxis00', '@juanjo_sports', '@rwhittall', '@embuddy', 'yuuuuup', 'itv', 'pod', 'nbd', 'simona', 'frankli', 'klaxon', 'romanian', 'changeov', 'santoro', 'wooli', 'legitim', 'podcast', 'homi', 'sori', 'courier', 'sorana', ':p']\n",
        "FakeMedicalCar : ['@caropaquin80', '@misterpigz', '@catlovessports', '@flo_mikey', '@jonirja', '@embuddy', '@isis1122', 'gu', 'az', 'xo', 'baggi', 'a.m', 'o_o', 'mte', 'vit', 'frank', 'berdi', 'straighten', 'vasek', 'phoenix', 'stanlei', 'stanley', \"g'night\", \"g'morn\", 'mungo', 'sheesh', 'years-old', 'bahaha', 'richie', 'sammi', 'cont', 'cuti', 'flav', 'jaysu', 'jiri', 'gawd', 'plzen', 'coyot', 'warsaw', 'czech', 'xd', '#sorri', '#nontennis', '#random']\n",
        "FakeTomita : ['bat', 'jet', 'm.l', 'orb', 'met', 'penguin', 'bruin', 'brief', 'n.b.a', 'n.f.l', 'n.h.l', 'ranger', 'essai', 'replai', 'concuss', 'hernandez', 'basketbal', 'roundup', 'blackhawk', 'jockei', 'rutger', 'dribbl', 'dope', 'straight', 'golf', 'yacht', 'rail', 'slap', 'penn', 'basebal', 'soccer', 'knick', 'in-box', 'rodriguez', '#yankees']\n",
        "Fake_Maldonado : ['@benrothenberg', '@michaelroston', 'http://nytimes.com', 'lundqvist', 'ranger', 'colbert', 'emmi', 'nash', 'tort', '#vmas', '#madmen', '#game7', '#nyr', '#emmys', '#tonyawards', '#becauseitsthecup', '#gameofthrones']\n",
        "GARSIDEK : ['@runofplay', '@serb_it_out', '@youtube', '@catlovessports', '@djokernole', '@returnwinner', '@stanwawrinka', '@nprmonkeysee', 'k', 'oy', 'guh', 'eek', 'dtl', 'o.o', 'facepalm', 'uh-oh', 'lolol', 'kiersten', 'rotfl', 'lololol', 'elena', 'darlin', 'winni', 'colton', 'awwwww', 'hurrai', 'maestro', 'nighter', 'algebra', 'introvert', 'novak', 'squee', 'cain', 'eyerol', 'eric', 'drat', 'headdesk', 'knit', 'graham', 'whew', 'w00t', 'yeesh', 'yarn', 'girlio', 'tulsa', '<3', ':d', ';d', '#dt', '#oops']\n",
        "GP2_Official : ['@theboiledegg', 'iv', 'ix', 'ii', 'vi', 'iii', 'vii', 'carla', 'viii', ';-)']\n",
        "GP3_Official : ['kev', 'ggl', 'grandstand', 'mahut', 'sportscent', 'pistol', 'worldwid', 'kohlschreib', 'woodsh', 'moham', 'benoit', 'bromanc', 'scorelin', 'stako', 'haas', 'welp', 'somdev', '#legend', '#reusabletweet', '#merica', '#epic']\n",
        "GrandPrixDiary : ['@mindtheracket', '@misterpigz', '@quag27', 'li', 'ana', 'exo', 'pvr', 'zhang', 'vashi', 'dinah', 'magnific', 'kimiko', 'dima', 'milo', 'carlo', 'geni', 'cicak', 'beranki', 'peng', 'hsieh', '#rogerscup']\n",
        "IamLewis4fake : ['mt', 'th', 'cuz', 'uae', 'sandra', 'squash', 'djoko', 'samir', 'dubai', 'ahli', 'tmrw', '#madrid', '#uae', '#dubai']\n",
        "JacquesDebris : ['@rolandgarros', '#rg13', '#roadtorg']\n",
        "Jalopnik : ['@rd_tennistalk', '@chrisskelton87', '.1', 'yea', 'ohmygosh', 'photog', 'hahahah', 'hahah', '#loveit', '#rafa', '#lisicki', '#wow', '#dimitrov', '#murray', '#citiopen', '#curious', '#ofcourse', '#damn', '#yikes', '#ashe']\n",
        "Just_AP : ['@usopen', '@carole_bouchard', '@rogerfederer', '@mzemek', '@wimbledon', '@rosso_neri', 'ma', 'che', 'rog', 'non', 'cannot', 'muzza', 'prototyp', 'federer', 'ahah', 'meglio', 'geez', ':-d', ';-d', ';-)', '#federer']\n",
        "LeighOGorman : ['@sinow', '@richarddeitsch', 'btb', 'printout', 'mailbag', '#rg13', '#cincytennis', '#atp', '#wta', '#wimbledon', '#usopen', '#daviscup']\n",
        "LewisFranck : ['@ataraxis00', '@edshow', 'abt', 'fft', 'ufe', 'carpet', 'defeat', 'tennistv', 'eastern', 'cont', 'comm', 'gown', 'pome', 'pova', 'socket']\n",
        "LordHumphreys : ['@usopen', '@quag27', '@jlr78', 'marina', 'nz', 'fab', 'gee', 'vee', 'w/e', 'tamira', 'ticketmast', 'onsit', 'allright', 'cmon', \"f'in\", 'princeton', 'wtih', 'queu', 'eastbourn', '#newport', '#eastbourne', '#serena']\n",
        "MP4_28Evil : ['@breakpointsaved', 'robbo', 'ernie', 'hahahahahahahaha', 'ferru', 'usopen', 'berd', 'erni', 'puta', 'pico', 'grisha']\n",
        "MauriceHamilton : ['@tennisreporters', 'maliss', 'goffin', 'flipken', 'kirsten', 'xavier', 'wickmay']\n",
        "MaxGraham : ['mp', 'sp', 'def', 'masha', 'roger', 'lleyton', 'tatishvili', 'cmon', 'wawa', 'rofl']\n",
        "Mikeconway26 : ['mt', 'memphi', 'roundup', 'lebron', 'birdman', 'melo']\n",
        "OfficialMinis : ['@jayjarrahi', '@bbcsport', '@btsport', 'http://fllwrs.com', 'tf', 'qv', 'pt', 'ccc', 'pav', 'manur', 'brito', 'brill', 'edgbaston', 'djoker', 'harman', 'tahiti', 'doesnt', 'yelena', 'wasnt', 'shouldnt', 'arent', 'muppet', 'kvitti', 'paszek', 'tsurenko', 'hercog', 'cant', 'alot', 'kiri', 'isnt', 'hopeless', 'hasnt', 'tourn', 'wont', 'tmrw', 'sori', 'couldnt', 'scum', 'kooki', 'svitolina', 'vaughan', 'davydenko', '#rolandgarros', '#facepalm', '#euro2013', '#yikes']\n",
        "PippaMann : ['gl', 'ck', 'nt', 'hl', 'thy', 'snatch', 'libra', 'fuckeri', 'miley', 'thirsti', 'highlight', 'britnei', 'britney', 'werk', 'stfu', 'fookin', 'jehovah', 'kaman', '#oh', '#cbb', '#sob', '#lol', '#xfactor', '#thevoiceuk', '#dead', '#bbuk']\n",
        "RacingLight : ['@_harry91', '@anna_tennisfan', 'ni', 'loi', 'mam', 'upc', 'tg4', 'gillen', 'saoirs', 'alicia', 'garai', 'riverd', 'villa', 'setanta', 'goodread', 'snowmen', 'sandcastl', 'doodl', 'cavil', 'cypru', '#lions', '#gaa', '#rtept', '#thevillage', '#pointless', '#educatingyorkshire', '#thefall', '#eurovision', '#bcn2013', '#downton', '#grahamnorton', '#avfc', '#ireland']\n",
        "RyanEversley : ['@michaelianblack', '@jonahkeri', 'cum', 'std', 'pussi', 'magician', 'sketch', 'jort', 'toot', 'horni', 'roommat']\n",
        "4AllSurfaces : ['@ohheygreat', '@caseyliss', '@glennf', '@parislemon', '@mike_ftw', '@lexfri', '@mrgan', 'merlin', 'fergu', 'exam', ':p', ';p', 'xp', 'xd']\n",
        "5livetennis : ['@jsnell', '@dmoren', '@dloehr', '@fmanjoo', '@jdalrymple', '@sfgiants', '101', 'breen', 'regrett', 'iphoto', 'directv', 'roku', '#sfgiants']\n",
        "AAMIClassic : ['@mantia', 'php', 'disneyland', 'exclud']\n",
        "A_Gallivant : ['gui', 'lookin', 'camaro', 'gotta', 'carnal', 'crap', 'dave', 'bout', 'babe', 'karl', 'tooth', 'homeown', 'thousand']\n",
        "Adamdbain : ['@esquiremag', 'ala', 'cocktail', 'punch', 'nola', 'brooklyn']\n",
        "Ataraxis00 : ['@circa', 'cc', 'sf', 'iaa', 'distil', 'ireland', 'geek', 'dublin']\n",
        "BadToss : ['@deadspin', '@richeisen', 'fenwai', 'nyi', 'nix', 'tex', 'cashman', 'cervelli', 'triple-a', 'bronx', 'sarcasm', 'sabathia', 'logan', 'ninth', 'romin', 'rivera', 'two-run', 'lineup', 'robertson', 'kuroda', 'longoria', 'girardi', 'ichiro', 'teixeira', 'ballgam', 'jeter', 'claiborn', 'cano', 'overbai', 'kellei', 'sterl', 'nuno', 'nova', 'a-rod', 'phelp', 'huff', 'hugh', 'joba', 'gardner', 'pettitt', 'tarp', 'ovat', 'granderson', 'daili']\n",
        "BreakPointBR : ['@thedissolve', '@nytimes', '@ibogost', 'hm', 'hellboi', 'dune', 'kubrick', ':|']\n",
        "ByJoeFleming : ['wildwood', 'a.m', 'camden', 'motorcycl', 'witch', 'philli', 'jersei', 'vick', 'sabbath', 'reno']\n",
        "ChrisSkelton87 : ['eugen', 'redey']\n",
        "DjFlowe : ['@espn', '@hodgman', 'bub', 'mlb', 'sportscast', 'espn2', 'goober', 'sunset', '1979', 'felicia', 'espnew', 'avatar', 'internship', 'sonni', 'mccartnei', '#mets', '#nats', '#asg', '#yankees', '#arod']\n",
        "ESPNTennis : ['1.3', 'pdf', 'snippet', 'screencast', 'iwork', 'paperless', 'hazel', 'grin']\n",
        "EleVenbyVenus : ['sacramento', 'macaron', 'playlist', 'classi', 'vita', 'rdio', '#e3', '#vscocam']\n",
        "FitLen : ['nz', 'syd', 'retard', 'abysm', 'wellington', 'westpac', 'brownle', 'flatmat', 'auckland', 'chch', 'aftershock', 'inexpens', 'wiki', 'quak', 'xero', '#wwdc', '#nowplaying', '#eqnz']\n",
        "G2H_95 : ['@michaelianblack', '@mattbors', '@rickygervais', '@hodgman', '@jaketapper', '@boingboing', '@realdonaldtrump', '@mlb', '@doctorow', '@uberfacts', '@pattonoswalt', 'cartoonist', 'hive', 'comic', 'gweek', '#mets']\n",
        "GBtennis : ['@netflix', 'marlei', 'bluth', 'netflix', 'bookstor', 'whoah', 'skitch', 'bristl']\n",
        "JLR78 : ['bgr', 'evo', 'rs6', 'oak', 'tpg', 'lumia', 'prodig', 'martini', 'engadget', 'nokia', 'luxuri', 'dial', 'strap', 'amen', 'amex', 'audi', 'watchmak']\n",
        "JamesLaRosa : ['@aral', '@tomcoates', '@ukhomeoffice', 'ux', 'presum', 'instanc', 'speaker', 'boulder', 'brighton', 'apprentic', 'senior', 'solder']\n",
        "JayJarrahi : ['@ohheygreat', '@glennf', '@inthefade', '@waxpancake', '@gte', '@mike_ftw', '@mantia', '@mrgan', '@anildash', 'banjo', 'aha', 'pun', 'mba', 'uh-oh', 'neven', 'tendon', 'push-up', 'dang', 'oliv', 'descent']"
       ]
      },
      {
       "ename": "IndexError",
       "evalue": "index 316 is out of bounds for axis 0 with size 316",
       "output_type": "pyerr",
       "traceback": [
        "\u001b[0;31m---------------------------------------------------------------------------\u001b[0m\n\u001b[0;31mIndexError\u001b[0m                                Traceback (most recent call last)",
        "\u001b[0;32m<ipython-input-78-0fde7affefa9>\u001b[0m in \u001b[0;36m<module>\u001b[0;34m()\u001b[0m\n\u001b[1;32m      1\u001b[0m \u001b[0;32mfor\u001b[0m \u001b[0mu\u001b[0m \u001b[0;32min\u001b[0m \u001b[0mrange\u001b[0m\u001b[0;34m(\u001b[0m\u001b[0mlen\u001b[0m\u001b[0;34m(\u001b[0m\u001b[0musers\u001b[0m\u001b[0;34m)\u001b[0m\u001b[0;34m)\u001b[0m\u001b[0;34m:\u001b[0m\u001b[0;34m\u001b[0m\u001b[0m\n\u001b[0;32m----> 2\u001b[0;31m     \u001b[0mwords\u001b[0m \u001b[0;34m=\u001b[0m \u001b[0;34m[\u001b[0m\u001b[0md\u001b[0m\u001b[0;34m[\u001b[0m\u001b[0mi\u001b[0m\u001b[0;34m]\u001b[0m \u001b[0;32mfor\u001b[0m \u001b[0mi\u001b[0m \u001b[0;32min\u001b[0m \u001b[0mnp\u001b[0m\u001b[0;34m.\u001b[0m\u001b[0mwhere\u001b[0m\u001b[0;34m(\u001b[0m\u001b[0mreg\u001b[0m\u001b[0;34m.\u001b[0m\u001b[0mcoef_\u001b[0m\u001b[0;34m[\u001b[0m\u001b[0mu\u001b[0m\u001b[0;34m]\u001b[0m \u001b[0;34m>\u001b[0m \u001b[0;36m2.5\u001b[0m\u001b[0;34m)\u001b[0m\u001b[0;34m[\u001b[0m\u001b[0;36m0\u001b[0m\u001b[0;34m]\u001b[0m\u001b[0;34m]\u001b[0m\u001b[0;34m\u001b[0m\u001b[0m\n\u001b[0m\u001b[1;32m      3\u001b[0m     \u001b[0mname\u001b[0m  \u001b[0;34m=\u001b[0m \u001b[0musers\u001b[0m\u001b[0;34m[\u001b[0m\u001b[0mu\u001b[0m\u001b[0;34m]\u001b[0m\u001b[0;34m\u001b[0m\u001b[0m\n\u001b[1;32m      4\u001b[0m     \u001b[0mprint\u001b[0m \u001b[0;34m(\u001b[0m\u001b[0;34m\"%s : %s\"\u001b[0m \u001b[0;34m%\u001b[0m \u001b[0;34m(\u001b[0m\u001b[0mname\u001b[0m\u001b[0;34m,\u001b[0m \u001b[0mstr\u001b[0m\u001b[0;34m(\u001b[0m\u001b[0mwords\u001b[0m\u001b[0;34m)\u001b[0m\u001b[0;34m)\u001b[0m\u001b[0;34m)\u001b[0m\u001b[0;34m\u001b[0m\u001b[0m\n",
        "\u001b[0;31mIndexError\u001b[0m: index 316 is out of bounds for axis 0 with size 316"
       ]
      },
      {
       "output_type": "stream",
       "stream": "stdout",
       "text": [
        "\n",
        "Jonirja : ['@lscottspencer', '@peterdamien', 'qq', 'sic', 'okcupid', 'romanc', 'haaaaaa', 'goddammit', 'ffxiv', 'monet', 'aaaaah', 'trumpet', 'whatnot', 'haaaa', 'haaaaa', 'siri', 'misspel', 'seattl', 'jackal', '\u2661', '#emmys']\n",
        "Kamakshi_Tandon : ['@tomcoates', 'jawbon', 'piano', 'redesign', 'visual']\n",
        "LeTenisse : ['http://www.baseball-reference.com/friv/birthdays.cgi', 'op', 'lg', 'b-r', 'asg', 'bornthisd', '$300', 'finder', 'split', 'index', 'stat', 'tibh', 'draftstreet']\n",
        "MallerMarcelo : ['@maureenjohnson', '@scalzi', '300', 'kickstart', 'invent', 'backer', 'dewei', 'strip', 'pledg', 'stretch', '#sdcc']\n",
        "MendezVega : ['@siracusa', '@marcoarment', '@imyke', '@panzer', '@jdalrymple', '@lexfri', 'hm', '335', 'o.o', 'phenomen', 'marco', 'damnit', 'objective-c', 'hahahaha', '1080', 'missu', 'hahahahaha', 'virginia', 'cobb', 'erin', 'sorta', 'm-sport', 'liss', 'hoki', 'wwdc', 'hahahahahahah', ':-p', '\u1f614', '\u1f61D', '\u1f61E', '\u1f633', '\u1f44A', '\u1f44D', '\u1f499']\n",
        "MindTheRacket : ['@clint', '@danielpunkass', '@schwa', 'a', 'irc', 'idk', 'haskel', 'adium', 'scala', 'earl', 'lmao']\n",
        "MungoNGus : ['@m4tt', '@stevestreza', '@clint', '@feedly', '@mat', '@reckless', '@benedictevans', '@joshuatopolsky', '@drbarnard', '@harper', '@ejacqui', '@zpower', '@drpizza', 'v4', 'hrm', 'bioshock', 'abram', 'airdrop', 'finer', 'wager', 'newsread', '1password', 'slick', 'imessag', 'evernot', 'ventur']\n",
        "NYTSports : ['madison', 'portland', 'chicago', 'gothenburg', 'nordic', 'stockholm', 'rubi']\n",
        "NailaJeanMeyers : ['@0xabad1dea', '@drpizza', 'hn', 'gdb', 'gcc', 'piraci', 'shrug', ';p']\n",
        "Nic_Leigh : ['@stevestreza', 'bud', 'beasti', 'snore', 'a-team', '#strava']\n",
        "Pep_Guti : ['@ohheygreat', '@ftrain', '@davewiner', '@dansinker', '@waxpancake', '@mat', '@gte', '@gruber', '@schwa', '@gabrielroth', '@drbarnard', '@ejacqui', '@mrgan', '@anildash', 'hg', 'hah', 'e.g', 'somervil', 'fallaci', 'mercuri', 'imho', 'fwiw', 'palm', 'henri']\n",
        "RD_Tennistalk : ['dx']\n",
        "Ratazana : ['http://app.net', 'fruiti', '\u1f603', '\u1f609', '#wwdc', '#ds9', '#itunes']\n",
        "ReemAbulleil : ['@elaineedwards', '@glinner', 'arf', 'dub', 'oul', 'ghent', 'derm', 'jaysu', 'imho', 'wwdc', 'dublin', '#upthedubs']\n",
        "RoadtoRG : ['@wilw', '@stevestreza', '@justin', '@jdalrymple', 'sg', 'amp', 'boogi', 'eleanor', 'isaac', 'lisa']\n",
        "RomiCvitkovic : ['@owenthomas', '@harper', 'usabl', 'cod', 'ssl', 'pgp', 'wat', 'tumblr', 'mathemat', 'chemistri', 'reddit', 'heroku', 'cryptographi', 'ebai', 'noob', 'prism', 'bullshit', 'encrypt', 'github', '#breakingbad']\n",
        "Rossana_Capo : ['@panzer', '@dcseifert', '@monkbent', '2.0', 'hah', 'iap', 'cheapskat', 'radar', 'helvetica', 'geez', 'x100', 'cubbi']\n",
        "SI_BTBaseline : ['@jsnell', '@danielpunkass', '@monkbent', 'snippet']\n",
        "SavannahsTennis : ['@gruber', '@justin', '@lexfri', 'vesper', 'tsa', 'asshol', 'carry-on']\n",
        "StephintheUS : ['@ftrain', '@kissane', '@dansinker', '@waxpancake', '@tomcoates', '@tcarmody', '@mrgan', 'hamburg']\n",
        "TennisCoconut : ['@ohheygreat', '@glennf', '@inthefade', '@gruber', '@darth', '@nostrich', 'd.c', 'comcast', 'uber']\n",
        "Tennis_Belgium : ['@elonjames', 'access', 'neato', 'awhil', 'voiceov', 'motherfuck']\n"
       ]
      }
     ],
     "prompt_number": 78
    },
    {
     "cell_type": "code",
     "collapsed": false,
     "input": [
      "cross_val_and_print_accuracy (LogisticRegression(), W, y_u)"
     ],
     "language": "python",
     "metadata": {},
     "outputs": [
      {
       "output_type": "stream",
       "stream": "stdout",
       "text": [
        "Classifier Accuracy: 0.52 (+/- 0.00)\n",
        "Random     Accuracy: 0.00\n"
       ]
      }
     ],
     "prompt_number": 79
    },
    {
     "cell_type": "markdown",
     "metadata": {},
     "source": [
      "##\u00a0Predicting Weeks from Tweets"
     ]
    },
    {
     "cell_type": "code",
     "collapsed": false,
     "input": [
      "wreg = LogisticRegression()"
     ],
     "language": "python",
     "metadata": {},
     "outputs": [],
     "prompt_number": 80
    },
    {
     "cell_type": "code",
     "collapsed": false,
     "input": [
      "wreg.fit (W.astype(np.float64), y_w)"
     ],
     "language": "python",
     "metadata": {},
     "outputs": [
      {
       "metadata": {},
       "output_type": "pyout",
       "prompt_number": 81,
       "text": [
        "LogisticRegression(C=1.0, class_weight=None, dual=False, fit_intercept=True,\n",
        "          intercept_scaling=1, penalty='l2', random_state=None, tol=0.0001)"
       ]
      }
     ],
     "prompt_number": 81
    },
    {
     "cell_type": "code",
     "collapsed": false,
     "input": [
      "for w in range(len(tweetCountsPerWeek)):\n",
      "    words = [d[i] for i in np.where(reg.coef_[w] > 2.5)[0]]\n",
      "    print (\"Week %d : %s\" % (w, str(words)))"
     ],
     "language": "python",
     "metadata": {},
     "outputs": [
      {
       "output_type": "stream",
       "stream": "stdout",
       "text": [
        "Week 0 : ['@aclu', \"gov't\", 'aclu', 'innoc', '#sxsw', '#closegitmo', '#humanrights', '#discrimination', '#civilliberties', '#fbi', '#nsa', '#surveillance', '#equalpay', '#marijuana', '#privacy', '#drone', '#police', '#torture', '#deathpenalty', '#standwithncwomen', '#solitaryconfinement', '#fem2', '#doma', '#immigration', '#freespeech']\n",
        "Week 1 : ['@rhrealitycheck', 'millenni', 'icymi', '#lgbtq', '#beatriz', '#nn13', '#hiv', '#sexed', '#1in3', '#trans', '#ur2013']\n",
        "Week 2 : ['ann', 'holland', 'taylor', '#annplay']\n",
        "Week 3 : ['sex', 'romant', 'orgasm', 'jamaica', 'bwai', 'wknd', 'peni']\n",
        "Week 4 : ['#mdg5', '#mdg456live', '#endfgm', '#wd2013', '#icpd']\n",
        "Week 5 : ['@yeselson', '@amandamarcotte', '@sophiaphotos', '@ppppolls', '@dsquareddigest', '@brokeymcpoverty', '@jamiekilstein', '@hugoschwyzer', '@sarahljaffe', '@drjanechi', 'hbc', 'sidnei', 'hillman', 'waffl', 'snowden', 'headshot', 'hummingbird', '#confessyourunpopularopinion', '#benghaziinfourwords', '#robford', '#paulasbestdishes', '#txlege', '#txleg']\n",
        "Week 6 : ['@youtube', '#amc2013', '#reprojustice']\n",
        "Week 7 : ['@hollandtaylor', '#sb5', '#standwithtxwomen']\n",
        "Week 8 : ['nyc', 'nyer']\n",
        "Week 9 : ['sequest', '#netde']\n",
        "Week 10 : ['ct', 'hangout', 'hartford', 'pancak', 'afghanistan', '#redsox']\n",
        "Week 11 : ['dealer', 'plain', 'ohio', 'cleveland', '#standwithwendy']\n",
        "Week 12 : ['@ap', 'ap', '#gaymarriage', '#adoption', '#catholic', '#marijuana', '#children', '#women', '#abortion', '#sexualassault', '#religion', '#lgbt']\n",
        "Week 13 : ['gov', 'dga', \"o'mallei\", 'corbett', 'republican', 'suppress', 'sequest', '#vagov']\n",
        "Week 14 : ['@morning_joe', '@nbcnightlynews', '@nbcnews', '@todayshow', 'fda', 'genom', 'terrif', 'medicin', '#dreamday', '#fortunempw']\n",
        "Week 15 : ['thx', '#got', '#catchingfire', '#photobomb']\n",
        "Week 16 : ['@theleadcnn', '@hillaryclinton', 'cnn', '#cnn', '#moore']\n",
        "Week 17 : ['divorc', 'entrepreneur', 'mentor', 'career', 'startup', 'women', 'leadership', 'negoti', 'lean', '#redefinepower']\n",
        "Week 18 : ['unfpa', '#endchildmarriage', '#usa4women', '#familyplanning']\n",
        "Week 19 : ['rmc', '#antichoice', '#gop', '#healthcare', '#women', '#birthcontrol', '#contraception', '#abortion', '#prochoice', '#republican']\n",
        "Week 20 : ['minnesota', '#bettermn', '#mnleg', '#mdayton']\n",
        "Week 21 : ['fact', 'contracept', '#contraception', '#reprohealth', '#abortion', '#wd2013']\n"
       ]
      }
     ],
     "prompt_number": 82
    },
    {
     "cell_type": "code",
     "collapsed": false,
     "input": [
      "cross_val_and_print_accuracy (LogisticRegression(), W, y_w)"
     ],
     "language": "python",
     "metadata": {},
     "outputs": [
      {
       "output_type": "stream",
       "stream": "stdout",
       "text": [
        "Classifier Accuracy: 0.22 (+/- 0.00)\n",
        "Random     Accuracy: 0.05\n"
       ]
      },
      {
       "output_type": "stream",
       "stream": "stdout",
       "text": [
        "Classifier Accuracy: 0.22 (+/- 0.00)\n",
        "Random     Accuracy: 0.05\n"
       ]
      }
     ],
     "prompt_number": 84
    },
    {
     "cell_type": "markdown",
     "metadata": {},
     "source": [
      "## Predicting Months from Tweets"
     ]
    },
    {
     "cell_type": "code",
     "collapsed": false,
     "input": [
      "mreg = LogisticRegression()"
     ],
     "language": "python",
     "metadata": {},
     "outputs": [],
     "prompt_number": 85
    },
    {
     "cell_type": "code",
     "collapsed": false,
     "input": [
      "mreg.fit (W.astype(np.float64), y_m)"
     ],
     "language": "python",
     "metadata": {},
     "outputs": [
      {
       "metadata": {},
       "output_type": "pyout",
       "prompt_number": 86,
       "text": [
        "LogisticRegression(C=1.0, class_weight=None, dual=False, fit_intercept=True,\n",
        "          intercept_scaling=1, penalty='l2', random_state=None, tol=0.0001)"
       ]
      }
     ],
     "prompt_number": 86
    },
    {
     "cell_type": "code",
     "collapsed": false,
     "input": [
      "for m in range(len(tweetCountsPerMonth)):\n",
      "    words = [d[i] for i in np.where(mreg.coef_[m] > 3)[0]]\n",
      "    print (\"::: %s ::: %s\" % (months[m], str(words)))"
     ],
     "language": "python",
     "metadata": {},
     "outputs": [
      {
       "output_type": "stream",
       "stream": "stdout",
       "text": [
        "::: May ::: ['kucova', 'amman', 'strasbourg', 'eurovis', '#indysaopaulo', '#norwegianbreakaway', '#nantes', '#nospainnogain', '#memorialday', '#dirtywars', '#championsleague', '#europeday', '#woolwich', '#indy500orbust', '#monaco', '#d11', '#wef', '#fny13', '#oakland', '#redefinepower', '#brighton', '#jura50tt', '#eurovision', '#eurovision2013', '#gfwawards', '#monacogp', '#spanishgp', '#ccbw', '#acbw']\n",
        "::: June ::: ['@louisemensch', 'gandolfini', 'merion', 'nurnberg', '6/21', 'nottm', 'eastbourn', 'darci', '#keepcalmandwin', '#wwdc', '#skywire', '#nn13', '#tedxpoynter', '#firestone550', '#sb5', '#s13', '#hr1797', '#fathersday', '#franklinproject', '#24lm', '#stonesglasto', '#confedcup', '#alleyesonus', '#nbafinals', '#canadiangp', '#prism', '#newtradition', '#lm24', '#winchat', '#halle', '#rafanole35']\n",
        "::: July ::: ['palermo', 'gstaad', 'segovia', 'bastad', 'trayvon', 'espi', 'felixstow', 'foof', 'granbi', 'kastl', 'ilklei', '#twistandshout', '#germangp', '#scfc', '#vbadebate', '#manicmonday', '#wtalive', '#stoneshydepark', '#lordsofthering', '#sharknado', '#trayvonmartin', '#asg', '#ydt', '#standwithtxwomen', '#bgcomp', '#berlin', '#spa24h', '#royalbaby', '#stand4life', '#espys', '#4thofjuly', '#goldcup', '#hungariangp', '#cuts', '#helenthomas', '#2into', '#thebachelorette']\n",
        "::: August ::: ['@nivenj1', 'apto', 'novi', 'winston-salem', '#twittersilence', '#vmas', '#dream9', '#cincytennis', '#belgiangp', '#rogerscup', '#moscow2013', '#jacksonhole', '#gbbf', '#sospasogood', '#mazdaroute3', '#arod']\n",
        "::: September ::: ['mosel', 'seoul', 'trabzon', 'napa', 'metz', 'nyad', 'tokyo', 'sevilla', 'loughborough', 'guangzhou', '#vagovdebate', '#regulatory13', '#copadavis', '#protour', '#mdg456live', '#oktoberfest', '#bbf', '#scd', '#monzamash', '#makedclisten', '#sfvssea', '#breadchat', '#mymauritius', '#6hsp', '#frontlinepbs', '#navyyardshooting', '#sept28', '#emmys', '#latism13', '#menforchoice', '#incostabrava', '#daviscup', '#monza', '#tokyo', '#fairshot', '#latinospbs']\n"
       ]
      }
     ],
     "prompt_number": 87
    },
    {
     "cell_type": "code",
     "collapsed": false,
     "input": [
      "cross_val_and_print_accuracy (LogisticRegression(), W, y_m)"
     ],
     "language": "python",
     "metadata": {},
     "outputs": [
      {
       "output_type": "stream",
       "stream": "stdout",
       "text": [
        "Classifier Accuracy: 0.38 (+/- 0.00)\n",
        "Random     Accuracy: 0.20\n"
       ]
      }
     ],
     "prompt_number": 88
    },
    {
     "cell_type": "markdown",
     "metadata": {},
     "source": [
      "##\u00a0Predicting Users from HashTags"
     ]
    },
    {
     "cell_type": "code",
     "collapsed": false,
     "input": [
      "W_ht = W[:,dictStarts['Hashtag']:(dictEnds['Hashtag']-1)]"
     ],
     "language": "python",
     "metadata": {},
     "outputs": [],
     "prompt_number": 104
    },
    {
     "cell_type": "code",
     "collapsed": false,
     "input": [
      "uregh = LogisticRegression()"
     ],
     "language": "python",
     "metadata": {},
     "outputs": []
    },
    {
     "cell_type": "code",
     "collapsed": false,
     "input": [
      "uregh.fit (W_ht.astype(np.float64), y_u)"
     ],
     "language": "python",
     "metadata": {},
     "outputs": []
    },
    {
     "cell_type": "code",
     "collapsed": false,
     "input": [
      "for u in range(len(users)):\n",
      "    words = [d[i + dictStarts['Hashtag']] for i in np.where(uregh.coef_[u] > 4)[0] if i <= dictEnds['Hashtag']]\n",
      "    name  = users[u]\n",
      "    print (\"%s : %s\" % (name, str(words)))"
     ],
     "language": "python",
     "metadata": {},
     "outputs": [
      {
       "output_type": "stream",
       "stream": "stdout",
       "text": [
        "ACLU : ['#voterid', '#closegitmo', '#modernfamily', '#discrimination', '#civilliberties', '#fbi', '#ama', '#nsa', '#surveillance', '#equalpay', '#marijuana', '#privacy', '#police', '#torture', '#deathpenalty', '#solitaryconfinement', '#fem2', '#freespeech']\n",
        "AdvocatesTweets : ['#lgbtq', '#beatriz', '#nn13', '#31daysofunity', '#hiv', '#sexed', '#1in3', '#mamasday', '#usa4women', '#trans', '#ur2013']\n",
        "AnnRichardsPlay : ['#annplay']\n",
        "AskDrRuth : []\n",
        "BabatundeUNFPA : ['#mdg5', '#whd2013', '#mdg456live', '#wd2013', '#icpd']\n",
        "Beyerstein : ['#benghaziinfourwords', '#paulasbestdishes']\n",
        "BobHerbert : ['#amc2013', '#reprojustice']\n",
        "CLPPtweets : ['#sb5', '#standwithtxwomen']\n",
        "CarolynBMaloney : ['#immigrants', '#lgbt']\n",
        "CecileRichards : ['#netde']\n",
        "ChrisCQuinn : ['#dontdoublemyrate']\n",
        "ChrisCoons : ['#standwithwendy']\n",
        "ChrisMurphyCT : ['#pennstate', '#race', '#rape', '#gaymarriage', '#adoption', '#military', '#catholic', '#marijuana', '#prisons', '#children', '#families', '#supremecourt', '#guncontrol', '#abortion', '#soccer', '#crime', '#sexualassault', '#religion', '#lgbt', '#immigration']\n",
        "ConnieSchultz : ['#vagov']\n",
        "CraryAP : ['#adoption', '#dreamday', '#fortunempw', '#inplainsight']\n",
        "DCAbortionFund : ['#got', '#catchingfire']\n",
        "DemGovs : []\n",
        "DrNancyNBCNEWS : ['#redefinepower']\n",
        "ElizabethBanks : ['#endchildmarriage', '#reprohealth', '#usa4women', '#childmarriage', '#worldpopday', '#familyplanning']\n",
        "ErinMcPike : ['#antichoice', '#gop', '#healthcare', '#birthcontrol', '#contraception', '#abortion', '#prochoice', '#republican']\n",
        "FAPPA : ['#bettermn', '#mnleg', '#mdayton']\n",
        "FamilyCircle : ['#contraception', '#reprohealth', '#abortion', '#wd2013']\n",
        "ForbesWoman : ['#getcovered']\n",
        "FrankLautenberg : ['#ann']\n",
        "FriendsofUNFPA : ['#sc01', '#wysen', '#thirdmetric', '#navyyardshooting', '#enda']\n",
        "GOPChoice : ['#wearedc', '#standwithdcwomen', '#hr1797', '#wdlive', '#sept28', '#rpcvchat', '#wd2013']\n",
        "GovMarkDayton : ['#fbrape']\n",
        "Guttmacher : ['#democracy', '#kofiannanlive', '#youth']\n",
        "HealthCareGov : ['#dream9', '#latism13', '#latino', '#latism', '#latinospbs']\n",
        "HeyPP : ['#getcovered', '#aca', '#celebratenvrd', '#health', '#latina']\n",
        "HiltonHollis : ['#politicsnation', '#nola', '#maddow', '#nerdland', '#scandal', '#msnbc', '#uppers']\n",
        "HollandTaylor : ['#1u', '#aca', '#cir', '#fastfood', '#timeisnow', '#fairshot', '#mow2013']\n",
        "HuffPostPol : ['#longreads']\n",
        "IpasOrg : ['#antichoice', '#waronwomen', '#reprorights', '#hr1797', '#standwithtxwomen', '#birthcontrol', '#gosnell', '#menforchoice', '#prochoice', '#masen']\n",
        "JessicaValenti : []\n",
        "KofiAnnan : []\n",
        "LatinoUSA : []\n",
        "Latinos4PP : []\n",
        "Lizchadderdon : ['#co', '#vip', '#jacksonhole', '#recipe']\n",
        "MHarrisPerry : []\n",
        "MaryKayHenry : ['#regulatory13']\n",
        "MaxKaminCross : ['#apstylechat']\n",
        "MoreMag : []\n",
        "NARAL : ['#fb']\n",
        "NV_Advocates : []\n",
        "HadleyFreeman : []\n",
        "benschott : ['#quote', '#bea13', '#indiepub']\n",
        "10yearBonds : []\n",
        "247WallSt : ['#eu', '#europe', '#china', '#rajoy', '#fed', '#abe', '#oil', '#imf', '#eurozone', '#eurocrisis', '#assad', '#cameron', '#debtceiling', '#merkel', '#euro', '#berlusconi']\n",
        "4Tanguay : ['#nfp', '#jacksonhole']\n",
        "5280Magazine : []\n",
        "5_min_macro : ['#muni', '#muniland', '#detroit', '#illinois']\n",
        "ABWashBureau : []\n",
        "APStylebook : ['#retirement', '#advisors']\n",
        "ATryphonides : []\n",
        "A_F : []\n",
        "Aalliende : []\n",
        "AcrossTheCurve : []\n",
        "AkronsBobert : []\n",
        "Alan_Duerden : []\n",
        "AlexAkesson : ['#tcdisrupt', '#d11']\n",
        "AlphaVN : ['#throughglass']\n",
        "AmazonKDP : []\n",
        "AmbassadorRoos : ['#dirtywars', '#s13', '#dronewars']\n",
        "Ananicolaci : ['#stoneshydepark', '#therollingstones', '#stones50', '#stonesglasto']\n",
        "AnastasiadesCY : []\n",
        "AndreaHotter : ['#scd', '#xfactor', '#thewrightway', '#bbc4']\n",
        "AndyHarless : []\n",
        "AndyLangenkamp : ['#ccbw']\n",
        "AnnalynKurtz : ['#photo']\n",
        "Annika_Reuters : ['#mlb', '#music', '#beer']\n",
        "AristidesHatzis : []\n",
        "AztecOptions : []\n",
        "BChappatta : ['#sf', '#sfgiants', '#anchorsteam', '#todayatanchor', '#raiseyouranchor', '#4thofjuly', '#sanfrancisco']\n",
        "BDAmerica : ['#chicago', '#cheers', '#ccbw', '#beer']\n",
        "BGIPfund : []\n",
        "BIConline : ['#gohawks', '#ccbw']\n",
        "BLNCruzer : []\n",
        "BUphamT : ['#boston', '#craftbeer']\n",
        "Bank_of_Japan_e : []\n",
        "BeingRegulated : ['#beerbods']\n",
        "Benzinga : ['#ny', '#local', '#homebrew']\n",
        "BergenCapital : ['#luxury', '#beer', '#craftbeer']\n",
        "BigBlueTent : ['#ibelieveinipa']\n",
        "BigJournalism : ['#ebbc13', '#jura50tt']\n",
        "BirchCreekCap : []\n",
        "BlackRaven999 : ['#cl', '#championsleague']\n",
        "Blackhorse : []\n",
        "EvelynRusli : ['#quiz', '#win', '#arresteddevelopment']\n",
        "Tim_Stevens : []\n",
        "gte : []\n",
        "DirtyWars : ['#somerville']\n",
        "RollingStones : ['#scbeer', '#hunt4b85']\n",
        "FilmCritHULK : ['#homebrew']\n",
        "Gary_Bainbridge : ['#bengals']\n",
        "2lovebeer : []\n",
        "3RiversBrewery : []\n",
        "4pawsbrewing : []\n",
        "AGonzalezAquino : ['#atx', '#stl']\n",
        "AbbeyStMartin : []\n",
        "AlmanacBeer : ['#daylightfordeadeyes', '#canadaday', '#toronto']\n",
        "AnarchyBrewCo : []\n",
        "AnchorBrewing : []\n",
        "ArgusBrewery : []\n",
        "ArranBrewery : ['#meat', '#yum']\n",
        "AtlasBrewing : []\n",
        "BHB_brews : []\n",
        "BeerAdvocate : ['#swindon']\n",
        "BeerAndSoulBlog : []\n",
        "BeerBods : ['#cheers']\n",
        "BeerUnion : ['#fwibf']\n",
        "Beer_Disciples : ['#inferno']\n",
        "Beer_Goddess : ['#winewednesday']\n",
        "BeersIveKnown : ['#nscraftbeer']\n",
        "Beertographer : ['#sd', '#sdcc', '#fwibf', '#boozebooks', '#metal']\n",
        "Bierschenke : []\n",
        "BlueBellHalkyn : ['#3benchguy', '#supportworks']\n",
        "BluffersGuide : ['#vinb', '#bbcsml', '#todaypk', '#newsnight']\n",
        "BreckBrew : ['#newyork', '#traveltuesday', '#panama', '#cornwall', '#luxvox', '#jamaica']\n",
        "BrewDogBarDean : ['#runkeeper']\n",
        "BrewEngland : ['#marrakech', '#morocco', '#iodac', '#fbc5']\n",
        "Brewery85 : ['#bloghouse', '#feelmorealive', '#incostabrava']\n",
        "BrianIsBeering : ['#saturdaykitchen', '#masterchef', '#bbcgfs', '#recipeoftheday', '#thechefsprotege', '#celebmasterchef', '#celebritymasterchef', '#gbbo']\n",
        "BubOhioBeer : []\n",
        "BullCityBurger : ['#europeday', '#bgcomp', '#gbbf']\n",
        "ButcombeBrewery : ['#getsome']\n",
        "ConistonBrewCo : ['#bread', '#realbread', '#breadchat', '#pastry', '#gbbo', '#constantcontact', '#bath']\n",
        "CraftingANation : ['#localfood', '#britishveg']\n",
        "CromartyBrewing : ['#belowtheline']\n",
        "DFDband : []\n",
        "DailyBeerNews : ['#startups', '#eventprofs', '#smwldn']\n",
        "Dryhopchicago : ['#backtoschool', '#didyouknow']\n",
        "DueSouthBrewing : ['#royalascot', '#norwegianbreakaway', '#apprentice', '#granddesigns', '#dragonsden', '#cruise', '#eagles', '#skyf1', '#educatingyorkshire', '#uclfinal', '#hignfy', '#eurovision2013', '#royalprincess']\n",
        "DukesJoint : ['#christmas', '#cartmel']\n",
        "EHobbz : ['#tt', '#sghaze', '#skywire', '#dctraveltweetup', '#travel', '#frifotos']\n",
        "EasyTigerATX : ['#nantes', '#berlin', '#brighton', '#paris', '#turin', '#newtradition', '#book']\n",
        "FGW : []\n",
        "FallCreekWines : ['#corkecho']\n",
        "FiremansBrew : ['#ldf13', '#design', '#pfw', '#nyc', '#lcm', '#lfw', '#fny13', '#venicebiennale', '#artbasel']\n",
        "FirestoneWalker : []\n",
        "ForumBooks : ['#supperclub', '#bristol', '#ofa', '#competition', '#gfwawards', '#recipe']\n",
        "FullCircleBrews : ['#thevoiceuk', '#drwho']\n",
        "GarrisonBrewing : []\n",
        "Goats_Udder : []\n",
        "Gordon_Biersch : ['#cronut']\n",
        "3_News : ['#london', '#win', '#weekend']\n",
        "AbiePB : ['#fwclassic']\n",
        "Amanda_Statham : ['#booze', '#turkey', '#photography', '#streetfood', '#istanbul']\n",
        "AmyDavies : ['#c4news', '#greattasteawards']\n",
        "Arganic_UK : ['#tvpchat', '#finelychoppedwalk']\n",
        "Ayngelina : ['#goodwoodrevival', '#lastfm']\n",
        "BBCGoodFoodShow : ['#vegan', '#dinnertonight', '#meatlessmonday', '#diy', '#treatyoself', '#healthtalk', '#recipeoftheday', '#regram', '#genius']\n",
        "Bea_John : ['#ff', '#photooftheday', '#sweden', '#somerset', '#onthemenu', '#cornwall', '#cumbria', '#eggaward', '#cheese']\n",
        "Beergenie : ['#eatscandi', '#foodtube']\n",
        "Ben_Mulock : ['#capetown', '#southafrica', '#lovecapetown', '#mymauritius', '#seetheworld', '#food', '#loop', '#vineapp']\n",
        "BertinetKitchen : ['#worldginday', '#gin']\n",
        "Bosleypatch : ['#cuts']\n",
        "BristolBites : []\n",
        "BritAsparagus : ['#tbex', '#bloghouse', '#archives', '#feelmorealive', '#luxvox', '#incostabrava', '#coloursofperu']\n",
        "BriteUK : ['#gfwawards']\n",
        "BurtsChips : []\n",
        "CaptGreybeard : ['#sfvssea', '#49ers', '#kickoff2013', '#camp49', '#nfltop100']\n",
        "CartmelSticky : ['#titleswithnachos']\n",
        "CharlesYap : ['#arabidol', '#veterans', '#scaf', '#amtrak', '#israel', '#nypd', '#drones', '#michaelhastings', '#twitter', '#kuwait', '#rabaa', '#fox', '#gay', '#trayvonmartin', '#cia', '#cnn', '#wef', '#nyt', '#nsa', '#june30', '#snowden', '#assaf', '#palestine', '#lebanon', '#tahrir', '#northkorea', '#afghanistan', '#tunisia', '#franklinproject', '#saudi', '#jan25', '#syria', '#frontlinepbs', '#obama', '#jesus', '#bradleymanning', '#jordan', '#occupygezi', '#brazil', '#egypt', '#aljazeera', '#bahrain', '#pakistan', '#nakba', '#newzealand', '#rollingstone', '#guantanamo', '#morsi', '#gaza', '#google', '#yemen', '#iraq', '#worldbrief', '#helenthomas', '#qatar']\n",
        "Chocoralie : []\n",
        "CityJohn : []\n",
        "CorkEveningEcho : ['#5things', '#aje']\n",
        "CraneTV : []\n",
        "CriticalCouple : ['#greece', '#btw13', '#auspol', '#italy', '#portugal']\n",
        "CrumbsMag : []\n",
        "DFergPR : ['#alpolitics', '#al01']\n",
        "DineHard : ['#vmas', '#fwclassic', '#emmys']\n",
        "DoktorG : []\n",
        "DominiqueAnsel : ['#nsafiles']\n",
        "EastVillageLDN : ['#tedxpoynter', '#florida', '#tampa']\n",
        "Eater : ['#vagov', '#vagovdebate', '#nn13', '#vbadebate', '#njsen']\n",
        "EatingAsia : ['#snl', '#yeezus']\n",
        "FelicitySpector : ['#newshourchats']\n",
        "Finelychopped : ['#gitmo', '#manning']\n",
        "FleurDeGuerre : ['#divergent']\n",
        "Food52 : ['#rg13', '#cincytennis', '#wimbledon', '#usopen', '#citiopen', '#ncaatennis', '#daviscup', '#halle']\n",
        "FoodTravelCo : []\n",
        "FoodUrchin : ['#wtalive', '#baon']\n",
        "Foodandthefab : ['#identitytheft', '#hackers', '#piracy', '#drugs', '#malware', '#online', '#internet', '#bitcoin', '#cybercrime', '#college', '#google', '#drug']\n",
        "GinGarden : ['#keystonexl', '#immigration']\n",
        "GingerPigLtd : ['#medicaid', '#makedclisten', '#stopcommoncore', '#dream13', '#farmbill', '#obamacare']\n",
        "GizziErskine : ['#oitnb', '#winchat']\n",
        "GoSeeWrite : ['#tcot', '#nasa', '#cspan']\n",
        "Greatbigrobot : ['#kysen', '#arsen', '#wvsen']\n",
        "GuildFoodWriter : ['#tcot', '#blogtalkradio']\n",
        "Henriettagraham : []\n",
        "49ers : ['#tlot', '#makedclisten']\n",
        "ABeckr : ['#defundobamacare']\n",
        "ACLINews : ['#biz', '#biztip', '#business']\n",
        "ASE : ['#txed', '#cscope', '#makedclisten', '#stopcommoncore', '#stand4life', '#txlege', '#commoncore', '#soundcloud', '#noamnesty', '#stopcscope']\n",
        "ActuallyJZ : []\n",
        "AdamSerwer : ['#wsbtv']\n",
        "AlAKleine : ['#sharknado', '#chs', '#sc1', '#nameobamasnewwar']\n",
        "AlanFisher : ['#muslimbrotherhood', '#zimmerman', '#benghazi']\n",
        "Alancumming : ['#leafs', '#indy500orbust', '#indycar']\n",
        "AlbertoNardelli : ['#got', '#ashes', '#cricket', '#nietzsche', '#savethenhs', '#ct13']\n",
        "AlexKoppelman : ['#vamos', '#whoa', '#germangp', '#motogp', '#ugh', '#belgiangp', '#cincinnati', '#vamosrafa', '#moscow2013', '#couperogers', '#moto2', '#monza', '#bcn2013', '#hungariangp', '#monacogp', '#cmon']\n",
        "AlexSchriver : ['#f1chat']\n",
        "AlexisGelber : ['#lotus', '#motogp', '#amg', '#alfa']\n",
        "AlyWeisman : []\n",
        "AmbShapiro : []\n",
        "AmberLyon : ['#wsr', '#grandam', '#elms']\n",
        "Amber__McDonald : ['#f1', '#eurovision2013']\n",
        "American_Bridge : ['#monaco', '#bbcf1', '#pointless', '#f1films']\n",
        "AndrewKirell : ['#steak']\n",
        "AnitaSpadaro : ['#f1', '#canadiangp', '#spanishgp']\n",
        "AnneBell : ['#mcfc', '#mufc', '#afc', '#cfc', '#wellsfargo', '#players', '#wentworth']\n",
        "ArunRath : ['#gp2', '#monzamash']\n",
        "AshleyJudd : ['#nospainnogain', '#gp3', '#monzamash', '#alleyesonus']\n",
        "AskAkbar : ['#skyf1', '#lm24']\n",
        "BenRothenberg : ['#justsaying', '#topgear', '#tdf', '#england', '#facup', '#testgate', '#justwondering', '#btcc']\n",
        "CeceliaJP : ['#nascar']\n",
        "FortyDeuceTwits : []\n",
        "4SaferInternet : ['#lefturn', '#kneast', '#grandam', '#godo', '#thebachelorette']\n",
        "AAF : ['#pikespeak', '#indy500orbust', '#dtm', '#wrc', '#wec', '#fiaf3', '#fiaerc', '#24lm', '#spa24h', '#6hsp', '#fotaforum', '#wrclive']\n",
        "AFPhq : ['#nascar', '#nns', '#irony', '#repost', '#kidding']\n",
        "AFinnie : ['#mazdaroute3']\n",
        "AHMalcolm : ['#f1']\n",
        "AaronBlakeWP : ['#cyclesradio']\n",
        "AaronMcCready : []\n",
        "Aarongorn : []\n",
        "AdairsvilleRob : ['#mini', '#justsayin', '#tweetup', '#behindthescenes', '#indycar', '#indy500', '#rushmovie', '#beatcancer', '#indylights', '#colts', '#thankyou', '#whatturn4', '#gpob', '#indy', '#teamcyclopsgear']\n",
        "AlanJSanders : ['#britishgp', '#dambusters70', '#monacogp']\n",
        "AlexConant : ['#nailedit']\n",
        "AlexSkatell : ['#narrative']\n",
        "AliBrown : []\n",
        "AliceLinahan : []\n",
        "AllenWest : ['#nkrising', '#washington', '#protour', '#frenchopen', '#itf', '#toowoomba', '#toronto', '#atlanta', '#futures', '#tokyo', '#bangkok']\n",
        "AmandaCookWSB : []\n",
        "AmandaJoFreel : ['#illini']\n",
        "AmbJohnBolton : ['#copadavis', '#rolandgarros', '#drama', '#t\u00eanis']\n",
        "AmberMarchand : []\n",
        "AmeliaChasse : []\n",
        "AmericanXRoads : ['#np', '#hawaii', '#uswnt', '#usmnt', '#nwsl', '#clfinal', '#justsayin', '#kauai', '#epl', '#wcq', '#ucl', '#snf', '#smh', '#pdl', '#nfl', '#mls', '#80s', '#followback', '#fightnight', '#flyers', '#eagles', '#usoc100', '#confedcup', '#goldcup', '#mlsallstar', '#doop', '#bplonnbc', '#jets']\n",
        "AmericasRight : ['#espntennis', '#manicmonday', '#mensfinal', '#espnwimbledon', '#rafanole35']\n",
        "Anderson33 : ['#fitness', '#flashbackfriday', '#nutrition']\n",
        "AndrewCMcCarthy : ['#dexter', '#twitterrevolution', '#gators', '#espys', '#nbafinals', '#delpo']\n",
        "99forever : ['#hahahaase']\n",
        "AustinGrandPrix : []\n",
        "Bix_Barton_SW6 : []\n",
        "Claudia05SV : ['#hitthefloor']\n",
        "Dinalli : ['#brutal']\n",
        "Drivin4Pleasure : []\n",
        "EJVISO : []\n",
        "EliGP : []\n",
        "EmBuxton : []\n",
        "FakeDelRosario : []\n",
        "FakeFernando : []\n",
        "FakeMedicalCar : ['#nontennis']\n",
        "FakeTomita : []\n",
        "Fake_Maldonado : ['#vmas', '#madmen', '#nyr', '#stanleycup', '#becauseitsthecup', '#gameofthrones']\n",
        "GARSIDEK : []\n",
        "GP2_Official : []\n",
        "GP3_Official : ['#reusabletweet', '#merica', '#epic']\n",
        "GrandPrixDiary : ['#rogerscup']\n",
        "IamLewis4fake : ['#madrid', '#uae']\n",
        "JacquesDebris : ['#rg13', '#roadtorg']\n",
        "Jalopnik : ['#loveit', '#toofunny', '#citiopen']\n",
        "Just_AP : ['#federer']\n",
        "LeighOGorman : ['#rg13', '#cincytennis', '#wta', '#wimbledon', '#daviscup']\n",
        "LewisFranck : []\n",
        "LordHumphreys : ['#newport', '#eastbourne']\n",
        "MP4_28Evil : []\n",
        "MauriceHamilton : ['#live', '#update']\n",
        "MaxGraham : []\n",
        "Mikeconway26 : []\n",
        "OfficialMinis : ['#facepalm', '#euro2013']\n",
        "PippaMann : ['#oh', '#cbb', '#sob', '#lol', '#thevoiceuk', '#dead', '#bbuk']\n",
        "RacingLight : ['#lions', '#gaa', '#thevillage', '#educatingyorkshire', '#thefall', '#bcn2013', '#downton', '#grahamnorton', '#avfc']\n",
        "RyanEversley : []\n",
        "4AllSurfaces : []\n",
        "5livetennis : ['#sfgiants']\n",
        "AAMIClassic : []\n",
        "A_Gallivant : []\n",
        "Adamdbain : []\n",
        "Ataraxis00 : []\n",
        "BadToss : ['#itunes']\n",
        "BreakPointBR : []\n",
        "ByJoeFleming : []\n",
        "ChrisSkelton87 : []\n",
        "DjFlowe : ['#mets', '#nats', '#asg', '#nodisrespecttobenaffleck', '#arod']\n",
        "ESPNTennis : []\n",
        "EleVenbyVenus : ['#e3', '#vscocam']\n",
        "FitLen : ['#wwdc', '#eqnz']\n",
        "G2H_95 : []\n",
        "GBtennis : []\n",
        "JLR78 : []\n",
        "JamesLaRosa : []\n",
        "JayJarrahi : []\n",
        "Jonirja : ['#emmys']\n",
        "Kamakshi_Tandon : []\n",
        "LeTenisse : ['#phillies', '#brewers', '#bluejays', '#rays', '#reds', '#rockies', '#giants', '#athletics', '#angels', '#dbacks', '#dodgers', '#royals', '#nationals', '#tigers', '#marlins', '#padres', '#indians', '#pirates', '#mariners', '#braves', '#whitesox', '#cardinals', '#rangers', '#astros', '#orioles', '#twins', '#redsox', '#cubs']\n",
        "MallerMarcelo : ['#sdcc']\n",
        "MendezVega : []\n",
        "MindTheRacket : []\n",
        "MungoNGus : []\n",
        "NYTSports : []\n",
        "NailaJeanMeyers : []\n",
        "Nic_Leigh : ['#strava']\n",
        "Pep_Guti : []\n",
        "RD_Tennistalk : []\n",
        "Ratazana : ['#wwdc', '#ds9', '#itunes']\n",
        "ReemAbulleil : ['#upthedubs']\n",
        "RoadtoRG : []"
       ]
      },
      {
       "ename": "IndexError",
       "evalue": "index 316 is out of bounds for axis 0 with size 316",
       "output_type": "pyerr",
       "traceback": [
        "\u001b[0;31m---------------------------------------------------------------------------\u001b[0m\n\u001b[0;31mIndexError\u001b[0m                                Traceback (most recent call last)",
        "\u001b[0;32m<ipython-input-105-2ab6a8d53d83>\u001b[0m in \u001b[0;36m<module>\u001b[0;34m()\u001b[0m\n\u001b[1;32m      1\u001b[0m \u001b[0;32mfor\u001b[0m \u001b[0mu\u001b[0m \u001b[0;32min\u001b[0m \u001b[0mrange\u001b[0m\u001b[0;34m(\u001b[0m\u001b[0mlen\u001b[0m\u001b[0;34m(\u001b[0m\u001b[0musers\u001b[0m\u001b[0;34m)\u001b[0m\u001b[0;34m)\u001b[0m\u001b[0;34m:\u001b[0m\u001b[0;34m\u001b[0m\u001b[0m\n\u001b[0;32m----> 2\u001b[0;31m     \u001b[0mwords\u001b[0m \u001b[0;34m=\u001b[0m \u001b[0;34m[\u001b[0m\u001b[0md\u001b[0m\u001b[0;34m[\u001b[0m\u001b[0mi\u001b[0m \u001b[0;34m+\u001b[0m \u001b[0mdictStarts\u001b[0m\u001b[0;34m[\u001b[0m\u001b[0;34m'Hashtag'\u001b[0m\u001b[0;34m]\u001b[0m\u001b[0;34m]\u001b[0m \u001b[0;32mfor\u001b[0m \u001b[0mi\u001b[0m \u001b[0;32min\u001b[0m \u001b[0mnp\u001b[0m\u001b[0;34m.\u001b[0m\u001b[0mwhere\u001b[0m\u001b[0;34m(\u001b[0m\u001b[0muregh\u001b[0m\u001b[0;34m.\u001b[0m\u001b[0mcoef_\u001b[0m\u001b[0;34m[\u001b[0m\u001b[0mu\u001b[0m\u001b[0;34m]\u001b[0m \u001b[0;34m>\u001b[0m \u001b[0;36m4\u001b[0m\u001b[0;34m)\u001b[0m\u001b[0;34m[\u001b[0m\u001b[0;36m0\u001b[0m\u001b[0;34m]\u001b[0m \u001b[0;32mif\u001b[0m \u001b[0mi\u001b[0m \u001b[0;34m<=\u001b[0m \u001b[0mdictEnds\u001b[0m\u001b[0;34m[\u001b[0m\u001b[0;34m'Hashtag'\u001b[0m\u001b[0;34m]\u001b[0m\u001b[0;34m]\u001b[0m\u001b[0;34m\u001b[0m\u001b[0m\n\u001b[0m\u001b[1;32m      3\u001b[0m     \u001b[0mname\u001b[0m  \u001b[0;34m=\u001b[0m \u001b[0musers\u001b[0m\u001b[0;34m[\u001b[0m\u001b[0mu\u001b[0m\u001b[0;34m]\u001b[0m\u001b[0;34m\u001b[0m\u001b[0m\n\u001b[1;32m      4\u001b[0m     \u001b[0mprint\u001b[0m \u001b[0;34m(\u001b[0m\u001b[0;34m\"%s : %s\"\u001b[0m \u001b[0;34m%\u001b[0m \u001b[0;34m(\u001b[0m\u001b[0mname\u001b[0m\u001b[0;34m,\u001b[0m \u001b[0mstr\u001b[0m\u001b[0;34m(\u001b[0m\u001b[0mwords\u001b[0m\u001b[0;34m)\u001b[0m\u001b[0;34m)\u001b[0m\u001b[0;34m)\u001b[0m\u001b[0;34m\u001b[0m\u001b[0m\n",
        "\u001b[0;31mIndexError\u001b[0m: index 316 is out of bounds for axis 0 with size 316"
       ]
      },
      {
       "output_type": "stream",
       "stream": "stdout",
       "text": [
        "\n",
        "RomiCvitkovic : ['#breakingbad']\n",
        "Rossana_Capo : []\n",
        "SI_BTBaseline : []\n",
        "SavannahsTennis : []\n",
        "StephintheUS : []\n",
        "TennisCoconut : []\n",
        "Tennis_Belgium : []\n"
       ]
      }
     ],
     "prompt_number": 105
    },
    {
     "cell_type": "code",
     "collapsed": false,
     "input": [
      "cross_val_and_print_accuracy (LogisticRegression(), W_ht, y_w)"
     ],
     "language": "python",
     "metadata": {},
     "outputs": []
    },
    {
     "cell_type": "markdown",
     "metadata": {},
     "source": [
      "## Predicting Months from HashTags"
     ]
    },
    {
     "cell_type": "code",
     "collapsed": false,
     "input": [
      "mregh = LogisticRegression()"
     ],
     "language": "python",
     "metadata": {},
     "outputs": [],
     "prompt_number": 111
    },
    {
     "cell_type": "code",
     "collapsed": false,
     "input": [
      "mregh.fit (W_ht.astype(np.float64), y_m)"
     ],
     "language": "python",
     "metadata": {},
     "outputs": [
      {
       "metadata": {},
       "output_type": "pyout",
       "prompt_number": 112,
       "text": [
        "LogisticRegression(C=1.0, class_weight=None, dual=False, fit_intercept=True,\n",
        "          intercept_scaling=1, penalty='l2', random_state=None, tol=0.0001)"
       ]
      }
     ],
     "prompt_number": 112
    },
    {
     "cell_type": "code",
     "collapsed": false,
     "input": [
      "for m in range(len(tweetCountsPerMonth)):\n",
      "    words = [d[i + dictStarts['Hashtag']] for i in np.where(mregh.coef_[m] > 3)[0]]\n",
      "    print (\"::: %s ::: %s\" % (months[m], str(words)))"
     ],
     "language": "python",
     "metadata": {},
     "outputs": [
      {
       "output_type": "stream",
       "stream": "stdout",
       "text": [
        "::: May ::: ['#cl', '#indysaopaulo', '#nantes', '#nospainnogain', '#memorialday', '#dirtywars', '#championsleague', '#europeday', '#indy500orbust', '#madrid', '#monaco', '#d11', '#wef', '#fny13', '#oakland', '#redefinepower', '#brighton', '#jura50tt', '#eurovision', '#eurovision2013', '#gfwawards', '#artbasel', '#monacogp', '#spanishgp', '#ccbw', '#acbf', '#acbw']\n",
        "::: June ::: ['#arabidol', '#keepcalmandwin', '#wwdc', '#nn13', '#tedxpoynter', '#firestone550', '#sb5', '#s13', '#hr1797', '#fathersday', '#paulasbestdishes', '#franklinproject', '#24lm', '#stonesglasto', '#fwclassic', '#confedcup', '#alleyesonus', '#nbafinals', '#canadiangp', '#newtradition', '#lm24', '#winchat', '#halle', '#masen', '#rafanole35']\n",
        "::: July ::: ['#wearedc', '#twistandshout', '#germangp', '#vbadebate', '#manicmonday', '#wtalive', '#stoneshydepark', '#mensfinal', '#lordsofthering', '#sharknado', '#trayvonmartin', '#asg', '#ydt', '#standwithtxwomen', '#bgcomp', '#berlin', '#spa24h', '#royalbaby', '#stand4life', '#espys', '#rollingstone', '#4thofjuly', '#whatturn4', '#goldcup', '#euro2013', '#hungariangp', '#helenthomas', '#2into', '#thebachelorette']\n",
        "::: August ::: ['#twittersilence', '#vmas', '#dream9', '#cincytennis', '#rogerscup', '#moscow2013', '#gbbf', '#sospasogood', '#mazdaroute3', '#marchonwashington']\n",
        "::: September ::: ['#vagovdebate', '#regulatory13', '#americascup', '#copadavis', '#protour', '#bbf', '#scd', '#monzamash', '#makedclisten', '#sfvssea', '#breadchat', '#mymauritius', '#6hsp', '#frontlinepbs', '#navyyardshooting', '#sept28', '#gators', '#emmys', '#latism13', '#menforchoice', '#incostabrava', '#daviscup', '#monza', '#fairshot', '#latinospbs']\n"
       ]
      }
     ],
     "prompt_number": 113
    },
    {
     "cell_type": "code",
     "collapsed": false,
     "input": [
      "cross_val_and_print_accuracy (LogisticRegression(), W_ht, y_w)"
     ],
     "language": "python",
     "metadata": {},
     "outputs": [
      {
       "output_type": "stream",
       "stream": "stdout",
       "text": [
        "Classifier Accuracy: 0.09 (+/- 0.00)\n",
        "Random     Accuracy: 0.05\n"
       ]
      }
     ],
     "prompt_number": 108
    },
    {
     "cell_type": "markdown",
     "metadata": {},
     "source": [
      "# Performance of Topic Models\n",
      "We test the performance of existing topic models on this dataset, in order to determine a baseline through which performance can be measured.\n",
      "\n",
      "The data is condense in two forms: the first is the standard layout for an author-topic model (i.e. each \"document\" is all an author's tweets). The second is a \"temporal\" author-topic model, where we for each month we create documents containing all a user's tweets for that month. This is just to see if certain topics are more prevalent in certain months.\n",
      "\n",
      "We try the built-in LDA implementation from Scipy, and then our implementation of the CTM model \n",
      "\n",
      "However first we need to define methods to display the results"
     ]
    },
    {
     "cell_type": "code",
     "collapsed": false,
     "input": [
      "from IPython.display import HTML\n",
      "from IPython.display import Latex\n",
      "from IPython.display import Image\n",
      "\n",
      "def printTopics(wordDict, vocab, count=10):\n",
      "    words = vocab.argsort()[-count:][::-1]\n",
      "    for wordIdx in words:\n",
      "        print(\"%5.3f - %s\" % (vocab[wordIdx], wordDict[wordIdx]))\n",
      "    print(\"\")\n",
      "  \n",
      "# Create a nice number of table cells first for each topic\n",
      "# (including padding with &nbsp; cells\n",
      "# then iterate through and add to table, safe in the knowledge\n",
      "# that there's the expected number of cells\n",
      "    \n",
      "def createTopicsTable(wordDict, vocabs, count=10):\n",
      "    MaxWordLen   = 10\n",
      "    K,V = vocabs.shape\n",
      "    \n",
      "    tab = \"<table border=1 style='font-size: 10px'>\"\n",
      "    for k in range(K):\n",
      "        vocab = vocabs[k,:]\n",
      "        popularWordIndices = vocab.argsort()[-count:][::-1]\n",
      "        tab += \"<tr><th rowspan=2>Topic \" + str(k) + \"</th>\"\n",
      "        tab += \"<td>\" + \"</td><td>\".join(d[w][:MaxWordLen] for w in popularWordIndices) + \"</td></tr>\"\n",
      "        tab += \"<tr><td>\" + \"</td><td>\".join(\"%5.3f\" % vocab[w] for w in popularWordIndices) + \"</td></tr>\"\n",
      "      \n",
      "    tab += \"</table>\"\n",
      "    return HTML(tab)\n",
      "\n",
      "def createTopicsTableLatex(wordDict, vocabs, count=10):\n",
      "    MaxWordLen   = 15\n",
      "    K,V = vocabs.shape\n",
      "    \n",
      "    tab = \"\\\\begin{tabular}{| r |\" + \"| c \" * count + \"|} \\n\"\n",
      "    tab += \"\\\\hline \\n\"\n",
      "    for k in range(K):\n",
      "        vocab = vocabs[k,:]\n",
      "        popularWordIndices = vocab.argsort()[-count:][::-1]\n",
      "        tab += \"Topic \" + str(k) + \" & \"\n",
      "        tab += \" & \".join(d[w][:MaxWordLen] for w in popularWordIndices) + \" \\\\\\\\ \\n\"\n",
      "        tab += \"a & \" + \" & \".join(\"%5.3f\" % vocab[w] for w in popularWordIndices) + \" \\\\\\\\ \\\\hline \\n\"\n",
      "      \n",
      "    tab += \"\\\\hline\\n\\\\end{tabular}\\n\"\n",
      "    return Latex(tab)\n",
      "\n",
      "\n",
      "def createTopicsTableAscii(wordDict, vocabs, count=10):\n",
      "    MaxWordLen   = 15\n",
      "    NumLen       = 6\n",
      "    sfmt = \"%\" + str(MaxWordLen) + \"s\"\n",
      "    nfmt = \"%\" + str(NumLen) + \".\" + str(NumLen - 2) + \"f\" + \" \" * (MaxWordLen - NumLen)\n",
      "    K,V = vocabs.shape\n",
      "    \n",
      "    tab = \"\"\n",
      "    for k in range(K):\n",
      "        vocab = vocabs[k,:]\n",
      "        popularWordIndices = vocab.argsort()[-count:][::-1]\n",
      "        tab += \"Topic %3d  \" % k\n",
      "        tab += \"  \".join(sfmt % d[w][:MaxWordLen] for w in popularWordIndices) + \" \\n\"\n",
      "        tab += \"           \" + \"  \".join(nfmt % vocab[w] for w in popularWordIndices) + \" \\n\"\n",
      "      \n",
      "    return tab\n",
      "            "
     ],
     "language": "python",
     "metadata": {},
     "outputs": [],
     "prompt_number": 109
    },
    {
     "cell_type": "markdown",
     "metadata": {},
     "source": [
      "## Condensing the dataset into author-documents"
     ]
    },
    {
     "cell_type": "code",
     "collapsed": false,
     "input": [
      "# The total number of users\n",
      "tweeterTopicPath = path + \"/words-by-author.pkl\"\n",
      "tweeterTopicEtcPath = path + \"/words-by-author-all-in-one.pkl\"\n",
      "\n",
      "if os.path.exists(tweeterTopicEtcPath):\n",
      "    with open (tweeterTopicEtcPath, 'rb') as f:\n",
      "        user_dict, _, W_U = pkl.load(f)\n",
      "else:\n",
      "    X_U_total = np.asarray(np.squeeze (np.sum(X_U.todense(), axis=0)))\n",
      "    zero_tweet_users=np.where(X_U_total ==0)[1]\n",
      "    \n",
      "    totalUserCount = X_U.shape[1]\n",
      "    \n",
      "    user_dict = []\n",
      "    D_u = totalUserCount - zero_tweet_users.shape[0]\n",
      "    W_U = ssp.lil_matrix((D_u, W.shape[1]), dtype=W.dtype)\n",
      "    \n",
      "    uIdx = 0\n",
      "    for u in range(totalUserCount):\n",
      "        if u in zero_tweet_users:\n",
      "            continue\n",
      "        \n",
      "        user_dict.append(users[u])\n",
      "        W_U[uIdx,:] = ssp.lil_matrix(W[np.where(y_u==u)[0],:]).sum(axis=0)\n",
      "        \n",
      "        uIdx += 1\n",
      "    \n",
      "    W_U = W_U.tocsr()\n",
      "\n",
      "    with open(tweeterTopicPath, 'wb') as f:\n",
      "        pkl.dump(W_U, f)\n",
      "    with open(tweeterTopicEtcPath, 'wb') as f:\n",
      "        pkl.dump((user_dict, d, W_U), f)"
     ],
     "language": "python",
     "metadata": {},
     "outputs": [],
     "prompt_number": 115
    },
    {
     "cell_type": "markdown",
     "metadata": {},
     "source": [
      "Just as a sanity check we look at the word distribution for a user known as `FakeFernando` who has an interest in formula one racing and pop culture. We would expect to see mentions of Lewis Hamilton, \"Nando\" and references to the BBC F1 coverage."
     ]
    },
    {
     "cell_type": "code",
     "collapsed": false,
     "input": [
      "FakeFernandosTweets = W[np.where(y_u==users.index(\"FakeFernando\"))[0],:]"
     ],
     "language": "python",
     "metadata": {},
     "outputs": [],
     "prompt_number": 116
    },
    {
     "cell_type": "markdown",
     "metadata": {},
     "source": [
      "These are the words from a sample tweet"
     ]
    },
    {
     "cell_type": "code",
     "collapsed": false,
     "input": [
      "[d[w] for w in FakeFernandosTweets[1010,:].indices]"
     ],
     "language": "python",
     "metadata": {},
     "outputs": [
      {
       "metadata": {},
       "output_type": "pyout",
       "prompt_number": 117,
       "text": [
        "['all', 'yai', 'hug', 'around', 'man', '@fakevivian']"
       ]
      }
     ],
     "prompt_number": 117
    },
    {
     "cell_type": "code",
     "collapsed": false,
     "input": [
      "FatFakeFernandosTweets = np.asarray(FakeFernandosTweets.todense())"
     ],
     "language": "python",
     "metadata": {},
     "outputs": [],
     "prompt_number": 118
    },
    {
     "cell_type": "code",
     "collapsed": false,
     "input": [
      "#printTopics(d, FatFakeFernandosTweets.sum(axis=0), count=50)"
     ],
     "language": "python",
     "metadata": {},
     "outputs": [],
     "prompt_number": 119
    },
    {
     "cell_type": "markdown",
     "metadata": {},
     "source": [
      "## A Simple K-Means Clustering"
     ]
    },
    {
     "cell_type": "code",
     "collapsed": false,
     "input": [
      "from sklearn.cluster import KMeans\n",
      "from sklearn.preprocessing import normalize"
     ],
     "language": "python",
     "metadata": {},
     "outputs": [],
     "prompt_number": 120
    },
    {
     "cell_type": "code",
     "collapsed": false,
     "input": [
      "W_U_TF = W_U.copy().astype(np.float64)\n",
      "W_U_TF = normalize (W_U_TF, norm='l1', axis=1)"
     ],
     "language": "python",
     "metadata": {},
     "outputs": [],
     "prompt_number": 121
    },
    {
     "cell_type": "code",
     "collapsed": false,
     "input": [
      "cluster = KMeans(n_clusters=20, init='k-means++', precompute_distances=True)"
     ],
     "language": "python",
     "metadata": {},
     "outputs": [],
     "prompt_number": 122
    },
    {
     "cell_type": "code",
     "collapsed": false,
     "input": [
      "result = cluster.fit(W_U_TF)"
     ],
     "language": "python",
     "metadata": {},
     "outputs": [],
     "prompt_number": 123
    },
    {
     "cell_type": "code",
     "collapsed": false,
     "input": [
      "topWordCount = 30\n",
      "for k in range(len(cluster.cluster_centers_)):\n",
      "    print (\"\\n\\nTopic %d\\n====================\\n\\t\" % k, end=\"\")\n",
      "    topWords = np.argsort(cluster.cluster_centers_[k,:])[-topWordCount:][::-1]\n",
      "    print (\"\\n\\t\".join (d[wid] for wid in topWords))"
     ],
     "language": "python",
     "metadata": {},
     "outputs": [
      {
       "output_type": "stream",
       "stream": "stdout",
       "text": [
        "\n",
        "\n",
        "Topic 0\n",
        "====================\n",
        "\t#f1\n",
        "\t@fakefernando\n",
        "\tyou\n",
        "\twe\n",
        "\thave\n",
        "\t@fakevivian\n",
        "\t#eurovision2013\n",
        "\tgo\n",
        "\tso\n",
        "\the\n",
        "\trace\n",
        "\tjust\n",
        "\tcar\n",
        "\t:)\n",
        "\tmy\n",
        "\tget\n",
        "\ttime\n",
        "\tdo\n",
        "\tfrom\n",
        "\tlike\n",
        "\t#canadiangp\n",
        "\talonso\n",
        "\twell\n",
        "\tnow\n",
        "\twhat\n",
        "\tme\n",
        "\tlap\n",
        "\tcan\n",
        "\tlook\n",
        "\t#spanishgp\n",
        "\n",
        "\n",
        "Topic 1\n",
        "====================\n",
        "\tde\n",
        "\ten\n",
        "\tla\n",
        "\tel\n",
        "\tque\n",
        "\tlo\n",
        "\tpor\n",
        "\tes\n",
        "\tun\n",
        "\tpara\n",
        "\tcon\n",
        "\tse\n",
        "\tdel\n",
        "\tsu\n",
        "\tuna\n",
        "\tal\n",
        "\tme\n",
        "\tpero\n",
        "\ttodo\n",
        "\tyou\n",
        "\tmy\n",
        "\tsi\n",
        "\tflight\n",
        "\thoi\n",
        "\tant\n",
        "\tya\n",
        "\tus\n",
        "\tle\n",
        "\tgracia\n",
        "\tfinal\n",
        "\n",
        "\n",
        "Topic 2\n",
        "====================\n",
        "\tyou\n",
        "\tthank\n",
        "\t:)\n",
        "\thave\n",
        "\tmy\n",
        "\tyour\n",
        "\tso\n",
        "\twe\n",
        "\tlove\n",
        "\tgood\n",
        "\tme\n",
        "\tgreat\n",
        "\tit\n",
        "\tjust\n",
        "\tdo\n",
        "\tall\n",
        "\tget\n",
        "\tsee\n",
        "\twhat\n",
        "\tlike\n",
        "\ton\n",
        "\tfrom\n",
        "\tour\n",
        "\tlook\n",
        "\tdai\n",
        "\ttoo\n",
        "\tcan\n",
        "\ti'm\n",
        "\tus\n",
        "\ttodai\n",
        "\n",
        "\n",
        "Topic 3\n",
        "====================\n",
        "\tyou\n",
        "\tyour\n",
        "\twe\n",
        "\tour\n",
        "\tus\n",
        "\tout\n",
        "\thave\n",
        "\tthank\n",
        "\there\n",
        "\tfrom\n",
        "\twhat\n",
        "\tget\n",
        "\tcan\n",
        "\tall\n",
        "\tnew\n",
        "\tdo\n",
        "\tmore\n",
        "\tabout\n",
        "\tit\n",
        "\tso\n",
        "\thow\n",
        "\tgood\n",
        "\tgreat\n",
        "\tlook\n",
        "\tsee\n",
        "\tnow\n",
        "\tup\n",
        "\tlove\n",
        "\ttodai\n",
        "\tgo\n",
        "\n",
        "\n",
        "Topic 4\n",
        "====================\n",
        "\tfund\n",
        "\thedg\n",
        "\tnew\n",
        "\tout\n",
        "\tstori\n",
        "\tvia\n",
        "\ttop\n",
        "\ttodai\n",
        "\t\u25b8\n",
        "\tmanag\n",
        "\tmillion\n",
        "\tsec\n",
        "\tfrom\n",
        "\tinvest\n",
        "\tpai\n",
        "\tbillion\n",
        "\tguilti\n",
        "\tus\n",
        "\tinvestor\n",
        "\tfraud\n",
        "\tup\n",
        "\tsac\n",
        "\ttrade\n",
        "\t2013\n",
        "\tscheme\n",
        "\tagainst\n",
        "\tlaunch\n",
        "\tdown\n",
        "\tinsid\n",
        "\tplead\n",
        "\n",
        "\n",
        "Topic 5\n",
        "====================\n",
        "\tbank\n",
        "\tjapan\n",
        "\taccount\n",
        "\tmonetari\n",
        "\tjune\n",
        "\t2013\n",
        "\trate\n",
        "\tjuli\n",
        "\tinterest\n",
        "\taverag\n",
        "\tmai\n",
        "\tend\n",
        "\tdeposit\n",
        "\ttype\n",
        "\teconom\n",
        "\toper\n",
        "\tfinanci\n",
        "\tbalanc\n",
        "\tmarket\n",
        "\tpolici\n",
        "\tprice\n",
        "\tcurrent\n",
        "\taug\n",
        "\tpaper\n",
        "\tfigur\n",
        "\tindex\n",
        "\tjapanes\n",
        "\tcorpor\n",
        "\tbase\n",
        "\treport\n",
        "\n",
        "\n",
        "Topic 6\n",
        "====================\n",
        "\tvs\n",
        "\tflipken\n",
        "\tkirsten\n",
        "\t#rg13\n",
        "\t#update\n",
        "\tround\n",
        "\t@rolandgarros\n",
        "\tgoffin\n",
        "\tdavid\n",
        "\tmaliss\n",
        "\t2d\n",
        "\txavier\n",
        "\twta\n",
        "\t#live\n",
        "\tsteve\n",
        "\tdarci\n",
        "\ttoronto\n",
        "\tflavia\n",
        "\t#rolandgarros\n",
        "\tfirst\n",
        "\tfrom\n",
        "\twickmay\n",
        "\tkiki\n",
        "\tcourt\n",
        "\t@wimbledon\n",
        "\tberten\n",
        "\topen\n",
        "\tnovak\n",
        "\t@tennisreporters\n",
        "\tjust\n",
        "\n",
        "\n",
        "Topic 7\n",
        "====================\n",
        "\tnew\n",
        "\tfrom\n",
        "\tmore\n",
        "\tus\n",
        "\t#49ers\n",
        "\tbank\n",
        "\tyou\n",
        "\thave\n",
        "\t#bettermn\n",
        "\tout\n",
        "\tyear\n",
        "\twomen\n",
        "\tup\n",
        "\tour\n",
        "\tdai\n",
        "\tdo\n",
        "\tset\n",
        "\tmarket\n",
        "\twe\n",
        "\tsai\n",
        "\tafter\n",
        "\tget\n",
        "\tha\n",
        "\treport\n",
        "\ttime\n",
        "\tmake\n",
        "\t#daylightfordeadeyes\n",
        "\tit\n",
        "\thow\n",
        "\t#mnleg\n",
        "\n",
        "\n",
        "Topic 8\n",
        "====================\n",
        "\tblue\n",
        "\tout\n",
        "\ttodai\n",
        "\tvia\n",
        "\t\u25b8\n",
        "\tstori\n",
        "\ttop\n",
        "\tnew\n",
        "\tbell\n",
        "\tinn\n",
        "\twale\n",
        "\tevent\n",
        "\tdaili\n",
        "\tbooz\n",
        "\tyou\n",
        "\tfrom\n",
        "\there\n",
        "\tphoto\n",
        "\tsome\n",
        "\ttonight\n",
        "\tgoogl\n",
        "\tmusic\n",
        "\tnight\n",
        "\twe\n",
        "\tgreat\n",
        "\thave\n",
        "\tit\n",
        "\tour\n",
        "\tlook\n",
        "\t\u25bc\n",
        "\n",
        "\n",
        "Topic 9\n",
        "====================\n",
        "\t#rg13\n",
        "\t#roadtorg\n",
        "\tde\n",
        "\tle\n",
        "\tset\n",
        "\tpour\n",
        "\tla\n",
        "\tet\n",
        "\t@rolandgarros\n",
        "\ten\n",
        "\tdan\n",
        "\tface\n",
        "\tfinal\n",
        "\t#frenchopen\n",
        "\t#tennis\n",
        "\tun\n",
        "\tyou\n",
        "\tmatch\n",
        "\tnadal\n",
        "\t@rafaelnadal\n",
        "\tquestion\n",
        "\tsur\n",
        "\t6/4\n",
        "\tqui\n",
        "\tau\n",
        "\tball\n",
        "\t@serenawilliams\n",
        "\tjeu\n",
        "\tse\n",
        "\tcc\n",
        "\n",
        "\n",
        "Topic 10\n",
        "====================\n",
        "\t#craftbeer\n",
        "\t#beer\n",
        "\tbeer\n",
        "\tbrew\n",
        "\t#boston\n",
        "\tbreweri\n",
        "\tfest\n",
        "\tvideo\n",
        "\treview\n",
        "\tamerican\n",
        "\t#acbf\n",
        "\tyou\n",
        "\tal\n",
        "\tlist\n",
        "\tnew\n",
        "\tad\n",
        "\tout\n",
        "\thttp://beeradvocate.com/acbf/beer\n",
        "\tco\n",
        "\tour\n",
        "\tcraft\n",
        "\ttodai\n",
        "\tipa\n",
        "\tus\n",
        "\tlike\n",
        "\treleas\n",
        "\twe\n",
        "\ttop\n",
        "\tvia\n",
        "\tnow\n",
        "\n",
        "\n",
        "Topic 11\n",
        "====================\n",
        "\tyou\n",
        "\the\n",
        "\tso\n",
        "\tjust\n",
        "\thave\n",
        "\tlike\n",
        "\tmy\n",
        "\tit\n",
        "\ti'm\n",
        "\tshe\n",
        "\tall\n",
        "\tget\n",
        "\twhat\n",
        "\tme\n",
        "\tgo\n",
        "\t:)\n",
        "\ther\n",
        "\tmatch\n",
        "\tha\n",
        "\tabout\n",
        "\tfrom\n",
        "\thi\n",
        "\tdo\n",
        "\tout\n",
        "\tup\n",
        "\ton\n",
        "\tnow\n",
        "\tdon't\n",
        "\tplai\n",
        "\tlol\n",
        "\n",
        "\n",
        "Topic 12\n",
        "====================\n",
        "\tyou\n",
        "\tour\n",
        "\tbeer\n",
        "\twe\n",
        "\tyour\n",
        "\tus\n",
        "\thave\n",
        "\tthank\n",
        "\tout\n",
        "\tget\n",
        "\tdai\n",
        "\tgreat\n",
        "\tbrew\n",
        "\tfrom\n",
        "\ttodai\n",
        "\tit\n",
        "\tcome\n",
        "\tup\n",
        "\tjust\n",
        "\tall\n",
        "\tnew\n",
        "\ttonight\n",
        "\tso\n",
        "\tgood\n",
        "\twhat\n",
        "\tbreweri\n",
        "\tsome\n",
        "\tnow\n",
        "\tdo\n",
        "\ton\n",
        "\n",
        "\n",
        "Topic 13\n",
        "====================\n",
        "\tgame\n",
        "\tstat\n",
        "\tb-r\n",
        "\tvs\n",
        "\tet\n",
        "\tsheet\n",
        "\t10pm\n",
        "\t05pm\n",
        "\ttibh\n",
        "\tlist\n",
        "\tfull\n",
        "\t10\n",
        "\t15pm\n",
        "\tall\n",
        "\t#cardinals\n",
        "\t#giants\n",
        "\tfree\n",
        "\thttp://www.baseball-reference.com/friv/birthdays.cgi\n",
        "\tbornthisd\n",
        "\t#brewers\n",
        "\t#dodgers\n",
        "\t#tigers\n",
        "\t#dbacks\n",
        "\t#phillies\n",
        "\t#astros\n",
        "\t#rangers\n",
        "\t#redsox\n",
        "\t#rockies\n",
        "\t#padres\n",
        "\t#cubs\n",
        "\n",
        "\n",
        "Topic 14\n",
        "====================\n",
        "\tset\n",
        "\the\n",
        "\tmatch\n",
        "\tbreak\n",
        "\tfirst\n",
        "\twin\n",
        "\tfrom\n",
        "\tha\n",
        "\tup\n",
        "\tserv\n",
        "\tplai\n",
        "\tnow\n",
        "\tget\n",
        "\tshe\n",
        "\tyou\n",
        "\thave\n",
        "\thi\n",
        "\ther\n",
        "\tall\n",
        "\tjust\n",
        "\tout\n",
        "\tserena\n",
        "\topen\n",
        "\tfinal\n",
        "\tover\n",
        "\tpoint\n",
        "\tgood\n",
        "\tso\n",
        "\ton\n",
        "\ttake\n",
        "\n",
        "\n",
        "Topic 15\n",
        "====================\n",
        "\tyou\n",
        "\twe\n",
        "\tfrom\n",
        "\thave\n",
        "\tnew\n",
        "\tabout\n",
        "\tmy\n",
        "\tout\n",
        "\twhat\n",
        "\tus\n",
        "\tvia\n",
        "\tour\n",
        "\tyour\n",
        "\tall\n",
        "\tget\n",
        "\ttodai\n",
        "\tso\n",
        "\the\n",
        "\tit\n",
        "\tmore\n",
        "\tdo\n",
        "\tup\n",
        "\tjust\n",
        "\thow\n",
        "\tha\n",
        "\tlike\n",
        "\tnow\n",
        "\twomen\n",
        "\twho\n",
        "\there\n",
        "\n",
        "\n",
        "Topic 16\n",
        "====================\n",
        "\tyou\n",
        "\tmy\n",
        "\thave\n",
        "\tme\n",
        "\tjust\n",
        "\tso\n",
        "\tlike\n",
        "\tit\n",
        "\tyour\n",
        "\tdo\n",
        "\tget\n",
        "\twhat\n",
        "\tall\n",
        "\tabout\n",
        "\ti'm\n",
        "\ton\n",
        "\tfrom\n",
        "\tup\n",
        "\tgo\n",
        "\tout\n",
        "\tcan\n",
        "\twe\n",
        "\tgood\n",
        "\tnow\n",
        "\tthink\n",
        "\ttime\n",
        "\tlook\n",
        "\tknow\n",
        "\tus\n",
        "\tnew\n",
        "\n",
        "\n",
        "Topic 17\n",
        "====================\n",
        "\t#abortion\n",
        "\t#women\n",
        "\t#antichoice\n",
        "\t#prochoice\n",
        "\t#gop\n",
        "\t#healthcare\n",
        "\t#birthcontrol\n",
        "\tnew\n",
        "\t#texas\n",
        "\tbill\n",
        "\t#contraception\n",
        "\trestrict\n",
        "\trmc\n",
        "\tlaw\n",
        "\tban\n",
        "\tstate\n",
        "\twe\n",
        "\taccess\n",
        "\t#republican\n",
        "\t#congress\n",
        "\twomen\n",
        "\trespond\n",
        "\tus\n",
        "\tright\n",
        "\tmore\n",
        "\tweek\n",
        "\tsupport\n",
        "\tabout\n",
        "\ttodai\n",
        "\tout\n",
        "\n",
        "\n",
        "Topic 18\n",
        "====================\n",
        "\tanchor\n",
        "\tsteam\n",
        "\tcheer\n",
        "\tbrew\n",
        "\tyou\n",
        "\tyour\n",
        "\tthank\n",
        "\t#raiseyouranchor\n",
        "\t#todayatanchor\n",
        "\tenjoi\n",
        "\tbeer\n",
        "\tbottl\n",
        "\track\n",
        "\tour\n",
        "\t#anchorsteam\n",
        "\tcalifornia\n",
        "\tlager\n",
        "\tus\n",
        "\tgreat\n",
        "\twe\n",
        "\t#craftbeer\n",
        "\tal\n",
        "\tsummer\n",
        "\tglad\n",
        "\tout\n",
        "\tphoto\n",
        "\thope\n",
        "\t#sf\n",
        "\tyou'r\n",
        "\tlike\n",
        "\n",
        "\n",
        "Topic 19\n",
        "====================\n",
        "\tbeer\n",
        "\tyou\n",
        "\tjust\n",
        "\tdrink\n",
        "\ti'm\n",
        "\tfrom\n",
        "\tnew\n",
        "\tvia\n",
        "\tmy\n",
        "\tgreat\n",
        "\tbrew\n",
        "\tal\n",
        "\twe\n",
        "\thave\n",
        "\ttoronto\n",
        "\ttime\n",
        "\tdai\n",
        "\tgood\n",
        "\tget\n",
        "\tus\n",
        "\t#craftbeer\n",
        "\tbreweri\n",
        "\tour\n",
        "\tout\n",
        "\t@untappd\n",
        "\tbadg\n",
        "\tearn\n",
        "\tit\n",
        "\tup\n",
        "\tnow\n"
       ]
      }
     ],
     "prompt_number": 132
    },
    {
     "cell_type": "code",
     "collapsed": false,
     "input": [],
     "language": "python",
     "metadata": {},
     "outputs": []
    }
   ],
   "metadata": {}
  }
 ]
}