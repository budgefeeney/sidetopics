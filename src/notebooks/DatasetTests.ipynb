{
 "metadata": {
  "name": ""
 },
 "nbformat": 3,
 "nbformat_minor": 0,
 "worksheets": [
  {
   "cells": [
    {
     "cell_type": "markdown",
     "metadata": {},
     "source": [
      "# Configuration"
     ]
    },
    {
     "cell_type": "code",
     "collapsed": false,
     "input": [
      "import sys\n",
      "\n",
      "path = \"/Users/bryanfeeney/Desktop/SmallerDB-NoCJK-WithFeats-Fixed\"\n",
      "codePath = \"/Users/bryanfeeney/Workspace/sidetopics/src\"\n",
      "reconstructSparse=False\n",
      "\n",
      "sys.path.append(codePath)\n",
      "%run /Users/bryanfeeney/Desktop/SmallerDB-NoCJK-WithFeats-Fixed/dicts.py"
     ],
     "language": "python",
     "metadata": {},
     "outputs": [],
     "prompt_number": 141
    },
    {
     "cell_type": "markdown",
     "metadata": {},
     "source": [
      "# Prelude"
     ]
    },
    {
     "cell_type": "code",
     "collapsed": false,
     "input": [
      "import numpy as np\n",
      "import numpy.random as rd\n",
      "import scipy as sp\n",
      "import scipy.linalg as la\n",
      "import scipy.sparse as ssp\n",
      "import scipy.sparse.linalg as sla\n",
      "import pickle as pkl\n",
      "import matplotlib.pyplot as plt\n",
      "import os\n",
      "%matplotlib inline\n",
      "\n",
      "import pickle as pkl\n",
      "import bottleneck\n",
      "\n"
     ],
     "language": "python",
     "metadata": {},
     "outputs": [],
     "prompt_number": 142
    },
    {
     "cell_type": "markdown",
     "metadata": {},
     "source": [
      "# Basic Data Analysis\n",
      "## Load the data\n",
      "Optionally we may reconstruct the sparse matrices from the individual dense numpy objects. These are then dumped back to disk, overwriting the old ones."
     ]
    },
    {
     "cell_type": "code",
     "collapsed": false,
     "input": [
      "if reconstructSparse:\n",
      "    W_data = np.load(path + \"/words-data.npy\")\n",
      "    W_ind  = np.load(path + \"/words-indices.npy\")\n",
      "    W_ptr  = np.load(path + \"/words-indptr.npy\")\n",
      "\n",
      "    X_data = np.load(path + \"/side-data.npy\")\n",
      "    X_ind  = np.load(path + \"/side-indices.npy\")\n",
      "    X_ptr  = np.load(path + \"/side-indptr.npy\")\n",
      "\n",
      "    W = ssp.csr_matrix((W_data, W_ind, W_ptr))\n",
      "    X = ssp.csr_matrix((X_data, X_ind, X_ptr))\n",
      "\n",
      "    with open(path + \"/words.pkl\", 'wb') as f:\n",
      "        pkl.dump(ssp.csr_matrix((W_data, W_ind, W_ptr)), f)\n",
      "\n",
      "    with open(path + \"/side.pkl\", 'wb') as f:\n",
      "        pkl.dump(ssp.csr_matrix((X_data, X_ind, X_ptr)), f)\n",
      "\n",
      "    (W.shape, X.shape)"
     ],
     "language": "python",
     "metadata": {},
     "outputs": [],
     "prompt_number": 143
    },
    {
     "cell_type": "code",
     "collapsed": false,
     "input": [
      "with open(path + \"/words.pkl\", 'rb') as f:\n",
      "    W = pkl.load(f)\n",
      "with open(path + \"/side.pkl\", 'rb') as f:\n",
      "    X = pkl.load(f)"
     ],
     "language": "python",
     "metadata": {},
     "outputs": [],
     "prompt_number": 144
    },
    {
     "cell_type": "markdown",
     "metadata": {},
     "source": [
      "##\u00a0Document Count and Length\n",
      "Document, feature and term counts. Total word-count. Distribution over document lengths."
     ]
    },
    {
     "cell_type": "code",
     "collapsed": false,
     "input": [
      "(D,T) = W.shape\n",
      "(D_check,F) = X.shape\n",
      "\n",
      "\n",
      "(D, D_check == D, T, F)"
     ],
     "language": "python",
     "metadata": {},
     "outputs": [
      {
       "metadata": {},
       "output_type": "pyout",
       "prompt_number": 145,
       "text": [
        "(575591, True, 79799, 420)"
       ]
      }
     ],
     "prompt_number": 145
    },
    {
     "cell_type": "code",
     "collapsed": false,
     "input": [
      "np.sum(W.data)"
     ],
     "language": "python",
     "metadata": {},
     "outputs": [
      {
       "metadata": {},
       "output_type": "pyout",
       "prompt_number": 146,
       "text": [
        "5560927"
       ]
      }
     ],
     "prompt_number": 146
    },
    {
     "cell_type": "code",
     "collapsed": false,
     "input": [
      "docLen = np.squeeze(np.asarray (W.sum(axis=1)))\n",
      "np.where(docLen < 1)"
     ],
     "language": "python",
     "metadata": {},
     "outputs": [
      {
       "metadata": {},
       "output_type": "pyout",
       "prompt_number": 147,
       "text": [
        "(array([], dtype=int64),)"
       ]
      }
     ],
     "prompt_number": 147
    },
    {
     "cell_type": "code",
     "collapsed": false,
     "input": [
      "fig, ax = plt.subplots()\n",
      "counts, bins, patches = ax.hist(docLen, bins=40, range=(0,40))\n",
      "ax.set_xlabel(\"Token Count\")\n",
      "ax.set_ylabel(\"Tweet Count\")\n",
      "pass"
     ],
     "language": "python",
     "metadata": {},
     "outputs": [
      {
       "metadata": {},
       "output_type": "display_data",
       "png": "[encoded data removed]",
       "text": [
        "<matplotlib.figure.Figure at 0x10e3caf10>"
       ]
      }
     ],
     "prompt_number": 148
    },
    {
     "cell_type": "markdown",
     "metadata": {},
     "source": [
      "Note that tweets containing fewer than four tokens were not admitted to the dataset when preprocessing, which is why this graph starts at 4 and not 0 or 1"
     ]
    },
    {
     "cell_type": "markdown",
     "metadata": {},
     "source": [
      "## Word-Counts and Dictionary Sizes\n",
      "Total dictionary size, and dictionary size per token type"
     ]
    },
    {
     "cell_type": "code",
     "collapsed": false,
     "input": [
      "import itertools\n",
      "d = list(itertools.chain.from_iterable(words))\n",
      "len(d)"
     ],
     "language": "python",
     "metadata": {},
     "outputs": [
      {
       "metadata": {},
       "output_type": "pyout",
       "prompt_number": 149,
       "text": [
        "79800"
       ]
      }
     ],
     "prompt_number": 149
    },
    {
     "cell_type": "code",
     "collapsed": false,
     "input": [
      "dictNames = ['Addressee', 'URL', 'Text', 'Stock', 'Emoticon', 'Hashtag']\n",
      "dicts     = [ wordsUsername, wordsUrl, wordsToken, wordsStock, wordsEmoticon, wordsHashtag, ]\n",
      "dictLens  = dict (zip(dictNames, [len(w) for w in dicts]))\n",
      "dictLens"
     ],
     "language": "python",
     "metadata": {},
     "outputs": [
      {
       "metadata": {},
       "output_type": "pyout",
       "prompt_number": 150,
       "text": [
        "{'Addressee': 0,\n",
        " 'Emoticon': 593,\n",
        " 'Hashtag': 13347,\n",
        " 'Stock': 454,\n",
        " 'Text': 63421,\n",
        " 'URL': 1985}"
       ]
      }
     ],
     "prompt_number": 150
    },
    {
     "cell_type": "markdown",
     "metadata": {},
     "source": [
      "For convenience later define the start and end of each token type, so we can slice the word matrix and just do inference, on for example, hashtags."
     ]
    },
    {
     "cell_type": "code",
     "collapsed": false,
     "input": [
      "dictStarts = dict()\n",
      "acc = 0\n",
      "for k in dictNames:\n",
      "    dictStarts[k] = acc\n",
      "    acc += dictLens[k]\n",
      "dictStarts\n",
      "    "
     ],
     "language": "python",
     "metadata": {},
     "outputs": [
      {
       "metadata": {},
       "output_type": "pyout",
       "prompt_number": 151,
       "text": [
        "{'Addressee': 0,\n",
        " 'Emoticon': 65860,\n",
        " 'Hashtag': 66453,\n",
        " 'Stock': 65406,\n",
        " 'Text': 1985,\n",
        " 'URL': 0}"
       ]
      }
     ],
     "prompt_number": 151
    },
    {
     "cell_type": "code",
     "collapsed": false,
     "input": [
      "dictEnds = dict()\n",
      "for i in range(len(dictNames) - 1):\n",
      "    dictEnds[dictNames[i]] = dictStarts[dictNames[i + 1]]\n",
      "dictEnds[dictNames[-1]] = len(d)\n",
      "dictEnds"
     ],
     "language": "python",
     "metadata": {},
     "outputs": [
      {
       "metadata": {},
       "output_type": "pyout",
       "prompt_number": 152,
       "text": [
        "{'Addressee': 0,\n",
        " 'Emoticon': 66453,\n",
        " 'Hashtag': 79800,\n",
        " 'Stock': 65860,\n",
        " 'Text': 65406,\n",
        " 'URL': 1985}"
       ]
      }
     ],
     "prompt_number": 152
    },
    {
     "cell_type": "markdown",
     "metadata": {},
     "source": [
      "###\u00a0Sanity check"
     ]
    },
    {
     "cell_type": "markdown",
     "metadata": {},
     "source": [
      "Just to verify that the words have been adequately extracted, we recreate a tweet from its vector representation using the dictionary. We already know that the first row in the document-term matrix $W$ corresponds to the first tweet from the ACLU account, which reads:\n",
      "\n",
      "> Sen. Lautenberg was a champion for religious liberty, women's rights & reproductive freedom. We will miss his voice & passion."
     ]
    },
    {
     "cell_type": "code",
     "collapsed": false,
     "input": [
      "[d[i] for i in W.indices[0:W.indptr[1]]]"
     ],
     "language": "python",
     "metadata": {},
     "outputs": [
      {
       "metadata": {},
       "output_type": "pyout",
       "prompt_number": 153,
       "text": [
        "['we',\n",
        " 'women',\n",
        " 'hi',\n",
        " 'liberti',\n",
        " 'passion',\n",
        " 'miss',\n",
        " 'champion',\n",
        " 'voic',\n",
        " 'reproduct',\n",
        " 'religi',\n",
        " 'freedom',\n",
        " 'sen',\n",
        " 'lautenberg',\n",
        " 'right']"
       ]
      }
     ],
     "prompt_number": 153
    },
    {
     "cell_type": "markdown",
     "metadata": {},
     "source": [
      "###\u00a0Minimum and Maximum Count of Each Class of Token"
     ]
    },
    {
     "cell_type": "code",
     "collapsed": false,
     "input": [
      "totalCount = np.squeeze(np.asarray (W.astype(np.int32).sum(axis=0)))\n",
      "\n",
      "totalCounts = dict()\n",
      "endExcl = 0\n",
      "for i in range(len(dicts)):\n",
      "    name = dictNames[i]\n",
      "    startIncl  = endExcl\n",
      "    endExcl   += len(dicts[i])\n",
      "    totalCounts[name] = totalCount[startIncl:endExcl]"
     ],
     "language": "python",
     "metadata": {},
     "outputs": [],
     "prompt_number": 154
    },
    {
     "cell_type": "code",
     "collapsed": false,
     "input": [
      "for k,v in totalCounts.items():\n",
      "    dict_k = dicts[dictNames.index(k)]\n",
      "    print (\"Min(%s): count = %d, token = %s\" % (k , v.min() if len(v) > 0 else -1, dict_k[v.argmin()] if len(v) > 0 else \"\"))"
     ],
     "language": "python",
     "metadata": {},
     "outputs": [
      {
       "output_type": "stream",
       "stream": "stdout",
       "text": [
        "Min(Stock): count = 0, token = $nq\n",
        "Min(URL): count = 0, token = http://www.youtube.com/watch?v=nYu6hfmVZk8\n",
        "Min(Addressee): count = -1, token = \n",
        "Min(Hashtag): count = 0, token = #dfmchat\n",
        "Min(Text): count = 0, token = 3\n",
        "Min(Emoticon): count = 0, token = \u00a7\n"
       ]
      }
     ],
     "prompt_number": 155
    },
    {
     "cell_type": "code",
     "collapsed": false,
     "input": [
      "for k,v in totalCounts.items():\n",
      "    dict_k = dicts[dictNames.index(k)]\n",
      "    print (\"Max(%s): count = %d, token = %s\" % (k , v.max() if len(v) > 0 else -1, dict_k[v.argmax()] if len(v) > 0 else \"\"))"
     ],
     "language": "python",
     "metadata": {},
     "outputs": [
      {
       "output_type": "stream",
       "stream": "stdout",
       "text": [
        "Max(Stock): count = 561, token = $aapl\n",
        "Max(URL): count = 435, token = http://dirtywars.org\n",
        "Max(Addressee): count = -1, token = \n",
        "Max(Hashtag): count = 3727, token = #usopen\n",
        "Max(Text): count = 98298, token = you\n",
        "Max(Emoticon): count = 17023, token = :)\n"
       ]
      }
     ],
     "prompt_number": 156
    },
    {
     "cell_type": "markdown",
     "metadata": {},
     "source": [
      "Note that the emoticon is actually a supplemental unicode character, which Python here has failed to display correctly."
     ]
    },
    {
     "cell_type": "markdown",
     "metadata": {},
     "source": [
      "### Graph of Token Frequency\n",
      "The following graph is slightly confusing - it counts how many words occur how many times, with occurrence count on the Y axis and unique word count on the X axis"
     ]
    },
    {
     "cell_type": "code",
     "collapsed": false,
     "input": [
      "figRows = len([l for l in dictLens.values() if l > 0])\n",
      "print (str(figRows))\n",
      "figCols = 1\n",
      "figIdPrefix = \"%d%d\" % (figRows, figCols)\n",
      "\n",
      "plt.figure(1, figsize=(8,12), dpi=100)\n",
      "for i in range(len(dictNames)):\n",
      "    if dictLens[dictNames[i]] == 0:\n",
      "        continue\n",
      "    plt.subplot(figIdPrefix + str(i))\n",
      "    name = dictNames[i]\n",
      "    plt.hist (totalCounts[name], bins=min(len(totalCounts[name]), 100))[2]\n",
      "    plt.title(name)\n",
      "\n",
      "plt.show()\n"
     ],
     "language": "python",
     "metadata": {},
     "outputs": [
      {
       "output_type": "stream",
       "stream": "stdout",
       "text": [
        "5\n"
       ]
      },
      {
       "metadata": {},
       "output_type": "display_data",
       "png": "[encoded data removed]",
       "text": [
        "<matplotlib.figure.Figure at 0x110c85950>"
       ]
      }
     ],
     "prompt_number": 157
    },
    {
     "cell_type": "markdown",
     "metadata": {},
     "source": [
      "# Features\n"
     ]
    },
    {
     "cell_type": "code",
     "collapsed": false,
     "input": [
      "feats"
     ],
     "language": "python",
     "metadata": {},
     "outputs": [
      {
       "metadata": {},
       "output_type": "pyout",
       "prompt_number": 158,
       "text": [
        "{'author': 0, 'week_of_year': 398}"
       ]
      }
     ],
     "prompt_number": 158
    },
    {
     "cell_type": "code",
     "collapsed": false,
     "input": [
      "len(users)"
     ],
     "language": "python",
     "metadata": {},
     "outputs": [
      {
       "metadata": {},
       "output_type": "pyout",
       "prompt_number": 159,
       "text": [
        "363"
       ]
      }
     ],
     "prompt_number": 159
    },
    {
     "cell_type": "code",
     "collapsed": false,
     "input": [
      "X_U = X[:,0:len(users)]\n",
      "X_W = X[:,feats['week_of_year']:(feats['month_of_year'] - 1)]\n",
      "X_M = X[:,feats['month_of_year']:X.shape[1]]"
     ],
     "language": "python",
     "metadata": {},
     "outputs": [
      {
       "ename": "KeyError",
       "evalue": "'month_of_year'",
       "output_type": "pyerr",
       "traceback": [
        "\u001b[0;31m---------------------------------------------------------------------------\u001b[0m\n\u001b[0;31mKeyError\u001b[0m                                  Traceback (most recent call last)",
        "\u001b[0;32m<ipython-input-160-2947f399d629>\u001b[0m in \u001b[0;36m<module>\u001b[0;34m()\u001b[0m\n\u001b[1;32m      1\u001b[0m \u001b[0mX_U\u001b[0m \u001b[0;34m=\u001b[0m \u001b[0mX\u001b[0m\u001b[0;34m[\u001b[0m\u001b[0;34m:\u001b[0m\u001b[0;34m,\u001b[0m\u001b[0;36m0\u001b[0m\u001b[0;34m:\u001b[0m\u001b[0mlen\u001b[0m\u001b[0;34m(\u001b[0m\u001b[0musers\u001b[0m\u001b[0;34m)\u001b[0m\u001b[0;34m]\u001b[0m\u001b[0;34m\u001b[0m\u001b[0m\n\u001b[0;32m----> 2\u001b[0;31m \u001b[0mX_W\u001b[0m \u001b[0;34m=\u001b[0m \u001b[0mX\u001b[0m\u001b[0;34m[\u001b[0m\u001b[0;34m:\u001b[0m\u001b[0;34m,\u001b[0m\u001b[0mfeats\u001b[0m\u001b[0;34m[\u001b[0m\u001b[0;34m'week_of_year'\u001b[0m\u001b[0;34m]\u001b[0m\u001b[0;34m:\u001b[0m\u001b[0;34m(\u001b[0m\u001b[0mfeats\u001b[0m\u001b[0;34m[\u001b[0m\u001b[0;34m'month_of_year'\u001b[0m\u001b[0;34m]\u001b[0m \u001b[0;34m-\u001b[0m \u001b[0;36m1\u001b[0m\u001b[0;34m)\u001b[0m\u001b[0;34m]\u001b[0m\u001b[0;34m\u001b[0m\u001b[0m\n\u001b[0m\u001b[1;32m      3\u001b[0m \u001b[0mX_M\u001b[0m \u001b[0;34m=\u001b[0m \u001b[0mX\u001b[0m\u001b[0;34m[\u001b[0m\u001b[0;34m:\u001b[0m\u001b[0;34m,\u001b[0m\u001b[0mfeats\u001b[0m\u001b[0;34m[\u001b[0m\u001b[0;34m'month_of_year'\u001b[0m\u001b[0;34m]\u001b[0m\u001b[0;34m:\u001b[0m\u001b[0mX\u001b[0m\u001b[0;34m.\u001b[0m\u001b[0mshape\u001b[0m\u001b[0;34m[\u001b[0m\u001b[0;36m1\u001b[0m\u001b[0;34m]\u001b[0m\u001b[0;34m]\u001b[0m\u001b[0;34m\u001b[0m\u001b[0m\n",
        "\u001b[0;31mKeyError\u001b[0m: 'month_of_year'"
       ]
      }
     ],
     "prompt_number": 160
    },
    {
     "cell_type": "markdown",
     "metadata": {},
     "source": [
      "### Users\n",
      "We look at tweet rates per user. We also remove \"quiet\" users who've posted very few (less than 100) tweets. We examine the users who've posted very many tweets to ensure they're not bots."
     ]
    },
    {
     "cell_type": "code",
     "collapsed": false,
     "input": [
      "tweetCountsPerUser = np.squeeze(np.asarray (X_U.astype(np.int32).sum(axis=0)))"
     ],
     "language": "python",
     "metadata": {},
     "outputs": []
    },
    {
     "cell_type": "code",
     "collapsed": false,
     "input": [
      "tweetCountsPerUser.min(), tweetCountsPerUser.max()"
     ],
     "language": "python",
     "metadata": {},
     "outputs": []
    },
    {
     "cell_type": "code",
     "collapsed": false,
     "input": [
      "quietUsers = np.where(tweetCountsPerUser < 100)[0]\n",
      "for qu in quietUsers:\n",
      "    print (users[qu])"
     ],
     "language": "python",
     "metadata": {},
     "outputs": []
    },
    {
     "cell_type": "code",
     "collapsed": false,
     "input": [
      "tweetCountsPerUser.mean(), tweetCountsPerUser.std()"
     ],
     "language": "python",
     "metadata": {},
     "outputs": []
    },
    {
     "cell_type": "code",
     "collapsed": false,
     "input": [
      "[np.percentile(tweetCountsPerUser, q) for q in [25, 50, 75]]"
     ],
     "language": "python",
     "metadata": {},
     "outputs": []
    },
    {
     "cell_type": "code",
     "collapsed": false,
     "input": [
      "lt = np.log(tweetCountsPerUser)\n",
      "np.exp(lt.mean()), np.exp(lt.std())"
     ],
     "language": "python",
     "metadata": {},
     "outputs": []
    },
    {
     "cell_type": "code",
     "collapsed": false,
     "input": [
      "plt.hist(tweetCountsPerUser, bins=50, range=(0,5000))[2]\n",
      "plt.title(\"Tweet Counts per User\")\n",
      "plt.xlabel(\"Number of Tweets\")\n",
      "plt.ylabel(\"Number of Users\")"
     ],
     "language": "python",
     "metadata": {},
     "outputs": []
    },
    {
     "cell_type": "code",
     "collapsed": false,
     "input": [
      "noisyUsers = np.where(tweetCountsPerUser > 5000)[0]\n",
      "for nu in noisyUsers:\n",
      "    print (users[nu])"
     ],
     "language": "python",
     "metadata": {},
     "outputs": []
    },
    {
     "cell_type": "markdown",
     "metadata": {},
     "source": [
      "All of these actually look legitimate - some are extremely prolific users (e.g. IamLewise4fake) some are businesses (HuffPostPol and Benzinga)"
     ]
    },
    {
     "cell_type": "markdown",
     "metadata": {},
     "source": [
      "So we next remove the quiet users (as inference can't reliably be performed on users with so few tweets)"
     ]
    },
    {
     "cell_type": "code",
     "collapsed": false,
     "input": [
      "quietUser = quietUsers[0]\n",
      "quietFilter = (X[:,quietUser] == 1).todense()\n",
      "for quietUser in quietUsers:\n",
      "    quietFilter |= (X[:,quietUser] == 1).todense()\n",
      "\n",
      "noisyFilter = ~quietFilter\n",
      "noisyFilter = np.squeeze(np.asarray(noisyFilter))\n",
      "\n",
      "X_noisy = X[noisyFilter,:]\n",
      "W_noisy = W[noisyFilter,:]\n",
      "\n",
      "print (\"Stripped {:n} rows\".format(X.shape[0] - X_noisy.shape[0]))\n"
     ],
     "language": "python",
     "metadata": {},
     "outputs": []
    },
    {
     "cell_type": "code",
     "collapsed": false,
     "input": [
      "X = X_noisy\n",
      "W = W_noisy\n",
      "\n",
      "X_U = X[:,0:len(users)]\n",
      "X_W = X[:,feats['week_of_year']:(feats['month_of_year'] - 1)]\n",
      "X_M = X[:,feats['month_of_year']:X.shape[1]]\n",
      "\n",
      "D = W.shape[0]"
     ],
     "language": "python",
     "metadata": {},
     "outputs": []
    },
    {
     "cell_type": "code",
     "collapsed": false,
     "input": [
      "y_u = np.squeeze (np.asarray(np.argmax(X_U.todense(), axis=1)))\n",
      "len(y_u) == D"
     ],
     "language": "python",
     "metadata": {},
     "outputs": []
    },
    {
     "cell_type": "markdown",
     "metadata": {},
     "source": [
      "###\u00a0Weeks"
     ]
    },
    {
     "cell_type": "code",
     "collapsed": false,
     "input": [
      "tweetCountsPerWeek = np.squeeze(np.asarray (X_W.astype(np.int32).sum(axis=0)))"
     ],
     "language": "python",
     "metadata": {},
     "outputs": []
    },
    {
     "cell_type": "code",
     "collapsed": false,
     "input": [
      "tweetCountsPerWeek.min(), tweetCountsPerWeek.max()"
     ],
     "language": "python",
     "metadata": {},
     "outputs": []
    },
    {
     "cell_type": "code",
     "collapsed": false,
     "input": [
      "tweetCountsPerWeek.mean(), tweetCountsPerWeek.std()"
     ],
     "language": "python",
     "metadata": {},
     "outputs": []
    },
    {
     "cell_type": "code",
     "collapsed": false,
     "input": [
      "[np.percentile(tweetCountsPerWeek, q) for q in [25, 50, 75]]"
     ],
     "language": "python",
     "metadata": {},
     "outputs": []
    },
    {
     "cell_type": "code",
     "collapsed": false,
     "input": [
      "lt = np.log(tweetCountsPerWeek)\n",
      "np.exp(lt.mean()), np.exp(lt.std())"
     ],
     "language": "python",
     "metadata": {},
     "outputs": []
    },
    {
     "cell_type": "code",
     "collapsed": false,
     "input": [
      "plt.plot(np.arange(0, len(tweetCountsPerWeek)), tweetCountsPerWeek, 'bo')\n",
      "plt.title(\"Tweet Counts per Week\")\n",
      "plt.ylabel(\"Number of Tweets\")\n",
      "plt.xlabel(\"Week\")\n",
      "plt.ylim(0, tweetCountsPerWeek.max()* 1.10)"
     ],
     "language": "python",
     "metadata": {},
     "outputs": []
    },
    {
     "cell_type": "code",
     "collapsed": false,
     "input": [
      "y_w = np.squeeze (np.asarray(np.argmax(X_W.todense(), axis=1)))\n",
      "len(y_w) == D"
     ],
     "language": "python",
     "metadata": {},
     "outputs": []
    },
    {
     "cell_type": "markdown",
     "metadata": {},
     "source": [
      "###\u00a0Months"
     ]
    },
    {
     "cell_type": "code",
     "collapsed": false,
     "input": [
      "months = ['May', 'June', 'July', 'August', 'September', 'October']\n",
      "tweetCountsPerMonth = np.squeeze(np.asarray (X_M.astype(np.int32).sum(axis=0)))"
     ],
     "language": "python",
     "metadata": {},
     "outputs": []
    },
    {
     "cell_type": "code",
     "collapsed": false,
     "input": [
      "tweetCountsPerMonth.min(), tweetCountsPerMonth.max()"
     ],
     "language": "python",
     "metadata": {},
     "outputs": []
    },
    {
     "cell_type": "code",
     "collapsed": false,
     "input": [
      "tweetCountsPerMonth.mean(), tweetCountsPerMonth.std()"
     ],
     "language": "python",
     "metadata": {},
     "outputs": []
    },
    {
     "cell_type": "code",
     "collapsed": false,
     "input": [
      "[np.percentile(tweetCountsPerMonth, q) for q in [25, 50, 75]]"
     ],
     "language": "python",
     "metadata": {},
     "outputs": []
    },
    {
     "cell_type": "code",
     "collapsed": false,
     "input": [
      "lt = np.log(tweetCountsPerMonth)\n",
      "np.exp(lt.mean()), np.exp(lt.std())"
     ],
     "language": "python",
     "metadata": {},
     "outputs": []
    },
    {
     "cell_type": "code",
     "collapsed": false,
     "input": [
      "x = np.arange(0, len(tweetCountsPerMonth))\n",
      "plt.plot(x, tweetCountsPerMonth, 'bo')\n",
      "plt.title(\"Tweet Counts per Month\")\n",
      "plt.ylabel(\"Number of Tweets\")\n",
      "plt.xticks(x, months)\n",
      "plt.ylim(0, tweetCountsPerMonth.max()* 1.10)"
     ],
     "language": "python",
     "metadata": {},
     "outputs": []
    },
    {
     "cell_type": "code",
     "collapsed": false,
     "input": [
      "y_m = np.squeeze (np.asarray(np.argmax(X_M.todense(), axis=1)))\n",
      "len(y_m) == D"
     ],
     "language": "python",
     "metadata": {},
     "outputs": []
    },
    {
     "cell_type": "markdown",
     "metadata": {},
     "source": [
      "# Create the All in One Dataset to Help Testing\n",
      "Bundle the (cleaned) words, features and dictionary into a single pickled blob."
     ]
    },
    {
     "cell_type": "code",
     "collapsed": false,
     "input": [
      "if not os.path.exists(path + \"/all-in-one.pkl\"):\n",
      "    with open (path + \"/all-in-one.pkl\", \"wb\") as f:\n",
      "        pkl.dump ((W,X,d), f)"
     ],
     "language": "python",
     "metadata": {},
     "outputs": []
    },
    {
     "cell_type": "markdown",
     "metadata": {},
     "source": [
      "# Word and Feature Correlations"
     ]
    },
    {
     "cell_type": "code",
     "collapsed": false,
     "input": [
      "#from sklearn import svm, datasets\n",
      "from sklearn.linear_model import LogisticRegression\n",
      "from sklearn.metrics import roc_curve, auc\n",
      "from sklearn.cross_validation import StratifiedKFold\n",
      "\n",
      "from sklearn import cross_validation"
     ],
     "language": "python",
     "metadata": {},
     "outputs": []
    },
    {
     "cell_type": "code",
     "collapsed": false,
     "input": [
      "def cross_val_and_print_accuracy(classifier, inputs, outputs, n_folds=3):\n",
      "    '''\n",
      "    For binary and multi-class classifiers, does an n_fold \n",
      "    cross-validation and print out the accuracy of the classifer\n",
      "    and the accuracy of random\n",
      "    '''\n",
      "    skf = StratifiedKFold(outputs, n_folds=3)\n",
      "    scores = cross_validation.cross_val_score(classifier, inputs, outputs, cv=skf)\n",
      "    print(\"Classifier Accuracy: %0.2f (+/- %0.2f)\" % (scores.mean(), scores.std() * 2))\n",
      "    print(\"Random     Accuracy: %0.2f\" % (1.0 / (1 + np.max(outputs))))\n",
      "\n",
      "def cross_val_and_plot_roc(classifier, inputs, outputs, n_folds=3):\n",
      "    '''\n",
      "    For binary classifiers only, does an n_fold cross-validation\n",
      "    using the given instance of a classifier on the the inputs and\n",
      "    outputs and then plots the ROC curve and a line for a random\n",
      "    classifier.\n",
      "    '''\n",
      "    cv = StratifiedKFold(outputs, n_folds=n_folds)\n",
      "    \n",
      "    mean_tpr = 0.0\n",
      "    mean_fpr = np.linspace(0, 1, 100)\n",
      "    all_tpr = []\n",
      "    \n",
      "    for i, (train, test) in enumerate(cv):\n",
      "        probas_ = classifier.fit(inputs[train], outputs[train]).predict_proba(inputs[test])\n",
      "        \n",
      "        # Compute ROC curve and area the curve\n",
      "        fpr, tpr, thresholds = roc_curve(outputs[test], probas_[:, 1])\n",
      "        mean_tpr += interp(mean_fpr, fpr, tpr)\n",
      "        mean_tpr[0] = 0.0\n",
      "        roc_auc = auc(fpr, tpr)\n",
      "        \n",
      "        pl.plot(fpr, tpr, lw=1, label='ROC fold %d (area = %0.2f)' % (i, roc_auc))\n",
      "\n",
      "    pl.plot([0, 1], [0, 1], '--', color=(0.6, 0.6, 0.6), label='Luck')\n",
      "\n",
      "    mean_tpr /= len(cv)\n",
      "    mean_tpr[-1] = 1.0\n",
      "    mean_auc = auc(mean_fpr, mean_tpr)\n",
      "    pl.plot(mean_fpr, mean_tpr, 'k--',\n",
      "        label='Mean ROC (area = %0.2f)' % mean_auc, lw=2)\n",
      "\n",
      "    pl.xlim([-0.05, 1.05])\n",
      "    pl.ylim([-0.05, 1.05])\n",
      "    pl.xlabel('False Positive Rate')\n",
      "    pl.ylabel('True Positive Rate')\n",
      "    pl.title('Receiver operating characteristic example')\n",
      "    pl.legend(loc=\"lower right\")\n",
      "    pl.show()\n"
     ],
     "language": "python",
     "metadata": {},
     "outputs": []
    },
    {
     "cell_type": "markdown",
     "metadata": {},
     "source": [
      "## Predicting User from Tweets"
     ]
    },
    {
     "cell_type": "code",
     "collapsed": false,
     "input": [
      "reg = LogisticRegression()"
     ],
     "language": "python",
     "metadata": {},
     "outputs": []
    },
    {
     "cell_type": "code",
     "collapsed": false,
     "input": [
      "reg.fit (W.astype(np.float64), y_u)"
     ],
     "language": "python",
     "metadata": {},
     "outputs": []
    },
    {
     "cell_type": "code",
     "collapsed": false,
     "input": [
      "for u in range(len(users)):\n",
      "    words = [d[i] for i in np.where(reg.coef_[u] > 3)[0]]\n",
      "    name  = users[u]\n",
      "    print (\"%s : %s\" % (name, str(words)))"
     ],
     "language": "python",
     "metadata": {},
     "outputs": []
    },
    {
     "cell_type": "code",
     "collapsed": false,
     "input": [
      "cross_val_and_print_accuracy (LogisticRegression(), W, y_u)"
     ],
     "language": "python",
     "metadata": {},
     "outputs": []
    },
    {
     "cell_type": "markdown",
     "metadata": {},
     "source": [
      "##\u00a0Predicting Weeks from Tweets"
     ]
    },
    {
     "cell_type": "code",
     "collapsed": false,
     "input": [
      "wreg = LogisticRegression()"
     ],
     "language": "python",
     "metadata": {},
     "outputs": []
    },
    {
     "cell_type": "code",
     "collapsed": false,
     "input": [
      "wreg.fit (W.astype(np.float64), y_w)"
     ],
     "language": "python",
     "metadata": {},
     "outputs": []
    },
    {
     "cell_type": "code",
     "collapsed": false,
     "input": [
      "for w in range(len(tweetCountsPerWeek)):\n",
      "    words = [d[i] for i in np.where(reg.coef_[w] > 2.5)[0]]\n",
      "    print (\"Week %d : %s\" % (w, str(words)))"
     ],
     "language": "python",
     "metadata": {},
     "outputs": []
    },
    {
     "cell_type": "code",
     "collapsed": false,
     "input": [
      "cross_val_and_print_accuracy (LogisticRegression(), W, y_w)"
     ],
     "language": "python",
     "metadata": {},
     "outputs": []
    },
    {
     "cell_type": "markdown",
     "metadata": {},
     "source": [
      "## Predicting Months from Tweets"
     ]
    },
    {
     "cell_type": "code",
     "collapsed": false,
     "input": [
      "mreg = LogisticRegression()"
     ],
     "language": "python",
     "metadata": {},
     "outputs": []
    },
    {
     "cell_type": "code",
     "collapsed": false,
     "input": [
      "mreg.fit (W.astype(np.float64), y_m)"
     ],
     "language": "python",
     "metadata": {},
     "outputs": []
    },
    {
     "cell_type": "code",
     "collapsed": false,
     "input": [
      "for m in range(len(tweetCountsPerMonth)):\n",
      "    words = [d[i] for i in np.where(mreg.coef_[m] > 3)[0]]\n",
      "    print (\"::: %s ::: %s\" % (months[m], str(words)))"
     ],
     "language": "python",
     "metadata": {},
     "outputs": []
    },
    {
     "cell_type": "code",
     "collapsed": false,
     "input": [
      "cross_val_and_print_accuracy (LogisticRegression(), W, y_m)"
     ],
     "language": "python",
     "metadata": {},
     "outputs": []
    },
    {
     "cell_type": "markdown",
     "metadata": {},
     "source": [
      "##\u00a0Predicting Users from HashTags"
     ]
    },
    {
     "cell_type": "code",
     "collapsed": false,
     "input": [
      "W_ht = W[:,dictStarts['Hashtag']:(dictEnds['Hashtag'] - 1)]"
     ],
     "language": "python",
     "metadata": {},
     "outputs": []
    },
    {
     "cell_type": "code",
     "collapsed": false,
     "input": [
      "uregh = LogisticRegression()"
     ],
     "language": "python",
     "metadata": {},
     "outputs": []
    },
    {
     "cell_type": "code",
     "collapsed": false,
     "input": [
      "uregh.fit (W_ht.astype(np.float64), y_u)"
     ],
     "language": "python",
     "metadata": {},
     "outputs": []
    },
    {
     "cell_type": "code",
     "collapsed": false,
     "input": [
      "for u in range(len(users)):\n",
      "    words = [d[i + dictStarts['Hashtag']] for i in np.where(uregh.coef_[u] > 4)[0]]\n",
      "    name  = users[u]\n",
      "    print (\"%s : %s\" % (name, str(words)))"
     ],
     "language": "python",
     "metadata": {},
     "outputs": []
    },
    {
     "cell_type": "code",
     "collapsed": false,
     "input": [
      "cross_val_and_print_accuracy (LogisticRegression(), W_ht, y_u)"
     ],
     "language": "python",
     "metadata": {},
     "outputs": []
    },
    {
     "cell_type": "markdown",
     "metadata": {},
     "source": [
      "## Predicting Months from HashTags"
     ]
    },
    {
     "cell_type": "code",
     "collapsed": false,
     "input": [
      "mregh = LogisticRegression()"
     ],
     "language": "python",
     "metadata": {},
     "outputs": []
    },
    {
     "cell_type": "code",
     "collapsed": false,
     "input": [
      "mregh.fit (W_ht.astype(np.float64), y_m)"
     ],
     "language": "python",
     "metadata": {},
     "outputs": []
    },
    {
     "cell_type": "code",
     "collapsed": false,
     "input": [
      "for m in range(len(tweetCountsPerMonth)):\n",
      "    words = [d[i + dictStarts['Hashtag']] for i in np.where(mregh.coef_[m] > 3)[0]]\n",
      "    print (\"::: %s ::: %s\" % (months[m], str(words)))"
     ],
     "language": "python",
     "metadata": {},
     "outputs": []
    },
    {
     "cell_type": "code",
     "collapsed": false,
     "input": [
      "cross_val_and_print_accuracy (LogisticRegression(), W_ht, y_m)"
     ],
     "language": "python",
     "metadata": {},
     "outputs": []
    },
    {
     "cell_type": "markdown",
     "metadata": {},
     "source": [
      "# Performance of Topic Models\n",
      "We test the performance of existing topic models on this dataset, in order to determine a baseline through which performance can be measured.\n",
      "\n",
      "The data is condense in two forms: the first is the standard layout for an author-topic model (i.e. each \"document\" is all an author's tweets). The second is a \"temporal\" author-topic model, where we for each month we create documents containing all a user's tweets for that month. This is just to see if certain topics are more prevalent in certain months.\n",
      "\n",
      "We try the built-in LDA implementation from Scipy, and then our implementation of the CTM model \n",
      "\n",
      "However first we need to define methods to display the results"
     ]
    },
    {
     "cell_type": "code",
     "collapsed": false,
     "input": [
      "from IPython.display import HTML\n",
      "from IPython.display import Latex\n",
      "from IPython.display import Image\n",
      "\n",
      "def printTopics(wordDict, vocab, count=10):\n",
      "    words = vocab.argsort()[-count:][::-1]\n",
      "    for wordIdx in words:\n",
      "        print(\"%5.3f - %s\" % (vocab[wordIdx], wordDict[wordIdx]))\n",
      "    print(\"\")\n",
      "  \n",
      "# Create a nice number of table cells first for each topic\n",
      "# (including padding with &nbsp; cells\n",
      "# then iterate through and add to table, safe in the knowledge\n",
      "# that there's the expected number of cells\n",
      "    \n",
      "def createTopicsTable(wordDict, vocabs, count=10):\n",
      "    MaxWordLen   = 10\n",
      "    K,V = vocabs.shape\n",
      "    \n",
      "    tab = \"<table border=1 style='font-size: 10px'>\"\n",
      "    for k in range(K):\n",
      "        vocab = vocabs[k,:]\n",
      "        popularWordIndices = vocab.argsort()[-count:][::-1]\n",
      "        tab += \"<tr><th rowspan=2>Topic \" + str(k) + \"</th>\"\n",
      "        tab += \"<td>\" + \"</td><td>\".join(d[w][:MaxWordLen] for w in popularWordIndices) + \"</td></tr>\"\n",
      "        tab += \"<tr><td>\" + \"</td><td>\".join(\"%5.3f\" % vocab[w] for w in popularWordIndices) + \"</td></tr>\"\n",
      "      \n",
      "    tab += \"</table>\"\n",
      "    return HTML(tab)\n",
      "\n",
      "def createTopicsTableLatex(wordDict, vocabs, count=10):\n",
      "    MaxWordLen   = 15\n",
      "    K,V = vocabs.shape\n",
      "    \n",
      "    tab = \"\\\\begin{tabular}{| r |\" + \"| c \" * count + \"|} \\n\"\n",
      "    tab += \"\\\\hline \\n\"\n",
      "    for k in range(K):\n",
      "        vocab = vocabs[k,:]\n",
      "        popularWordIndices = vocab.argsort()[-count:][::-1]\n",
      "        tab += \"Topic \" + str(k) + \" & \"\n",
      "        tab += \" & \".join(d[w][:MaxWordLen] for w in popularWordIndices) + \" \\\\\\\\ \\n\"\n",
      "        tab += \"a & \" + \" & \".join(\"%5.3f\" % vocab[w] for w in popularWordIndices) + \" \\\\\\\\ \\\\hline \\n\"\n",
      "      \n",
      "    tab += \"\\\\hline\\n\\\\end{tabular}\\n\"\n",
      "    return Latex(tab)\n",
      "\n",
      "\n",
      "def createTopicsTableAscii(wordDict, vocabs, count=10):\n",
      "    MaxWordLen   = 15\n",
      "    NumLen       = 6\n",
      "    sfmt = \"%\" + str(MaxWordLen) + \"s\"\n",
      "    nfmt = \"%\" + str(NumLen) + \".\" + str(NumLen - 2) + \"f\" + \" \" * (MaxWordLen - NumLen)\n",
      "    K,V = vocabs.shape\n",
      "    \n",
      "    tab = \"\"\n",
      "    for k in range(K):\n",
      "        vocab = vocabs[k,:]\n",
      "        popularWordIndices = vocab.argsort()[-count:][::-1]\n",
      "        tab += \"Topic %3d  \" % k\n",
      "        tab += \"  \".join(sfmt % d[w][:MaxWordLen] for w in popularWordIndices) + \" \\n\"\n",
      "        tab += \"           \" + \"  \".join(nfmt % vocab[w] for w in popularWordIndices) + \" \\n\"\n",
      "      \n",
      "    return tab\n",
      "            "
     ],
     "language": "python",
     "metadata": {},
     "outputs": [],
     "prompt_number": 161
    },
    {
     "cell_type": "markdown",
     "metadata": {},
     "source": [
      "## Condensing the dataset into author-documents"
     ]
    },
    {
     "cell_type": "code",
     "collapsed": false,
     "input": [
      "# The total number of users\n",
      "tweeterTopicPath = path + \"/words-by-author.pkl\"\n",
      "\n",
      "if os.path.exists(tweeterTopicPath):\n",
      "    with open (tweeterTopicPath, 'rb') as f:\n",
      "        user_dict, _, W_U = pkl.load(f)\n",
      "else:\n",
      "    X_U_total = np.asarray(np.squeeze (np.sum(X_U.todense(), axis=0)))\n",
      "    zero_tweet_users=np.where(X_U_total ==0)[1]\n",
      "    \n",
      "    totalUserCount = X_U.shape[1]\n",
      "    \n",
      "    user_dict = []\n",
      "    D_u = totalUserCount - zero_tweet_users.shape[0]\n",
      "    W_U = ssp.lil_matrix((D_u, W.shape[1]), dtype=W.dtype)\n",
      "    \n",
      "    uIdx = 0\n",
      "    for u in range(totalUserCount):\n",
      "        if u in zero_tweet_users:\n",
      "            continue\n",
      "        \n",
      "        user_dict.append(users[u])\n",
      "        W_U[uIdx,:] = ssp.lil_matrix(W[np.where(y_u==u)[0],:]).sum(axis=0)\n",
      "        \n",
      "        uIdx += 1\n",
      "    \n",
      "    W_U = W_U.tocsr()\n",
      "\n",
      "    with open(tweeterTopicPath, 'wb') as f:\n",
      "        pkl.dump((user_dict, d, W_U), f)"
     ],
     "language": "python",
     "metadata": {},
     "outputs": [
      {
       "ename": "ValueError",
       "evalue": "zero-size array to reduction operation maximum which has no identity",
       "output_type": "pyerr",
       "traceback": [
        "\u001b[0;31m---------------------------------------------------------------------------\u001b[0m\n\u001b[0;31mValueError\u001b[0m                                Traceback (most recent call last)",
        "\u001b[0;32m<ipython-input-162-7e2470e78b69>\u001b[0m in \u001b[0;36m<module>\u001b[0;34m()\u001b[0m\n\u001b[1;32m     21\u001b[0m \u001b[0;34m\u001b[0m\u001b[0m\n\u001b[1;32m     22\u001b[0m         \u001b[0muser_dict\u001b[0m\u001b[0;34m.\u001b[0m\u001b[0mappend\u001b[0m\u001b[0;34m(\u001b[0m\u001b[0musers\u001b[0m\u001b[0;34m[\u001b[0m\u001b[0mu\u001b[0m\u001b[0;34m]\u001b[0m\u001b[0;34m)\u001b[0m\u001b[0;34m\u001b[0m\u001b[0m\n\u001b[0;32m---> 23\u001b[0;31m         \u001b[0mW_U\u001b[0m\u001b[0;34m[\u001b[0m\u001b[0muIdx\u001b[0m\u001b[0;34m,\u001b[0m\u001b[0;34m:\u001b[0m\u001b[0;34m]\u001b[0m \u001b[0;34m=\u001b[0m \u001b[0mssp\u001b[0m\u001b[0;34m.\u001b[0m\u001b[0mlil_matrix\u001b[0m\u001b[0;34m(\u001b[0m\u001b[0mW\u001b[0m\u001b[0;34m[\u001b[0m\u001b[0mnp\u001b[0m\u001b[0;34m.\u001b[0m\u001b[0mwhere\u001b[0m\u001b[0;34m(\u001b[0m\u001b[0my_u\u001b[0m\u001b[0;34m==\u001b[0m\u001b[0mu\u001b[0m\u001b[0;34m)\u001b[0m\u001b[0;34m[\u001b[0m\u001b[0;36m0\u001b[0m\u001b[0;34m]\u001b[0m\u001b[0;34m,\u001b[0m\u001b[0;34m:\u001b[0m\u001b[0;34m]\u001b[0m\u001b[0;34m)\u001b[0m\u001b[0;34m.\u001b[0m\u001b[0msum\u001b[0m\u001b[0;34m(\u001b[0m\u001b[0maxis\u001b[0m\u001b[0;34m=\u001b[0m\u001b[0;36m0\u001b[0m\u001b[0;34m)\u001b[0m\u001b[0;34m\u001b[0m\u001b[0m\n\u001b[0m\u001b[1;32m     24\u001b[0m \u001b[0;34m\u001b[0m\u001b[0m\n\u001b[1;32m     25\u001b[0m         \u001b[0muIdx\u001b[0m \u001b[0;34m+=\u001b[0m \u001b[0;36m1\u001b[0m\u001b[0;34m\u001b[0m\u001b[0m\n",
        "\u001b[0;32m/opt/local/Library/Frameworks/Python.framework/Versions/3.3/lib/python3.3/site-packages/scipy/sparse/csr.py\u001b[0m in \u001b[0;36m__getitem__\u001b[0;34m(self, key)\u001b[0m\n\u001b[1;32m    254\u001b[0m             \u001b[0;31m# [[1,2],??]\u001b[0m\u001b[0;34m\u001b[0m\u001b[0;34m\u001b[0m\u001b[0m\n\u001b[1;32m    255\u001b[0m             \u001b[0;32mif\u001b[0m \u001b[0misintlike\u001b[0m\u001b[0;34m(\u001b[0m\u001b[0mcol\u001b[0m\u001b[0;34m)\u001b[0m \u001b[0;32mor\u001b[0m \u001b[0misinstance\u001b[0m\u001b[0;34m(\u001b[0m\u001b[0mcol\u001b[0m\u001b[0;34m,\u001b[0m\u001b[0mslice\u001b[0m\u001b[0;34m)\u001b[0m\u001b[0;34m:\u001b[0m\u001b[0;34m\u001b[0m\u001b[0m\n\u001b[0;32m--> 256\u001b[0;31m                 \u001b[0mP\u001b[0m \u001b[0;34m=\u001b[0m \u001b[0mextractor\u001b[0m\u001b[0;34m(\u001b[0m\u001b[0mrow\u001b[0m\u001b[0;34m,\u001b[0m \u001b[0mself\u001b[0m\u001b[0;34m.\u001b[0m\u001b[0mshape\u001b[0m\u001b[0;34m[\u001b[0m\u001b[0;36m0\u001b[0m\u001b[0;34m]\u001b[0m\u001b[0;34m)\u001b[0m     \u001b[0;31m# [[1,2],j] or [[1,2],1:2]\u001b[0m\u001b[0;34m\u001b[0m\u001b[0m\n\u001b[0m\u001b[1;32m    257\u001b[0m                 \u001b[0;32mreturn\u001b[0m \u001b[0;34m(\u001b[0m\u001b[0mP\u001b[0m\u001b[0;34m*\u001b[0m\u001b[0mself\u001b[0m\u001b[0;34m)\u001b[0m\u001b[0;34m[\u001b[0m\u001b[0;34m:\u001b[0m\u001b[0;34m,\u001b[0m\u001b[0mcol\u001b[0m\u001b[0;34m]\u001b[0m\u001b[0;34m\u001b[0m\u001b[0m\n\u001b[1;32m    258\u001b[0m             \u001b[0;32melif\u001b[0m \u001b[0missequence\u001b[0m\u001b[0;34m(\u001b[0m\u001b[0mcol\u001b[0m\u001b[0;34m)\u001b[0m\u001b[0;34m:\u001b[0m                     \u001b[0;31m# [[1,2],[1,2]]\u001b[0m\u001b[0;34m\u001b[0m\u001b[0m\n",
        "\u001b[0;32m/opt/local/Library/Frameworks/Python.framework/Versions/3.3/lib/python3.3/site-packages/scipy/sparse/csr.py\u001b[0m in \u001b[0;36mextractor\u001b[0;34m(indices, N)\u001b[0m\n\u001b[1;32m    212\u001b[0m             \u001b[0mindices\u001b[0m \u001b[0;34m=\u001b[0m \u001b[0masindices\u001b[0m\u001b[0;34m(\u001b[0m\u001b[0mindices\u001b[0m\u001b[0;34m)\u001b[0m\u001b[0;34m\u001b[0m\u001b[0m\n\u001b[1;32m    213\u001b[0m \u001b[0;34m\u001b[0m\u001b[0m\n\u001b[0;32m--> 214\u001b[0;31m             \u001b[0;34m(\u001b[0m\u001b[0mmin_indx\u001b[0m\u001b[0;34m,\u001b[0m\u001b[0mmax_indx\u001b[0m\u001b[0;34m)\u001b[0m \u001b[0;34m=\u001b[0m \u001b[0mcheck_bounds\u001b[0m\u001b[0;34m(\u001b[0m\u001b[0mindices\u001b[0m\u001b[0;34m,\u001b[0m\u001b[0mN\u001b[0m\u001b[0;34m)\u001b[0m\u001b[0;34m\u001b[0m\u001b[0m\n\u001b[0m\u001b[1;32m    215\u001b[0m \u001b[0;34m\u001b[0m\u001b[0m\n\u001b[1;32m    216\u001b[0m             \u001b[0;32mif\u001b[0m \u001b[0mmin_indx\u001b[0m \u001b[0;34m<\u001b[0m \u001b[0;36m0\u001b[0m\u001b[0;34m:\u001b[0m\u001b[0;34m\u001b[0m\u001b[0m\n",
        "\u001b[0;32m/opt/local/Library/Frameworks/Python.framework/Versions/3.3/lib/python3.3/site-packages/scipy/sparse/csr.py\u001b[0m in \u001b[0;36mcheck_bounds\u001b[0;34m(indices, N)\u001b[0m\n\u001b[1;32m    196\u001b[0m \u001b[0;34m\u001b[0m\u001b[0m\n\u001b[1;32m    197\u001b[0m         \u001b[0;32mdef\u001b[0m \u001b[0mcheck_bounds\u001b[0m\u001b[0;34m(\u001b[0m\u001b[0mindices\u001b[0m\u001b[0;34m,\u001b[0m\u001b[0mN\u001b[0m\u001b[0;34m)\u001b[0m\u001b[0;34m:\u001b[0m\u001b[0;34m\u001b[0m\u001b[0m\n\u001b[0;32m--> 198\u001b[0;31m             \u001b[0mmax_indx\u001b[0m \u001b[0;34m=\u001b[0m \u001b[0mindices\u001b[0m\u001b[0;34m.\u001b[0m\u001b[0mmax\u001b[0m\u001b[0;34m(\u001b[0m\u001b[0;34m)\u001b[0m\u001b[0;34m\u001b[0m\u001b[0m\n\u001b[0m\u001b[1;32m    199\u001b[0m             \u001b[0;32mif\u001b[0m \u001b[0mmax_indx\u001b[0m \u001b[0;34m>=\u001b[0m \u001b[0mN\u001b[0m\u001b[0;34m:\u001b[0m\u001b[0;34m\u001b[0m\u001b[0m\n\u001b[1;32m    200\u001b[0m                 \u001b[0;32mraise\u001b[0m \u001b[0mIndexError\u001b[0m\u001b[0;34m(\u001b[0m\u001b[0;34m'index (%d) out of range'\u001b[0m \u001b[0;34m%\u001b[0m \u001b[0mmax_indx\u001b[0m\u001b[0;34m)\u001b[0m\u001b[0;34m\u001b[0m\u001b[0m\n",
        "\u001b[0;32m/opt/local/Library/Frameworks/Python.framework/Versions/3.3/lib/python3.3/site-packages/numpy/core/_methods.py\u001b[0m in \u001b[0;36m_amax\u001b[0;34m(a, axis, out, keepdims)\u001b[0m\n\u001b[1;32m     15\u001b[0m \u001b[0;32mdef\u001b[0m \u001b[0m_amax\u001b[0m\u001b[0;34m(\u001b[0m\u001b[0ma\u001b[0m\u001b[0;34m,\u001b[0m \u001b[0maxis\u001b[0m\u001b[0;34m=\u001b[0m\u001b[0;32mNone\u001b[0m\u001b[0;34m,\u001b[0m \u001b[0mout\u001b[0m\u001b[0;34m=\u001b[0m\u001b[0;32mNone\u001b[0m\u001b[0;34m,\u001b[0m \u001b[0mkeepdims\u001b[0m\u001b[0;34m=\u001b[0m\u001b[0;32mFalse\u001b[0m\u001b[0;34m)\u001b[0m\u001b[0;34m:\u001b[0m\u001b[0;34m\u001b[0m\u001b[0m\n\u001b[1;32m     16\u001b[0m     return um.maximum.reduce(a, axis=axis,\n\u001b[0;32m---> 17\u001b[0;31m                             out=out, keepdims=keepdims)\n\u001b[0m\u001b[1;32m     18\u001b[0m \u001b[0;34m\u001b[0m\u001b[0m\n\u001b[1;32m     19\u001b[0m \u001b[0;32mdef\u001b[0m \u001b[0m_amin\u001b[0m\u001b[0;34m(\u001b[0m\u001b[0ma\u001b[0m\u001b[0;34m,\u001b[0m \u001b[0maxis\u001b[0m\u001b[0;34m=\u001b[0m\u001b[0;32mNone\u001b[0m\u001b[0;34m,\u001b[0m \u001b[0mout\u001b[0m\u001b[0;34m=\u001b[0m\u001b[0;32mNone\u001b[0m\u001b[0;34m,\u001b[0m \u001b[0mkeepdims\u001b[0m\u001b[0;34m=\u001b[0m\u001b[0;32mFalse\u001b[0m\u001b[0;34m)\u001b[0m\u001b[0;34m:\u001b[0m\u001b[0;34m\u001b[0m\u001b[0m\n",
        "\u001b[0;31mValueError\u001b[0m: zero-size array to reduction operation maximum which has no identity"
       ]
      }
     ],
     "prompt_number": 162
    },
    {
     "cell_type": "markdown",
     "metadata": {},
     "source": [
      "Just as a sanity check we look at the word distribution for a user known as `FakeFernando` who has an interest in formula one racing and pop culture. We would expect to see mentions of Lewis Hamilton, \"Nando\" and references to the BBC F1 coverage."
     ]
    },
    {
     "cell_type": "code",
     "collapsed": false,
     "input": [
      "FakeFernandosTweets = W[np.where(y_u==users.index(\"FakeFernando\"))[0],:]"
     ],
     "language": "python",
     "metadata": {},
     "outputs": []
    },
    {
     "cell_type": "markdown",
     "metadata": {},
     "source": [
      "These are the words from a sample tweet"
     ]
    },
    {
     "cell_type": "code",
     "collapsed": false,
     "input": [
      "[d[w] for w in FakeFernandosTweets[1010,:].indices]"
     ],
     "language": "python",
     "metadata": {},
     "outputs": []
    },
    {
     "cell_type": "code",
     "collapsed": false,
     "input": [
      "FatFakeFernandosTweets = np.asarray(FakeFernandosTweets.todense())"
     ],
     "language": "python",
     "metadata": {},
     "outputs": []
    },
    {
     "cell_type": "code",
     "collapsed": false,
     "input": [
      "#printTopics(d, FatFakeFernandosTweets.sum(axis=0), count=50)"
     ],
     "language": "python",
     "metadata": {},
     "outputs": []
    },
    {
     "cell_type": "markdown",
     "metadata": {},
     "source": [
      "## A Simple K-Means Clustering"
     ]
    },
    {
     "cell_type": "code",
     "collapsed": false,
     "input": [
      "from sklearn.cluster import KMeans\n",
      "from sklearn.preprocessing import normalize"
     ],
     "language": "python",
     "metadata": {},
     "outputs": []
    },
    {
     "cell_type": "code",
     "collapsed": false,
     "input": [
      "W_U_TF = W_U.copy().astype(np.float64)\n",
      "W_U_TF = normalize (W_U_TF, norm='l1', axis=1)"
     ],
     "language": "python",
     "metadata": {},
     "outputs": []
    },
    {
     "cell_type": "code",
     "collapsed": false,
     "input": [
      "cluster = KMeans(n_clusters=20, init='k-means++', precompute_distances=True)"
     ],
     "language": "python",
     "metadata": {},
     "outputs": []
    },
    {
     "cell_type": "code",
     "collapsed": false,
     "input": [
      "result = cluster.fit(W_U_TF)"
     ],
     "language": "python",
     "metadata": {},
     "outputs": []
    },
    {
     "cell_type": "code",
     "collapsed": false,
     "input": [
      "h = createTopicsTable(d, cluster.cluster_centers_, count=40)\n",
      "h"
     ],
     "language": "python",
     "metadata": {},
     "outputs": []
    },
    {
     "cell_type": "code",
     "collapsed": false,
     "input": [
      "Latex(r\"\"\"This is {\\bf text}\"\"\")"
     ],
     "language": "python",
     "metadata": {},
     "outputs": []
    },
    {
     "cell_type": "markdown",
     "metadata": {},
     "source": [
      "## An implementation of the Correlated Topic Model using Bouchard's Bound"
     ]
    },
    {
     "cell_type": "code",
     "collapsed": false,
     "input": [
      "import model\n",
      "\n",
      "import pickle as pkl\n",
      "with open(\"/Users/bryanfeeney/Desktop/author_ctm_result.pkl\", \"rb\") as f:\n",
      "    (a_model, a_query) = pkl.load(f)"
     ],
     "language": "python",
     "metadata": {},
     "outputs": []
    },
    {
     "cell_type": "markdown",
     "metadata": {},
     "source": [
      "The number of topics"
     ]
    },
    {
     "cell_type": "code",
     "collapsed": false,
     "input": [
      "a_model.K"
     ],
     "language": "python",
     "metadata": {},
     "outputs": []
    },
    {
     "cell_type": "markdown",
     "metadata": {},
     "source": [
      "### Evolution of the Variational Bound"
     ]
    },
    {
     "cell_type": "code",
     "collapsed": false,
     "input": [
      "Image(\"/Users/bryanfeeney/Desktop/real_author_ctm_bound.png\")"
     ],
     "language": "python",
     "metadata": {},
     "outputs": []
    },
    {
     "cell_type": "markdown",
     "metadata": {},
     "source": [
      "### The Inferred Covariance and Topic Means"
     ]
    },
    {
     "cell_type": "code",
     "collapsed": false,
     "input": [
      "fig, ax = plt.subplots(figsize=(11,9))\n",
      "\n",
      "im = plt.imshow(a_model.sigT, interpolation=\"none\")\n",
      "\n",
      "cb = fig.colorbar(im, ax=ax)\n",
      "ax.set_title(\"Covariance Matrix\")"
     ],
     "language": "python",
     "metadata": {},
     "outputs": []
    },
    {
     "cell_type": "markdown",
     "metadata": {},
     "source": [
      "Next we plot the topic distributions for all the various users."
     ]
    },
    {
     "cell_type": "code",
     "collapsed": false,
     "input": [
      "from util.array_utils import rowwise_softmax\n",
      "\n",
      "dist = rowwise_softmax(a_query.means)\n",
      "fig, ax = plt.subplots(figsize=(10,30))\n",
      "\n",
      "im = plt.imshow(dist, interpolation=\"none\")\n",
      "\n",
      "cb = fig.colorbar(im, ax=ax)\n",
      "ax.set_title(\"Means Matrix\")"
     ],
     "language": "python",
     "metadata": {},
     "outputs": []
    },
    {
     "cell_type": "markdown",
     "metadata": {},
     "source": [
      "As observed previously, we have incredibly hard assignments to topics, which possibly could be due to the tendendcy of the softmax function to prefer extremes. Only one user is split between two and then one is still very much preferred."
     ]
    },
    {
     "cell_type": "code",
     "collapsed": false,
     "input": [
      "(dist[205,:] * 100).astype(np.int32)"
     ],
     "language": "python",
     "metadata": {},
     "outputs": []
    },
    {
     "cell_type": "code",
     "collapsed": false,
     "input": [
      "user_dict[205]"
     ],
     "language": "python",
     "metadata": {},
     "outputs": []
    },
    {
     "cell_type": "code",
     "collapsed": false,
     "input": [
      "dist[205,:].argsort()"
     ],
     "language": "python",
     "metadata": {},
     "outputs": []
    },
    {
     "cell_type": "markdown",
     "metadata": {},
     "source": [
      "The interesting thing about this, is that topic 27 is a Spanish only topic."
     ]
    },
    {
     "cell_type": "markdown",
     "metadata": {},
     "source": [
      "### The Table of Word Distributions Per Topic"
     ]
    },
    {
     "cell_type": "code",
     "collapsed": false,
     "input": [
      "h = createTopicsTable(d, a_model.vocab, count=30)\n",
      "h"
     ],
     "language": "python",
     "metadata": {},
     "outputs": []
    },
    {
     "cell_type": "markdown",
     "metadata": {},
     "source": [
      "## Our Topic Model with Features Inferring Topics per tweet.\n",
      "\n",
      "In this run we assume that the dimension of the latent space $P=100$, from a total feature-space of $F=427$. We infer $K=30$ topics for over 600,000 tweets from nearly 350 users."
     ]
    },
    {
     "cell_type": "code",
     "collapsed": false,
     "input": [
      "import model\n",
      "\n",
      "import pickle as pkl\n",
      "with open(\"/Users/bryanfeeney/Desktop/test_result_real.pkl\", \"rb\") as f:\n",
      "    (t_model, t_query) = pkl.load(f)\n",
      "\n",
      "(t_model.P, t_model.K)"
     ],
     "language": "python",
     "metadata": {},
     "outputs": []
    },
    {
     "cell_type": "markdown",
     "metadata": {},
     "source": [
      "### Evolution of the Variational Bound"
     ]
    },
    {
     "cell_type": "code",
     "collapsed": false,
     "input": [
      "Image(filename=\"/Users/bryanfeeney/Desktop/real_stm_bound.png\")"
     ],
     "language": "python",
     "metadata": {},
     "outputs": []
    },
    {
     "cell_type": "markdown",
     "metadata": {},
     "source": [
      "### Inferred Variance and Topic Means\n",
      "Next we display the _diagonal_ covariance over topics. We've forced this to be diagonal for performance reasons, but not isotropic. Nevertheless there is little difference in the variances around the different topic estimates."
     ]
    },
    {
     "cell_type": "code",
     "collapsed": false,
     "input": [
      "fig, ax = plt.subplots(figsize=(11,9))\n",
      "\n",
      "im = plt.imshow(t_model.sigT, interpolation=\"none\")\n",
      "\n",
      "cb = fig.colorbar(im, ax=ax)\n",
      "ax.set_title(\"Covariance Matrix\")"
     ],
     "language": "python",
     "metadata": {},
     "outputs": []
    },
    {
     "cell_type": "markdown",
     "metadata": {},
     "source": [
      "Next we try to visually display the topic distributions for a few known users. The first user, \"FakeFernando\" follows formula one racing, and also pop-culture. For brevity we only plot a subset. Note that tweets are read in, and therefore processed, in chronological order, so we can view tweet distribution change over time."
     ]
    },
    {
     "cell_type": "code",
     "collapsed": false,
     "input": [
      "from util.array_utils import rowwise_softmax"
     ],
     "language": "python",
     "metadata": {},
     "outputs": []
    },
    {
     "cell_type": "code",
     "collapsed": false,
     "input": [
      "fakeFernandoFlags   = np.squeeze(np.asarray(X_U[:,users.index(\"FakeFernando\")].todense()))\n",
      "fakeFernandosTweets = np.where(fakeFernandoFlags == 1)\n",
      "fakeFernandosDist = rowwise_softmax((t_query.means[fakeFernandosTweets,:])[0])\n",
      "fakeFernandosDistSubset = fakeFernandosDist[0:200,:]\n",
      "\n",
      "fig, ax = plt.subplots(figsize=(10,20))\n",
      "\n",
      "im = plt.imshow(fakeFernandosDistSubset, interpolation=\"none\")\n",
      "\n",
      "cb = fig.colorbar(im, ax=ax)\n",
      "ax.set_title(\"FakeFernando's Tweets Matrix\")"
     ],
     "language": "python",
     "metadata": {},
     "outputs": []
    },
    {
     "cell_type": "code",
     "collapsed": false,
     "input": [
      "fakeFernandosDist.shape"
     ],
     "language": "python",
     "metadata": {},
     "outputs": []
    },
    {
     "cell_type": "markdown",
     "metadata": {},
     "source": [
      "At first glance the above distribution looks interesting, until we see the scale and realise that it's almost entirely uniform with a few exceptions. The tweets are processed in chronological order, so the changes in topic distribution are occurring over time.\n",
      "\n",
      "The America Civil Liberies Union (ACLU) campaigns for various US related causes, and during this time was particularly engaged with women's rights, which were in the news over this period. For reasons of space we just consider a few of their tweets."
     ]
    },
    {
     "cell_type": "code",
     "collapsed": false,
     "input": [
      "acluFlags   = np.squeeze(np.asarray(X_U[:,users.index(\"ACLU\")].todense()))\n",
      "aclusTweets = np.where(acluFlags == 1)\n",
      "aclusDist = rowwise_softmax((t_query.means[aclusTweets,:])[0])\n",
      "aclusDistSubset = aclusDist[300:500,:]\n",
      "\n",
      "fig, ax = plt.subplots(figsize=(10,20))\n",
      "\n",
      "im = plt.imshow(aclusDistSubset, interpolation=\"none\")\n",
      "\n",
      "cb = fig.colorbar(im, ax=ax)\n",
      "ax.set_title(\"ACLU's Tweets Matrix\")"
     ],
     "language": "python",
     "metadata": {},
     "outputs": []
    },
    {
     "cell_type": "code",
     "collapsed": false,
     "input": [
      "aclusDist.shape"
     ],
     "language": "python",
     "metadata": {},
     "outputs": []
    },
    {
     "cell_type": "code",
     "collapsed": false,
     "input": [
      "h =  createTopicsTable(d, t_model.vocab, count=100)\n",
      "h"
     ],
     "language": "python",
     "metadata": {},
     "outputs": []
    },
    {
     "cell_type": "markdown",
     "metadata": {},
     "source": [
      "###\u00a0Posterior Covariance of the Latent Space"
     ]
    },
    {
     "cell_type": "code",
     "collapsed": false,
     "input": [
      "\n",
      "fig, ax = plt.subplots(figsize=(10,12))\n",
      "\n",
      "im = plt.imshow(t_model.R_Y, interpolation=\"none\")\n",
      "\n",
      "cb = fig.colorbar(im, ax=ax)\n",
      "ax.set_title(\"Posterior Covariance of the Latent Feature Space\")"
     ],
     "language": "python",
     "metadata": {},
     "outputs": []
    },
    {
     "cell_type": "markdown",
     "metadata": {},
     "source": [
      "### Posterior Covariance of the Full Feature Space"
     ]
    },
    {
     "cell_type": "code",
     "collapsed": false,
     "input": [
      "fig, ax = plt.subplots(figsize=(14,16))\n",
      "\n",
      "im = plt.imshow(t2_model.R_A, interpolation=\"none\")\n",
      "\n",
      "cb = fig.colorbar(im, ax=ax)\n",
      "ax.set_title(\"Posterior Covariance of the Feature Space\")"
     ],
     "language": "python",
     "metadata": {},
     "outputs": []
    },
    {
     "cell_type": "markdown",
     "metadata": {},
     "source": [
      "## A Second Run of Our Topic Model with Features Inferring Topics per tweet.\n",
      "\n",
      "In this run we assume that the dimension of the latent space $P=30$, from a total feature-space of $F=427$. We infer $K=10$ topics for over 600,000 tweets from nearly 350 users."
     ]
    },
    {
     "cell_type": "code",
     "collapsed": false,
     "input": [
      "import model\n",
      "\n",
      "import pickle as pkl\n",
      "with open(\"/Users/bryanfeeney/Desktop/test_result_real_p30_k10.pkl\", \"rb\") as f:\n",
      "    (t2_model, t2_query) = pkl.load(f)\n",
      "\n",
      "(t2_model.P, t2_model.K)"
     ],
     "language": "python",
     "metadata": {},
     "outputs": []
    },
    {
     "cell_type": "markdown",
     "metadata": {},
     "source": [
      "### Evolution of the Variational Bound"
     ]
    },
    {
     "cell_type": "code",
     "collapsed": false,
     "input": [
      "Image(filename=\"/Users/bryanfeeney/Desktop/real_stm_bound_p30_k10.png\")"
     ],
     "language": "python",
     "metadata": {},
     "outputs": []
    },
    {
     "cell_type": "markdown",
     "metadata": {},
     "source": [
      "### Inferred Variance and Topic Means\n",
      "Next we display the _diagonal_ covariance over topics. We've forced this to be diagonal for performance reasons, but not isotropic. Nevertheless there is little difference in the variances around the different topic estimates."
     ]
    },
    {
     "cell_type": "code",
     "collapsed": false,
     "input": [
      "fig, ax = plt.subplots(figsize=(11,9))\n",
      "\n",
      "im = plt.imshow(t2_model.sigT, interpolation=\"none\")\n",
      "\n",
      "cb = fig.colorbar(im, ax=ax)\n",
      "ax.set_title(\"Covariance Matrix\")"
     ],
     "language": "python",
     "metadata": {},
     "outputs": []
    },
    {
     "cell_type": "markdown",
     "metadata": {},
     "source": [
      "Next we try to visually display the topic distributions for a few known users. The first user, \"FakeFernando\" follows formula one racing, and also pop-culture. For brevity we only plot a subset. Note that tweets are read in, and therefore processed, in chronological order, so we can view tweet distribution change over time."
     ]
    },
    {
     "cell_type": "code",
     "collapsed": false,
     "input": [
      "fakeFernandoFlags   = np.squeeze(np.asarray(X_U[:,users.index(\"FakeFernando\")].todense()))\n",
      "fakeFernandosTweets = np.where(fakeFernandoFlags == 1)\n",
      "fakeFernandosDist = rowwise_softmax((t2_query.means[fakeFernandosTweets,:])[0])\n",
      "fakeFernandosDistSubset = fakeFernandosDist[0:200,:]\n",
      "\n",
      "fig, ax = plt.subplots(figsize=(10,35))\n",
      "\n",
      "im = plt.imshow(fakeFernandosDistSubset, interpolation=\"none\")\n",
      "\n",
      "cb = fig.colorbar(im, ax=ax)\n",
      "ax.set_title(\"FakeFernando's Tweets Matrix\")"
     ],
     "language": "python",
     "metadata": {},
     "outputs": []
    },
    {
     "cell_type": "markdown",
     "metadata": {},
     "source": [
      "This is much more differentiated than before with $P=100$ and $K=10$"
     ]
    },
    {
     "cell_type": "code",
     "collapsed": false,
     "input": [
      "acluFlags   = np.squeeze(np.asarray(X_U[:,users.index(\"ACLU\")].todense()))\n",
      "aclusTweets = np.where(acluFlags == 1)\n",
      "aclusDist = rowwise_softmax((t2_query.means[aclusTweets,:])[0])\n",
      "aclusDistSubset = aclusDist[300:500,:]\n",
      "\n",
      "fig, ax = plt.subplots(figsize=(10,35))\n",
      "\n",
      "im = plt.imshow(aclusDistSubset, interpolation=\"none\")\n",
      "\n",
      "cb = fig.colorbar(im, ax=ax)\n",
      "ax.set_title(\"ACLU's Tweets Matrix\")"
     ],
     "language": "python",
     "metadata": {},
     "outputs": []
    },
    {
     "cell_type": "markdown",
     "metadata": {},
     "source": [
      "Note that topic 5 is closely related to politics"
     ]
    },
    {
     "cell_type": "code",
     "collapsed": false,
     "input": [
      "h =  createTopicsTable(d, t2_model.vocab, count=100)\n",
      "h"
     ],
     "language": "python",
     "metadata": {},
     "outputs": []
    },
    {
     "cell_type": "markdown",
     "metadata": {},
     "source": [
      "### Inferred Low-Rank Feature Covariance"
     ]
    },
    {
     "cell_type": "code",
     "collapsed": false,
     "input": [
      "\n",
      "fig, ax = plt.subplots(figsize=(10,12))\n",
      "\n",
      "im = plt.imshow(t2_model.R_Y, interpolation=\"none\")\n",
      "\n",
      "cb = fig.colorbar(im, ax=ax)\n",
      "ax.set_title(\"Posterior Covariance of the Latent Feature Space\")"
     ],
     "language": "python",
     "metadata": {},
     "outputs": []
    },
    {
     "cell_type": "markdown",
     "metadata": {},
     "source": [
      "### Inferred Full-Rank Feature Covariance\n"
     ]
    },
    {
     "cell_type": "code",
     "collapsed": false,
     "input": [
      "fig, ax = plt.subplots(figsize=(14,16))\n",
      "\n",
      "im = plt.imshow(t2_model.R_A, interpolation=\"none\")\n",
      "\n",
      "cb = fig.colorbar(im, ax=ax)\n",
      "ax.set_title(\"Posterior Covariance of the Feature Space\")"
     ],
     "language": "python",
     "metadata": {},
     "outputs": []
    },
    {
     "cell_type": "markdown",
     "metadata": {},
     "source": [
      "# Investigating the Strange Posterior Covariance of X"
     ]
    },
    {
     "cell_type": "code",
     "collapsed": false,
     "input": [
      "X.dtype\n",
      "Xf = X.astype(np.float32)\n",
      "\n",
      "S = Xf.T.dot(Xf)"
     ],
     "language": "python",
     "metadata": {},
     "outputs": []
    },
    {
     "cell_type": "markdown",
     "metadata": {},
     "source": [
      "So one thing to note is that there were more slots allowed for users in the matrix than were actually taken up. This was just due to certain users not having any valid (more than three word) tweets, or not tweeting at all. We can see the difference by comparing the feature offsets (users start at 0) with the actual size of the users dictionary"
     ]
    },
    {
     "cell_type": "code",
     "collapsed": false,
     "input": [
      "feats"
     ],
     "language": "python",
     "metadata": {},
     "outputs": []
    },
    {
     "cell_type": "code",
     "collapsed": false,
     "input": [
      "len(users)"
     ],
     "language": "python",
     "metadata": {},
     "outputs": []
    },
    {
     "cell_type": "markdown",
     "metadata": {},
     "source": [
      "With that in mind we can focus on the variables which are simply related to time (week and month)"
     ]
    },
    {
     "cell_type": "code",
     "collapsed": false,
     "input": [
      "X_time = X[:,398:X.shape[1]].astype(np.float32).todense()"
     ],
     "language": "python",
     "metadata": {},
     "outputs": []
    },
    {
     "cell_type": "code",
     "collapsed": false,
     "input": [
      "fig, ax = plt.subplots(figsize=(14,16))\n",
      "\n",
      "im = plt.imshow(X_time.T.dot(X_time), interpolation=\"none\")\n",
      "\n",
      "cb = fig.colorbar(im, ax=ax)\n",
      "ax.set_title(\"Time Feature Covariance\")"
     ],
     "language": "python",
     "metadata": {},
     "outputs": []
    },
    {
     "cell_type": "markdown",
     "metadata": {},
     "source": [
      "This is the oddly shaped square at the bottom of the overall covariance plot. Obviously there are a little over four weeks per month whic overloap. The strange boxy colours seem just to be due to image aliasing artefacts"
     ]
    },
    {
     "cell_type": "code",
     "collapsed": false,
     "input": [],
     "language": "python",
     "metadata": {},
     "outputs": []
    }
   ],
   "metadata": {}
  }
 ]
}