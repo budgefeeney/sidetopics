{
 "metadata": {
  "name": ""
 },
 "nbformat": 3,
 "nbformat_minor": 0,
 "worksheets": [
  {
   "cells": [
    {
     "cell_type": "markdown",
     "metadata": {},
     "source": [
      "# Configuration"
     ]
    },
    {
     "cell_type": "code",
     "collapsed": false,
     "input": [
      "import sys\n",
      "\n",
      "path = \"/Users/bryanfeeney/Desktop/SmallerDB-NoCJK-WithFeats-Fixed\"\n",
      "codePath = \"/Users/bryanfeeney/Workspace/sidetopics/src\"\n",
      "reconstructSparse=False\n",
      "\n",
      "sys.path.append(codePath)\n",
      "%run /Users/bryanfeeney/Desktop/SmallerDB-NoCJK-WithFeats-Fixed/dicts.py"
     ],
     "language": "python",
     "metadata": {},
     "outputs": [],
     "prompt_number": 1
    },
    {
     "cell_type": "markdown",
     "metadata": {},
     "source": [
      "# Prelude"
     ]
    },
    {
     "cell_type": "code",
     "collapsed": false,
     "input": [
      "import numpy as np\n",
      "import numpy.random as rd\n",
      "import scipy as sp\n",
      "import scipy.linalg as la\n",
      "import scipy.sparse as ssp\n",
      "import scipy.sparse.linalg as sla\n",
      "import pickle as pkl\n",
      "import matplotlib.pyplot as plt\n",
      "import os\n",
      "%matplotlib inline\n",
      "\n",
      "import pickle as pkl\n",
      "import bottleneck\n",
      "\n"
     ],
     "language": "python",
     "metadata": {},
     "outputs": [],
     "prompt_number": 2
    },
    {
     "cell_type": "markdown",
     "metadata": {},
     "source": [
      "# Basic Data Analysis\n",
      "## Load the data\n",
      "Optionally we may reconstruct the sparse matrices from the individual dense numpy objects. These are then dumped back to disk, overwriting the old ones."
     ]
    },
    {
     "cell_type": "code",
     "collapsed": false,
     "input": [
      "if reconstructSparse:\n",
      "    W_data = np.load(path + \"/words-data.npy\")\n",
      "    W_ind  = np.load(path + \"/words-indices.npy\")\n",
      "    W_ptr  = np.load(path + \"/words-indptr.npy\")\n",
      "\n",
      "    X_data = np.load(path + \"/side-data.npy\")\n",
      "    X_ind  = np.load(path + \"/side-indices.npy\")\n",
      "    X_ptr  = np.load(path + \"/side-indptr.npy\")\n",
      "\n",
      "    W = ssp.csr_matrix((W_data, W_ind, W_ptr))\n",
      "    X = ssp.csr_matrix((X_data, X_ind, X_ptr))\n",
      "\n",
      "    with open(path + \"/words.pkl\", 'wb') as f:\n",
      "        pkl.dump(ssp.csr_matrix((W_data, W_ind, W_ptr)), f)\n",
      "\n",
      "    with open(path + \"/side.pkl\", 'wb') as f:\n",
      "        pkl.dump(ssp.csr_matrix((X_data, X_ind, X_ptr)), f)\n",
      "\n",
      "    (W.shape, X.shape)"
     ],
     "language": "python",
     "metadata": {},
     "outputs": [],
     "prompt_number": 3
    },
    {
     "cell_type": "code",
     "collapsed": false,
     "input": [
      "with open(path + \"/words.pkl\", 'rb') as f:\n",
      "    W = pkl.load(f)\n",
      "with open(path + \"/side.pkl\", 'rb') as f:\n",
      "    X = pkl.load(f)"
     ],
     "language": "python",
     "metadata": {},
     "outputs": [],
     "prompt_number": 4
    },
    {
     "cell_type": "markdown",
     "metadata": {},
     "source": [
      "##\u00a0Document Count and Length\n",
      "Document, feature and term counts. Total word-count. Distribution over document lengths."
     ]
    },
    {
     "cell_type": "code",
     "collapsed": false,
     "input": [
      "(D,T) = W.shape\n",
      "(D_check,F) = X.shape\n",
      "\n",
      "\n",
      "(D, D_check == D, T, F)"
     ],
     "language": "python",
     "metadata": {},
     "outputs": [
      {
       "metadata": {},
       "output_type": "pyout",
       "prompt_number": 5,
       "text": [
        "(605319, True, 79799, 427)"
       ]
      }
     ],
     "prompt_number": 5
    },
    {
     "cell_type": "code",
     "collapsed": false,
     "input": [
      "np.sum(W.data)"
     ],
     "language": "python",
     "metadata": {},
     "outputs": [
      {
       "metadata": {},
       "output_type": "pyout",
       "prompt_number": 6,
       "text": [
        "5958065"
       ]
      }
     ],
     "prompt_number": 6
    },
    {
     "cell_type": "code",
     "collapsed": false,
     "input": [
      "docLen = np.squeeze(np.asarray (W.sum(axis=1)))\n",
      "np.where(docLen < 1)"
     ],
     "language": "python",
     "metadata": {},
     "outputs": [
      {
       "metadata": {},
       "output_type": "pyout",
       "prompt_number": 7,
       "text": [
        "(array([], dtype=int64),)"
       ]
      }
     ],
     "prompt_number": 7
    },
    {
     "cell_type": "code",
     "collapsed": false,
     "input": [
      "fig, ax = plt.subplots()\n",
      "counts, bins, patches = ax.hist(docLen, bins=40, range=(0,40))\n",
      "ax.set_xlabel(\"Token Count\")\n",
      "ax.set_ylabel(\"Tweet Count\")\n",
      "pass"
     ],
     "language": "python",
     "metadata": {},
     "outputs": [
      {
       "metadata": {},
       "output_type": "display_data",
       "png": "[encoded data removed]",
       "text": [
        "<matplotlib.figure.Figure at 0x109715610>"
       ]
      }
     ],
     "prompt_number": 8
    },
    {
     "cell_type": "markdown",
     "metadata": {},
     "source": [
      "Note that tweets containing fewer than four tokens were not admitted to the dataset when preprocessing, which is why this graph starts at 4 and not 0 or 1"
     ]
    },
    {
     "cell_type": "markdown",
     "metadata": {},
     "source": [
      "## Word-Counts and Dictionary Sizes\n",
      "Total dictionary size, and dictionary size per token type"
     ]
    },
    {
     "cell_type": "code",
     "collapsed": false,
     "input": [
      "import itertools\n",
      "d = list(itertools.chain.from_iterable(words))\n",
      "len(d)"
     ],
     "language": "python",
     "metadata": {},
     "outputs": [
      {
       "metadata": {},
       "output_type": "pyout",
       "prompt_number": 9,
       "text": [
        "79800"
       ]
      }
     ],
     "prompt_number": 9
    },
    {
     "cell_type": "code",
     "collapsed": false,
     "input": [
      "dictNames = ['Addressee', 'URL', 'Text', 'Stock', 'Emoticon', 'Hashtag']\n",
      "dicts     = [ wordsUsername, wordsUrl, wordsToken, wordsStock, wordsEmoticon, wordsHashtag, ]\n",
      "dictLens  = dict (zip(dictNames, [len(w) for w in dicts]))\n",
      "dictLens"
     ],
     "language": "python",
     "metadata": {},
     "outputs": [
      {
       "metadata": {},
       "output_type": "pyout",
       "prompt_number": 10,
       "text": [
        "{'Addressee': 0,\n",
        " 'Emoticon': 593,\n",
        " 'Hashtag': 13347,\n",
        " 'Stock': 454,\n",
        " 'Text': 63421,\n",
        " 'URL': 1985}"
       ]
      }
     ],
     "prompt_number": 10
    },
    {
     "cell_type": "markdown",
     "metadata": {},
     "source": [
      "For convenience later define the start and end of each token type, so we can slice the word matrix and just do inference, on for example, hashtags."
     ]
    },
    {
     "cell_type": "code",
     "collapsed": false,
     "input": [
      "dictStarts = dict()\n",
      "acc = 0\n",
      "for k in dictNames:\n",
      "    dictStarts[k] = acc\n",
      "    acc += dictLens[k]\n",
      "dictStarts\n",
      "    "
     ],
     "language": "python",
     "metadata": {},
     "outputs": [
      {
       "metadata": {},
       "output_type": "pyout",
       "prompt_number": 11,
       "text": [
        "{'Addressee': 0,\n",
        " 'Emoticon': 65860,\n",
        " 'Hashtag': 66453,\n",
        " 'Stock': 65406,\n",
        " 'Text': 1985,\n",
        " 'URL': 0}"
       ]
      }
     ],
     "prompt_number": 11
    },
    {
     "cell_type": "code",
     "collapsed": false,
     "input": [
      "dictEnds = dict()\n",
      "for i in range(len(dictNames) - 1):\n",
      "    dictEnds[dictNames[i]] = dictStarts[dictNames[i + 1]]\n",
      "dictEnds[dictNames[-1]] = len(d)\n",
      "dictEnds"
     ],
     "language": "python",
     "metadata": {},
     "outputs": [
      {
       "metadata": {},
       "output_type": "pyout",
       "prompt_number": 12,
       "text": [
        "{'Addressee': 0,\n",
        " 'Emoticon': 66453,\n",
        " 'Hashtag': 79800,\n",
        " 'Stock': 65860,\n",
        " 'Text': 65406,\n",
        " 'URL': 1985}"
       ]
      }
     ],
     "prompt_number": 12
    },
    {
     "cell_type": "markdown",
     "metadata": {},
     "source": [
      "###\u00a0Sanity check"
     ]
    },
    {
     "cell_type": "markdown",
     "metadata": {},
     "source": [
      "Just to verify that the words have been adequately extracted, we recreate a tweet from its vector representation using the dictionary. We already know that the first row in the document-term matrix $W$ corresponds to the first tweet from the ACLU account, which reads:\n",
      "\n",
      "> Sen. Lautenberg was a champion for religious liberty, women's rights & reproductive freedom. We will miss his voice & passion."
     ]
    },
    {
     "cell_type": "code",
     "collapsed": false,
     "input": [
      "[d[i] for i in W.indices[0:W.indptr[1]]]"
     ],
     "language": "python",
     "metadata": {},
     "outputs": [
      {
       "metadata": {},
       "output_type": "pyout",
       "prompt_number": 13,
       "text": [
        "['we',\n",
        " 'women',\n",
        " 'hi',\n",
        " 'liberti',\n",
        " 'passion',\n",
        " 'miss',\n",
        " 'champion',\n",
        " 'voic',\n",
        " 'reproduct',\n",
        " 'religi',\n",
        " 'freedom',\n",
        " 'sen',\n",
        " 'lautenberg',\n",
        " 'right']"
       ]
      }
     ],
     "prompt_number": 13
    },
    {
     "cell_type": "markdown",
     "metadata": {},
     "source": [
      "###\u00a0Minimum and Maximum Count of Each Class of Token"
     ]
    },
    {
     "cell_type": "code",
     "collapsed": false,
     "input": [
      "totalCount = np.squeeze(np.asarray (W.astype(np.int32).sum(axis=0)))\n",
      "\n",
      "totalCounts = dict()\n",
      "endExcl = 0\n",
      "for i in range(len(dicts)):\n",
      "    name = dictNames[i]\n",
      "    startIncl  = endExcl\n",
      "    endExcl   += len(dicts[i])\n",
      "    totalCounts[name] = totalCount[startIncl:endExcl]"
     ],
     "language": "python",
     "metadata": {},
     "outputs": [],
     "prompt_number": 14
    },
    {
     "cell_type": "code",
     "collapsed": false,
     "input": [
      "for k,v in totalCounts.items():\n",
      "    dict_k = dicts[dictNames.index(k)]\n",
      "    print (\"Min(%s): count = %d, token = %s\" % (k , v.min() if len(v) > 0 else -1, dict_k[v.argmin()] if len(v) > 0 else \"\"))"
     ],
     "language": "python",
     "metadata": {},
     "outputs": [
      {
       "output_type": "stream",
       "stream": "stdout",
       "text": [
        "Min(Text): count = 0, token = 3\n",
        "Min(Emoticon): count = 0, token = \u00a7\n",
        "Min(URL): count = 0, token = http://www.youtube.com/watch?v=nYu6hfmVZk8\n",
        "Min(Addressee): count = -1, token = \n",
        "Min(Stock): count = 0, token = $nq\n",
        "Min(Hashtag): count = 0, token = #dfmchat\n"
       ]
      }
     ],
     "prompt_number": 15
    },
    {
     "cell_type": "code",
     "collapsed": false,
     "input": [
      "for k,v in totalCounts.items():\n",
      "    dict_k = dicts[dictNames.index(k)]\n",
      "    print (\"Max(%s): count = %d, token = %s\" % (k , v.max() if len(v) > 0 else -1, dict_k[v.argmax()] if len(v) > 0 else \"\"))"
     ],
     "language": "python",
     "metadata": {},
     "outputs": [
      {
       "output_type": "stream",
       "stream": "stdout",
       "text": [
        "Max(Text): count = 100764, token = you\n",
        "Max(Emoticon): count = 44180, token = \u1f49B\n",
        "Max(URL): count = 176661, token = http://klout.com/user/louiebaur/topics?n=tw&v=plusK_thanks&i=266114\n",
        "Max(Addressee): count = -1, token = \n",
        "Max(Stock): count = 577, token = $aapl\n",
        "Max(Hashtag): count = 3902, token = #usopen\n"
       ]
      }
     ],
     "prompt_number": 16
    },
    {
     "cell_type": "markdown",
     "metadata": {},
     "source": [
      "Note that the emoticon is actually a supplemental unicode character, which Python here has failed to display correctly."
     ]
    },
    {
     "cell_type": "markdown",
     "metadata": {},
     "source": [
      "### Graph of Token Frequency\n",
      "The following graph is slightly confusing - it counts how many words occur how many times, with occurrence count on the Y axis and unique word count on the X axis"
     ]
    },
    {
     "cell_type": "code",
     "collapsed": false,
     "input": [
      "figRows = len([l for l in dictLens.values() if l > 0])\n",
      "print (str(figRows))\n",
      "figCols = 1\n",
      "figIdPrefix = \"%d%d\" % (figRows, figCols)\n",
      "\n",
      "plt.figure(1, figsize=(8,12), dpi=100)\n",
      "for i in range(len(dictNames)):\n",
      "    if dictLens[dictNames[i]] == 0:\n",
      "        continue\n",
      "    plt.subplot(figIdPrefix + str(i))\n",
      "    name = dictNames[i]\n",
      "    plt.hist (totalCounts[name], bins=min(len(totalCounts[name]), 100))[2]\n",
      "    plt.title(name)\n",
      "\n",
      "plt.show()\n"
     ],
     "language": "python",
     "metadata": {},
     "outputs": [
      {
       "output_type": "stream",
       "stream": "stdout",
       "text": [
        "5\n"
       ]
      },
      {
       "metadata": {},
       "output_type": "display_data",
       "png": "[encoded data removed]",
       "text": [
        "<matplotlib.figure.Figure at 0x109715dd0>"
       ]
      }
     ],
     "prompt_number": 17
    },
    {
     "cell_type": "markdown",
     "metadata": {},
     "source": [
      "# Features\n"
     ]
    },
    {
     "cell_type": "code",
     "collapsed": false,
     "input": [
      "feats"
     ],
     "language": "python",
     "metadata": {},
     "outputs": [
      {
       "metadata": {},
       "output_type": "pyout",
       "prompt_number": 18,
       "text": [
        "{'author': 0, 'month_of_year': 421, 'week_of_year': 398}"
       ]
      }
     ],
     "prompt_number": 18
    },
    {
     "cell_type": "code",
     "collapsed": false,
     "input": [
      "len(users)"
     ],
     "language": "python",
     "metadata": {},
     "outputs": [
      {
       "metadata": {},
       "output_type": "pyout",
       "prompt_number": 19,
       "text": [
        "364"
       ]
      }
     ],
     "prompt_number": 19
    },
    {
     "cell_type": "code",
     "collapsed": false,
     "input": [
      "X_U = X[:,0:len(users)]\n",
      "X_W = X[:,feats['week_of_year']:X.shape[1]]"
     ],
     "language": "python",
     "metadata": {},
     "outputs": [],
     "prompt_number": 20
    },
    {
     "cell_type": "markdown",
     "metadata": {},
     "source": [
      "### Users\n",
      "We look at tweet rates per user. We also remove \"quiet\" users who've posted very few (less than 100) tweets. We examine the users who've posted very many tweets to ensure they're not bots."
     ]
    },
    {
     "cell_type": "code",
     "collapsed": false,
     "input": [
      "tweetCountsPerUser = np.squeeze(np.asarray (X_U.astype(np.int32).sum(axis=0)))"
     ],
     "language": "python",
     "metadata": {},
     "outputs": [],
     "prompt_number": 21
    },
    {
     "cell_type": "code",
     "collapsed": false,
     "input": [
      "tweetCountsPerUser.min(), tweetCountsPerUser.max()"
     ],
     "language": "python",
     "metadata": {},
     "outputs": [
      {
       "metadata": {},
       "output_type": "pyout",
       "prompt_number": 22,
       "text": [
        "(1, 21178)"
       ]
      }
     ],
     "prompt_number": 22
    },
    {
     "cell_type": "code",
     "collapsed": false,
     "input": [
      "quietUsers = np.where(tweetCountsPerUser < 100)[0]\n",
      "for qu in quietUsers:\n",
      "    print (users[qu])"
     ],
     "language": "python",
     "metadata": {},
     "outputs": [
      {
       "output_type": "stream",
       "stream": "stdout",
       "text": [
        "BobHerbert\n",
        "CarolynBMaloney\n",
        "DCAbortionFund\n",
        "FAPPA\n",
        "FamilyCircle\n",
        "FrankLautenberg\n",
        "HeyPP\n",
        "Lizchadderdon\n",
        "MaxKaminCross\n",
        "NV_Advocates\n",
        "10yearBonds\n",
        "ATryphonides\n",
        "AkronsBobert\n",
        "AlphaVN\n",
        "Ananicolaci\n",
        "AndreaHotter\n",
        "Annika_Reuters\n",
        "AztecOptions\n",
        "BGIPfund\n",
        "BLNCruzer\n",
        "BUphamT\n",
        "BirchCreekCap\n",
        "2lovebeer\n",
        "ACLINews\n",
        "ActuallyJZ\n",
        "AlexisGelber\n",
        "AnitaSpadaro\n",
        "AskAkbar\n",
        "AdairsvilleRob\n",
        "AlexSkatell\n",
        "AmandaJoFreel\n",
        "AmbJohnBolton\n",
        "AmberMarchand\n",
        "AmeliaChasse\n",
        "AmericanXRoads\n",
        "Anderson33\n",
        "Fake_Maldonado\n",
        "MP4_28Evil\n",
        "AAMIClassic\n"
       ]
      }
     ],
     "prompt_number": 23
    },
    {
     "cell_type": "code",
     "collapsed": false,
     "input": [
      "tweetCountsPerUser.mean(), tweetCountsPerUser.std()"
     ],
     "language": "python",
     "metadata": {},
     "outputs": [
      {
       "metadata": {},
       "output_type": "pyout",
       "prompt_number": 24,
       "text": [
        "(1662.9642857142858, 2640.0758608271649)"
       ]
      }
     ],
     "prompt_number": 24
    },
    {
     "cell_type": "code",
     "collapsed": false,
     "input": [
      "[np.percentile(tweetCountsPerUser, q) for q in [25, 50, 75]]"
     ],
     "language": "python",
     "metadata": {},
     "outputs": [
      {
       "metadata": {},
       "output_type": "pyout",
       "prompt_number": 25,
       "text": [
        "[234.75, 694.0, 1902.5]"
       ]
      }
     ],
     "prompt_number": 25
    },
    {
     "cell_type": "code",
     "collapsed": false,
     "input": [
      "lt = np.log(tweetCountsPerUser)\n",
      "np.exp(lt.mean()), np.exp(lt.std())"
     ],
     "language": "python",
     "metadata": {},
     "outputs": [
      {
       "metadata": {},
       "output_type": "pyout",
       "prompt_number": 26,
       "text": [
        "(622.70624472925169, 4.93478076325421)"
       ]
      }
     ],
     "prompt_number": 26
    },
    {
     "cell_type": "code",
     "collapsed": false,
     "input": [
      "plt.hist(tweetCountsPerUser, bins=50, range=(0,5000))[2]\n",
      "plt.title(\"Tweet Counts per User\")\n",
      "plt.xlabel(\"Number of Tweets\")\n",
      "plt.ylabel(\"Number of Users\")"
     ],
     "language": "python",
     "metadata": {},
     "outputs": [
      {
       "metadata": {},
       "output_type": "pyout",
       "prompt_number": 27,
       "text": [
        "<matplotlib.text.Text at 0x112804610>"
       ]
      },
      {
       "metadata": {},
       "output_type": "display_data",
       "png": "[encoded data removed]",
       "text": [
        "<matplotlib.figure.Figure at 0x109782cd0>"
       ]
      }
     ],
     "prompt_number": 27
    },
    {
     "cell_type": "code",
     "collapsed": false,
     "input": [
      "noisyUsers = np.where(tweetCountsPerUser > 5000)[0]\n",
      "for nu in noisyUsers:\n",
      "    print (users[nu])"
     ],
     "language": "python",
     "metadata": {},
     "outputs": [
      {
       "output_type": "stream",
       "stream": "stdout",
       "text": [
        "HuffPostPol\n",
        "Benzinga\n",
        "DirtyWars\n",
        "Gary_Bainbridge\n",
        "FGW\n",
        "CityJohn\n",
        "DoktorG\n",
        "FoodUrchin\n",
        "ASE\n",
        "BenRothenberg\n",
        "FortyDeuceTwits\n",
        "IamLewis4fake\n",
        "MaxGraham\n",
        "4AllSurfaces\n",
        "A_Gallivant\n",
        "Ataraxis00\n",
        "ChrisSkelton87\n",
        "GBtennis\n",
        "JLR78\n",
        "JayJarrahi\n",
        "Jonirja\n",
        "MindTheRacket\n",
        "MungoNGus\n",
        "Nic_Leigh\n",
        "RD_Tennistalk\n",
        "StephintheUS\n",
        "TheBoiledEgg\n",
        "TheGrandSlams\n"
       ]
      }
     ],
     "prompt_number": 28
    },
    {
     "cell_type": "markdown",
     "metadata": {},
     "source": [
      "All of these actually look legitimate - some are extremely prolific users (e.g. IamLewise4fake) some are businesses (HuffPostPol and Benzinga)"
     ]
    },
    {
     "cell_type": "markdown",
     "metadata": {},
     "source": [
      "So we next remove the quiet users (as inference can't reliably be performed on users with so few tweets)"
     ]
    },
    {
     "cell_type": "code",
     "collapsed": false,
     "input": [
      "quietUser = quietUsers[0]\n",
      "quietFilter = (X[:,quietUser] == 1).todense()\n",
      "for quietUser in quietUsers:\n",
      "    quietFilter |= (X[:,quietUser] == 1).todense()\n",
      "\n",
      "noisyFilter = ~quietFilter\n",
      "noisyFilter = np.squeeze(np.asarray(noisyFilter))\n",
      "\n",
      "X_noisy = X[noisyFilter,:]\n",
      "W_noisy = W[noisyFilter,:]\n",
      "\n",
      "print (\"Stripped {:n} rows\".format(X.shape[0] - X_noisy.shape[0]))\n"
     ],
     "language": "python",
     "metadata": {},
     "outputs": [
      {
       "output_type": "stream",
       "stream": "stdout",
       "text": [
        "Stripped 1667 rows\n"
       ]
      }
     ],
     "prompt_number": 29
    },
    {
     "cell_type": "code",
     "collapsed": false,
     "input": [
      "X = X_noisy\n",
      "W = W_noisy\n",
      "\n",
      "X_U = X[:,0:len(users)]\n",
      "X_W = X[:,feats['week_of_year']:X.shape[1]]\n",
      "#X_M = X[:,feats['month_of_year']:X.shape[1]]\n",
      "\n",
      "D = W.shape[0]"
     ],
     "language": "python",
     "metadata": {},
     "outputs": [],
     "prompt_number": 30
    },
    {
     "cell_type": "code",
     "collapsed": false,
     "input": [
      "y_u = np.squeeze (np.asarray(np.argmax(X_U.todense(), axis=1)))\n",
      "len(y_u) == D"
     ],
     "language": "python",
     "metadata": {},
     "outputs": [
      {
       "metadata": {},
       "output_type": "pyout",
       "prompt_number": 31,
       "text": [
        "True"
       ]
      }
     ],
     "prompt_number": 31
    },
    {
     "cell_type": "markdown",
     "metadata": {},
     "source": [
      "###\u00a0Weeks"
     ]
    },
    {
     "cell_type": "code",
     "collapsed": false,
     "input": [
      "tweetCountsPerWeek = np.squeeze(np.asarray (X_W.astype(np.int32).sum(axis=0)))"
     ],
     "language": "python",
     "metadata": {},
     "outputs": [],
     "prompt_number": 32
    },
    {
     "cell_type": "code",
     "collapsed": false,
     "input": [
      "tweetCountsPerWeek.min(), tweetCountsPerWeek.max()"
     ],
     "language": "python",
     "metadata": {},
     "outputs": [
      {
       "metadata": {},
       "output_type": "pyout",
       "prompt_number": 33,
       "text": [
        "(0, 126670)"
       ]
      }
     ],
     "prompt_number": 33
    },
    {
     "cell_type": "code",
     "collapsed": false,
     "input": [
      "tweetCountsPerWeek.mean(), tweetCountsPerWeek.std()"
     ],
     "language": "python",
     "metadata": {},
     "outputs": [
      {
       "metadata": {},
       "output_type": "pyout",
       "prompt_number": 34,
       "text": [
        "(41631.172413793101, 36914.583498954831)"
       ]
      }
     ],
     "prompt_number": 34
    },
    {
     "cell_type": "code",
     "collapsed": false,
     "input": [
      "[np.percentile(tweetCountsPerWeek, q) for q in [25, 50, 75]]"
     ],
     "language": "python",
     "metadata": {},
     "outputs": [
      {
       "metadata": {},
       "output_type": "pyout",
       "prompt_number": 35,
       "text": [
        "[24526.0, 28337.0, 31152.0]"
       ]
      }
     ],
     "prompt_number": 35
    },
    {
     "cell_type": "code",
     "collapsed": false,
     "input": [
      "lt = np.log(tweetCountsPerWeek)\n",
      "np.exp(lt.mean()), np.exp(lt.std())"
     ],
     "language": "python",
     "metadata": {},
     "outputs": [
      {
       "output_type": "stream",
       "stream": "stderr",
       "text": [
        "-c:1: RuntimeWarning: divide by zero encountered in log\n",
        "/opt/local/Library/Frameworks/Python.framework/Versions/3.3/lib/python3.3/site-packages/numpy/core/_methods.py:96: RuntimeWarning: invalid value encountered in subtract\n",
        "  x = asanyarray(arr - arrmean)\n"
       ]
      },
      {
       "metadata": {},
       "output_type": "pyout",
       "prompt_number": 36,
       "text": [
        "(0.0, nan)"
       ]
      }
     ],
     "prompt_number": 36
    },
    {
     "cell_type": "code",
     "collapsed": false,
     "input": [
      "plt.plot(np.arange(0, len(tweetCountsPerWeek)), tweetCountsPerWeek, 'bo')\n",
      "plt.title(\"Tweet Counts per Week\")\n",
      "plt.ylabel(\"Number of Tweets\")\n",
      "plt.xlabel(\"Week\")\n",
      "plt.ylim(0, tweetCountsPerWeek.max()* 1.10)"
     ],
     "language": "python",
     "metadata": {},
     "outputs": [
      {
       "metadata": {},
       "output_type": "pyout",
       "prompt_number": 37,
       "text": [
        "(0, 139337.0)"
       ]
      },
      {
       "metadata": {},
       "output_type": "display_data",
       "png": "[encoded data removed]",
       "text": [
        "<matplotlib.figure.Figure at 0x1097e3e90>"
       ]
      }
     ],
     "prompt_number": 37
    },
    {
     "cell_type": "code",
     "collapsed": false,
     "input": [
      "y_w = np.squeeze (np.asarray(np.argmax(X_W.todense(), axis=1)))\n",
      "len(y_w) == D"
     ],
     "language": "python",
     "metadata": {},
     "outputs": [
      {
       "metadata": {},
       "output_type": "pyout",
       "prompt_number": 38,
       "text": [
        "True"
       ]
      }
     ],
     "prompt_number": 38
    },
    {
     "cell_type": "markdown",
     "metadata": {},
     "source": [
      "###\u00a0Months"
     ]
    },
    {
     "cell_type": "code",
     "collapsed": false,
     "input": [
      "months = ['May', 'June', 'July', 'August', 'September', 'October']\n",
      "tweetCountsPerMonth = np.squeeze(np.asarray (X_M.astype(np.int32).sum(axis=0)))"
     ],
     "language": "python",
     "metadata": {},
     "outputs": [
      {
       "ename": "NameError",
       "evalue": "name 'X_M' is not defined",
       "output_type": "pyerr",
       "traceback": [
        "\u001b[0;31m---------------------------------------------------------------------------\u001b[0m\n\u001b[0;31mNameError\u001b[0m                                 Traceback (most recent call last)",
        "\u001b[0;32m<ipython-input-39-0bd8fa9bc337>\u001b[0m in \u001b[0;36m<module>\u001b[0;34m()\u001b[0m\n\u001b[1;32m      1\u001b[0m \u001b[0mmonths\u001b[0m \u001b[0;34m=\u001b[0m \u001b[0;34m[\u001b[0m\u001b[0;34m'May'\u001b[0m\u001b[0;34m,\u001b[0m \u001b[0;34m'June'\u001b[0m\u001b[0;34m,\u001b[0m \u001b[0;34m'July'\u001b[0m\u001b[0;34m,\u001b[0m \u001b[0;34m'August'\u001b[0m\u001b[0;34m,\u001b[0m \u001b[0;34m'September'\u001b[0m\u001b[0;34m,\u001b[0m \u001b[0;34m'October'\u001b[0m\u001b[0;34m]\u001b[0m\u001b[0;34m\u001b[0m\u001b[0m\n\u001b[0;32m----> 2\u001b[0;31m \u001b[0mtweetCountsPerMonth\u001b[0m \u001b[0;34m=\u001b[0m \u001b[0mnp\u001b[0m\u001b[0;34m.\u001b[0m\u001b[0msqueeze\u001b[0m\u001b[0;34m(\u001b[0m\u001b[0mnp\u001b[0m\u001b[0;34m.\u001b[0m\u001b[0masarray\u001b[0m \u001b[0;34m(\u001b[0m\u001b[0mX_M\u001b[0m\u001b[0;34m.\u001b[0m\u001b[0mastype\u001b[0m\u001b[0;34m(\u001b[0m\u001b[0mnp\u001b[0m\u001b[0;34m.\u001b[0m\u001b[0mint32\u001b[0m\u001b[0;34m)\u001b[0m\u001b[0;34m.\u001b[0m\u001b[0msum\u001b[0m\u001b[0;34m(\u001b[0m\u001b[0maxis\u001b[0m\u001b[0;34m=\u001b[0m\u001b[0;36m0\u001b[0m\u001b[0;34m)\u001b[0m\u001b[0;34m)\u001b[0m\u001b[0;34m)\u001b[0m\u001b[0;34m\u001b[0m\u001b[0m\n\u001b[0m",
        "\u001b[0;31mNameError\u001b[0m: name 'X_M' is not defined"
       ]
      }
     ],
     "prompt_number": 39
    },
    {
     "cell_type": "code",
     "collapsed": false,
     "input": [
      "tweetCountsPerMonth.min(), tweetCountsPerMonth.max()"
     ],
     "language": "python",
     "metadata": {},
     "outputs": []
    },
    {
     "cell_type": "code",
     "collapsed": false,
     "input": [
      "tweetCountsPerMonth.mean(), tweetCountsPerMonth.std()"
     ],
     "language": "python",
     "metadata": {},
     "outputs": [
      {
       "ename": "NameError",
       "evalue": "name 'tweetCountsPerMonth' is not defined",
       "output_type": "pyerr",
       "traceback": [
        "\u001b[0;31m---------------------------------------------------------------------------\u001b[0m\n\u001b[0;31mNameError\u001b[0m                                 Traceback (most recent call last)",
        "\u001b[0;32m<ipython-input-40-59fdcb9cdb24>\u001b[0m in \u001b[0;36m<module>\u001b[0;34m()\u001b[0m\n\u001b[0;32m----> 1\u001b[0;31m \u001b[0mtweetCountsPerMonth\u001b[0m\u001b[0;34m.\u001b[0m\u001b[0mmean\u001b[0m\u001b[0;34m(\u001b[0m\u001b[0;34m)\u001b[0m\u001b[0;34m,\u001b[0m \u001b[0mtweetCountsPerMonth\u001b[0m\u001b[0;34m.\u001b[0m\u001b[0mstd\u001b[0m\u001b[0;34m(\u001b[0m\u001b[0;34m)\u001b[0m\u001b[0;34m\u001b[0m\u001b[0m\n\u001b[0m",
        "\u001b[0;31mNameError\u001b[0m: name 'tweetCountsPerMonth' is not defined"
       ]
      }
     ],
     "prompt_number": 40
    },
    {
     "cell_type": "code",
     "collapsed": false,
     "input": [
      "[np.percentile(tweetCountsPerMonth, q) for q in [25, 50, 75]]"
     ],
     "language": "python",
     "metadata": {},
     "outputs": [
      {
       "ename": "NameError",
       "evalue": "global name 'tweetCountsPerMonth' is not defined",
       "output_type": "pyerr",
       "traceback": [
        "\u001b[0;31m---------------------------------------------------------------------------\u001b[0m\n\u001b[0;31mNameError\u001b[0m                                 Traceback (most recent call last)",
        "\u001b[0;32m<ipython-input-41-97a56f96d121>\u001b[0m in \u001b[0;36m<module>\u001b[0;34m()\u001b[0m\n\u001b[0;32m----> 1\u001b[0;31m \u001b[0;34m[\u001b[0m\u001b[0mnp\u001b[0m\u001b[0;34m.\u001b[0m\u001b[0mpercentile\u001b[0m\u001b[0;34m(\u001b[0m\u001b[0mtweetCountsPerMonth\u001b[0m\u001b[0;34m,\u001b[0m \u001b[0mq\u001b[0m\u001b[0;34m)\u001b[0m \u001b[0;32mfor\u001b[0m \u001b[0mq\u001b[0m \u001b[0;32min\u001b[0m \u001b[0;34m[\u001b[0m\u001b[0;36m25\u001b[0m\u001b[0;34m,\u001b[0m \u001b[0;36m50\u001b[0m\u001b[0;34m,\u001b[0m \u001b[0;36m75\u001b[0m\u001b[0;34m]\u001b[0m\u001b[0;34m]\u001b[0m\u001b[0;34m\u001b[0m\u001b[0m\n\u001b[0m",
        "\u001b[0;32m<ipython-input-41-97a56f96d121>\u001b[0m in \u001b[0;36m<listcomp>\u001b[0;34m(.0)\u001b[0m\n\u001b[0;32m----> 1\u001b[0;31m \u001b[0;34m[\u001b[0m\u001b[0mnp\u001b[0m\u001b[0;34m.\u001b[0m\u001b[0mpercentile\u001b[0m\u001b[0;34m(\u001b[0m\u001b[0mtweetCountsPerMonth\u001b[0m\u001b[0;34m,\u001b[0m \u001b[0mq\u001b[0m\u001b[0;34m)\u001b[0m \u001b[0;32mfor\u001b[0m \u001b[0mq\u001b[0m \u001b[0;32min\u001b[0m \u001b[0;34m[\u001b[0m\u001b[0;36m25\u001b[0m\u001b[0;34m,\u001b[0m \u001b[0;36m50\u001b[0m\u001b[0;34m,\u001b[0m \u001b[0;36m75\u001b[0m\u001b[0;34m]\u001b[0m\u001b[0;34m]\u001b[0m\u001b[0;34m\u001b[0m\u001b[0m\n\u001b[0m",
        "\u001b[0;31mNameError\u001b[0m: global name 'tweetCountsPerMonth' is not defined"
       ]
      }
     ],
     "prompt_number": 41
    },
    {
     "cell_type": "code",
     "collapsed": false,
     "input": [
      "lt = np.log(tweetCountsPerMonth)\n",
      "np.exp(lt.mean()), np.exp(lt.std())"
     ],
     "language": "python",
     "metadata": {},
     "outputs": [
      {
       "ename": "NameError",
       "evalue": "name 'tweetCountsPerMonth' is not defined",
       "output_type": "pyerr",
       "traceback": [
        "\u001b[0;31m---------------------------------------------------------------------------\u001b[0m\n\u001b[0;31mNameError\u001b[0m                                 Traceback (most recent call last)",
        "\u001b[0;32m<ipython-input-42-02846471b039>\u001b[0m in \u001b[0;36m<module>\u001b[0;34m()\u001b[0m\n\u001b[0;32m----> 1\u001b[0;31m \u001b[0mlt\u001b[0m \u001b[0;34m=\u001b[0m \u001b[0mnp\u001b[0m\u001b[0;34m.\u001b[0m\u001b[0mlog\u001b[0m\u001b[0;34m(\u001b[0m\u001b[0mtweetCountsPerMonth\u001b[0m\u001b[0;34m)\u001b[0m\u001b[0;34m\u001b[0m\u001b[0m\n\u001b[0m\u001b[1;32m      2\u001b[0m \u001b[0mnp\u001b[0m\u001b[0;34m.\u001b[0m\u001b[0mexp\u001b[0m\u001b[0;34m(\u001b[0m\u001b[0mlt\u001b[0m\u001b[0;34m.\u001b[0m\u001b[0mmean\u001b[0m\u001b[0;34m(\u001b[0m\u001b[0;34m)\u001b[0m\u001b[0;34m)\u001b[0m\u001b[0;34m,\u001b[0m \u001b[0mnp\u001b[0m\u001b[0;34m.\u001b[0m\u001b[0mexp\u001b[0m\u001b[0;34m(\u001b[0m\u001b[0mlt\u001b[0m\u001b[0;34m.\u001b[0m\u001b[0mstd\u001b[0m\u001b[0;34m(\u001b[0m\u001b[0;34m)\u001b[0m\u001b[0;34m)\u001b[0m\u001b[0;34m\u001b[0m\u001b[0m\n",
        "\u001b[0;31mNameError\u001b[0m: name 'tweetCountsPerMonth' is not defined"
       ]
      }
     ],
     "prompt_number": 42
    },
    {
     "cell_type": "code",
     "collapsed": false,
     "input": [
      "x = np.arange(0, len(tweetCountsPerMonth))\n",
      "plt.plot(x, tweetCountsPerMonth, 'bo')\n",
      "plt.title(\"Tweet Counts per Month\")\n",
      "plt.ylabel(\"Number of Tweets\")\n",
      "plt.xticks(x, months)\n",
      "plt.ylim(0, tweetCountsPerMonth.max()* 1.10)"
     ],
     "language": "python",
     "metadata": {},
     "outputs": []
    },
    {
     "cell_type": "code",
     "collapsed": false,
     "input": [
      "y_m = np.squeeze (np.asarray(np.argmax(X_M.todense(), axis=1)))\n",
      "len(y_m) == D"
     ],
     "language": "python",
     "metadata": {},
     "outputs": []
    },
    {
     "cell_type": "markdown",
     "metadata": {},
     "source": [
      "# Create the All in One Dataset to Help Testing\n",
      "Bundle the (cleaned) words, features and dictionary into a single pickled blob."
     ]
    },
    {
     "cell_type": "code",
     "collapsed": false,
     "input": [
      "if not os.path.exists(path + \"/all-in-one.pkl\"):\n",
      "    with open (path + \"/all-in-one.pkl\", \"wb\") as f:\n",
      "        pkl.dump ((W,X,d), f)"
     ],
     "language": "python",
     "metadata": {},
     "outputs": [],
     "prompt_number": 184
    },
    {
     "cell_type": "markdown",
     "metadata": {},
     "source": [
      "# Word and Feature Correlations"
     ]
    },
    {
     "cell_type": "code",
     "collapsed": false,
     "input": [
      "#from sklearn import svm, datasets\n",
      "from sklearn.linear_model import LogisticRegression\n",
      "from sklearn.metrics import roc_curve, auc\n",
      "from sklearn.cross_validation import StratifiedKFold\n",
      "\n",
      "from sklearn import cross_validation"
     ],
     "language": "python",
     "metadata": {},
     "outputs": [],
     "prompt_number": 185
    },
    {
     "cell_type": "code",
     "collapsed": false,
     "input": [
      "def cross_val_and_print_accuracy(classifier, inputs, outputs, n_folds=3):\n",
      "    '''\n",
      "    For binary and multi-class classifiers, does an n_fold \n",
      "    cross-validation and print out the accuracy of the classifer\n",
      "    and the accuracy of random\n",
      "    '''\n",
      "    skf = StratifiedKFold(outputs, n_folds=3)\n",
      "    scores = cross_validation.cross_val_score(classifier, inputs, outputs, cv=skf)\n",
      "    print(\"Classifier Accuracy: %0.2f (+/- %0.2f)\" % (scores.mean(), scores.std() * 2))\n",
      "    print(\"Random     Accuracy: %0.2f\" % (1.0 / (1 + np.max(outputs))))\n",
      "\n",
      "def cross_val_and_plot_roc(classifier, inputs, outputs, n_folds=3):\n",
      "    '''\n",
      "    For binary classifiers only, does an n_fold cross-validation\n",
      "    using the given instance of a classifier on the the inputs and\n",
      "    outputs and then plots the ROC curve and a line for a random\n",
      "    classifier.\n",
      "    '''\n",
      "    cv = StratifiedKFold(outputs, n_folds=n_folds)\n",
      "    \n",
      "    mean_tpr = 0.0\n",
      "    mean_fpr = np.linspace(0, 1, 100)\n",
      "    all_tpr = []\n",
      "    \n",
      "    for i, (train, test) in enumerate(cv):\n",
      "        probas_ = classifier.fit(inputs[train], outputs[train]).predict_proba(inputs[test])\n",
      "        \n",
      "        # Compute ROC curve and area the curve\n",
      "        fpr, tpr, thresholds = roc_curve(outputs[test], probas_[:, 1])\n",
      "        mean_tpr += interp(mean_fpr, fpr, tpr)\n",
      "        mean_tpr[0] = 0.0\n",
      "        roc_auc = auc(fpr, tpr)\n",
      "        \n",
      "        pl.plot(fpr, tpr, lw=1, label='ROC fold %d (area = %0.2f)' % (i, roc_auc))\n",
      "\n",
      "    pl.plot([0, 1], [0, 1], '--', color=(0.6, 0.6, 0.6), label='Luck')\n",
      "\n",
      "    mean_tpr /= len(cv)\n",
      "    mean_tpr[-1] = 1.0\n",
      "    mean_auc = auc(mean_fpr, mean_tpr)\n",
      "    pl.plot(mean_fpr, mean_tpr, 'k--',\n",
      "        label='Mean ROC (area = %0.2f)' % mean_auc, lw=2)\n",
      "\n",
      "    pl.xlim([-0.05, 1.05])\n",
      "    pl.ylim([-0.05, 1.05])\n",
      "    pl.xlabel('False Positive Rate')\n",
      "    pl.ylabel('True Positive Rate')\n",
      "    pl.title('Receiver operating characteristic example')\n",
      "    pl.legend(loc=\"lower right\")\n",
      "    pl.show()\n"
     ],
     "language": "python",
     "metadata": {},
     "outputs": [],
     "prompt_number": 186
    },
    {
     "cell_type": "markdown",
     "metadata": {},
     "source": [
      "## Predicting User from Tweets"
     ]
    },
    {
     "cell_type": "code",
     "collapsed": false,
     "input": [
      "reg = LogisticRegression()"
     ],
     "language": "python",
     "metadata": {},
     "outputs": [],
     "prompt_number": 187
    },
    {
     "cell_type": "code",
     "collapsed": false,
     "input": [
      "reg.fit (W.astype(np.float64), y_u)"
     ],
     "language": "python",
     "metadata": {},
     "outputs": [
      {
       "metadata": {},
       "output_type": "pyout",
       "prompt_number": 188,
       "text": [
        "LogisticRegression(C=1.0, class_weight=None, dual=False, fit_intercept=True,\n",
        "          intercept_scaling=1, penalty='l2', random_state=None, tol=0.0001)"
       ]
      }
     ],
     "prompt_number": 188
    },
    {
     "cell_type": "code",
     "collapsed": false,
     "input": [
      "for u in range(len(users)):\n",
      "    words = [d[i] for i in np.where(reg.coef_[u] > 3)[0]]\n",
      "    name  = users[u]\n",
      "    print (\"%s : %s\" % (name, str(words)))"
     ],
     "language": "python",
     "metadata": {},
     "outputs": [
      {
       "output_type": "stream",
       "stream": "stdout",
       "text": [
        "ACLU : ['aclu', '#closegitmo', '#civilliberties', '#fbi', '#nsa', '#surveillance', '#equalpay', '#marijuana', '#privacy', '#police', '#torture', '#deathpenalty', '#solitaryconfinement', '#fem2', '#freespeech']\n",
        "AdvocatesTweets : ['millenni', '#lgbtq', '#beatriz', '#nn13', '#hiv', '#sexed', '#1in3', '#trans', '#ur2013']\n",
        "AnnRichardsPlay : ['ann', 'holland', 'taylor', '#annplay']\n",
        "AskDrRuth : ['sex', 'romant', 'jamaica', 'peni']\n",
        "BabatundeUNFPA : ['#mdg5', '#mdg456live', '#icpd']\n",
        "Beyerstein : ['sidnei', '#benghaziinfourwords', '#paulasbestdishes']\n",
        "BobHerbert : ['#amc2013', '#reprojustice']\n",
        "CLPPtweets : ['#sb5', '#standwithtxwomen']\n",
        "CarolynBMaloney : ['nyer']\n",
        "CecileRichards : ['sequest', '#netde']\n",
        "ChrisCQuinn : ['ct', 'hangout', 'hartford']\n",
        "ChrisCoons : ['cleveland', '#standwithwendy']\n",
        "ChrisMurphyCT : ['#race', '#gaymarriage', '#adoption', '#military', '#catholic', '#marijuana', '#children', '#women', '#families', '#sexualassault', '#religion', '#lgbt']\n",
        "ConnieSchultz : ['gov', 'dga', 'corbett', 'suppress', 'sequest', '#vagov']\n",
        "CraryAP : ['fda', 'genom', 'terrif', 'donni', '#dreamday', '#fortunempw']\n",
        "DCAbortionFund : ['thx', '#catchingfire']\n",
        "DemGovs : []\n",
        "DrNancyNBCNEWS : ['entrepreneur', '#redefinepower']\n",
        "ElizabethBanks : ['#familyplanning']\n",
        "ErinMcPike : ['rmc', '#antichoice', '#gop', '#healthcare', '#birthcontrol', '#contraception', '#abortion', '#prochoice']\n",
        "FAPPA : ['minnesota', '#bettermn', '#mnleg', '#mdayton']\n",
        "FamilyCircle : ['fact', '#reprohealth', '#abortion']\n",
        "ForbesWoman : ['http://healthcare.gov', 'marketplac']\n",
        "FrankLautenberg : ['xo', '2.5', 'ann', 'yow', 'xox', 'tnx', 'matine', \"b'wai\", 'damb', 'theatr', '#ann']\n",
        "FriendsofUNFPA : ['jfk', 'kkk', 'pot', 'nra', 'congresswoman', 'atheist', 'allegi', 'sequestration', 'sequestr', 'arpaio', 'westboro', 'bachmann', 'sanford', 'sotomayor', 'congressman', 'marijuana', 'obama', 'chenei', 'bradlei', 'longform', 'dirtiest', 'colbert', 'kermit', 'stamp', 'huffpost', 'manning', 'weed', 'anti-obama', 'lindsei', 'climat', 'creationist', 'elizabeth', 'secess', 'boehner', '#longreads', '#thirdmetric', '#navyyardshooting', '#prop8']\n",
        "GOPChoice : ['ipa', 'beatriz', 'aborto', '#wearedc', '#standwithdcwomen', '#wdlive', '#sept28', '#rpcvchat']\n",
        "GovMarkDayton : ['h/t', 'org', 'excerpt', 'underworld', 'anti-choic', 'feminist', 'toddler', 'layla', 'slutbag', '#fbrape']\n",
        "Guttmacher : ['dialogu', 'annan', '#democracy', '#kofiannanlive', '#youth']\n",
        "HealthCareGov : ['latino', 'latina', '#dream9', '#latism13', '#latino', '#latinospbs']\n",
        "HeyPP : ['#getcovered', '#aca', '#health', '#latina']\n",
        "HiltonHollis : ['nc', 'hubbi', 'hip-hop', '#politicsnation', '#nola', '#maddow', '#nerdland', '#scandal', '#msnbc']\n",
        "HollandTaylor : ['mt', '#1u', '#aca', '#cir', '#fastfood', '#timeisnow', '#fairshot', '#mow2013']\n",
        "HuffPostPol : ['#longreads']\n",
        "IpasOrg : ['cpc', 'thx', 'contest', '#antichoice', '#reprorights', '#hb2', '#hr1797', '#standwithtxwomen', '#birthcontrol', '#menforchoice', '#prochoice', '#standwithwendy', '#masen']\n",
        "JessicaValenti : ['shd', 'guardian', 'guardian.co.uk', 'arthur', 'dispirit', 'topshop', 'hadlei', 'tush', 'curti']\n",
        "KofiAnnan : ['splendid']\n",
        "LatinoUSA : ['ipo', 'djia']\n",
        "Latinos4PP : []"
       ]
      },
      {
       "output_type": "stream",
       "stream": "stdout",
       "text": [
        "\n",
        "Lizchadderdon : ['denver', 'sponsor', 'colorado', '5280', 'bronco', '#denver']\n",
        "MHarrisPerry : ['mkt']\n",
        "MaryKayHenry : ['jpm', 'gse', 'lew', 'cordrai', 'banker', 'dimon', 'cfpb', 'fdic', 'bernank', 'halo', 'warren', 'dodd-frank', '#regulatory13']\n",
        "MaxKaminCross : ['ap', 'tip', 'stylebook', 'style', '#apstylechat']\n",
        "MoreMag : ['$aapl', '$spy']\n",
        "NARAL : ['#fb']\n",
        "NV_Advocates : ['zb', 'metra', 'cme', 'madigan', 'curv', 'spooz', 'dime', 'spoo', 'peep']\n",
        "HadleyFreeman : ['fund', 'hedg']\n",
        "benschott : ['write', 'author', 'writer', '#quote', '#bea13', '#indiepub']\n",
        "10yearBonds : ['iow', 'keynesian', 'krugman']\n",
        "247WallSt : ['b/c', 'geopolit', '#eu', '#g8', '#europe', '#china', '#fed', '#eurozone', '#eurocrisis', '#assad', '#japan', '#merkel', '#berlusconi']\n",
        "4Tanguay : ['paulson', 'bernanke', 'esther', 'bernank', 'dudlei', 'volcker', '#jacksonhole']\n",
        "5280Magazine : ['wsj', 'lyric', 'greec', 'greek']\n",
        "5_min_macro : ['#muni', '#muniland', '#detroit', '#illinois']\n",
        "ABWashBureau : ['sec', 'fiduciari', 'detroit', 'issuer', 'bond', 'muni', 'msrb', 'municip']\n",
        "APStylebook : ['millenni', 'retir', 'referr', 'advisor', 'bank', 'wealth', 'annuiti', 'client', '#advisors']\n",
        "ATryphonides : ['japan', 'monetari']\n",
        "A_F : ['q2', 'acquir', 'etf', 'primer', 'brent', 'barron', 'downgrad', 'meister', 'eurozon', 'webinar', 'initi', 'benzinga', 'slideshow', 'upgrad', '$f', '$ba', '$fb', '$gm', '$pg', '$msft', '$nflx', '$dell', '$csco', '$goog', '$aapl', '$bbry', '$amzn', '$jcp', '$hlf', '$gld', '$dis', '$mcd', '$spy', '$znga', '$yhoo', '$vvus', '$sbux', '$tsla']\n",
        "Aalliende : ['qtr']\n",
        "AcrossTheCurve : ['cnn', 'media', 'npr', 'zimmerman', 'jazeera', 'msnbc', 'drudg', 'breitbart', 'politico', 'wapo']\n",
        "AkronsBobert : []\n",
        "Alan_Duerden : []\n",
        "AlexAkesson : ['fb', 'rt', 'wsj', 'zynga', 'mattrick', 'bezo', 'kara', 'pincu', 'sticker', 'zuck', '#d11']\n",
        "AlphaVN : ['e3', 'ax', 'hah', 'engadget', 'wahei', 'liveblog', 'cnet', 'rift', '#throughglass']\n",
        "AmazonKDP : ['bah', 'nilai', 'terrif', 'napkin', 'shill', 'debug', 'bb10', 'jackass']\n",
        "AmbassadorRoos : ['http://dirtywars.org/contact', 'http://www.dirtywars.org', 'http://dirtywars.org', 'tmw', 'tix', 'rowlei', '30pm', 'scahil', 'theater', 'film', 'word-of-mouth', 'livestream', 'showtim', 'jeremyscahill', '#dirtywars', '#s13']\n",
        "Ananicolaci : ['setlist', 'monkei', 'stone', 'mick', '#stoneshydepark', '#therollingstones', '#stones50', '#stonesglasto']\n",
        "AnastasiadesCY : ['problemat', 'caveat', 'essai', 'atcha', 'hulk', 'tact', 'themat']\n",
        "AndreaHotter : ['ita', 'liverpool', 'column', 'scouser', 'moos', 'keri', 'gita', 'plug', 'warnock', 'sedari', '#xfactor', '#thewrightway', '#guardiancoffee', '#theapprentice', '#bbc4']\n",
        "AndyHarless : ['00pm', 'half-pric', 'farmington', 'taproom', 'pizzeria']\n",
        "AndyLangenkamp : ['fawn', 'brindl']\n",
        "AnnalynKurtz : ['toronto', 'enjoi', '#photo']\n",
        "Annika_Reuters : ['washingtonpost', 'arstechnica', 'huffingtonpost', 'reuter', 'gizmodo', 'nytim', 'forb', 'wire', 'boingbo', '#mlb', '#beer']\n",
        "AristidesHatzis : []\n",
        "AztecOptions : ['ay', 'anarchi', 'canni']\n",
        "BChappatta : ['anchor', 'cheer', 'greet', '#sf', '#anchorsteam', '#raiseyouranchor', '#summer', '#sanfrancisco']\n",
        "BDAmerica : ['argu', '#chicago', '#cheers', '#beer']\n",
        "BGIPfund : ['arran']\n",
        "BIConline : ['dipa', 'stein', 'atla', '#ccbw']"
       ]
      },
      {
       "output_type": "stream",
       "stream": "stdout",
       "text": [
        "\n",
        "BLNCruzer : ['coc', 'beavi', 'mudhonei']\n",
        "BUphamT : ['mainten', '#boston', '#california', '#craftbeer']\n",
        "Bank_of_Japan_e : ['hip-hop', 'oakland', 'hella']\n",
        "BeingRegulated : ['matt', 'postcod', '#beerbods']\n",
        "Benzinga : ['#ny', '#local', '#nyc', '#homebrew', '#craftbeer']\n",
        "BergenCapital : ['beerdiscipl', '#beer', '#craftbeer']\n",
        "BigBlueTent : ['belmont', 'badg', \"o'clock\"]\n",
        "BigJournalism : ['whiski', 'edinburgh', 'belfast', 'rateb', '#ebbc13', '#jura50tt']\n",
        "BirchCreekCap : ['barleywin']\n",
        "BlackRaven999 : ['#championsleague']\n",
        "Blackhorse : ['booz', 'blue', 'graham']\n",
        "EvelynRusli : ['bluff', 'bluffer', 'guid', '#quiz', '#win']\n",
        "Tim_Stevens : ['denver', 'breckenridg', 'hootenanni', 'cape']\n",
        "gte : ['yea', 'manchest', 'brewdog', 'manc']\n",
        "DirtyWars : ['b', 'pj', 'tavern', '#somerville']\n",
        "RollingStones : ['buddi', 'yeast', '#scbeer', '#hunt4b85']\n",
        "FilmCritHULK : ['nhc', 'fart', '#homebrew']\n",
        "Gary_Bainbridge : ['cbu', 'pup', 'ginger', 'cantillon', 'puppi', 'amelia', 'crossfit', 'siberian', 'columbu', 'bengal', 'kickbal', '#bengals']\n",
        "2lovebeer : ['octoberfest', 'durham']\n",
        "3RiversBrewery : ['owl', 'w/e', 'ashton', 'butcomb', 'boul', 'grei', 'bitter', ';p']\n",
        "4pawsbrewing : ['bri', 'yai', 'bluebird', 'gina', 'coniston', ':-)', ':-d', ';-d', ';-)']\n",
        "AGonzalezAquino : ['premier', '#atx', '#stl']\n",
        "AbbeyStMartin : ['emm', 'rocker', 'chappi', 'cheer']\n",
        "AlmanacBeer : ['#daylightfordeadeyes', '#toronto']\n",
        "AnarchyBrewCo : ['th', 'l.a', 'via', 'salari', 'teaser']\n",
        "AnchorBrewing : ['dug', 'growler']\n",
        "ArgusBrewery : ['south', 'categori']\n",
        "ArranBrewery : ['hannah', 'beaver', 'duke', 'meat', 'waiter', '\u2764', '#meat', '#yum']\n",
        "AtlasBrewing : ['penros', 'geneva']\n",
        "BHB_brews : ['austin']\n",
        "BeerAdvocate : ['jo', 'tj', 'paddington', '1/2', 'eli', 'dan', 'reg', 'log', 'max', 'heather', 'pullman', 'journei', 'overnight', 'carriag', 'firstgroup.com', 'swindon', 'arran', 'fare', 'railcard', 'lewi', 'john', 'jess', 'tara', 'toni', 'olli', 'paul', 'georgi']\n",
        "BeerAndSoulBlog : []\n",
        "BeerBods : ['brunett', 'fireman', 'redhead', 'extinguish', 'firefight', '#cheers']\n",
        "BeerUnion : ['fw', 'merkin', 'finder', '#fwibf']\n",
        "Beer_Disciples : ['bookshop']\n",
        "Beer_Goddess : ['2000', 'derbi']\n",
        "BeersIveKnown : ['ns', 'tk', 'garrison', 'halifax', '#nscraftbeer']\n",
        "Beertographer : ['metal', 'grim', '#sd', '#sdcc', '#fwibf', '#boozebooks', '#metal', '#craftbeer']\n",
        "Bierschenke : []"
       ]
      },
      {
       "output_type": "stream",
       "stream": "stdout",
       "text": [
        "\n",
        "BlueBellHalkyn : ['4g', 'prepai', 'robbi', 'ireland', '#3benchguy', '#supportworks']\n",
        "BluffersGuide : ['comedi', 'belfast', 'ireland', 'dublin', '#vinb', '#todaypk', '#newsnight', '#eurovision']\n",
        "BreckBrew : ['guidebook', 'bubbli', 'cosmo', '#luxvox', '#jamaica']\n",
        "BrewDogBarDean : ['ukulel', 'howard', 'cardiff', 'thankyou', 'flamingo', 'howi', 'chord']\n",
        "BrewEngland : ['take-awai', 'moroccan', 'argan', 'morocco', 'marrakech', '#marrakech', '#morocco', '#iodac', '#fbc5']\n",
        "Brewery85 : ['ecuadorian', 'galapago', 'ecuador', 'maui', 'girona', 'cuenca', '#bloghouse', '#feelmorealive', '#incostabrava']\n",
        "BrianIsBeering : ['scotland', 'tesco', 'michel', '#saturdaykitchen', '#masterchef', '#bbcgfs', '#recipeoftheday', '#thechefsprotege', '#celebmasterchef', '#celebritymasterchef', '#gbbo']\n",
        "BubOhioBeer : ['nh', 'sweeti', 'ascot', 'grandma', 'chum', 'dulwich', 'weep', 'ohmygod']\n",
        "BullCityBurger : ['glasswar', 'pleasur', 'splendid', '#europeday', '#bgcomp', '#gbbf']\n",
        "ButcombeBrewery : ['normandi', 'innit', 'mate', 'treacl']\n",
        "ConistonBrewCo : ['bon', 'sourdough', 'diner', 'dough', 'demo', 'bonn', 'bath', 'crust', 'bertinet', 'knead', '#bread', '#realbread', '#breadchat', '#pastry', '#bath']\n",
        "CraftingANation : ['b4', 'sow', 'veg', 'geocach', 'gilli', 'carpark', 'rhino', 'compost', 'henlei', 'landi', 'shed', 'grower', '#localfood', '#britishveg']\n",
        "CromartyBrewing : ['bavarian', 'brava', 'balconi', 'kitten', 'bristol', '#belowtheline']\n",
        "DFDband : ['asparagu', 'spear']\n",
        "DailyBeerNews : ['workshop', 'event', 'eventbrit', '#eventprofs', '#smwldn']\n",
        "Dryhopchicago : ['gamma', 'roddi', 'felix', 'stockist', 'caption', 'hurrah', 'burt', 'guin', 'soni', 'crisp', '#gbbo', '#didyouknow']\n",
        "DueSouthBrewing : ['quest', 'kamloop', 'svalbard', 'cruis', '#norwegianbreakaway', '#granddesigns', '#dragonsden', '#cruise', '#eagles', '#bafta', '#skyf1', '#educatingyorkshire', '#uclfinal', '#hignfy', '#eurovision2013', '#royalprincess', '#bbc4']\n",
        "DukesJoint : ['pud', 'wkend', '#cartmel']\n",
        "EHobbz : ['sonia', 'layov', 'singapor', ':-)', ';-)', '#sghaze', '#dctraveltweetup', '#travel', '#frifotos']\n",
        "EasyTigerATX : ['week-end', 'shoreditch', 'espresso', 'tate', 'kickbox', 'turin', 'trafalgar', '#nantes', '#shoreditch', '#london', '#art', '#seaside', '#berlin', '#brighton', '#paris', '#foodie', '#turin', '#newtradition', '#book']\n",
        "FGW : ['matei', 'wimpi', 'balham', 'putnei', 'bellend', 'sisko', 'spelt', 'battersea', 'wank', 'wanker']\n",
        "FallCreekWines : ['ireland', 'cork', 'munster', 'lion', '#corkecho']\n",
        "FiremansBrew : ['#ldf13', '#design', '#pfw', '#lcm', '#lfw', '#fny13', '#venicebiennale', '#artbasel']\n",
        "FirestoneWalker : ['epl', 'ledburi', 'natwest', 'auction']\n",
        "ForumBooks : ['snaffl', 'foodi', 'crumb', '#supperclub', '#bristol', '#gfwawards', '#recipe']\n",
        "FullCircleBrews : ['ikea', 'psfk', 'walken', '#motd', '#championsleague', '#thevoiceuk', '#drwho']\n",
        "GarrisonBrewing : ['lucia', 'premiership', 'daylight', 'fuckwit', 'sipsmith', 'innuendo', 'southcliff', 'finchlei', 'majorca', 'foof', 'graze']\n",
        "Goats_Udder : ['ci', '5km', 'glitter', 'ghastli', 'quaf', ':-(', '#bbcqt', '#luther']\n",
        "Gordon_Biersch : ['hm', 'cronut', 'souffl', 'pre-ord', \"s'more\", '#cronut']\n",
        "3_News : ['london', 'stratford', 'newham', 'ceremoni', 'east', 'henri', '#london', '#weekend']\n",
        "AbiePB : ['ferran', 'cronut', 'bourdain', 'listag', 'cookbook', 'chef', 'deen', 'eater', 'paula', 'restaur']\n",
        "Amanda_Statham : ['fr', 'bec', 'ist', 'h/t', 'turkei', 'turkey', 'malaysia', 'taipei', 'malaysian', 'penang', 'istanbul', 'pple', '#booze', '#photography', '#streetfood', '#istanbul']\n",
        "AmyDavies : ['quark', 'lunchbreak', 'kerb', '#c4news', '#greattasteawards']\n",
        "Arganic_UK : ['tk', 'alu', 'aah', 'bombai', 'indigo', 'kolkata', 'kashmiri', 'ramzan', 'paratha', 'bangalor', 'bandra', 'macaron', 'delhi', 'mumbai', 'bong', 'biryani', 'parsi', 'ling', 'fort', 'gung', 'calcutta', 'gurgaon', 'bengali', 'dadar', '#tvpchat', '#finelychoppedwalk']\n",
        "Ayngelina : ['diari', 'vintag', 'catchup', '#goodwoodrevival', '#lastfm']\n",
        "BBCGoodFoodShow : ['provis', 'eggplant', 'hotlin', 'clara', 'jell-o', 'food52', '#dinnertonight', '#meatlessmonday', '#recipeoftheday', '#genius']\n",
        "Bea_John : ['http://www.thefoodtravelcompany.com/diary.asp', 'xx', 'xxx', 'sicili', 'schnapp', 'cumbria', 'truffl', '#ff', '#sweden', '#somerset', '#onthemenu', '#cornwall', '#eggaward', '#cheese', '#cookbook']\n",
        "Beergenie : ['fu', 'aha', 'faf', 'meeja', 'halloumi', 'essex', 'allot', 'shizz', 'seasick', 'fack', 'fark', 'aldi', 'lanki', 'gorn', 'psst', 'poxi', '#eatscandi', '#foodtube']\n",
        "Ben_Mulock : ['j', 'gal', 'yip', 'uhm', 'saigon', 'soonest', 'vietnam', 'aaah', 'lass', 'jozi', 'durban', ';-p', '\u1f609', '\u1f497', '#vine', '#capetown', '#travel', '#southafrica', '#lovecapetown', '#mymauritius', '#favthings', '#seetheworld', '#food', '#howto', '#loop', '#vineapp', '#istanbul']\n",
        "BertinetKitchen : ['gin', 'hoorai', 'oooo', '#gin']"
       ]
      },
      {
       "output_type": "stream",
       "stream": "stdout",
       "text": [
        "\n",
        "Bosleypatch : ['phwoar', 'borough', '25th', 'butcheri', 'butcher', '#cuts']\n",
        "BristolBites : ['xx', 'bub', 'pal', 'xxx', 'xxxxxx', 'kimchi', 'xxxxx', 'xxxx', '#ibiza']\n",
        "BritAsparagus : ['yea', 'throne', 'ummmm', 'metric', 'ecuador', 'hostel', 'ahhhh', 'ahhhhh', 'berlin', \"ya'll\", 'peru', 'girona', '\u25b6', '#longreads', '#tbex', '#bloghouse', '#archives', '#luxvox', '#incostabrava', '#coloursofperu']\n",
        "BriteUK : ['shortlist', 'award', '#gfwawards']\n",
        "BurtsChips : ['mykono', 'easel', 'hehe', 'greec', 'ritz', 'cheltenham', 'paint']\n",
        "CaptGreybeard : ['mm', 'kap', 'minicamp', 'touchdown', 'candlestick', 'harbaugh', 'gore', 'sack', 'kickoff', 'kaepernick', '#sfvssea', '#49ers', '#kickoff2013', '#camp49', '#nfltop100']\n",
        "CartmelSticky : ['#titleswithnachos']\n",
        "CharlesYap : ['ht', 'crowdsourc', 'ahm', 'ish', 'inshallah', 'huffington', 'friedman', 'shukran', 'palestinian', 'amman', 'aspen', 'assaf', 'dictatori', '#veterans', '#scaf', '#amtrak', '#israel', '#drones', '#santorini', '#twitter', '#kuwait', '#gay', '#trayvonmartin', '#wef', '#nyt', '#mlk', '#snowden', '#palestine', '#lebanon', '#tahrir', '#weiner', '#northkorea', '#afghanistan', '#franklinproject', '#saudi', '#obama', '#occupygezi', '#brazil', '#egypt', '#aljazeera', '#rollingstone', '#guantanamo', '#morsi', '#google', '#yemen', '#iraq', '#worldbrief', '#helenthomas', '#qatar']\n",
        "Chocoralie : ['vra', 'frisk', 'mharrisperry', 'amash', 'butler', 'comei', 'jewish']\n",
        "CityJohn : ['coas']\n",
        "CorkEveningEcho : ['castro', 'fisher', 'alan', '#5things', '#aje', '#oklahoma']\n",
        "CraneTV : ['macbeth']\n",
        "CriticalCouple : ['y/y', 'merkel', 'visualis', 'italy', 'berlusconi', 'lazio', 'juve', 'balotelli', '#china', '#italy']\n",
        "CrumbsMag : ['raven', 'blasio']\n",
        "DFergPR : ['h/t', 'alabama', 'mobil', 'millenni', 'politico', 'buzzfe', 'auburn', '#alpolitics', '#al01']\n",
        "DineHard : ['#vmas', '#emmys']\n",
        "DoktorG : ['israel', 'secretari']\n",
        "DominiqueAnsel : ['psychedel']\n",
        "EastVillageLDN : ['#tedxpoynter', '#florida', '#tampa']\n",
        "Eater : ['lonegan', 'akin', 'cuccinelli', '#vagovdebate']\n",
        "EatingAsia : ['megyn', 'wfb', 'malkin', 'kristol', 'cavuto', 'librul', 'trollish', 'mesothelioma', 'bashir', 'overwrought', 'stossel', 'erickson', 'geraldo', 'mediait', 'gatsbi', 'breitbart', 'dylan', 'twitchi', 'bruh', 'starn', 'koch', 'lulz', 'hehe', 'gta5', 'uhhh', 'libertarian', 'shep', 'partisan', 'watter', 'kendrick', 'pitchfork', '#vmas', '#snl', '#yeezus']\n",
        "FelicitySpector : ['pb', 'newshour', '#newshourchats']\n",
        "Finelychopped : ['likewis', '#gitmo', '#manning']\n",
        "FleurDeGuerre : ['ky', 'haiku', '#divergent']\n",
        "Food52 : ['no1', 'y.o', 'gmail.com', '#rg13', '#cincytennis', '#wimbledon', '#usopen', '#citiopen', '#eurovision', '#daviscup', '#halle']\n",
        "FoodTravelCo : []\n",
        "FoodUrchin : ['b/c', 'syd', 'frickin', 'robbo', 'applebe', 'errybodi', 'augh', 'nwsl', 'lulz', 'tobin', '#wtalive', '#baon']\n",
        "Foodandthefab : ['#identitytheft', '#piracy', '#drugs', '#malware', '#online', '#bitcoin', '#cybercrime']\n",
        "GinGarden : ['aca', 'regulatori', 'eakinom', 'regul', 'medicar', 'dish']\n",
        "GingerPigLtd : ['#makedclisten', '#stopcommoncore', '#dream13', '#farmbill', '#obamacare']\n",
        "GizziErskine : ['amc', 'cupertino', '#oitnb', '#winchat']\n",
        "GoSeeWrite : ['http://latimes.com', 'pal', 'fallon', 'obama', 'letterman', 'amer', 'leno', 'impt', 'conan', '#tcot', '#cspan']\n",
        "Greatbigrobot : ['booker', 'aaron', 'cruz', 'christi', 'kerri']\n",
        "GuildFoodWriter : ['atlanta', '#tcot']\n",
        "Henriettagraham : []\n",
        "49ers : ['#tcot', '#tlot']\n",
        "ABeckr : ['rubio', 'marcorubio']\n",
        "ACLINews : ['biz', 'entrepreneur', 'cynthia', 'takeawai', '#biztip']\n",
        "ASE : ['cscope', 'core', 'strau', 'texan', 'prai', 'ratliff', '#txed', '#cscope', '#stopcommoncore', '#stand4life', '#txlege', '#commoncore', '#noamnesty', '#stopcscope']"
       ]
      },
      {
       "output_type": "stream",
       "stream": "stdout",
       "text": [
        "\n",
        "ActuallyJZ : ['potu']\n",
        "AdamSerwer : ['#wsbtv']\n",
        "AlAKleine : ['#sharknado', '#chs', '#sc1', '#nameobamasnewwar']\n",
        "AlanFisher : ['moder', '#zimmerman', '#benghazi']\n",
        "Alancumming : ['leaf', 'racetrack', '#leafs', '#indysaopaulo', '#detroitgp', '#indy500orbust', '#indycar', '#2into']\n",
        "AlbertoNardelli : ['boater', 'tweetcast', 'cockwombl', 'kingston', \"this'll\", '#got', '#ashes', '#cricket', '#nietzsche', '#ct13']\n",
        "AlexKoppelman : ['cu', 'ce', 'nu', 'pe', 'seb', 'simona', 'beliv', 'ohhhh', 'sebastian', 'kaka', '#vamos', '#germangp', '#motogp', '#ugh', '#belgiangp', '#cincinnati', '#vamosrafa', '#moscow2013', '#couperogers', '#moto2', '#monza', '#bcn2013', '#monacogp', '#cmon']\n",
        "AlexSchriver : ['iv', 'mag', 'ydt', 'defo', 'damm', 'leed', 'toon', '#f1chat']\n",
        "AlexisGelber : ['http://drivingforpleasure.co.uk', 'gro', 'nik', 'mate', '#lotus', '#ferrari', '#amg', '#senna']\n",
        "AlyWeisman : ['venezuela', 'gracia', 'viso']\n",
        "AmbShapiro : ['wtcc']\n",
        "AmberLyon : ['#8', 'brookland', ':-d', '#fia', '#wsr', '#grandam', '#elms']\n",
        "Amber__McDonald : ['awh', 'viv', 'nando', 'pedro', 'vivian', '#f1', '#eurovision2013']\n",
        "American_Bridge : ['raquel', 'eyebrow', 'felip', 'goodwood', 'chican', 'sheffield', 'paella', 'vivi', 'chloe', 'prat', 'gunna', 'kamui', 'dasha', ';(', '#monaco', '#bbcf1', '#pointless', '#eurovision', '#f1films']\n",
        "AndrewKirell : ['sl', 'doc', 'ohhhhh', 'errr', 'immens', 'errrrrrr', 'stow', 'ahhhhhh', '#f1', '#singapore', '#silverstone', '#steak']\n",
        "AnitaSpadaro : ['#f1', '#canadiangp', '#monacogp', '#spanishgp']\n",
        "AnneBell : ['westwood', 'merion', 'wentworth', 'tdai', 'zaha', '#mcfc', '#mufc', '#afc', '#cfc']\n",
        "ArunRath : ['gmt', ':-d', '#gp2']\n",
        "AshleyJudd : ['13.30', 'nurburgr', '#nospainnogain', '#gp3', '#alleyesonus']\n",
        "AskAkbar : ['ger', 'steward', '\u00a320,000', 'sauber', 'tamara', 'raffl', 'shunt', 'bild', 'twenti', '#lm24']\n",
        "BenRothenberg : ['rbr', 'soz', 'wdc', 'tho', 'lewlew', 'frickin', 'havent', 'wasnt', 'werent', ':-(', ';-)', '#justsaying', '#queens', '#topgear', '#tdf', '#england', '#facup', '#testgate', '#justwondering', '#f1films', '#lm24', '#btcc']\n",
        "CeceliaJP : ['caution', '#nascar']\n",
        "FortyDeuceTwits : ['vw', 'bmw', 'horsepow', 'corvett', 'delorean', 'automot', 'jalopnik', 'detroit', 'volvo', 'mustang', 'drift', 'subaru', 'fisker', 'fiat', 'hit-and-run', 'pontiac', 'jaguar', 'jeep', 'tesla', 'supercar', 'saab', 'lamborghini', 'burnout']\n",
        "4SaferInternet : ['im', 'charlott', 'phuck', 'kiddo', 'dafuq', '\u1f60A', '\u1f60F', '\u1f62B', '#lefturn', '#grandam', '#thebachelorette']\n",
        "AAF : ['f3', 'ay', 'wec', 'meanwhil', 'anyhoo', 'hahaa', '#indy500orbust', '#dtm', '#wrc', '#fiaf3', '#fiaerc', '#24lm', '#spa24h', '#6hsp', '#wrclive']\n",
        "AFPhq : ['2c', 'indy500', 'smh', 'frikkin', 'enviou', 'amico', 'arlen', 'hubbi', 'sulia', 'five-tim', 'foyt', 'ha-ha', 'otoh', '#nascar', '#irony', '#repost', '#kidding']\n",
        "AFinnie : ['pamplona', 'dublin', '#mazdaroute3']\n",
        "AHMalcolm : ['brawn', '#f1']\n",
        "AaronBlakeWP : ['33', 'dd', 'dj', '333', 'ddd', 'def', 'looool', 'loool', 'hahahahah', 'djing', 'tracklist', 'hahahah', 'ableton', 'diff', 'soundcloud', 'lool', 'tranc', 'hahaaa', 'loooool', '#cyclesradio']\n",
        "AaronMcCready : ['buddi', 'mega', 'mate']\n",
        "Aarongorn : ['http://www.losminidrivers.com/p/minitv-online.html', 'minidriv', 'chapter', 'motogp', 'helmet', 'mini', 'comic', 'minibik']\n",
        "AdairsvilleRob : ['wld', 'thankyou', 'hannah', 'dunk', 'fontana', '\u263a', '\u1f601', '\u1f60A', '#justsayin', '#tweetup', '#behindthescenes', '#indy500', '#rushmovie', '#beatcancer', '#indylights', '#gpob', '#indy', '#teamcyclopsgear']\n",
        "AlanJSanders : ['muslim', '#britishgp', '#eurovision2013', '#dambusters70', '#monacogp']\n",
        "AlexConant : ['dp', 'atl', 'naa', 'ufc', 'thx', 'leman', 'daytona', 'amigo', 'jiujitsu', 'luge', 'lalli', 'vine', 'civic', 'conti', 'hombr', 'hinch', '#nailedit']\n",
        "AlexSkatell : ['rod', 'ohh', 'foward', 'disapoint', 'intrest', 'gymnast', 'kyla', 'mckayla', 'gool', 'thier']\n",
        "AliBrown : ['wowsa']\n",
        "AliceLinahan : ['usu', 'fanfic', 'fedfan', 'rafol', 'duan', 'wimbli', \"ya'll\", 'tussl']\n",
        "AllenWest : ['jp', 'rd', 'marinko', 'berni', 'toowoomba', 'duckworth', 'istomin', 'mate', 'cairn', 'groth', 'qual', '#nkrising', '#washington', '#protour', '#frenchopen', '#futures', '#tokyo', '#bangkok']"
       ]
      },
      {
       "output_type": "stream",
       "stream": "stdout",
       "text": [
        "\n",
        "AmandaCookWSB : ['po', 'alrighti', 'shriver', 'grisha']\n",
        "AmandaJoFreel : ['slovak', 'stakh', 'muzz', '#illini']\n",
        "AmbJohnBolton : ['em', 'um', 'com', 'contra', 'bola', 'match-point']\n",
        "AmberMarchand : ['ap', 'afp', 'gty', 'golli', 'getti', 'apiec', 'usat', 'tiger']\n",
        "AmeliaChasse : ['ahaha', 'rewind', 'non-major']\n",
        "AmericanXRoads : ['fc', 'pk', 'hawaii', 'philli', 'kauai', '#np', '#phillies', '#hawaii', '#uswnt', '#usmnt', '#nwsl', '#clfinal', '#justsayin', '#kauai', '#epl', '#ucl', '#snf', '#smh', '#nba', '#nfl', '#mls', '#80s', '#followback', '#fightnight', '#flyers', '#eagles', '#usoc100', '#confedcup', '#goldcup', '#doop', '#bplonnbc']\n",
        "AmericasRight : ['espnw', 'espn2', 'espn3', 'bryant', 'garber', '#espntennis', '#manicmonday', '#mensfinal', '#espnwimbledon', '#rafanole35']\n",
        "Anderson33 : ['protein', 'humm', 'eleven', 'plank', '#fitness']\n",
        "AndrewCMcCarthy : ['bc', 'ur', 'yh', 'hah', 'ikr', 'ppl', 'edberg', 'gotcha', 'riiiiight', 'awww', 'riiiiiight', '#dexter', '#tdf', '#twitterrevolution', '#gators', '#federer', '#espys', '#nbafinals', '#delpo']\n",
        "99forever : ['mirka', 'gymnast', 'nose', '#thevoiceuk', '#hahahaase', '#eurovision2013']\n",
        "AustinGrandPrix : ['gb', 'ch', '10k', 'balli', 'evo', 'fqr', 'ctd', 'qr2', 'lta', 'forum', 'bet365', 'jonni', \"d'oh\", 'joko', ':-)', ';-)']\n",
        "Bix_Barton_SW6 : ['ooohhh', 'geesh', 'bosnian', 'catfish', 'shin']\n",
        "Claudia05SV : ['jelena', '#hitthefloor']\n",
        "Dinalli : ['barca', 'ftr', 'tbf', 'ncr', 'lotta', 'urszula', 'elina', 'tipster', 'betfair', 'valeri', 'ledecki', '10min', 'bookmak', 'dhoni', 'fede', 'overrul', 'jenkin', 'iirc', 'jmdp', 'elisha', 'coria', 'cowan', 'ruan', 'atletico', 'cadantu', '#brutal']\n",
        "Drivin4Pleasure : ['martha', '111', 'bby', 'sob', 'lbh', 'samuel', 'chantel', 'denis', 'concubin', 'athletic', 'flop', 'gurl', 'tute']\n",
        "EJVISO : []\n",
        "EliGP : ['arg', 'pau']\n",
        "EmBuxton : ['river']\n",
        "FakeDelRosario : ['enhorabuena']\n",
        "FakeFernando : ['yuuuuup', 'frankli', 'homi', 'sorana', ':p']\n",
        "FakeMedicalCar : ['gu', 'xo', 'a.m', 'o_o', 'mte', 'vit', 'frank', 'berdi', 'vasek', \"g'night\", \"g'morn\", 'mungo', 'sheesh', 'bahaha', 'sammi', 'cont', 'flav', 'jaysu', 'jiri', 'gawd', 'coyot', 'czech', 'xd', '#nontennis', '#random']\n",
        "FakeTomita : ['bat', 'met', 'n.b.a', 'n.f.l', 'n.h.l', 'ranger', 'replai', 'concuss', 'roundup', 'blackhawk', 'dribbl', 'rail', 'basebal', 'knick', 'in-box', 'rodriguez', '#yankees']\n",
        "Fake_Maldonado : ['http://nytimes.com', 'lundqvist', 'ranger', '#vmas', '#madmen', '#nyr', '#emmys', '#becauseitsthecup', '#gameofthrones']\n",
        "GARSIDEK : ['k', 'o.o', 'facepalm', 'lolol', 'kiersten', 'rotfl', 'elena', 'darlin', 'winni', 'colton', 'hurrai', 'maestro', 'novak', 'eyerol', 'eric', 'headdesk', 'knit', 'w00t', 'yeesh', 'yarn', 'girlio', 'tulsa', '<3', ';d', '#dt']\n",
        "GP2_Official : ['iv', 'ix', 'ii', 'vi', 'iii', 'vii', 'viii', ';-)']\n",
        "GP3_Official : ['sportscent', 'woodsh', 'scorelin', 'somdev', '#merica', '#epic']\n",
        "GrandPrixDiary : ['pvr', 'zhang', 'vashi', 'magnific', 'kimiko', 'milo', 'peng', '#rogerscup']\n",
        "IamLewis4fake : ['th', 'uae', 'dubai', '#madrid', '#uae']\n",
        "JacquesDebris : ['#rg13', '#roadtorg']\n",
        "Jalopnik : ['yea', 'ohmygosh', 'hahahah', 'hahah', 'hahha', '#loveit', '#dimitrov', '#murray', '#citiopen', '#ashe']\n",
        "Just_AP : ['rog', 'muzza', 'geez', ':-d', ';-d', '#federer']\n",
        "LeighOGorman : ['btb', '#rg13', '#cincytennis', '#atp', '#wta', '#wimbledon', '#usopen', '#daviscup']\n",
        "LewisFranck : ['ufe', 'tennistv', 'cont', 'comm', 'gown']\n",
        "LordHumphreys : ['marina', 'nz', 'w/e', 'onsit', 'cmon', 'princeton', 'wtih', '#newport']\n",
        "MP4_28Evil : ['ernie', 'ferru', 'usopen', 'erni', 'puta']\n",
        "MauriceHamilton : ['maliss', 'goffin', 'flipken', 'xavier', 'wickmay']\n",
        "MaxGraham : ['masha', 'lleyton', 'cmon', 'wawa']\n",
        "Mikeconway26 : ['memphi', 'lebron']\n",
        "OfficialMinis : ['http://fllwrs.com', 'qv', 'manur', 'brito', 'djoker', 'harman', 'tahiti', 'doesnt', 'shouldnt', 'arent', 'muppet', 'kvitti', 'tsurenko', 'hercog', 'alot', 'isnt', 'tourn', 'tmrw', 'sori', 'couldnt', 'scum', 'kooki', '#rolandgarros', '#facepalm']"
       ]
      },
      {
       "output_type": "stream",
       "stream": "stdout",
       "text": [
        "\n",
        "PippaMann : ['hl', 'snatch', 'libra', 'miley', 'britnei', 'britney', 'werk', '#oh', '#cbb', '#sob', '#lol', '#xfactor', '#thevoiceuk', '#dead', '#bbuk']\n",
        "RacingLight : ['mam', 'saoirs', 'villa', 'setanta', 'goodread', 'snowmen', '#lions', '#gaa', '#thevillage', '#educatingyorkshire', '#thefall', '#bcn2013', '#downton', '#grahamnorton', '#avfc']\n",
        "RyanEversley : ['magician', 'sketch', 'roommat']\n",
        "4AllSurfaces : ['lex', 'merlin', ';p', 'xp']\n",
        "5livetennis : ['breen', 'directv', '#sfgiants']\n",
        "AAMIClassic : ['disneyland']\n",
        "A_Gallivant : ['gui', 'lookin', 'babe', 'karl', 'tooth']\n",
        "Adamdbain : ['ala', 'brooklyn']\n",
        "Ataraxis00 : ['cc', 'distil', 'dublin']\n",
        "BadToss : ['nix', 'cashman', 'bronx', 'sarcasm', 'sabathia', 'romin', 'rivera', 'lineup', 'kuroda', 'girardi', 'ichiro', 'ballgam', 'jeter', 'claiborn', 'cano', 'overbai', 'nuno', 'a-rod', 'phelp', 'huff', 'hugh', 'joba', 'gardner', 'pettitt', 'granderson', 'daili']\n",
        "BreakPointBR : ['kubrick', ':|']\n",
        "ByJoeFleming : ['wildwood', 'camden', 'sabbath']\n",
        "ChrisSkelton87 : []\n",
        "DjFlowe : ['mlb', 'espn2', 'goober', 'sunset', 'espnew', 'avatar', 'internship', 'sonni', '#mets', '#asg', '#yankees', '#arod']\n",
        "ESPNTennis : ['pdf']\n",
        "EleVenbyVenus : ['sacramento', 'rdio', '#e3', '#vscocam']\n",
        "FitLen : ['nz', 'wellington', 'brownle', 'flatmat', 'chch', 'quak', 'xero', '#nowplaying', '#eqnz']\n",
        "G2H_95 : ['cartoonist', 'comic', '#mets']\n",
        "GBtennis : ['marlei', 'whoah', 'skitch']\n",
        "JLR78 : ['rs6', 'tpg', 'prodig', 'martini', 'engadget', 'nokia', 'luxuri']\n",
        "JamesLaRosa : ['ux', 'presum', 'brighton', 'apprentic']\n",
        "JayJarrahi : ['uh-oh', 'neven', 'push-up', 'oliv']\n",
        "Jonirja : ['okcupid', 'aaaaah', 'haaaa', 'haaaaa', 'seattl', 'jackal', '#emmys']\n",
        "Kamakshi_Tandon : ['jawbon']\n",
        "LeTenisse : ['http://www.baseball-reference.com/friv/birthdays.cgi', 'op', 'b-r', 'bornthisd', 'split', 'index', 'tibh', 'draftstreet']\n",
        "MallerMarcelo : ['kickstart', 'dewei', 'strip', 'stretch', '#sdcc']\n",
        "MendezVega : ['o.o', 'phenomen', 'marco', 'damnit', 'cobb', 'sorta', 'm-sport', 'liss', 'hoki', 'hahahahahahah', ':-p', '\u1f614', '\u1f61D', '\u1f633', '\u1f44D', '\u1f499']\n",
        "MindTheRacket : ['haskel', 'adium', 'earl']\n",
        "MungoNGus : ['hrm', 'bioshock', 'airdrop', 'newsread']\n",
        "NYTSports : ['gothenburg', 'stockholm', 'rubi']\n",
        "NailaJeanMeyers : ['hn', ';p']\n",
        "Nic_Leigh : ['beasti', '#strava']\n",
        "Pep_Guti : ['e.g', 'mercuri', 'imho']\n",
        "RD_Tennistalk : []\n",
        "Ratazana : ['http://app.net', 'fruiti', '\u1f603', '\u1f609', '#wwdc', '#ds9', '#itunes']\n",
        "ReemAbulleil : ['jaysu', '#upthedubs']\n",
        "RoadtoRG : ['sg', 'amp', 'eleanor', 'isaac', 'lisa']\n",
        "RomiCvitkovic : ['pgp', 'heroku', 'ebai', '#breakingbad']"
       ]
      },
      {
       "ename": "IndexError",
       "evalue": "index 316 is out of bounds for axis 0 with size 316",
       "output_type": "pyerr",
       "traceback": [
        "\u001b[0;31m---------------------------------------------------------------------------\u001b[0m\n\u001b[0;31mIndexError\u001b[0m                                Traceback (most recent call last)",
        "\u001b[0;32m<ipython-input-189-a0761c5a8535>\u001b[0m in \u001b[0;36m<module>\u001b[0;34m()\u001b[0m\n\u001b[1;32m      1\u001b[0m \u001b[0;32mfor\u001b[0m \u001b[0mu\u001b[0m \u001b[0;32min\u001b[0m \u001b[0mrange\u001b[0m\u001b[0;34m(\u001b[0m\u001b[0mlen\u001b[0m\u001b[0;34m(\u001b[0m\u001b[0musers\u001b[0m\u001b[0;34m)\u001b[0m\u001b[0;34m)\u001b[0m\u001b[0;34m:\u001b[0m\u001b[0;34m\u001b[0m\u001b[0m\n\u001b[0;32m----> 2\u001b[0;31m     \u001b[0mwords\u001b[0m \u001b[0;34m=\u001b[0m \u001b[0;34m[\u001b[0m\u001b[0md\u001b[0m\u001b[0;34m[\u001b[0m\u001b[0mi\u001b[0m\u001b[0;34m]\u001b[0m \u001b[0;32mfor\u001b[0m \u001b[0mi\u001b[0m \u001b[0;32min\u001b[0m \u001b[0mnp\u001b[0m\u001b[0;34m.\u001b[0m\u001b[0mwhere\u001b[0m\u001b[0;34m(\u001b[0m\u001b[0mreg\u001b[0m\u001b[0;34m.\u001b[0m\u001b[0mcoef_\u001b[0m\u001b[0;34m[\u001b[0m\u001b[0mu\u001b[0m\u001b[0;34m]\u001b[0m \u001b[0;34m>\u001b[0m \u001b[0;36m3\u001b[0m\u001b[0;34m)\u001b[0m\u001b[0;34m[\u001b[0m\u001b[0;36m0\u001b[0m\u001b[0;34m]\u001b[0m\u001b[0;34m]\u001b[0m\u001b[0;34m\u001b[0m\u001b[0m\n\u001b[0m\u001b[1;32m      3\u001b[0m     \u001b[0mname\u001b[0m  \u001b[0;34m=\u001b[0m \u001b[0musers\u001b[0m\u001b[0;34m[\u001b[0m\u001b[0mu\u001b[0m\u001b[0;34m]\u001b[0m\u001b[0;34m\u001b[0m\u001b[0m\n\u001b[1;32m      4\u001b[0m     \u001b[0mprint\u001b[0m \u001b[0;34m(\u001b[0m\u001b[0;34m\"%s : %s\"\u001b[0m \u001b[0;34m%\u001b[0m \u001b[0;34m(\u001b[0m\u001b[0mname\u001b[0m\u001b[0;34m,\u001b[0m \u001b[0mstr\u001b[0m\u001b[0;34m(\u001b[0m\u001b[0mwords\u001b[0m\u001b[0;34m)\u001b[0m\u001b[0;34m)\u001b[0m\u001b[0;34m)\u001b[0m\u001b[0;34m\u001b[0m\u001b[0m\n",
        "\u001b[0;31mIndexError\u001b[0m: index 316 is out of bounds for axis 0 with size 316"
       ]
      },
      {
       "output_type": "stream",
       "stream": "stdout",
       "text": [
        "\n",
        "Rossana_Capo : ['2.0', 'x100', 'cubbi']\n",
        "SI_BTBaseline : []\n",
        "SavannahsTennis : ['vesper']\n",
        "StephintheUS : []\n",
        "TennisCoconut : []\n",
        "Tennis_Belgium : ['neato']\n"
       ]
      }
     ],
     "prompt_number": 189
    },
    {
     "cell_type": "code",
     "collapsed": false,
     "input": [
      "cross_val_and_print_accuracy (LogisticRegression(), W, y_u)"
     ],
     "language": "python",
     "metadata": {},
     "outputs": [
      {
       "output_type": "stream",
       "stream": "stdout",
       "text": [
        "Classifier Accuracy: 0.49 (+/- 0.00)\n",
        "Random     Accuracy: 0.00\n"
       ]
      }
     ],
     "prompt_number": 190
    },
    {
     "cell_type": "markdown",
     "metadata": {},
     "source": [
      "##\u00a0Predicting Weeks from Tweets"
     ]
    },
    {
     "cell_type": "code",
     "collapsed": false,
     "input": [
      "wreg = LogisticRegression()"
     ],
     "language": "python",
     "metadata": {},
     "outputs": [],
     "prompt_number": 191
    },
    {
     "cell_type": "code",
     "collapsed": false,
     "input": [
      "wreg.fit (W.astype(np.float64), y_w)"
     ],
     "language": "python",
     "metadata": {},
     "outputs": [
      {
       "metadata": {},
       "output_type": "pyout",
       "prompt_number": 192,
       "text": [
        "LogisticRegression(C=1.0, class_weight=None, dual=False, fit_intercept=True,\n",
        "          intercept_scaling=1, penalty='l2', random_state=None, tol=0.0001)"
       ]
      }
     ],
     "prompt_number": 192
    },
    {
     "cell_type": "code",
     "collapsed": false,
     "input": [
      "for w in range(len(tweetCountsPerWeek)):\n",
      "    words = [d[i] for i in np.where(reg.coef_[w] > 2.5)[0]]\n",
      "    print (\"Week %d : %s\" % (w, str(words)))"
     ],
     "language": "python",
     "metadata": {},
     "outputs": [
      {
       "output_type": "stream",
       "stream": "stdout",
       "text": [
        "Week 0 : ['disabl', \"gov't\", 'pregnant', 'aclu', 'innoc', '#sxsw', '#manning', '#closegitmo', '#discrimination', '#civilliberties', '#fbi', '#nsa', '#surveillance', '#equalpay', '#marijuana', '#privacy', '#drone', '#police', '#torture', '#deathpenalty', '#standwithncwomen', '#solitaryconfinement', '#fem2', '#doma', '#immigration', '#freespeech']\n",
        "Week 1 : ['millenni', 'icymi', '#lgbtq', '#beatriz', '#nn13', '#hiv', '#sexed', '#1in3', '#trans', '#ur2013']\n",
        "Week 2 : ['ann', 'holland', 'perform', 'taylor', '#annplay']\n",
        "Week 3 : ['sex', 'romant', 'orgasm', 'jamaica', 'bwai', 'wknd', 'peni']\n",
        "Week 4 : ['#mdg5', '#mdg456live', '#endfgm', '#wd2013', '#icpd']\n",
        "Week 5 : ['hbc', 'sidnei', 'hillman', 'self-defens', 'waffl', 'snowden', 'headshot', 'jahar', 'ford', 'hummingbird', '#confessyourunpopularopinion', '#benghaziinfourwords', '#robford', '#paulasbestdishes', '#txlege', '#txleg']\n",
        "Week 6 : ['playlist', 'reproduct', '#amc2013', '#reprojustice']\n",
        "Week 7 : ['#sb5', '#standwithtxwomen']\n",
        "Week 8 : ['nyc', 'nyer']\n",
        "Week 9 : ['sequest', '#netde']\n",
        "Week 10 : ['ct', 'hangout', 'hartford', 'pancak', 'afghanistan', '#redsox']\n",
        "Week 11 : ['dealer', 'plain', 'ohio', 'cleveland', '#standwithwendy']\n",
        "Week 12 : ['#race', '#gaymarriage', '#adoption', '#gunrights', '#military', '#catholic', '#marijuana', '#children', '#women', '#families', '#supremecourt', '#guncontrol', '#abortion', '#health', '#crime', '#sexualassault', '#religion', '#lgbt', '#immigration']\n",
        "Week 13 : ['gov', 'dga', \"o'mallei\", 'corbett', 'republican', 'suppress', 'virginia', 'sequest', '#vagov']\n",
        "Week 14 : ['cigarett', 'ivf', 'fda', 'profession', 'genom', 'genet', 'terrif', 'medicin', 'donni', 'stent', 'obes', '#dreamday', '#fortunempw']\n",
        "Week 15 : ['thx', '#got', '#catchingfire', '#photobomb']\n",
        "Week 16 : ['#cnn', '#moore']\n",
        "Week 17 : ['divorc', 'entrepreneur', 'mentor', 'career', 'startup', 'women', 'leadership', 'negoti', 'lean', '#redefinepower']\n",
        "Week 18 : ['unfpa', 'fund', '#endchildmarriage', '#usa4women', '#familyplanning']\n",
        "Week 19 : ['rmc', '#antichoice', '#gop', '#republicans', '#healthcare', '#women', '#birthcontrol', '#contraception', '#abortion', '#prochoice', '#republican']\n",
        "Week 20 : ['minnesota', '#bettermn', '#mnleg', '#mdayton']\n",
        "Week 21 : ['fact', 'contracept', '#contraception', '#reprohealth', '#abortion', '#wd2013']\n"
       ]
      }
     ],
     "prompt_number": 193
    },
    {
     "cell_type": "code",
     "collapsed": false,
     "input": [
      "cross_val_and_print_accuracy (LogisticRegression(), W, y_w)"
     ],
     "language": "python",
     "metadata": {},
     "outputs": [
      {
       "output_type": "stream",
       "stream": "stdout",
       "text": [
        "Classifier Accuracy: 0.21 (+/- 0.00)\n",
        "Random     Accuracy: 0.05\n"
       ]
      }
     ],
     "prompt_number": 194
    },
    {
     "cell_type": "markdown",
     "metadata": {},
     "source": [
      "## Predicting Months from Tweets"
     ]
    },
    {
     "cell_type": "code",
     "collapsed": false,
     "input": [
      "mreg = LogisticRegression()"
     ],
     "language": "python",
     "metadata": {},
     "outputs": []
    },
    {
     "cell_type": "code",
     "collapsed": false,
     "input": [
      "mreg.fit (W.astype(np.float64), y_m)"
     ],
     "language": "python",
     "metadata": {},
     "outputs": []
    },
    {
     "cell_type": "code",
     "collapsed": false,
     "input": [
      "for m in range(len(tweetCountsPerMonth)):\n",
      "    words = [d[i] for i in np.where(mreg.coef_[m] > 3)[0]]\n",
      "    print (\"::: %s ::: %s\" % (months[m], str(words)))"
     ],
     "language": "python",
     "metadata": {},
     "outputs": []
    },
    {
     "cell_type": "code",
     "collapsed": false,
     "input": [
      "cross_val_and_print_accuracy (LogisticRegression(), W, y_m)"
     ],
     "language": "python",
     "metadata": {},
     "outputs": []
    },
    {
     "cell_type": "markdown",
     "metadata": {},
     "source": [
      "##\u00a0Predicting Users from HashTags"
     ]
    },
    {
     "cell_type": "code",
     "collapsed": false,
     "input": [
      "W_ht = W[:,dictStarts['Hashtag']:(dictEnds['Hashtag'] - 1)]"
     ],
     "language": "python",
     "metadata": {},
     "outputs": [],
     "prompt_number": 195
    },
    {
     "cell_type": "code",
     "collapsed": false,
     "input": [
      "uregh = LogisticRegression()"
     ],
     "language": "python",
     "metadata": {},
     "outputs": [],
     "prompt_number": 196
    },
    {
     "cell_type": "code",
     "collapsed": false,
     "input": [
      "uregh.fit (W_ht.astype(np.float64), y_u)"
     ],
     "language": "python",
     "metadata": {},
     "outputs": [
      {
       "metadata": {},
       "output_type": "pyout",
       "prompt_number": 197,
       "text": [
        "LogisticRegression(C=1.0, class_weight=None, dual=False, fit_intercept=True,\n",
        "          intercept_scaling=1, penalty='l2', random_state=None, tol=0.0001)"
       ]
      }
     ],
     "prompt_number": 197
    },
    {
     "cell_type": "code",
     "collapsed": false,
     "input": [
      "for u in range(len(users)):\n",
      "    words = [d[i + dictStarts['Hashtag']] for i in np.where(uregh.coef_[u] > 4)[0]]\n",
      "    name  = users[u]\n",
      "    print (\"%s : %s\" % (name, str(words)))"
     ],
     "language": "python",
     "metadata": {},
     "outputs": [
      {
       "ename": "IndexError",
       "evalue": "index 316 is out of bounds for axis 0 with size 316",
       "output_type": "pyerr",
       "traceback": [
        "\u001b[0;31m---------------------------------------------------------------------------\u001b[0m\n\u001b[0;31mIndexError\u001b[0m                                Traceback (most recent call last)",
        "\u001b[0;32m<ipython-input-198-8a345c1bb495>\u001b[0m in \u001b[0;36m<module>\u001b[0;34m()\u001b[0m\n\u001b[1;32m      1\u001b[0m \u001b[0;32mfor\u001b[0m \u001b[0mu\u001b[0m \u001b[0;32min\u001b[0m \u001b[0mrange\u001b[0m\u001b[0;34m(\u001b[0m\u001b[0mlen\u001b[0m\u001b[0;34m(\u001b[0m\u001b[0musers\u001b[0m\u001b[0;34m)\u001b[0m\u001b[0;34m)\u001b[0m\u001b[0;34m:\u001b[0m\u001b[0;34m\u001b[0m\u001b[0m\n\u001b[0;32m----> 2\u001b[0;31m     \u001b[0mwords\u001b[0m \u001b[0;34m=\u001b[0m \u001b[0;34m[\u001b[0m\u001b[0md\u001b[0m\u001b[0;34m[\u001b[0m\u001b[0mi\u001b[0m \u001b[0;34m+\u001b[0m \u001b[0mdictStarts\u001b[0m\u001b[0;34m[\u001b[0m\u001b[0;34m'Hashtag'\u001b[0m\u001b[0;34m]\u001b[0m\u001b[0;34m]\u001b[0m \u001b[0;32mfor\u001b[0m \u001b[0mi\u001b[0m \u001b[0;32min\u001b[0m \u001b[0mnp\u001b[0m\u001b[0;34m.\u001b[0m\u001b[0mwhere\u001b[0m\u001b[0;34m(\u001b[0m\u001b[0muregh\u001b[0m\u001b[0;34m.\u001b[0m\u001b[0mcoef_\u001b[0m\u001b[0;34m[\u001b[0m\u001b[0mu\u001b[0m\u001b[0;34m]\u001b[0m \u001b[0;34m>\u001b[0m \u001b[0;36m4\u001b[0m\u001b[0;34m)\u001b[0m\u001b[0;34m[\u001b[0m\u001b[0;36m0\u001b[0m\u001b[0;34m]\u001b[0m\u001b[0;34m]\u001b[0m\u001b[0;34m\u001b[0m\u001b[0m\n\u001b[0m\u001b[1;32m      3\u001b[0m     \u001b[0mname\u001b[0m  \u001b[0;34m=\u001b[0m \u001b[0musers\u001b[0m\u001b[0;34m[\u001b[0m\u001b[0mu\u001b[0m\u001b[0;34m]\u001b[0m\u001b[0;34m\u001b[0m\u001b[0m\n\u001b[1;32m      4\u001b[0m     \u001b[0mprint\u001b[0m \u001b[0;34m(\u001b[0m\u001b[0;34m\"%s : %s\"\u001b[0m \u001b[0;34m%\u001b[0m \u001b[0;34m(\u001b[0m\u001b[0mname\u001b[0m\u001b[0;34m,\u001b[0m \u001b[0mstr\u001b[0m\u001b[0;34m(\u001b[0m\u001b[0mwords\u001b[0m\u001b[0;34m)\u001b[0m\u001b[0;34m)\u001b[0m\u001b[0;34m)\u001b[0m\u001b[0;34m\u001b[0m\u001b[0m\n",
        "\u001b[0;31mIndexError\u001b[0m: index 316 is out of bounds for axis 0 with size 316"
       ]
      },
      {
       "output_type": "stream",
       "stream": "stdout",
       "text": [
        "ACLU : ['#voterid', '#closegitmo', '#discrimination', '#civilliberties', '#fbi', '#ama', '#nsa', '#surveillance', '#equalpay', '#marijuana', '#privacy', '#police', '#torture', '#deathpenalty', '#solitaryconfinement', '#fem2', '#freespeech']\n",
        "AdvocatesTweets : ['#lgbtq', '#beatriz', '#nn13', '#31daysofunity', '#hiv', '#sexed', '#1in3', '#mamasday', '#usa4women', '#trans', '#ur2013']\n",
        "AnnRichardsPlay : ['#annplay']\n",
        "AskDrRuth : []\n",
        "BabatundeUNFPA : ['#mdg5', '#whd2013', '#mdg456live', '#wd2013', '#icpd']\n",
        "Beyerstein : ['#benghaziinfourwords', '#paulasbestdishes']\n",
        "BobHerbert : ['#amc2013', '#reprojustice']\n",
        "CLPPtweets : ['#sb5', '#standwithtxwomen']\n",
        "CarolynBMaloney : ['#immigrants', '#lgbt']\n",
        "CecileRichards : ['#netde']\n",
        "ChrisCQuinn : ['#dontdoublemyrate']\n",
        "ChrisCoons : ['#standwithwendy']\n",
        "ChrisMurphyCT : ['#pennstate', '#race', '#rape', '#gaymarriage', '#adoption', '#military', '#catholic', '#marijuana', '#prisons', '#children', '#families', '#supremecourt', '#guncontrol', '#abortion', '#soccer', '#crime', '#sexualassault', '#religion', '#lgbt', '#immigration']\n",
        "ConnieSchultz : ['#vagov']\n",
        "CraryAP : ['#adoption', '#dreamday', '#fortunempw', '#inplainsight']\n",
        "DCAbortionFund : ['#got', '#catchingfire']\n",
        "DemGovs : []\n",
        "DrNancyNBCNEWS : ['#redefinepower']\n",
        "ElizabethBanks : ['#endchildmarriage', '#reprohealth', '#usa4women', '#childmarriage', '#worldpopday', '#familyplanning']\n",
        "ErinMcPike : ['#antichoice', '#republicans', '#healthcare', '#birthcontrol', '#contraception', '#abortion', '#prochoice', '#republican']\n",
        "FAPPA : ['#bettermn', '#mnleg', '#mdayton']\n",
        "FamilyCircle : ['#contraception', '#reprohealth', '#abortion', '#wd2013']\n",
        "ForbesWoman : ['#getcovered']\n",
        "FrankLautenberg : ['#ann']\n",
        "FriendsofUNFPA : ['#sc01', '#wysen', '#thirdmetric', '#navyyardshooting', '#enda']\n",
        "GOPChoice : ['#wearedc', '#standwithdcwomen', '#hr1797', '#wdlive', '#sept28', '#rpcvchat', '#wd2013']\n",
        "GovMarkDayton : ['#fbrape']\n",
        "Guttmacher : ['#democracy', '#kofiannanlive', '#youth']\n",
        "HealthCareGov : ['#dream9', '#latism13', '#latino', '#latism', '#latinospbs']\n",
        "HeyPP : ['#getcovered', '#aca', '#celebratenvrd', '#health', '#latina']\n",
        "HiltonHollis : ['#politicsnation', '#nola', '#maddow', '#nerdland', '#scandal', '#msnbc']\n",
        "HollandTaylor : ['#1u', '#aca', '#cir', '#fastfood', '#timeisnow', '#fairshot', '#mow2013']\n",
        "HuffPostPol : ['#longreads']\n",
        "IpasOrg : ['#antichoice', '#waronwomen', '#reprorights', '#hr1797', '#standwithtxwomen', '#birthcontrol', '#gosnell', '#menforchoice', '#prochoice', '#masen']\n",
        "JessicaValenti : []\n",
        "KofiAnnan : []\n",
        "LatinoUSA : []\n",
        "Latinos4PP : []\n",
        "Lizchadderdon : ['#co', '#vip', '#jacksonhole', '#recipe']\n",
        "MHarrisPerry : []\n",
        "MaryKayHenry : ['#regulatory13']\n",
        "MaxKaminCross : ['#apstylechat']\n",
        "MoreMag : []\n",
        "NARAL : ['#fb']\n",
        "NV_Advocates : []\n",
        "HadleyFreeman : []\n",
        "benschott : ['#quote', '#bea13', '#indiepub']\n",
        "10yearBonds : []\n",
        "247WallSt : ['#eu', '#europe', '#china', '#rajoy', '#fed', '#abe', '#oil', '#imf', '#eurozone', '#eurocrisis', '#assad', '#cameron', '#debtceiling', '#merkel', '#euro', '#berlusconi']\n",
        "4Tanguay : ['#nfp', '#jacksonhole']\n",
        "5280Magazine : []\n",
        "5_min_macro : ['#muni', '#muniland', '#detroit', '#illinois']\n",
        "ABWashBureau : []\n",
        "APStylebook : ['#retirement', '#advisors']\n",
        "ATryphonides : []\n",
        "A_F : []\n",
        "Aalliende : []\n",
        "AcrossTheCurve : []\n",
        "AkronsBobert : []\n",
        "Alan_Duerden : []\n",
        "AlexAkesson : ['#tcdisrupt', '#d11']\n",
        "AlphaVN : ['#throughglass']\n",
        "AmazonKDP : []\n",
        "AmbassadorRoos : ['#dirtywars', '#s13', '#dronewars']\n",
        "Ananicolaci : ['#stoneshydepark', '#therollingstones', '#stones50', '#stonesglasto']\n",
        "AnastasiadesCY : []\n",
        "AndreaHotter : ['#scd', '#xfactor', '#thewrightway', '#bbc4']\n",
        "AndyHarless : []\n",
        "AndyLangenkamp : ['#ccbw']\n",
        "AnnalynKurtz : ['#photo']\n",
        "Annika_Reuters : ['#mlb', '#music', '#beer']\n",
        "AristidesHatzis : []\n",
        "AztecOptions : []\n",
        "BChappatta : ['#sf', '#sfgiants', '#anchorsteam', '#todayatanchor', '#raiseyouranchor', '#4thofjuly', '#sanfrancisco']\n",
        "BDAmerica : ['#chicago', '#cheers', '#ccbw', '#beer']\n",
        "BGIPfund : []\n",
        "BIConline : ['#gohawks', '#ccbw']\n",
        "BLNCruzer : []\n",
        "BUphamT : ['#boston', '#craftbeer']\n",
        "Bank_of_Japan_e : []\n",
        "BeingRegulated : ['#beerbods']\n",
        "Benzinga : ['#ny', '#local', '#homebrew']\n",
        "BergenCapital : ['#luxury', '#beer', '#craftbeer']\n",
        "BigBlueTent : ['#ibelieveinipa']\n",
        "BigJournalism : ['#ebbc13', '#jura50tt']\n",
        "BirchCreekCap : []\n",
        "BlackRaven999 : ['#cl', '#championsleague']\n",
        "Blackhorse : []\n",
        "EvelynRusli : ['#quiz', '#win', '#arresteddevelopment']\n",
        "Tim_Stevens : []\n",
        "gte : []\n",
        "DirtyWars : ['#somerville']\n",
        "RollingStones : ['#scbeer', '#hunt4b85']\n",
        "FilmCritHULK : ['#homebrew']\n",
        "Gary_Bainbridge : ['#bengals']\n",
        "2lovebeer : []\n",
        "3RiversBrewery : []\n",
        "4pawsbrewing : []\n",
        "AGonzalezAquino : ['#atx', '#stl']\n",
        "AbbeyStMartin : []\n",
        "AlmanacBeer : ['#daylightfordeadeyes', '#canadaday', '#toronto']\n",
        "AnarchyBrewCo : []\n",
        "AnchorBrewing : []\n",
        "ArgusBrewery : []\n",
        "ArranBrewery : ['#meat', '#yum']\n",
        "AtlasBrewing : []\n",
        "BHB_brews : []\n",
        "BeerAdvocate : ['#swindon']\n",
        "BeerAndSoulBlog : []\n",
        "BeerBods : ['#cheers']\n",
        "BeerUnion : ['#fwibf']\n",
        "Beer_Disciples : ['#inferno']\n",
        "Beer_Goddess : ['#winewednesday']\n",
        "BeersIveKnown : ['#nscraftbeer']\n",
        "Beertographer : ['#sd', '#sdcc', '#fwibf', '#boozebooks', '#metal']\n",
        "Bierschenke : []\n",
        "BlueBellHalkyn : ['#3benchguy', '#supportworks']\n",
        "BluffersGuide : ['#vinb', '#bbcsml', '#todaypk', '#newsnight']\n",
        "BreckBrew : ['#newyork', '#traveltuesday', '#panama', '#cornwall', '#luxvox', '#jamaica']\n",
        "BrewDogBarDean : ['#runkeeper']\n",
        "BrewEngland : ['#marrakech', '#morocco', '#iodac', '#fbc5']\n",
        "Brewery85 : ['#bloghouse', '#feelmorealive', '#incostabrava']\n",
        "BrianIsBeering : ['#saturdaykitchen', '#masterchef', '#bbcgfs', '#recipeoftheday', '#thechefsprotege', '#celebmasterchef', '#celebritymasterchef', '#gbbo']\n",
        "BubOhioBeer : []\n",
        "BullCityBurger : ['#europeday', '#bgcomp', '#gbbf']\n",
        "ButcombeBrewery : ['#getsome']\n",
        "ConistonBrewCo : ['#bread', '#realbread', '#breadchat', '#pastry', '#gbbo', '#constantcontact', '#bath']\n",
        "CraftingANation : ['#localfood', '#britishveg']\n",
        "CromartyBrewing : ['#belowtheline']\n",
        "DFDband : []\n",
        "DailyBeerNews : ['#startups', '#eventprofs', '#smwldn']\n",
        "Dryhopchicago : ['#backtoschool', '#didyouknow']\n",
        "DueSouthBrewing : ['#royalascot', '#norwegianbreakaway', '#apprentice', '#granddesigns', '#dragonsden', '#cruise', '#eagles', '#skyf1', '#educatingyorkshire', '#uclfinal', '#hignfy', '#eurovision2013', '#royalprincess']\n",
        "DukesJoint : ['#christmas', '#cartmel']\n",
        "EHobbz : ['#tt', '#sghaze', '#skywire', '#travel', '#frifotos']\n",
        "EasyTigerATX : ['#nantes', '#berlin', '#brighton', '#paris', '#turin', '#newtradition', '#book']\n",
        "FGW : []\n",
        "FallCreekWines : ['#corkecho']\n",
        "FiremansBrew : ['#ldf13', '#design', '#pfw', '#nyc', '#lcm', '#lfw', '#fny13', '#venicebiennale', '#artbasel']\n",
        "FirestoneWalker : []\n",
        "ForumBooks : ['#supperclub', '#bristol', '#competition', '#gfwawards', '#recipe']\n",
        "FullCircleBrews : ['#thevoiceuk', '#drwho']\n",
        "GarrisonBrewing : []\n",
        "Goats_Udder : []\n",
        "Gordon_Biersch : ['#cronut']\n",
        "3_News : ['#london', '#win', '#weekend']\n",
        "AbiePB : ['#fwclassic']\n",
        "Amanda_Statham : ['#booze', '#turkey', '#photography', '#streetfood', '#istanbul']\n",
        "AmyDavies : ['#c4news', '#greattasteawards']\n",
        "Arganic_UK : ['#tvpchat', '#finelychoppedwalk']\n",
        "Ayngelina : ['#goodwoodrevival', '#lastfm']\n",
        "BBCGoodFoodShow : ['#vegan', '#dinnertonight', '#meatlessmonday', '#diy', '#treatyoself', '#healthtalk', '#recipeoftheday', '#regram', '#genius']\n",
        "Bea_John : ['#ff', '#sweden', '#somerset', '#onthemenu', '#cornwall', '#cumbria', '#eggaward', '#cheese']\n",
        "Beergenie : ['#eatscandi', '#foodtube']\n",
        "Ben_Mulock : ['#capetown', '#southafrica', '#lovecapetown', '#mymauritius', '#seetheworld', '#food', '#loop', '#vineapp']\n",
        "BertinetKitchen : ['#worldginday', '#gin']\n",
        "Bosleypatch : ['#cuts']\n",
        "BristolBites : []\n",
        "BritAsparagus : ['#tbex', '#bloghouse', '#archives', '#feelmorealive', '#luxvox', '#incostabrava', '#coloursofperu']\n",
        "BriteUK : ['#gfwawards']\n",
        "BurtsChips : []\n",
        "CaptGreybeard : ['#sfvssea', '#49ers', '#kickoff2013', '#camp49', '#nfltop100']\n",
        "CartmelSticky : ['#titleswithnachos']\n",
        "CharlesYap : ['#arabidol', '#veterans', '#scaf', '#amtrak', '#israel', '#nypd', '#drones', '#michaelhastings', '#twitter', '#kuwait', '#rabaa', '#fox', '#gay', '#trayvonmartin', '#cia', '#cnn', '#wef', '#nyt', '#nsa', '#june30', '#snowden', '#assaf', '#palestine', '#lebanon', '#tahrir', '#northkorea', '#afghanistan', '#tunisia', '#franklinproject', '#saudi', '#jan25', '#syria', '#frontlinepbs', '#obama', '#jesus', '#bradleymanning', '#jordan', '#occupygezi', '#brazil', '#egypt', '#aljazeera', '#bahrain', '#pakistan', '#nakba', '#newzealand', '#rollingstone', '#guantanamo', '#morsi', '#gaza', '#google', '#yemen', '#iraq', '#worldbrief', '#helenthomas', '#qatar']\n",
        "Chocoralie : []\n",
        "CityJohn : []\n",
        "CorkEveningEcho : ['#5things', '#aje']\n",
        "CraneTV : []\n",
        "CriticalCouple : ['#greece', '#btw13', '#auspol', '#italy', '#portugal']\n",
        "CrumbsMag : []\n",
        "DFergPR : ['#alpolitics', '#al01']\n",
        "DineHard : ['#vmas', '#fwclassic', '#emmys']\n",
        "DoktorG : []\n",
        "DominiqueAnsel : ['#nsafiles']\n",
        "EastVillageLDN : ['#tedxpoynter', '#florida', '#tampa']\n",
        "Eater : ['#vagov', '#vagovdebate', '#nn13', '#vbadebate', '#njsen']\n",
        "EatingAsia : ['#snl', '#yeezus']\n",
        "FelicitySpector : ['#newshourchats']\n",
        "Finelychopped : ['#gitmo', '#manning']\n",
        "FleurDeGuerre : ['#divergent']\n",
        "Food52 : ['#rg13', '#cincytennis', '#wimbledon', '#usopen', '#citiopen', '#ncaatennis', '#daviscup', '#halle']\n",
        "FoodTravelCo : []\n",
        "FoodUrchin : ['#wtalive', '#baon']\n",
        "Foodandthefab : ['#identitytheft', '#piracy', '#drugs', '#malware', '#online', '#bitcoin', '#cybercrime', '#college', '#google', '#drug']\n",
        "GinGarden : ['#keystonexl', '#immigration']\n",
        "GingerPigLtd : ['#medicaid', '#makedclisten', '#stopcommoncore', '#dream13', '#farmbill', '#obamacare']\n",
        "GizziErskine : ['#oitnb', '#winchat']\n",
        "GoSeeWrite : ['#tcot', '#nasa', '#cspan']\n",
        "Greatbigrobot : ['#kysen', '#arsen', '#wvsen']\n",
        "GuildFoodWriter : ['#tcot', '#blogtalkradio']\n",
        "Henriettagraham : []\n",
        "49ers : ['#tlot', '#makedclisten']\n",
        "ABeckr : ['#defundobamacare']\n",
        "ACLINews : ['#biz', '#biztip', '#business']\n",
        "ASE : ['#txed', '#cscope', '#makedclisten', '#stopcommoncore', '#stand4life', '#txlege', '#commoncore', '#soundcloud', '#noamnesty', '#stopcscope']\n",
        "ActuallyJZ : []\n",
        "AdamSerwer : ['#wsbtv']\n",
        "AlAKleine : ['#sharknado', '#chs', '#sc1', '#nameobamasnewwar']\n",
        "AlanFisher : ['#muslimbrotherhood', '#zimmerman', '#benghazi']\n",
        "Alancumming : ['#leafs', '#indy500orbust', '#indycar']\n",
        "AlbertoNardelli : ['#got', '#ashes', '#cricket', '#nietzsche', '#savethenhs', '#ct13']\n",
        "AlexKoppelman : ['#vamos', '#whoa', '#germangp', '#motogp', '#ugh', '#belgiangp', '#cincinnati', '#vamosrafa', '#moscow2013', '#couperogers', '#moto2', '#monza', '#bcn2013', '#hungariangp', '#monacogp', '#cmon']\n",
        "AlexSchriver : ['#f1chat']\n",
        "AlexisGelber : ['#lotus', '#motogp', '#amg', '#alfa']\n",
        "AlyWeisman : []\n",
        "AmbShapiro : []\n",
        "AmberLyon : ['#wsr', '#grandam', '#elms']\n",
        "Amber__McDonald : ['#f1', '#eurovision2013']\n",
        "American_Bridge : ['#monaco', '#bbcf1', '#pointless', '#f1films']\n",
        "AndrewKirell : ['#steak']\n",
        "AnitaSpadaro : ['#f1', '#canadiangp', '#spanishgp']\n",
        "AnneBell : ['#mcfc', '#mufc', '#afc', '#cfc', '#wellsfargo', '#players', '#wentworth']\n",
        "ArunRath : ['#gp2', '#monzamash']\n",
        "AshleyJudd : ['#nospainnogain', '#gp3', '#monzamash', '#alleyesonus']\n",
        "AskAkbar : ['#skyf1', '#lm24']\n",
        "BenRothenberg : ['#justsaying', '#topgear', '#tdf', '#england', '#facup', '#testgate', '#justwondering', '#btcc']\n",
        "CeceliaJP : ['#nascar']\n",
        "FortyDeuceTwits : []\n",
        "4SaferInternet : ['#lefturn', '#kneast', '#grandam', '#godo', '#thebachelorette']\n",
        "AAF : ['#pikespeak', '#indy500orbust', '#dtm', '#wrc', '#wec', '#fiaf3', '#fiaerc', '#24lm', '#spa24h', '#6hsp', '#fotaforum', '#wrclive']\n",
        "AFPhq : ['#nascar', '#irony', '#repost', '#kidding']\n",
        "AFinnie : ['#mazdaroute3']\n",
        "AHMalcolm : ['#f1']\n",
        "AaronBlakeWP : ['#cyclesradio']\n",
        "AaronMcCready : []\n",
        "Aarongorn : []\n",
        "AdairsvilleRob : ['#mini', '#justsayin', '#tweetup', '#behindthescenes', '#indycar', '#indy500', '#rushmovie', '#beatcancer', '#indylights', '#colts', '#thankyou', '#whatturn4', '#gpob', '#indy', '#teamcyclopsgear']\n",
        "AlanJSanders : ['#britishgp', '#dambusters70', '#monacogp']\n",
        "AlexConant : ['#nailedit']\n",
        "AlexSkatell : ['#narrative']\n",
        "AliBrown : []\n",
        "AliceLinahan : []\n",
        "AllenWest : ['#nkrising', '#washington', '#protour', '#frenchopen', '#itf', '#toowoomba', '#toronto', '#atlanta', '#futures', '#tokyo', '#bangkok']\n",
        "AmandaCookWSB : []\n",
        "AmandaJoFreel : ['#illini']\n",
        "AmbJohnBolton : ['#copadavis', '#rolandgarros', '#drama', '#t\u00eanis']\n",
        "AmberMarchand : []\n",
        "AmeliaChasse : []\n",
        "AmericanXRoads : ['#np', '#hawaii', '#uswnt', '#usmnt', '#nwsl', '#clfinal', '#justsayin', '#kauai', '#epl', '#wcq', '#ucl', '#snf', '#smh', '#pdl', '#nfl', '#mls', '#80s', '#followback', '#fightnight', '#flyers', '#eagles', '#usoc100', '#confedcup', '#goldcup', '#mlsallstar', '#doop', '#bplonnbc', '#jets']\n",
        "AmericasRight : ['#espntennis', '#manicmonday', '#mensfinal', '#espnwimbledon', '#rafanole35']\n",
        "Anderson33 : ['#fitness', '#flashbackfriday', '#nutrition']\n",
        "AndrewCMcCarthy : ['#dexter', '#twitterrevolution', '#gators', '#espys', '#nbafinals', '#delpo']\n",
        "99forever : ['#hahahaase']\n",
        "AustinGrandPrix : []\n",
        "Bix_Barton_SW6 : []\n",
        "Claudia05SV : ['#hitthefloor']\n",
        "Dinalli : ['#brutal']\n",
        "Drivin4Pleasure : []\n",
        "EJVISO : []\n",
        "EliGP : []\n",
        "EmBuxton : []\n",
        "FakeDelRosario : []\n",
        "FakeFernando : []\n",
        "FakeMedicalCar : ['#nontennis']\n",
        "FakeTomita : []\n",
        "Fake_Maldonado : ['#vmas', '#madmen', '#nyr', '#stanleycup', '#becauseitsthecup', '#gameofthrones']\n",
        "GARSIDEK : []\n",
        "GP2_Official : []\n",
        "GP3_Official : ['#reusabletweet', '#merica', '#epic']\n",
        "GrandPrixDiary : ['#rogerscup']\n",
        "IamLewis4fake : ['#madrid', '#uae']\n",
        "JacquesDebris : ['#rg13', '#roadtorg']\n",
        "Jalopnik : ['#loveit', '#toofunny', '#citiopen']\n",
        "Just_AP : ['#federer']\n",
        "LeighOGorman : ['#rg13', '#cincytennis', '#wta', '#wimbledon', '#daviscup']\n",
        "LewisFranck : []\n",
        "LordHumphreys : ['#newport', '#eastbourne']\n",
        "MP4_28Evil : []\n",
        "MauriceHamilton : ['#live', '#update']\n",
        "MaxGraham : []\n",
        "Mikeconway26 : []\n",
        "OfficialMinis : ['#facepalm', '#euro2013', '#yikes']\n",
        "PippaMann : ['#oh', '#cbb', '#sob', '#thevoiceuk', '#dead', '#bbuk']\n",
        "RacingLight : ['#lions', '#gaa', '#thevillage', '#educatingyorkshire', '#thefall', '#bcn2013', '#downton', '#grahamnorton', '#avfc']\n",
        "RyanEversley : []\n",
        "4AllSurfaces : []\n",
        "5livetennis : ['#sfgiants']\n",
        "AAMIClassic : []\n",
        "A_Gallivant : []\n",
        "Adamdbain : []\n",
        "Ataraxis00 : []\n",
        "BadToss : ['#itunes']\n",
        "BreakPointBR : []\n",
        "ByJoeFleming : []\n",
        "ChrisSkelton87 : []\n",
        "DjFlowe : ['#mets', '#nats', '#asg', '#nodisrespecttobenaffleck', '#arod']\n",
        "ESPNTennis : []\n",
        "EleVenbyVenus : ['#e3', '#vscocam']\n",
        "FitLen : ['#wwdc', '#eqnz']\n",
        "G2H_95 : []\n",
        "GBtennis : []\n",
        "JLR78 : []\n",
        "JamesLaRosa : []\n",
        "JayJarrahi : []\n",
        "Jonirja : ['#emmys']\n",
        "Kamakshi_Tandon : []\n",
        "LeTenisse : ['#phillies', '#brewers', '#bluejays', '#rays', '#reds', '#rockies', '#giants', '#athletics', '#angels', '#dbacks', '#dodgers', '#royals', '#nationals', '#tigers', '#marlins', '#padres', '#indians', '#pirates', '#mariners', '#braves', '#whitesox', '#cardinals', '#rangers', '#astros', '#orioles', '#twins', '#redsox', '#cubs']\n",
        "MallerMarcelo : ['#sdcc']\n",
        "MendezVega : []\n",
        "MindTheRacket : []\n",
        "MungoNGus : []\n",
        "NYTSports : []\n",
        "NailaJeanMeyers : []\n",
        "Nic_Leigh : ['#strava']\n",
        "Pep_Guti : []\n",
        "RD_Tennistalk : []\n",
        "Ratazana : ['#wwdc', '#ds9', '#itunes']\n",
        "ReemAbulleil : ['#upthedubs']\n",
        "RoadtoRG : []\n",
        "RomiCvitkovic : ['#breakingbad']\n",
        "Rossana_Capo : []\n",
        "SI_BTBaseline : []\n",
        "SavannahsTennis : []\n",
        "StephintheUS : []\n",
        "TennisCoconut : []\n",
        "Tennis_Belgium : []\n"
       ]
      }
     ],
     "prompt_number": 198
    },
    {
     "cell_type": "code",
     "collapsed": false,
     "input": [
      "cross_val_and_print_accuracy (LogisticRegression(), W_ht, y_w)"
     ],
     "language": "python",
     "metadata": {},
     "outputs": []
    },
    {
     "cell_type": "markdown",
     "metadata": {},
     "source": [
      "## Predicting Weeks from HashTags"
     ]
    },
    {
     "cell_type": "code",
     "collapsed": false,
     "input": [
      "wregh = LogisticRegression()"
     ],
     "language": "python",
     "metadata": {},
     "outputs": []
    },
    {
     "cell_type": "code",
     "collapsed": false,
     "input": [
      "wregh.fit (W_ht.astype(np.float64), y_w)"
     ],
     "language": "python",
     "metadata": {},
     "outputs": []
    },
    {
     "cell_type": "code",
     "collapsed": false,
     "input": [
      "#for m in range(len(tweetCountsPerMonth)):\n",
      "#    words = [d[i + dictStarts['Hashtag']] for i in np.where(mregh.coef_[m] > 3)[0]]\n",
      "#    print (\"::: %s ::: %s\" % (months[m], str(words)))\n",
      "for w in range(len(tweetCountsPerWeek)):\n",
      "    words = [d[i] for i in np.where(wreg.coef_[w] > 2.5)[0]]\n",
      "    print (\"Week %d : %s\" % (w, str(words)))"
     ],
     "language": "python",
     "metadata": {},
     "outputs": []
    },
    {
     "cell_type": "code",
     "collapsed": false,
     "input": [
      "cross_val_and_print_accuracy (LogisticRegression(), W_ht, y_w)"
     ],
     "language": "python",
     "metadata": {},
     "outputs": []
    },
    {
     "cell_type": "markdown",
     "metadata": {},
     "source": [
      "# Performance of Topic Models\n",
      "We test the performance of existing topic models on this dataset, in order to determine a baseline through which performance can be measured.\n",
      "\n",
      "The data is condense in two forms: the first is the standard layout for an author-topic model (i.e. each \"document\" is all an author's tweets). The second is a \"temporal\" author-topic model, where we for each month we create documents containing all a user's tweets for that month. This is just to see if certain topics are more prevalent in certain months.\n",
      "\n",
      "We try the built-in LDA implementation from Scipy, and then our implementation of the CTM model \n",
      "\n",
      "However first we need to define methods to display the results"
     ]
    },
    {
     "cell_type": "code",
     "collapsed": false,
     "input": [
      "from IPython.display import HTML\n",
      "from IPython.display import Latex\n",
      "from IPython.display import Image\n",
      "\n",
      "def printTopics(wordDict, vocab, count=10):\n",
      "    words = vocab.argsort()[-count:][::-1]\n",
      "    for wordIdx in words:\n",
      "        print(\"%5.3f - %s\" % (vocab[wordIdx], wordDict[wordIdx]))\n",
      "    print(\"\")\n",
      "  \n",
      "# Create a nice number of table cells first for each topic\n",
      "# (including padding with &nbsp; cells\n",
      "# then iterate through and add to table, safe in the knowledge\n",
      "# that there's the expected number of cells\n",
      "    \n",
      "def createTopicsTable(wordDict, vocabs, count=10):\n",
      "    MaxWordLen   = 10\n",
      "    K,V = vocabs.shape\n",
      "    \n",
      "    tab = \"<table border=1 style='font-size: 10px'>\"\n",
      "    for k in range(K):\n",
      "        vocab = vocabs[k,:]\n",
      "        popularWordIndices = vocab.argsort()[-count:][::-1]\n",
      "        tab += \"<tr><th rowspan=2>Topic \" + str(k) + \"</th>\"\n",
      "        tab += \"<td>\" + \"</td><td>\".join(d[w][:MaxWordLen] for w in popularWordIndices) + \"</td></tr>\"\n",
      "        tab += \"<tr><td>\" + \"</td><td>\".join(\"%5.3f\" % vocab[w] for w in popularWordIndices) + \"</td></tr>\"\n",
      "      \n",
      "    tab += \"</table>\"\n",
      "    return HTML(tab)\n",
      "\n",
      "def createTopicsTableLatex(wordDict, vocabs, count=10):\n",
      "    MaxWordLen   = 15\n",
      "    K,V = vocabs.shape\n",
      "    \n",
      "    tab = \"\\\\begin{tabular}{| r |\" + \"| c \" * count + \"|} \\n\"\n",
      "    tab += \"\\\\hline \\n\"\n",
      "    for k in range(K):\n",
      "        vocab = vocabs[k,:]\n",
      "        popularWordIndices = vocab.argsort()[-count:][::-1]\n",
      "        tab += \"Topic \" + str(k) + \" & \"\n",
      "        tab += \" & \".join(d[w][:MaxWordLen] for w in popularWordIndices) + \" \\\\\\\\ \\n\"\n",
      "        tab += \"a & \" + \" & \".join(\"%5.3f\" % vocab[w] for w in popularWordIndices) + \" \\\\\\\\ \\\\hline \\n\"\n",
      "      \n",
      "    tab += \"\\\\hline\\n\\\\end{tabular}\\n\"\n",
      "    return Latex(tab)\n",
      "\n",
      "\n",
      "def createTopicsTableAscii(wordDict, vocabs, count=10):\n",
      "    MaxWordLen   = 15\n",
      "    NumLen       = 6\n",
      "    sfmt = \"%\" + str(MaxWordLen) + \"s\"\n",
      "    nfmt = \"%\" + str(NumLen) + \".\" + str(NumLen - 2) + \"f\" + \" \" * (MaxWordLen - NumLen)\n",
      "    K,V = vocabs.shape\n",
      "    \n",
      "    tab = \"\"\n",
      "    for k in range(K):\n",
      "        vocab = vocabs[k,:]\n",
      "        popularWordIndices = vocab.argsort()[-count:][::-1]\n",
      "        tab += \"Topic %3d  \" % k\n",
      "        tab += \"  \".join(sfmt % d[w][:MaxWordLen] for w in popularWordIndices) + \" \\n\"\n",
      "        tab += \"           \" + \"  \".join(nfmt % vocab[w] for w in popularWordIndices) + \" \\n\"\n",
      "      \n",
      "    return tab\n",
      "            "
     ],
     "language": "python",
     "metadata": {},
     "outputs": [],
     "prompt_number": 47
    },
    {
     "cell_type": "markdown",
     "metadata": {},
     "source": [
      "## Condensing the dataset into author-documents"
     ]
    },
    {
     "cell_type": "code",
     "collapsed": false,
     "input": [
      "# The total number of users\n",
      "tweeterTopicPath = path + \"/words-by-author.pkl\"\n",
      "\n",
      "if os.path.exists(tweeterTopicPath):\n",
      "    with open (tweeterTopicPath, 'rb') as f:\n",
      "        user_dict, _, W_U = pkl.load(f)\n",
      "else:\n",
      "    X_U_total = np.asarray(np.squeeze (np.sum(X_U.todense(), axis=0)))\n",
      "    zero_tweet_users=np.where(X_U_total ==0)[1]\n",
      "    \n",
      "    totalUserCount = X_U.shape[1]\n",
      "    \n",
      "    user_dict = []\n",
      "    D_u = totalUserCount - zero_tweet_users.shape[0]\n",
      "    W_U = ssp.lil_matrix((D_u, W.shape[1]), dtype=W.dtype)\n",
      "    \n",
      "    uIdx = 0\n",
      "    for u in range(totalUserCount):\n",
      "        if u in zero_tweet_users:\n",
      "            continue\n",
      "        \n",
      "        user_dict.append(users[u])\n",
      "        W_U[uIdx,:] = ssp.lil_matrix(W[np.where(y_u==u)[0],:]).sum(axis=0)\n",
      "        \n",
      "        uIdx += 1\n",
      "    \n",
      "    W_U = W_U.tocsr()\n",
      "\n",
      "    with open(tweeterTopicPath, 'wb') as f:\n",
      "        pkl.dump((user_dict, d, W_U), f)"
     ],
     "language": "python",
     "metadata": {},
     "outputs": [],
     "prompt_number": 62
    },
    {
     "cell_type": "markdown",
     "metadata": {},
     "source": [
      "Just as a sanity check we look at the word distribution for a user known as `FakeFernando` who has an interest in formula one racing and pop culture. We would expect to see mentions of Lewis Hamilton, \"Nando\" and references to the BBC F1 coverage."
     ]
    },
    {
     "cell_type": "code",
     "collapsed": false,
     "input": [
      "FakeFernandosTweets = W[np.where(y_u==users.index(\"FakeFernando\"))[0],:]"
     ],
     "language": "python",
     "metadata": {},
     "outputs": [],
     "prompt_number": 200
    },
    {
     "cell_type": "markdown",
     "metadata": {},
     "source": [
      "These are the words from a sample tweet"
     ]
    },
    {
     "cell_type": "code",
     "collapsed": false,
     "input": [
      "[d[w] for w in FakeFernandosTweets[1010,:].indices]"
     ],
     "language": "python",
     "metadata": {},
     "outputs": [
      {
       "metadata": {},
       "output_type": "pyout",
       "prompt_number": 201,
       "text": [
        "['fake',\n",
        " 'you',\n",
        " 'success',\n",
        " 'hei',\n",
        " ';)',\n",
        " 'ever',\n",
        " 'driver',\n",
        " 'more',\n",
        " 'want',\n",
        " 'new',\n",
        " 'sai',\n",
        " 'just',\n",
        " 'get']"
       ]
      }
     ],
     "prompt_number": 201
    },
    {
     "cell_type": "code",
     "collapsed": false,
     "input": [
      "FatFakeFernandosTweets = np.asarray(FakeFernandosTweets.todense())"
     ],
     "language": "python",
     "metadata": {},
     "outputs": [],
     "prompt_number": 202
    },
    {
     "cell_type": "code",
     "collapsed": false,
     "input": [
      "#printTopics(d, FatFakeFernandosTweets.sum(axis=0), count=50)"
     ],
     "language": "python",
     "metadata": {},
     "outputs": []
    },
    {
     "cell_type": "markdown",
     "metadata": {},
     "source": [
      "## A Simple K-Means Clustering"
     ]
    },
    {
     "cell_type": "code",
     "collapsed": false,
     "input": [
      "from sklearn.cluster import KMeans\n",
      "from sklearn.preprocessing import normalize"
     ],
     "language": "python",
     "metadata": {},
     "outputs": [],
     "prompt_number": 203
    },
    {
     "cell_type": "code",
     "collapsed": false,
     "input": [
      "W_U_TF = W_U.copy().astype(np.float64)\n",
      "W_U_TF = normalize (W_U_TF, norm='l1', axis=1)"
     ],
     "language": "python",
     "metadata": {},
     "outputs": [],
     "prompt_number": 204
    },
    {
     "cell_type": "code",
     "collapsed": false,
     "input": [
      "cluster = KMeans(n_clusters=20, init='k-means++', precompute_distances=True)"
     ],
     "language": "python",
     "metadata": {},
     "outputs": [],
     "prompt_number": 205
    },
    {
     "cell_type": "code",
     "collapsed": false,
     "input": [
      "result = cluster.fit(W_U_TF)"
     ],
     "language": "python",
     "metadata": {},
     "outputs": [],
     "prompt_number": 206
    },
    {
     "cell_type": "code",
     "collapsed": false,
     "input": [
      "h = createTopicsTable(d, cluster.cluster_centers_, count=40)\n",
      "h"
     ],
     "language": "python",
     "metadata": {},
     "outputs": [
      {
       "html": [
        "<table border=1 style='font-size: 10px'><tr><th rowspan=2>Topic 0</th><td>via</td><td>you</td><td>your</td><td>new</td><td>thank</td><td>beer</td><td>from</td><td>#frifotos</td><td>time</td><td>get</td><td>out</td><td>event</td><td>2013</td><td>more</td><td>have</td><td>about</td><td>us</td><td>how</td><td>love</td><td>what</td><td>book</td><td>do</td><td>up</td><td>food</td><td>can</td><td>great</td><td>here</td><td>we</td><td>author</td><td>good</td><td>my</td><td>look</td><td>dai</td><td>all</td><td>write</td><td>week</td><td>it</td><td>help</td><td>on</td><td>date</td></tr><tr><td>0.024</td><td>0.016</td><td>0.011</td><td>0.008</td><td>0.007</td><td>0.007</td><td>0.007</td><td>0.006</td><td>0.006</td><td>0.005</td><td>0.005</td><td>0.005</td><td>0.005</td><td>0.005</td><td>0.005</td><td>0.005</td><td>0.005</td><td>0.005</td><td>0.004</td><td>0.004</td><td>0.004</td><td>0.004</td><td>0.004</td><td>0.004</td><td>0.004</td><td>0.004</td><td>0.004</td><td>0.004</td><td>0.004</td><td>0.004</td><td>0.004</td><td>0.004</td><td>0.004</td><td>0.004</td><td>0.003</td><td>0.003</td><td>0.003</td><td>0.003</td><td>0.003</td><td>0.003</td></tr><tr><th rowspan=2>Topic 1</th><td>fund</td><td>hedg</td><td>new</td><td>out</td><td>stori</td><td>via</td><td>todai</td><td>\u25b8</td><td>top</td><td>manag</td><td>million</td><td>invest</td><td>sec</td><td>from</td><td>pai</td><td>fraud</td><td>up</td><td>investor</td><td>sac</td><td>us</td><td>billion</td><td>guilti</td><td>against</td><td>trade</td><td>scheme</td><td>2013</td><td>down</td><td>insid</td><td>more</td><td>charg</td><td>launch</td><td>plead</td><td>billionair</td><td>former</td><td>equiti</td><td>prosecut</td><td>soni</td><td>after</td><td>name</td><td>pension</td></tr><tr><td>0.126</td><td>0.123</td><td>0.076</td><td>0.070</td><td>0.045</td><td>0.045</td><td>0.045</td><td>0.045</td><td>0.045</td><td>0.008</td><td>0.006</td><td>0.005</td><td>0.005</td><td>0.005</td><td>0.004</td><td>0.003</td><td>0.003</td><td>0.003</td><td>0.003</td><td>0.003</td><td>0.003</td><td>0.003</td><td>0.003</td><td>0.003</td><td>0.003</td><td>0.003</td><td>0.002</td><td>0.002</td><td>0.002</td><td>0.002</td><td>0.002</td><td>0.002</td><td>0.002</td><td>0.002</td><td>0.002</td><td>0.002</td><td>0.002</td><td>0.002</td><td>0.002</td><td>0.002</td></tr><tr><th rowspan=2>Topic 2</th><td>set</td><td>#rg13</td><td>first</td><td>break</td><td>vs</td><td>he</td><td>match</td><td>from</td><td>de</td><td>win</td><td>up</td><td>plai</td><td>serv</td><td>ha</td><td>now</td><td>you</td><td>serena</td><td>final</td><td>open</td><td>nadal</td><td>get</td><td>#usopen</td><td>she</td><td>hi</td><td>her</td><td>point</td><td>all</td><td>djokov</td><td>over</td><td>have</td><td>do</td><td>out</td><td>round</td><td>take</td><td>second</td><td>just</td><td>#roadtorg</td><td>game</td><td>flipken</td><td>good</td></tr><tr><td>0.018</td><td>0.011</td><td>0.007</td><td>0.007</td><td>0.007</td><td>0.007</td><td>0.007</td><td>0.007</td><td>0.006</td><td>0.006</td><td>0.006</td><td>0.006</td><td>0.006</td><td>0.005</td><td>0.005</td><td>0.005</td><td>0.005</td><td>0.005</td><td>0.005</td><td>0.005</td><td>0.005</td><td>0.004</td><td>0.004</td><td>0.004</td><td>0.004</td><td>0.004</td><td>0.004</td><td>0.004</td><td>0.004</td><td>0.004</td><td>0.004</td><td>0.004</td><td>0.004</td><td>0.004</td><td>0.004</td><td>0.004</td><td>0.004</td><td>0.004</td><td>0.003</td><td>0.003</td></tr><tr><th rowspan=2>Topic 3</th><td>game</td><td>stat</td><td>b-r</td><td>vs</td><td>sheet</td><td>et</td><td>10pm</td><td>05pm</td><td>tibh</td><td>list</td><td>full</td><td>10</td><td>15pm</td><td>all</td><td>#cardinals</td><td>#giants</td><td>free</td><td>bornthisd</td><td>http://www</td><td>#brewers</td><td>#dodgers</td><td>#tigers</td><td>#phillies</td><td>#dbacks</td><td>#rangers</td><td>#rockies</td><td>#astros</td><td>#cubs</td><td>#redsox</td><td>#padres</td><td>#whitesox</td><td>#royals</td><td>#nationals</td><td>#angels</td><td>#rays</td><td>#yankees</td><td>#orioles</td><td>#pirates</td><td>#mariners</td><td>#twins</td></tr><tr><td>0.076</td><td>0.073</td><td>0.073</td><td>0.073</td><td>0.073</td><td>0.073</td><td>0.030</td><td>0.021</td><td>0.014</td><td>0.013</td><td>0.013</td><td>0.010</td><td>0.008</td><td>0.007</td><td>0.006</td><td>0.006</td><td>0.005</td><td>0.005</td><td>0.005</td><td>0.005</td><td>0.005</td><td>0.005</td><td>0.005</td><td>0.005</td><td>0.005</td><td>0.005</td><td>0.005</td><td>0.005</td><td>0.005</td><td>0.005</td><td>0.005</td><td>0.005</td><td>0.005</td><td>0.005</td><td>0.005</td><td>0.005</td><td>0.005</td><td>0.005</td><td>0.005</td><td>0.005</td></tr><tr><th rowspan=2>Topic 4</th><td>blue</td><td>out</td><td>todai</td><td>top</td><td>via</td><td>stori</td><td>\u25b8</td><td>new</td><td>bell</td><td>inn</td><td>wale</td><td>event</td><td>daili</td><td>booz</td><td>you</td><td>from</td><td>here</td><td>photo</td><td>some</td><td>tonight</td><td>music</td><td>googl</td><td>night</td><td>we</td><td>great</td><td>have</td><td>it</td><td>look</td><td>our</td><td>\u25bc</td><td>join</td><td>wonder</td><td>ad</td><td>graham</td><td>ticket</td><td>post</td><td>al</td><td>come</td><td>we'v</td><td>just</td></tr><tr><td>0.063</td><td>0.061</td><td>0.056</td><td>0.055</td><td>0.055</td><td>0.055</td><td>0.055</td><td>0.032</td><td>0.032</td><td>0.031</td><td>0.031</td><td>0.030</td><td>0.028</td><td>0.028</td><td>0.007</td><td>0.005</td><td>0.005</td><td>0.005</td><td>0.004</td><td>0.004</td><td>0.004</td><td>0.004</td><td>0.004</td><td>0.004</td><td>0.004</td><td>0.003</td><td>0.003</td><td>0.003</td><td>0.003</td><td>0.003</td><td>0.003</td><td>0.003</td><td>0.003</td><td>0.003</td><td>0.003</td><td>0.003</td><td>0.003</td><td>0.002</td><td>0.002</td><td>0.002</td></tr><tr><th rowspan=2>Topic 5</th><td>you</td><td>he</td><td>have</td><td>so</td><td>just</td><td>like</td><td>it</td><td>my</td><td>get</td><td>all</td><td>she</td><td>hi</td><td>ha</td><td>what</td><td>match</td><td>from</td><td>i'm</td><td>go</td><td>out</td><td>up</td><td>plai</td><td>her</td><td>me</td><td>on</td><td>about</td><td>now</td><td>do</td><td>:)</td><td>think</td><td>good</td><td>win</td><td>set</td><td>time</td><td>don't</td><td>look</td><td>lol</td><td>can</td><td>see</td><td>well</td><td>know</td></tr><tr><td>0.012</td><td>0.009</td><td>0.008</td><td>0.008</td><td>0.008</td><td>0.006</td><td>0.006</td><td>0.006</td><td>0.006</td><td>0.005</td><td>0.005</td><td>0.005</td><td>0.005</td><td>0.005</td><td>0.005</td><td>0.005</td><td>0.005</td><td>0.005</td><td>0.005</td><td>0.005</td><td>0.005</td><td>0.005</td><td>0.005</td><td>0.004</td><td>0.004</td><td>0.004</td><td>0.004</td><td>0.004</td><td>0.004</td><td>0.004</td><td>0.004</td><td>0.004</td><td>0.004</td><td>0.004</td><td>0.004</td><td>0.003</td><td>0.003</td><td>0.003</td><td>0.003</td><td>0.003</td></tr><tr><th rowspan=2>Topic 6</th><td>de</td><td>en</td><td>la</td><td>el</td><td>que</td><td>lo</td><td>por</td><td>es</td><td>un</td><td>para</td><td>con</td><td>se</td><td>del</td><td>su</td><td>una</td><td>al</td><td>me</td><td>pero</td><td>todo</td><td>you</td><td>my</td><td>si</td><td>flight</td><td>hoi</td><td>ant</td><td>ya</td><td>us</td><td>le</td><td>gracia</td><td>final</td><td>como</td><td>nadal</td><td>mi</td><td>est</td><td>do</td><td>set</td><td>ha</td><td>up</td><td>chang</td><td>esta</td></tr><tr><td>0.050</td><td>0.040</td><td>0.040</td><td>0.030</td><td>0.022</td><td>0.018</td><td>0.012</td><td>0.012</td><td>0.010</td><td>0.010</td><td>0.010</td><td>0.009</td><td>0.009</td><td>0.007</td><td>0.006</td><td>0.006</td><td>0.006</td><td>0.005</td><td>0.005</td><td>0.004</td><td>0.004</td><td>0.004</td><td>0.004</td><td>0.004</td><td>0.004</td><td>0.004</td><td>0.004</td><td>0.004</td><td>0.004</td><td>0.003</td><td>0.003</td><td>0.003</td><td>0.003</td><td>0.003</td><td>0.003</td><td>0.003</td><td>0.003</td><td>0.002</td><td>0.002</td><td>0.002</td></tr><tr><th rowspan=2>Topic 7</th><td>#craftbeer</td><td>#beer</td><td>beer</td><td>brew</td><td>#boston</td><td>breweri</td><td>fest</td><td>video</td><td>review</td><td>american</td><td>#acbf</td><td>you</td><td>al</td><td>list</td><td>new</td><td>ad</td><td>out</td><td>http://bee</td><td>co</td><td>our</td><td>craft</td><td>todai</td><td>ipa</td><td>us</td><td>like</td><td>releas</td><td>we</td><td>top</td><td>via</td><td>now</td><td>from</td><td>more</td><td>stout</td><td>stori</td><td>your</td><td>beerdiscip</td><td>daili</td><td>imperi</td><td>\u25b8</td><td>hop</td></tr><tr><td>0.082</td><td>0.049</td><td>0.028</td><td>0.016</td><td>0.016</td><td>0.012</td><td>0.011</td><td>0.011</td><td>0.010</td><td>0.010</td><td>0.008</td><td>0.008</td><td>0.008</td><td>0.008</td><td>0.007</td><td>0.007</td><td>0.007</td><td>0.007</td><td>0.006</td><td>0.006</td><td>0.006</td><td>0.005</td><td>0.005</td><td>0.005</td><td>0.005</td><td>0.005</td><td>0.004</td><td>0.004</td><td>0.004</td><td>0.004</td><td>0.004</td><td>0.004</td><td>0.004</td><td>0.004</td><td>0.003</td><td>0.003</td><td>0.003</td><td>0.003</td><td>0.003</td><td>0.003</td></tr><tr><th rowspan=2>Topic 8</th><td>new</td><td>from</td><td>you</td><td>more</td><td>us</td><td>obama</td><td>we</td><td>have</td><td>about</td><td>sai</td><td>state</td><td>ha</td><td>via</td><td>what</td><td>up</td><td>watch</td><td>out</td><td>now</td><td>bill</td><td>year</td><td>hi</td><td>todai</td><td>it</td><td>bank</td><td>get</td><td>our</td><td>all</td><td>after</td><td>how</td><td>over</td><td>he</td><td>dai</td><td>make</td><td>cuccinelli</td><td>time</td><td>report</td><td>can</td><td>#bettermn</td><td>senat</td><td>here</td></tr><tr><td>0.007</td><td>0.006</td><td>0.005</td><td>0.004</td><td>0.004</td><td>0.004</td><td>0.003</td><td>0.003</td><td>0.003</td><td>0.003</td><td>0.003</td><td>0.003</td><td>0.003</td><td>0.003</td><td>0.003</td><td>0.003</td><td>0.003</td><td>0.003</td><td>0.003</td><td>0.003</td><td>0.003</td><td>0.003</td><td>0.002</td><td>0.002</td><td>0.002</td><td>0.002</td><td>0.002</td><td>0.002</td><td>0.002</td><td>0.002</td><td>0.002</td><td>0.002</td><td>0.002</td><td>0.002</td><td>0.002</td><td>0.002</td><td>0.002</td><td>0.002</td><td>0.002</td><td>0.002</td></tr><tr><th rowspan=2>Topic 9</th><td>#gp3</td><td>race</td><td>you</td><td>we</td><td>here</td><td>from</td><td>time</td><td>your</td><td>our</td><td>have</td><td>#alleyeson</td><td>:-)</td><td>#nospainno</td><td>all</td><td>live</td><td>#f1</td><td>out</td><td>driver</td><td>after</td><td>#monzamash</td><td>now</td><td>it</td><td>free</td><td>follow</td><td>so</td><td>us</td><td>weekend</td><td>practic</td><td>#gp2</td><td>todai</td><td>#sospasogo</td><td>tweet</td><td>photo</td><td>hi</td><td>round</td><td>lap</td><td>good</td><td>best</td><td>go</td><td>start</td></tr><tr><td>0.074</td><td>0.020</td><td>0.018</td><td>0.015</td><td>0.014</td><td>0.012</td><td>0.012</td><td>0.010</td><td>0.009</td><td>0.009</td><td>0.009</td><td>0.008</td><td>0.007</td><td>0.007</td><td>0.007</td><td>0.007</td><td>0.006</td><td>0.006</td><td>0.006</td><td>0.006</td><td>0.006</td><td>0.006</td><td>0.006</td><td>0.005</td><td>0.005</td><td>0.005</td><td>0.005</td><td>0.005</td><td>0.005</td><td>0.005</td><td>0.005</td><td>0.005</td><td>0.005</td><td>0.004</td><td>0.004</td><td>0.004</td><td>0.004</td><td>0.004</td><td>0.004</td><td>0.004</td></tr><tr><th rowspan=2>Topic 10</th><td>you</td><td>we</td><td>our</td><td>your</td><td>have</td><td>us</td><td>what</td><td>love</td><td>do</td><td>out</td><td>:)</td><td>look</td><td>hi</td><td>thank</td><td>here</td><td>all</td><td>so</td><td>it</td><td>get</td><td>great</td><td>from</td><td>can</td><td>up</td><td>todai</td><td>we'r</td><td>good</td><td>more</td><td>on</td><td>dai</td><td>like</td><td>some</td><td>make</td><td>about</td><td>know</td><td>see</td><td>how</td><td>new</td><td>go</td><td>week</td><td>london</td></tr><tr><td>0.036</td><td>0.018</td><td>0.017</td><td>0.014</td><td>0.010</td><td>0.009</td><td>0.008</td><td>0.007</td><td>0.007</td><td>0.006</td><td>0.006</td><td>0.006</td><td>0.006</td><td>0.006</td><td>0.006</td><td>0.006</td><td>0.006</td><td>0.005</td><td>0.005</td><td>0.005</td><td>0.005</td><td>0.005</td><td>0.005</td><td>0.005</td><td>0.005</td><td>0.004</td><td>0.004</td><td>0.004</td><td>0.004</td><td>0.004</td><td>0.004</td><td>0.004</td><td>0.004</td><td>0.004</td><td>0.004</td><td>0.004</td><td>0.004</td><td>0.004</td><td>0.003</td><td>0.003</td></tr><tr><th rowspan=2>Topic 11</th><td>you</td><td>from</td><td>have</td><td>my</td><td>we</td><td>your</td><td>about</td><td>us</td><td>new</td><td>what</td><td>it</td><td>out</td><td>get</td><td>just</td><td>all</td><td>our</td><td>so</td><td>do</td><td>like</td><td>how</td><td>more</td><td>now</td><td>up</td><td>thank</td><td>on</td><td>can</td><td>time</td><td>i'm</td><td>dai</td><td>here</td><td>he</td><td>me</td><td>who</td><td>todai</td><td>good</td><td>ha</td><td>great</td><td>go</td><td>make</td><td>see</td></tr><tr><td>0.014</td><td>0.007</td><td>0.006</td><td>0.006</td><td>0.005</td><td>0.005</td><td>0.005</td><td>0.005</td><td>0.005</td><td>0.005</td><td>0.005</td><td>0.004</td><td>0.004</td><td>0.004</td><td>0.004</td><td>0.004</td><td>0.004</td><td>0.004</td><td>0.004</td><td>0.004</td><td>0.003</td><td>0.003</td><td>0.003</td><td>0.003</td><td>0.003</td><td>0.003</td><td>0.003</td><td>0.003</td><td>0.003</td><td>0.003</td><td>0.003</td><td>0.003</td><td>0.003</td><td>0.003</td><td>0.003</td><td>0.003</td><td>0.003</td><td>0.003</td><td>0.003</td><td>0.003</td></tr><tr><th rowspan=2>Topic 12</th><td>you</td><td>thank</td><td>:)</td><td>have</td><td>my</td><td>your</td><td>so</td><td>we</td><td>good</td><td>love</td><td>get</td><td>me</td><td>just</td><td>can</td><td>all</td><td>great</td><td>see</td><td>it</td><td>do</td><td>on</td><td>like</td><td>from</td><td>out</td><td>us</td><td>about</td><td>what</td><td>now</td><td>too</td><td>dai</td><td>todai</td><td>our</td><td>look</td><td>up</td><td>i'm</td><td>go</td><td>new</td><td>hope</td><td>come</td><td>know</td><td>veri</td></tr><tr><td>0.037</td><td>0.016</td><td>0.012</td><td>0.010</td><td>0.009</td><td>0.008</td><td>0.008</td><td>0.007</td><td>0.006</td><td>0.006</td><td>0.006</td><td>0.006</td><td>0.006</td><td>0.005</td><td>0.005</td><td>0.005</td><td>0.005</td><td>0.005</td><td>0.005</td><td>0.005</td><td>0.005</td><td>0.005</td><td>0.005</td><td>0.005</td><td>0.004</td><td>0.004</td><td>0.004</td><td>0.004</td><td>0.004</td><td>0.004</td><td>0.004</td><td>0.004</td><td>0.004</td><td>0.004</td><td>0.004</td><td>0.004</td><td>0.004</td><td>0.004</td><td>0.004</td><td>0.004</td></tr><tr><th rowspan=2>Topic 13</th><td>beer</td><td>\u2764</td><td>you</td><td>meat</td><td>we</td><td>our</td><td>so</td><td>have</td><td>love</td><td>your</td><td>it</td><td>from</td><td>enjoi</td><td>gui</td><td>:)</td><td>do</td><td>bbq</td><td>thank</td><td>great</td><td>brew</td><td>glad</td><td>try</td><td>all</td><td>#yum</td><td>;)</td><td>come</td><td>get</td><td>duke</td><td>bar</td><td>what</td><td>next</td><td>rib</td><td>dai</td><td>time</td><td>beaver</td><td>veri</td><td>see</td><td>we'r</td><td>tonight</td><td>can</td></tr><tr><td>0.040</td><td>0.036</td><td>0.035</td><td>0.030</td><td>0.017</td><td>0.016</td><td>0.011</td><td>0.011</td><td>0.010</td><td>0.008</td><td>0.008</td><td>0.007</td><td>0.007</td><td>0.007</td><td>0.007</td><td>0.007</td><td>0.007</td><td>0.006</td><td>0.006</td><td>0.006</td><td>0.006</td><td>0.006</td><td>0.006</td><td>0.006</td><td>0.006</td><td>0.005</td><td>0.005</td><td>0.005</td><td>0.005</td><td>0.005</td><td>0.005</td><td>0.005</td><td>0.005</td><td>0.005</td><td>0.005</td><td>0.005</td><td>0.004</td><td>0.004</td><td>0.004</td><td>0.004</td></tr><tr><th rowspan=2>Topic 14</th><td>bank</td><td>japan</td><td>account</td><td>june</td><td>monetari</td><td>2013</td><td>rate</td><td>juli</td><td>averag</td><td>interest</td><td>mai</td><td>end</td><td>type</td><td>deposit</td><td>econom</td><td>oper</td><td>financi</td><td>polici</td><td>market</td><td>balanc</td><td>price</td><td>aug</td><td>current</td><td>paper</td><td>figur</td><td>index</td><td>corpor</td><td>japanes</td><td>base</td><td>chang</td><td>sourc</td><td>govern</td><td>report</td><td>research</td><td>monei</td><td>schedul</td><td>loan</td><td>speech</td><td>statist</td><td>apr</td></tr><tr><td>0.042</td><td>0.041</td><td>0.021</td><td>0.020</td><td>0.020</td><td>0.020</td><td>0.019</td><td>0.018</td><td>0.017</td><td>0.017</td><td>0.017</td><td>0.015</td><td>0.013</td><td>0.013</td><td>0.013</td><td>0.012</td><td>0.012</td><td>0.012</td><td>0.012</td><td>0.012</td><td>0.011</td><td>0.011</td><td>0.011</td><td>0.010</td><td>0.010</td><td>0.010</td><td>0.009</td><td>0.009</td><td>0.008</td><td>0.008</td><td>0.008</td><td>0.008</td><td>0.008</td><td>0.008</td><td>0.007</td><td>0.007</td><td>0.007</td><td>0.007</td><td>0.007</td><td>0.007</td></tr><tr><th rowspan=2>Topic 15</th><td>you</td><td>beer</td><td>our</td><td>we</td><td>your</td><td>us</td><td>have</td><td>out</td><td>thank</td><td>great</td><td>from</td><td>get</td><td>just</td><td>dai</td><td>new</td><td>brew</td><td>todai</td><td>it</td><td>all</td><td>come</td><td>tonight</td><td>up</td><td>breweri</td><td>good</td><td>so</td><td>what</td><td>now</td><td>go</td><td>some</td><td>on</td><td>do</td><td>can</td><td>al</td><td>week</td><td>see</td><td>more</td><td>here</td><td>like</td><td>tap</td><td>look</td></tr><tr><td>0.021</td><td>0.018</td><td>0.016</td><td>0.015</td><td>0.009</td><td>0.008</td><td>0.007</td><td>0.007</td><td>0.007</td><td>0.007</td><td>0.006</td><td>0.006</td><td>0.006</td><td>0.006</td><td>0.006</td><td>0.006</td><td>0.006</td><td>0.005</td><td>0.005</td><td>0.005</td><td>0.005</td><td>0.005</td><td>0.004</td><td>0.004</td><td>0.004</td><td>0.004</td><td>0.004</td><td>0.004</td><td>0.004</td><td>0.004</td><td>0.004</td><td>0.004</td><td>0.004</td><td>0.003</td><td>0.003</td><td>0.003</td><td>0.003</td><td>0.003</td><td>0.003</td><td>0.003</td></tr><tr><th rowspan=2>Topic 16</th><td>anchor</td><td>steam</td><td>cheer</td><td>brew</td><td>you</td><td>your</td><td>thank</td><td>#raiseyour</td><td>#todayatan</td><td>enjoi</td><td>beer</td><td>bottl</td><td>rack</td><td>our</td><td>#anchorste</td><td>california</td><td>lager</td><td>us</td><td>great</td><td>we</td><td>#craftbeer</td><td>al</td><td>summer</td><td>photo</td><td>out</td><td>glad</td><td>hope</td><td>#sf</td><td>you'r</td><td>like</td><td>have</td><td>liberti</td><td>here</td><td>shout</td><td>red</td><td>autumn</td><td>look</td><td>we'll</td><td>from</td><td>sound</td></tr><tr><td>0.057</td><td>0.031</td><td>0.025</td><td>0.024</td><td>0.022</td><td>0.020</td><td>0.020</td><td>0.017</td><td>0.015</td><td>0.015</td><td>0.014</td><td>0.014</td><td>0.013</td><td>0.012</td><td>0.011</td><td>0.010</td><td>0.009</td><td>0.009</td><td>0.009</td><td>0.009</td><td>0.008</td><td>0.007</td><td>0.007</td><td>0.007</td><td>0.007</td><td>0.007</td><td>0.007</td><td>0.007</td><td>0.006</td><td>0.006</td><td>0.006</td><td>0.006</td><td>0.005</td><td>0.005</td><td>0.005</td><td>0.005</td><td>0.005</td><td>0.005</td><td>0.004</td><td>0.004</td></tr><tr><th rowspan=2>Topic 17</th><td>you</td><td>my</td><td>have</td><td>me</td><td>just</td><td>so</td><td>like</td><td>your</td><td>do</td><td>get</td><td>it</td><td>what</td><td>all</td><td>i'm</td><td>about</td><td>on</td><td>from</td><td>go</td><td>up</td><td>out</td><td>can</td><td>we</td><td>good</td><td>time</td><td>now</td><td>think</td><td>look</td><td>know</td><td>new</td><td>us</td><td>how</td><td>love</td><td>thank</td><td>see</td><td>ha</td><td>make</td><td>when</td><td>he</td><td>too</td><td>dai</td></tr><tr><td>0.023</td><td>0.012</td><td>0.009</td><td>0.008</td><td>0.007</td><td>0.007</td><td>0.007</td><td>0.006</td><td>0.006</td><td>0.006</td><td>0.006</td><td>0.006</td><td>0.006</td><td>0.005</td><td>0.005</td><td>0.005</td><td>0.005</td><td>0.005</td><td>0.005</td><td>0.005</td><td>0.005</td><td>0.005</td><td>0.004</td><td>0.004</td><td>0.004</td><td>0.004</td><td>0.004</td><td>0.004</td><td>0.004</td><td>0.004</td><td>0.004</td><td>0.004</td><td>0.004</td><td>0.003</td><td>0.003</td><td>0.003</td><td>0.003</td><td>0.003</td><td>0.003</td><td>0.003</td></tr><tr><th rowspan=2>Topic 18</th><td>#f1</td><td>we</td><td>you</td><td>car</td><td>have</td><td>#canadiang</td><td>race</td><td>just</td><td>#spanishgp</td><td>he</td><td>lap</td><td>get</td><td>tyre</td><td>alonso</td><td>from</td><td>so</td><td>go</td><td>can</td><td>about</td><td>look</td><td>do</td><td>now</td><td>f1</td><td>when</td><td>all</td><td>webber</td><td>massa</td><td>what</td><td>it</td><td>#monacogp</td><td>ferrari</td><td>my</td><td>ha</td><td>team</td><td>like</td><td>time</td><td>think</td><td>been</td><td>had</td><td>know</td></tr><tr><td>0.072</td><td>0.012</td><td>0.010</td><td>0.008</td><td>0.008</td><td>0.008</td><td>0.007</td><td>0.007</td><td>0.007</td><td>0.006</td><td>0.006</td><td>0.006</td><td>0.006</td><td>0.006</td><td>0.005</td><td>0.005</td><td>0.005</td><td>0.005</td><td>0.005</td><td>0.005</td><td>0.004</td><td>0.004</td><td>0.004</td><td>0.004</td><td>0.004</td><td>0.004</td><td>0.004</td><td>0.004</td><td>0.004</td><td>0.004</td><td>0.004</td><td>0.004</td><td>0.004</td><td>0.004</td><td>0.004</td><td>0.004</td><td>0.004</td><td>0.003</td><td>0.003</td><td>0.003</td></tr><tr><th rowspan=2>Topic 19</th><td>women</td><td>we</td><td>our</td><td>you</td><td>us</td><td>have</td><td>out</td><td>#abortion</td><td>new</td><td>abort</td><td>from</td><td>thank</td><td>about</td><td>health</td><td>girl</td><td>more</td><td>your</td><td>here</td><td>right</td><td>who</td><td>support</td><td>#antichoic</td><td>access</td><td>need</td><td>can</td><td>todai</td><td>bill</td><td>what</td><td>make</td><td>all</td><td>#women</td><td>#obamacare</td><td>do</td><td>how</td><td>dai</td><td>read</td><td>so</td><td>care</td><td>work</td><td>great</td></tr><tr><td>0.015</td><td>0.012</td><td>0.010</td><td>0.010</td><td>0.008</td><td>0.008</td><td>0.008</td><td>0.007</td><td>0.007</td><td>0.007</td><td>0.006</td><td>0.006</td><td>0.005</td><td>0.005</td><td>0.005</td><td>0.005</td><td>0.005</td><td>0.005</td><td>0.005</td><td>0.004</td><td>0.004</td><td>0.004</td><td>0.004</td><td>0.004</td><td>0.004</td><td>0.004</td><td>0.004</td><td>0.004</td><td>0.003</td><td>0.003</td><td>0.003</td><td>0.003</td><td>0.003</td><td>0.003</td><td>0.003</td><td>0.003</td><td>0.003</td><td>0.003</td><td>0.003</td><td>0.003</td></tr></table>"
       ],
       "metadata": {},
       "output_type": "pyout",
       "prompt_number": 207,
       "text": [
        "<IPython.core.display.HTML at 0x1197f1950>"
       ]
      }
     ],
     "prompt_number": 207
    },
    {
     "cell_type": "code",
     "collapsed": false,
     "input": [
      "Latex(r\"\"\"This is {\\bf text}\"\"\")"
     ],
     "language": "python",
     "metadata": {},
     "outputs": []
    },
    {
     "cell_type": "markdown",
     "metadata": {},
     "source": [
      "## An implementation of the Correlated Topic Model using Bouchard's Bound"
     ]
    },
    {
     "cell_type": "code",
     "collapsed": false,
     "input": [
      "import model\n",
      "\n",
      "import pickle as pkl\n",
      "with open(\"/Users/bryanfeeney/Desktop/author_ctm_result.pkl\", \"rb\") as f:\n",
      "    (a_model, a_query) = pkl.load(f)"
     ],
     "language": "python",
     "metadata": {},
     "outputs": [],
     "prompt_number": 44
    },
    {
     "cell_type": "markdown",
     "metadata": {},
     "source": [
      "The number of topics"
     ]
    },
    {
     "cell_type": "code",
     "collapsed": false,
     "input": [
      "a_model.K"
     ],
     "language": "python",
     "metadata": {},
     "outputs": [
      {
       "metadata": {},
       "output_type": "pyout",
       "prompt_number": 45,
       "text": [
        "20"
       ]
      }
     ],
     "prompt_number": 45
    },
    {
     "cell_type": "markdown",
     "metadata": {},
     "source": [
      "### Evolution of the Variational Bound"
     ]
    },
    {
     "cell_type": "code",
     "collapsed": false,
     "input": [
      "Image(\"/Users/bryanfeeney/Desktop/ctm_bohning.png\")"
     ],
     "language": "python",
     "metadata": {},
     "outputs": [
      {
       "metadata": {},
       "output_type": "pyout",
       "png": "[encoded data removed]",
       "prompt_number": 48,
       "text": [
        "<IPython.core.display.Image at 0x10af0c510>"
       ]
      }
     ],
     "prompt_number": 48
    },
    {
     "cell_type": "markdown",
     "metadata": {},
     "source": [
      "### The Inferred Covariance and Topic Means"
     ]
    },
    {
     "cell_type": "code",
     "collapsed": false,
     "input": [
      "fig, ax = plt.subplots(figsize=(11,9))\n",
      "\n",
      "im = plt.imshow(a_model.sigT, interpolation=\"none\")\n",
      "\n",
      "cb = fig.colorbar(im, ax=ax)\n",
      "ax.set_title(\"Covariance Matrix\")"
     ],
     "language": "python",
     "metadata": {},
     "outputs": [
      {
       "metadata": {},
       "output_type": "pyout",
       "prompt_number": 49,
       "text": [
        "<matplotlib.text.Text at 0x10c956610>"
       ]
      },
      {
       "metadata": {},
       "output_type": "display_data",
       "png": "[encoded data removed]",
       "text": [
        "<matplotlib.figure.Figure at 0x10ae5d790>"
       ]
      }
     ],
     "prompt_number": 49
    },
    {
     "cell_type": "markdown",
     "metadata": {},
     "source": [
      "Next we plot the topic distributions for all the various users."
     ]
    },
    {
     "cell_type": "code",
     "collapsed": false,
     "input": [
      "from util.sigmoid_utils import rowwise_softmax\n",
      "\n",
      "dist = rowwise_softmax(a_query.means)\n",
      "fig, ax = plt.subplots(figsize=(10,35))\n",
      "\n",
      "im = plt.imshow(dist, interpolation=\"none\")\n",
      "\n",
      "cb = fig.colorbar(im, ax=ax)\n",
      "ax.set_title(\"Means Matrix\")"
     ],
     "language": "python",
     "metadata": {},
     "outputs": [
      {
       "metadata": {},
       "output_type": "pyout",
       "prompt_number": 57,
       "text": [
        "<matplotlib.text.Text at 0x10d2f3910>"
       ]
      },
      {
       "metadata": {},
       "output_type": "display_data",
       "png": "[encoded data removed]",
       "text": [
        "<matplotlib.figure.Figure at 0x10d179550>"
       ]
      }
     ],
     "prompt_number": 57
    },
    {
     "cell_type": "markdown",
     "metadata": {},
     "source": [
      "With the Bouchard bound, we had incredibly hard assignments to topics, which at the time we thought could possibly could be due to the tendendcy of the softmax function to prefer extremes. \n",
      "\n",
      "However with the Bohning bound assignments are much, much softer."
     ]
    },
    {
     "cell_type": "code",
     "collapsed": false,
     "input": [
      "(dist[258:261,:] * 100).astype(np.int32)"
     ],
     "language": "python",
     "metadata": {},
     "outputs": [
      {
       "metadata": {},
       "output_type": "pyout",
       "prompt_number": 78,
       "text": [
        "array([[ 0,  0, 96,  0,  0,  0,  0,  0,  0,  0,  0,  0,  0,  0,  0,  0,  0,\n",
        "         0,  0,  0],\n",
        "       [ 0,  0, 99,  0,  0,  0,  0,  0,  0,  0,  0,  0,  0,  0,  0,  0,  0,\n",
        "         0,  0,  0],\n",
        "       [ 0,  0, 99,  0,  0,  0,  0,  0,  0,  0,  0,  0,  0,  0,  0,  0,  0,\n",
        "         0,  0,  0]], dtype=int32)"
       ]
      }
     ],
     "prompt_number": 78
    },
    {
     "cell_type": "code",
     "collapsed": false,
     "input": [
      "user_dict[258:261]"
     ],
     "language": "python",
     "metadata": {},
     "outputs": [
      {
       "metadata": {},
       "output_type": "pyout",
       "prompt_number": 79,
       "text": [
        "['LeTenisse', 'MallerMarcelo', 'MendezVega']"
       ]
      }
     ],
     "prompt_number": 79
    },
    {
     "cell_type": "code",
     "collapsed": false,
     "input": [
      "[user_dict[uid] for uid in np.where(dist[:,19] > 0.5)[0]]"
     ],
     "language": "python",
     "metadata": {},
     "outputs": [
      {
       "metadata": {},
       "output_type": "pyout",
       "prompt_number": 96,
       "text": [
        "['HiltonHollis',\n",
        " '5280Magazine',\n",
        " 'BigBlueTent',\n",
        " '4pawsbrewing',\n",
        " 'AnchorBrewing',\n",
        " 'ArgusBrewery',\n",
        " 'AtlasBrewing',\n",
        " 'BHB_brews',\n",
        " 'BeerAdvocate',\n",
        " 'BeerUnion',\n",
        " 'Beer_Disciples',\n",
        " 'Beer_Goddess',\n",
        " 'BlueBellHalkyn',\n",
        " 'BreckBrew',\n",
        " 'BrewEngland',\n",
        " 'BullCityBurger',\n",
        " 'DFDband',\n",
        " 'DailyBeerNews',\n",
        " 'DueSouthBrewing',\n",
        " 'FallCreekWines',\n",
        " 'FiremansBrew',\n",
        " 'FullCircleBrews',\n",
        " 'GarrisonBrewing',\n",
        " 'Chocoralie',\n",
        " 'CraneTV']"
       ]
      }
     ],
     "prompt_number": 96
    },
    {
     "cell_type": "code",
     "collapsed": false,
     "input": [
      "dist["
     ],
     "language": "python",
     "metadata": {},
     "outputs": []
    },
    {
     "cell_type": "markdown",
     "metadata": {},
     "source": [
      "###\u00a0Likelihood and Perplexity"
     ]
    },
    {
     "cell_type": "code",
     "collapsed": false,
     "input": [
      "from util.sparse_elementwise import sparseScalarProductOfDot, sparseScalarProductOfSafeLnDot"
     ],
     "language": "python",
     "metadata": {},
     "outputs": [],
     "prompt_number": 117
    },
    {
     "cell_type": "code",
     "collapsed": false,
     "input": [
      "logLikely = np.sum( \\\n",
      "        sparseScalarProductOfSafeLnDot(\\\n",
      "            W_U.astype(np.float64), \\\n",
      "            rowwise_softmax (a_query.means), \\\n",
      "            a_model.vocab \\\n",
      "        ).data \\\n",
      "    )\n",
      "\n",
      "logLikely"
     ],
     "language": "python",
     "metadata": {},
     "outputs": [
      {
       "metadata": {},
       "output_type": "pyout",
       "prompt_number": 130,
       "text": [
        "-43202155.13354639"
       ]
      }
     ],
     "prompt_number": 130
    },
    {
     "cell_type": "code",
     "collapsed": false,
     "input": [
      "perplexity = np.exp(-logLikely / np.sum(W.data))\n",
      "perplexity"
     ],
     "language": "python",
     "metadata": {},
     "outputs": [
      {
       "metadata": {},
       "output_type": "pyout",
       "prompt_number": 131,
       "text": [
        "1439.4165971939747"
       ]
      }
     ],
     "prompt_number": 131
    },
    {
     "cell_type": "code",
     "collapsed": false,
     "input": [],
     "language": "python",
     "metadata": {},
     "outputs": []
    },
    {
     "cell_type": "markdown",
     "metadata": {},
     "source": [
      "### The Table of Word Distributions Per Topic"
     ]
    },
    {
     "cell_type": "code",
     "collapsed": false,
     "input": [],
     "language": "python",
     "metadata": {},
     "outputs": []
    },
    {
     "cell_type": "code",
     "collapsed": false,
     "input": [
      "h = createTopicsTable(d, a_model.vocab, count=30)\n",
      "h"
     ],
     "language": "python",
     "metadata": {},
     "outputs": []
    },
    {
     "cell_type": "markdown",
     "metadata": {},
     "source": [
      "## Our Topic Model with Features Inferring Topics per tweet.\n",
      "\n",
      "In this run we assume that the dimension of the latent space $P=100$, from a total feature-space of $F=427$. We infer $K=30$ topics for over 600,000 tweets from nearly 350 users."
     ]
    },
    {
     "cell_type": "code",
     "collapsed": false,
     "input": [
      "import model\n",
      "\n",
      "import pickle as pkl\n",
      "with open(\"/Users/bryanfeeney/Desktop/test_result_real.pkl\", \"rb\") as f:\n",
      "    (t_model, t_query) = pkl.load(f)\n",
      "\n",
      "(t_model.P, t_model.K)"
     ],
     "language": "python",
     "metadata": {},
     "outputs": []
    },
    {
     "cell_type": "markdown",
     "metadata": {},
     "source": [
      "### Evolution of the Variational Bound"
     ]
    },
    {
     "cell_type": "code",
     "collapsed": false,
     "input": [
      "Image(filename=\"/Users/bryanfeeney/Desktop/real_stm_bound.png\")"
     ],
     "language": "python",
     "metadata": {},
     "outputs": []
    },
    {
     "cell_type": "markdown",
     "metadata": {},
     "source": [
      "### Inferred Variance and Topic Means\n",
      "Next we display the _diagonal_ covariance over topics. We've forced this to be diagonal for performance reasons, but not isotropic. Nevertheless there is little difference in the variances around the different topic estimates."
     ]
    },
    {
     "cell_type": "code",
     "collapsed": false,
     "input": [
      "fig, ax = plt.subplots(figsize=(11,9))\n",
      "\n",
      "im = plt.imshow(t_model.sigT, interpolation=\"none\")\n",
      "\n",
      "cb = fig.colorbar(im, ax=ax)\n",
      "ax.set_title(\"Covariance Matrix\")"
     ],
     "language": "python",
     "metadata": {},
     "outputs": []
    },
    {
     "cell_type": "markdown",
     "metadata": {},
     "source": [
      "Next we try to visually display the topic distributions for a few known users. The first user, \"FakeFernando\" follows formula one racing, and also pop-culture. For brevity we only plot a subset. Note that tweets are read in, and therefore processed, in chronological order, so we can view tweet distribution change over time."
     ]
    },
    {
     "cell_type": "code",
     "collapsed": false,
     "input": [
      "from util.array_utils import rowwise_softmax"
     ],
     "language": "python",
     "metadata": {},
     "outputs": []
    },
    {
     "cell_type": "code",
     "collapsed": false,
     "input": [
      "fakeFernandoFlags   = np.squeeze(np.asarray(X_U[:,users.index(\"FakeFernando\")].todense()))\n",
      "fakeFernandosTweets = np.where(fakeFernandoFlags == 1)\n",
      "fakeFernandosDist = rowwise_softmax((t_query.means[fakeFernandosTweets,:])[0])\n",
      "fakeFernandosDistSubset = fakeFernandosDist[0:200,:]\n",
      "\n",
      "fig, ax = plt.subplots(figsize=(10,20))\n",
      "\n",
      "im = plt.imshow(fakeFernandosDistSubset, interpolation=\"none\")\n",
      "\n",
      "cb = fig.colorbar(im, ax=ax)\n",
      "ax.set_title(\"FakeFernando's Tweets Matrix\")"
     ],
     "language": "python",
     "metadata": {},
     "outputs": []
    },
    {
     "cell_type": "code",
     "collapsed": false,
     "input": [
      "fakeFernandosDist.shape"
     ],
     "language": "python",
     "metadata": {},
     "outputs": []
    },
    {
     "cell_type": "markdown",
     "metadata": {},
     "source": [
      "At first glance the above distribution looks interesting, until we see the scale and realise that it's almost entirely uniform with a few exceptions. The tweets are processed in chronological order, so the changes in topic distribution are occurring over time.\n",
      "\n",
      "The America Civil Liberies Union (ACLU) campaigns for various US related causes, and during this time was particularly engaged with women's rights, which were in the news over this period. For reasons of space we just consider a few of their tweets."
     ]
    },
    {
     "cell_type": "code",
     "collapsed": false,
     "input": [
      "acluFlags   = np.squeeze(np.asarray(X_U[:,users.index(\"ACLU\")].todense()))\n",
      "aclusTweets = np.where(acluFlags == 1)\n",
      "aclusDist = rowwise_softmax((t_query.means[aclusTweets,:])[0])\n",
      "aclusDistSubset = aclusDist[300:500,:]\n",
      "\n",
      "fig, ax = plt.subplots(figsize=(10,20))\n",
      "\n",
      "im = plt.imshow(aclusDistSubset, interpolation=\"none\")\n",
      "\n",
      "cb = fig.colorbar(im, ax=ax)\n",
      "ax.set_title(\"ACLU's Tweets Matrix\")"
     ],
     "language": "python",
     "metadata": {},
     "outputs": []
    },
    {
     "cell_type": "code",
     "collapsed": false,
     "input": [
      "aclusDist.shape"
     ],
     "language": "python",
     "metadata": {},
     "outputs": []
    },
    {
     "cell_type": "code",
     "collapsed": false,
     "input": [
      "h =  createTopicsTable(d, t_model.vocab, count=100)\n",
      "h"
     ],
     "language": "python",
     "metadata": {},
     "outputs": []
    },
    {
     "cell_type": "markdown",
     "metadata": {},
     "source": [
      "###\u00a0Posterior Covariance of the Latent Space"
     ]
    },
    {
     "cell_type": "code",
     "collapsed": false,
     "input": [
      "\n",
      "fig, ax = plt.subplots(figsize=(10,12))\n",
      "\n",
      "im = plt.imshow(t_model.R_Y, interpolation=\"none\")\n",
      "\n",
      "cb = fig.colorbar(im, ax=ax)\n",
      "ax.set_title(\"Posterior Covariance of the Latent Feature Space\")"
     ],
     "language": "python",
     "metadata": {},
     "outputs": []
    },
    {
     "cell_type": "markdown",
     "metadata": {},
     "source": [
      "### Posterior Covariance of the Full Feature Space"
     ]
    },
    {
     "cell_type": "code",
     "collapsed": false,
     "input": [
      "fig, ax = plt.subplots(figsize=(14,16))\n",
      "\n",
      "im = plt.imshow(t2_model.R_A, interpolation=\"none\")\n",
      "\n",
      "cb = fig.colorbar(im, ax=ax)\n",
      "ax.set_title(\"Posterior Covariance of the Feature Space\")"
     ],
     "language": "python",
     "metadata": {},
     "outputs": []
    },
    {
     "cell_type": "markdown",
     "metadata": {},
     "source": [
      "## A Second Run of Our Topic Model with Features Inferring Topics per tweet.\n",
      "\n",
      "In this run we assume that the dimension of the latent space $P=30$, from a total feature-space of $F=427$. We infer $K=10$ topics for over 600,000 tweets from nearly 350 users."
     ]
    },
    {
     "cell_type": "code",
     "collapsed": false,
     "input": [
      "import model\n",
      "\n",
      "import pickle as pkl\n",
      "with open(\"/Users/bryanfeeney/Desktop/test_result_real_p30_k10.pkl\", \"rb\") as f:\n",
      "    (t2_model, t2_query) = pkl.load(f)\n",
      "\n",
      "(t2_model.P, t2_model.K)"
     ],
     "language": "python",
     "metadata": {},
     "outputs": []
    },
    {
     "cell_type": "markdown",
     "metadata": {},
     "source": [
      "### Evolution of the Variational Bound"
     ]
    },
    {
     "cell_type": "code",
     "collapsed": false,
     "input": [
      "Image(filename=\"/Users/bryanfeeney/Desktop/real_stm_bound_p30_k10.png\")"
     ],
     "language": "python",
     "metadata": {},
     "outputs": []
    },
    {
     "cell_type": "markdown",
     "metadata": {},
     "source": [
      "### Inferred Variance and Topic Means\n",
      "Next we display the _diagonal_ covariance over topics. We've forced this to be diagonal for performance reasons, but not isotropic. Nevertheless there is little difference in the variances around the different topic estimates."
     ]
    },
    {
     "cell_type": "code",
     "collapsed": false,
     "input": [
      "fig, ax = plt.subplots(figsize=(11,9))\n",
      "\n",
      "im = plt.imshow(t2_model.sigT, interpolation=\"none\")\n",
      "\n",
      "cb = fig.colorbar(im, ax=ax)\n",
      "ax.set_title(\"Covariance Matrix\")"
     ],
     "language": "python",
     "metadata": {},
     "outputs": []
    },
    {
     "cell_type": "markdown",
     "metadata": {},
     "source": [
      "Next we try to visually display the topic distributions for a few known users. The first user, \"FakeFernando\" follows formula one racing, and also pop-culture. For brevity we only plot a subset. Note that tweets are read in, and therefore processed, in chronological order, so we can view tweet distribution change over time."
     ]
    },
    {
     "cell_type": "code",
     "collapsed": false,
     "input": [
      "fakeFernandoFlags   = np.squeeze(np.asarray(X_U[:,users.index(\"FakeFernando\")].todense()))\n",
      "fakeFernandosTweets = np.where(fakeFernandoFlags == 1)\n",
      "fakeFernandosDist = rowwise_softmax((t2_query.means[fakeFernandosTweets,:])[0])\n",
      "fakeFernandosDistSubset = fakeFernandosDist[0:200,:]\n",
      "\n",
      "fig, ax = plt.subplots(figsize=(10,35))\n",
      "\n",
      "im = plt.imshow(fakeFernandosDistSubset, interpolation=\"none\")\n",
      "\n",
      "cb = fig.colorbar(im, ax=ax)\n",
      "ax.set_title(\"FakeFernando's Tweets Matrix\")"
     ],
     "language": "python",
     "metadata": {},
     "outputs": []
    },
    {
     "cell_type": "markdown",
     "metadata": {},
     "source": [
      "This is much more differentiated than before with $P=100$ and $K=10$"
     ]
    },
    {
     "cell_type": "code",
     "collapsed": false,
     "input": [
      "acluFlags   = np.squeeze(np.asarray(X_U[:,users.index(\"ACLU\")].todense()))\n",
      "aclusTweets = np.where(acluFlags == 1)\n",
      "aclusDist = rowwise_softmax((t2_query.means[aclusTweets,:])[0])\n",
      "aclusDistSubset = aclusDist[300:500,:]\n",
      "\n",
      "fig, ax = plt.subplots(figsize=(10,35))\n",
      "\n",
      "im = plt.imshow(aclusDistSubset, interpolation=\"none\")\n",
      "\n",
      "cb = fig.colorbar(im, ax=ax)\n",
      "ax.set_title(\"ACLU's Tweets Matrix\")"
     ],
     "language": "python",
     "metadata": {},
     "outputs": []
    },
    {
     "cell_type": "markdown",
     "metadata": {},
     "source": [
      "Note that topic 5 is closely related to politics"
     ]
    },
    {
     "cell_type": "code",
     "collapsed": false,
     "input": [
      "h =  createTopicsTable(d, t2_model.vocab, count=100)\n",
      "h"
     ],
     "language": "python",
     "metadata": {},
     "outputs": []
    },
    {
     "cell_type": "markdown",
     "metadata": {},
     "source": [
      "### Inferred Low-Rank Feature Covariance"
     ]
    },
    {
     "cell_type": "code",
     "collapsed": false,
     "input": [
      "\n",
      "fig, ax = plt.subplots(figsize=(10,12))\n",
      "\n",
      "im = plt.imshow(t2_model.R_Y, interpolation=\"none\")\n",
      "\n",
      "cb = fig.colorbar(im, ax=ax)\n",
      "ax.set_title(\"Posterior Covariance of the Latent Feature Space\")"
     ],
     "language": "python",
     "metadata": {},
     "outputs": []
    },
    {
     "cell_type": "markdown",
     "metadata": {},
     "source": [
      "### Inferred Full-Rank Feature Covariance\n"
     ]
    },
    {
     "cell_type": "code",
     "collapsed": false,
     "input": [
      "fig, ax = plt.subplots(figsize=(14,16))\n",
      "\n",
      "im = plt.imshow(t2_model.R_A, interpolation=\"none\")\n",
      "\n",
      "cb = fig.colorbar(im, ax=ax)\n",
      "ax.set_title(\"Posterior Covariance of the Feature Space\")"
     ],
     "language": "python",
     "metadata": {},
     "outputs": []
    },
    {
     "cell_type": "markdown",
     "metadata": {},
     "source": [
      "# Investigating the Strange Posterior Covariance of X"
     ]
    },
    {
     "cell_type": "code",
     "collapsed": false,
     "input": [
      "X.dtype\n",
      "Xf = X.astype(np.float32)\n",
      "\n",
      "S = Xf.T.dot(Xf)"
     ],
     "language": "python",
     "metadata": {},
     "outputs": []
    },
    {
     "cell_type": "markdown",
     "metadata": {},
     "source": [
      "So one thing to note is that there were more slots allowed for users in the matrix than were actually taken up. This was just due to certain users not having any valid (more than three word) tweets, or not tweeting at all. We can see the difference by comparing the feature offsets (users start at 0) with the actual size of the users dictionary"
     ]
    },
    {
     "cell_type": "code",
     "collapsed": false,
     "input": [
      "feats"
     ],
     "language": "python",
     "metadata": {},
     "outputs": []
    },
    {
     "cell_type": "code",
     "collapsed": false,
     "input": [
      "len(users)"
     ],
     "language": "python",
     "metadata": {},
     "outputs": []
    },
    {
     "cell_type": "markdown",
     "metadata": {},
     "source": [
      "With that in mind we can focus on the variables which are simply related to time (week and month)"
     ]
    },
    {
     "cell_type": "code",
     "collapsed": false,
     "input": [
      "X_time = X[:,398:X.shape[1]].astype(np.float32).todense()"
     ],
     "language": "python",
     "metadata": {},
     "outputs": []
    },
    {
     "cell_type": "code",
     "collapsed": false,
     "input": [
      "fig, ax = plt.subplots(figsize=(14,16))\n",
      "\n",
      "im = plt.imshow(X_time.T.dot(X_time), interpolation=\"none\")\n",
      "\n",
      "cb = fig.colorbar(im, ax=ax)\n",
      "ax.set_title(\"Time Feature Covariance\")"
     ],
     "language": "python",
     "metadata": {},
     "outputs": []
    },
    {
     "cell_type": "markdown",
     "metadata": {},
     "source": [
      "This is the oddly shaped square at the bottom of the overall covariance plot. Obviously there are a little over four weeks per month whic overloap. The strange boxy colours seem just to be due to image aliasing artefacts"
     ]
    },
    {
     "cell_type": "markdown",
     "metadata": {},
     "source": [
      "# CTM With the Bohning Bound"
     ]
    },
    {
     "cell_type": "code",
     "collapsed": false,
     "input": [],
     "language": "python",
     "metadata": {},
     "outputs": []
    }
   ],
   "metadata": {}
  }
 ]
}