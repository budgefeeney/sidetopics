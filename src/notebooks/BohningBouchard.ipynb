{
 "metadata": {
  "name": ""
 },
 "nbformat": 3,
 "nbformat_minor": 0,
 "worksheets": [
  {
   "cells": [
    {
     "cell_type": "markdown",
     "metadata": {},
     "source": [
      "# Abstract\n",
      "This compares implementations of CTM  with the Bouchard and the Bohning bound. We present evolution of the likelihood, topic assignments, topic tables and perplexity scores, for a single configuration (20 topics)\n",
      "\n",
      "Results for the \"UTM\" bound will follow, hopefully later this evening."
     ]
    },
    {
     "cell_type": "markdown",
     "metadata": {},
     "source": [
      "# Prelude"
     ]
    },
    {
     "cell_type": "code",
     "collapsed": false,
     "input": [
      "import sys\n",
      "\n",
      "path = \"/Users/bryanfeeney/Desktop/SmallerDB-NoCJK-WithFeats-Fixed\"\n",
      "codePath = \"/Users/bryanfeeney/Workspace/sidetopics/src\"\n",
      "reconstructSparse=False\n",
      "\n",
      "sys.path.append(codePath)\n",
      "%run /Users/bryanfeeney/Desktop/SmallerDB-NoCJK-WithFeats-Fixed/dicts.py"
     ],
     "language": "python",
     "metadata": {},
     "outputs": [],
     "prompt_number": 2
    },
    {
     "cell_type": "code",
     "collapsed": false,
     "input": [
      "import numpy as np\n",
      "import numpy.random as rd\n",
      "import scipy as sp\n",
      "import scipy.sparse as ssp\n",
      "import scipy.linalg as la\n",
      "import scipy.sparse.linalg as sla\n",
      "import matplotlib.pyplot as plt\n",
      "import matplotlib.cm as cm\n",
      "import pickle as pkl\n",
      "\n",
      "from math import log, pi, exp\n",
      "\n",
      "rd.seed(0xC0FFEE)\n",
      "\n",
      "%load_ext cythonmagic\n",
      "%matplotlib inline"
     ],
     "language": "python",
     "metadata": {},
     "outputs": [],
     "prompt_number": 3
    },
    {
     "cell_type": "markdown",
     "metadata": {},
     "source": [
      "# Dataset and Configuration"
     ]
    },
    {
     "cell_type": "code",
     "collapsed": false,
     "input": [
      "tweeterTopicPath = path + \"/words-by-author.pkl\"\n",
      "\n",
      "with open (tweeterTopicPath, 'rb') as f:\n",
      "    user_dict, _, W_U = pkl.load(f)"
     ],
     "language": "python",
     "metadata": {},
     "outputs": [],
     "prompt_number": 4
    },
    {
     "cell_type": "markdown",
     "metadata": {},
     "source": [
      "## Useful functions"
     ]
    },
    {
     "cell_type": "code",
     "collapsed": false,
     "input": [
      "from IPython.display import HTML\n",
      "from IPython.display import Latex\n",
      "from IPython.display import Image"
     ],
     "language": "python",
     "metadata": {},
     "outputs": [],
     "prompt_number": 4
    },
    {
     "cell_type": "code",
     "collapsed": false,
     "input": [
      "def normalize_rows_ip(matrix):\n",
      "    '''\n",
      "    Normalizes the rows of the matrix in-place, ovewriting\n",
      "    the previous values\n",
      "    '''\n",
      "    row_sums  = matrix.sum(axis=1)\n",
      "    matrix   /= row_sums[:, np.newaxis]\n",
      "    return matrix\n",
      "\n"
     ],
     "language": "python",
     "metadata": {},
     "outputs": [],
     "prompt_number": 5
    },
    {
     "cell_type": "code",
     "collapsed": false,
     "input": [
      "def printTopics(wordDict, vocab, count=10):\n",
      "    words = vocab.argsort()[-count:][::-1]\n",
      "    for wordIdx in words:\n",
      "        print(\"%5.3f - %s\" % (vocab[wordIdx], wordDict[wordIdx]))\n",
      "    print(\"\")\n",
      "  \n",
      "# Create a nice number of table cells first for each topic\n",
      "# (including padding with &nbsp; cells\n",
      "# then iterate through and add to table, safe in the knowledge\n",
      "# that there's the expected number of cells\n",
      "    \n",
      "def createTopicsTable(wordDict, vocabs, count=10):\n",
      "    MaxWordLen   = 10\n",
      "    K,V = vocabs.shape\n",
      "    \n",
      "    tab = \"<table border=1 style='font-size: 10px'>\"\n",
      "    for k in range(K):\n",
      "        vocab = vocabs[k,:]\n",
      "        popularWordIndices = vocab.argsort()[-count:][::-1]\n",
      "        tab += \"<tr><th rowspan=2>Topic \" + str(k) + \"</th>\"\n",
      "        tab += \"<td>\" + \"</td><td>\".join(d[w][:MaxWordLen] for w in popularWordIndices) + \"</td></tr>\"\n",
      "        tab += \"<tr><td>\" + \"</td><td>\".join(\"%5.3f\" % vocab[w] for w in popularWordIndices) + \"</td></tr>\"\n",
      "      \n",
      "    tab += \"</table>\"\n",
      "    return HTML(tab)\n"
     ],
     "language": "python",
     "metadata": {},
     "outputs": [],
     "prompt_number": 6
    },
    {
     "cell_type": "markdown",
     "metadata": {},
     "source": [
      "# Model Results"
     ]
    },
    {
     "cell_type": "code",
     "collapsed": false,
     "input": [
      "import model\n",
      "from util.sigmoid_utils import rowwise_softmax"
     ],
     "language": "python",
     "metadata": {},
     "outputs": [],
     "prompt_number": 5
    },
    {
     "cell_type": "markdown",
     "metadata": {},
     "source": [
      "## Correlated Topic Model with Bohning Bound"
     ]
    },
    {
     "cell_type": "code",
     "collapsed": false,
     "input": [
      "with open(\"/Users/bryanfeeney/Desktop/author_ctm_result.pkl\", \"rb\") as f:\n",
      "    (a_model, a_query) = pkl.load(f)"
     ],
     "language": "python",
     "metadata": {},
     "outputs": [],
     "prompt_number": 8
    },
    {
     "cell_type": "markdown",
     "metadata": {},
     "source": [
      "### Model Configuration"
     ]
    },
    {
     "cell_type": "code",
     "collapsed": false,
     "input": [
      "# Number of topics\n",
      "a_model.K"
     ],
     "language": "python",
     "metadata": {},
     "outputs": [
      {
       "metadata": {},
       "output_type": "pyout",
       "prompt_number": 9,
       "text": [
        "20"
       ]
      }
     ],
     "prompt_number": 9
    },
    {
     "cell_type": "markdown",
     "metadata": {},
     "source": [
      "### Evolution of the Variational Bound\n",
      "I'm still not sure why there's a dip in the first few iterations. The updates which cause a dip are the vocabularly and the posterior means. Note the extremely large number of iterations, in the past with, e.g. LDA, CTM/Bouchard, I've only ever needed a few hundred iterations before things levelled off."
     ]
    },
    {
     "cell_type": "code",
     "collapsed": false,
     "input": [
      "Image(\"/Users/bryanfeeney/Desktop/ctm_bohning.png\")"
     ],
     "language": "python",
     "metadata": {},
     "outputs": [
      {
       "metadata": {},
       "output_type": "pyout",
       "png": "[encoded data removed]",
       "prompt_number": 10,
       "text": [
        "<IPython.core.display.Image at 0x114a26110>"
       ]
      }
     ],
     "prompt_number": 10
    },
    {
     "cell_type": "markdown",
     "metadata": {},
     "source": [
      "### Log Likelihood and Perplexity\n",
      "I've done this long-hand in case you want to double-check the results.\n",
      "\n",
      "The implementation here is actually pretty suboptimal as it materializes a _dense_ reconstruction of the document-term matrix. The approach in the actual code avoids doing this and is a lot more efficient (and so scales to larger matrices)"
     ]
    },
    {
     "cell_type": "code",
     "collapsed": false,
     "input": [
      "W_U_recons = rowwise_softmax(a_query.means).dot(a_model.vocab)\n",
      "logLikely = np.sum(W_U.astype(np.float64).multiply (np.log(W_U_recons))) \n",
      "logLikely   # \"multiply\" method implements the hadamard product"
     ],
     "language": "python",
     "metadata": {},
     "outputs": [
      {
       "metadata": {},
       "output_type": "pyout",
       "prompt_number": 11,
       "text": [
        "-43202155.13354639"
       ]
      }
     ],
     "prompt_number": 11
    },
    {
     "cell_type": "code",
     "collapsed": false,
     "input": [
      "perplexity = np.exp(-logLikely / np.sum(W_U.data))\n",
      "perplexity"
     ],
     "language": "python",
     "metadata": {},
     "outputs": [
      {
       "metadata": {},
       "output_type": "pyout",
       "prompt_number": 12,
       "text": [
        "1439.4165971939747"
       ]
      }
     ],
     "prompt_number": 12
    },
    {
     "cell_type": "markdown",
     "metadata": {},
     "source": [
      "### Topic Assignments\n",
      "The table of topic words is in an Excel spreadsheet that should accompany this document\n",
      "\n",
      "In creating the test dataset I took users corresponding to certain groups (e.g. US politics, tennis, F1 racing, beer enthusiasts) and and collected all their tweets. These were then condensed so that there was one document per author. \n",
      "\n",
      "The point is users from groups are clumped together contiguously, and you can just about see this in the plot below, as we have vertical lines corresponding to all users in a single group being assigned a single topic.\n",
      "\n",
      "Obviously it would probably help inference if I randomly re-ordered this - I'd forgotten it was ordered until I'd seen the plot"
     ]
    },
    {
     "cell_type": "code",
     "collapsed": false,
     "input": [
      "dist = rowwise_softmax(a_query.means)\n",
      "fig, ax = plt.subplots(figsize=(10,35))\n",
      "\n",
      "im = plt.imshow(dist, interpolation=\"none\")\n",
      "\n",
      "cb = fig.colorbar(im, ax=ax)\n",
      "ax.set_title(\"Means Matrix\")"
     ],
     "language": "python",
     "metadata": {},
     "outputs": [
      {
       "ename": "NameError",
       "evalue": "name 'a_query' is not defined",
       "output_type": "pyerr",
       "traceback": [
        "\u001b[0;31m---------------------------------------------------------------------------\u001b[0m\n\u001b[0;31mNameError\u001b[0m                                 Traceback (most recent call last)",
        "\u001b[0;32m<ipython-input-15-443ef66a8215>\u001b[0m in \u001b[0;36m<module>\u001b[0;34m()\u001b[0m\n\u001b[0;32m----> 1\u001b[0;31m \u001b[0mdist\u001b[0m \u001b[0;34m=\u001b[0m \u001b[0mrowwise_softmax\u001b[0m\u001b[0;34m(\u001b[0m\u001b[0ma_query\u001b[0m\u001b[0;34m.\u001b[0m\u001b[0mmeans\u001b[0m\u001b[0;34m)\u001b[0m\u001b[0;34m\u001b[0m\u001b[0m\n\u001b[0m\u001b[1;32m      2\u001b[0m \u001b[0mfig\u001b[0m\u001b[0;34m,\u001b[0m \u001b[0max\u001b[0m \u001b[0;34m=\u001b[0m \u001b[0mplt\u001b[0m\u001b[0;34m.\u001b[0m\u001b[0msubplots\u001b[0m\u001b[0;34m(\u001b[0m\u001b[0mfigsize\u001b[0m\u001b[0;34m=\u001b[0m\u001b[0;34m(\u001b[0m\u001b[0;36m10\u001b[0m\u001b[0;34m,\u001b[0m\u001b[0;36m35\u001b[0m\u001b[0;34m)\u001b[0m\u001b[0;34m)\u001b[0m\u001b[0;34m\u001b[0m\u001b[0m\n\u001b[1;32m      3\u001b[0m \u001b[0;34m\u001b[0m\u001b[0m\n\u001b[1;32m      4\u001b[0m \u001b[0mim\u001b[0m \u001b[0;34m=\u001b[0m \u001b[0mplt\u001b[0m\u001b[0;34m.\u001b[0m\u001b[0mimshow\u001b[0m\u001b[0;34m(\u001b[0m\u001b[0mdist\u001b[0m\u001b[0;34m,\u001b[0m \u001b[0minterpolation\u001b[0m\u001b[0;34m=\u001b[0m\u001b[0;34m\"none\"\u001b[0m\u001b[0;34m)\u001b[0m\u001b[0;34m\u001b[0m\u001b[0m\n\u001b[1;32m      5\u001b[0m \u001b[0;34m\u001b[0m\u001b[0m\n",
        "\u001b[0;31mNameError\u001b[0m: name 'a_query' is not defined"
       ]
      }
     ],
     "prompt_number": 15
    },
    {
     "cell_type": "markdown",
     "metadata": {},
     "source": [
      "A few more things to note:\n",
      "\n",
      "1. Topics are indexed from 0, so topic 2 is the third topic\n",
      "2. Topic 2 is entirely occupied by a handful Spanish speaking tennis fans\n",
      "3. Topic 1 is a mostly a British train company called First Great Western and an American Airline. It places a comically high probability on words such as \"apologise\", \"delay\", \"signal\", \"fault\", \"problem\", \"disruption\" and \"hope\".\n",
      "4. There are a number of English-language Tennis topics: the one with most nouns (topic-10) is mostly professional reporters, but others, such as topic-16 and topic-17 seem to be more amateur fans\n",
      "\n",
      "A few examples are given below\n"
     ]
    },
    {
     "cell_type": "code",
     "collapsed": false,
     "input": [
      "def printTopTweeters(topicId, minProb=0.7):\n",
      "    print(\"\\n\".join(user_dict[uid] for uid in np.where(dist[:,topicId] > minProb)[0]))"
     ],
     "language": "python",
     "metadata": {},
     "outputs": [],
     "prompt_number": 14
    },
    {
     "cell_type": "code",
     "collapsed": false,
     "input": [
      "# Spanish Tennis\n",
      "printTopTweeters(topicId=2, minProb=0.7)"
     ],
     "language": "python",
     "metadata": {},
     "outputs": [
      {
       "output_type": "stream",
       "stream": "stdout",
       "text": [
        "Aalliende\n",
        "BreakPointBR\n",
        "LeTenisse\n",
        "MallerMarcelo\n",
        "MendezVega\n",
        "Pep_Guti\n"
       ]
      }
     ],
     "prompt_number": 15
    },
    {
     "cell_type": "code",
     "collapsed": false,
     "input": [
      "# Train Delays and American Airlines\n",
      "printTopTweeters(topicId=1, minProb=0.5)"
     ],
     "language": "python",
     "metadata": {},
     "outputs": [
      {
       "output_type": "stream",
       "stream": "stdout",
       "text": [
        "FGW\n",
        "AmericanAir\n"
       ]
      }
     ],
     "prompt_number": 16
    },
    {
     "cell_type": "code",
     "collapsed": false,
     "input": [
      "# Professional English Tennis Tweets\n",
      "printTopTweeters(topicId=10, minProb=0.7)"
     ],
     "language": "python",
     "metadata": {},
     "outputs": [
      {
       "output_type": "stream",
       "stream": "stdout",
       "text": [
        "BenRothenberg\n",
        "Adamdbain\n",
        "ESPNTennis\n",
        "GBtennis\n",
        "SI_BTBaseline\n",
        "Tennis_Belgium\n"
       ]
      }
     ],
     "prompt_number": 17
    },
    {
     "cell_type": "code",
     "collapsed": false,
     "input": [
      "# Amateur Tennis Fans 1\n",
      "printTopTweeters(topicId=16, minProb=0.7)"
     ],
     "language": "python",
     "metadata": {},
     "outputs": [
      {
       "output_type": "stream",
       "stream": "stdout",
       "text": [
        "A_Gallivant\n",
        "Ataraxis00\n",
        "ByJoeFleming\n",
        "MindTheRacket\n",
        "Ratazana\n",
        "SavannahsTennis\n",
        "StephintheUS\n",
        "TennisCoconut\n",
        "Tennisfan24\n",
        "TheGrandSlams\n"
       ]
      }
     ],
     "prompt_number": 18
    },
    {
     "cell_type": "code",
     "collapsed": false,
     "input": [
      "# Amateur Tennis Fans 2\n",
      "printTopTweeters(topicId=17, minProb=0.6)"
     ],
     "language": "python",
     "metadata": {},
     "outputs": [
      {
       "output_type": "stream",
       "stream": "stdout",
       "text": [
        "G2H_95\n",
        "JayJarrahi\n",
        "Jonirja\n"
       ]
      }
     ],
     "prompt_number": 19
    },
    {
     "cell_type": "markdown",
     "metadata": {},
     "source": [
      "### Mean and Covariance\n",
      "For reference the labels that could be assigned to topics based on their words would be\n",
      "\n",
      "* Topic 0\n",
      "* Topic 1 - Travel Delays\n",
      "* Topic 2 - Spanish Tennis\n",
      "* Topic 3 - Mideast?\n",
      "* Topic 4 - Markets\n",
      "* Topic 5\n",
      "* Topic 6 - US Sports\n",
      "* Topic 7 - US Politics\n",
      "* Topic 8\n",
      "* Topic 9\n",
      "* Topic 10 - Tennis News\n",
      "* Topic 11\n",
      "* Topic 12\n",
      "* Topic 13\n",
      "* Topic 14 - F1 / Movie\n",
      "* Topic 15 - Food/Travel\n",
      "* Topic 16 - Tennis Fan\n",
      "* Topic 17 - Tennis Fan Other\n",
      "* Topic 18\n",
      "* Topic 19 - Beer\n",
      "\n",
      "It's not obvious what some topics correspond to, however given that these \"mystery\" topics high prior probability (see below) it could be that the vocabularies of these topics represent styles of speech rather than semantic themes."
     ]
    },
    {
     "cell_type": "code",
     "collapsed": false,
     "input": [
      "mu = np.exp(a_model.topicMean)\n",
      "mu /= np.sum(mu)\n",
      "mu = mu.reshape(1, len(mu))\n",
      "\n",
      "fig, ax = plt.subplots(figsize=(10,3))\n",
      "\n",
      "im = plt.imshow(mu, interpolation=\"none\")\n",
      "\n",
      "cb = fig.colorbar(im, ax=ax)\n",
      "ax.set_title(\"Prior Mean Vector\")"
     ],
     "language": "python",
     "metadata": {},
     "outputs": [
      {
       "metadata": {},
       "output_type": "pyout",
       "prompt_number": 20,
       "text": [
        "<matplotlib.text.Text at 0x114ceec90>"
       ]
      },
      {
       "metadata": {},
       "output_type": "display_data",
       "png": "[encoded data removed]",
       "text": [
        "<matplotlib.figure.Figure at 0x114a26210>"
       ]
      }
     ],
     "prompt_number": 20
    },
    {
     "cell_type": "code",
     "collapsed": false,
     "input": [
      "# As integer percentages for readability\n",
      "(mu[0] * 100).astype(np.int32)"
     ],
     "language": "python",
     "metadata": {},
     "outputs": [
      {
       "metadata": {},
       "output_type": "pyout",
       "prompt_number": 21,
       "text": [
        "array([ 4,  3,  0,  2,  2,  2,  1,  4,  7, 14,  1,  4, 10,  4,  4,  2,  2,\n",
        "        2, 11,  8], dtype=int32)"
       ]
      }
     ],
     "prompt_number": 21
    },
    {
     "cell_type": "code",
     "collapsed": false,
     "input": [
      "fig, ax = plt.subplots(figsize=(11,9))\n",
      "\n",
      "im = plt.imshow(a_model.sigT, interpolation=\"none\")\n",
      "\n",
      "cb = fig.colorbar(im, ax=ax)\n",
      "ax.set_title(\"Covariance Matrix\")"
     ],
     "language": "python",
     "metadata": {},
     "outputs": [
      {
       "metadata": {},
       "output_type": "pyout",
       "prompt_number": 22,
       "text": [
        "<matplotlib.text.Text at 0x114d69490>"
       ]
      },
      {
       "metadata": {},
       "output_type": "display_data",
       "png": "[encoded data removed]",
       "text": [
        "<matplotlib.figure.Figure at 0x114d46390>"
       ]
      }
     ],
     "prompt_number": 22
    },
    {
     "cell_type": "markdown",
     "metadata": {},
     "source": [
      "## Correlated Topic Model with Bouchard Bound"
     ]
    },
    {
     "cell_type": "code",
     "collapsed": false,
     "input": [
      "with open(\"/Users/bryanfeeney/Desktop/test_result_real_p30_k10.pkl\", \"rb\") as f:\n",
      "    (b_model, b_query) = pkl.load(f)"
     ],
     "language": "python",
     "metadata": {},
     "outputs": [],
     "prompt_number": 6
    },
    {
     "cell_type": "markdown",
     "metadata": {},
     "source": [
      "### Model Configuration"
     ]
    },
    {
     "cell_type": "code",
     "collapsed": false,
     "input": [
      "# Number of topics, Size of latent space\n",
      "b_model.K, b_model.P"
     ],
     "language": "python",
     "metadata": {},
     "outputs": [
      {
       "metadata": {},
       "output_type": "pyout",
       "prompt_number": 7,
       "text": [
        "(10, 30)"
       ]
      }
     ],
     "prompt_number": 7
    },
    {
     "cell_type": "markdown",
     "metadata": {},
     "source": [
      "### Evolution of the Variational Bound\n",
      "As can be seen this drastically begins to fall off. The main culprit seems to be the update for the prior covariance. It fluctuates almost immediately, before ultimately collapsing. In this model s is allowed vary, but it does not continue unboundedly"
     ]
    },
    {
     "cell_type": "code",
     "collapsed": false,
     "input": [
      "# Minimum, Average, Standard-Deviation, Maximum\n",
      "b_query.s.min(), b_query.s.mean(), b_query.s.std(), b_query.s.max()"
     ],
     "language": "python",
     "metadata": {},
     "outputs": [
      {
       "ename": "AttributeError",
       "evalue": "'QueryState' object has no attribute 's'",
       "output_type": "pyerr",
       "traceback": [
        "\u001b[0;31m---------------------------------------------------------------------------\u001b[0m\n\u001b[0;31mAttributeError\u001b[0m                            Traceback (most recent call last)",
        "\u001b[0;32m<ipython-input-6-dd3f473d49de>\u001b[0m in \u001b[0;36m<module>\u001b[0;34m()\u001b[0m\n\u001b[1;32m      1\u001b[0m \u001b[0;31m# Minimum, Average, Standard-Deviation, Maximum\u001b[0m\u001b[0;34m\u001b[0m\u001b[0;34m\u001b[0m\u001b[0m\n\u001b[0;32m----> 2\u001b[0;31m \u001b[0mb_query\u001b[0m\u001b[0;34m.\u001b[0m\u001b[0ms\u001b[0m\u001b[0;34m.\u001b[0m\u001b[0mmin\u001b[0m\u001b[0;34m(\u001b[0m\u001b[0;34m)\u001b[0m\u001b[0;34m,\u001b[0m \u001b[0mb_query\u001b[0m\u001b[0;34m.\u001b[0m\u001b[0ms\u001b[0m\u001b[0;34m.\u001b[0m\u001b[0mmean\u001b[0m\u001b[0;34m(\u001b[0m\u001b[0;34m)\u001b[0m\u001b[0;34m,\u001b[0m \u001b[0mb_query\u001b[0m\u001b[0;34m.\u001b[0m\u001b[0ms\u001b[0m\u001b[0;34m.\u001b[0m\u001b[0mstd\u001b[0m\u001b[0;34m(\u001b[0m\u001b[0;34m)\u001b[0m\u001b[0;34m,\u001b[0m \u001b[0mb_query\u001b[0m\u001b[0;34m.\u001b[0m\u001b[0ms\u001b[0m\u001b[0;34m.\u001b[0m\u001b[0mmax\u001b[0m\u001b[0;34m(\u001b[0m\u001b[0;34m)\u001b[0m\u001b[0;34m\u001b[0m\u001b[0m\n\u001b[0m",
        "\u001b[0;31mAttributeError\u001b[0m: 'QueryState' object has no attribute 's'"
       ]
      }
     ],
     "prompt_number": 6
    },
    {
     "cell_type": "code",
     "collapsed": false,
     "input": [
      "Image(\"/Users/bryanfeeney/Desktop/ctm_bouchard_1000.png\")"
     ],
     "language": "python",
     "metadata": {},
     "outputs": [
      {
       "metadata": {},
       "output_type": "pyout",
       "png": "[encoded data removed]",
       "prompt_number": 253,
       "text": [
        "<IPython.core.display.Image at 0x119715c90>"
       ]
      }
     ],
     "prompt_number": 253
    },
    {
     "cell_type": "markdown",
     "metadata": {},
     "source": [
      "### Log Likelihood and Perplexity\n"
     ]
    },
    {
     "cell_type": "code",
     "collapsed": false,
     "input": [
      "W_U_recons = rowwise_softmax(b_query.means).dot(b_model.vocab)\n",
      "W_U_recons[W_U_recons < 1E-35] = 1E-35 #\u00a0safe log (float32)\n",
      "logLikely = np.sum(W_U.astype(np.float64).multiply (np.log(W_U_recons))) \n",
      "logLikely   # \"multiply\" method implements the hadamard product"
     ],
     "language": "python",
     "metadata": {},
     "outputs": [],
     "prompt_number": "*"
    },
    {
     "cell_type": "code",
     "collapsed": false,
     "input": [
      "perplexity = np.exp(-logLikely / np.sum(W_U.data))\n",
      "perplexity"
     ],
     "language": "python",
     "metadata": {},
     "outputs": [],
     "prompt_number": "*"
    },
    {
     "cell_type": "markdown",
     "metadata": {},
     "source": [
      "An interesting thing to note is that this is only 100 points greater than the perplexity with the Bohning bound, despite the fact that from manually eyeballing the results, the Bohning bound seems much better\n",
      "\n",
      "1. The Bohning bound topics are much more coherent, refering to a single semantic topic, whereas those for the Bouchard bound are an uncomfortably mix.\n",
      "  * For example the Bohning run gave separate topics for US Markets, US Politics and a few for Tennis, including one for Spanish-language Tennis. The Bouchard run has a single topic which is an unbelieveably mix of all these\n",
      "2. The Bouchard bound prefers hard assignments to topics, whereas the Bohning are soft. So it's just an awkward mixture model, with muddled topics \n",
      "\n",
      "I suppose I should consider whether my bound calcuation is indeed accurate or not?"
     ]
    },
    {
     "cell_type": "markdown",
     "metadata": {},
     "source": [
      "### Topic Assignments\n"
     ]
    },
    {
     "cell_type": "code",
     "collapsed": false,
     "input": [
      "with open(path + \"/words.pkl\", 'rb') as f:\n",
      "    W = pkl.load(f).astype(np.float64)\n",
      "with open(path + \"/side.pkl\", 'rb') as f:\n",
      "    X = pkl.load(f).astype(np.float64)\n",
      "\n",
      "X = X.todense()"
     ],
     "language": "python",
     "metadata": {},
     "outputs": [],
     "prompt_number": 8
    },
    {
     "cell_type": "code",
     "collapsed": false,
     "input": [
      "user_dict"
     ],
     "language": "python",
     "metadata": {},
     "outputs": [
      {
       "metadata": {},
       "output_type": "pyout",
       "prompt_number": 9,
       "text": [
        "['ACLU',\n",
        " 'AdvocatesTweets',\n",
        " 'AnnRichardsPlay',\n",
        " 'AskDrRuth',\n",
        " 'BabatundeUNFPA',\n",
        " 'Beyerstein',\n",
        " 'CLPPtweets',\n",
        " 'CecileRichards',\n",
        " 'ChrisCQuinn',\n",
        " 'ChrisCoons',\n",
        " 'ChrisMurphyCT',\n",
        " 'ConnieSchultz',\n",
        " 'CraryAP',\n",
        " 'DemGovs',\n",
        " 'DrNancyNBCNEWS',\n",
        " 'ElizabethBanks',\n",
        " 'ErinMcPike',\n",
        " 'ForbesWoman',\n",
        " 'FriendsofUNFPA',\n",
        " 'GOPChoice',\n",
        " 'GovMarkDayton',\n",
        " 'Guttmacher',\n",
        " 'HealthCareGov',\n",
        " 'HiltonHollis',\n",
        " 'HollandTaylor',\n",
        " 'HuffPostPol',\n",
        " 'IpasOrg',\n",
        " 'JessicaValenti',\n",
        " 'KofiAnnan',\n",
        " 'LatinoUSA',\n",
        " 'Latinos4PP',\n",
        " 'MHarrisPerry',\n",
        " 'MaryKayHenry',\n",
        " 'MoreMag',\n",
        " 'NARAL',\n",
        " 'HadleyFreeman',\n",
        " 'benschott',\n",
        " '247WallSt',\n",
        " '4Tanguay',\n",
        " '5280Magazine',\n",
        " '5_min_macro',\n",
        " 'ABWashBureau',\n",
        " 'APStylebook',\n",
        " 'A_F',\n",
        " 'Aalliende',\n",
        " 'AcrossTheCurve',\n",
        " 'Alan_Duerden',\n",
        " 'AlexAkesson',\n",
        " 'AmazonKDP',\n",
        " 'AmbassadorRoos',\n",
        " 'AnastasiadesCY',\n",
        " 'AndyHarless',\n",
        " 'AndyLangenkamp',\n",
        " 'AnnalynKurtz',\n",
        " 'AristidesHatzis',\n",
        " 'BChappatta',\n",
        " 'BDAmerica',\n",
        " 'BIConline',\n",
        " 'Bank_of_Japan_e',\n",
        " 'BeingRegulated',\n",
        " 'Benzinga',\n",
        " 'BergenCapital',\n",
        " 'BigBlueTent',\n",
        " 'BigJournalism',\n",
        " 'BlackRaven999',\n",
        " 'Blackhorse',\n",
        " 'EvelynRusli',\n",
        " 'Tim_Stevens',\n",
        " 'gte',\n",
        " 'DirtyWars',\n",
        " 'RollingStones',\n",
        " 'FilmCritHULK',\n",
        " 'Gary_Bainbridge',\n",
        " '3RiversBrewery',\n",
        " '4pawsbrewing',\n",
        " 'AGonzalezAquino',\n",
        " 'AbbeyStMartin',\n",
        " 'AlmanacBeer',\n",
        " 'AnarchyBrewCo',\n",
        " 'AnchorBrewing',\n",
        " 'ArgusBrewery',\n",
        " 'ArranBrewery',\n",
        " 'AtlasBrewing',\n",
        " 'BHB_brews',\n",
        " 'BeerAdvocate',\n",
        " 'BeerAndSoulBlog',\n",
        " 'BeerBods',\n",
        " 'BeerUnion',\n",
        " 'Beer_Disciples',\n",
        " 'Beer_Goddess',\n",
        " 'BeersIveKnown',\n",
        " 'Beertographer',\n",
        " 'Bierschenke',\n",
        " 'BlueBellHalkyn',\n",
        " 'BluffersGuide',\n",
        " 'BreckBrew',\n",
        " 'BrewDogBarDean',\n",
        " 'BrewEngland',\n",
        " 'Brewery85',\n",
        " 'BrianIsBeering',\n",
        " 'BubOhioBeer',\n",
        " 'BullCityBurger',\n",
        " 'ButcombeBrewery',\n",
        " 'ConistonBrewCo',\n",
        " 'CraftingANation',\n",
        " 'CromartyBrewing',\n",
        " 'DFDband',\n",
        " 'DailyBeerNews',\n",
        " 'Dryhopchicago',\n",
        " 'DueSouthBrewing',\n",
        " 'DukesJoint',\n",
        " 'EHobbz',\n",
        " 'EasyTigerATX',\n",
        " 'FGW',\n",
        " 'FallCreekWines',\n",
        " 'FiremansBrew',\n",
        " 'FirestoneWalker',\n",
        " 'ForumBooks',\n",
        " 'FullCircleBrews',\n",
        " 'GarrisonBrewing',\n",
        " 'Goats_Udder',\n",
        " 'Gordon_Biersch',\n",
        " '3_News',\n",
        " 'AbiePB',\n",
        " 'Amanda_Statham',\n",
        " 'AmyDavies',\n",
        " 'Arganic_UK',\n",
        " 'Ayngelina',\n",
        " 'BBCGoodFoodShow',\n",
        " 'Bea_John',\n",
        " 'Beergenie',\n",
        " 'Ben_Mulock',\n",
        " 'BertinetKitchen',\n",
        " 'Bosleypatch',\n",
        " 'BristolBites',\n",
        " 'BritAsparagus',\n",
        " 'BriteUK',\n",
        " 'BurtsChips',\n",
        " 'CaptGreybeard',\n",
        " 'CartmelSticky',\n",
        " 'CharlesYap',\n",
        " 'Chocoralie',\n",
        " 'CityJohn',\n",
        " 'CorkEveningEcho',\n",
        " 'CraneTV',\n",
        " 'CriticalCouple',\n",
        " 'CrumbsMag',\n",
        " 'DFergPR',\n",
        " 'DineHard',\n",
        " 'DoktorG',\n",
        " 'DominiqueAnsel',\n",
        " 'EastVillageLDN',\n",
        " 'Eater',\n",
        " 'EatingAsia',\n",
        " 'FelicitySpector',\n",
        " 'Finelychopped',\n",
        " 'FleurDeGuerre',\n",
        " 'Food52',\n",
        " 'FoodTravelCo',\n",
        " 'FoodUrchin',\n",
        " 'Foodandthefab',\n",
        " 'GinGarden',\n",
        " 'GingerPigLtd',\n",
        " 'GizziErskine',\n",
        " 'GoSeeWrite',\n",
        " 'Greatbigrobot',\n",
        " 'GuildFoodWriter',\n",
        " 'Henriettagraham',\n",
        " '49ers',\n",
        " 'ABeckr',\n",
        " 'ASE',\n",
        " 'AdamSerwer',\n",
        " 'AlAKleine',\n",
        " 'AlanFisher',\n",
        " 'Alancumming',\n",
        " 'AlbertoNardelli',\n",
        " 'AlexKoppelman',\n",
        " 'AlexSchriver',\n",
        " 'AlyWeisman',\n",
        " 'AmbShapiro',\n",
        " 'AmberLyon',\n",
        " 'Amber__McDonald',\n",
        " 'AmericanAir',\n",
        " 'American_Bridge',\n",
        " 'AndrewKirell',\n",
        " 'AnneBell',\n",
        " 'ArunRath',\n",
        " 'AshleyJudd',\n",
        " 'BenRothenberg',\n",
        " 'CeceliaJP',\n",
        " 'FortyDeuceTwits',\n",
        " '4SaferInternet',\n",
        " 'AAF',\n",
        " 'AFPhq',\n",
        " 'AFinnie',\n",
        " 'AHMalcolm',\n",
        " 'AaronBlakeWP',\n",
        " 'AaronMcCready',\n",
        " 'Aarongorn',\n",
        " 'AlanJSanders',\n",
        " 'AlexConant',\n",
        " 'AliBrown',\n",
        " 'AliceLinahan',\n",
        " 'AllenWest',\n",
        " 'AmandaCookWSB',\n",
        " 'AmericasRight',\n",
        " 'AndrewCMcCarthy',\n",
        " '99forever',\n",
        " 'AustinGrandPrix',\n",
        " 'Bix_Barton_SW6',\n",
        " 'Claudia05SV',\n",
        " 'Dinalli',\n",
        " 'Drivin4Pleasure',\n",
        " 'EJVISO',\n",
        " 'EliGP',\n",
        " 'EmBuxton',\n",
        " 'FakeDelRosario',\n",
        " 'FakeFernando',\n",
        " 'FakeMedicalCar',\n",
        " 'FakeTomita',\n",
        " 'GARSIDEK',\n",
        " 'GP2_Official',\n",
        " 'GP3_Official',\n",
        " 'GrandPrixDiary',\n",
        " 'IamLewis4fake',\n",
        " 'JacquesDebris',\n",
        " 'Jalopnik',\n",
        " 'Just_AP',\n",
        " 'LeighOGorman',\n",
        " 'LewisFranck',\n",
        " 'LordHumphreys',\n",
        " 'MauriceHamilton',\n",
        " 'MaxGraham',\n",
        " 'Mikeconway26',\n",
        " 'OfficialMinis',\n",
        " 'PippaMann',\n",
        " 'RacingLight',\n",
        " 'RyanEversley',\n",
        " '4AllSurfaces',\n",
        " '5livetennis',\n",
        " 'A_Gallivant',\n",
        " 'Adamdbain',\n",
        " 'Ataraxis00',\n",
        " 'BadToss',\n",
        " 'BreakPointBR',\n",
        " 'ByJoeFleming',\n",
        " 'ChrisSkelton87',\n",
        " 'DjFlowe',\n",
        " 'ESPNTennis',\n",
        " 'EleVenbyVenus',\n",
        " 'FitLen',\n",
        " 'G2H_95',\n",
        " 'GBtennis',\n",
        " 'JLR78',\n",
        " 'JamesLaRosa',\n",
        " 'JayJarrahi',\n",
        " 'Jonirja',\n",
        " 'Kamakshi_Tandon',\n",
        " 'LeTenisse',\n",
        " 'MallerMarcelo',\n",
        " 'MendezVega',\n",
        " 'MindTheRacket',\n",
        " 'MungoNGus',\n",
        " 'NYTSports',\n",
        " 'NailaJeanMeyers',\n",
        " 'Nic_Leigh',\n",
        " 'Pep_Guti',\n",
        " 'RD_Tennistalk',\n",
        " 'Ratazana',\n",
        " 'ReemAbulleil',\n",
        " 'RoadtoRG',\n",
        " 'RomiCvitkovic',\n",
        " 'Rossana_Capo',\n",
        " 'SI_BTBaseline',\n",
        " 'SavannahsTennis',\n",
        " 'StephintheUS',\n",
        " 'TennisCoconut',\n",
        " 'Tennis_Belgium',\n",
        " 'Tennisfan24',\n",
        " 'TheBigLead',\n",
        " 'TheBoiledEgg',\n",
        " 'TheGrandSlams',\n",
        " 'TheShiftyShadow',\n",
        " 'AlisonAgosti',\n",
        " 'BenRiceM',\n",
        " 'BodyofBreen',\n",
        " 'Clarko',\n",
        " 'DadBoner',\n",
        " 'DavidWondrich',\n",
        " 'EamonLeonard',\n",
        " 'FeinsandNYDN',\n",
        " 'Heilemann',\n",
        " 'JasonNark',\n",
        " 'JimGaffigan',\n",
        " 'KeithOlbermann',\n",
        " 'MacSparky',\n",
        " 'MikeWho',\n",
        " 'PolarBearFarm',\n",
        " 'RubenBolling',\n",
        " 'SweatingCommas',\n",
        " 'TheProdigalFool',\n",
        " 'andybudd',\n",
        " 'antichrista',\n",
        " 'askvirginia',\n",
        " 'aza',\n",
        " 'baseball_ref',\n",
        " 'billba',\n",
        " 'caseyliss',\n",
        " 'cbarrett',\n",
        " 'chartier',\n",
        " 'cjse',\n",
        " 'comex',\n",
        " 'ctp',\n",
        " 'danielpunkass',\n",
        " 'dansdata',\n",
        " 'davedelong',\n",
        " 'dermdaly',\n",
        " 'dlpasco',\n",
        " 'dozba',\n",
        " 'drbarnard',\n",
        " 'drdrang',\n",
        " 'dwiskus',\n",
        " 'fchimero',\n",
        " 'gregminton',\n",
        " 'halfliterate']"
       ]
      }
     ],
     "prompt_number": 9
    },
    {
     "cell_type": "code",
     "collapsed": false,
     "input": [
      "user = \"FakeFernando\"\n",
      "uid  = users.index(user)\n",
      "uid"
     ],
     "language": "python",
     "metadata": {},
     "outputs": [
      {
       "metadata": {},
       "output_type": "pyout",
       "prompt_number": 42,
       "text": [
        "253"
       ]
      }
     ],
     "prompt_number": 42
    },
    {
     "cell_type": "code",
     "collapsed": false,
     "input": [
      "userTweets = np.squeeze(np.asarray(np.where(X[:,uid] == 1)[0]))\n",
      "len(userTweets)"
     ],
     "language": "python",
     "metadata": {},
     "outputs": [
      {
       "metadata": {},
       "output_type": "pyout",
       "prompt_number": 43,
       "text": [
        "3036"
       ]
      }
     ],
     "prompt_number": 43
    },
    {
     "cell_type": "code",
     "collapsed": false,
     "input": [
      "dist = rowwise_softmax(b_query.means)"
     ],
     "language": "python",
     "metadata": {},
     "outputs": [],
     "prompt_number": 44
    },
    {
     "cell_type": "code",
     "collapsed": false,
     "input": [
      "dist[userTweets,:]"
     ],
     "language": "python",
     "metadata": {},
     "outputs": [
      {
       "metadata": {},
       "output_type": "pyout",
       "prompt_number": 45,
       "text": [
        "array([[ 0.02611808,  0.14991556,  0.05734526, ...,  0.09802914,\n",
        "         0.02431978,  0.44617019],\n",
        "       [ 0.03366694,  0.13315123,  0.12993129, ...,  0.06455259,\n",
        "         0.08010437,  0.29203191],\n",
        "       [ 0.09962627,  0.12438744,  0.10904506, ...,  0.09171673,\n",
        "         0.03892663,  0.12035826],\n",
        "       ..., \n",
        "       [ 0.06062049,  0.1880682 ,  0.12120459, ...,  0.08733883,\n",
        "         0.02744696,  0.25594227],\n",
        "       [ 0.04568383,  0.16301033,  0.17429997, ...,  0.09965639,\n",
        "         0.03627844,  0.23931289],\n",
        "       [ 0.03523755,  0.17160884,  0.21736275, ...,  0.10564539,\n",
        "         0.02907457,  0.09063461]])"
       ]
      }
     ],
     "prompt_number": 45
    },
    {
     "cell_type": "code",
     "collapsed": false,
     "input": [
      "dist = rowwise_softmax(b_query.means)\n",
      "fig, ax = plt.subplots(figsize=(10,10))\n",
      "\n",
      "im = plt.imshow(dist[userTweets[1000:1100],:], interpolation=\"none\")\n",
      "\n",
      "cb = fig.colorbar(im, ax=ax)\n",
      "ax.set_title(\"Means Matrix\")"
     ],
     "language": "python",
     "metadata": {},
     "outputs": [
      {
       "metadata": {},
       "output_type": "pyout",
       "prompt_number": 50,
       "text": [
        "<matplotlib.text.Text at 0x10e58efd0>"
       ]
      },
      {
       "metadata": {},
       "output_type": "display_data",
       "png": "[encoded data removed]",
       "text": [
        "<matplotlib.figure.Figure at 0x10bcf0f50>"
       ]
      }
     ],
     "prompt_number": 50
    },
    {
     "cell_type": "code",
     "collapsed": false,
     "input": [
      "utid = 1077\n",
      "print(\",\".join(\"%05.3f\" % prob for prob in dist[userTweets[utid]]))\n",
      "print (\"\\n\".join ( d[wid] for wid in W[userTweets[utid],:].indices ))"
     ],
     "language": "python",
     "metadata": {},
     "outputs": [
      {
       "output_type": "stream",
       "stream": "stdout",
       "text": [
        "0.031,0.375,0.119,0.169,0.043,0.023,0.030,0.108,0.028,0.073\n",
        "watch\n",
        "vettel\n",
        ";)\n",
        "heaven\n",
        "slow\n"
       ]
      }
     ],
     "prompt_number": 56
    },
    {
     "cell_type": "code",
     "collapsed": false,
     "input": [
      "W[userTweets[3],:].indices"
     ],
     "language": "python",
     "metadata": {},
     "outputs": [
      {
       "metadata": {},
       "output_type": "pyout",
       "prompt_number": 49,
       "text": [
        "array([27684, 53012, 40016, 15527, 29235, 51881, 79580,  1984], dtype=int32)"
       ]
      }
     ],
     "prompt_number": 49
    },
    {
     "cell_type": "markdown",
     "metadata": {},
     "source": [
      "There are several muddled topics (see below). For example topic 13 is a mix of Beer fans and Spanish-language Tennis fans, but it's assigned mostly to beer users."
     ]
    },
    {
     "cell_type": "code",
     "collapsed": false,
     "input": [
      "printTopTweeters(topicId=6, minProb=0.7)"
     ],
     "language": "python",
     "metadata": {},
     "outputs": [
      {
       "ename": "IndexError",
       "evalue": "list index out of range",
       "output_type": "pyerr",
       "traceback": [
        "\u001b[0;31m---------------------------------------------------------------------------\u001b[0m\n\u001b[0;31mIndexError\u001b[0m                                Traceback (most recent call last)",
        "\u001b[0;32m<ipython-input-229-e91c5568c972>\u001b[0m in \u001b[0;36m<module>\u001b[0;34m()\u001b[0m\n\u001b[0;32m----> 1\u001b[0;31m \u001b[0mprintTopTweeters\u001b[0m\u001b[0;34m(\u001b[0m\u001b[0mtopicId\u001b[0m\u001b[0;34m=\u001b[0m\u001b[0;36m6\u001b[0m\u001b[0;34m,\u001b[0m \u001b[0mminProb\u001b[0m\u001b[0;34m=\u001b[0m\u001b[0;36m0.7\u001b[0m\u001b[0;34m)\u001b[0m\u001b[0;34m\u001b[0m\u001b[0m\n\u001b[0m",
        "\u001b[0;32m<ipython-input-14-3b918a88a2a3>\u001b[0m in \u001b[0;36mprintTopTweeters\u001b[0;34m(topicId, minProb)\u001b[0m\n\u001b[1;32m      1\u001b[0m \u001b[0;32mdef\u001b[0m \u001b[0mprintTopTweeters\u001b[0m\u001b[0;34m(\u001b[0m\u001b[0mtopicId\u001b[0m\u001b[0;34m,\u001b[0m \u001b[0mminProb\u001b[0m\u001b[0;34m=\u001b[0m\u001b[0;36m0.7\u001b[0m\u001b[0;34m)\u001b[0m\u001b[0;34m:\u001b[0m\u001b[0;34m\u001b[0m\u001b[0m\n\u001b[0;32m----> 2\u001b[0;31m     \u001b[0mprint\u001b[0m\u001b[0;34m(\u001b[0m\u001b[0;34m\"\\n\"\u001b[0m\u001b[0;34m.\u001b[0m\u001b[0mjoin\u001b[0m\u001b[0;34m(\u001b[0m\u001b[0muser_dict\u001b[0m\u001b[0;34m[\u001b[0m\u001b[0muid\u001b[0m\u001b[0;34m]\u001b[0m \u001b[0;32mfor\u001b[0m \u001b[0muid\u001b[0m \u001b[0;32min\u001b[0m \u001b[0mnp\u001b[0m\u001b[0;34m.\u001b[0m\u001b[0mwhere\u001b[0m\u001b[0;34m(\u001b[0m\u001b[0mdist\u001b[0m\u001b[0;34m[\u001b[0m\u001b[0;34m:\u001b[0m\u001b[0;34m,\u001b[0m\u001b[0mtopicId\u001b[0m\u001b[0;34m]\u001b[0m \u001b[0;34m>\u001b[0m \u001b[0mminProb\u001b[0m\u001b[0;34m)\u001b[0m\u001b[0;34m[\u001b[0m\u001b[0;36m0\u001b[0m\u001b[0;34m]\u001b[0m\u001b[0;34m)\u001b[0m\u001b[0;34m)\u001b[0m\u001b[0;34m\u001b[0m\u001b[0m\n\u001b[0m",
        "\u001b[0;32m<ipython-input-14-3b918a88a2a3>\u001b[0m in \u001b[0;36m<genexpr>\u001b[0;34m(.0)\u001b[0m\n\u001b[1;32m      1\u001b[0m \u001b[0;32mdef\u001b[0m \u001b[0mprintTopTweeters\u001b[0m\u001b[0;34m(\u001b[0m\u001b[0mtopicId\u001b[0m\u001b[0;34m,\u001b[0m \u001b[0mminProb\u001b[0m\u001b[0;34m=\u001b[0m\u001b[0;36m0.7\u001b[0m\u001b[0;34m)\u001b[0m\u001b[0;34m:\u001b[0m\u001b[0;34m\u001b[0m\u001b[0m\n\u001b[0;32m----> 2\u001b[0;31m     \u001b[0mprint\u001b[0m\u001b[0;34m(\u001b[0m\u001b[0;34m\"\\n\"\u001b[0m\u001b[0;34m.\u001b[0m\u001b[0mjoin\u001b[0m\u001b[0;34m(\u001b[0m\u001b[0muser_dict\u001b[0m\u001b[0;34m[\u001b[0m\u001b[0muid\u001b[0m\u001b[0;34m]\u001b[0m \u001b[0;32mfor\u001b[0m \u001b[0muid\u001b[0m \u001b[0;32min\u001b[0m \u001b[0mnp\u001b[0m\u001b[0;34m.\u001b[0m\u001b[0mwhere\u001b[0m\u001b[0;34m(\u001b[0m\u001b[0mdist\u001b[0m\u001b[0;34m[\u001b[0m\u001b[0;34m:\u001b[0m\u001b[0;34m,\u001b[0m\u001b[0mtopicId\u001b[0m\u001b[0;34m]\u001b[0m \u001b[0;34m>\u001b[0m \u001b[0mminProb\u001b[0m\u001b[0;34m)\u001b[0m\u001b[0;34m[\u001b[0m\u001b[0;36m0\u001b[0m\u001b[0;34m]\u001b[0m\u001b[0;34m)\u001b[0m\u001b[0;34m)\u001b[0m\u001b[0;34m\u001b[0m\u001b[0m\n\u001b[0m",
        "\u001b[0;31mIndexError\u001b[0m: list index out of range"
       ]
      }
     ],
     "prompt_number": 229
    },
    {
     "cell_type": "markdown",
     "metadata": {},
     "source": [
      "However 19, which is a mix of Financial Markets, US Sports and US politics, had a very muddled user-base"
     ]
    },
    {
     "cell_type": "code",
     "collapsed": false,
     "input": [
      "printTopTweeters(topicId=19, minProb=0.7)"
     ],
     "language": "python",
     "metadata": {},
     "outputs": [
      {
       "output_type": "stream",
       "stream": "stdout",
       "text": [
        "CLPPtweets\n",
        "ChrisCQuinn\n",
        "CraryAP\n",
        "DemGovs\n",
        "ForbesWoman\n",
        "FriendsofUNFPA\n",
        "GOPChoice\n",
        "GovMarkDayton\n",
        "Guttmacher\n",
        "HealthCareGov\n",
        "IpasOrg\n",
        "Latinos4PP\n",
        "MaryKayHenry\n",
        "247WallSt\n",
        "4Tanguay\n",
        "5_min_macro\n",
        "ABWashBureau\n",
        "A_F\n",
        "AcrossTheCurve\n",
        "Alan_Duerden\n",
        "AndyHarless\n",
        "AndyLangenkamp\n",
        "AnnalynKurtz\n",
        "BChappatta\n",
        "BDAmerica\n",
        "BIConline\n",
        "Bank_of_Japan_e\n",
        "BeingRegulated\n",
        "BergenCapital\n",
        "BlackRaven999\n",
        "CorkEveningEcho\n",
        "AlbertoNardelli\n",
        "AlexSchriver\n",
        "4SaferInternet\n",
        "AAF\n",
        "AFPhq\n",
        "AHMalcolm\n",
        "AaronMcCready\n",
        "AlanJSanders\n",
        "AlexConant\n",
        "AliceLinahan\n",
        "baseball_ref\n"
       ]
      }
     ],
     "prompt_number": 31
    },
    {
     "cell_type": "markdown",
     "metadata": {},
     "source": [
      "Things which don't make much sense above include the juxtaposition of the Irish paper ```CorkEveningEcho``` the markets commentator ```Bank_of_Japan_e``` the Baseball fan ```baseball_ref``` the Philipines charity ```FriendsOfUNFPA``` and the political account ```DemGovs```"
     ]
    },
    {
     "cell_type": "markdown",
     "metadata": {},
     "source": [
      "### Mean and Covariance\n",
      "For reference the labels that could be assigned to topics based on their words would be\n",
      " \n",
      "* Topic 0 - Motorsport\n",
      "* Topic 1\n",
      "* Topic 2\n",
      "* Topic 3 Maybe the FilmCriticHulk account?\n",
      "* Topic 4 - US Sports\n",
      "* Topic 5\n",
      "* Topic 6\n",
      "* Topic 7\n",
      "* Topic 8 - Motorsport & Tennis?\n",
      "* Topic 9\n",
      "* Topic 10 - Maybe the Stones 50 Tour?\n",
      "* Topic 11\n",
      "* Topic 12 - US Politics\n",
      "* Topic 13 - Beer & (Spanish?) Tennis\n",
      "* Topic 14 - Tennis Fan\n",
      "* Topic 15 - Tennis\n",
      "* Topic 16 Mideast & US Politics\n",
      "* Topic 17 - Tennis?\n",
      "* Topic 18 - Spanish/Tennis/US-Markets\n",
      "* Topic 19 - US Politics / US-Markets / US Sports\n",
      " \n",
      "As can be seen a lot of these topics are very muddled."
     ]
    },
    {
     "cell_type": "code",
     "collapsed": false,
     "input": [
      "mu_b = np.exp(b.topicMean)\n",
      "mu_b /= np.sum(mu)\n",
      "mu_b = mu_b.reshape(1, len(mu_b))\n",
      "\n",
      "fig, ax = plt.subplots(figsize=(10,3))\n",
      "\n",
      "im = plt.imshow(mu_b, interpolation=\"none\")\n",
      "\n",
      "cb = fig.colorbar(im, ax=ax)\n",
      "ax.set_title(\"Prior Mean Vector\")"
     ],
     "language": "python",
     "metadata": {},
     "outputs": [
      {
       "ename": "NameError",
       "evalue": "name 'b' is not defined",
       "output_type": "pyerr",
       "traceback": [
        "\u001b[0;31m---------------------------------------------------------------------------\u001b[0m\n\u001b[0;31mNameError\u001b[0m                                 Traceback (most recent call last)",
        "\u001b[0;32m<ipython-input-18-b066411e3637>\u001b[0m in \u001b[0;36m<module>\u001b[0;34m()\u001b[0m\n\u001b[0;32m----> 1\u001b[0;31m \u001b[0mmu_b\u001b[0m \u001b[0;34m=\u001b[0m \u001b[0mnp\u001b[0m\u001b[0;34m.\u001b[0m\u001b[0mexp\u001b[0m\u001b[0;34m(\u001b[0m\u001b[0mb\u001b[0m\u001b[0;34m.\u001b[0m\u001b[0mtopicMean\u001b[0m\u001b[0;34m)\u001b[0m\u001b[0;34m\u001b[0m\u001b[0m\n\u001b[0m\u001b[1;32m      2\u001b[0m \u001b[0mmu_b\u001b[0m \u001b[0;34m/=\u001b[0m \u001b[0mnp\u001b[0m\u001b[0;34m.\u001b[0m\u001b[0msum\u001b[0m\u001b[0;34m(\u001b[0m\u001b[0mmu\u001b[0m\u001b[0;34m)\u001b[0m\u001b[0;34m\u001b[0m\u001b[0m\n\u001b[1;32m      3\u001b[0m \u001b[0mmu_b\u001b[0m \u001b[0;34m=\u001b[0m \u001b[0mmu_b\u001b[0m\u001b[0;34m.\u001b[0m\u001b[0mreshape\u001b[0m\u001b[0;34m(\u001b[0m\u001b[0;36m1\u001b[0m\u001b[0;34m,\u001b[0m \u001b[0mlen\u001b[0m\u001b[0;34m(\u001b[0m\u001b[0mmu_b\u001b[0m\u001b[0;34m)\u001b[0m\u001b[0;34m)\u001b[0m\u001b[0;34m\u001b[0m\u001b[0m\n\u001b[1;32m      4\u001b[0m \u001b[0;34m\u001b[0m\u001b[0m\n\u001b[1;32m      5\u001b[0m \u001b[0mfig\u001b[0m\u001b[0;34m,\u001b[0m \u001b[0max\u001b[0m \u001b[0;34m=\u001b[0m \u001b[0mplt\u001b[0m\u001b[0;34m.\u001b[0m\u001b[0msubplots\u001b[0m\u001b[0;34m(\u001b[0m\u001b[0mfigsize\u001b[0m\u001b[0;34m=\u001b[0m\u001b[0;34m(\u001b[0m\u001b[0;36m10\u001b[0m\u001b[0;34m,\u001b[0m\u001b[0;36m3\u001b[0m\u001b[0;34m)\u001b[0m\u001b[0;34m)\u001b[0m\u001b[0;34m\u001b[0m\u001b[0m\n",
        "\u001b[0;31mNameError\u001b[0m: name 'b' is not defined"
       ]
      }
     ],
     "prompt_number": 18
    },
    {
     "cell_type": "code",
     "collapsed": false,
     "input": [
      "# As integer percentages for readability\n",
      "(mu_b[0] * 100).astype(np.int32)"
     ],
     "language": "python",
     "metadata": {},
     "outputs": [
      {
       "metadata": {},
       "output_type": "pyout",
       "prompt_number": 33,
       "text": [
        "array([ 9, 29,  5, 13,  6,  5, 16,  6,  7,  5, 54, 17,  6, 26,  4, 22, 14,\n",
        "        5, 11, 52], dtype=int32)"
       ]
      }
     ],
     "prompt_number": 33
    },
    {
     "cell_type": "markdown",
     "metadata": {},
     "source": [
      "The high probability for topic-10, which seems vaguely related to the Rolling Stones 50th anniversary tour, is bizarre"
     ]
    },
    {
     "cell_type": "code",
     "collapsed": false,
     "input": [
      "fig, ax = plt.subplots(figsize=(11,9))\n",
      "\n",
      "im = plt.imshow(b_model.sigT, interpolation=\"none\")\n",
      "\n",
      "cb = fig.colorbar(im, ax=ax)\n",
      "ax.set_title(\"Covariance Matrix\")"
     ],
     "language": "python",
     "metadata": {},
     "outputs": [
      {
       "metadata": {},
       "output_type": "pyout",
       "prompt_number": 19,
       "text": [
        "<matplotlib.text.Text at 0x107d18fd0>"
       ]
      },
      {
       "metadata": {},
       "output_type": "display_data",
       "png": "[encoded data removed]",
       "text": [
        "<matplotlib.figure.Figure at 0x108eece90>"
       ]
      }
     ],
     "prompt_number": 19
    },
    {
     "cell_type": "markdown",
     "metadata": {},
     "source": [
      "Given the hard assignments, it's perhaps not unexpected to see such a diagonal variance. Worth nothing is the high variance around topic-10, which is the topic with greatest prior probability"
     ]
    },
    {
     "cell_type": "markdown",
     "metadata": {},
     "source": [
      "# TF-IDF Word Topic Table"
     ]
    },
    {
     "cell_type": "code",
     "collapsed": false,
     "input": [
      "counts = W.astype(np.float64).sum(axis = 0)\n",
      "freq = counts.astype(np.float64) / counts.sum()\n",
      "freq = np.squeeze(np.asarray(freq))\n",
      "freq += 1E-300"
     ],
     "language": "python",
     "metadata": {},
     "outputs": [],
     "prompt_number": 60
    },
    {
     "cell_type": "code",
     "collapsed": false,
     "input": [
      "import itertools\n",
      "d = list(itertools.chain.from_iterable(words))"
     ],
     "language": "python",
     "metadata": {},
     "outputs": [],
     "prompt_number": 61
    },
    {
     "cell_type": "code",
     "collapsed": false,
     "input": [
      "denom = 1 + freq"
     ],
     "language": "python",
     "metadata": {},
     "outputs": [],
     "prompt_number": 62
    },
    {
     "cell_type": "code",
     "collapsed": false,
     "input": [
      "w_dat_copy = W.data.copy()\n",
      "w_dat_copy[w_dat_copy > 1] = 1\n",
      "W2 = ssp.csr_matrix((w_dat_copy.astype(np.float64), W.indices, W.indptr))\n",
      "\n",
      "df = np.squeeze(np.asarray(W2.sum(axis=0)))\n",
      "idf = W_U.shape[0] / (1 + df)\n",
      "\n",
      "lidf = np.log(idf)"
     ],
     "language": "python",
     "metadata": {},
     "outputs": [],
     "prompt_number": 63
    },
    {
     "cell_type": "code",
     "collapsed": false,
     "input": [
      "lidf"
     ],
     "language": "python",
     "metadata": {},
     "outputs": [
      {
       "metadata": {},
       "output_type": "pyout",
       "prompt_number": 64,
       "text": [
        "array([ 5.78382518,  5.78382518,  5.78382518, ...,  5.78382518,\n",
        "        4.39753082,  4.68521289])"
       ]
      }
     ],
     "prompt_number": 64
    },
    {
     "cell_type": "code",
     "collapsed": false,
     "input": [
      "def topWordInds (wordDict, vocab, count=10):\n",
      "    return vocab.argsort()[-count:][::-1]\n",
      "    "
     ],
     "language": "python",
     "metadata": {},
     "outputs": [],
     "prompt_number": 65
    },
    {
     "cell_type": "code",
     "collapsed": false,
     "input": [
      "topCount = 30\n",
      "kTopWordsIdf = [topWordInds(d, b_model.vocab[k,:] * lidf, count=topCount) for k in range(b_model.K)]"
     ],
     "language": "python",
     "metadata": {},
     "outputs": [],
     "prompt_number": 69
    },
    {
     "cell_type": "code",
     "collapsed": false,
     "input": [
      "topWordsTable = [[d[kTopWordsIdf[k][c]] \\\n",
      "+ \"\\t%0.4f\" % b_model.vocab[k][kTopWordsIdf[k][c]] \\\n",
      "for c in range(topCount)] for k in range(b_model.K)]"
     ],
     "language": "python",
     "metadata": {},
     "outputs": [],
     "prompt_number": 67
    },
    {
     "cell_type": "code",
     "collapsed": false,
     "input": [
      "topWordsTable"
     ],
     "language": "python",
     "metadata": {},
     "outputs": [
      {
       "metadata": {},
       "output_type": "pyout",
       "prompt_number": 68,
       "text": [
        "[['my\\t0.0994',\n",
        "  'dai\\t0.0417',\n",
        "  'best\\t0.0205',\n",
        "  'beer\\t0.0174',\n",
        "  'lot\\t0.0154',\n",
        "  'year\\t0.0152',\n",
        "  'also\\t0.0128',\n",
        "  'end\\t0.0121',\n",
        "  'video\\t0.0120',\n",
        "  'start\\t0.0114',\n",
        "  'post\\t0.0111',\n",
        "  'photo\\t0.0104',\n",
        "  'probabl\\t0.0101',\n",
        "  'world\\t0.0100',\n",
        "  'place\\t0.0094',\n",
        "  'amaz\\t0.0090',\n",
        "  '#craftbeer\\t0.0086',\n",
        "  'drink\\t0.0080',\n",
        "  'season\\t0.0069',\n",
        "  '#beer\\t0.0067',\n",
        "  'ad\\t0.0064',\n",
        "  'two\\t0.0062',\n",
        "  'head\\t0.0060',\n",
        "  'list\\t0.0060',\n",
        "  'brew\\t0.0060',\n",
        "  'week\\t0.0058',\n",
        "  'blog\\t0.0057',\n",
        "  'goe\\t0.0054',\n",
        "  'review\\t0.0050',\n",
        "  'date\\t0.0048'],\n",
        " ['just\\t0.0525',\n",
        "  'get\\t0.0438',\n",
        "  'me\\t0.0403',\n",
        "  'go\\t0.0345',\n",
        "  \"i'm\\t0.0336\",\n",
        "  ':)\\t0.0277',\n",
        "  'think\\t0.0263',\n",
        "  'out\\t0.0236',\n",
        "  'so\\t0.0233',\n",
        "  'well\\t0.0194',\n",
        "  'come\\t0.0181',\n",
        "  'want\\t0.0178',\n",
        "  'now\\t0.0170',\n",
        "  'back\\t0.0157',\n",
        "  'oh\\t0.0153',\n",
        "  'lol\\t0.0144',\n",
        "  'watch\\t0.0142',\n",
        "  'should\\t0.0133',\n",
        "  'off\\t0.0131',\n",
        "  'need\\t0.0126',\n",
        "  'take\\t0.0123',\n",
        "  'why\\t0.0121',\n",
        "  'give\\t0.0089',\n",
        "  'alwai\\t0.0085',\n",
        "  'show\\t0.0083',\n",
        "  'those\\t0.0083',\n",
        "  'thought\\t0.0081',\n",
        "  'someth\\t0.0080',\n",
        "  \"didn't\\t0.0079\",\n",
        "  \"i'll\\t0.0077\"],\n",
        " ['have\\t0.0487',\n",
        "  'it\\t0.0463',\n",
        "  'do\\t0.0296',\n",
        "  \"don't\\t0.0244\",\n",
        "  'time\\t0.0242',\n",
        "  'too\\t0.0230',\n",
        "  'when\\t0.0218',\n",
        "  'been\\t0.0186',\n",
        "  'that\\t0.0179',\n",
        "  'from\\t0.0170',\n",
        "  'some\\t0.0160',\n",
        "  'thing\\t0.0155',\n",
        "  'got\\t0.0143',\n",
        "  'work\\t0.0142',\n",
        "  'wai\\t0.0138',\n",
        "  'them\\t0.0135',\n",
        "  'much\\t0.0116',\n",
        "  'other\\t0.0111',\n",
        "  \"i'v\\t0.0092\",\n",
        "  'onli\\t0.0090',\n",
        "  'feel\\t0.0088',\n",
        "  'yeah\\t0.0088',\n",
        "  'actual\\t0.0077',\n",
        "  'bit\\t0.0075',\n",
        "  'befor\\t0.0074',\n",
        "  'pretti\\t0.0071',\n",
        "  'twitter\\t0.0069',\n",
        "  'peopl\\t0.0067',\n",
        "  'same\\t0.0066',\n",
        "  'long\\t0.0066'],\n",
        " ['you\\t0.1455',\n",
        "  'we\\t0.0397',\n",
        "  'your\\t0.0381',\n",
        "  'thank\\t0.0336',\n",
        "  'can\\t0.0311',\n",
        "  'have\\t0.0191',\n",
        "  'so\\t0.0181',\n",
        "  'sorri\\t0.0147',\n",
        "  'hi\\t0.0142',\n",
        "  'hope\\t0.0129',\n",
        "  'us\\t0.0128',\n",
        "  'would\\t0.0124',\n",
        "  \"you'r\\t0.0115\",\n",
        "  'tweet\\t0.0102',\n",
        "  'where\\t0.0088',\n",
        "  'our\\t0.0088',\n",
        "  'which\\t0.0083',\n",
        "  'help\\t0.0080',\n",
        "  'hear\\t0.0076',\n",
        "  'do\\t0.0072',\n",
        "  'happi\\t0.0071',\n",
        "  'train\\t0.0071',\n",
        "  'were\\t0.0070',\n",
        "  'servic\\t0.0070',\n",
        "  'pleas\\t0.0068',\n",
        "  'enjoi\\t0.0067',\n",
        "  'olli\\t0.0067',\n",
        "  'ani\\t0.0061',\n",
        "  'problem\\t0.0055',\n",
        "  'delai\\t0.0054'],\n",
        " ['about\\t0.0344',\n",
        "  'who\\t0.0188',\n",
        "  'than\\t0.0146',\n",
        "  'sai\\t0.0102',\n",
        "  'better\\t0.0101',\n",
        "  'talk\\t0.0090',\n",
        "  'peopl\\t0.0084',\n",
        "  'becaus\\t0.0078',\n",
        "  'obama\\t0.0075',\n",
        "  'most\\t0.0074',\n",
        "  'call\\t0.0074',\n",
        "  'said\\t0.0072',\n",
        "  'mani\\t0.0067',\n",
        "  'stop\\t0.0057',\n",
        "  'hi\\t0.0051',\n",
        "  'never\\t0.0050',\n",
        "  'question\\t0.0049',\n",
        "  'hous\\t0.0048',\n",
        "  'over\\t0.0048',\n",
        "  'would\\t0.0047',\n",
        "  'women\\t0.0046',\n",
        "  'guess\\t0.0045',\n",
        "  'state\\t0.0043',\n",
        "  'believ\\t0.0042',\n",
        "  'part\\t0.0040',\n",
        "  'big\\t0.0040',\n",
        "  'sport\\t0.0040',\n",
        "  'more\\t0.0039',\n",
        "  'true\\t0.0037',\n",
        "  'vote\\t0.0037'],\n",
        " ['http://klout.com/user/louiebaur/topics?n=tw&v=plusK_thanks&i=266114\\t0.3961',\n",
        "  'de\\t0.0169',\n",
        "  'la\\t0.0113',\n",
        "  'game\\t0.0089',\n",
        "  'en\\t0.0084',\n",
        "  'vs\\t0.0072',\n",
        "  'el\\t0.0072',\n",
        "  'que\\t0.0064',\n",
        "  'et\\t0.0060',\n",
        "  '\u1f49B\\t0.0059',\n",
        "  'stat\\t0.0055',\n",
        "  'set\\t0.0052',\n",
        "  'sheet\\t0.0047',\n",
        "  'do\\t0.0045',\n",
        "  'lo\\t0.0044',\n",
        "  'b-r\\t0.0043',\n",
        "  'wr\\t0.0042',\n",
        "  'seed\\t0.0042',\n",
        "  'por\\t0.0040',\n",
        "  'em\\t0.0036',\n",
        "  'para\\t0.0034',\n",
        "  'un\\t0.0034',\n",
        "  'se\\t0.0032',\n",
        "  ':-)\\t0.0032',\n",
        "  'ya\\t0.0032',\n",
        "  'del\\t0.0030',\n",
        "  '#usopen\\t0.0029',\n",
        "  'con\\t0.0027',\n",
        "  'es\\t0.0027',\n",
        "  'nadal\\t0.0027'],\n",
        " ['she\\t0.0222',\n",
        "  'her\\t0.0196',\n",
        "  'set\\t0.0182',\n",
        "  'plai\\t0.0171',\n",
        "  'first\\t0.0166',\n",
        "  'win\\t0.0166',\n",
        "  'match\\t0.0147',\n",
        "  'point\\t0.0112',\n",
        "  'break\\t0.0107',\n",
        "  'ha\\t0.0102',\n",
        "  'hi\\t0.0093',\n",
        "  'final\\t0.0089',\n",
        "  'from\\t0.0087',\n",
        "  'game\\t0.0085',\n",
        "  'he\\t0.0084',\n",
        "  'serena\\t0.0083',\n",
        "  'serv\\t0.0080',\n",
        "  'up\\t0.0078',\n",
        "  'tenni\\t0.0077',\n",
        "  'open\\t0.0069',\n",
        "  'year\\t0.0068',\n",
        "  'down\\t0.0065',\n",
        "  'player\\t0.0065',\n",
        "  'over\\t0.0064',\n",
        "  'last\\t0.0063',\n",
        "  'after\\t0.0062',\n",
        "  'second\\t0.0060',\n",
        "  'now\\t0.0057',\n",
        "  'won\\t0.0053',\n",
        "  'still\\t0.0053'],\n",
        " ['like\\t0.0483',\n",
        "  'all\\t0.0416',\n",
        "  'on\\t0.0370',\n",
        "  'good\\t0.0360',\n",
        "  'up\\t0.0327',\n",
        "  'make\\t0.0279',\n",
        "  'love\\t0.0250',\n",
        "  'more\\t0.0193',\n",
        "  'realli\\t0.0191',\n",
        "  'did\\t0.0169',\n",
        "  'veri\\t0.0164',\n",
        "  'right\\t0.0162',\n",
        "  'ye\\t0.0152',\n",
        "  'am\\t0.0125',\n",
        "  'try\\t0.0110',\n",
        "  'night\\t0.0099',\n",
        "  'mean\\t0.0096',\n",
        "  'now\\t0.0085',\n",
        "  'ever\\t0.0085',\n",
        "  'last\\t0.0082',\n",
        "  'tomorrow\\t0.0082',\n",
        "  'bad\\t0.0077',\n",
        "  'sound\\t0.0068',\n",
        "  'tell\\t0.0067',\n",
        "  'had\\t0.0062',\n",
        "  'man\\t0.0061',\n",
        "  'gui\\t0.0055',\n",
        "  'stuff\\t0.0051',\n",
        "  'awesom\\t0.0051',\n",
        "  'kid\\t0.0049'],\n",
        " ['new\\t0.0284',\n",
        "  'from\\t0.0173',\n",
        "  'via\\t0.0140',\n",
        "  'us\\t0.0130',\n",
        "  'todai\\t0.0121',\n",
        "  'coolpix\\t0.0111',\n",
        "  'our\\t0.0110',\n",
        "  'out\\t0.0101',\n",
        "  'stori\\t0.0062',\n",
        "  'live\\t0.0061',\n",
        "  'food\\t0.0058',\n",
        "  'watch\\t0.0057',\n",
        "  'top\\t0.0056',\n",
        "  'bui\\t0.0055',\n",
        "  'plan\\t0.0051',\n",
        "  'week\\t0.0050',\n",
        "  'share\\t0.0048',\n",
        "  'film\\t0.0046',\n",
        "  'report\\t0.0045',\n",
        "  'market\\t0.0045',\n",
        "  'join\\t0.0044',\n",
        "  'more\\t0.0043',\n",
        "  'updat\\t0.0042',\n",
        "  'open\\t0.0038',\n",
        "  'event\\t0.0038',\n",
        "  'announc\\t0.0036',\n",
        "  'show\\t0.0036',\n",
        "  'free\\t0.0036',\n",
        "  'hulk\\t0.0035',\n",
        "  'check\\t0.0034'],\n",
        " ['\u1f49B\\t0.0738',\n",
        "  'what\\t0.0456',\n",
        "  'he\\t0.0359',\n",
        "  'look\\t0.0330',\n",
        "  'know\\t0.0312',\n",
        "  'how\\t0.0302',\n",
        "  'see\\t0.0299',\n",
        "  'ha\\t0.0262',\n",
        "  'here\\t0.0239',\n",
        "  'great\\t0.0180',\n",
        "  'sure\\t0.0151',\n",
        "  'could\\t0.0147',\n",
        "  'next\\t0.0130',\n",
        "  'sai\\t0.0124',\n",
        "  'let\\t0.0123',\n",
        "  \"can't\\t0.0120\",\n",
        "  'him\\t0.0118',\n",
        "  ';)\\t0.0100',\n",
        "  'doe\\t0.0099',\n",
        "  'miss\\t0.0092',\n",
        "  'keep\\t0.0089',\n",
        "  'made\\t0.0088',\n",
        "  'race\\t0.0088',\n",
        "  'nice\\t0.0087',\n",
        "  'might\\t0.0085',\n",
        "  'wait\\t0.0085',\n",
        "  'car\\t0.0075',\n",
        "  \"doesn't\\t0.0073\",\n",
        "  'mayb\\t0.0073',\n",
        "  'weekend\\t0.0071']]"
       ]
      }
     ],
     "prompt_number": 68
    },
    {
     "cell_type": "code",
     "collapsed": false,
     "input": [],
     "language": "python",
     "metadata": {},
     "outputs": []
    }
   ],
   "metadata": {}
  }
 ]
}