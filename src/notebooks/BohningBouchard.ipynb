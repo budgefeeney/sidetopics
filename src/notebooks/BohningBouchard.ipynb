{
 "metadata": {
  "name": ""
 },
 "nbformat": 3,
 "nbformat_minor": 0,
 "worksheets": [
  {
   "cells": [
    {
     "cell_type": "markdown",
     "metadata": {},
     "source": [
      "# Abstract\n",
      "This compares implementations of CTM  with the Bouchard and the Bohning bound. We present evolution of the likelihood, topic assignments, topic tables and perplexity scores, for a single configuration (20 topics)\n",
      "\n",
      "Results for the \"UTM\" bound will follow, hopefully later this evening."
     ]
    },
    {
     "cell_type": "markdown",
     "metadata": {},
     "source": [
      "# Prelude"
     ]
    },
    {
     "cell_type": "code",
     "collapsed": false,
     "input": [
      "import sys\n",
      "\n",
      "path = \"/Users/bryanfeeney/Desktop/SmallerDB-NoCJK-WithFeats-Fixed\"\n",
      "codePath = \"/Users/bryanfeeney/Workspace/sidetopics/src\"\n",
      "reconstructSparse=False\n",
      "\n",
      "sys.path.append(codePath)\n",
      "%run /Users/bryanfeeney/Desktop/SmallerDB-NoCJK-WithFeats-Fixed/dicts.py"
     ],
     "language": "python",
     "metadata": {},
     "outputs": [],
     "prompt_number": 1
    },
    {
     "cell_type": "code",
     "collapsed": false,
     "input": [
      "import numpy as np\n",
      "import numpy.random as rd\n",
      "import scipy as sp\n",
      "import scipy.sparse as ssp\n",
      "import scipy.linalg as la\n",
      "import scipy.sparse.linalg as sla\n",
      "import matplotlib.pyplot as plt\n",
      "import matplotlib.cm as cm\n",
      "import pickle as pkl\n",
      "\n",
      "from math import log, pi, exp\n",
      "\n",
      "rd.seed(0xC0FFEE)\n",
      "\n",
      "%load_ext cythonmagic\n",
      "%matplotlib inline"
     ],
     "language": "python",
     "metadata": {},
     "outputs": [],
     "prompt_number": 2
    },
    {
     "cell_type": "markdown",
     "metadata": {},
     "source": [
      "# Dataset and Configuration"
     ]
    },
    {
     "cell_type": "code",
     "collapsed": false,
     "input": [
      "tweeterTopicPath = path + \"/words-by-author.pkl\"\n",
      "\n",
      "with open (tweeterTopicPath, 'rb') as f:\n",
      "    user_dict, _, W_U = pkl.load(f)"
     ],
     "language": "python",
     "metadata": {},
     "outputs": [],
     "prompt_number": 3
    },
    {
     "cell_type": "markdown",
     "metadata": {},
     "source": [
      "## Useful functions"
     ]
    },
    {
     "cell_type": "code",
     "collapsed": false,
     "input": [
      "from IPython.display import HTML\n",
      "from IPython.display import Latex\n",
      "from IPython.display import Image"
     ],
     "language": "python",
     "metadata": {},
     "outputs": [],
     "prompt_number": 4
    },
    {
     "cell_type": "code",
     "collapsed": false,
     "input": [
      "def normalize_rows_ip(matrix):\n",
      "    '''\n",
      "    Normalizes the rows of the matrix in-place, ovewriting\n",
      "    the previous values\n",
      "    '''\n",
      "    row_sums  = matrix.sum(axis=1)\n",
      "    matrix   /= row_sums[:, np.newaxis]\n",
      "    return matrix\n",
      "\n"
     ],
     "language": "python",
     "metadata": {},
     "outputs": [],
     "prompt_number": 5
    },
    {
     "cell_type": "code",
     "collapsed": false,
     "input": [
      "def printTopics(wordDict, vocab, count=10):\n",
      "    words = vocab.argsort()[-count:][::-1]\n",
      "    for wordIdx in words:\n",
      "        print(\"%5.3f - %s\" % (vocab[wordIdx], wordDict[wordIdx]))\n",
      "    print(\"\")\n",
      "  \n",
      "# Create a nice number of table cells first for each topic\n",
      "# (including padding with &nbsp; cells\n",
      "# then iterate through and add to table, safe in the knowledge\n",
      "# that there's the expected number of cells\n",
      "    \n",
      "def createTopicsTable(wordDict, vocabs, count=10):\n",
      "    MaxWordLen   = 10\n",
      "    K,V = vocabs.shape\n",
      "    \n",
      "    tab = \"<table border=1 style='font-size: 10px'>\"\n",
      "    for k in range(K):\n",
      "        vocab = vocabs[k,:]\n",
      "        popularWordIndices = vocab.argsort()[-count:][::-1]\n",
      "        tab += \"<tr><th rowspan=2>Topic \" + str(k) + \"</th>\"\n",
      "        tab += \"<td>\" + \"</td><td>\".join(d[w][:MaxWordLen] for w in popularWordIndices) + \"</td></tr>\"\n",
      "        tab += \"<tr><td>\" + \"</td><td>\".join(\"%5.3f\" % vocab[w] for w in popularWordIndices) + \"</td></tr>\"\n",
      "      \n",
      "    tab += \"</table>\"\n",
      "    return HTML(tab)\n"
     ],
     "language": "python",
     "metadata": {},
     "outputs": [],
     "prompt_number": 6
    },
    {
     "cell_type": "markdown",
     "metadata": {},
     "source": [
      "# Model Results"
     ]
    },
    {
     "cell_type": "code",
     "collapsed": false,
     "input": [
      "import model\n",
      "from util.sigmoid_utils import rowwise_softmax"
     ],
     "language": "python",
     "metadata": {},
     "outputs": [],
     "prompt_number": 7
    },
    {
     "cell_type": "markdown",
     "metadata": {},
     "source": [
      "## Correlated Topic Model with Bohning Bound"
     ]
    },
    {
     "cell_type": "code",
     "collapsed": false,
     "input": [
      "with open(\"/Users/bryanfeeney/Desktop/author_ctm_result.pkl\", \"rb\") as f:\n",
      "    (a_model, a_query) = pkl.load(f)"
     ],
     "language": "python",
     "metadata": {},
     "outputs": [],
     "prompt_number": 8
    },
    {
     "cell_type": "markdown",
     "metadata": {},
     "source": [
      "### Model Configuration"
     ]
    },
    {
     "cell_type": "code",
     "collapsed": false,
     "input": [
      "# Number of topics\n",
      "a_model.K"
     ],
     "language": "python",
     "metadata": {},
     "outputs": [
      {
       "metadata": {},
       "output_type": "pyout",
       "prompt_number": 9,
       "text": [
        "20"
       ]
      }
     ],
     "prompt_number": 9
    },
    {
     "cell_type": "markdown",
     "metadata": {},
     "source": [
      "### Evolution of the Variational Bound\n",
      "I'm still not sure why there's a dip in the first few iterations. The updates which cause a dip are the vocabularly and the posterior means. Note the extremely large number of iterations, in the past with, e.g. LDA, CTM/Bouchard, I've only ever needed a few hundred iterations before things levelled off."
     ]
    },
    {
     "cell_type": "code",
     "collapsed": false,
     "input": [
      "Image(\"/Users/bryanfeeney/Desktop/ctm_bohning.png\")"
     ],
     "language": "python",
     "metadata": {},
     "outputs": [
      {
       "metadata": {},
       "output_type": "pyout",
       "png": "[encoded data removed]",
       "prompt_number": 10,
       "text": [
        "<IPython.core.display.Image at 0x114a26110>"
       ]
      }
     ],
     "prompt_number": 10
    },
    {
     "cell_type": "markdown",
     "metadata": {},
     "source": [
      "### Log Likelihood and Perplexity\n",
      "I've done this long-hand in case you want to double-check the results.\n",
      "\n",
      "The implementation here is actually pretty suboptimal as it materializes a _dense_ reconstruction of the document-term matrix. The approach in the actual code avoids doing this and is a lot more efficient (and so scales to larger matrices)"
     ]
    },
    {
     "cell_type": "code",
     "collapsed": false,
     "input": [
      "W_U_recons = rowwise_softmax(a_query.means).dot(a_model.vocab)\n",
      "logLikely = np.sum(W_U.astype(np.float64).multiply (np.log(W_U_recons))) \n",
      "logLikely   # \"multiply\" method implements the hadamard product"
     ],
     "language": "python",
     "metadata": {},
     "outputs": [
      {
       "metadata": {},
       "output_type": "pyout",
       "prompt_number": 11,
       "text": [
        "-43202155.13354639"
       ]
      }
     ],
     "prompt_number": 11
    },
    {
     "cell_type": "code",
     "collapsed": false,
     "input": [
      "perplexity = np.exp(-logLikely / np.sum(W_U.data))\n",
      "perplexity"
     ],
     "language": "python",
     "metadata": {},
     "outputs": [
      {
       "metadata": {},
       "output_type": "pyout",
       "prompt_number": 12,
       "text": [
        "1439.4165971939747"
       ]
      }
     ],
     "prompt_number": 12
    },
    {
     "cell_type": "markdown",
     "metadata": {},
     "source": [
      "### Topic Assignments\n",
      "The table of topic words is in an Excel spreadsheet that should accompany this document\n",
      "\n",
      "In creating the test dataset I took users corresponding to certain groups (e.g. US politics, tennis, F1 racing, beer enthusiasts) and and collected all their tweets. These were then condensed so that there was one document per author. \n",
      "\n",
      "The point is users from groups are clumped together contiguously, and you can just about see this in the plot below, as we have vertical lines corresponding to all users in a single group being assigned a single topic.\n",
      "\n",
      "Obviously it would probably help inference if I randomly re-ordered this - I'd forgotten it was ordered until I'd seen the plot"
     ]
    },
    {
     "cell_type": "code",
     "collapsed": false,
     "input": [
      "dist = rowwise_softmax(a_query.means)\n",
      "fig, ax = plt.subplots(figsize=(10,35))\n",
      "\n",
      "im = plt.imshow(dist, interpolation=\"none\")\n",
      "\n",
      "cb = fig.colorbar(im, ax=ax)\n",
      "ax.set_title(\"Means Matrix\")"
     ],
     "language": "python",
     "metadata": {},
     "outputs": [
      {
       "metadata": {},
       "output_type": "pyout",
       "prompt_number": 13,
       "text": [
        "<matplotlib.text.Text at 0x1150b6b50>"
       ]
      },
      {
       "metadata": {},
       "output_type": "display_data",
       "png": "[encoded data removed]",
       "text": [
        "<matplotlib.figure.Figure at 0x117ce9e90>"
       ]
      }
     ],
     "prompt_number": 13
    },
    {
     "cell_type": "markdown",
     "metadata": {},
     "source": [
      "A few more things to note:\n",
      "\n",
      "1. Topics are indexed from 0, so topic 2 is the third topic\n",
      "2. Topic 2 is entirely occupied by a handful Spanish speaking tennis fans\n",
      "3. Topic 1 is a mostly a British train company called First Great Western and an American Airline. It places a comically high probability on words such as \"apologise\", \"delay\", \"signal\", \"fault\", \"problem\", \"disruption\" and \"hope\".\n",
      "4. There are a number of English-language Tennis topics: the one with most nouns (topic-10) is mostly professional reporters, but others, such as topic-16 and topic-17 seem to be more amateur fans\n",
      "\n",
      "A few examples are given below\n"
     ]
    },
    {
     "cell_type": "code",
     "collapsed": false,
     "input": [
      "def printTopTweeters(topicId, minProb=0.7):\n",
      "    print(\"\\n\".join(user_dict[uid] for uid in np.where(dist[:,topicId] > minProb)[0]))"
     ],
     "language": "python",
     "metadata": {},
     "outputs": [],
     "prompt_number": 14
    },
    {
     "cell_type": "code",
     "collapsed": false,
     "input": [
      "# Spanish Tennis\n",
      "printTopTweeters(topicId=2, minProb=0.7)"
     ],
     "language": "python",
     "metadata": {},
     "outputs": [
      {
       "output_type": "stream",
       "stream": "stdout",
       "text": [
        "Aalliende\n",
        "BreakPointBR\n",
        "LeTenisse\n",
        "MallerMarcelo\n",
        "MendezVega\n",
        "Pep_Guti\n"
       ]
      }
     ],
     "prompt_number": 15
    },
    {
     "cell_type": "code",
     "collapsed": false,
     "input": [
      "# Train Delays and American Airlines\n",
      "printTopTweeters(topicId=1, minProb=0.5)"
     ],
     "language": "python",
     "metadata": {},
     "outputs": [
      {
       "output_type": "stream",
       "stream": "stdout",
       "text": [
        "FGW\n",
        "AmericanAir\n"
       ]
      }
     ],
     "prompt_number": 16
    },
    {
     "cell_type": "code",
     "collapsed": false,
     "input": [
      "# Professional English Tennis Tweets\n",
      "printTopTweeters(topicId=10, minProb=0.7)"
     ],
     "language": "python",
     "metadata": {},
     "outputs": [
      {
       "output_type": "stream",
       "stream": "stdout",
       "text": [
        "BenRothenberg\n",
        "Adamdbain\n",
        "ESPNTennis\n",
        "GBtennis\n",
        "SI_BTBaseline\n",
        "Tennis_Belgium\n"
       ]
      }
     ],
     "prompt_number": 17
    },
    {
     "cell_type": "code",
     "collapsed": false,
     "input": [
      "# Amateur Tennis Fans 1\n",
      "printTopTweeters(topicId=16, minProb=0.7)"
     ],
     "language": "python",
     "metadata": {},
     "outputs": [
      {
       "output_type": "stream",
       "stream": "stdout",
       "text": [
        "A_Gallivant\n",
        "Ataraxis00\n",
        "ByJoeFleming\n",
        "MindTheRacket\n",
        "Ratazana\n",
        "SavannahsTennis\n",
        "StephintheUS\n",
        "TennisCoconut\n",
        "Tennisfan24\n",
        "TheGrandSlams\n"
       ]
      }
     ],
     "prompt_number": 18
    },
    {
     "cell_type": "code",
     "collapsed": false,
     "input": [
      "# Amateur Tennis Fans 2\n",
      "printTopTweeters(topicId=17, minProb=0.6)"
     ],
     "language": "python",
     "metadata": {},
     "outputs": [
      {
       "output_type": "stream",
       "stream": "stdout",
       "text": [
        "G2H_95\n",
        "JayJarrahi\n",
        "Jonirja\n"
       ]
      }
     ],
     "prompt_number": 19
    },
    {
     "cell_type": "markdown",
     "metadata": {},
     "source": [
      "### Mean and Covariance\n",
      "For reference the labels that could be assigned to topics based on their words would be\n",
      "\n",
      "* Topic 0\n",
      "* Topic 1 - Travel Delays\n",
      "* Topic 2 - Spanish Tennis\n",
      "* Topic 3 - Mideast?\n",
      "* Topic 4 - Markets\n",
      "* Topic 5\n",
      "* Topic 6 - US Sports\n",
      "* Topic 7 - US Politics\n",
      "* Topic 8\n",
      "* Topic 9\n",
      "* Topic 10 - Tennis News\n",
      "* Topic 11\n",
      "* Topic 12\n",
      "* Topic 13\n",
      "* Topic 14 - F1 / Movie\n",
      "* Topic 15 - Food/Travel\n",
      "* Topic 16 - Tennis Fan\n",
      "* Topic 17 - Tennis Fan Other\n",
      "* Topic 18\n",
      "* Topic 19 - Beer\n",
      "\n",
      "It's not obvious what some topics correspond to, however given that these \"mystery\" topics high prior probability (see below) it could be that the vocabularies of these topics represent styles of speech rather than semantic themes."
     ]
    },
    {
     "cell_type": "code",
     "collapsed": false,
     "input": [
      "mu = np.exp(a_model.topicMean)\n",
      "mu /= np.sum(mu)\n",
      "mu = mu.reshape(1, len(mu))\n",
      "\n",
      "fig, ax = plt.subplots(figsize=(10,3))\n",
      "\n",
      "im = plt.imshow(mu, interpolation=\"none\")\n",
      "\n",
      "cb = fig.colorbar(im, ax=ax)\n",
      "ax.set_title(\"Prior Mean Vector\")"
     ],
     "language": "python",
     "metadata": {},
     "outputs": [
      {
       "metadata": {},
       "output_type": "pyout",
       "prompt_number": 20,
       "text": [
        "<matplotlib.text.Text at 0x114ceec90>"
       ]
      },
      {
       "metadata": {},
       "output_type": "display_data",
       "png": "[encoded data removed]",
       "text": [
        "<matplotlib.figure.Figure at 0x114a26210>"
       ]
      }
     ],
     "prompt_number": 20
    },
    {
     "cell_type": "code",
     "collapsed": false,
     "input": [
      "# As integer percentages for readability\n",
      "(mu[0] * 100).astype(np.int32)"
     ],
     "language": "python",
     "metadata": {},
     "outputs": [
      {
       "metadata": {},
       "output_type": "pyout",
       "prompt_number": 21,
       "text": [
        "array([ 4,  3,  0,  2,  2,  2,  1,  4,  7, 14,  1,  4, 10,  4,  4,  2,  2,\n",
        "        2, 11,  8], dtype=int32)"
       ]
      }
     ],
     "prompt_number": 21
    },
    {
     "cell_type": "code",
     "collapsed": false,
     "input": [
      "fig, ax = plt.subplots(figsize=(11,9))\n",
      "\n",
      "im = plt.imshow(a_model.sigT, interpolation=\"none\")\n",
      "\n",
      "cb = fig.colorbar(im, ax=ax)\n",
      "ax.set_title(\"Covariance Matrix\")"
     ],
     "language": "python",
     "metadata": {},
     "outputs": [
      {
       "metadata": {},
       "output_type": "pyout",
       "prompt_number": 22,
       "text": [
        "<matplotlib.text.Text at 0x114d69490>"
       ]
      },
      {
       "metadata": {},
       "output_type": "display_data",
       "png": "[encoded data removed]",
       "text": [
        "<matplotlib.figure.Figure at 0x114d46390>"
       ]
      }
     ],
     "prompt_number": 22
    },
    {
     "cell_type": "markdown",
     "metadata": {},
     "source": [
      "## Correlated Topic Model with Bouchard Bound"
     ]
    },
    {
     "cell_type": "code",
     "collapsed": false,
     "input": [
      "with open(\"/Users/bryanfeeney/Desktop/author_ctm_result_bouchard.pkl\", \"rb\") as f:\n",
      "    (b_model, b_query) = pkl.load(f)"
     ],
     "language": "python",
     "metadata": {},
     "outputs": [],
     "prompt_number": 23
    },
    {
     "cell_type": "markdown",
     "metadata": {},
     "source": [
      "### Model Configuration"
     ]
    },
    {
     "cell_type": "code",
     "collapsed": false,
     "input": [
      "# Number of topics\n",
      "b_model.K"
     ],
     "language": "python",
     "metadata": {},
     "outputs": [
      {
       "metadata": {},
       "output_type": "pyout",
       "prompt_number": 24,
       "text": [
        "20"
       ]
      }
     ],
     "prompt_number": 24
    },
    {
     "cell_type": "markdown",
     "metadata": {},
     "source": [
      "### Evolution of the Variational Bound\n",
      "As can be seen this drastically begins to fall off. The main culprit seems to be the update for the prior covariance. It fluctuates almost immediately, before ultimately collapsing. In this model s is allowed vary, but it does not continue unboundedly"
     ]
    },
    {
     "cell_type": "code",
     "collapsed": false,
     "input": [
      "# Minimum, Average, Standard-Deviation, Maximum\n",
      "b_query.s.min(), b_query.s.mean(), b_query.s.std(), b_query.s.max()"
     ],
     "language": "python",
     "metadata": {},
     "outputs": [
      {
       "metadata": {},
       "output_type": "pyout",
       "prompt_number": 25,
       "text": [
        "(5.2811945049676101,\n",
        " 6.5685112560493941,\n",
        " 0.11414836438694166,\n",
        " 6.6594031129405691)"
       ]
      }
     ],
     "prompt_number": 25
    },
    {
     "cell_type": "code",
     "collapsed": false,
     "input": [
      "Image(\"/Users/bryanfeeney/Desktop/ctm_bouchard_1000.png\")"
     ],
     "language": "python",
     "metadata": {},
     "outputs": [
      {
       "metadata": {},
       "output_type": "pyout",
       "png": "[encoded data removed]",
       "prompt_number": 26,
       "text": [
        "<IPython.core.display.Image at 0x1130d8390>"
       ]
      }
     ],
     "prompt_number": 26
    },
    {
     "cell_type": "markdown",
     "metadata": {},
     "source": [
      "### Log Likelihood and Perplexity\n"
     ]
    },
    {
     "cell_type": "code",
     "collapsed": false,
     "input": [
      "W_U_recons = rowwise_softmax(b_query.means).dot(b_model.vocab)\n",
      "W_U_recons[W_U_recons < 1E-35] = 1E-35 #\u00a0safe log (float32)\n",
      "logLikely = np.sum(W_U.astype(np.float64).multiply (np.log(W_U_recons))) \n",
      "logLikely   # \"multiply\" method implements the hadamard product"
     ],
     "language": "python",
     "metadata": {},
     "outputs": [
      {
       "metadata": {},
       "output_type": "pyout",
       "prompt_number": 27,
       "text": [
        "-43649321.786195755"
       ]
      }
     ],
     "prompt_number": 27
    },
    {
     "cell_type": "code",
     "collapsed": false,
     "input": [
      "perplexity = np.exp(-logLikely / np.sum(W_U.data))\n",
      "perplexity"
     ],
     "language": "python",
     "metadata": {},
     "outputs": [
      {
       "metadata": {},
       "output_type": "pyout",
       "prompt_number": 28,
       "text": [
        "1551.9421059076624"
       ]
      }
     ],
     "prompt_number": 28
    },
    {
     "cell_type": "markdown",
     "metadata": {},
     "source": [
      "An interesting thing to note is that this is only 100 points greater than the perplexity with the Bohning bound, despite the fact that from manually eyeballing the results, the Bohning bound seems much better\n",
      "\n",
      "1. The Bohning bound topics are much more coherent, refering to a single semantic topic, whereas those for the Bouchard bound are an uncomfortably mix.\n",
      "  * For example the Bohning run gave separate topics for US Markets, US Politics and a few for Tennis, including one for Spanish-language Tennis. The Bouchard run has a single topic which is an unbelieveably mix of all these\n",
      "2. The Bouchard bound prefers hard assignments to topics, whereas the Bohning are soft. So it's just an awkward mixture model, with muddled topics \n",
      "\n",
      "I suppose I should consider whether my bound calcuation is indeed accurate or not?"
     ]
    },
    {
     "cell_type": "markdown",
     "metadata": {},
     "source": [
      "### Topic Assignments\n"
     ]
    },
    {
     "cell_type": "code",
     "collapsed": false,
     "input": [
      "dist = rowwise_softmax(b_query.means)\n",
      "fig, ax = plt.subplots(figsize=(10,35))\n",
      "\n",
      "im = plt.imshow(dist, interpolation=\"none\")\n",
      "\n",
      "cb = fig.colorbar(im, ax=ax)\n",
      "ax.set_title(\"Means Matrix\")"
     ],
     "language": "python",
     "metadata": {},
     "outputs": [
      {
       "metadata": {},
       "output_type": "pyout",
       "prompt_number": 29,
       "text": [
        "<matplotlib.text.Text at 0x114e6ca50>"
       ]
      },
      {
       "metadata": {},
       "output_type": "display_data",
       "png": "[encoded data removed]",
       "text": [
        "<matplotlib.figure.Figure at 0x114a6bb90>"
       ]
      }
     ],
     "prompt_number": 29
    },
    {
     "cell_type": "markdown",
     "metadata": {},
     "source": [
      "There are several muddled topics (see below). For example topic 13 is a mix of Beer fans and Spanish-language Tennis fans, but it's assigned mostly to beer users."
     ]
    },
    {
     "cell_type": "code",
     "collapsed": false,
     "input": [
      "printTopTweeters(topicId=13, minProb=0.7)"
     ],
     "language": "python",
     "metadata": {},
     "outputs": [
      {
       "output_type": "stream",
       "stream": "stdout",
       "text": [
        "4pawsbrewing\n",
        "AGonzalezAquino\n",
        "AbbeyStMartin\n",
        "AlmanacBeer\n",
        "AnarchyBrewCo\n",
        "AnchorBrewing\n",
        "ArgusBrewery\n",
        "ArranBrewery\n",
        "AtlasBrewing\n",
        "BHB_brews\n",
        "BeerAdvocate\n",
        "BeerAndSoulBlog\n",
        "BeerUnion\n",
        "Beer_Disciples\n",
        "Beer_Goddess\n",
        "BeersIveKnown\n",
        "Beertographer\n",
        "Bierschenke\n",
        "BreckBrew\n",
        "BrewEngland\n",
        "BullCityBurger\n",
        "DailyBeerNews\n",
        "DueSouthBrewing\n",
        "DukesJoint\n",
        "EHobbz\n",
        "FiremansBrew\n",
        "FirestoneWalker\n",
        "FullCircleBrews\n",
        "GarrisonBrewing\n",
        "Goats_Udder\n",
        "BreakPointBR\n"
       ]
      }
     ],
     "prompt_number": 30
    },
    {
     "cell_type": "markdown",
     "metadata": {},
     "source": [
      "However 19, which is a mix of Financial Markets, US Sports and US politics, had a very muddled user-base"
     ]
    },
    {
     "cell_type": "code",
     "collapsed": false,
     "input": [
      "printTopTweeters(topicId=19, minProb=0.7)"
     ],
     "language": "python",
     "metadata": {},
     "outputs": [
      {
       "output_type": "stream",
       "stream": "stdout",
       "text": [
        "CLPPtweets\n",
        "ChrisCQuinn\n",
        "CraryAP\n",
        "DemGovs\n",
        "ForbesWoman\n",
        "FriendsofUNFPA\n",
        "GOPChoice\n",
        "GovMarkDayton\n",
        "Guttmacher\n",
        "HealthCareGov\n",
        "IpasOrg\n",
        "Latinos4PP\n",
        "MaryKayHenry\n",
        "247WallSt\n",
        "4Tanguay\n",
        "5_min_macro\n",
        "ABWashBureau\n",
        "A_F\n",
        "AcrossTheCurve\n",
        "Alan_Duerden\n",
        "AndyHarless\n",
        "AndyLangenkamp\n",
        "AnnalynKurtz\n",
        "BChappatta\n",
        "BDAmerica\n",
        "BIConline\n",
        "Bank_of_Japan_e\n",
        "BeingRegulated\n",
        "BergenCapital\n",
        "BlackRaven999\n",
        "CorkEveningEcho\n",
        "AlbertoNardelli\n",
        "AlexSchriver\n",
        "4SaferInternet\n",
        "AAF\n",
        "AFPhq\n",
        "AHMalcolm\n",
        "AaronMcCready\n",
        "AlanJSanders\n",
        "AlexConant\n",
        "AliceLinahan\n",
        "baseball_ref\n"
       ]
      }
     ],
     "prompt_number": 31
    },
    {
     "cell_type": "markdown",
     "metadata": {},
     "source": [
      "Things which don't make much sense above include the juxtaposition of the Irish paper ```CorkEveningEcho``` the markets commentator ```Bank_of_Japan_e``` the Baseball fan ```baseball_ref``` the Philipines charity ```FriendsOfUNFPA``` and the political account ```DemGovs```"
     ]
    },
    {
     "cell_type": "markdown",
     "metadata": {},
     "source": [
      "### Mean and Covariance\n",
      "For reference the labels that could be assigned to topics based on their words would be\n",
      " \n",
      "* Topic 0 - Motorsport\n",
      "* Topic 1\n",
      "* Topic 2\n",
      "* Topic 3 Maybe the FilmCriticHulk account?\n",
      "* Topic 4 - US Sports\n",
      "* Topic 5\n",
      "* Topic 6\n",
      "* Topic 7\n",
      "* Topic 8 - Motorsport & Tennis?\n",
      "* Topic 9\n",
      "* Topic 10 - Maybe the Stones 50 Tour?\n",
      "* Topic 11\n",
      "* Topic 12 - US Politics\n",
      "* Topic 13 - Beer & (Spanish?) Tennis\n",
      "* Topic 14 - Tennis Fan\n",
      "* Topic 15 - Tennis\n",
      "* Topic 16 Mideast & US Politics\n",
      "* Topic 17 - Tennis?\n",
      "* Topic 18 - Spanish/Tennis/US-Markets\n",
      "* Topic 19 - US Politics / US-Markets / US Sports\n",
      " \n",
      "As can be seen a lot of these topics are very muddled."
     ]
    },
    {
     "cell_type": "code",
     "collapsed": false,
     "input": [
      "mu_b = np.exp(b_model.topicMean)\n",
      "mu_b /= np.sum(mu)\n",
      "mu_b = mu_b.reshape(1, len(mu_b))\n",
      "\n",
      "fig, ax = plt.subplots(figsize=(10,3))\n",
      "\n",
      "im = plt.imshow(mu_b, interpolation=\"none\")\n",
      "\n",
      "cb = fig.colorbar(im, ax=ax)\n",
      "ax.set_title(\"Prior Mean Vector\")"
     ],
     "language": "python",
     "metadata": {},
     "outputs": [
      {
       "metadata": {},
       "output_type": "pyout",
       "prompt_number": 32,
       "text": [
        "<matplotlib.text.Text at 0x114eec490>"
       ]
      },
      {
       "metadata": {},
       "output_type": "display_data",
       "png": "[encoded data removed]",
       "text": [
        "<matplotlib.figure.Figure at 0x114d47ed0>"
       ]
      }
     ],
     "prompt_number": 32
    },
    {
     "cell_type": "code",
     "collapsed": false,
     "input": [
      "# As integer percentages for readability\n",
      "(mu_b[0] * 100).astype(np.int32)"
     ],
     "language": "python",
     "metadata": {},
     "outputs": [
      {
       "metadata": {},
       "output_type": "pyout",
       "prompt_number": 33,
       "text": [
        "array([ 9, 29,  5, 13,  6,  5, 16,  6,  7,  5, 54, 17,  6, 26,  4, 22, 14,\n",
        "        5, 11, 52], dtype=int32)"
       ]
      }
     ],
     "prompt_number": 33
    },
    {
     "cell_type": "markdown",
     "metadata": {},
     "source": [
      "The high probability for topic-10, which seems vaguely related to the Rolling Stones 50th anniversary tour, is bizarre"
     ]
    },
    {
     "cell_type": "code",
     "collapsed": false,
     "input": [
      "fig, ax = plt.subplots(figsize=(11,9))\n",
      "\n",
      "im = plt.imshow(b_model.sigT, interpolation=\"none\")\n",
      "\n",
      "cb = fig.colorbar(im, ax=ax)\n",
      "ax.set_title(\"Covariance Matrix\")"
     ],
     "language": "python",
     "metadata": {},
     "outputs": [
      {
       "metadata": {},
       "output_type": "pyout",
       "prompt_number": 34,
       "text": [
        "<matplotlib.text.Text at 0x114e679d0>"
       ]
      },
      {
       "metadata": {},
       "output_type": "display_data",
       "png": "[encoded data removed]",
       "text": [
        "<matplotlib.figure.Figure at 0x114e438d0>"
       ]
      }
     ],
     "prompt_number": 34
    },
    {
     "cell_type": "markdown",
     "metadata": {},
     "source": [
      "Given the hard assignments, it's perhaps not unexpected to see such a diagonal variance. Worth nothing is the high variance around topic-10, which is the topic with greatest prior probability"
     ]
    },
    {
     "cell_type": "markdown",
     "metadata": {},
     "source": [
      "# TF-IDF Word Topic Table"
     ]
    },
    {
     "cell_type": "code",
     "collapsed": false,
     "input": [
      "counts = W_U.astype(np.float64).sum(axis = 0)\n",
      "freq = counts.astype(np.float64) / counts.sum()\n",
      "freq = np.squeeze(np.asarray(freq))\n",
      "freq += 1E-300"
     ],
     "language": "python",
     "metadata": {},
     "outputs": [],
     "prompt_number": 129
    },
    {
     "cell_type": "code",
     "collapsed": false,
     "input": [
      "import itertools\n",
      "d = list(itertools.chain.from_iterable(words))"
     ],
     "language": "python",
     "metadata": {},
     "outputs": [],
     "prompt_number": 130
    },
    {
     "cell_type": "code",
     "collapsed": false,
     "input": [
      "denom = 1 + freq"
     ],
     "language": "python",
     "metadata": {},
     "outputs": [],
     "prompt_number": 131
    },
    {
     "cell_type": "code",
     "collapsed": false,
     "input": [
      "w_dat_copy = W_U.data.copy()\n",
      "w_dat_copy[w_dat_copy > 1] = 1\n",
      "W2 = ssp.csr_matrix((w_dat_copy.astype(np.float64), W_U.indices, W_U.indptr))\n",
      "\n",
      "df = np.squeeze(np.asarray(W2.sum(axis=0)))\n",
      "idf = W_U.shape[0] / (1 + df)\n",
      "\n",
      "lidf = np.log(idf)"
     ],
     "language": "python",
     "metadata": {},
     "outputs": [],
     "prompt_number": 162
    },
    {
     "cell_type": "code",
     "collapsed": false,
     "input": [
      "lidf"
     ],
     "language": "python",
     "metadata": {},
     "outputs": [
      {
       "metadata": {},
       "output_type": "pyout",
       "prompt_number": 198,
       "text": [
        "array([ 5.78382518,  5.78382518,  5.78382518, ...,  5.78382518,\n",
        "        5.090678  ,  4.68521289])"
       ]
      }
     ],
     "prompt_number": 198
    },
    {
     "cell_type": "code",
     "collapsed": false,
     "input": [
      "def topWordInds (wordDict, vocab, count=10):\n",
      "    return vocab.argsort()[-count:][::-1]\n",
      "    "
     ],
     "language": "python",
     "metadata": {},
     "outputs": [],
     "prompt_number": 132
    },
    {
     "cell_type": "code",
     "collapsed": false,
     "input": [
      "topCount = 20\n",
      "kTopWordsIdf = [topWordInds(d, b_model.vocab[k,:] * lidf, count=topCount) for k in range(a_model.K)]"
     ],
     "language": "python",
     "metadata": {},
     "outputs": [],
     "prompt_number": 201
    },
    {
     "cell_type": "code",
     "collapsed": false,
     "input": [
      "topWordsTable = [[d[kTopWordsIdf[k][c]] \\\n",
      "+ \"\\t%0.4f\" % b_model.vocab[k][kTopWordsIdf[k][c]] \\\n",
      "for c in range(topCount)] for k in range(a_model.K)]"
     ],
     "language": "python",
     "metadata": {},
     "outputs": [],
     "prompt_number": 202
    },
    {
     "cell_type": "code",
     "collapsed": false,
     "input": [
      "topWordsTable"
     ],
     "language": "python",
     "metadata": {},
     "outputs": [
      {
       "metadata": {},
       "output_type": "pyout",
       "prompt_number": 203,
       "text": [
        "[['#f1\\t0.0047',\n",
        "  '#gp2\\t0.0027',\n",
        "  '#repost\\t0.0016',\n",
        "  'f1\\t0.0031',\n",
        "  '#nascar\\t0.0019',\n",
        "  ':-)\\t0.0029',\n",
        "  'race\\t0.0065',\n",
        "  ';-)\\t0.0024',\n",
        "  'tyre\\t0.0014',\n",
        "  'lewlew\\t0.0006',\n",
        "  'car\\t0.0062',\n",
        "  '#indycar\\t0.0008',\n",
        "  'driver\\t0.0029',\n",
        "  'ferrari\\t0.0012',\n",
        "  'monaco\\t0.0011',\n",
        "  'fia\\t0.0007',\n",
        "  'vettel\\t0.0008',\n",
        "  'mclaren\\t0.0008',\n",
        "  'nascar\\t0.0008',\n",
        "  'prix\\t0.0008'],\n",
        " ['io\\t0.0016',\n",
        "  ':)\\t0.0040',\n",
        "  've\\t0.0016',\n",
        "  'll\\t0.0015',\n",
        "  'app\\t0.0027',\n",
        "  'don\\t0.0023',\n",
        "  'appl\\t0.0018',\n",
        "  'didn\\t0.0007',\n",
        "  'column\\t0.0009',\n",
        "  ';)\\t0.0013',\n",
        "  're\\t0.0022',\n",
        "  \"i'm\\t0.0048\",\n",
        "  'doesn\\t0.0007',\n",
        "  'wwdc\\t0.0004',\n",
        "  'yeah\\t0.0018',\n",
        "  'me\\t0.0077',\n",
        "  'beta\\t0.0003',\n",
        "  'isn\\t0.0004',\n",
        "  'am\\t0.0029',\n",
        "  ':(\\t0.0007'],\n",
        " ['ann\\t0.0115',\n",
        "  '#ann\\t0.0017',\n",
        "  'theatr\\t0.0028',\n",
        "  'matine\\t0.0012',\n",
        "  \"b'wai\\t0.0008\",\n",
        "  'perf\\t0.0009',\n",
        "  'cice\\t0.0007',\n",
        "  'tnx\\t0.0006',\n",
        "  'xox\\t0.0006',\n",
        "  '#chs\\t0.0005',\n",
        "  '151\\t0.0007',\n",
        "  'xo\\t0.0007',\n",
        "  'yow\\t0.0005',\n",
        "  'nite\\t0.0007',\n",
        "  'beaumont\\t0.0004',\n",
        "  '#sc1\\t0.0004',\n",
        "  'wig\\t0.0009',\n",
        "  'mebb\\t0.0004',\n",
        "  'richard\\t0.0019',\n",
        "  'damb\\t0.0003'],\n",
        " ['hulk\\t0.0092',\n",
        "  'libertarian\\t0.0007',\n",
        "  'erickson\\t0.0004',\n",
        "  'movi\\t0.0020',\n",
        "  'rape\\t0.0008',\n",
        "  'lol\\t0.0012',\n",
        "  'abort\\t0.0006',\n",
        "  'feminist\\t0.0004',\n",
        "  'fuck\\t0.0007',\n",
        "  '#d11\\t0.0002',\n",
        "  'h/t\\t0.0004',\n",
        "  \"i'm\\t0.0038\",\n",
        "  'nsa\\t0.0005',\n",
        "  'zuck\\t0.0002',\n",
        "  'yeah\\t0.0017',\n",
        "  'women\\t0.0017',\n",
        "  'obama\\t0.0008',\n",
        "  'gop\\t0.0004',\n",
        "  'sidnei\\t0.0002',\n",
        "  'conserv\\t0.0005'],\n",
        " ['#49ers\\t0.0072',\n",
        "  'yanke\\t0.0085',\n",
        "  'rivera\\t0.0019',\n",
        "  'girardi\\t0.0014',\n",
        "  'harbaugh\\t0.0011',\n",
        "  'brief\\t0.0036',\n",
        "  'cashman\\t0.0009',\n",
        "  '#camp49\\t0.0008',\n",
        "  'roundup\\t0.0015',\n",
        "  'jeter\\t0.0010',\n",
        "  'sport\\t0.0053',\n",
        "  'pettitt\\t0.0008',\n",
        "  'cano\\t0.0011',\n",
        "  'joba\\t0.0007',\n",
        "  'mariano\\t0.0009',\n",
        "  'a-rod\\t0.0012',\n",
        "  'qb\\t0.0011',\n",
        "  'sabathia\\t0.0007',\n",
        "  'wr\\t0.0009',\n",
        "  'in\\t0.0014'],\n",
        " ['olli\\t0.0187',\n",
        "  'arran\\t0.0067',\n",
        "  'tj\\t0.0050',\n",
        "  'reg\\t0.0048',\n",
        "  'dan\\t0.0094',\n",
        "  'jess\\t0.0058',\n",
        "  'delai\\t0.0114',\n",
        "  'carriag\\t0.0025',\n",
        "  'georgi\\t0.0021',\n",
        "  'heather\\t0.0035',\n",
        "  'firstgroup.com\\t0.0014',\n",
        "  'sorri\\t0.0258',\n",
        "  'train\\t0.0139',\n",
        "  'eli\\t0.0025',\n",
        "  'fgwfeedback\\t0.0012',\n",
        "  'journei\\t0.0047',\n",
        "  'paul\\t0.0073',\n",
        "  'log\\t0.0035',\n",
        "  'apologi\\t0.0046',\n",
        "  'paddington\\t0.0015'],\n",
        " ['#archives\\t0.0008',\n",
        "  '#kofiannanlive\\t0.0007',\n",
        "  '#3benchguy\\t0.0006',\n",
        "  'annan\\t0.0005',\n",
        "  'recip\\t0.0021',\n",
        "  'bandra\\t0.0004',\n",
        "  '#coloursofperu\\t0.0004',\n",
        "  'bluffer\\t0.0004',\n",
        "  '#recipeoftheday\\t0.0004',\n",
        "  'food52\\t0.0003',\n",
        "  'cronut\\t0.0006',\n",
        "  ':)\\t0.0030',\n",
        "  '#apstylechat\\t0.0003',\n",
        "  '#youth\\t0.0003',\n",
        "  '#supportworks\\t0.0003',\n",
        "  'mumbai\\t0.0004',\n",
        "  'salad\\t0.0010',\n",
        "  '#royalprincess\\t0.0002',\n",
        "  'dessert\\t0.0007',\n",
        "  'fu\\t0.0004'],\n",
        " ['#britishveg\\t0.0019',\n",
        "  'tooth\\t0.0009',\n",
        "  '#ashes\\t0.0006',\n",
        "  'babe\\t0.0009',\n",
        "  'bean\\t0.0013',\n",
        "  'veg\\t0.0007',\n",
        "  '#f1\\t0.0006',\n",
        "  'er\\t0.0008',\n",
        "  'carnal\\t0.0002',\n",
        "  'camaro\\t0.0003',\n",
        "  'shed\\t0.0006',\n",
        "  'henlei\\t0.0002',\n",
        "  'bloodi\\t0.0007',\n",
        "  \"i'm\\t0.0045\",\n",
        "  ';)\\t0.0011',\n",
        "  'sow\\t0.0003',\n",
        "  'pub\\t0.0009',\n",
        "  'garden\\t0.0011',\n",
        "  'gin\\t0.0006',\n",
        "  'compost\\t0.0002'],\n",
        " [':)\\t0.0110',\n",
        "  '#f1\\t0.0025',\n",
        "  'lol\\t0.0040',\n",
        "  ';)\\t0.0036',\n",
        "  ':d\\t0.0018',\n",
        "  '\u2665\\t0.0009',\n",
        "  'tenni\\t0.0020',\n",
        "  'race\\t0.0036',\n",
        "  '#eurovision2013\\t0.0006',\n",
        "  'mungo\\t0.0006',\n",
        "  \"i'm\\t0.0093\",\n",
        "  'berdi\\t0.0006',\n",
        "  ':p\\t0.0011',\n",
        "  'serena\\t0.0011',\n",
        "  ';-)\\t0.0011',\n",
        "  'tl\\t0.0008',\n",
        "  'haha\\t0.0017',\n",
        "  ':(\\t0.0015',\n",
        "  'im\\t0.0011',\n",
        "  'nando\\t0.0005'],\n",
        " ['fuck\\t0.0043',\n",
        "  'sisko\\t0.0005',\n",
        "  ';)\\t0.0026',\n",
        "  'clapham\\t0.0006',\n",
        "  'beer\\t0.0032',\n",
        "  \"i'm\\t0.0083\",\n",
        "  'bastard\\t0.0009',\n",
        "  'pub\\t0.0016',\n",
        "  'hamster\\t0.0005',\n",
        "  'bc\\t0.0008',\n",
        "  'yeah\\t0.0031',\n",
        "  'drink\\t0.0034',\n",
        "  'pint\\t0.0009',\n",
        "  'mate\\t0.0010',\n",
        "  ':)\\t0.0024',\n",
        "  'wank\\t0.0004',\n",
        "  'pup\\t0.0005',\n",
        "  'junction\\t0.0003',\n",
        "  '#eurovision\\t0.0005',\n",
        "  'haha\\t0.0012'],\n",
        " ['#stones50\\t0.0023',\n",
        "  '#gp3\\t0.0024',\n",
        "  '#doop\\t0.0011',\n",
        "  'http://dirtywars.org\\t0.0010',\n",
        "  '#frifotos\\t0.0010',\n",
        "  '#hitthefloor\\t0.0012',\n",
        "  '#stoneshydepark\\t0.0008',\n",
        "  '#nwsl\\t0.0008',\n",
        "  '\u25b8\\t0.0008',\n",
        "  '#travel\\t0.0010',\n",
        "  'theater\\t0.0014',\n",
        "  '#dirtywars\\t0.0005',\n",
        "  'xx\\t0.0011',\n",
        "  '#turin\\t0.0004',\n",
        "  'film\\t0.0037',\n",
        "  ':-)\\t0.0015',\n",
        "  'rowlei\\t0.0004',\n",
        "  ':)\\t0.0037',\n",
        "  'argan\\t0.0004',\n",
        "  '#mls\\t0.0004'],\n",
        " [':)\\t0.0117',\n",
        "  '#indycar\\t0.0013',\n",
        "  'butcomb\\t0.0008',\n",
        "  '#beerbods\\t0.0006',\n",
        "  '#bgcomp\\t0.0005',\n",
        "  '#teamcyclopsgear\\t0.0004',\n",
        "  'beer\\t0.0035',\n",
        "  ';-)\\t0.0013',\n",
        "  '\u1f52A\\t0.0004',\n",
        "  'haha\\t0.0018',\n",
        "  'xx\\t0.0008',\n",
        "  '#indy500\\t0.0004',\n",
        "  ';)\\t0.0017',\n",
        "  ':-(\\t0.0006',\n",
        "  \"i'm\\t0.0053\",\n",
        "  '#indylights\\t0.0002',\n",
        "  'fuck\\t0.0009',\n",
        "  ':d\\t0.0007',\n",
        "  ':-)\\t0.0007',\n",
        "  ':(\\t0.0009'],\n",
        " ['gop\\t0.0074',\n",
        "  'obama\\t0.0137',\n",
        "  'senat\\t0.0057',\n",
        "  'obamacar\\t0.0036',\n",
        "  'republican\\t0.0041',\n",
        "  'congressman\\t0.0018',\n",
        "  'cuccinelli\\t0.0015',\n",
        "  'clinton\\t0.0027',\n",
        "  'hillari\\t0.0017',\n",
        "  'immigr\\t0.0026',\n",
        "  'syria\\t0.0028',\n",
        "  'gai\\t0.0039',\n",
        "  'snowden\\t0.0021',\n",
        "  'democrat\\t0.0023',\n",
        "  'cruz\\t0.0019',\n",
        "  'weiner\\t0.0016',\n",
        "  'rand\\t0.0012',\n",
        "  'lawmak\\t0.0014',\n",
        "  'abort\\t0.0018',\n",
        "  'ir\\t0.0019'],\n",
        " ['#craftbeer\\t0.0132',\n",
        "  '#beer\\t0.0099',\n",
        "  'contra\\t0.0035',\n",
        "  '#usopen\\t0.0044',\n",
        "  'beer\\t0.0157',\n",
        "  'brew\\t0.0077',\n",
        "  'por\\t0.0037',\n",
        "  'venceu\\t0.0014',\n",
        "  'breweri\\t0.0046',\n",
        "  'confirma\\t0.0018',\n",
        "  '#atp\\t0.0024',\n",
        "  'jogo\\t0.0013',\n",
        "  'quebra\\t0.0012',\n",
        "  'que\\t0.0029',\n",
        "  'tem\\t0.0012',\n",
        "  'uma\\t0.0013',\n",
        "  'na\\t0.0034',\n",
        "  'para\\t0.0026',\n",
        "  'nadal\\t0.0033',\n",
        "  '1\u00ba\\t0.0012'],\n",
        " ['lol\\t0.0160',\n",
        "  'novak\\t0.0041',\n",
        "  ':d\\t0.0051',\n",
        "  ':p\\t0.0036',\n",
        "  '<3\\t0.0024',\n",
        "  'girlio\\t0.0007',\n",
        "  ':)\\t0.0070',\n",
        "  'hee\\t0.0012',\n",
        "  ';)\\t0.0043',\n",
        "  'nole\\t0.0015',\n",
        "  'elena\\t0.0014',\n",
        "  'rotfl\\t0.0006',\n",
        "  'tenni\\t0.0026',\n",
        "  'kiersten\\t0.0006',\n",
        "  'eric\\t0.0017',\n",
        "  \"i'm\\t0.0115\",\n",
        "  'nadal\\t0.0014',\n",
        "  'haha\\t0.0025',\n",
        "  'match\\t0.0036',\n",
        "  'okai\\t0.0018'],\n",
        " ['serena\\t0.0044',\n",
        "  '#usopen\\t0.0024',\n",
        "  'rafa\\t0.0026',\n",
        "  '#rg13\\t0.0022',\n",
        "  '#wimbledon\\t0.0025',\n",
        "  'match\\t0.0066',\n",
        "  '#espntennis\\t0.0009',\n",
        "  'tenni\\t0.0031',\n",
        "  'nadal\\t0.0020',\n",
        "  'lol\\t0.0033',\n",
        "  'isner\\t0.0014',\n",
        "  'djokov\\t0.0016',\n",
        "  'vika\\t0.0013',\n",
        "  '#protour\\t0.0005',\n",
        "  'wimbledon\\t0.0017',\n",
        "  '#espnwimbledon\\t0.0005',\n",
        "  'tiebreak\\t0.0010',\n",
        "  'murrai\\t0.0017',\n",
        "  'delpo\\t0.0009',\n",
        "  '#cincytennis\\t0.0006'],\n",
        " ['#egypt\\t0.0053',\n",
        "  '#syria\\t0.0034',\n",
        "  '#morsi\\t0.0015',\n",
        "  '#nsa\\t0.0021',\n",
        "  '#nerdland\\t0.0010',\n",
        "  '#israel\\t0.0013',\n",
        "  '#1in3\\t0.0009',\n",
        "  'egypt\\t0.0025',\n",
        "  '#antichoice\\t0.0009',\n",
        "  'listag\\t0.0008',\n",
        "  '#obama\\t0.0012',\n",
        "  '#wef\\t0.0007',\n",
        "  'militari\\t0.0027',\n",
        "  '#turkey\\t0.0010',\n",
        "  'palestinian\\t0.0010',\n",
        "  '#snowden\\t0.0010',\n",
        "  '#worldbrief\\t0.0006',\n",
        "  '#saudi\\t0.0006',\n",
        "  'ht\\t0.0011',\n",
        "  'via\\t0.0115'],\n",
        " ['vika\\t0.0027',\n",
        "  'serena\\t0.0023',\n",
        "  'tenni\\t0.0029',\n",
        "  'player\\t0.0039',\n",
        "  'sob\\t0.0013',\n",
        "  'fede\\t0.0006',\n",
        "  'barca\\t0.0008',\n",
        "  'elina\\t0.0007',\n",
        "  'petra\\t0.0011',\n",
        "  'she\\t0.0099',\n",
        "  'wta\\t0.0011',\n",
        "  'match\\t0.0035',\n",
        "  'uso\\t0.0009',\n",
        "  'wimbledon\\t0.0014',\n",
        "  'tbf\\t0.0005',\n",
        "  'jmdp\\t0.0006',\n",
        "  'djokov\\t0.0009',\n",
        "  'nadal\\t0.0009',\n",
        "  'lol\\t0.0017',\n",
        "  'masha\\t0.0006'],\n",
        " ['coolpix\\t0.0196',\n",
        "  'wr\\t0.0048',\n",
        "  'que\\t0.0058',\n",
        "  'en\\t0.0099',\n",
        "  'ctd\\t0.0026',\n",
        "  'el\\t0.0080',\n",
        "  'ch\\t0.0032',\n",
        "  'downgrad\\t0.0028',\n",
        "  'lo\\t0.0049',\n",
        "  'de\\t0.0134',\n",
        "  'seed\\t0.0049',\n",
        "  'pt\\t0.0038',\n",
        "  'la\\t0.0110',\n",
        "  '10k\\t0.0027',\n",
        "  '$aapl\\t0.0016',\n",
        "  'r1\\t0.0021',\n",
        "  'por\\t0.0024',\n",
        "  'benzinga\\t0.0011',\n",
        "  'para\\t0.0025',\n",
        "  'es\\t0.0029'],\n",
        " ['b-r\\t0.0063',\n",
        "  '#tcot\\t0.0028',\n",
        "  'sheet\\t0.0063',\n",
        "  '05pm\\t0.0018',\n",
        "  'et\\t0.0064',\n",
        "  'stat\\t0.0064',\n",
        "  'tibh\\t0.0012',\n",
        "  '10pm\\t0.0026',\n",
        "  'vs\\t0.0067',\n",
        "  'cscope\\t0.0007',\n",
        "  '#stopcommoncore\\t0.0007',\n",
        "  '#lgbt\\t0.0011',\n",
        "  '#txed\\t0.0007',\n",
        "  '#abortion\\t0.0010',\n",
        "  'obama\\t0.0034',\n",
        "  '#obamacare\\t0.0011',\n",
        "  '#stopcscope\\t0.0005',\n",
        "  '#eurozone\\t0.0005',\n",
        "  '#women\\t0.0008',\n",
        "  '#eurocrisis\\t0.0005']]"
       ]
      }
     ],
     "prompt_number": 203
    },
    {
     "cell_type": "code",
     "collapsed": false,
     "input": [],
     "language": "python",
     "metadata": {},
     "outputs": []
    }
   ],
   "metadata": {}
  }
 ]
}